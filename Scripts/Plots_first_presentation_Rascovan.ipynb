{
 "cells": [
  {
   "cell_type": "code",
   "execution_count": null,
   "id": "5e08585e",
   "metadata": {
    "slideshow": {
     "slide_type": "skip"
    },
    "tags": [
     "to_remove"
    ]
   },
   "outputs": [],
   "source": [
    "import pandas as pd\n",
    "import numpy as np\n",
    "import plotly.graph_objects as go\n",
    "import plotly.express as px\n",
    "import itertools\n",
    "import random\n",
    "\n",
    "SRR_aMetagenomes=pd.read_table(\"Metadata/aMetagenomes/SRR_aMetagenomes.txt\", names=[\"Accession\"])\n",
    "aMetagenomes_SRStoSRR=pd.read_table(\"Metadata/aMetagenomes/aMetagenomes_SRStoSRR.tsv\",names=[\"archive_accession\",\"SRR_accession\"])"
   ]
  },
  {
   "cell_type": "code",
   "execution_count": null,
   "id": "ed81ead3",
   "metadata": {
    "slideshow": {
     "slide_type": "skip"
    },
    "tags": [
     "to_remove"
    ]
   },
   "outputs": [],
   "source": [
    "aMetagenomes_metadata=pd.read_table(\"Metadata/aMetagenomes/aMetagenomes.txt\")\n",
    "#Create one row per archive_accession\n",
    "aMetagenomes_metadata=aMetagenomes_metadata.assign(archive_accession=aMetagenomes_metadata['archive_accession'].str.split(',')).explode('archive_accession')\n",
    "aMetagenomes_metadata=aMetagenomes_metadata.reset_index()\n",
    "aMetagenomes_metadata=aMetagenomes_metadata[aMetagenomes_metadata[\"archive\"]==\"SRA\"]\n",
    "aMetagenomes_metadata.shape"
   ]
  },
  {
   "cell_type": "code",
   "execution_count": null,
   "id": "94ce9cab",
   "metadata": {
    "slideshow": {
     "slide_type": "skip"
    },
    "tags": [
     "to_remove"
    ]
   },
   "outputs": [],
   "source": [
    "SRR_aMetagenomes=pd.read_table(\"Metadata/aMetagenomes/SRR_aMetagenomes.txt\",names=[\"SRR_accession\"])\n",
    "a=pd.merge(aMetagenomes_SRStoSRR,SRR_aMetagenomes,on=\"SRR_accession\",how=\"inner\")\n",
    "aMetagenomes_metadata=pd.merge(aMetagenomes_metadata,aMetagenomes_SRStoSRR,on=\"archive_accession\",how=\"inner\")"
   ]
  },
  {
   "cell_type": "code",
   "execution_count": null,
   "id": "20fdf4ea",
   "metadata": {
    "slideshow": {
     "slide_type": "skip"
    },
    "tags": [
     "to_remove"
    ]
   },
   "outputs": [],
   "source": [
    "combination_fof=pd.read_table(\"kmMatrices/combination/combination_fof.txt\",header=None)\n",
    "def remove_accessions(row):\n",
    "    accession=row[0].split(\" \")[0]\n",
    "    return accession\n",
    "combination_accessions=combination_fof.apply(remove_accessions,axis=1)"
   ]
  },
  {
   "cell_type": "code",
   "execution_count": null,
   "id": "ed4bcbc8",
   "metadata": {
    "slideshow": {
     "slide_type": "skip"
    },
    "tags": [
     "to_remove"
    ]
   },
   "outputs": [],
   "source": [
    "combination_accessions.to_csv(\"Metadata/combination/combination_accessions.csv\",header=False)"
   ]
  },
  {
   "cell_type": "code",
   "execution_count": null,
   "id": "5fe257a1",
   "metadata": {
    "slideshow": {
     "slide_type": "skip"
    },
    "tags": [
     "to_remove"
    ]
   },
   "outputs": [],
   "source": [
    "combination_accessions=pd.read_csv(\"Metadata/combination/combination_accessions.csv\",names=[\"Run_accession\"],index_col=0)"
   ]
  },
  {
   "cell_type": "code",
   "execution_count": null,
   "id": "697c9d30",
   "metadata": {
    "slideshow": {
     "slide_type": "skip"
    },
    "tags": [
     "to_remove"
    ]
   },
   "outputs": [],
   "source": [
    "combination_accessions.head()"
   ]
  },
  {
   "cell_type": "code",
   "execution_count": null,
   "id": "0f85aebc",
   "metadata": {
    "slideshow": {
     "slide_type": "skip"
    },
    "tags": [
     "to_remove"
    ]
   },
   "outputs": [],
   "source": [
    "aMetagenomes_metadata=aMetagenomes_metadata.rename(columns={\"SRR_accession\":\"Run_accession\"})"
   ]
  },
  {
   "cell_type": "code",
   "execution_count": null,
   "id": "e456c046",
   "metadata": {
    "slideshow": {
     "slide_type": "skip"
    },
    "tags": [
     "to_remove"
    ]
   },
   "outputs": [],
   "source": [
    "aMetagenomes_metadata.merge(combination_accessions,on=\"Run_accession\")"
   ]
  },
  {
   "cell_type": "code",
   "execution_count": null,
   "id": "e23cfb62",
   "metadata": {
    "slideshow": {
     "slide_type": "skip"
    },
    "tags": [
     "to_remove"
    ]
   },
   "outputs": [],
   "source": [
    "aSGenomes_metadata=pd.read_table(\"Metadata/aSGenomes/aSGenomes.txt\")\n",
    "#Create one row per archive_accession\n",
    "aSGenomes_metadata=aSGenomes_metadata.assign(archive_accession=aSGenomes_metadata['archive_accession'].str.split(',')).explode('archive_accession')\n",
    "aSGenomes_metadata=aSGenomes_metadata.reset_index()\n",
    "aSGenomes_metadata=aSGenomes_metadata.drop(\"index\",axis=1)\n",
    "aSGenomes_metadata.shape"
   ]
  },
  {
   "cell_type": "code",
   "execution_count": null,
   "id": "77ec4a61",
   "metadata": {
    "slideshow": {
     "slide_type": "skip"
    },
    "tags": [
     "to_remove"
    ]
   },
   "outputs": [],
   "source": [
    "aSGenomes_metadata=aSGenomes_metadata.assign(archive_accession=aSGenomes_metadata['archive_accession'].str.split(',')).explode('archive_accession')\n",
    "aSGenomes_metadata=aSGenomes_metadata.reset_index()\n",
    "aSGenomes_metadata.shape"
   ]
  },
  {
   "cell_type": "code",
   "execution_count": null,
   "id": "e22bc32d",
   "metadata": {
    "slideshow": {
     "slide_type": "skip"
    },
    "tags": [
     "to_remove"
    ]
   },
   "outputs": [],
   "source": [
    "aSGenomes_SRStoSRR=pd.read_csv(\"Metadata/aSGenomes/aSGenomes_SRStoSRR.tsv\", delimiter=\"\\t\",names=[\"archive_accession\",\"Run_accession\"])\n",
    "aSGenomes_ERStoERR=pd.read_csv(\"Metadata/aSGenomes/aSGenomes_ERStoERR.tsv\",delimiter=\"\\t\",names=[\"archive_accession\",\"Run_accession\"])\n",
    "sample2run=aSGenomes_ERStoERR.append(aSGenomes_SRStoSRR)"
   ]
  },
  {
   "cell_type": "code",
   "execution_count": null,
   "id": "9e264ec2",
   "metadata": {
    "slideshow": {
     "slide_type": "skip"
    },
    "tags": [
     "to_remove"
    ]
   },
   "outputs": [],
   "source": [
    "aSGenomes_metadata=aSGenomes_metadata.merge(sample2run,on=\"archive_accession\",how=\"left\")\n",
    "aSGenomes_metadata=aSGenomes_metadata.reset_index()\n",
    "aSGenomes_metadata=aSGenomes_metadata.drop(\"index\",axis=1)\n",
    "aSGenomes_metadata.drop_duplicates(inplace=True)\n"
   ]
  },
  {
   "cell_type": "code",
   "execution_count": null,
   "id": "8c573164",
   "metadata": {
    "slideshow": {
     "slide_type": "skip"
    },
    "tags": [
     "to_remove"
    ]
   },
   "outputs": [],
   "source": [
    "aSGenomes_HS_Oral=pd.read_csv(\"Metadata/aSGenomes/aSGenomes_HS_Oral_SRR.txt\",names=[\"Run_accession\"])\n",
    "aSGenomes_HS_Oral"
   ]
  },
  {
   "cell_type": "code",
   "execution_count": null,
   "id": "7c1672b3",
   "metadata": {
    "slideshow": {
     "slide_type": "skip"
    },
    "tags": [
     "to_remove"
    ]
   },
   "outputs": [],
   "source": [
    "aSGenomes_HS_Oral_metadata=aSGenomes_metadata.merge(aSGenomes_HS_Oral,on=\"Run_accession\")\n",
    "aSGenomes_HS_Oral_metadata=aSGenomes_HS_Oral_metadata.drop(\"level_0\",axis=1)"
   ]
  },
  {
   "cell_type": "code",
   "execution_count": null,
   "id": "f1a436b7",
   "metadata": {
    "slideshow": {
     "slide_type": "skip"
    },
    "tags": [
     "to_remove"
    ]
   },
   "outputs": [],
   "source": [
    "aMetagenomes_HS_Oral_metadata=aMetagenomes_metadata[(aMetagenomes_metadata[\"sample_host\"]==\"Homo sapiens\")\\\n",
    "                                  & (aMetagenomes_metadata[\"community_type\"]==\"oral\")]\n",
    "aMetagenomes_HS_Oral_metadata=aMetagenomes_HS_Oral_metadata.reset_index()\n",
    "aMetagenomes_HS_Oral_metadata=aMetagenomes_HS_Oral_metadata.drop([\"level_0\",\"index\"],axis=1)"
   ]
  },
  {
   "cell_type": "code",
   "execution_count": null,
   "id": "95d654e5",
   "metadata": {
    "slideshow": {
     "slide_type": "skip"
    },
    "tags": [
     "to_remove"
    ]
   },
   "outputs": [],
   "source": [
    "mMetagenome_metadata_1=pd.read_csv(\"Metadata/mMetagenomes/mMetagenomes_metadata_1.txt\",delimiter=\",\")\n",
    "mMetagenome_metadata_1.rename(columns={\"env_material\":\"material\"},inplace=True)\n",
    "mMetagenome_metadata_2=pd.read_csv(\"Metadata/mMetagenomes/mMetagenomes_metadata_2.txt\",delimiter=\",\")\n",
    "mMetagenome_metadata_2.rename(columns={\"specific_host\":\"Host\",'isolation-source':\"material\",\\\n",
    "                        \"geographic_location_(country_and/or_sea region)\":\"geo_loc_name\"},inplace=True)\n",
    "mMetagenome_metadata_3=pd.read_csv(\"Metadata/mMetagenomes/mMetagenomes_metadata_3.txt\",delimiter=\",\")\n",
    "mMetagenome_metadata_3.rename(columns={\"env_biome\":\"material\"},inplace=True)"
   ]
  },
  {
   "cell_type": "code",
   "execution_count": null,
   "id": "18042eef",
   "metadata": {
    "slideshow": {
     "slide_type": "skip"
    },
    "tags": [
     "to_remove"
    ]
   },
   "outputs": [],
   "source": [
    "frames=[mMetagenome_metadata_1,mMetagenome_metadata_2,mMetagenome_metadata_3]\n",
    "common_cols = list(set.intersection(*(set(df.columns) for df in frames)))\n",
    "mMetagenome_metadata=pd.concat([df[common_cols] for df in frames], ignore_index=True)"
   ]
  },
  {
   "cell_type": "code",
   "execution_count": null,
   "id": "91cee014",
   "metadata": {
    "slideshow": {
     "slide_type": "skip"
    },
    "tags": [
     "to_remove"
    ]
   },
   "outputs": [],
   "source": [
    "mMetagenome_metadata.rename(columns={'Sample Name':'sample_name','BioProject':'archive_project','Run':'Run_accession'\\\n",
    "                                    },inplace=True)"
   ]
  },
  {
   "cell_type": "code",
   "execution_count": null,
   "id": "0114b2fa",
   "metadata": {
    "slideshow": {
     "slide_type": "skip"
    },
    "tags": [
     "to_remove"
    ]
   },
   "outputs": [],
   "source": [
    "aMetagenomes_HS_Oral_metadata.columns"
   ]
  },
  {
   "cell_type": "code",
   "execution_count": null,
   "id": "59edfc2a",
   "metadata": {
    "slideshow": {
     "slide_type": "skip"
    },
    "tags": [
     "to_remove"
    ]
   },
   "outputs": [],
   "source": [
    "mMetagenome_metadata_1.columns"
   ]
  },
  {
   "cell_type": "code",
   "execution_count": null,
   "id": "7c1870b2",
   "metadata": {
    "slideshow": {
     "slide_type": "skip"
    },
    "tags": [
     "to_remove"
    ]
   },
   "outputs": [],
   "source": [
    "mMetagenome_metadata_2.columns"
   ]
  },
  {
   "cell_type": "code",
   "execution_count": null,
   "id": "7ca12478",
   "metadata": {
    "slideshow": {
     "slide_type": "skip"
    },
    "tags": [
     "to_remove"
    ]
   },
   "outputs": [],
   "source": [
    "mMetagenome_metadata_3.columns"
   ]
  },
  {
   "cell_type": "code",
   "execution_count": null,
   "id": "6c8a1d72",
   "metadata": {
    "slideshow": {
     "slide_type": "skip"
    },
    "tags": [
     "to_remove"
    ]
   },
   "outputs": [],
   "source": [
    "aMetagenomes_HS_Oral_metadata.columns"
   ]
  },
  {
   "cell_type": "code",
   "execution_count": null,
   "id": "490d566d",
   "metadata": {
    "slideshow": {
     "slide_type": "skip"
    },
    "tags": [
     "to_remove"
    ]
   },
   "outputs": [],
   "source": [
    "mMetagenome_metadata.columns"
   ]
  },
  {
   "cell_type": "code",
   "execution_count": null,
   "id": "dc4ef2f1",
   "metadata": {
    "slideshow": {
     "slide_type": "skip"
    },
    "tags": [
     "to_remove"
    ]
   },
   "outputs": [],
   "source": [
    "aMetagenomes_metadata"
   ]
  },
  {
   "cell_type": "code",
   "execution_count": null,
   "id": "cac26cd4",
   "metadata": {
    "slideshow": {
     "slide_type": "skip"
    },
    "tags": [
     "to_remove"
    ]
   },
   "outputs": [],
   "source": [
    "mMetagenome_metadata"
   ]
  },
  {
   "cell_type": "code",
   "execution_count": null,
   "id": "151bde1e",
   "metadata": {
    "slideshow": {
     "slide_type": "skip"
    },
    "tags": [
     "to_remove"
    ]
   },
   "outputs": [],
   "source": [
    "aMetagenomes_HS_Oral_metadata[\"Type\"]=[\"aMetagenome\"]*aMetagenomes_HS_Oral_metadata.shape[0]\n",
    "aSGenomes_HS_Oral_metadata[\"Type\"]=[\"aSGenome\"]*aSGenomes_HS_Oral_metadata.shape[0]\n",
    "mMetagenome_metadata[\"Type\"]=[\"mMetagenome\"]*mMetagenome_metadata.shape[0]\n",
    "frames=[aMetagenomes_HS_Oral_metadata,aSGenomes_HS_Oral_metadata,mMetagenome_metadata]\n",
    "common_cols = list(set.intersection(*(set(df.columns) for df in frames)))\n",
    "combination_metadata=pd.concat([df[common_cols] for df in frames], ignore_index=True)\n",
    "f=lambda x: x[\"geo_loc_name\"].split(\":\")[0]\n",
    "combination_metadata[\"geo_loc_name\"]=combination_metadata.apply(f,axis=1)\n",
    "combination_metadata"
   ]
  },
  {
   "cell_type": "code",
   "execution_count": null,
   "id": "0d9e8dc8",
   "metadata": {
    "slideshow": {
     "slide_type": "skip"
    }
   },
   "outputs": [],
   "source": [
    "import plotly.graph_objects as go\n",
    "import plotly.io as pio\n",
    "\n",
    "# Set default renderer\n",
    "pio.renderers.default = 'notebook+jupyterlab'  #  See [1]\n",
    "\n",
    "# Set default template\n",
    "pio.templates['slides'] = go.layout.Template(layout=dict(width=800, height=550))\n",
    "pio.templates.default = 'plotly+slides' "
   ]
  },
  {
   "cell_type": "code",
   "execution_count": null,
   "id": "c82f9c65",
   "metadata": {
    "slideshow": {
     "slide_type": "skip"
    }
   },
   "outputs": [],
   "source": [
    "countries_geo_loc=pd.read_csv(\"countries_geo_loc.csv\",delimiter=\"\\t\")\n",
    "countries_geo_loc.drop(\"country\",inplace=True,axis=1)\n",
    "countries_geo_loc.rename(columns={\"name\":\"geo_loc_name\"},inplace=True)\n",
    "def f_1(x):\n",
    "    if x[\"geo_loc_name\"]==\"United States\":\n",
    "        val=\"USA\"\n",
    "    else:\n",
    "        val=x[\"geo_loc_name\"]\n",
    "    return val\n",
    "countries_geo_loc[\"geo_loc_name\"]=countries_geo_loc.apply(f_1,axis=1)\n",
    "combination_metadata=combination_metadata.merge(countries_geo_loc,on=\"geo_loc_name\",how=\"left\")\n",
    "combination_metadata.head()"
   ]
  },
  {
   "cell_type": "code",
   "execution_count": null,
   "id": "4f5a3655",
   "metadata": {
    "slideshow": {
     "slide_type": "skip"
    }
   },
   "outputs": [],
   "source": [
    "country_freq=combination_metadata.geo_loc_name.value_counts()\n",
    "f_2=lambda x: country_freq.loc[x[\"geo_loc_name\"]]\n",
    "combination_metadata[\"Size_geo_loc_name\"]=combination_metadata.apply(f_2,axis=1)\n",
    "combination_metadata"
   ]
  },
  {
   "cell_type": "code",
   "execution_count": null,
   "id": "970b2e35",
   "metadata": {
    "slideshow": {
     "slide_type": "skip"
    },
    "tags": [
     "to_remove"
    ]
   },
   "outputs": [],
   "source": [
    "combination_metadata.to_csv('Metadata/combination/combination_metadata.csv',sep=\",\",header=True,index=False)"
   ]
  },
  {
   "cell_type": "code",
   "execution_count": null,
   "id": "f9630467",
   "metadata": {
    "slideshow": {
     "slide_type": "skip"
    }
   },
   "outputs": [],
   "source": [
    "import plotly.graph_objects as go\n",
    "import plotly.io as pio\n",
    "\n",
    "# Set default renderer\n",
    "pio.renderers.default = 'notebook+jupyterlab'  #  See [1]\n",
    "\n",
    "# Set default template\n",
    "pio.templates['slides'] = go.layout.Template(layout=dict(width=800, height=550))\n",
    "pio.templates.default = 'plotly+slides'  # See [2]"
   ]
  },
  {
   "cell_type": "markdown",
   "id": "32a0051e",
   "metadata": {
    "slideshow": {
     "slide_type": "slide"
    }
   },
   "source": [
    "# Decontamination of Ancient Metagenomes\n",
    "### Camila Duitama González (PhD student)\n",
    "#### Supervisors: Dr. Rayan Chikhi and Dr. Hugues Richard\n",
    "#### 30/04/2021"
   ]
  },
  {
   "cell_type": "markdown",
   "id": "e3aa19e2",
   "metadata": {
    "slideshow": {
     "slide_type": "slide"
    }
   },
   "source": [
    "# Data obtention and composition"
   ]
  },
  {
   "cell_type": "markdown",
   "id": "e9326736",
   "metadata": {
    "slideshow": {
     "slide_type": "fragment"
    }
   },
   "source": [
    "We downloaded the fastq files of a set of aMetagenomes, aSGenomes obtained from [1] and mMetagenomes obtained from [2]. All sample hosts were *Homo sapiens*\n",
    "\n",
    "| Label | Number of SRR accessions | Percentage of total number | Fastq total File size (GB) | Percentage of total size |\n",
    "| :---: | :---: | :---: | :---: | :---: | \n",
    "| aMetagenomes | 281 | 94.3% | 338.03 | 86.6% |\n",
    "| aSGenomes | 5 | 1.7% | 9.3 | 2.4% |\n",
    "| mMetagenomes | 12 | 4.0% | 43 | 11.0% |\n",
    "| Total | 298 | 100.0% | 390.33 | 100.0% |"
   ]
  },
  {
   "cell_type": "code",
   "execution_count": null,
   "id": "341a5d32",
   "metadata": {
    "scrolled": true,
    "slideshow": {
     "slide_type": "fragment"
    },
    "tags": [
     "to_remove"
    ]
   },
   "outputs": [],
   "source": [
    "from plotly.subplots import make_subplots\n",
    "fig = px.histogram(combination_metadata, x=\"material\",title=\"Material\",color=\"Type\",barmode=\"group\")\n",
    "fig.update_layout(width=600,height=400,autosize=False)\n",
    "fig.show()"
   ]
  },
  {
   "cell_type": "markdown",
   "id": "5fb2d193",
   "metadata": {
    "slideshow": {
     "slide_type": "slide"
    }
   },
   "source": [
    "### Distribution of samples around the world"
   ]
  },
  {
   "cell_type": "code",
   "execution_count": null,
   "id": "b71e849d",
   "metadata": {
    "slideshow": {
     "slide_type": "fragment"
    },
    "tags": [
     "to_remove"
    ]
   },
   "outputs": [],
   "source": [
    "fig = px.scatter_mapbox(combination_metadata, lat=\"latitude\", lon=\"longitude\", hover_name=\"geo_loc_name\",\n",
    "                        hover_data=[\"Size_geo_loc_name\",\"geo_loc_name\"],size=\"Size_geo_loc_name\",\\\n",
    "                        color_discrete_sequence=[\"red\"], zoom=2)\n",
    "fig.update_layout(mapbox_style=\"open-street-map\",width=800,height=500,autosize=False)\n",
    "fig.update_layout(margin={\"r\":0,\"t\":0,\"l\":0,\"b\":0})\n",
    "fig.show()"
   ]
  },
  {
   "cell_type": "markdown",
   "id": "71557724",
   "metadata": {
    "slideshow": {
     "slide_type": "slide"
    }
   },
   "source": [
    "# K-mer matrix"
   ]
  },
  {
   "cell_type": "markdown",
   "id": "538a1404",
   "metadata": {
    "slideshow": {
     "slide_type": "fragment"
    }
   },
   "source": [
    "## Produced with [kmtricks](https://github.com/tlemane/kmtricks])[3]\n"
   ]
  },
  {
   "cell_type": "markdown",
   "id": "b888e54b",
   "metadata": {
    "slideshow": {
     "slide_type": "fragment"
    }
   },
   "source": [
    "### Which k-mers were counted?\n",
    "\n",
    "- K-mers present in at least 3 samples \n",
    "- K-mers with a minimum-abundance threshold of 3\n",
    "\n",
    "### Output:\n",
    "- Matrix with >700M k-mers and 412 GB\n",
    "- Rows == Samples == K-mers\n",
    "- Columns == Features == Run accessions (SRR or ERR codes)\n",
    "    \n"
   ]
  },
  {
   "cell_type": "markdown",
   "id": "60208571",
   "metadata": {
    "slideshow": {
     "slide_type": "slide"
    }
   },
   "source": [
    "Matrix of k-mer abundances that results from kmtricks"
   ]
  },
  {
   "cell_type": "code",
   "execution_count": null,
   "id": "766f85ad",
   "metadata": {
    "scrolled": true,
    "slideshow": {
     "slide_type": "fragment"
    },
    "tags": [
     "to_remove"
    ]
   },
   "outputs": [],
   "source": [
    "import plotly.graph_objects as go\n",
    "\n",
    "z=pd.read_table(\"kmMatrices/combination/combination_head.txt\",sep=\" \",names=combination_metadata.Run_accession)\n",
    "fig = go.Figure(data=go.Heatmap(\n",
    "                   z=z,y=z.index.values.tolist(),x=z.columns,colorscale='reds',\n",
    "                   hoverongaps = False))\n",
    "fig.update_layout(title_y=1,\\\n",
    "                  xaxis_title=\"Run accessions (298)\",yaxis_title=\"K-mers (>700M)\",\n",
    "                 xaxis_side=\"top\",width=800, height=500,autosize=False)\n",
    "fig.show()"
   ]
  },
  {
   "cell_type": "code",
   "execution_count": null,
   "id": "fd35c240",
   "metadata": {
    "slideshow": {
     "slide_type": "skip"
    },
    "tags": [
     "to_remove"
    ]
   },
   "outputs": [],
   "source": [
    "classification_1=pd.read_csv(\"Preprocessed_data/combination/classification_1.csv\")\n",
    "classification_1=pd.read_csv(\"Preprocessed_data/combination/classification_1.csv\")\n",
    "mMetagenomes_1=set(classification_1[(classification_1.Perc_mMetagenome > float(0))].index.values.tolist())\n",
    "aMetagenomes_1=set(classification_1[(classification_1.Perc_aMetagenome > float(0))].index.values.tolist())\n",
    "aSGenomes_1=set(classification_1[(classification_1.Perc_aSGenome > float(0))].index.values.tolist())\n",
    "intersection_1=set.intersection(aMetagenomes_1,mMetagenomes_1,aSGenomes_1)\n",
    "aMetagenomes_aSGenomes_1=aMetagenomes_1.intersection(aSGenomes_1)\n",
    "aMetagenomes_mMetagenomes_1=aMetagenomes_1.intersection(mMetagenomes_1)\n",
    "mMetagenomes_aSGenomes_1=mMetagenomes_1.intersection(aSGenomes_1)\n",
    "onlymMetagenomes_1=mMetagenomes_1-mMetagenomes_aSGenomes_1-aMetagenomes_mMetagenomes_1\n",
    "onlyaSGenomes_1=aSGenomes_1-mMetagenomes_aSGenomes_1-aMetagenomes_aSGenomes_1\n",
    "onlyaMetagenomes_1=aMetagenomes_1-aMetagenomes_aSGenomes_1-aMetagenomes_mMetagenomes_1\n",
    "\n",
    "labels_1=[]\n",
    "labels_1.append(str(round((len(onlyaMetagenomes_1)/classification_1.shape[0])*100,3))+\"%\")\n",
    "labels_1.append(str(round((len(aMetagenomes_aSGenomes_1-intersection_1)/classification_1.shape[0])*100,3))+\"%\")\n",
    "labels_1.append(str(round((len(aMetagenomes_mMetagenomes_1-intersection_1)/classification_1.shape[0])*100,3))+\"%\")\n",
    "labels_1.append(str(round((len(onlymMetagenomes_1-intersection_1)/classification_1.shape[0])*100,3))+\"%\")\n",
    "labels_1.append(str(round((len(onlyaSGenomes_1-intersection_1)/classification_1.shape[0])*100,3))+\"%\")\n",
    "labels_1.append(str(round((len(mMetagenomes_aSGenomes_1-intersection_1)/classification_1.shape[0])*100,3))+\"%\")\n",
    "labels_1.append(str(round((len(intersection_1)/classification_1.shape[0])*100,3))+\"%\")\n"
   ]
  },
  {
   "cell_type": "markdown",
   "id": "ee1ed721",
   "metadata": {
    "slideshow": {
     "slide_type": "slide"
    }
   },
   "source": [
    "# Dataset composition according to k-mer abundance"
   ]
  },
  {
   "cell_type": "markdown",
   "id": "71247beb",
   "metadata": {
    "slideshow": {
     "slide_type": "fragment"
    }
   },
   "source": [
    "- Classes= aMetagenomes,aSGenomes,mMetagenomes\n",
    "- K-mers belonged to a class if they were present in at least one sample of such class\n",
    "\n",
    "Venn Diagram representing the k-mer composition of the dataset based on labelling as aMetagenomes, aSGenomes or mMetagenome\n"
   ]
  },
  {
   "cell_type": "code",
   "execution_count": null,
   "id": "e992f89f",
   "metadata": {
    "slideshow": {
     "slide_type": "fragment"
    },
    "tags": [
     "to_remove"
    ]
   },
   "outputs": [],
   "source": [
    "from IPython.core.display import HTML\n",
    "HTML(\"\"\"\n",
    "<style>\n",
    ".output_png {\n",
    "    display: table-cell;\n",
    "    text-align: center;\n",
    "    vertical-align: middle;\n",
    "}\n",
    "</style>\n",
    "\"\"\")\n",
    "\n",
    "import matplotlib.pyplot as plt\n",
    "img = plt.imread('Preprocessed_data/combination/VennDiagram_whole_dataset.png')\n",
    "plt.axis('off')\n",
    "plt.imshow(img)\n",
    "plt.tight_layout()"
   ]
  },
  {
   "cell_type": "code",
   "execution_count": null,
   "id": "baf9a4f1",
   "metadata": {
    "slideshow": {
     "slide_type": "skip"
    },
    "tags": [
     "to_remove"
    ]
   },
   "outputs": [],
   "source": [
    "pd.options.display.float_format = '{:,.2f}'.format\n",
    "classification_1.describe()"
   ]
  },
  {
   "cell_type": "markdown",
   "id": "82f39200",
   "metadata": {
    "slideshow": {
     "slide_type": "slide"
    }
   },
   "source": [
    "# Preprocessing and exploratory analysis"
   ]
  },
  {
   "cell_type": "markdown",
   "id": "637526fc",
   "metadata": {
    "slideshow": {
     "slide_type": "fragment"
    }
   },
   "source": [
    "1. Sampling of a dataset in which the proportions in the Venn Diagram are mantained (1.4% of the original size)\n",
    "2. Data binarization (k-mer abundance becomes k-mer presence/abscence)\n",
    "2. PCA"
   ]
  },
  {
   "cell_type": "code",
   "execution_count": null,
   "id": "330975d9",
   "metadata": {
    "slideshow": {
     "slide_type": "skip"
    },
    "tags": [
     "to_remove"
    ]
   },
   "outputs": [],
   "source": [
    "to_plot_15=np.genfromtxt(\"Preprocessed_data/combination/RepresentativeSample_Binarization_PCA.txt\",delimiter=\",\")"
   ]
  },
  {
   "cell_type": "code",
   "execution_count": null,
   "id": "cea95321",
   "metadata": {
    "slideshow": {
     "slide_type": "skip"
    },
    "tags": [
     "to_remove"
    ]
   },
   "outputs": [],
   "source": [
    "to_take=np.genfromtxt(\"Classification/list_of_indeces_of_RepresentativeSample.csv\",delimiter=\",\")"
   ]
  },
  {
   "cell_type": "code",
   "execution_count": null,
   "id": "4443aa44",
   "metadata": {
    "slideshow": {
     "slide_type": "skip"
    },
    "tags": [
     "to_remove"
    ]
   },
   "outputs": [],
   "source": [
    "one=intersection_1.intersection(set(to_take))\n",
    "two=onlyaMetagenomes_1.intersection(set(to_take))\n",
    "three=onlyaSGenomes_1.intersection(set(to_take))\n",
    "four=onlymMetagenomes_1.intersection(set(to_take))\n",
    "five=set(aMetagenomes_aSGenomes_1-intersection_1).intersection(set(to_take))\n",
    "six=set(aMetagenomes_mMetagenomes_1-intersection_1).intersection(set(to_take))\n",
    "seven=set(mMetagenomes_aSGenomes_1-intersection_1).intersection(set(to_take))"
   ]
  },
  {
   "cell_type": "code",
   "execution_count": null,
   "id": "6d970590",
   "metadata": {
    "slideshow": {
     "slide_type": "slide"
    },
    "tags": [
     "to_remove"
    ]
   },
   "outputs": [],
   "source": [
    "import random\n",
    "#Select number of samples of each class to plot\n",
    "t=1000\n",
    "u=1000\n",
    "v=100\n",
    "w=1000\n",
    "x=1000\n",
    "y=1000\n",
    "z=1000\n",
    "\n",
    "#Select indeces that exists in each of the only datasets and in the subset \n",
    "aM_i_aS_i_mM=random.sample(one,t)\n",
    "only_aM=random.sample(two,u)\n",
    "only_aS=random.sample(three,v)\n",
    "only_mM=random.sample(four,w)\n",
    "only_aM_i_aS=random.sample(five, x)\n",
    "only_aM_i_mM=random.sample(six,y)\n",
    "only_mM_i_aS=random.sample(seven,z)\n",
    "\n",
    "#There are the old indeces that were subsampled\n",
    "indeces=to_take\n",
    "\n",
    "\n",
    "#Dictionaries to change between old(original dataset) and new indeces(subset)\n",
    "zip_iterator = zip(list(range(0,to_plot_15.shape[1])),indeces)\n",
    "old2new = dict(zip_iterator)\n",
    "zip_iterator = zip(indeces,list(range(0,to_plot_15.shape[1])))\n",
    "new2old = dict(zip_iterator)\n",
    "\n",
    "#Corrected indeces\n",
    "c_aM_i_aS_i_mM=[new2old[x] for x in aM_i_aS_i_mM]\n",
    "c_only_aM=[new2old[x] for x in only_aM ]\n",
    "c_only_aS=[new2old[x] for x in only_aS]\n",
    "c_only_mM=[new2old[x] for x in only_mM]\n",
    "c_only_aM_i_aS=[new2old[x] for x in only_aM_i_aS]\n",
    "c_only_aM_i_mM=[new2old[x] for x in only_aM_i_mM]\n",
    "c_only_mM_i_aS=[new2old[x] for x in only_mM_i_aS]\n",
    "\n",
    "\n",
    "\n",
    "#Plot\n",
    "fig = go.Figure()\n",
    "\n",
    "fig.add_trace(go.Scatter(x=to_plot_15[0,c_aM_i_aS_i_mM], y=to_plot_15[1,c_aM_i_aS_i_mM],\\\n",
    "                         showlegend=True,mode=\"markers\",legendgroup=\"Intersection\",name=\"Intersection\",\\\n",
    "                 marker=dict(opacity=0.9,size=5)))\n",
    "\n",
    "fig.add_trace(go.Scatter(x=to_plot_15[0,c_only_aM], y=to_plot_15[1,c_only_aM],\\\n",
    "                         showlegend=True,mode=\"markers\",legendgroup=\"aMetagenome exclusively\",name=\"aMetagenome exclusively\",\\\n",
    "                 marker=dict(opacity=0.9,size=5)))\n",
    "\n",
    "fig.add_trace(go.Scatter(x=to_plot_15[0,c_only_aS], y=to_plot_15[1,c_only_aS],\\\n",
    "                         showlegend=True,mode=\"markers\",legendgroup=\"aSGenome exclusively\",name=\"aSGenome exclusively\",\\\n",
    "                 marker=dict(opacity=0.9,size=5)))\n",
    "\n",
    "fig.add_trace(go.Scatter(x=to_plot_15[0,c_only_mM], y=to_plot_15[1,c_only_mM],\\\n",
    "                         showlegend=True,mode=\"markers\",legendgroup=\"mMetagenome exclusively\",name=\"mMetagenome exclusively\",\\\n",
    "                 marker=dict(opacity=0.9,size=5)))\n",
    "\n",
    "fig.add_trace(go.Scatter(x=to_plot_15[0,c_only_aM_i_aS], y=to_plot_15[1,c_only_aM_i_aS],\\\n",
    "                         showlegend=True,mode=\"markers\",legendgroup=\"aMetagenome and aSGenome\",name=\"aMetagenome and aSGenome\",\\\n",
    "                 marker=dict(opacity=0.9,size=5)))\n",
    "\n",
    "fig.add_trace(go.Scatter(x=to_plot_15[0,c_only_aM_i_mM], y=to_plot_15[1,c_only_aM_i_mM],\\\n",
    "                         showlegend=True,mode=\"markers\",legendgroup=\"aMetagenome and mMetagenome\",\\\n",
    "                         name=\"aMetagenome and mMetagenome\",marker=dict(opacity=0.9,size=5)))\n",
    "\n",
    "fig.add_trace(go.Scatter(x=to_plot_15[0,c_only_mM_i_aS], y=to_plot_15[1,c_only_mM_i_aS],\\\n",
    "                         showlegend=True,mode=\"markers\",legendgroup=\"mMetagenome and aSGenome\",\\\n",
    "                         name=\"mMetagenome and aSGenome\",marker=dict(opacity=0.9,size=5)))\n",
    "\n",
    "#fig.update_traces(orientation=\"v\")\n",
    "\n",
    "fig.update_layout(title='Binarization + PCA <br>'+\\\n",
    "                  'Sample to plot: Representative selection of every group in the Venn Diagram'+\\\n",
    "                  '<br>Dataset: 1.4% of the 700M K-mers',title_y=0.95,width=900, height=600,autosize=False,\\\n",
    "                  xaxis_title=\"PC1(14.66%)\",yaxis_title=\"PC2(5.8%)\")\n",
    "              \n"
   ]
  },
  {
   "cell_type": "markdown",
   "id": "8f40aed3",
   "metadata": {
    "slideshow": {
     "slide_type": "slide"
    }
   },
   "source": [
    "# Classification"
   ]
  },
  {
   "cell_type": "markdown",
   "id": "eba03f23",
   "metadata": {
    "slideshow": {
     "slide_type": "fragment"
    }
   },
   "source": [
    "We fit a Logistic Regression with L2 penalization which is a common model for classification. We consider as true labels the following classes:\n",
    "\n",
    "- **Ancient =** K-mers that are present in the intersection between aSGenomes and mMetagenomes, or present in the intersection between aSGenomes and aMetagenomes or present ONLY in the aSGenome samples.\n",
    "- **Non-ancient =** The rest"
   ]
  },
  {
   "cell_type": "markdown",
   "id": "51c1250e",
   "metadata": {
    "slideshow": {
     "slide_type": "fragment"
    }
   },
   "source": [
    "Selected subset of representative k-mers in the Venn Diagram"
   ]
  },
  {
   "cell_type": "code",
   "execution_count": null,
   "id": "0ed6ba6e",
   "metadata": {
    "slideshow": {
     "slide_type": "fragment"
    },
    "tags": [
     "to_remove"
    ]
   },
   "outputs": [],
   "source": [
    "from IPython.core.display import HTML\n",
    "HTML(\"\"\"\n",
    "<style>\n",
    ".output_png {\n",
    "    display: table-cell;\n",
    "    text-align: center;\n",
    "    vertical-align: middle;\n",
    "}\n",
    "</style>\n",
    "\"\"\")\n",
    "\n",
    "import matplotlib.pyplot as plt\n",
    "img = plt.imread('Preprocessed_data/combination/Venn+selected.png.001.png')\n",
    "plt.axis('off')\n",
    "plt.imshow(img)\n",
    "plt.tight_layout()"
   ]
  },
  {
   "cell_type": "markdown",
   "id": "d67ab944",
   "metadata": {
    "slideshow": {
     "slide_type": "slide"
    }
   },
   "source": [
    "Separation between ancient and non-ancient k-mers in the PCA after Binarization of the representative subsample"
   ]
  },
  {
   "cell_type": "code",
   "execution_count": null,
   "id": "bb8ee883",
   "metadata": {
    "slideshow": {
     "slide_type": "fragment"
    },
    "tags": [
     "to_remove"
    ]
   },
   "outputs": [],
   "source": [
    "import random\n",
    "#Select number of samples of each class to plot\n",
    "t=1000\n",
    "u=1000\n",
    "v=100\n",
    "w=1000\n",
    "x=1000\n",
    "y=1000\n",
    "z=1000\n",
    "\n",
    "#Select indeces that exists in each of the only datasets and in the subset \n",
    "aM_i_aS_i_mM=random.sample(one,t)\n",
    "only_aM=random.sample(two,u)\n",
    "only_aS=random.sample(three,v)\n",
    "only_mM=random.sample(four,w)\n",
    "only_aM_i_aS=random.sample(five, x)\n",
    "only_aM_i_mM=random.sample(six,y)\n",
    "only_mM_i_aS=random.sample(seven,z)\n",
    "\n",
    "#There are the old indeces that were subsampled\n",
    "indeces=to_take\n",
    "\n",
    "\n",
    "#Dictionaries to change between old(original dataset) and new indeces(subset)\n",
    "zip_iterator = zip(list(range(0,to_plot_15.shape[1])),indeces)\n",
    "old2new = dict(zip_iterator)\n",
    "zip_iterator = zip(indeces,list(range(0,to_plot_15.shape[1])))\n",
    "new2old = dict(zip_iterator)\n",
    "\n",
    "#Corrected indeces\n",
    "c_aM_i_aS_i_mM=[new2old[x] for x in aM_i_aS_i_mM]\n",
    "c_only_aM=[new2old[x] for x in only_aM ]\n",
    "c_only_aS=[new2old[x] for x in only_aS]\n",
    "c_only_mM=[new2old[x] for x in only_mM]\n",
    "c_only_aM_i_aS=[new2old[x] for x in only_aM_i_aS]\n",
    "c_only_aM_i_mM=[new2old[x] for x in only_aM_i_mM]\n",
    "c_only_mM_i_aS=[new2old[x] for x in only_mM_i_aS]\n",
    "\n",
    "Ancient_indeces=c_only_aS+c_only_aM_i_aS+c_only_mM_i_aS\n",
    "Non_ancient_indeces=c_aM_i_aS_i_mM+c_only_aM+c_only_mM+c_only_aM_i_mM\n",
    "\n",
    "#Plot\n",
    "fig = go.Figure()\n",
    "\n",
    "fig.add_trace(go.Scatter(x=to_plot_15[0,Non_ancient_indeces], y=to_plot_15[1,Non_ancient_indeces],\\\n",
    "                         showlegend=True,mode=\"markers\",legendgroup=\"Non-ancient\",name=\"Non-ancient\",\\\n",
    "                 marker=dict(opacity=0.9,size=5)))\n",
    "\n",
    "fig.add_trace(go.Scatter(x=to_plot_15[0,Ancient_indeces], y=to_plot_15[1,Ancient_indeces],\\\n",
    "                         showlegend=True,mode=\"markers\",legendgroup=\"Ancient\",name=\"Ancient\",\\\n",
    "                 marker=dict(opacity=0.9,size=5)))\n",
    "\n",
    "\n",
    "#fig.update_traces(orientation=\"v\")\n",
    "\n",
    "fig.update_layout(title='Binarization + PCA <br>'+\\\n",
    "                  'Sample to plot: Representative selection of every group in the Venn Diagram'+\\\n",
    "                  '<br>Dataset: 1.4% of the 700M K-mers',title_y=0.95,width=900, height=600,autosize=False,\\\n",
    "                  xaxis_title=\"PC1(14.66%)\",yaxis_title=\"PC2(5.8%)\")\n",
    "              "
   ]
  },
  {
   "cell_type": "markdown",
   "id": "ff6d42e7",
   "metadata": {
    "slideshow": {
     "slide_type": "slide"
    }
   },
   "source": [
    "Samples are split in training(50%) and testing(50%). Here are the results for the model evaluation based of different performance scores"
   ]
  },
  {
   "cell_type": "code",
   "execution_count": null,
   "id": "4fae5e25",
   "metadata": {
    "slideshow": {
     "slide_type": "skip"
    },
    "tags": [
     "to_remove"
    ]
   },
   "outputs": [],
   "source": [
    "y_test_predicted_LR=np.genfromtxt(\"Classification/LR/y_test_predicted_labels.csv\",delimiter=\",\")\n",
    "y_train_predicted_LR=np.genfromtxt(\"Classification/LR/y_train_predicted_labels.csv\",delimiter=\",\")\n",
    "y_test=np.genfromtxt(\"Classification/LR/y_test_true_labels.csv\",delimiter=\",\")\n",
    "y_train=np.genfromtxt(\"Classification/LR/y_train_true_labels.csv\",delimiter=\",\")\n"
   ]
  },
  {
   "cell_type": "code",
   "execution_count": null,
   "id": "0c19376a",
   "metadata": {
    "slideshow": {
     "slide_type": "skip"
    },
    "tags": [
     "to_remove"
    ]
   },
   "outputs": [],
   "source": [
    "from sklearn.metrics import roc_curve, auc\n",
    "y_train_score_LR=np.genfromtxt(\"Classification/LR/y_train_score_LR.csv\",delimiter=\",\")\n",
    "y_test_score_LR=np.genfromtxt(\"Classification/LR/y_test_score_LR.csv\",delimiter=\",\")\n",
    "fpr_train, tpr_train, thresholds_train = roc_curve(y_train, y_train_score_LR)\n",
    "fpr_test, tpr_test, thresholds_test = roc_curve(y_test, y_test_score_LR)"
   ]
  },
  {
   "cell_type": "code",
   "execution_count": null,
   "id": "e993b1d1",
   "metadata": {
    "slideshow": {
     "slide_type": "fragment"
    },
    "tags": [
     "to_remove"
    ]
   },
   "outputs": [],
   "source": [
    "fig = make_subplots(rows=2, cols=2,horizontal_spacing=0.3,vertical_spacing=0.3,\\\n",
    "                    subplot_titles=(\"Confusion matrix training\", \"Confusion matrix testing\", \\\n",
    "                                    \"Metrics training\", \"Metrics testing\"))\n",
    "\n",
    "from sklearn.metrics import confusion_matrix\n",
    "\n",
    "fig.add_trace(go.Heatmap(z=confusion_matrix(y_train,y_train_predicted_LR),\\\n",
    "                        x=[\"Predicted non-ancient \",\"Predicted ancient\"],\\\n",
    "                        y=[\"True non-ancient\",\"True ancient\"],colorscale=\"Viridis\"),row=1,col=1)\n",
    "\n",
    "fig.add_trace(go.Heatmap(z=confusion_matrix(y_test,y_test_predicted_LR),\\\n",
    "                        x=[\"Predicted non-ancient \",\"Predicted ancient\"],\\\n",
    "                        y=[\"True non-ancient\",\"True ancient\"],colorscale=\"Viridis\"),row=1,col=2)\n",
    "\n",
    "from sklearn.metrics import accuracy_score,precision_score,recall_score\n",
    "\n",
    "fig.add_trace(go.Bar(x=[\"Precision\",\"Recall\",\"Accuracy\"],\\\n",
    "                     y=[accuracy_score(y_train,y_train_predicted_LR),\\\n",
    "                        precision_score(y_train,y_train_predicted_LR),\\\n",
    "                       recall_score(y_train,y_train_predicted_LR)],\\\n",
    "                        marker_color=['#19D3F3', '#FFA15A','#B6E880'],showlegend=False),row=2,col=1)\n",
    "\n",
    "fig.add_trace(go.Bar(x=[\"Precision\",\"Recall\",\"Accuracy\"],\\\n",
    "                     y=[accuracy_score(y_test,y_test_predicted_LR),\\\n",
    "                        precision_score(y_test,y_test_predicted_LR),\\\n",
    "                       recall_score(y_test,y_test_predicted_LR)],\\\n",
    "                       marker_color=['#19D3F3', '#FFA15A','#B6E880'],showlegend=False),row=2,col=2)\n",
    "\n",
    "fig.update_layout(height=600, width=800, title_text=\"Logistic regression evaluation\",autosize=False)\n",
    "fig.show()"
   ]
  },
  {
   "cell_type": "code",
   "execution_count": null,
   "id": "e1d34b61",
   "metadata": {
    "slideshow": {
     "slide_type": "slide"
    },
    "tags": [
     "to_remove"
    ]
   },
   "outputs": [],
   "source": [
    "fig = make_subplots(rows=2, cols=2,horizontal_spacing=0.3,vertical_spacing=0.3,\\\n",
    "                    subplot_titles=(f'ROC Curve Training (AUC={auc(fpr_train, tpr_train):.4f})',\\\n",
    "                                   f'ROC Curve Testing(AUC={auc(fpr_test, tpr_test):.4f})',\"b\",\"d\"))\n",
    "\n",
    "fig.add_trace(go.Scatter(x=fpr_train, y=tpr_train,mode=\"lines\"),row=1,col=1)\n",
    "fig.add_trace(go.Scatter(x=fpr_test, y=tpr_test, mode=\"lines\"),row=1,col=2)\n",
    "fig.update_layout(height=600, width=800, title_text=\"Logistic regression evaluation\",showlegend=False,autosize=False)\n",
    "fig.show()"
   ]
  },
  {
   "cell_type": "markdown",
   "id": "f4d260c4",
   "metadata": {
    "slideshow": {
     "slide_type": "slide"
    }
   },
   "source": [
    "# Validation"
   ]
  },
  {
   "cell_type": "markdown",
   "id": "a521d043",
   "metadata": {
    "slideshow": {
     "slide_type": "fragment"
    }
   },
   "source": [
    "For validation, we took a subsample from the original dataset (>700M k-mers) which also preserved the same composition of the groups present in the Venn Diagram and that does not include k-mers that are in either the training or test sets.\n",
    "\n",
    "The size of the validation size is equal to the size of the training and test set together"
   ]
  },
  {
   "cell_type": "code",
   "execution_count": null,
   "id": "86940c6b",
   "metadata": {
    "slideshow": {
     "slide_type": "skip"
    },
    "tags": [
     "to_remove"
    ]
   },
   "outputs": [],
   "source": [
    "y_v=np.genfromtxt(\"Classification/LR/y_validation_true_labels.csv\",delimiter=\",\")\n",
    "y_v_predicted_LR=np.genfromtxt(\"Classification/LR/y_validation_predicted_labels.csv\",delimiter=\",\")"
   ]
  },
  {
   "cell_type": "code",
   "execution_count": null,
   "id": "e6b3ae5b",
   "metadata": {
    "slideshow": {
     "slide_type": "skip"
    },
    "tags": [
     "to_remove"
    ]
   },
   "outputs": [],
   "source": [
    "y_v_score_LR=np.genfromtxt(\"Classification/LR/y_v_score_LR.csv\",delimiter=\",\")\n",
    "fpr_v, tpr_v, thresholds_v = roc_curve(y_v, y_v_score_LR)"
   ]
  },
  {
   "cell_type": "code",
   "execution_count": null,
   "id": "f4f62377",
   "metadata": {
    "slideshow": {
     "slide_type": "slide"
    },
    "tags": [
     "to_remove"
    ]
   },
   "outputs": [],
   "source": [
    "fig = make_subplots(rows=3, cols=1,horizontal_spacing=0.3,vertical_spacing=0.15,\\\n",
    "                    subplot_titles=(\"Confusion matrix validation\", \\\n",
    "                                    \"Metrics training\",\\\n",
    "                                    f'ROC Curve Testing(AUC={auc(fpr_test, tpr_test):.4f})'))\n",
    "\n",
    "from sklearn.metrics import confusion_matrix\n",
    "\n",
    "fig.add_trace(go.Heatmap(z=confusion_matrix(y_v,y_v_predicted_LR),\\\n",
    "                        x=[\"Predicted non-ancient \",\"Predicted ancient\"],\\\n",
    "                        y=[\"True non-ancient\",\"True ancient\"],colorscale=\"Viridis\"),row=1,col=1)\n",
    "\n",
    "from sklearn.metrics import accuracy_score,precision_score,recall_score\n",
    "\n",
    "fig.add_trace(go.Bar(x=[\"Precision\",\"Recall\",\"Accuracy\"],\\\n",
    "                     y=[accuracy_score(y_v,y_v_predicted_LR),\\\n",
    "                        precision_score(y_v,y_v_predicted_LR),\\\n",
    "                       recall_score(y_v,y_v_predicted_LR)],\\\n",
    "                        marker_color=['#19D3F3', '#FFA15A','#B6E880'],showlegend=False),row=2,col=1)\n",
    "\n",
    "fig.add_trace(go.Scatter(x=fpr_v, y=tpr_v,mode=\"lines\",showlegend=False),row=3,col=1)\n",
    "\n",
    "\n",
    "fig.update_layout(height=600, width=600,autosize=False, title_text=\"Logistic regression evaluation on validation set\")\n",
    "fig.show()"
   ]
  },
  {
   "cell_type": "code",
   "execution_count": null,
   "id": "4b53a616",
   "metadata": {
    "slideshow": {
     "slide_type": "skip"
    }
   },
   "outputs": [],
   "source": []
  }
 ],
 "metadata": {
  "celltoolbar": "Slideshow",
  "kernelspec": {
   "display_name": "Python 3",
   "language": "python",
   "name": "python3"
  },
  "language_info": {
   "codemirror_mode": {
    "name": "ipython",
    "version": 3
   },
   "file_extension": ".py",
   "mimetype": "text/x-python",
   "name": "python",
   "nbconvert_exporter": "python",
   "pygments_lexer": "ipython3",
   "version": "3.8.8"
  },
  "toc": {
   "base_numbering": 1,
   "nav_menu": {},
   "number_sections": false,
   "sideBar": true,
   "skip_h1_title": false,
   "title_cell": "Table of Contents",
   "title_sidebar": "Contents",
   "toc_cell": false,
   "toc_position": {},
   "toc_section_display": true,
   "toc_window_display": false
  }
 },
 "nbformat": 4,
 "nbformat_minor": 5
}
