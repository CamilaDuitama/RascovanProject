version https://git-lfs.github.com/spec/v1
oid sha256:e69f650f7f637763fa5b7446af13d3b0b0c423884fb1c1aed18672a18c49f5d9
size 11428367
