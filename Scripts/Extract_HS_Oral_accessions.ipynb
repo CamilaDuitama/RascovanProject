{
 "cells": [
  {
   "cell_type": "code",
   "execution_count": 2,
   "metadata": {},
   "outputs": [],
   "source": [
    "import pandas as pd\n",
    "import numpy as np"
   ]
  },
  {
   "cell_type": "code",
   "execution_count": 3,
   "metadata": {},
   "outputs": [],
   "source": [
    "SRR_aMetagenomes=pd.read_table(\"Metadata/aMetagenomes/SRR_aMetagenomes.txt\", names=[\"Accession\"],)\n",
    "aMetagenomes_SRStoSRR=pd.read_table(\"Metadata/aMetagenomes/aMetagenomes_SRStoSRR.tsv\",names=[\"archive_accession\",\"SRR_accession\"])\n",
    "aMetagenomes=aMetagenomes_SRStoSRR[aMetagenomes_SRStoSRR['SRR_accession'].notna()]"
   ]
  },
  {
   "cell_type": "code",
   "execution_count": 6,
   "metadata": {},
   "outputs": [
    {
     "data": {
      "text/plain": [
       "(447, 18)"
      ]
     },
     "execution_count": 6,
     "metadata": {},
     "output_type": "execute_result"
    }
   ],
   "source": [
    "aMetagenomes_metadata=pd.read_table(\"Metadata/aMetagenomes/aMetagenomes.txt\")\n",
    "#Create one row per archive_accession\n",
    "aMetagenomes_metadata=aMetagenomes_metadata.assign(archive_accession=aMetagenomes_metadata['archive_accession'].str.split(',')).explode('archive_accession')\n",
    "aMetagenomes_metadata=aMetagenomes_metadata.reset_index()\n",
    "aMetagenomes_metadata=aMetagenomes_metadata[aMetagenomes_metadata[\"archive\"]==\"SRA\"]\n",
    "aMetagenomes_metadata.shape"
   ]
  },
  {
   "cell_type": "code",
   "execution_count": 7,
   "metadata": {},
   "outputs": [
    {
     "data": {
      "text/html": [
       "<div>\n",
       "<style scoped>\n",
       "    .dataframe tbody tr th:only-of-type {\n",
       "        vertical-align: middle;\n",
       "    }\n",
       "\n",
       "    .dataframe tbody tr th {\n",
       "        vertical-align: top;\n",
       "    }\n",
       "\n",
       "    .dataframe thead th {\n",
       "        text-align: right;\n",
       "    }\n",
       "</style>\n",
       "<table border=\"1\" class=\"dataframe\">\n",
       "  <thead>\n",
       "    <tr style=\"text-align: right;\">\n",
       "      <th></th>\n",
       "      <th>index</th>\n",
       "      <th>project_name</th>\n",
       "      <th>publication_year</th>\n",
       "      <th>publication_doi</th>\n",
       "      <th>site_name</th>\n",
       "      <th>latitude</th>\n",
       "      <th>longitude</th>\n",
       "      <th>geo_loc_name</th>\n",
       "      <th>sample_name</th>\n",
       "      <th>sample_host</th>\n",
       "      <th>sample_age</th>\n",
       "      <th>sample_age_doi</th>\n",
       "      <th>community_type</th>\n",
       "      <th>material</th>\n",
       "      <th>collection_date</th>\n",
       "      <th>archive</th>\n",
       "      <th>archive_project</th>\n",
       "      <th>archive_accession</th>\n",
       "    </tr>\n",
       "  </thead>\n",
       "  <tbody>\n",
       "    <tr>\n",
       "      <th>0</th>\n",
       "      <td>1</td>\n",
       "      <td>Warinner2014</td>\n",
       "      <td>2014</td>\n",
       "      <td>10.1038/ng.2906</td>\n",
       "      <td>Dalheim</td>\n",
       "      <td>51.565</td>\n",
       "      <td>8.84</td>\n",
       "      <td>Germany</td>\n",
       "      <td>B61</td>\n",
       "      <td>Homo sapiens</td>\n",
       "      <td>900</td>\n",
       "      <td>10.1038/ng.2906</td>\n",
       "      <td>oral</td>\n",
       "      <td>dental calculus</td>\n",
       "      <td>NaN</td>\n",
       "      <td>SRA</td>\n",
       "      <td>PRJNA216965</td>\n",
       "      <td>SRS473742</td>\n",
       "    </tr>\n",
       "    <tr>\n",
       "      <th>1</th>\n",
       "      <td>1</td>\n",
       "      <td>Warinner2014</td>\n",
       "      <td>2014</td>\n",
       "      <td>10.1038/ng.2906</td>\n",
       "      <td>Dalheim</td>\n",
       "      <td>51.565</td>\n",
       "      <td>8.84</td>\n",
       "      <td>Germany</td>\n",
       "      <td>B61</td>\n",
       "      <td>Homo sapiens</td>\n",
       "      <td>900</td>\n",
       "      <td>10.1038/ng.2906</td>\n",
       "      <td>oral</td>\n",
       "      <td>dental calculus</td>\n",
       "      <td>NaN</td>\n",
       "      <td>SRA</td>\n",
       "      <td>PRJNA216965</td>\n",
       "      <td>SRS473743</td>\n",
       "    </tr>\n",
       "    <tr>\n",
       "      <th>2</th>\n",
       "      <td>1</td>\n",
       "      <td>Warinner2014</td>\n",
       "      <td>2014</td>\n",
       "      <td>10.1038/ng.2906</td>\n",
       "      <td>Dalheim</td>\n",
       "      <td>51.565</td>\n",
       "      <td>8.84</td>\n",
       "      <td>Germany</td>\n",
       "      <td>B61</td>\n",
       "      <td>Homo sapiens</td>\n",
       "      <td>900</td>\n",
       "      <td>10.1038/ng.2906</td>\n",
       "      <td>oral</td>\n",
       "      <td>dental calculus</td>\n",
       "      <td>NaN</td>\n",
       "      <td>SRA</td>\n",
       "      <td>PRJNA216965</td>\n",
       "      <td>SRS473744</td>\n",
       "    </tr>\n",
       "    <tr>\n",
       "      <th>3</th>\n",
       "      <td>1</td>\n",
       "      <td>Warinner2014</td>\n",
       "      <td>2014</td>\n",
       "      <td>10.1038/ng.2906</td>\n",
       "      <td>Dalheim</td>\n",
       "      <td>51.565</td>\n",
       "      <td>8.84</td>\n",
       "      <td>Germany</td>\n",
       "      <td>B61</td>\n",
       "      <td>Homo sapiens</td>\n",
       "      <td>900</td>\n",
       "      <td>10.1038/ng.2906</td>\n",
       "      <td>oral</td>\n",
       "      <td>dental calculus</td>\n",
       "      <td>NaN</td>\n",
       "      <td>SRA</td>\n",
       "      <td>PRJNA216965</td>\n",
       "      <td>SRS473745</td>\n",
       "    </tr>\n",
       "    <tr>\n",
       "      <th>4</th>\n",
       "      <td>2</td>\n",
       "      <td>Warinner2014</td>\n",
       "      <td>2014</td>\n",
       "      <td>10.1038/ng.2906</td>\n",
       "      <td>Dalheim</td>\n",
       "      <td>51.565</td>\n",
       "      <td>8.84</td>\n",
       "      <td>Germany</td>\n",
       "      <td>G12</td>\n",
       "      <td>Homo sapiens</td>\n",
       "      <td>900</td>\n",
       "      <td>10.1038/ng.2906</td>\n",
       "      <td>oral</td>\n",
       "      <td>dental calculus</td>\n",
       "      <td>NaN</td>\n",
       "      <td>SRA</td>\n",
       "      <td>PRJNA216965</td>\n",
       "      <td>SRS473747</td>\n",
       "    </tr>\n",
       "  </tbody>\n",
       "</table>\n",
       "</div>"
      ],
      "text/plain": [
       "   index  project_name  publication_year  publication_doi site_name  latitude  \\\n",
       "0      1  Warinner2014              2014  10.1038/ng.2906   Dalheim    51.565   \n",
       "1      1  Warinner2014              2014  10.1038/ng.2906   Dalheim    51.565   \n",
       "2      1  Warinner2014              2014  10.1038/ng.2906   Dalheim    51.565   \n",
       "3      1  Warinner2014              2014  10.1038/ng.2906   Dalheim    51.565   \n",
       "4      2  Warinner2014              2014  10.1038/ng.2906   Dalheim    51.565   \n",
       "\n",
       "   longitude geo_loc_name sample_name   sample_host  sample_age  \\\n",
       "0       8.84      Germany         B61  Homo sapiens         900   \n",
       "1       8.84      Germany         B61  Homo sapiens         900   \n",
       "2       8.84      Germany         B61  Homo sapiens         900   \n",
       "3       8.84      Germany         B61  Homo sapiens         900   \n",
       "4       8.84      Germany         G12  Homo sapiens         900   \n",
       "\n",
       "    sample_age_doi community_type         material  collection_date archive  \\\n",
       "0  10.1038/ng.2906           oral  dental calculus              NaN     SRA   \n",
       "1  10.1038/ng.2906           oral  dental calculus              NaN     SRA   \n",
       "2  10.1038/ng.2906           oral  dental calculus              NaN     SRA   \n",
       "3  10.1038/ng.2906           oral  dental calculus              NaN     SRA   \n",
       "4  10.1038/ng.2906           oral  dental calculus              NaN     SRA   \n",
       "\n",
       "  archive_project archive_accession  \n",
       "0     PRJNA216965         SRS473742  \n",
       "1     PRJNA216965         SRS473743  \n",
       "2     PRJNA216965         SRS473744  \n",
       "3     PRJNA216965         SRS473745  \n",
       "4     PRJNA216965         SRS473747  "
      ]
     },
     "execution_count": 7,
     "metadata": {},
     "output_type": "execute_result"
    }
   ],
   "source": [
    "aMetagenomes_metadata.head()"
   ]
  },
  {
   "cell_type": "code",
   "execution_count": 8,
   "metadata": {},
   "outputs": [],
   "source": [
    "SRR_aMetagenomes=pd.read_table(\"Metadata/aMetagenomes/SRR_aMetagenomes.txt\",names=[\"SRR_accession\"])\n",
    "aMetagenomes_metadata=pd.merge(aMetagenomes_metadata,aMetagenomes_SRStoSRR,on=\"archive_accession\",how=\"inner\")"
   ]
  },
  {
   "cell_type": "code",
   "execution_count": 9,
   "metadata": {},
   "outputs": [],
   "source": [
    "#Here I select the SRR_accessions from the aMetagenomes_metadata DF where the sample_host is Homo sapiens and the community type is oral\n",
    "HS_Oral=aMetagenomes_metadata[(aMetagenomes_metadata[\"sample_host\"]==\"Homo sapiens\")\\\n",
    "                                  & (aMetagenomes_metadata[\"community_type\"]==\"oral\")]\n"
   ]
  },
  {
   "cell_type": "code",
   "execution_count": 37,
   "metadata": {},
   "outputs": [],
   "source": [
    "np.savetxt(\"HS_Oral_SRR.txt\",HS_Oral[\"SRR_accession\"].unique(),delimiter=\"\\n\",fmt='%s')"
   ]
  },
  {
   "cell_type": "code",
   "execution_count": null,
   "metadata": {},
   "outputs": [],
   "source": []
  }
 ],
 "metadata": {
  "kernelspec": {
   "display_name": "Python 3",
   "language": "python",
   "name": "python3"
  },
  "language_info": {
   "codemirror_mode": {
    "name": "ipython",
    "version": 3
   },
   "file_extension": ".py",
   "mimetype": "text/x-python",
   "name": "python",
   "nbconvert_exporter": "python",
   "pygments_lexer": "ipython3",
   "version": "3.8.5"
  }
 },
 "nbformat": 4,
 "nbformat_minor": 4
}
