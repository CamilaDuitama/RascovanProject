{
 "cells": [
  {
   "cell_type": "code",
   "execution_count": 20,
   "id": "bc07d710",
   "metadata": {},
   "outputs": [
    {
     "name": "stderr",
     "output_type": "stream",
     "text": [
      "distributed.nanny - WARNING - Worker process still alive after 3 seconds, killing\n",
      "distributed.nanny - WARNING - Worker process still alive after 3 seconds, killing\n",
      "distributed.nanny - WARNING - Worker process still alive after 3 seconds, killing\n",
      "distributed.nanny - WARNING - Worker process still alive after 3 seconds, killing\n",
      "distributed.nanny - WARNING - Worker process still alive after 3 seconds, killing\n",
      "distributed.nanny - WARNING - Worker process still alive after 3 seconds, killing\n"
     ]
    },
    {
     "data": {
      "text/html": [
       "<table style=\"border: 2px solid white;\">\n",
       "<tr>\n",
       "<td style=\"vertical-align: top; border: 0px solid white\">\n",
       "<h3 style=\"text-align: left;\">Client</h3>\n",
       "<ul style=\"text-align: left; list-style: none; margin: 0; padding: 0;\">\n",
       "  <li><b>Scheduler: </b>tcp://127.0.0.1:36287</li>\n",
       "  <li><b>Dashboard: </b><a href='http://127.0.0.1:8787/status' target='_blank'>http://127.0.0.1:8787/status</a></li>\n",
       "</ul>\n",
       "</td>\n",
       "<td style=\"vertical-align: top; border: 0px solid white\">\n",
       "<h3 style=\"text-align: left;\">Cluster</h3>\n",
       "<ul style=\"text-align: left; list-style:none; margin: 0; padding: 0;\">\n",
       "  <li><b>Workers: </b>6</li>\n",
       "  <li><b>Cores: </b>18</li>\n",
       "  <li><b>Memory: </b>1.76 TiB</li>\n",
       "</ul>\n",
       "</td>\n",
       "</tr>\n",
       "</table>"
      ],
      "text/plain": [
       "<Client: 'tcp://127.0.0.1:36287' processes=6 threads=18, memory=1.76 TiB>"
      ]
     },
     "execution_count": 20,
     "metadata": {},
     "output_type": "execute_result"
    }
   ],
   "source": [
    "import pandas as pd\n",
    "import numpy as np\n",
    "import plotly.graph_objects as go\n",
    "import plotly.express as px\n",
    "import itertools\n",
    "import random\n",
    "\n",
    "from dask.distributed import Client, progress\n",
    "import dask\n",
    "import dask.dataframe as dd\n",
    "client.shutdown()\n",
    "client.close()\n",
    "dask.config.set({'temporary_directory': '/pasteur/sonic/scratch/public/cduitama/RascovanProject/tmp/'})\n",
    "#dask.config.set({\"optimization.fuse.ave-width\": 5})\n",
    "client = Client()\n",
    "client"
   ]
  },
  {
   "cell_type": "markdown",
   "id": "8b6577a3",
   "metadata": {},
   "source": [
    "# Classification"
   ]
  },
  {
   "cell_type": "markdown",
   "id": "e39f391d",
   "metadata": {},
   "source": [
    "## Data preparation"
   ]
  },
  {
   "cell_type": "code",
   "execution_count": 8,
   "id": "8457c438",
   "metadata": {},
   "outputs": [],
   "source": [
    "#Removal of stool samples\n",
    "SRR_aSGenomes_HS_Oral=pd.read_csv(\"Metadata/aSGenomes/aSGenomes_HS_Oral_SRR.txt\",header=None,names=[\"SRR_accession\"])\n",
    "SRR_mMetagenomes_HS_Oral=pd.read_csv(\"Metadata/mMetagenomes/Oral_HS_mMetagenomes_SRR.txt\",\\\n",
    "                                     header=None,names=[\"SRR_accession\"])\n",
    "\n",
    "HS_Oral_metadata=pd.read_csv(\"Metadata/aMetagenomes/HS_Oral_metadata.csv\")\n",
    "SRR_HS_Oral=[\"Kmer\"]+list(HS_Oral_metadata[\"SRR_accession\"])\n",
    "\n",
    "\n",
    "SRR_HS_Oral_aMetagenomes=SRR_HS_Oral[1:]\n",
    "SRR_HS_Oral_aSGenomes=list(SRR_aSGenomes_HS_Oral.SRR_accession)\n",
    "SRR_HS_Oral_mMetagenomes=list(SRR_mMetagenomes_HS_Oral.SRR_accession)\n",
    "\n",
    "\n",
    "\n",
    "names=SRR_HS_Oral+SRR_HS_Oral_aSGenomes+SRR_HS_Oral_mMetagenomes\n",
    "combined_total=dd.read_table(\"kmMatrices/combination/combination_whole_matrix.txt\",sep=\" \",header=None,names=names)\n",
    "\n",
    "import csv\n",
    "\n",
    "with open('Metadata/combination/stool_accessions.txt', newline='') as f:\n",
    "    reader = csv.reader(f)\n",
    "    data = list(reader)\n",
    "\n",
    "stool_accessions=data[0]\n",
    "\n",
    "combined_total_clean=combined_total.drop(stool_accessions,axis=1)\n",
    "clean_names=[x for x in names if x not in stool_accessions]\n"
   ]
  },
  {
   "cell_type": "markdown",
   "id": "bdfdc7e7",
   "metadata": {},
   "source": [
    "### Labelling"
   ]
  },
  {
   "cell_type": "code",
   "execution_count": 4,
   "id": "5c6ab8cb",
   "metadata": {},
   "outputs": [],
   "source": [
    "to_take_2=np.genfromtxt(\"Classification/list_of_indeces_of_CleanRepresentativeSample.csv\",delimiter=\",\")"
   ]
  },
  {
   "cell_type": "code",
   "execution_count": 5,
   "id": "06eb65d0",
   "metadata": {},
   "outputs": [
    {
     "data": {
      "text/plain": [
       "9530199"
      ]
     },
     "execution_count": 5,
     "metadata": {},
     "output_type": "execute_result"
    }
   ],
   "source": [
    "len(to_take_2)"
   ]
  },
  {
   "cell_type": "code",
   "execution_count": 27,
   "id": "34c68e24",
   "metadata": {},
   "outputs": [],
   "source": [
    "classification_2=pd.read_csv(\"Preprocessed_data/combination/classification_2.csv\")"
   ]
  },
  {
   "cell_type": "code",
   "execution_count": 112,
   "id": "ccd925c5",
   "metadata": {},
   "outputs": [],
   "source": [
    "classification_2=pd.read_csv(\"Preprocessed_data/combination/classification_2.csv\")\n",
    "mMetagenomes_2=set(classification_2[(classification_2.Perc_mMetagenome > float(0))].index.values.tolist())\n",
    "aMetagenomes_2=set(classification_2[(classification_2.Perc_aMetagenome > float(0))].index.values.tolist())\n",
    "aSGenomes_2=set(classification_2[(classification_2.Perc_aSGenome > float(0))].index.values.tolist())\n",
    "intersection_2=set.intersection(aMetagenomes_2,mMetagenomes_2,aSGenomes_2)\n",
    "aMetagenomes_aSGenomes_2=aMetagenomes_2.intersection(aSGenomes_2)\n",
    "aMetagenomes_mMetagenomes_2=aMetagenomes_2.intersection(mMetagenomes_2)\n",
    "mMetagenomes_aSGenomes_2=mMetagenomes_2.intersection(aSGenomes_2)\n",
    "onlymMetagenomes_2=mMetagenomes_2-mMetagenomes_aSGenomes_2-aMetagenomes_mMetagenomes_2\n",
    "onlyaSGenomes_2=aSGenomes_2-mMetagenomes_aSGenomes_2-aMetagenomes_aSGenomes_2\n",
    "onlyaMetagenomes_2=aMetagenomes_2-aMetagenomes_aSGenomes_2-aMetagenomes_mMetagenomes_2\n",
    "\n",
    "one=intersection_2.intersection(set(to_take_2))\n",
    "two=onlyaMetagenomes_2.intersection(set(to_take_2))\n",
    "three=onlyaSGenomes_2.intersection(set(to_take_2))\n",
    "four=onlymMetagenomes_2.intersection(set(to_take_2))\n",
    "five=set(aMetagenomes_aSGenomes_2-intersection_2).intersection(set(to_take_2))\n",
    "six=set(aMetagenomes_mMetagenomes_2-intersection_2).intersection(set(to_take_2))\n",
    "seven=set(mMetagenomes_aSGenomes_2-intersection_2).intersection(set(to_take_2))"
   ]
  },
  {
   "cell_type": "code",
   "execution_count": null,
   "id": "15e024a0",
   "metadata": {},
   "outputs": [],
   "source": [
    "#1=Ancient\n",
    "#2=NonAncient\n",
    "to_take=list(one)+list(two)+list(three)+list(four)+list(five)+list(six)+list(seven)\n",
    "labels=[]\n",
    "labels=labels+[False]*len(one)\n",
    "labels=labels+[False]*len(two)\n",
    "labels=labels+[True]*len(three)\n",
    "labels=labels+[False]*len(four)\n",
    "labels=labels+[True]*len(five)\n",
    "labels=labels+[False]*len(six)\n",
    "labels=labels+[True]*len(seven)\n",
    "Data = pd.DataFrame(list(zip(to_take, labels)),\n",
    "               columns =['Index', 'Label'])\n",
    "Data.sort_values(by='Index' , inplace=True)\n",
    "Data=Data.reset_index()\n",
    "\n",
    "Data=Data.drop(\"index\",axis=1)\n",
    "Data.head()\n",
    "\n",
    "np.savetxt(\"Classification/Labels_CleanRepresentativeSample.csv\",Data[\"Label\"], delimiter=',')\n",
    "\n"
   ]
  },
  {
   "cell_type": "code",
   "execution_count": 5,
   "id": "f0f631cf",
   "metadata": {},
   "outputs": [],
   "source": [
    "labels_CleanRepresentativeSample=np.genfromtxt(\"Classification/Labels_CleanRepresentativeSample.csv\",delimiter=\",\")"
   ]
  },
  {
   "cell_type": "markdown",
   "id": "df29357f",
   "metadata": {},
   "source": [
    "## Data splitting"
   ]
  },
  {
   "cell_type": "code",
   "execution_count": 6,
   "id": "1f2f96ab",
   "metadata": {},
   "outputs": [
    {
     "data": {
      "text/plain": [
       "(9530199,)"
      ]
     },
     "execution_count": 6,
     "metadata": {},
     "output_type": "execute_result"
    }
   ],
   "source": [
    "labels_CleanRepresentativeSample.shape"
   ]
  },
  {
   "cell_type": "code",
   "execution_count": 7,
   "id": "609d9dd1",
   "metadata": {},
   "outputs": [],
   "source": [
    "ikmers=dict()\n",
    "imatrices=dict()\n",
    "\n",
    "all_kmers=combined_total_clean.Kmer.compute()\n",
    "all_kmers=all_kmers.reset_index()\n",
    "all_kmers=all_kmers.drop(\"index\",axis=1)\n",
    "ikmers[\"CleanRepresentativeSample\"]=all_kmers.iloc[to_take_2]\n",
    "\n",
    "icombined_total_clean=combined_total_clean[combined_total_clean[\"Kmer\"].isin(ikmers[\"CleanRepresentativeSample\"][\"Kmer\"])]\n",
    "\n",
    "imatrices[\"CleanRepresentativeSample\"]=icombined_total_clean.drop(\"Kmer\",axis=1).values"
   ]
  },
  {
   "cell_type": "code",
   "execution_count": 8,
   "id": "6d8df35e",
   "metadata": {},
   "outputs": [
    {
     "name": "stderr",
     "output_type": "stream",
     "text": [
      "/pasteur/sonic/scratch/public/cduitama/Software/anaconda3/lib/python3.8/site-packages/dask/array/core.py:1488: FutureWarning: The `numpy.may_share_memory` function is not implemented by Dask array. You may want to use the da.map_blocks function or something similar to silence this warning. Your code may stop working in a future release.\n",
      "  warnings.warn(\n"
     ]
    }
   ],
   "source": [
    "from sklearn.preprocessing import Binarizer\n",
    "icombined_total=imatrices[\"CleanRepresentativeSample\"]\n",
    "transformer = Binarizer().fit(icombined_total)  # fit does nothing.\n",
    "b_icombined_total=transformer.transform(icombined_total)"
   ]
  },
  {
   "cell_type": "code",
   "execution_count": 126,
   "id": "4b591756",
   "metadata": {},
   "outputs": [],
   "source": [
    "#Split data into training and testing with non-blockwise shuffling\n",
    "import dask.array as da\n",
    "from dask_ml.model_selection import train_test_split\n",
    "X=b_icombined_total\n",
    "y=labels_CleanRepresentativeSample\n",
    "#y=y.rechunk((55555, 1))\n",
    "X_train, X_test, y_train, y_test = train_test_split(X, y,train_size=0.5,shuffle=True,blockwise=False)"
   ]
  },
  {
   "cell_type": "code",
   "execution_count": 10,
   "id": "6ecbaf9c",
   "metadata": {},
   "outputs": [
    {
     "name": "stdout",
     "output_type": "stream",
     "text": [
      "(4765099, 294)\n",
      "(4765099,)\n",
      "(4765100, 294)\n",
      "(4765100,)\n"
     ]
    }
   ],
   "source": [
    "print(X_train.shape)\n",
    "\n",
    "print(y_train.shape)\n",
    "\n",
    "print(X_test.shape)\n",
    "\n",
    "print(y_test.shape)"
   ]
  },
  {
   "cell_type": "markdown",
   "id": "d9b18e1a",
   "metadata": {},
   "source": [
    "# Logistic regression"
   ]
  },
  {
   "cell_type": "code",
   "execution_count": 171,
   "id": "d7b6ba46",
   "metadata": {},
   "outputs": [],
   "source": [
    "import joblib\n",
    "from sklearn.linear_model import LogisticRegression\n",
    "LR = LogisticRegression(class_weight=\"balanced\",n_jobs=-1)\n",
    "with joblib.parallel_backend('dask'):\n",
    "    LR.fit(X_train, y_train)\n",
    "    y_test_predicted_LR=LR.predict(X_test)\n",
    "    y_train_predicted_LR=LR.predict(X_train)\n",
    "    y_train_score_LR=LR.predict_proba(X_train)[:, 1]\n",
    "    y_test_score_LR=LR.predict_proba(X_test)[:, 1]"
   ]
  },
  {
   "cell_type": "raw",
   "id": "b6ecb970",
   "metadata": {},
   "source": [
    "import plotly.express as px\n",
    "from sklearn.linear_model import LogisticRegression\n",
    "from sklearn.metrics import precision_recall_curve, auc\n",
    "from sklearn.datasets import make_classification\n",
    "\n",
    "from sklearn.metrics import roc_curve, auc\n",
    "\n",
    "fpr, tpr, thresholds = roc_curve(y_train, y_train_score_LR)\n",
    "\n",
    "y_score = LR.predict_proba(X_train)[:, 1]\n",
    "\n",
    "precision, recall, thresholds = precision_recall_curve(y_train, y_score)\n",
    "\n",
    "fig = px.area(\n",
    "    x=recall, y=precision,\n",
    "    title=f'Precision-Recall Curve for Training (AUC={auc(fpr, tpr):.8f})',\n",
    "    labels=dict(x='Recall', y='Precision'),\n",
    "    width=700, height=500\n",
    ")\n",
    "fig.add_shape(\n",
    "    type='line', line=dict(dash='dash'),\n",
    "    x0=0, x1=1, y0=1, y1=0\n",
    ")\n",
    "fig.update_yaxes(scaleanchor=\"x\", scaleratio=1)\n",
    "fig.update_xaxes(constrain='domain')\n",
    "\n",
    "#fig.show()"
   ]
  },
  {
   "cell_type": "raw",
   "id": "fe28c0d7",
   "metadata": {},
   "source": [
    "import plotly.express as px\n",
    "from sklearn.linear_model import LogisticRegression\n",
    "from sklearn.metrics import precision_recall_curve, auc\n",
    "from sklearn.datasets import make_classification\n",
    "from sklearn.metrics import roc_curve, auc\n",
    "\n",
    "fpr, tpr, thresholds = roc_curve(y_train, y_train_score_LR)\n",
    "\n",
    "y_score = LR.predict_proba(X_test)[:, 1]\n",
    "\n",
    "precision, recall, thresholds = precision_recall_curve(y_test, y_score)\n",
    "\n",
    "fig = px.area(\n",
    "    x=recall, y=precision,\n",
    "    title=f'Precision-Recall Curve (AUC={auc(fpr, tpr):.8f})',\n",
    "    labels=dict(x='Recall', y='Precision'),\n",
    "    width=700, height=500\n",
    ")\n",
    "fig.add_shape(\n",
    "    type='line', line=dict(dash='dash'),\n",
    "    x0=0, x1=1, y0=1, y1=0\n",
    ")\n",
    "fig.update_yaxes(scaleanchor=\"x\", scaleratio=1)\n",
    "fig.update_xaxes(constrain='domain')\n",
    "\n",
    "#fig.show()"
   ]
  },
  {
   "cell_type": "code",
   "execution_count": 14,
   "id": "18d927e5",
   "metadata": {},
   "outputs": [
    {
     "data": {
      "text/plain": [
       "0.9984347773141473"
      ]
     },
     "execution_count": 14,
     "metadata": {},
     "output_type": "execute_result"
    }
   ],
   "source": [
    "from sklearn.metrics import balanced_accuracy_score\n",
    "balanced_accuracy_score(y_train, y_train_predicted_LR)\n"
   ]
  },
  {
   "cell_type": "code",
   "execution_count": 15,
   "id": "47771251",
   "metadata": {},
   "outputs": [
    {
     "data": {
      "text/plain": [
       "0.9983589784437881"
      ]
     },
     "execution_count": 15,
     "metadata": {},
     "output_type": "execute_result"
    }
   ],
   "source": [
    "balanced_accuracy_score(y_test, y_test_predicted_LR)"
   ]
  },
  {
   "cell_type": "code",
   "execution_count": 172,
   "id": "a8eee0d1",
   "metadata": {},
   "outputs": [],
   "source": [
    "np.savetxt(\"Classification/LR/y_test_predicted_labels.csv\",y_test_predicted_LR,delimiter=\",\")\n",
    "np.savetxt(\"Classification/LR/y_train_predicted_labels.csv\",y_train_predicted_LR,delimiter=\",\")\n",
    "np.savetxt(\"Classification/LR/y_test_true_labels.csv\",y_test,delimiter=\",\")\n",
    "np.savetxt(\"Classification/LR/y_train_true_labels.csv\",y_train,delimiter=\",\")\n",
    "np.savetxt(\"Classification/LR/y_train_score_LR.csv\",y_train_score_LR,delimiter=\",\")\n",
    "np.savetxt(\"Classification/LR/y_test_score_LR.csv\",y_test_score_LR,delimiter=\",\")\n",
    "np.savetxt(\"Classification/LR/Coefficients.csv\",LR.coef_[0],delimiter=\",\")"
   ]
  },
  {
   "cell_type": "code",
   "execution_count": 20,
   "id": "d4f71750",
   "metadata": {},
   "outputs": [],
   "source": [
    "y_test_predicted_LR=np.genfromtxt(\"Classification/LR/y_test_predicted_labels.csv\",delimiter=\",\")\n",
    "y_train_predicted_LR=np.genfromtxt(\"Classification/LR/y_train_predicted_labels.csv\",delimiter=\",\")\n",
    "y_test=np.genfromtxt(\"Classification/LR/y_test_true_labels.csv\",delimiter=\",\")\n",
    "y_train=np.genfromtxt(\"Classification/LR/y_train_true_labels.csv\",delimiter=\",\")\n",
    "y_train_score_LR=np.genfromtxt(\"Classification/LR/y_train_score_LR.csv\",delimiter=\",\")\n",
    "y_test_score_LR=np.genfromtxt(\"Classification/LR/y_test_score_LR.csv\",delimiter=\",\")\n",
    "LR_coef=np.genfromtxt(\"Classification/LR/Coefficients.csv\",delimiter=\",\")"
   ]
  },
  {
   "cell_type": "code",
   "execution_count": 173,
   "id": "f0210d6a",
   "metadata": {},
   "outputs": [],
   "source": [
    "combination_metadata=pd.read_csv(\"Metadata/combination/combination_metadata.csv\")\n",
    "import csv\n",
    "with open('Metadata/combination/stool_accessions.txt', newline='') as f:\n",
    "    reader = csv.reader(f)\n",
    "    data = list(reader)\n",
    "\n",
    "stool_accessions=data[0]\n",
    "combination_metadata=combination_metadata[-combination_metadata[\"Run_accession\"].isin(stool_accessions)]"
   ]
  },
  {
   "cell_type": "code",
   "execution_count": 174,
   "id": "2ae46f4c",
   "metadata": {},
   "outputs": [],
   "source": [
    "to_merge=combination_metadata[[\"Run_accession\",\"Type\"]]"
   ]
  },
  {
   "cell_type": "code",
   "execution_count": 175,
   "id": "3eb053f3",
   "metadata": {},
   "outputs": [],
   "source": [
    "Coef=pd.DataFrame()\n",
    "Coef[\"Coefficients\"]=np.absolute(LR_coef)\n",
    "Coef[\"Run_accession\"]=clean_names[1:]\n",
    "Coef=Coef.merge(to_merge,on=\"Run_accession\")\n",
    "fig = px.bar(Coef, x='Run_accession', y='Coefficients',hover_data=['Type'],color='Type')\n",
    "fig.write_html(\"Classification/LR/Plot_Regressors.html\")"
   ]
  },
  {
   "cell_type": "code",
   "execution_count": 196,
   "id": "249fa114",
   "metadata": {},
   "outputs": [],
   "source": [
    "Coef.to_csv(\"Classification/LR/Coefficients_DF.csv\",index=False)"
   ]
  },
  {
   "cell_type": "code",
   "execution_count": 176,
   "id": "02e0ea20",
   "metadata": {},
   "outputs": [
    {
     "data": {
      "application/vnd.plotly.v1+json": {
       "config": {
        "plotlyServerURL": "https://plotly.com"
       },
       "data": [
        {
         "alignmentgroup": "True",
         "customdata": [
          [
           "aMetagenome"
          ],
          [
           "aMetagenome"
          ],
          [
           "aMetagenome"
          ],
          [
           "aMetagenome"
          ],
          [
           "aMetagenome"
          ],
          [
           "aMetagenome"
          ],
          [
           "aMetagenome"
          ],
          [
           "aMetagenome"
          ],
          [
           "aMetagenome"
          ],
          [
           "aMetagenome"
          ],
          [
           "aMetagenome"
          ],
          [
           "aMetagenome"
          ],
          [
           "aMetagenome"
          ],
          [
           "aMetagenome"
          ],
          [
           "aMetagenome"
          ],
          [
           "aMetagenome"
          ],
          [
           "aMetagenome"
          ],
          [
           "aMetagenome"
          ],
          [
           "aMetagenome"
          ],
          [
           "aMetagenome"
          ],
          [
           "aMetagenome"
          ],
          [
           "aMetagenome"
          ],
          [
           "aMetagenome"
          ],
          [
           "aMetagenome"
          ],
          [
           "aMetagenome"
          ],
          [
           "aMetagenome"
          ],
          [
           "aMetagenome"
          ],
          [
           "aMetagenome"
          ],
          [
           "aMetagenome"
          ],
          [
           "aMetagenome"
          ],
          [
           "aMetagenome"
          ],
          [
           "aMetagenome"
          ],
          [
           "aMetagenome"
          ],
          [
           "aMetagenome"
          ],
          [
           "aMetagenome"
          ],
          [
           "aMetagenome"
          ],
          [
           "aMetagenome"
          ],
          [
           "aMetagenome"
          ],
          [
           "aMetagenome"
          ],
          [
           "aMetagenome"
          ],
          [
           "aMetagenome"
          ],
          [
           "aMetagenome"
          ],
          [
           "aMetagenome"
          ],
          [
           "aMetagenome"
          ],
          [
           "aMetagenome"
          ],
          [
           "aMetagenome"
          ],
          [
           "aMetagenome"
          ],
          [
           "aMetagenome"
          ],
          [
           "aMetagenome"
          ],
          [
           "aMetagenome"
          ],
          [
           "aMetagenome"
          ],
          [
           "aMetagenome"
          ],
          [
           "aMetagenome"
          ],
          [
           "aMetagenome"
          ],
          [
           "aMetagenome"
          ],
          [
           "aMetagenome"
          ],
          [
           "aMetagenome"
          ],
          [
           "aMetagenome"
          ],
          [
           "aMetagenome"
          ],
          [
           "aMetagenome"
          ],
          [
           "aMetagenome"
          ],
          [
           "aMetagenome"
          ],
          [
           "aMetagenome"
          ],
          [
           "aMetagenome"
          ],
          [
           "aMetagenome"
          ],
          [
           "aMetagenome"
          ],
          [
           "aMetagenome"
          ],
          [
           "aMetagenome"
          ],
          [
           "aMetagenome"
          ],
          [
           "aMetagenome"
          ],
          [
           "aMetagenome"
          ],
          [
           "aMetagenome"
          ],
          [
           "aMetagenome"
          ],
          [
           "aMetagenome"
          ],
          [
           "aMetagenome"
          ],
          [
           "aMetagenome"
          ],
          [
           "aMetagenome"
          ],
          [
           "aMetagenome"
          ],
          [
           "aMetagenome"
          ],
          [
           "aMetagenome"
          ],
          [
           "aMetagenome"
          ],
          [
           "aMetagenome"
          ],
          [
           "aMetagenome"
          ],
          [
           "aMetagenome"
          ],
          [
           "aMetagenome"
          ],
          [
           "aMetagenome"
          ],
          [
           "aMetagenome"
          ],
          [
           "aMetagenome"
          ],
          [
           "aMetagenome"
          ],
          [
           "aMetagenome"
          ],
          [
           "aMetagenome"
          ],
          [
           "aMetagenome"
          ],
          [
           "aMetagenome"
          ],
          [
           "aMetagenome"
          ],
          [
           "aMetagenome"
          ],
          [
           "aMetagenome"
          ],
          [
           "aMetagenome"
          ],
          [
           "aMetagenome"
          ],
          [
           "aMetagenome"
          ],
          [
           "aMetagenome"
          ],
          [
           "aMetagenome"
          ],
          [
           "aMetagenome"
          ],
          [
           "aMetagenome"
          ],
          [
           "aMetagenome"
          ],
          [
           "aMetagenome"
          ],
          [
           "aMetagenome"
          ],
          [
           "aMetagenome"
          ],
          [
           "aMetagenome"
          ],
          [
           "aMetagenome"
          ],
          [
           "aMetagenome"
          ],
          [
           "aMetagenome"
          ],
          [
           "aMetagenome"
          ],
          [
           "aMetagenome"
          ],
          [
           "aMetagenome"
          ],
          [
           "aMetagenome"
          ],
          [
           "aMetagenome"
          ],
          [
           "aMetagenome"
          ],
          [
           "aMetagenome"
          ],
          [
           "aMetagenome"
          ],
          [
           "aMetagenome"
          ],
          [
           "aMetagenome"
          ],
          [
           "aMetagenome"
          ],
          [
           "aMetagenome"
          ],
          [
           "aMetagenome"
          ],
          [
           "aMetagenome"
          ],
          [
           "aMetagenome"
          ],
          [
           "aMetagenome"
          ],
          [
           "aMetagenome"
          ],
          [
           "aMetagenome"
          ],
          [
           "aMetagenome"
          ],
          [
           "aMetagenome"
          ],
          [
           "aMetagenome"
          ],
          [
           "aMetagenome"
          ],
          [
           "aMetagenome"
          ],
          [
           "aMetagenome"
          ],
          [
           "aMetagenome"
          ],
          [
           "aMetagenome"
          ],
          [
           "aMetagenome"
          ],
          [
           "aMetagenome"
          ],
          [
           "aMetagenome"
          ],
          [
           "aMetagenome"
          ],
          [
           "aMetagenome"
          ],
          [
           "aMetagenome"
          ],
          [
           "aMetagenome"
          ],
          [
           "aMetagenome"
          ],
          [
           "aMetagenome"
          ],
          [
           "aMetagenome"
          ],
          [
           "aMetagenome"
          ],
          [
           "aMetagenome"
          ],
          [
           "aMetagenome"
          ],
          [
           "aMetagenome"
          ],
          [
           "aMetagenome"
          ],
          [
           "aMetagenome"
          ],
          [
           "aMetagenome"
          ],
          [
           "aMetagenome"
          ],
          [
           "aMetagenome"
          ],
          [
           "aMetagenome"
          ],
          [
           "aMetagenome"
          ],
          [
           "aMetagenome"
          ],
          [
           "aMetagenome"
          ],
          [
           "aMetagenome"
          ],
          [
           "aMetagenome"
          ],
          [
           "aMetagenome"
          ],
          [
           "aMetagenome"
          ],
          [
           "aMetagenome"
          ],
          [
           "aMetagenome"
          ],
          [
           "aMetagenome"
          ],
          [
           "aMetagenome"
          ],
          [
           "aMetagenome"
          ],
          [
           "aMetagenome"
          ],
          [
           "aMetagenome"
          ],
          [
           "aMetagenome"
          ],
          [
           "aMetagenome"
          ],
          [
           "aMetagenome"
          ],
          [
           "aMetagenome"
          ],
          [
           "aMetagenome"
          ],
          [
           "aMetagenome"
          ],
          [
           "aMetagenome"
          ],
          [
           "aMetagenome"
          ],
          [
           "aMetagenome"
          ],
          [
           "aMetagenome"
          ],
          [
           "aMetagenome"
          ],
          [
           "aMetagenome"
          ],
          [
           "aMetagenome"
          ],
          [
           "aMetagenome"
          ],
          [
           "aMetagenome"
          ],
          [
           "aMetagenome"
          ],
          [
           "aMetagenome"
          ],
          [
           "aMetagenome"
          ],
          [
           "aMetagenome"
          ],
          [
           "aMetagenome"
          ],
          [
           "aMetagenome"
          ],
          [
           "aMetagenome"
          ],
          [
           "aMetagenome"
          ],
          [
           "aMetagenome"
          ],
          [
           "aMetagenome"
          ],
          [
           "aMetagenome"
          ],
          [
           "aMetagenome"
          ],
          [
           "aMetagenome"
          ],
          [
           "aMetagenome"
          ],
          [
           "aMetagenome"
          ],
          [
           "aMetagenome"
          ],
          [
           "aMetagenome"
          ],
          [
           "aMetagenome"
          ],
          [
           "aMetagenome"
          ],
          [
           "aMetagenome"
          ],
          [
           "aMetagenome"
          ],
          [
           "aMetagenome"
          ],
          [
           "aMetagenome"
          ],
          [
           "aMetagenome"
          ],
          [
           "aMetagenome"
          ],
          [
           "aMetagenome"
          ],
          [
           "aMetagenome"
          ],
          [
           "aMetagenome"
          ],
          [
           "aMetagenome"
          ],
          [
           "aMetagenome"
          ],
          [
           "aMetagenome"
          ],
          [
           "aMetagenome"
          ],
          [
           "aMetagenome"
          ],
          [
           "aMetagenome"
          ],
          [
           "aMetagenome"
          ],
          [
           "aMetagenome"
          ],
          [
           "aMetagenome"
          ],
          [
           "aMetagenome"
          ],
          [
           "aMetagenome"
          ],
          [
           "aMetagenome"
          ],
          [
           "aMetagenome"
          ],
          [
           "aMetagenome"
          ],
          [
           "aMetagenome"
          ],
          [
           "aMetagenome"
          ],
          [
           "aMetagenome"
          ],
          [
           "aMetagenome"
          ],
          [
           "aMetagenome"
          ],
          [
           "aMetagenome"
          ],
          [
           "aMetagenome"
          ],
          [
           "aMetagenome"
          ],
          [
           "aMetagenome"
          ],
          [
           "aMetagenome"
          ],
          [
           "aMetagenome"
          ],
          [
           "aMetagenome"
          ],
          [
           "aMetagenome"
          ],
          [
           "aMetagenome"
          ],
          [
           "aMetagenome"
          ],
          [
           "aMetagenome"
          ],
          [
           "aMetagenome"
          ],
          [
           "aMetagenome"
          ],
          [
           "aMetagenome"
          ],
          [
           "aMetagenome"
          ],
          [
           "aMetagenome"
          ],
          [
           "aMetagenome"
          ],
          [
           "aMetagenome"
          ],
          [
           "aMetagenome"
          ],
          [
           "aMetagenome"
          ],
          [
           "aMetagenome"
          ],
          [
           "aMetagenome"
          ],
          [
           "aMetagenome"
          ],
          [
           "aMetagenome"
          ],
          [
           "aMetagenome"
          ],
          [
           "aMetagenome"
          ],
          [
           "aMetagenome"
          ],
          [
           "aMetagenome"
          ],
          [
           "aMetagenome"
          ],
          [
           "aMetagenome"
          ],
          [
           "aMetagenome"
          ],
          [
           "aMetagenome"
          ],
          [
           "aMetagenome"
          ],
          [
           "aMetagenome"
          ],
          [
           "aMetagenome"
          ],
          [
           "aMetagenome"
          ],
          [
           "aMetagenome"
          ],
          [
           "aMetagenome"
          ],
          [
           "aMetagenome"
          ],
          [
           "aMetagenome"
          ],
          [
           "aMetagenome"
          ],
          [
           "aMetagenome"
          ],
          [
           "aMetagenome"
          ],
          [
           "aMetagenome"
          ],
          [
           "aMetagenome"
          ],
          [
           "aMetagenome"
          ],
          [
           "aMetagenome"
          ],
          [
           "aMetagenome"
          ]
         ],
         "hovertemplate": "Type=%{customdata[0]}<br>Run_accession=%{x}<br>Coefficients=%{y}<extra></extra>",
         "legendgroup": "aMetagenome",
         "marker": {
          "color": "#636efa"
         },
         "name": "aMetagenome",
         "offsetgroup": "aMetagenome",
         "orientation": "v",
         "showlegend": true,
         "textposition": "auto",
         "type": "bar",
         "x": [
          "SRR957738",
          "SRR957739",
          "SRR957740",
          "SRR957741",
          "SRR957742",
          "SRR957743",
          "SRR957744",
          "SRR957745",
          "SRR957746",
          "SRR6877286",
          "SRR6877284",
          "SRR6877290",
          "SRR6877288",
          "SRR6877292",
          "SRR6877323",
          "SRR6877304",
          "SRR6877305",
          "SRR6877392",
          "SRR6877308",
          "SRR6877303",
          "SRR6877372",
          "SRR6877370",
          "SRR6877376",
          "SRR6877374",
          "SRR6877378",
          "SRR6877388",
          "SRR6877390",
          "SRR6877384",
          "SRR6877386",
          "SRR6877382",
          "SRR6877354",
          "SRR6877356",
          "SRR6877350",
          "SRR6877352",
          "SRR6877358",
          "SRR6877367",
          "SRR6877365",
          "SRR6877363",
          "SRR6877361",
          "SRR6877369",
          "SRR6877338",
          "SRR6877336",
          "SRR6877334",
          "SRR6877332",
          "SRR6877330",
          "SRR6877342",
          "SRR6877344",
          "SRR6877346",
          "SRR6877348",
          "SRR6877340",
          "SRR6877395",
          "SRR6877397",
          "SRR6877399",
          "SRR6877401",
          "SRR6877403",
          "SRR6877294",
          "SRR6877328",
          "SRR6877339",
          "SRR6877296",
          "SRR6877300",
          "SRR6877316",
          "SRR6877318",
          "SRR6877320",
          "SRR6877322",
          "SRR6877313",
          "SRR6877312",
          "SRR6877310",
          "SRR6877326",
          "SRR6877324",
          "SRR6877282",
          "SRR6877393",
          "SRR2229976",
          "SRR2229974",
          "SRR9898613",
          "SRR5297130",
          "SRR5297133",
          "SRR5297132",
          "SRR5297131",
          "SRR12557008",
          "SRR12557006",
          "SRR12557007",
          "SRR11176627",
          "SRR11176628",
          "SRR11176629",
          "SRR11176630",
          "SRR11176631",
          "SRR11176632",
          "SRR11176633",
          "SRR11176634",
          "SRR11176635",
          "SRR11176636",
          "SRR11176638",
          "SRR11176639",
          "SRR11176640",
          "SRR11176641",
          "SRR11176642",
          "SRR12462938",
          "SRR12462939",
          "SRR12462940",
          "SRR12462941",
          "SRR12462942",
          "SRR12462943",
          "SRR12462944",
          "SRR12462945",
          "SRR12462930",
          "SRR12462931",
          "SRR12462932",
          "SRR12462933",
          "SRR12462934",
          "SRR12462935",
          "SRR12462936",
          "SRR12462937",
          "SRR12462946",
          "SRR12462947",
          "SRR12136713",
          "SRR12136712",
          "SRR5047194",
          "SRR5047069",
          "SRR5047060",
          "SRR5047075",
          "SRR5047111",
          "SRR5047132",
          "SRR5047159",
          "SRR5047164",
          "SRR5047166",
          "SRR5047048",
          "SRR5047157",
          "SRR5047051",
          "SRR5047170",
          "SRR5047165",
          "SRR5047057",
          "SRR5047086",
          "SRR5047187",
          "SRR5047043",
          "SRR5047101",
          "SRR5047080",
          "SRR5047146",
          "SRR5047070",
          "SRR5047118",
          "SRR5047085",
          "SRR5047138",
          "SRR5047168",
          "SRR5047077",
          "SRR5047156",
          "SRR5047058",
          "SRR5047068",
          "SRR5047200",
          "SRR5047097",
          "SRR5047198",
          "SRR5047176",
          "SRR5047177",
          "SRR5047076",
          "SRR5047203",
          "SRR5047126",
          "SRR5047115",
          "SRR5047195",
          "SRR5047127",
          "SRR5047045",
          "SRR5047100",
          "SRR5047106",
          "SRR5047088",
          "SRR5047191",
          "SRR5047065",
          "SRR5047180",
          "SRR5047119",
          "SRR5047134",
          "SRR5047094",
          "SRR5047053",
          "SRR5047196",
          "SRR5047073",
          "SRR5047109",
          "SRR5047095",
          "SRR5047183",
          "SRR5047081",
          "SRR5047140",
          "SRR5047162",
          "SRR5047090",
          "SRR5047082",
          "SRR5047083",
          "SRR5047067",
          "SRR5047113",
          "SRR5047190",
          "SRR5047040",
          "SRR5047172",
          "SRR5047181",
          "SRR5047201",
          "SRR5047114",
          "SRR5047046",
          "SRR5047117",
          "SRR5047161",
          "SRR5047169",
          "SRR5047062",
          "SRR5047193",
          "SRR5047152",
          "SRR5047182",
          "SRR5047071",
          "SRR5047063",
          "SRR5047054",
          "SRR5047160",
          "SRR5047178",
          "SRR5047123",
          "SRR5047143",
          "SRR5047089",
          "SRR5047197",
          "SRR5047136",
          "SRR5047047",
          "SRR5047092",
          "SRR5047079",
          "SRR5047199",
          "SRR5047074",
          "SRR5047129",
          "SRR5047108",
          "SRR5047151",
          "SRR5047102",
          "SRR5047179",
          "SRR5047137",
          "SRR5047144",
          "SRR5047189",
          "SRR5047121",
          "SRR5047098",
          "SRR5047124",
          "SRR5047041",
          "SRR5047087",
          "SRR5047185",
          "SRR5047184",
          "SRR5047120",
          "SRR5047091",
          "SRR5047122",
          "SRR5047066",
          "SRR5047052",
          "SRR5047093",
          "SRR5047147",
          "SRR5047155",
          "SRR5047116",
          "SRR5047167",
          "SRR5047133",
          "SRR5047173",
          "SRR5047107",
          "SRR5047059",
          "SRR5047141",
          "SRR5047163",
          "SRR5047049",
          "SRR5047145",
          "SRR5047128",
          "SRR5047188",
          "SRR5047186",
          "SRR5047148",
          "SRR5047104",
          "SRR5047061",
          "SRR5047078",
          "SRR5047042",
          "SRR5047149",
          "SRR5047044",
          "SRR5047055",
          "SRR5047112",
          "SRR5047154",
          "SRR5047204",
          "SRR5047125",
          "SRR5047153",
          "SRR5047174",
          "SRR5047056",
          "SRR5047130",
          "SRR5047139",
          "SRR5047175",
          "SRR5047050",
          "SRR5047192",
          "SRR5047110",
          "SRR5047131",
          "SRR5047072",
          "SRR5047096",
          "SRR5047150",
          "SRR5047099",
          "SRR5047084",
          "SRR5047171",
          "SRR5047158",
          "SRR5047135",
          "SRR5047202",
          "SRR5047105",
          "SRR5047103",
          "SRR5047142",
          "SRR5047064"
         ],
         "xaxis": "x",
         "y": [
          0.4822043815275893,
          0.057452099818710724,
          0.11674988481730324,
          0.1390319888135629,
          0.20673408547126454,
          0.17184055728418923,
          0.7623328055692465,
          0.2061023721992614,
          0.5870869615262716,
          0.2404042774077456,
          0.23542730289751848,
          0.017871062374535385,
          0.6188022999208083,
          1.2794811025793102,
          0.2781865617988419,
          0.8191293395632081,
          0.9750214217090413,
          0.3970836793320892,
          1.6573235697837339,
          0.2735072016425925,
          0.018346613603237277,
          0.21803131433381848,
          0.6399827255089066,
          0.33527371331035133,
          1.119910719404985,
          1.1636644337992972,
          0.038423047552270384,
          0.6144693487919047,
          0.008049652026144934,
          0.2531744872233749,
          0.07235565004519927,
          0.23694935051004604,
          0.3590923173049148,
          1.0561675085504942,
          0.32502248270076606,
          0.6211362289871263,
          0.6767269486407738,
          1.1726921311742133,
          0.5329122679416661,
          0.4913542435585797,
          0.30514803263315077,
          0.37500841443756683,
          1.3887303570683533,
          0.006062296241276839,
          0.43175296175143335,
          0.6889598877368325,
          0.5410313805017541,
          0.23770150216160352,
          0.32174507720604884,
          0.7252068116523692,
          0.15325729019068055,
          0.01730108047932986,
          0.5993353980801712,
          0.31180808454457,
          0.5955829242124506,
          0.03362122492484364,
          0.36149303039536884,
          0.18992502466835195,
          0.665678691157026,
          2.0319849755619996,
          0.03604248270052517,
          0.007441995517532702,
          0.6204095144759484,
          0.07238608795379933,
          0.3208307081926718,
          0.10804854118365952,
          0.17911733780914585,
          0.6333837815836572,
          0.36736312051662756,
          0.5077620320238586,
          0.23067068130239446,
          0.0012483736204283045,
          0,
          0.41563590659383154,
          0.25505317752141243,
          0.8395458845760935,
          2.5854266695895554,
          2.5475677975236857,
          2.21617019268353,
          0.38935385275725304,
          0.23932939460188807,
          0.21527482250992466,
          1.2282004039205519,
          0.36444570911617585,
          0.014450473679901132,
          0.472447094812434,
          0.895950588859707,
          0.1644980254659943,
          0.3110377140410333,
          0.22245380052307476,
          0.07316354842494498,
          0.09677558069487208,
          0.5734980505845313,
          0.18044621474918845,
          0.12941799750521257,
          0.032400546171161025,
          0.018257876947217557,
          0.9514646204499498,
          0.4329645446977074,
          0.24327299227206942,
          0.0565157297356603,
          0.19450054260758087,
          2.0069918464718355,
          0.7056318207652251,
          0.3080894404753012,
          0.1036762939353085,
          0.6621828362729095,
          0.08990104485469153,
          0.11728866503848866,
          0.49514855442230465,
          0.12297741710475882,
          0.49880890872836553,
          0.010128754838980831,
          0.3311645634227175,
          0.5306728885274867,
          1.0086952262087103,
          0.31716538862412286,
          0.291046983547334,
          1.581474657614561,
          3.7922065957766704,
          5.396152798908423,
          0.22692294678377004,
          5.652382489024236,
          0.3232129185599179,
          1.560425138780676,
          1.6381973925921858,
          0.2852209182000646,
          0.4002585817601992,
          0.08517615026329356,
          0.3761153897836503,
          0.28138838504176344,
          0.5454877378558606,
          0.09309221148596909,
          0.4568650756940289,
          0.3029820673723343,
          0.12274541538925554,
          0.5889087118261183,
          1.8282804043488488,
          0.8216676192921585,
          0.47200946567229846,
          1.5731472560075097,
          0.42209567513584023,
          0.8078257643300475,
          0.4160473278353295,
          0.3026625414150144,
          0.5677059996400358,
          0.03507231576994509,
          0.761384128671781,
          0.2321540167848109,
          0.28574177182213334,
          0.502545872200498,
          0.30473349001756195,
          0.010870031514596104,
          0.09140337821972938,
          0.501831000057756,
          1.444589932046713,
          0.2742152008924551,
          0.04207602638734933,
          0.12198770714804837,
          0.24678864312464516,
          0.09016314993669289,
          0.29560001966790483,
          0.34326483212787257,
          0.7202596331419624,
          0.20792045364001635,
          0.2815097138776706,
          0.15467833576161105,
          0.6283811186466642,
          0.2792667325096788,
          0.6183311125593829,
          0.7690417313313425,
          0.291213817177219,
          0.17003604103387973,
          0.32040815441915826,
          0.33550305147700704,
          0.2954000516947275,
          0.40098923773717404,
          0.1805095140380143,
          0.37330387458264525,
          0.5287924965129233,
          0.07315060854931912,
          0.5610034874840527,
          0.906868153752117,
          0.3738523897710332,
          0.0011591434804114366,
          0.7457212070597742,
          0.3502585674654173,
          1.1175445486521753,
          0.15274138754349245,
          0.24802792113162397,
          0.15328542933272357,
          0.6235522365523261,
          0.32577343628361194,
          0.6021082907955564,
          0.5867449097218114,
          0.021713122248972826,
          0.8593589226765362,
          0.5385978214657153,
          0.26794358524045564,
          0.29762353651928247,
          0.1013572684282997,
          0.0798197135150244,
          0.7196306934706355,
          0.8019287211613286,
          0.33241047348061603,
          0.45576433894693,
          0.6005256331069131,
          0.03589802427301923,
          0.45909445249381503,
          0.0273479409959767,
          1.7640434432511227,
          0.18383041454491425,
          0.4754780901873105,
          0.8882653892610797,
          0.3477654613777661,
          0.18402878705140402,
          0.6578368365325857,
          0.2727967104073484,
          0.09737847045229446,
          0.19899959472999762,
          0.4269647649907498,
          0.4373117348824907,
          0.4179038179238545,
          0.5543617004867901,
          0.20288827173802143,
          0.18726046114813671,
          0.5132442578931279,
          0.6637890642495775,
          0.22714187722721688,
          0.33075671192624523,
          0.5627637733930889,
          0.3209909143351443,
          0.16943370926936582,
          0.3603415667507789,
          0.7358773456607269,
          1.0461269706376572,
          0.38907164813515766,
          0.39661295810826863,
          0.46283778577060897,
          0.47165067284595713,
          0.6949650963175124,
          0.6170051187890417,
          0.4576625670312281,
          0.08759440150275696,
          0.6536556522772619,
          0.7156883649721927,
          0.3589772820676493,
          0.38028066586212006,
          0.5700546327199804,
          0.88103281784935,
          0.5732474106602683,
          0.9900462848264948,
          0.9887134233647806,
          0.005824343668745509,
          0.1832141882819719,
          0.8335575614078764,
          0.30970083913672597,
          0.6272216416899165,
          1.2100758372168277,
          0.18951125522722714,
          0.29190181571884155,
          0.24525883046196406,
          0.41415655825918735,
          0.8558408434035752,
          0.19195602487275937,
          0.23181931019350832,
          0.2881514414076583,
          0.39981512867171226,
          0.9677945767961584,
          0.8044224776843567,
          0.21969986825013574,
          0.10510919928755125,
          0.027317308231407104,
          1.2612566038419342,
          0.02800897866261851,
          0.19098958400156887,
          0.3963716274179136,
          0.1453649664351805,
          0.6398382326249781,
          1.3467468003225915,
          0.7584313957551976
         ],
         "yaxis": "y"
        },
        {
         "alignmentgroup": "True",
         "customdata": [
          [
           "aSGenome"
          ],
          [
           "aSGenome"
          ],
          [
           "aSGenome"
          ],
          [
           "aSGenome"
          ],
          [
           "aSGenome"
          ]
         ],
         "hovertemplate": "Type=%{customdata[0]}<br>Run_accession=%{x}<br>Coefficients=%{y}<extra></extra>",
         "legendgroup": "aSGenome",
         "marker": {
          "color": "#EF553B"
         },
         "name": "aSGenome",
         "offsetgroup": "aSGenome",
         "orientation": "v",
         "showlegend": true,
         "textposition": "auto",
         "type": "bar",
         "x": [
          "ERR1883904",
          "ERR2204628",
          "ERR2862146",
          "SRR12548766",
          "ERR4354257"
         ],
         "xaxis": "x",
         "y": [
          15.119266193101144,
          10.114696662031553,
          15.198424017360388,
          14.119733244823125,
          12.012772320294156
         ],
         "yaxis": "y"
        },
        {
         "alignmentgroup": "True",
         "customdata": [
          [
           "mMetagenome"
          ],
          [
           "mMetagenome"
          ],
          [
           "mMetagenome"
          ],
          [
           "mMetagenome"
          ],
          [
           "mMetagenome"
          ],
          [
           "mMetagenome"
          ],
          [
           "mMetagenome"
          ],
          [
           "mMetagenome"
          ]
         ],
         "hovertemplate": "Type=%{customdata[0]}<br>Run_accession=%{x}<br>Coefficients=%{y}<extra></extra>",
         "legendgroup": "mMetagenome",
         "marker": {
          "color": "#00cc96"
         },
         "name": "mMetagenome",
         "offsetgroup": "mMetagenome",
         "orientation": "v",
         "showlegend": true,
         "textposition": "auto",
         "type": "bar",
         "x": [
          "SRR1794618",
          "SRR1783758",
          "SRR1795018",
          "SRR1795009",
          "SRR5892215",
          "SRR5892210",
          "SRR5892193",
          "SRR5892198"
         ],
         "xaxis": "x",
         "y": [
          5.61472616188672,
          1.2772824754355787,
          0.7110939582795857,
          1.037137885259481,
          0.9335542041912339,
          0.7170258699670387,
          2.0667350485736304,
          0.20577078025392467
         ],
         "yaxis": "y"
        }
       ],
       "layout": {
        "barmode": "relative",
        "legend": {
         "title": {
          "text": "Type"
         },
         "tracegroupgap": 0
        },
        "margin": {
         "t": 60
        },
        "template": {
         "data": {
          "bar": [
           {
            "error_x": {
             "color": "#2a3f5f"
            },
            "error_y": {
             "color": "#2a3f5f"
            },
            "marker": {
             "line": {
              "color": "#E5ECF6",
              "width": 0.5
             }
            },
            "type": "bar"
           }
          ],
          "barpolar": [
           {
            "marker": {
             "line": {
              "color": "#E5ECF6",
              "width": 0.5
             }
            },
            "type": "barpolar"
           }
          ],
          "carpet": [
           {
            "aaxis": {
             "endlinecolor": "#2a3f5f",
             "gridcolor": "white",
             "linecolor": "white",
             "minorgridcolor": "white",
             "startlinecolor": "#2a3f5f"
            },
            "baxis": {
             "endlinecolor": "#2a3f5f",
             "gridcolor": "white",
             "linecolor": "white",
             "minorgridcolor": "white",
             "startlinecolor": "#2a3f5f"
            },
            "type": "carpet"
           }
          ],
          "choropleth": [
           {
            "colorbar": {
             "outlinewidth": 0,
             "ticks": ""
            },
            "type": "choropleth"
           }
          ],
          "contour": [
           {
            "colorbar": {
             "outlinewidth": 0,
             "ticks": ""
            },
            "colorscale": [
             [
              0,
              "#0d0887"
             ],
             [
              0.1111111111111111,
              "#46039f"
             ],
             [
              0.2222222222222222,
              "#7201a8"
             ],
             [
              0.3333333333333333,
              "#9c179e"
             ],
             [
              0.4444444444444444,
              "#bd3786"
             ],
             [
              0.5555555555555556,
              "#d8576b"
             ],
             [
              0.6666666666666666,
              "#ed7953"
             ],
             [
              0.7777777777777778,
              "#fb9f3a"
             ],
             [
              0.8888888888888888,
              "#fdca26"
             ],
             [
              1,
              "#f0f921"
             ]
            ],
            "type": "contour"
           }
          ],
          "contourcarpet": [
           {
            "colorbar": {
             "outlinewidth": 0,
             "ticks": ""
            },
            "type": "contourcarpet"
           }
          ],
          "heatmap": [
           {
            "colorbar": {
             "outlinewidth": 0,
             "ticks": ""
            },
            "colorscale": [
             [
              0,
              "#0d0887"
             ],
             [
              0.1111111111111111,
              "#46039f"
             ],
             [
              0.2222222222222222,
              "#7201a8"
             ],
             [
              0.3333333333333333,
              "#9c179e"
             ],
             [
              0.4444444444444444,
              "#bd3786"
             ],
             [
              0.5555555555555556,
              "#d8576b"
             ],
             [
              0.6666666666666666,
              "#ed7953"
             ],
             [
              0.7777777777777778,
              "#fb9f3a"
             ],
             [
              0.8888888888888888,
              "#fdca26"
             ],
             [
              1,
              "#f0f921"
             ]
            ],
            "type": "heatmap"
           }
          ],
          "heatmapgl": [
           {
            "colorbar": {
             "outlinewidth": 0,
             "ticks": ""
            },
            "colorscale": [
             [
              0,
              "#0d0887"
             ],
             [
              0.1111111111111111,
              "#46039f"
             ],
             [
              0.2222222222222222,
              "#7201a8"
             ],
             [
              0.3333333333333333,
              "#9c179e"
             ],
             [
              0.4444444444444444,
              "#bd3786"
             ],
             [
              0.5555555555555556,
              "#d8576b"
             ],
             [
              0.6666666666666666,
              "#ed7953"
             ],
             [
              0.7777777777777778,
              "#fb9f3a"
             ],
             [
              0.8888888888888888,
              "#fdca26"
             ],
             [
              1,
              "#f0f921"
             ]
            ],
            "type": "heatmapgl"
           }
          ],
          "histogram": [
           {
            "marker": {
             "colorbar": {
              "outlinewidth": 0,
              "ticks": ""
             }
            },
            "type": "histogram"
           }
          ],
          "histogram2d": [
           {
            "colorbar": {
             "outlinewidth": 0,
             "ticks": ""
            },
            "colorscale": [
             [
              0,
              "#0d0887"
             ],
             [
              0.1111111111111111,
              "#46039f"
             ],
             [
              0.2222222222222222,
              "#7201a8"
             ],
             [
              0.3333333333333333,
              "#9c179e"
             ],
             [
              0.4444444444444444,
              "#bd3786"
             ],
             [
              0.5555555555555556,
              "#d8576b"
             ],
             [
              0.6666666666666666,
              "#ed7953"
             ],
             [
              0.7777777777777778,
              "#fb9f3a"
             ],
             [
              0.8888888888888888,
              "#fdca26"
             ],
             [
              1,
              "#f0f921"
             ]
            ],
            "type": "histogram2d"
           }
          ],
          "histogram2dcontour": [
           {
            "colorbar": {
             "outlinewidth": 0,
             "ticks": ""
            },
            "colorscale": [
             [
              0,
              "#0d0887"
             ],
             [
              0.1111111111111111,
              "#46039f"
             ],
             [
              0.2222222222222222,
              "#7201a8"
             ],
             [
              0.3333333333333333,
              "#9c179e"
             ],
             [
              0.4444444444444444,
              "#bd3786"
             ],
             [
              0.5555555555555556,
              "#d8576b"
             ],
             [
              0.6666666666666666,
              "#ed7953"
             ],
             [
              0.7777777777777778,
              "#fb9f3a"
             ],
             [
              0.8888888888888888,
              "#fdca26"
             ],
             [
              1,
              "#f0f921"
             ]
            ],
            "type": "histogram2dcontour"
           }
          ],
          "mesh3d": [
           {
            "colorbar": {
             "outlinewidth": 0,
             "ticks": ""
            },
            "type": "mesh3d"
           }
          ],
          "parcoords": [
           {
            "line": {
             "colorbar": {
              "outlinewidth": 0,
              "ticks": ""
             }
            },
            "type": "parcoords"
           }
          ],
          "pie": [
           {
            "automargin": true,
            "type": "pie"
           }
          ],
          "scatter": [
           {
            "marker": {
             "colorbar": {
              "outlinewidth": 0,
              "ticks": ""
             }
            },
            "type": "scatter"
           }
          ],
          "scatter3d": [
           {
            "line": {
             "colorbar": {
              "outlinewidth": 0,
              "ticks": ""
             }
            },
            "marker": {
             "colorbar": {
              "outlinewidth": 0,
              "ticks": ""
             }
            },
            "type": "scatter3d"
           }
          ],
          "scattercarpet": [
           {
            "marker": {
             "colorbar": {
              "outlinewidth": 0,
              "ticks": ""
             }
            },
            "type": "scattercarpet"
           }
          ],
          "scattergeo": [
           {
            "marker": {
             "colorbar": {
              "outlinewidth": 0,
              "ticks": ""
             }
            },
            "type": "scattergeo"
           }
          ],
          "scattergl": [
           {
            "marker": {
             "colorbar": {
              "outlinewidth": 0,
              "ticks": ""
             }
            },
            "type": "scattergl"
           }
          ],
          "scattermapbox": [
           {
            "marker": {
             "colorbar": {
              "outlinewidth": 0,
              "ticks": ""
             }
            },
            "type": "scattermapbox"
           }
          ],
          "scatterpolar": [
           {
            "marker": {
             "colorbar": {
              "outlinewidth": 0,
              "ticks": ""
             }
            },
            "type": "scatterpolar"
           }
          ],
          "scatterpolargl": [
           {
            "marker": {
             "colorbar": {
              "outlinewidth": 0,
              "ticks": ""
             }
            },
            "type": "scatterpolargl"
           }
          ],
          "scatterternary": [
           {
            "marker": {
             "colorbar": {
              "outlinewidth": 0,
              "ticks": ""
             }
            },
            "type": "scatterternary"
           }
          ],
          "surface": [
           {
            "colorbar": {
             "outlinewidth": 0,
             "ticks": ""
            },
            "colorscale": [
             [
              0,
              "#0d0887"
             ],
             [
              0.1111111111111111,
              "#46039f"
             ],
             [
              0.2222222222222222,
              "#7201a8"
             ],
             [
              0.3333333333333333,
              "#9c179e"
             ],
             [
              0.4444444444444444,
              "#bd3786"
             ],
             [
              0.5555555555555556,
              "#d8576b"
             ],
             [
              0.6666666666666666,
              "#ed7953"
             ],
             [
              0.7777777777777778,
              "#fb9f3a"
             ],
             [
              0.8888888888888888,
              "#fdca26"
             ],
             [
              1,
              "#f0f921"
             ]
            ],
            "type": "surface"
           }
          ],
          "table": [
           {
            "cells": {
             "fill": {
              "color": "#EBF0F8"
             },
             "line": {
              "color": "white"
             }
            },
            "header": {
             "fill": {
              "color": "#C8D4E3"
             },
             "line": {
              "color": "white"
             }
            },
            "type": "table"
           }
          ]
         },
         "layout": {
          "annotationdefaults": {
           "arrowcolor": "#2a3f5f",
           "arrowhead": 0,
           "arrowwidth": 1
          },
          "autotypenumbers": "strict",
          "coloraxis": {
           "colorbar": {
            "outlinewidth": 0,
            "ticks": ""
           }
          },
          "colorscale": {
           "diverging": [
            [
             0,
             "#8e0152"
            ],
            [
             0.1,
             "#c51b7d"
            ],
            [
             0.2,
             "#de77ae"
            ],
            [
             0.3,
             "#f1b6da"
            ],
            [
             0.4,
             "#fde0ef"
            ],
            [
             0.5,
             "#f7f7f7"
            ],
            [
             0.6,
             "#e6f5d0"
            ],
            [
             0.7,
             "#b8e186"
            ],
            [
             0.8,
             "#7fbc41"
            ],
            [
             0.9,
             "#4d9221"
            ],
            [
             1,
             "#276419"
            ]
           ],
           "sequential": [
            [
             0,
             "#0d0887"
            ],
            [
             0.1111111111111111,
             "#46039f"
            ],
            [
             0.2222222222222222,
             "#7201a8"
            ],
            [
             0.3333333333333333,
             "#9c179e"
            ],
            [
             0.4444444444444444,
             "#bd3786"
            ],
            [
             0.5555555555555556,
             "#d8576b"
            ],
            [
             0.6666666666666666,
             "#ed7953"
            ],
            [
             0.7777777777777778,
             "#fb9f3a"
            ],
            [
             0.8888888888888888,
             "#fdca26"
            ],
            [
             1,
             "#f0f921"
            ]
           ],
           "sequentialminus": [
            [
             0,
             "#0d0887"
            ],
            [
             0.1111111111111111,
             "#46039f"
            ],
            [
             0.2222222222222222,
             "#7201a8"
            ],
            [
             0.3333333333333333,
             "#9c179e"
            ],
            [
             0.4444444444444444,
             "#bd3786"
            ],
            [
             0.5555555555555556,
             "#d8576b"
            ],
            [
             0.6666666666666666,
             "#ed7953"
            ],
            [
             0.7777777777777778,
             "#fb9f3a"
            ],
            [
             0.8888888888888888,
             "#fdca26"
            ],
            [
             1,
             "#f0f921"
            ]
           ]
          },
          "colorway": [
           "#636efa",
           "#EF553B",
           "#00cc96",
           "#ab63fa",
           "#FFA15A",
           "#19d3f3",
           "#FF6692",
           "#B6E880",
           "#FF97FF",
           "#FECB52"
          ],
          "font": {
           "color": "#2a3f5f"
          },
          "geo": {
           "bgcolor": "white",
           "lakecolor": "white",
           "landcolor": "#E5ECF6",
           "showlakes": true,
           "showland": true,
           "subunitcolor": "white"
          },
          "hoverlabel": {
           "align": "left"
          },
          "hovermode": "closest",
          "mapbox": {
           "style": "light"
          },
          "paper_bgcolor": "white",
          "plot_bgcolor": "#E5ECF6",
          "polar": {
           "angularaxis": {
            "gridcolor": "white",
            "linecolor": "white",
            "ticks": ""
           },
           "bgcolor": "#E5ECF6",
           "radialaxis": {
            "gridcolor": "white",
            "linecolor": "white",
            "ticks": ""
           }
          },
          "scene": {
           "xaxis": {
            "backgroundcolor": "#E5ECF6",
            "gridcolor": "white",
            "gridwidth": 2,
            "linecolor": "white",
            "showbackground": true,
            "ticks": "",
            "zerolinecolor": "white"
           },
           "yaxis": {
            "backgroundcolor": "#E5ECF6",
            "gridcolor": "white",
            "gridwidth": 2,
            "linecolor": "white",
            "showbackground": true,
            "ticks": "",
            "zerolinecolor": "white"
           },
           "zaxis": {
            "backgroundcolor": "#E5ECF6",
            "gridcolor": "white",
            "gridwidth": 2,
            "linecolor": "white",
            "showbackground": true,
            "ticks": "",
            "zerolinecolor": "white"
           }
          },
          "shapedefaults": {
           "line": {
            "color": "#2a3f5f"
           }
          },
          "ternary": {
           "aaxis": {
            "gridcolor": "white",
            "linecolor": "white",
            "ticks": ""
           },
           "baxis": {
            "gridcolor": "white",
            "linecolor": "white",
            "ticks": ""
           },
           "bgcolor": "#E5ECF6",
           "caxis": {
            "gridcolor": "white",
            "linecolor": "white",
            "ticks": ""
           }
          },
          "title": {
           "x": 0.05
          },
          "xaxis": {
           "automargin": true,
           "gridcolor": "white",
           "linecolor": "white",
           "ticks": "",
           "title": {
            "standoff": 15
           },
           "zerolinecolor": "white",
           "zerolinewidth": 2
          },
          "yaxis": {
           "automargin": true,
           "gridcolor": "white",
           "linecolor": "white",
           "ticks": "",
           "title": {
            "standoff": 15
           },
           "zerolinecolor": "white",
           "zerolinewidth": 2
          }
         }
        },
        "xaxis": {
         "anchor": "y",
         "domain": [
          0,
          1
         ],
         "title": {
          "text": "Run_accession"
         }
        },
        "yaxis": {
         "anchor": "x",
         "domain": [
          0,
          1
         ],
         "title": {
          "text": "Coefficients"
         }
        }
       }
      },
      "text/html": [
       "<div>                            <div id=\"fc9219fb-e7bf-46a7-93a6-218a0ef886b6\" class=\"plotly-graph-div\" style=\"height:525px; width:100%;\"></div>            <script type=\"text/javascript\">                require([\"plotly\"], function(Plotly) {                    window.PLOTLYENV=window.PLOTLYENV || {};                                    if (document.getElementById(\"fc9219fb-e7bf-46a7-93a6-218a0ef886b6\")) {                    Plotly.newPlot(                        \"fc9219fb-e7bf-46a7-93a6-218a0ef886b6\",                        [{\"alignmentgroup\": \"True\", \"customdata\": [[\"aMetagenome\"], [\"aMetagenome\"], [\"aMetagenome\"], [\"aMetagenome\"], [\"aMetagenome\"], [\"aMetagenome\"], [\"aMetagenome\"], [\"aMetagenome\"], [\"aMetagenome\"], [\"aMetagenome\"], [\"aMetagenome\"], [\"aMetagenome\"], [\"aMetagenome\"], [\"aMetagenome\"], [\"aMetagenome\"], [\"aMetagenome\"], [\"aMetagenome\"], [\"aMetagenome\"], [\"aMetagenome\"], [\"aMetagenome\"], [\"aMetagenome\"], [\"aMetagenome\"], [\"aMetagenome\"], [\"aMetagenome\"], [\"aMetagenome\"], [\"aMetagenome\"], [\"aMetagenome\"], [\"aMetagenome\"], [\"aMetagenome\"], [\"aMetagenome\"], [\"aMetagenome\"], [\"aMetagenome\"], [\"aMetagenome\"], [\"aMetagenome\"], [\"aMetagenome\"], [\"aMetagenome\"], [\"aMetagenome\"], [\"aMetagenome\"], [\"aMetagenome\"], [\"aMetagenome\"], [\"aMetagenome\"], [\"aMetagenome\"], [\"aMetagenome\"], [\"aMetagenome\"], [\"aMetagenome\"], [\"aMetagenome\"], [\"aMetagenome\"], [\"aMetagenome\"], [\"aMetagenome\"], [\"aMetagenome\"], [\"aMetagenome\"], [\"aMetagenome\"], [\"aMetagenome\"], [\"aMetagenome\"], [\"aMetagenome\"], [\"aMetagenome\"], [\"aMetagenome\"], [\"aMetagenome\"], [\"aMetagenome\"], [\"aMetagenome\"], [\"aMetagenome\"], [\"aMetagenome\"], [\"aMetagenome\"], [\"aMetagenome\"], [\"aMetagenome\"], [\"aMetagenome\"], [\"aMetagenome\"], [\"aMetagenome\"], [\"aMetagenome\"], [\"aMetagenome\"], [\"aMetagenome\"], [\"aMetagenome\"], [\"aMetagenome\"], [\"aMetagenome\"], [\"aMetagenome\"], [\"aMetagenome\"], [\"aMetagenome\"], [\"aMetagenome\"], [\"aMetagenome\"], [\"aMetagenome\"], [\"aMetagenome\"], [\"aMetagenome\"], [\"aMetagenome\"], [\"aMetagenome\"], [\"aMetagenome\"], [\"aMetagenome\"], [\"aMetagenome\"], [\"aMetagenome\"], [\"aMetagenome\"], [\"aMetagenome\"], [\"aMetagenome\"], [\"aMetagenome\"], [\"aMetagenome\"], [\"aMetagenome\"], [\"aMetagenome\"], [\"aMetagenome\"], [\"aMetagenome\"], [\"aMetagenome\"], [\"aMetagenome\"], [\"aMetagenome\"], [\"aMetagenome\"], [\"aMetagenome\"], [\"aMetagenome\"], [\"aMetagenome\"], [\"aMetagenome\"], [\"aMetagenome\"], [\"aMetagenome\"], [\"aMetagenome\"], [\"aMetagenome\"], [\"aMetagenome\"], [\"aMetagenome\"], [\"aMetagenome\"], [\"aMetagenome\"], [\"aMetagenome\"], [\"aMetagenome\"], [\"aMetagenome\"], [\"aMetagenome\"], [\"aMetagenome\"], [\"aMetagenome\"], [\"aMetagenome\"], [\"aMetagenome\"], [\"aMetagenome\"], [\"aMetagenome\"], [\"aMetagenome\"], [\"aMetagenome\"], [\"aMetagenome\"], [\"aMetagenome\"], [\"aMetagenome\"], [\"aMetagenome\"], [\"aMetagenome\"], [\"aMetagenome\"], [\"aMetagenome\"], [\"aMetagenome\"], [\"aMetagenome\"], [\"aMetagenome\"], [\"aMetagenome\"], [\"aMetagenome\"], [\"aMetagenome\"], [\"aMetagenome\"], [\"aMetagenome\"], [\"aMetagenome\"], [\"aMetagenome\"], [\"aMetagenome\"], [\"aMetagenome\"], [\"aMetagenome\"], [\"aMetagenome\"], [\"aMetagenome\"], [\"aMetagenome\"], [\"aMetagenome\"], [\"aMetagenome\"], [\"aMetagenome\"], [\"aMetagenome\"], [\"aMetagenome\"], [\"aMetagenome\"], [\"aMetagenome\"], [\"aMetagenome\"], [\"aMetagenome\"], [\"aMetagenome\"], [\"aMetagenome\"], [\"aMetagenome\"], [\"aMetagenome\"], [\"aMetagenome\"], [\"aMetagenome\"], [\"aMetagenome\"], [\"aMetagenome\"], [\"aMetagenome\"], [\"aMetagenome\"], [\"aMetagenome\"], [\"aMetagenome\"], [\"aMetagenome\"], [\"aMetagenome\"], [\"aMetagenome\"], [\"aMetagenome\"], [\"aMetagenome\"], [\"aMetagenome\"], [\"aMetagenome\"], [\"aMetagenome\"], [\"aMetagenome\"], [\"aMetagenome\"], [\"aMetagenome\"], [\"aMetagenome\"], [\"aMetagenome\"], [\"aMetagenome\"], [\"aMetagenome\"], [\"aMetagenome\"], [\"aMetagenome\"], [\"aMetagenome\"], [\"aMetagenome\"], [\"aMetagenome\"], [\"aMetagenome\"], [\"aMetagenome\"], [\"aMetagenome\"], [\"aMetagenome\"], [\"aMetagenome\"], [\"aMetagenome\"], [\"aMetagenome\"], [\"aMetagenome\"], [\"aMetagenome\"], [\"aMetagenome\"], [\"aMetagenome\"], [\"aMetagenome\"], [\"aMetagenome\"], [\"aMetagenome\"], [\"aMetagenome\"], [\"aMetagenome\"], [\"aMetagenome\"], [\"aMetagenome\"], [\"aMetagenome\"], [\"aMetagenome\"], [\"aMetagenome\"], [\"aMetagenome\"], [\"aMetagenome\"], [\"aMetagenome\"], [\"aMetagenome\"], [\"aMetagenome\"], [\"aMetagenome\"], [\"aMetagenome\"], [\"aMetagenome\"], [\"aMetagenome\"], [\"aMetagenome\"], [\"aMetagenome\"], [\"aMetagenome\"], [\"aMetagenome\"], [\"aMetagenome\"], [\"aMetagenome\"], [\"aMetagenome\"], [\"aMetagenome\"], [\"aMetagenome\"], [\"aMetagenome\"], [\"aMetagenome\"], [\"aMetagenome\"], [\"aMetagenome\"], [\"aMetagenome\"], [\"aMetagenome\"], [\"aMetagenome\"], [\"aMetagenome\"], [\"aMetagenome\"], [\"aMetagenome\"], [\"aMetagenome\"], [\"aMetagenome\"], [\"aMetagenome\"], [\"aMetagenome\"], [\"aMetagenome\"], [\"aMetagenome\"], [\"aMetagenome\"], [\"aMetagenome\"], [\"aMetagenome\"], [\"aMetagenome\"], [\"aMetagenome\"], [\"aMetagenome\"], [\"aMetagenome\"], [\"aMetagenome\"], [\"aMetagenome\"], [\"aMetagenome\"], [\"aMetagenome\"], [\"aMetagenome\"], [\"aMetagenome\"], [\"aMetagenome\"], [\"aMetagenome\"], [\"aMetagenome\"], [\"aMetagenome\"], [\"aMetagenome\"], [\"aMetagenome\"], [\"aMetagenome\"], [\"aMetagenome\"], [\"aMetagenome\"], [\"aMetagenome\"], [\"aMetagenome\"], [\"aMetagenome\"], [\"aMetagenome\"], [\"aMetagenome\"], [\"aMetagenome\"], [\"aMetagenome\"], [\"aMetagenome\"], [\"aMetagenome\"], [\"aMetagenome\"], [\"aMetagenome\"], [\"aMetagenome\"], [\"aMetagenome\"], [\"aMetagenome\"], [\"aMetagenome\"]], \"hovertemplate\": \"Type=%{customdata[0]}<br>Run_accession=%{x}<br>Coefficients=%{y}<extra></extra>\", \"legendgroup\": \"aMetagenome\", \"marker\": {\"color\": \"#636efa\"}, \"name\": \"aMetagenome\", \"offsetgroup\": \"aMetagenome\", \"orientation\": \"v\", \"showlegend\": true, \"textposition\": \"auto\", \"type\": \"bar\", \"x\": [\"SRR957738\", \"SRR957739\", \"SRR957740\", \"SRR957741\", \"SRR957742\", \"SRR957743\", \"SRR957744\", \"SRR957745\", \"SRR957746\", \"SRR6877286\", \"SRR6877284\", \"SRR6877290\", \"SRR6877288\", \"SRR6877292\", \"SRR6877323\", \"SRR6877304\", \"SRR6877305\", \"SRR6877392\", \"SRR6877308\", \"SRR6877303\", \"SRR6877372\", \"SRR6877370\", \"SRR6877376\", \"SRR6877374\", \"SRR6877378\", \"SRR6877388\", \"SRR6877390\", \"SRR6877384\", \"SRR6877386\", \"SRR6877382\", \"SRR6877354\", \"SRR6877356\", \"SRR6877350\", \"SRR6877352\", \"SRR6877358\", \"SRR6877367\", \"SRR6877365\", \"SRR6877363\", \"SRR6877361\", \"SRR6877369\", \"SRR6877338\", \"SRR6877336\", \"SRR6877334\", \"SRR6877332\", \"SRR6877330\", \"SRR6877342\", \"SRR6877344\", \"SRR6877346\", \"SRR6877348\", \"SRR6877340\", \"SRR6877395\", \"SRR6877397\", \"SRR6877399\", \"SRR6877401\", \"SRR6877403\", \"SRR6877294\", \"SRR6877328\", \"SRR6877339\", \"SRR6877296\", \"SRR6877300\", \"SRR6877316\", \"SRR6877318\", \"SRR6877320\", \"SRR6877322\", \"SRR6877313\", \"SRR6877312\", \"SRR6877310\", \"SRR6877326\", \"SRR6877324\", \"SRR6877282\", \"SRR6877393\", \"SRR2229976\", \"SRR2229974\", \"SRR9898613\", \"SRR5297130\", \"SRR5297133\", \"SRR5297132\", \"SRR5297131\", \"SRR12557008\", \"SRR12557006\", \"SRR12557007\", \"SRR11176627\", \"SRR11176628\", \"SRR11176629\", \"SRR11176630\", \"SRR11176631\", \"SRR11176632\", \"SRR11176633\", \"SRR11176634\", \"SRR11176635\", \"SRR11176636\", \"SRR11176638\", \"SRR11176639\", \"SRR11176640\", \"SRR11176641\", \"SRR11176642\", \"SRR12462938\", \"SRR12462939\", \"SRR12462940\", \"SRR12462941\", \"SRR12462942\", \"SRR12462943\", \"SRR12462944\", \"SRR12462945\", \"SRR12462930\", \"SRR12462931\", \"SRR12462932\", \"SRR12462933\", \"SRR12462934\", \"SRR12462935\", \"SRR12462936\", \"SRR12462937\", \"SRR12462946\", \"SRR12462947\", \"SRR12136713\", \"SRR12136712\", \"SRR5047194\", \"SRR5047069\", \"SRR5047060\", \"SRR5047075\", \"SRR5047111\", \"SRR5047132\", \"SRR5047159\", \"SRR5047164\", \"SRR5047166\", \"SRR5047048\", \"SRR5047157\", \"SRR5047051\", \"SRR5047170\", \"SRR5047165\", \"SRR5047057\", \"SRR5047086\", \"SRR5047187\", \"SRR5047043\", \"SRR5047101\", \"SRR5047080\", \"SRR5047146\", \"SRR5047070\", \"SRR5047118\", \"SRR5047085\", \"SRR5047138\", \"SRR5047168\", \"SRR5047077\", \"SRR5047156\", \"SRR5047058\", \"SRR5047068\", \"SRR5047200\", \"SRR5047097\", \"SRR5047198\", \"SRR5047176\", \"SRR5047177\", \"SRR5047076\", \"SRR5047203\", \"SRR5047126\", \"SRR5047115\", \"SRR5047195\", \"SRR5047127\", \"SRR5047045\", \"SRR5047100\", \"SRR5047106\", \"SRR5047088\", \"SRR5047191\", \"SRR5047065\", \"SRR5047180\", \"SRR5047119\", \"SRR5047134\", \"SRR5047094\", \"SRR5047053\", \"SRR5047196\", \"SRR5047073\", \"SRR5047109\", \"SRR5047095\", \"SRR5047183\", \"SRR5047081\", \"SRR5047140\", \"SRR5047162\", \"SRR5047090\", \"SRR5047082\", \"SRR5047083\", \"SRR5047067\", \"SRR5047113\", \"SRR5047190\", \"SRR5047040\", \"SRR5047172\", \"SRR5047181\", \"SRR5047201\", \"SRR5047114\", \"SRR5047046\", \"SRR5047117\", \"SRR5047161\", \"SRR5047169\", \"SRR5047062\", \"SRR5047193\", \"SRR5047152\", \"SRR5047182\", \"SRR5047071\", \"SRR5047063\", \"SRR5047054\", \"SRR5047160\", \"SRR5047178\", \"SRR5047123\", \"SRR5047143\", \"SRR5047089\", \"SRR5047197\", \"SRR5047136\", \"SRR5047047\", \"SRR5047092\", \"SRR5047079\", \"SRR5047199\", \"SRR5047074\", \"SRR5047129\", \"SRR5047108\", \"SRR5047151\", \"SRR5047102\", \"SRR5047179\", \"SRR5047137\", \"SRR5047144\", \"SRR5047189\", \"SRR5047121\", \"SRR5047098\", \"SRR5047124\", \"SRR5047041\", \"SRR5047087\", \"SRR5047185\", \"SRR5047184\", \"SRR5047120\", \"SRR5047091\", \"SRR5047122\", \"SRR5047066\", \"SRR5047052\", \"SRR5047093\", \"SRR5047147\", \"SRR5047155\", \"SRR5047116\", \"SRR5047167\", \"SRR5047133\", \"SRR5047173\", \"SRR5047107\", \"SRR5047059\", \"SRR5047141\", \"SRR5047163\", \"SRR5047049\", \"SRR5047145\", \"SRR5047128\", \"SRR5047188\", \"SRR5047186\", \"SRR5047148\", \"SRR5047104\", \"SRR5047061\", \"SRR5047078\", \"SRR5047042\", \"SRR5047149\", \"SRR5047044\", \"SRR5047055\", \"SRR5047112\", \"SRR5047154\", \"SRR5047204\", \"SRR5047125\", \"SRR5047153\", \"SRR5047174\", \"SRR5047056\", \"SRR5047130\", \"SRR5047139\", \"SRR5047175\", \"SRR5047050\", \"SRR5047192\", \"SRR5047110\", \"SRR5047131\", \"SRR5047072\", \"SRR5047096\", \"SRR5047150\", \"SRR5047099\", \"SRR5047084\", \"SRR5047171\", \"SRR5047158\", \"SRR5047135\", \"SRR5047202\", \"SRR5047105\", \"SRR5047103\", \"SRR5047142\", \"SRR5047064\"], \"xaxis\": \"x\", \"y\": [0.4822043815275893, 0.057452099818710724, 0.11674988481730324, 0.1390319888135629, 0.20673408547126454, 0.17184055728418923, 0.7623328055692465, 0.2061023721992614, 0.5870869615262716, 0.2404042774077456, 0.23542730289751848, 0.017871062374535385, 0.6188022999208083, 1.2794811025793102, 0.2781865617988419, 0.8191293395632081, 0.9750214217090413, 0.3970836793320892, 1.6573235697837339, 0.2735072016425925, 0.018346613603237277, 0.21803131433381848, 0.6399827255089066, 0.33527371331035133, 1.119910719404985, 1.1636644337992972, 0.038423047552270384, 0.6144693487919047, 0.008049652026144934, 0.2531744872233749, 0.07235565004519927, 0.23694935051004604, 0.3590923173049148, 1.0561675085504942, 0.32502248270076606, 0.6211362289871263, 0.6767269486407738, 1.1726921311742133, 0.5329122679416661, 0.4913542435585797, 0.30514803263315077, 0.37500841443756683, 1.3887303570683533, 0.006062296241276839, 0.43175296175143335, 0.6889598877368325, 0.5410313805017541, 0.23770150216160352, 0.32174507720604884, 0.7252068116523692, 0.15325729019068055, 0.01730108047932986, 0.5993353980801712, 0.31180808454457, 0.5955829242124506, 0.03362122492484364, 0.36149303039536884, 0.18992502466835195, 0.665678691157026, 2.0319849755619996, 0.03604248270052517, 0.007441995517532702, 0.6204095144759484, 0.07238608795379933, 0.3208307081926718, 0.10804854118365952, 0.17911733780914585, 0.6333837815836572, 0.36736312051662756, 0.5077620320238586, 0.23067068130239446, 0.0012483736204283045, 0.0, 0.41563590659383154, 0.25505317752141243, 0.8395458845760935, 2.5854266695895554, 2.5475677975236857, 2.21617019268353, 0.38935385275725304, 0.23932939460188807, 0.21527482250992466, 1.2282004039205519, 0.36444570911617585, 0.014450473679901132, 0.472447094812434, 0.895950588859707, 0.1644980254659943, 0.3110377140410333, 0.22245380052307476, 0.07316354842494498, 0.09677558069487208, 0.5734980505845313, 0.18044621474918845, 0.12941799750521257, 0.032400546171161025, 0.018257876947217557, 0.9514646204499498, 0.4329645446977074, 0.24327299227206942, 0.0565157297356603, 0.19450054260758087, 2.0069918464718355, 0.7056318207652251, 0.3080894404753012, 0.1036762939353085, 0.6621828362729095, 0.08990104485469153, 0.11728866503848866, 0.49514855442230465, 0.12297741710475882, 0.49880890872836553, 0.010128754838980831, 0.3311645634227175, 0.5306728885274867, 1.0086952262087103, 0.31716538862412286, 0.291046983547334, 1.581474657614561, 3.7922065957766704, 5.396152798908423, 0.22692294678377004, 5.652382489024236, 0.3232129185599179, 1.560425138780676, 1.6381973925921858, 0.2852209182000646, 0.4002585817601992, 0.08517615026329356, 0.3761153897836503, 0.28138838504176344, 0.5454877378558606, 0.09309221148596909, 0.4568650756940289, 0.3029820673723343, 0.12274541538925554, 0.5889087118261183, 1.8282804043488488, 0.8216676192921585, 0.47200946567229846, 1.5731472560075097, 0.42209567513584023, 0.8078257643300475, 0.4160473278353295, 0.3026625414150144, 0.5677059996400358, 0.03507231576994509, 0.761384128671781, 0.2321540167848109, 0.28574177182213334, 0.502545872200498, 0.30473349001756195, 0.010870031514596104, 0.09140337821972938, 0.501831000057756, 1.444589932046713, 0.2742152008924551, 0.04207602638734933, 0.12198770714804837, 0.24678864312464516, 0.09016314993669289, 0.29560001966790483, 0.34326483212787257, 0.7202596331419624, 0.20792045364001635, 0.2815097138776706, 0.15467833576161105, 0.6283811186466642, 0.2792667325096788, 0.6183311125593829, 0.7690417313313425, 0.291213817177219, 0.17003604103387973, 0.32040815441915826, 0.33550305147700704, 0.2954000516947275, 0.40098923773717404, 0.1805095140380143, 0.37330387458264525, 0.5287924965129233, 0.07315060854931912, 0.5610034874840527, 0.906868153752117, 0.3738523897710332, 0.0011591434804114366, 0.7457212070597742, 0.3502585674654173, 1.1175445486521753, 0.15274138754349245, 0.24802792113162397, 0.15328542933272357, 0.6235522365523261, 0.32577343628361194, 0.6021082907955564, 0.5867449097218114, 0.021713122248972826, 0.8593589226765362, 0.5385978214657153, 0.26794358524045564, 0.29762353651928247, 0.1013572684282997, 0.0798197135150244, 0.7196306934706355, 0.8019287211613286, 0.33241047348061603, 0.45576433894693, 0.6005256331069131, 0.03589802427301923, 0.45909445249381503, 0.0273479409959767, 1.7640434432511227, 0.18383041454491425, 0.4754780901873105, 0.8882653892610797, 0.3477654613777661, 0.18402878705140402, 0.6578368365325857, 0.2727967104073484, 0.09737847045229446, 0.19899959472999762, 0.4269647649907498, 0.4373117348824907, 0.4179038179238545, 0.5543617004867901, 0.20288827173802143, 0.18726046114813671, 0.5132442578931279, 0.6637890642495775, 0.22714187722721688, 0.33075671192624523, 0.5627637733930889, 0.3209909143351443, 0.16943370926936582, 0.3603415667507789, 0.7358773456607269, 1.0461269706376572, 0.38907164813515766, 0.39661295810826863, 0.46283778577060897, 0.47165067284595713, 0.6949650963175124, 0.6170051187890417, 0.4576625670312281, 0.08759440150275696, 0.6536556522772619, 0.7156883649721927, 0.3589772820676493, 0.38028066586212006, 0.5700546327199804, 0.88103281784935, 0.5732474106602683, 0.9900462848264948, 0.9887134233647806, 0.005824343668745509, 0.1832141882819719, 0.8335575614078764, 0.30970083913672597, 0.6272216416899165, 1.2100758372168277, 0.18951125522722714, 0.29190181571884155, 0.24525883046196406, 0.41415655825918735, 0.8558408434035752, 0.19195602487275937, 0.23181931019350832, 0.2881514414076583, 0.39981512867171226, 0.9677945767961584, 0.8044224776843567, 0.21969986825013574, 0.10510919928755125, 0.027317308231407104, 1.2612566038419342, 0.02800897866261851, 0.19098958400156887, 0.3963716274179136, 0.1453649664351805, 0.6398382326249781, 1.3467468003225915, 0.7584313957551976], \"yaxis\": \"y\"}, {\"alignmentgroup\": \"True\", \"customdata\": [[\"aSGenome\"], [\"aSGenome\"], [\"aSGenome\"], [\"aSGenome\"], [\"aSGenome\"]], \"hovertemplate\": \"Type=%{customdata[0]}<br>Run_accession=%{x}<br>Coefficients=%{y}<extra></extra>\", \"legendgroup\": \"aSGenome\", \"marker\": {\"color\": \"#EF553B\"}, \"name\": \"aSGenome\", \"offsetgroup\": \"aSGenome\", \"orientation\": \"v\", \"showlegend\": true, \"textposition\": \"auto\", \"type\": \"bar\", \"x\": [\"ERR1883904\", \"ERR2204628\", \"ERR2862146\", \"SRR12548766\", \"ERR4354257\"], \"xaxis\": \"x\", \"y\": [15.119266193101144, 10.114696662031553, 15.198424017360388, 14.119733244823125, 12.012772320294156], \"yaxis\": \"y\"}, {\"alignmentgroup\": \"True\", \"customdata\": [[\"mMetagenome\"], [\"mMetagenome\"], [\"mMetagenome\"], [\"mMetagenome\"], [\"mMetagenome\"], [\"mMetagenome\"], [\"mMetagenome\"], [\"mMetagenome\"]], \"hovertemplate\": \"Type=%{customdata[0]}<br>Run_accession=%{x}<br>Coefficients=%{y}<extra></extra>\", \"legendgroup\": \"mMetagenome\", \"marker\": {\"color\": \"#00cc96\"}, \"name\": \"mMetagenome\", \"offsetgroup\": \"mMetagenome\", \"orientation\": \"v\", \"showlegend\": true, \"textposition\": \"auto\", \"type\": \"bar\", \"x\": [\"SRR1794618\", \"SRR1783758\", \"SRR1795018\", \"SRR1795009\", \"SRR5892215\", \"SRR5892210\", \"SRR5892193\", \"SRR5892198\"], \"xaxis\": \"x\", \"y\": [5.61472616188672, 1.2772824754355787, 0.7110939582795857, 1.037137885259481, 0.9335542041912339, 0.7170258699670387, 2.0667350485736304, 0.20577078025392467], \"yaxis\": \"y\"}],                        {\"barmode\": \"relative\", \"legend\": {\"title\": {\"text\": \"Type\"}, \"tracegroupgap\": 0}, \"margin\": {\"t\": 60}, \"template\": {\"data\": {\"bar\": [{\"error_x\": {\"color\": \"#2a3f5f\"}, \"error_y\": {\"color\": \"#2a3f5f\"}, \"marker\": {\"line\": {\"color\": \"#E5ECF6\", \"width\": 0.5}}, \"type\": \"bar\"}], \"barpolar\": [{\"marker\": {\"line\": {\"color\": \"#E5ECF6\", \"width\": 0.5}}, \"type\": \"barpolar\"}], \"carpet\": [{\"aaxis\": {\"endlinecolor\": \"#2a3f5f\", \"gridcolor\": \"white\", \"linecolor\": \"white\", \"minorgridcolor\": \"white\", \"startlinecolor\": \"#2a3f5f\"}, \"baxis\": {\"endlinecolor\": \"#2a3f5f\", \"gridcolor\": \"white\", \"linecolor\": \"white\", \"minorgridcolor\": \"white\", \"startlinecolor\": \"#2a3f5f\"}, \"type\": \"carpet\"}], \"choropleth\": [{\"colorbar\": {\"outlinewidth\": 0, \"ticks\": \"\"}, \"type\": \"choropleth\"}], \"contour\": [{\"colorbar\": {\"outlinewidth\": 0, \"ticks\": \"\"}, \"colorscale\": [[0.0, \"#0d0887\"], [0.1111111111111111, \"#46039f\"], [0.2222222222222222, \"#7201a8\"], [0.3333333333333333, \"#9c179e\"], [0.4444444444444444, \"#bd3786\"], [0.5555555555555556, \"#d8576b\"], [0.6666666666666666, \"#ed7953\"], [0.7777777777777778, \"#fb9f3a\"], [0.8888888888888888, \"#fdca26\"], [1.0, \"#f0f921\"]], \"type\": \"contour\"}], \"contourcarpet\": [{\"colorbar\": {\"outlinewidth\": 0, \"ticks\": \"\"}, \"type\": \"contourcarpet\"}], \"heatmap\": [{\"colorbar\": {\"outlinewidth\": 0, \"ticks\": \"\"}, \"colorscale\": [[0.0, \"#0d0887\"], [0.1111111111111111, \"#46039f\"], [0.2222222222222222, \"#7201a8\"], [0.3333333333333333, \"#9c179e\"], [0.4444444444444444, \"#bd3786\"], [0.5555555555555556, \"#d8576b\"], [0.6666666666666666, \"#ed7953\"], [0.7777777777777778, \"#fb9f3a\"], [0.8888888888888888, \"#fdca26\"], [1.0, \"#f0f921\"]], \"type\": \"heatmap\"}], \"heatmapgl\": [{\"colorbar\": {\"outlinewidth\": 0, \"ticks\": \"\"}, \"colorscale\": [[0.0, \"#0d0887\"], [0.1111111111111111, \"#46039f\"], [0.2222222222222222, \"#7201a8\"], [0.3333333333333333, \"#9c179e\"], [0.4444444444444444, \"#bd3786\"], [0.5555555555555556, \"#d8576b\"], [0.6666666666666666, \"#ed7953\"], [0.7777777777777778, \"#fb9f3a\"], [0.8888888888888888, \"#fdca26\"], [1.0, \"#f0f921\"]], \"type\": \"heatmapgl\"}], \"histogram\": [{\"marker\": {\"colorbar\": {\"outlinewidth\": 0, \"ticks\": \"\"}}, \"type\": \"histogram\"}], \"histogram2d\": [{\"colorbar\": {\"outlinewidth\": 0, \"ticks\": \"\"}, \"colorscale\": [[0.0, \"#0d0887\"], [0.1111111111111111, \"#46039f\"], [0.2222222222222222, \"#7201a8\"], [0.3333333333333333, \"#9c179e\"], [0.4444444444444444, \"#bd3786\"], [0.5555555555555556, \"#d8576b\"], [0.6666666666666666, \"#ed7953\"], [0.7777777777777778, \"#fb9f3a\"], [0.8888888888888888, \"#fdca26\"], [1.0, \"#f0f921\"]], \"type\": \"histogram2d\"}], \"histogram2dcontour\": [{\"colorbar\": {\"outlinewidth\": 0, \"ticks\": \"\"}, \"colorscale\": [[0.0, \"#0d0887\"], [0.1111111111111111, \"#46039f\"], [0.2222222222222222, \"#7201a8\"], [0.3333333333333333, \"#9c179e\"], [0.4444444444444444, \"#bd3786\"], [0.5555555555555556, \"#d8576b\"], [0.6666666666666666, \"#ed7953\"], [0.7777777777777778, \"#fb9f3a\"], [0.8888888888888888, \"#fdca26\"], [1.0, \"#f0f921\"]], \"type\": \"histogram2dcontour\"}], \"mesh3d\": [{\"colorbar\": {\"outlinewidth\": 0, \"ticks\": \"\"}, \"type\": \"mesh3d\"}], \"parcoords\": [{\"line\": {\"colorbar\": {\"outlinewidth\": 0, \"ticks\": \"\"}}, \"type\": \"parcoords\"}], \"pie\": [{\"automargin\": true, \"type\": \"pie\"}], \"scatter\": [{\"marker\": {\"colorbar\": {\"outlinewidth\": 0, \"ticks\": \"\"}}, \"type\": \"scatter\"}], \"scatter3d\": [{\"line\": {\"colorbar\": {\"outlinewidth\": 0, \"ticks\": \"\"}}, \"marker\": {\"colorbar\": {\"outlinewidth\": 0, \"ticks\": \"\"}}, \"type\": \"scatter3d\"}], \"scattercarpet\": [{\"marker\": {\"colorbar\": {\"outlinewidth\": 0, \"ticks\": \"\"}}, \"type\": \"scattercarpet\"}], \"scattergeo\": [{\"marker\": {\"colorbar\": {\"outlinewidth\": 0, \"ticks\": \"\"}}, \"type\": \"scattergeo\"}], \"scattergl\": [{\"marker\": {\"colorbar\": {\"outlinewidth\": 0, \"ticks\": \"\"}}, \"type\": \"scattergl\"}], \"scattermapbox\": [{\"marker\": {\"colorbar\": {\"outlinewidth\": 0, \"ticks\": \"\"}}, \"type\": \"scattermapbox\"}], \"scatterpolar\": [{\"marker\": {\"colorbar\": {\"outlinewidth\": 0, \"ticks\": \"\"}}, \"type\": \"scatterpolar\"}], \"scatterpolargl\": [{\"marker\": {\"colorbar\": {\"outlinewidth\": 0, \"ticks\": \"\"}}, \"type\": \"scatterpolargl\"}], \"scatterternary\": [{\"marker\": {\"colorbar\": {\"outlinewidth\": 0, \"ticks\": \"\"}}, \"type\": \"scatterternary\"}], \"surface\": [{\"colorbar\": {\"outlinewidth\": 0, \"ticks\": \"\"}, \"colorscale\": [[0.0, \"#0d0887\"], [0.1111111111111111, \"#46039f\"], [0.2222222222222222, \"#7201a8\"], [0.3333333333333333, \"#9c179e\"], [0.4444444444444444, \"#bd3786\"], [0.5555555555555556, \"#d8576b\"], [0.6666666666666666, \"#ed7953\"], [0.7777777777777778, \"#fb9f3a\"], [0.8888888888888888, \"#fdca26\"], [1.0, \"#f0f921\"]], \"type\": \"surface\"}], \"table\": [{\"cells\": {\"fill\": {\"color\": \"#EBF0F8\"}, \"line\": {\"color\": \"white\"}}, \"header\": {\"fill\": {\"color\": \"#C8D4E3\"}, \"line\": {\"color\": \"white\"}}, \"type\": \"table\"}]}, \"layout\": {\"annotationdefaults\": {\"arrowcolor\": \"#2a3f5f\", \"arrowhead\": 0, \"arrowwidth\": 1}, \"autotypenumbers\": \"strict\", \"coloraxis\": {\"colorbar\": {\"outlinewidth\": 0, \"ticks\": \"\"}}, \"colorscale\": {\"diverging\": [[0, \"#8e0152\"], [0.1, \"#c51b7d\"], [0.2, \"#de77ae\"], [0.3, \"#f1b6da\"], [0.4, \"#fde0ef\"], [0.5, \"#f7f7f7\"], [0.6, \"#e6f5d0\"], [0.7, \"#b8e186\"], [0.8, \"#7fbc41\"], [0.9, \"#4d9221\"], [1, \"#276419\"]], \"sequential\": [[0.0, \"#0d0887\"], [0.1111111111111111, \"#46039f\"], [0.2222222222222222, \"#7201a8\"], [0.3333333333333333, \"#9c179e\"], [0.4444444444444444, \"#bd3786\"], [0.5555555555555556, \"#d8576b\"], [0.6666666666666666, \"#ed7953\"], [0.7777777777777778, \"#fb9f3a\"], [0.8888888888888888, \"#fdca26\"], [1.0, \"#f0f921\"]], \"sequentialminus\": [[0.0, \"#0d0887\"], [0.1111111111111111, \"#46039f\"], [0.2222222222222222, \"#7201a8\"], [0.3333333333333333, \"#9c179e\"], [0.4444444444444444, \"#bd3786\"], [0.5555555555555556, \"#d8576b\"], [0.6666666666666666, \"#ed7953\"], [0.7777777777777778, \"#fb9f3a\"], [0.8888888888888888, \"#fdca26\"], [1.0, \"#f0f921\"]]}, \"colorway\": [\"#636efa\", \"#EF553B\", \"#00cc96\", \"#ab63fa\", \"#FFA15A\", \"#19d3f3\", \"#FF6692\", \"#B6E880\", \"#FF97FF\", \"#FECB52\"], \"font\": {\"color\": \"#2a3f5f\"}, \"geo\": {\"bgcolor\": \"white\", \"lakecolor\": \"white\", \"landcolor\": \"#E5ECF6\", \"showlakes\": true, \"showland\": true, \"subunitcolor\": \"white\"}, \"hoverlabel\": {\"align\": \"left\"}, \"hovermode\": \"closest\", \"mapbox\": {\"style\": \"light\"}, \"paper_bgcolor\": \"white\", \"plot_bgcolor\": \"#E5ECF6\", \"polar\": {\"angularaxis\": {\"gridcolor\": \"white\", \"linecolor\": \"white\", \"ticks\": \"\"}, \"bgcolor\": \"#E5ECF6\", \"radialaxis\": {\"gridcolor\": \"white\", \"linecolor\": \"white\", \"ticks\": \"\"}}, \"scene\": {\"xaxis\": {\"backgroundcolor\": \"#E5ECF6\", \"gridcolor\": \"white\", \"gridwidth\": 2, \"linecolor\": \"white\", \"showbackground\": true, \"ticks\": \"\", \"zerolinecolor\": \"white\"}, \"yaxis\": {\"backgroundcolor\": \"#E5ECF6\", \"gridcolor\": \"white\", \"gridwidth\": 2, \"linecolor\": \"white\", \"showbackground\": true, \"ticks\": \"\", \"zerolinecolor\": \"white\"}, \"zaxis\": {\"backgroundcolor\": \"#E5ECF6\", \"gridcolor\": \"white\", \"gridwidth\": 2, \"linecolor\": \"white\", \"showbackground\": true, \"ticks\": \"\", \"zerolinecolor\": \"white\"}}, \"shapedefaults\": {\"line\": {\"color\": \"#2a3f5f\"}}, \"ternary\": {\"aaxis\": {\"gridcolor\": \"white\", \"linecolor\": \"white\", \"ticks\": \"\"}, \"baxis\": {\"gridcolor\": \"white\", \"linecolor\": \"white\", \"ticks\": \"\"}, \"bgcolor\": \"#E5ECF6\", \"caxis\": {\"gridcolor\": \"white\", \"linecolor\": \"white\", \"ticks\": \"\"}}, \"title\": {\"x\": 0.05}, \"xaxis\": {\"automargin\": true, \"gridcolor\": \"white\", \"linecolor\": \"white\", \"ticks\": \"\", \"title\": {\"standoff\": 15}, \"zerolinecolor\": \"white\", \"zerolinewidth\": 2}, \"yaxis\": {\"automargin\": true, \"gridcolor\": \"white\", \"linecolor\": \"white\", \"ticks\": \"\", \"title\": {\"standoff\": 15}, \"zerolinecolor\": \"white\", \"zerolinewidth\": 2}}}, \"xaxis\": {\"anchor\": \"y\", \"domain\": [0.0, 1.0], \"title\": {\"text\": \"Run_accession\"}}, \"yaxis\": {\"anchor\": \"x\", \"domain\": [0.0, 1.0], \"title\": {\"text\": \"Coefficients\"}}},                        {\"responsive\": true}                    ).then(function(){\n",
       "                            \n",
       "var gd = document.getElementById('fc9219fb-e7bf-46a7-93a6-218a0ef886b6');\n",
       "var x = new MutationObserver(function (mutations, observer) {{\n",
       "        var display = window.getComputedStyle(gd).display;\n",
       "        if (!display || display === 'none') {{\n",
       "            console.log([gd, 'removed!']);\n",
       "            Plotly.purge(gd);\n",
       "            observer.disconnect();\n",
       "        }}\n",
       "}});\n",
       "\n",
       "// Listen for the removal of the full notebook cells\n",
       "var notebookContainer = gd.closest('#notebook-container');\n",
       "if (notebookContainer) {{\n",
       "    x.observe(notebookContainer, {childList: true});\n",
       "}}\n",
       "\n",
       "// Listen for the clearing of the current output cell\n",
       "var outputEl = gd.closest('.output');\n",
       "if (outputEl) {{\n",
       "    x.observe(outputEl, {childList: true});\n",
       "}}\n",
       "\n",
       "                        })                };                });            </script>        </div>"
      ]
     },
     "metadata": {},
     "output_type": "display_data"
    }
   ],
   "source": [
    "fig.show()"
   ]
  },
  {
   "cell_type": "markdown",
   "id": "0aadcde1",
   "metadata": {},
   "source": [
    "# Random Forest"
   ]
  },
  {
   "cell_type": "code",
   "execution_count": 177,
   "id": "0c0c598f",
   "metadata": {},
   "outputs": [],
   "source": [
    "#Split data into training and testing with non-blockwise shuffling\n",
    "import dask.array as da\n",
    "from dask_ml.model_selection import train_test_split\n",
    "X=b_icombined_total\n",
    "y=labels_CleanRepresentativeSample\n",
    "X_train_small, X_test_big, y_train_small, y_test_big = train_test_split(X, y,train_size=0.01,shuffle=True,blockwise=False)"
   ]
  },
  {
   "cell_type": "code",
   "execution_count": 178,
   "id": "c6b6faf1",
   "metadata": {},
   "outputs": [
    {
     "name": "stdout",
     "output_type": "stream",
     "text": [
      "(95301, 294)\n",
      "(95301,)\n",
      "(9434898, 294)\n",
      "(9434898,)\n"
     ]
    }
   ],
   "source": [
    "print(X_train_small.shape)\n",
    "\n",
    "print(y_train_small.shape)\n",
    "\n",
    "print(X_test_big.shape)\n",
    "\n",
    "print(y_test_big.shape)"
   ]
  },
  {
   "cell_type": "code",
   "execution_count": 179,
   "id": "744cf66d",
   "metadata": {},
   "outputs": [],
   "source": [
    "from sklearn.ensemble import RandomForestClassifier\n",
    "import joblib\n",
    "RF = RandomForestClassifier(class_weight=\"balanced\",n_jobs=-1)\n",
    "with joblib.parallel_backend('dask'):\n",
    "    RF.fit(X_train_small, y_train_small)\n",
    "    y_test_predicted_RF=LR.predict(X_test_big)\n",
    "    y_train_predicted_RF=LR.predict(X_train_small)\n",
    "    y_train_score_RF=RF.predict_proba(X_train_small)[:, 1]\n",
    "    y_test_score_RF=RF.predict_proba(X_test_big)[:, 1]\n"
   ]
  },
  {
   "cell_type": "raw",
   "id": "896ed7c6",
   "metadata": {},
   "source": [
    "import plotly.express as px\n",
    "from sklearn.metrics import precision_recall_curve, auc\n",
    "from sklearn.datasets import make_classification\n",
    "\n",
    "from sklearn.metrics import roc_curve, auc\n",
    "\n",
    "fpr, tpr, thresholds = roc_curve(y_train_small, y_train_score_RF)\n",
    "\n",
    "y_score = RF.predict_proba(X_train_small)[:, 1]\n",
    "\n",
    "precision, recall, thresholds = precision_recall_curve(y_train_small, y_score)\n",
    "\n",
    "fig = px.area(\n",
    "    x=recall, y=precision,\n",
    "    title=f'Precision-Recall Curve for Training (AUC={auc(fpr, tpr):.8f})',\n",
    "    labels=dict(x='Recall', y='Precision'),\n",
    "    width=700, height=500\n",
    ")\n",
    "fig.add_shape(\n",
    "    type='line', line=dict(dash='dash'),\n",
    "    x0=0, x1=1, y0=1, y1=0\n",
    ")\n",
    "fig.update_yaxes(scaleanchor=\"x\", scaleratio=1)\n",
    "fig.update_xaxes(constrain='domain')\n",
    "\n",
    "#fig.show()"
   ]
  },
  {
   "cell_type": "raw",
   "id": "fa768dfa",
   "metadata": {},
   "source": [
    "# import plotly.express as px\n",
    "from sklearn.metrics import precision_recall_curve, auc\n",
    "from sklearn.datasets import make_classification\n",
    "\n",
    "from sklearn.metrics import roc_curve, auc\n",
    "\n",
    "fpr, tpr, thresholds = roc_curve(y_test_big, y_test_score_RF)\n",
    "\n",
    "y_score = RF.predict_proba(X_test_big)[:, 1]\n",
    "\n",
    "precision, recall, thresholds = precision_recall_curve(y_test_big, y_score)\n",
    "\n",
    "fig = px.area(\n",
    "    x=recall, y=precision,\n",
    "    title=f'Precision-Recall Curve for Training (AUC={auc(fpr, tpr):.8f})',\n",
    "    labels=dict(x='Recall', y='Precision'),\n",
    "    width=700, height=500\n",
    ")\n",
    "fig.add_shape(\n",
    "    type='line', line=dict(dash='dash'),\n",
    "    x0=0, x1=1, y0=1, y1=0\n",
    ")\n",
    "fig.update_yaxes(scaleanchor=\"x\", scaleratio=1)\n",
    "fig.update_xaxes(constrain='domain')\n",
    "\n",
    "#fig.show()"
   ]
  },
  {
   "cell_type": "code",
   "execution_count": 47,
   "id": "cb86568a",
   "metadata": {},
   "outputs": [
    {
     "data": {
      "text/plain": [
       "0.998394409626005"
      ]
     },
     "execution_count": 47,
     "metadata": {},
     "output_type": "execute_result"
    }
   ],
   "source": [
    "from sklearn.metrics import balanced_accuracy_score\n",
    "balanced_accuracy_score(y_test_big, y_test_predicted_RF)"
   ]
  },
  {
   "cell_type": "code",
   "execution_count": 180,
   "id": "96328b94",
   "metadata": {},
   "outputs": [],
   "source": [
    "np.savetxt(\"Classification/RF/y_test_predicted_labels.csv\",y_test_predicted_RF,delimiter=\",\")\n",
    "np.savetxt(\"Classification/RF/y_train_predicted_labels.csv\",y_train_predicted_RF,delimiter=\",\")\n",
    "np.savetxt(\"Classification/RF/y_test_true_labels.csv\",y_test_big,delimiter=\",\")\n",
    "np.savetxt(\"Classification/RF/y_train_true_labels.csv\",y_train_small,delimiter=\",\")\n",
    "np.savetxt(\"Classification/RF/y_train_score_RF.csv\",y_train_score_RF,delimiter=\",\")\n",
    "np.savetxt(\"Classification/RF/y_test_score_RF.csv\",y_test_score_RF,delimiter=\",\")"
   ]
  },
  {
   "cell_type": "markdown",
   "id": "5435ef86",
   "metadata": {},
   "source": [
    "# SVM"
   ]
  },
  {
   "cell_type": "markdown",
   "id": "a8c80195",
   "metadata": {},
   "source": [
    "ELastic net penalization + SGD training + SVM  \n",
    "\n",
    "Weights are adjusted in an inversely proportional way to class frequencies of the input data as n_samples"
   ]
  },
  {
   "cell_type": "code",
   "execution_count": 181,
   "id": "b09b1d43",
   "metadata": {},
   "outputs": [],
   "source": [
    "from sklearn.linear_model import SGDClassifier\n",
    "import joblib\n",
    "SVM = SGDClassifier(class_weight=\"balanced\",n_jobs=-1)\n",
    "with joblib.parallel_backend('dask'):\n",
    "    SVM.fit(X_train, y_train)\n",
    "    y_test_predicted_SVM=SVM.predict(X_test)\n",
    "    y_train_predicted_SVM=SVM.predict(X_train)\n",
    "    y_train_score_SVM=SVM.decision_function(X_train)\n",
    "    y_test_score_SVM=SVM.decision_function(X_test)"
   ]
  },
  {
   "cell_type": "code",
   "execution_count": 182,
   "id": "fffd0e39",
   "metadata": {},
   "outputs": [],
   "source": [
    "np.savetxt(\"Classification/SVM/y_test_predicted_labels.csv\",y_test_predicted_SVM,delimiter=\",\")\n",
    "np.savetxt(\"Classification/SVM/y_train_predicted_labels.csv\",y_train_predicted_SVM,delimiter=\",\")\n",
    "np.savetxt(\"Classification/SVM/y_test_true_labels.csv\",y_test,delimiter=\",\")\n",
    "np.savetxt(\"Classification/SVM/y_train_true_labels.csv\",y_train,delimiter=\",\")\n",
    "np.savetxt(\"Classification/SVM/y_train_score_SVM.csv\",y_train_score_SVM,delimiter=\",\")\n",
    "np.savetxt(\"Classification/SVM/y_test_score_SVM.csv\",y_test_score_SVM,delimiter=\",\")"
   ]
  },
  {
   "cell_type": "code",
   "execution_count": 80,
   "id": "cbf34684",
   "metadata": {},
   "outputs": [
    {
     "data": {
      "text/plain": [
       "0.9984347773141473"
      ]
     },
     "execution_count": 80,
     "metadata": {},
     "output_type": "execute_result"
    }
   ],
   "source": [
    "from sklearn.metrics import balanced_accuracy_score\n",
    "balanced_accuracy_score(y_train,y_train_predicted_LR)"
   ]
  },
  {
   "cell_type": "code",
   "execution_count": 81,
   "id": "e8b506fe",
   "metadata": {},
   "outputs": [
    {
     "data": {
      "text/plain": [
       "0.997841807693817"
      ]
     },
     "execution_count": 81,
     "metadata": {},
     "output_type": "execute_result"
    }
   ],
   "source": [
    "from sklearn.metrics import accuracy_score\n",
    "accuracy_score(y_train,y_train_predicted_LR)"
   ]
  },
  {
   "cell_type": "markdown",
   "id": "a9e5f4ad",
   "metadata": {},
   "source": [
    "# Balanced Bagging + Histogram Gradient Boosting"
   ]
  },
  {
   "cell_type": "code",
   "execution_count": 183,
   "id": "5be4a96e",
   "metadata": {},
   "outputs": [],
   "source": [
    "from sklearn.experimental import enable_hist_gradient_boosting  # noqa\n",
    "from sklearn.ensemble import HistGradientBoostingClassifier\n",
    "from imblearn.ensemble import BalancedBaggingClassifier\n",
    "BB=BalancedBaggingClassifier(n_jobs=-1,base_estimator=HistGradientBoostingClassifier())\n",
    "with joblib.parallel_backend('dask'):\n",
    "    BB.fit(X_train, y_train)\n",
    "    y_test_predicted_BB=BB.predict(X_test)\n",
    "    y_train_predicted_BB=BB.predict(X_train)\n",
    "    y_train_score_BB=BB.decision_function(X_train)\n",
    "    y_test_score_BB=BB.decision_function(X_test)"
   ]
  },
  {
   "cell_type": "code",
   "execution_count": 184,
   "id": "a177bb5b",
   "metadata": {},
   "outputs": [],
   "source": [
    "np.savetxt(\"Classification/Boosting+Bagging/y_test_predicted_labels.csv\",y_test_predicted_BB,delimiter=\",\")\n",
    "np.savetxt(\"Classification/Boosting+Bagging/y_train_predicted_labels.csv\",y_train_predicted_BB,delimiter=\",\")\n",
    "np.savetxt(\"Classification/Boosting+Bagging/y_test_true_labels.csv\",y_test,delimiter=\",\")\n",
    "np.savetxt(\"Classification/Boosting+Bagging/y_train_true_labels.csv\",y_train,delimiter=\",\")\n",
    "np.savetxt(\"Classification/Boosting+Bagging/y_train_score_BB.csv\",y_train_score_BB,delimiter=\",\")\n",
    "np.savetxt(\"Classification/Boosting+Bagging/y_test_score_BB.csv\",y_test_score_BB,delimiter=\",\")"
   ]
  },
  {
   "cell_type": "code",
   "execution_count": 85,
   "id": "69c17e7b",
   "metadata": {},
   "outputs": [
    {
     "data": {
      "text/plain": [
       "0.9996843717202938"
      ]
     },
     "execution_count": 85,
     "metadata": {},
     "output_type": "execute_result"
    }
   ],
   "source": [
    "from sklearn.metrics import accuracy_score\n",
    "accuracy_score(y_train,y_train_predicted_BB)"
   ]
  },
  {
   "cell_type": "code",
   "execution_count": 185,
   "id": "5d77e495",
   "metadata": {},
   "outputs": [],
   "source": [
    "ModelComparison=pd.DataFrame()\n",
    "ModelComparison[\"Models\"]=[\"Logistic Regression\",\"Random Forest Classifier\",\"SVM\", \"Histogram Gradient Boosting\"]\n",
    "ModelComparison[\"Training set/Dataset size ratio\"]=[np.round(X_train.shape[0]/X.shape[0],2),\\\n",
    "                                                   np.round(X_train_small.shape[0]/X.shape[0],2),\\\n",
    "                                                    np.round(X_train.shape[0]/X.shape[0],2),\\\n",
    "                                                    np.round(X_train.shape[0]/X.shape[0],2)]\n",
    "ModelComparison[\"Test set/Dataset size ratio\"]=[np.round(X_test.shape[0]/X.shape[0],2),\\\n",
    "                                                   np.round(X_test_big.shape[0]/X.shape[0],2),\\\n",
    "                                                    np.round(X_test.shape[0]/X.shape[0],2),\\\n",
    "                                                    np.round(X_test.shape[0]/X.shape[0],2)]"
   ]
  },
  {
   "cell_type": "code",
   "execution_count": 186,
   "id": "e5901889",
   "metadata": {},
   "outputs": [],
   "source": [
    "from sklearn.metrics import accuracy_score\n",
    "from sklearn.metrics import balanced_accuracy_score\n",
    "from sklearn.metrics import precision_score\n",
    "from sklearn.metrics import recall_score\n",
    "from sklearn.metrics import roc_auc_score\n",
    "\n",
    "ModelComparison[\"Imbalance correction\"]=[\"Weights inversely proportional to class frequencies\",\\\n",
    "                                        \"Weights inversely proportional to class frequencies\",\\\n",
    "                                        \"Weigths inversely proportional to class frequencies\",\\\n",
    "                                        \"Under sampling before every boosting sample\"]\n",
    "ModelComparison[\"Acccuracy Training\"]=[np.round(accuracy_score(y_train,y_train_predicted_LR),6),\\\n",
    "                                      np.round(accuracy_score(y_train_small,y_train_predicted_RF),6),\\\n",
    "                                      np.round(accuracy_score(y_train,y_train_predicted_SVM),6),\\\n",
    "                                      np.round(accuracy_score(y_train,y_train_predicted_BB),6),]\n",
    "ModelComparison[\"Acccuracy Testing\"]=[np.round(accuracy_score(y_test,y_test_predicted_LR),6),\\\n",
    "                                      np.round(accuracy_score(y_test_big,y_test_predicted_RF),6),\\\n",
    "                                      np.round(accuracy_score(y_test,y_test_predicted_SVM),6),\\\n",
    "                                      np.round(accuracy_score(y_test,y_test_predicted_BB),6),]\n",
    "ModelComparison[\"Balanced Acccuracy Training\"]=[np.round(balanced_accuracy_score(y_train,y_train_predicted_LR),6),\\\n",
    "                                      np.round(balanced_accuracy_score(y_train_small,y_train_predicted_RF),6),\\\n",
    "                                      np.round(balanced_accuracy_score(y_train,y_train_predicted_SVM),6),\\\n",
    "                                      np.round(balanced_accuracy_score(y_train,y_train_predicted_BB),6)]\n",
    "ModelComparison[\"Balanced Acccuracy Testing\"]=[np.round(balanced_accuracy_score(y_test,y_test_predicted_LR),6),\\\n",
    "                                      np.round(balanced_accuracy_score(y_test_big,y_test_predicted_RF),6),\\\n",
    "                                      np.round(balanced_accuracy_score(y_test,y_test_predicted_SVM),6),\\\n",
    "                                      np.round(balanced_accuracy_score(y_test,y_test_predicted_BB),6)]\n",
    "ModelComparison[\"Precision Training\"]=[np.round(precision_score(y_train,y_train_predicted_LR),6),\\\n",
    "                                      np.round(precision_score(y_train_small,y_train_predicted_RF),6),\\\n",
    "                                      np.round(precision_score(y_train,y_train_predicted_SVM),6),\\\n",
    "                                      np.round(precision_score(y_train,y_train_predicted_BB),6)]\n",
    "ModelComparison[\"Precision Testing\"]=[np.round(precision_score(y_test,y_test_predicted_LR),6),\\\n",
    "                                      np.round(precision_score(y_test_big,y_test_predicted_RF),6),\\\n",
    "                                      np.round(precision_score(y_test,y_test_predicted_SVM),6),\\\n",
    "                                      np.round(precision_score(y_test,y_test_predicted_BB),6)]\n",
    "ModelComparison[\"Recall Training\"]=[np.round(precision_score(y_train,y_train_predicted_LR),6),\\\n",
    "                                      np.round(precision_score(y_train_small,y_train_predicted_RF),6),\\\n",
    "                                      np.round(precision_score(y_train,y_train_predicted_SVM),6),\\\n",
    "                                      np.round(precision_score(y_train,y_train_predicted_BB),6)]\n",
    "ModelComparison[\"Recall Testing\"]=[np.round(precision_score(y_test,y_test_predicted_LR),6),\\\n",
    "                                      np.round(precision_score(y_test_big,y_test_predicted_RF),6),\\\n",
    "                                      np.round(precision_score(y_test,y_test_predicted_SVM),6),\\\n",
    "                                      np.round(precision_score(y_test,y_test_predicted_BB),6)]\n",
    "ModelComparison[\"Recall Training\"]=[np.round(recall_score(y_train,y_train_predicted_LR),6),\\\n",
    "                                      np.round(recall_score(y_train_small,y_train_predicted_RF),6),\\\n",
    "                                      np.round(recall_score(y_train,y_train_predicted_SVM),6),\\\n",
    "                                      np.round(recall_score(y_train,y_train_predicted_BB),6)]\n",
    "ModelComparison[\"Recall Testing\"]=[np.round(recall_score(y_test,y_test_predicted_LR),6),\\\n",
    "                                      np.round(recall_score(y_test_big,y_test_predicted_RF),6),\\\n",
    "                                      np.round(recall_score(y_test,y_test_predicted_SVM),6),\\\n",
    "                                      np.round(recall_score(y_test,y_test_predicted_BB),6)]\n",
    "ModelComparison[\"Recall Training\"]=[np.round(recall_score(y_train,y_train_predicted_LR),6),\\\n",
    "                                      np.round(recall_score(y_train_small,y_train_predicted_RF),6),\\\n",
    "                                      np.round(recall_score(y_train,y_train_predicted_SVM),6),\\\n",
    "                                      np.round(recall_score(y_train,y_train_predicted_BB),6)]\n",
    "ModelComparison[\"Recall Testing\"]=[np.round(recall_score(y_test,y_test_predicted_LR),6),\\\n",
    "                                      np.round(recall_score(y_test_big,y_test_predicted_RF),6),\\\n",
    "                                      np.round(recall_score(y_test,y_test_predicted_SVM),6),\\\n",
    "                                      np.round(recall_score(y_test,y_test_predicted_BB),6)]\n",
    "ModelComparison[\"AUC Training\"]=[np.round(roc_auc_score(y_train,y_train_predicted_LR),6),\\\n",
    "                                      np.round(roc_auc_score(y_train_small,y_train_predicted_RF),6),\\\n",
    "                                      np.round(roc_auc_score(y_train,y_train_predicted_SVM),6),\\\n",
    "                                      np.round(roc_auc_score(y_train,y_train_predicted_BB),6)]\n",
    "ModelComparison[\"AUC Testing\"]=[np.round(roc_auc_score(y_test,y_test_predicted_LR),6),\\\n",
    "                                      np.round(roc_auc_score(y_test_big,y_test_predicted_RF),6),\\\n",
    "                                      np.round(roc_auc_score(y_test,y_test_predicted_SVM),6),\\\n",
    "                                      np.round(roc_auc_score(y_test,y_test_predicted_BB),6)]"
   ]
  },
  {
   "cell_type": "code",
   "execution_count": 187,
   "id": "703de051",
   "metadata": {},
   "outputs": [
    {
     "data": {
      "text/html": [
       "<div>\n",
       "<style scoped>\n",
       "    .dataframe tbody tr th:only-of-type {\n",
       "        vertical-align: middle;\n",
       "    }\n",
       "\n",
       "    .dataframe tbody tr th {\n",
       "        vertical-align: top;\n",
       "    }\n",
       "\n",
       "    .dataframe thead th {\n",
       "        text-align: right;\n",
       "    }\n",
       "</style>\n",
       "<table border=\"1\" class=\"dataframe\">\n",
       "  <thead>\n",
       "    <tr style=\"text-align: right;\">\n",
       "      <th></th>\n",
       "      <th>Models</th>\n",
       "      <th>Training set/Dataset size ratio</th>\n",
       "      <th>Test set/Dataset size ratio</th>\n",
       "      <th>Imbalance correction</th>\n",
       "      <th>Acccuracy Training</th>\n",
       "      <th>Acccuracy Testing</th>\n",
       "      <th>Balanced Acccuracy Training</th>\n",
       "      <th>Balanced Acccuracy Testing</th>\n",
       "      <th>Precision Training</th>\n",
       "      <th>Precision Testing</th>\n",
       "      <th>Recall Training</th>\n",
       "      <th>Recall Testing</th>\n",
       "      <th>AUC Training</th>\n",
       "      <th>AUC Testing</th>\n",
       "    </tr>\n",
       "  </thead>\n",
       "  <tbody>\n",
       "    <tr>\n",
       "      <th>0</th>\n",
       "      <td>Logistic Regression</td>\n",
       "      <td>0.50</td>\n",
       "      <td>0.50</td>\n",
       "      <td>Weights inversely proportional to class freque...</td>\n",
       "      <td>0.997849</td>\n",
       "      <td>0.997793</td>\n",
       "      <td>0.998448</td>\n",
       "      <td>0.998299</td>\n",
       "      <td>0.959548</td>\n",
       "      <td>0.959021</td>\n",
       "      <td>0.999115</td>\n",
       "      <td>0.998863</td>\n",
       "      <td>0.998448</td>\n",
       "      <td>0.998299</td>\n",
       "    </tr>\n",
       "    <tr>\n",
       "      <th>1</th>\n",
       "      <td>Random Forest Classifier</td>\n",
       "      <td>0.01</td>\n",
       "      <td>0.99</td>\n",
       "      <td>Weights inversely proportional to class freque...</td>\n",
       "      <td>0.997660</td>\n",
       "      <td>0.997822</td>\n",
       "      <td>0.998059</td>\n",
       "      <td>0.998377</td>\n",
       "      <td>0.955738</td>\n",
       "      <td>0.959318</td>\n",
       "      <td>0.998501</td>\n",
       "      <td>0.998993</td>\n",
       "      <td>0.998059</td>\n",
       "      <td>0.998377</td>\n",
       "    </tr>\n",
       "    <tr>\n",
       "      <th>2</th>\n",
       "      <td>SVM</td>\n",
       "      <td>0.50</td>\n",
       "      <td>0.50</td>\n",
       "      <td>Weigths inversely proportional to class freque...</td>\n",
       "      <td>0.995522</td>\n",
       "      <td>0.995452</td>\n",
       "      <td>0.997643</td>\n",
       "      <td>0.997605</td>\n",
       "      <td>0.917844</td>\n",
       "      <td>0.917190</td>\n",
       "      <td>1.000000</td>\n",
       "      <td>1.000000</td>\n",
       "      <td>0.997643</td>\n",
       "      <td>0.997605</td>\n",
       "    </tr>\n",
       "    <tr>\n",
       "      <th>3</th>\n",
       "      <td>Histogram Gradient Boosting</td>\n",
       "      <td>0.50</td>\n",
       "      <td>0.50</td>\n",
       "      <td>Under sampling before every boosting sample</td>\n",
       "      <td>0.999690</td>\n",
       "      <td>0.999680</td>\n",
       "      <td>0.999827</td>\n",
       "      <td>0.999804</td>\n",
       "      <td>0.993871</td>\n",
       "      <td>0.993748</td>\n",
       "      <td>0.999979</td>\n",
       "      <td>0.999942</td>\n",
       "      <td>0.999827</td>\n",
       "      <td>0.999804</td>\n",
       "    </tr>\n",
       "  </tbody>\n",
       "</table>\n",
       "</div>"
      ],
      "text/plain": [
       "                        Models  Training set/Dataset size ratio  \\\n",
       "0          Logistic Regression                             0.50   \n",
       "1     Random Forest Classifier                             0.01   \n",
       "2                          SVM                             0.50   \n",
       "3  Histogram Gradient Boosting                             0.50   \n",
       "\n",
       "   Test set/Dataset size ratio  \\\n",
       "0                         0.50   \n",
       "1                         0.99   \n",
       "2                         0.50   \n",
       "3                         0.50   \n",
       "\n",
       "                                Imbalance correction  Acccuracy Training  \\\n",
       "0  Weights inversely proportional to class freque...            0.997849   \n",
       "1  Weights inversely proportional to class freque...            0.997660   \n",
       "2  Weigths inversely proportional to class freque...            0.995522   \n",
       "3        Under sampling before every boosting sample            0.999690   \n",
       "\n",
       "   Acccuracy Testing  Balanced Acccuracy Training  Balanced Acccuracy Testing  \\\n",
       "0           0.997793                     0.998448                    0.998299   \n",
       "1           0.997822                     0.998059                    0.998377   \n",
       "2           0.995452                     0.997643                    0.997605   \n",
       "3           0.999680                     0.999827                    0.999804   \n",
       "\n",
       "   Precision Training  Precision Testing  Recall Training  Recall Testing  \\\n",
       "0            0.959548           0.959021         0.999115        0.998863   \n",
       "1            0.955738           0.959318         0.998501        0.998993   \n",
       "2            0.917844           0.917190         1.000000        1.000000   \n",
       "3            0.993871           0.993748         0.999979        0.999942   \n",
       "\n",
       "   AUC Training  AUC Testing  \n",
       "0      0.998448     0.998299  \n",
       "1      0.998059     0.998377  \n",
       "2      0.997643     0.997605  \n",
       "3      0.999827     0.999804  "
      ]
     },
     "execution_count": 187,
     "metadata": {},
     "output_type": "execute_result"
    }
   ],
   "source": [
    "ModelComparison"
   ]
  },
  {
   "cell_type": "code",
   "execution_count": 188,
   "id": "0c300ac6",
   "metadata": {},
   "outputs": [],
   "source": [
    "ModelComparison.to_csv(\"Classification/ModelComparison_metrics.csv\",header=True,index=False,float_format=\"%.6f\")"
   ]
  },
  {
   "cell_type": "markdown",
   "id": "97e261fe",
   "metadata": {},
   "source": [
    "# Validation"
   ]
  },
  {
   "cell_type": "code",
   "execution_count": 114,
   "id": "c722c201",
   "metadata": {},
   "outputs": [],
   "source": [
    "to_take_v=[]\n",
    "n=100000\n",
    "one_v=random.sample(intersection_2-set(to_take_2),int(0.456*n))\n",
    "two_v=random.sample(onlyaMetagenomes_2-set(to_take_2),int(59.275*n))\n",
    "three_v=random.sample(onlyaSGenomes_2-set(to_take_2),int(0.001*n))\n",
    "four_v=random.sample(onlymMetagenomes_2-set(to_take_2), int(16.103*n))\n",
    "five_v=random.sample(aMetagenomes_aSGenomes_2-intersection_2-set(to_take_2),int(4.745*n))\n",
    "six_v=random.sample(aMetagenomes_mMetagenomes_2-intersection_2-set(to_take_2),int(19.393*n))\n",
    "seven_v=random.sample(mMetagenomes_aSGenomes_2-intersection_2-set(to_take_2),int(0.026*n))\n",
    "to_take_v=one_v+two_v+three_v+four_v+five_v+six_v+seven_v\n",
    "to_take_v.sort()"
   ]
  },
  {
   "cell_type": "code",
   "execution_count": 119,
   "id": "d41e060d",
   "metadata": {},
   "outputs": [
    {
     "name": "stderr",
     "output_type": "stream",
     "text": [
      "distributed.core - ERROR - Exception while handling op heartbeat_worker\n",
      "Traceback (most recent call last):\n",
      "  File \"/pasteur/sonic/scratch/public/cduitama/Software/anaconda3/lib/python3.8/site-packages/distributed/core.py\", line 497, in handle_comm\n",
      "    result = handler(comm, **msg)\n",
      "  File \"/pasteur/sonic/scratch/public/cduitama/Software/anaconda3/lib/python3.8/site-packages/distributed/scheduler.py\", line 3647, in heartbeat_worker\n",
      "    ws._executing = {\n",
      "  File \"/pasteur/sonic/scratch/public/cduitama/Software/anaconda3/lib/python3.8/site-packages/distributed/scheduler.py\", line 3648, in <dictcomp>\n",
      "    parent._tasks[key]: duration for key, duration in executing.items()\n",
      "KeyError: \"('read-csv-values-values-b6aeabee9716e82c1a1fc66314dedbdc', 6772, 0)\"\n",
      "distributed.core - ERROR - Exception while handling op heartbeat_worker\n",
      "Traceback (most recent call last):\n",
      "  File \"/pasteur/sonic/scratch/public/cduitama/Software/anaconda3/lib/python3.8/site-packages/distributed/core.py\", line 497, in handle_comm\n",
      "    result = handler(comm, **msg)\n",
      "  File \"/pasteur/sonic/scratch/public/cduitama/Software/anaconda3/lib/python3.8/site-packages/distributed/scheduler.py\", line 3647, in heartbeat_worker\n",
      "    ws._executing = {\n",
      "  File \"/pasteur/sonic/scratch/public/cduitama/Software/anaconda3/lib/python3.8/site-packages/distributed/scheduler.py\", line 3648, in <dictcomp>\n",
      "    parent._tasks[key]: duration for key, duration in executing.items()\n",
      "KeyError: \"('read-csv-values-values-b6aeabee9716e82c1a1fc66314dedbdc', 3383, 0)\"\n",
      "distributed.core - ERROR - Exception while handling op heartbeat_worker\n",
      "Traceback (most recent call last):\n",
      "  File \"/pasteur/sonic/scratch/public/cduitama/Software/anaconda3/lib/python3.8/site-packages/distributed/core.py\", line 497, in handle_comm\n",
      "    result = handler(comm, **msg)\n",
      "  File \"/pasteur/sonic/scratch/public/cduitama/Software/anaconda3/lib/python3.8/site-packages/distributed/scheduler.py\", line 3647, in heartbeat_worker\n",
      "    ws._executing = {\n",
      "  File \"/pasteur/sonic/scratch/public/cduitama/Software/anaconda3/lib/python3.8/site-packages/distributed/scheduler.py\", line 3648, in <dictcomp>\n",
      "    parent._tasks[key]: duration for key, duration in executing.items()\n",
      "KeyError: \"('read-csv-values-values-b6aeabee9716e82c1a1fc66314dedbdc', 2250, 0)\"\n",
      "distributed.core - ERROR - Exception while handling op heartbeat_worker\n",
      "Traceback (most recent call last):\n",
      "  File \"/pasteur/sonic/scratch/public/cduitama/Software/anaconda3/lib/python3.8/site-packages/distributed/core.py\", line 497, in handle_comm\n",
      "    result = handler(comm, **msg)\n",
      "  File \"/pasteur/sonic/scratch/public/cduitama/Software/anaconda3/lib/python3.8/site-packages/distributed/scheduler.py\", line 3647, in heartbeat_worker\n",
      "    ws._executing = {\n",
      "  File \"/pasteur/sonic/scratch/public/cduitama/Software/anaconda3/lib/python3.8/site-packages/distributed/scheduler.py\", line 3648, in <dictcomp>\n",
      "    parent._tasks[key]: duration for key, duration in executing.items()\n",
      "KeyError: \"('read-csv-values-values-b6aeabee9716e82c1a1fc66314dedbdc', 3394, 0)\"\n",
      "distributed.core - ERROR - Exception while handling op heartbeat_worker\n",
      "Traceback (most recent call last):\n",
      "  File \"/pasteur/sonic/scratch/public/cduitama/Software/anaconda3/lib/python3.8/site-packages/distributed/core.py\", line 497, in handle_comm\n",
      "    result = handler(comm, **msg)\n",
      "  File \"/pasteur/sonic/scratch/public/cduitama/Software/anaconda3/lib/python3.8/site-packages/distributed/scheduler.py\", line 3647, in heartbeat_worker\n",
      "    ws._executing = {\n",
      "  File \"/pasteur/sonic/scratch/public/cduitama/Software/anaconda3/lib/python3.8/site-packages/distributed/scheduler.py\", line 3648, in <dictcomp>\n",
      "    parent._tasks[key]: duration for key, duration in executing.items()\n",
      "KeyError: \"('read-csv-values-values-b6aeabee9716e82c1a1fc66314dedbdc', 6903, 0)\"\n",
      "distributed.core - ERROR - Exception while handling op heartbeat_worker\n",
      "Traceback (most recent call last):\n",
      "  File \"/pasteur/sonic/scratch/public/cduitama/Software/anaconda3/lib/python3.8/site-packages/distributed/core.py\", line 497, in handle_comm\n",
      "    result = handler(comm, **msg)\n",
      "  File \"/pasteur/sonic/scratch/public/cduitama/Software/anaconda3/lib/python3.8/site-packages/distributed/scheduler.py\", line 3647, in heartbeat_worker\n",
      "    ws._executing = {\n",
      "  File \"/pasteur/sonic/scratch/public/cduitama/Software/anaconda3/lib/python3.8/site-packages/distributed/scheduler.py\", line 3648, in <dictcomp>\n",
      "    parent._tasks[key]: duration for key, duration in executing.items()\n",
      "KeyError: \"('read-csv-values-values-b6aeabee9716e82c1a1fc66314dedbdc', 3695, 0)\"\n",
      "distributed.core - ERROR - Exception while handling op heartbeat_worker\n",
      "Traceback (most recent call last):\n",
      "  File \"/pasteur/sonic/scratch/public/cduitama/Software/anaconda3/lib/python3.8/site-packages/distributed/core.py\", line 497, in handle_comm\n",
      "    result = handler(comm, **msg)\n",
      "  File \"/pasteur/sonic/scratch/public/cduitama/Software/anaconda3/lib/python3.8/site-packages/distributed/scheduler.py\", line 3647, in heartbeat_worker\n",
      "    ws._executing = {\n",
      "  File \"/pasteur/sonic/scratch/public/cduitama/Software/anaconda3/lib/python3.8/site-packages/distributed/scheduler.py\", line 3648, in <dictcomp>\n",
      "    parent._tasks[key]: duration for key, duration in executing.items()\n",
      "KeyError: \"('read-csv-values-values-b6aeabee9716e82c1a1fc66314dedbdc', 3695, 0)\"\n",
      "/pasteur/sonic/scratch/public/cduitama/Software/anaconda3/lib/python3.8/site-packages/dask/array/core.py:1488: FutureWarning:\n",
      "\n",
      "The `numpy.may_share_memory` function is not implemented by Dask array. You may want to use the da.map_blocks function or something similar to silence this warning. Your code may stop working in a future release.\n",
      "\n"
     ]
    }
   ],
   "source": [
    "ikmers[\"RepresentativeSample_Validation\"]=all_kmers.iloc[to_take_v]\n",
    "icombined_total_clean=combined_total_clean[combined_total_clean[\"Kmer\"].isin(ikmers[\"RepresentativeSample_Validation\"][\"Kmer\"])]\n",
    "imatrices[\"RepresentativeSample_Validation\"]=icombined_total_clean.drop(\"Kmer\",axis=1).values\n",
    "imatrices[\"RepresentativeSamplen_Validation\"]=imatrices[\"RepresentativeSample_Validation\"].persist()\n",
    "\n",
    "from sklearn.preprocessing import Binarizer\n",
    "ecombined_total_v=imatrices[\"RepresentativeSample_Validation\"]\n",
    "b_ecombined_total_v = Binarizer().fit_transform(ecombined_total_v)  # fit does nothing.\n"
   ]
  },
  {
   "cell_type": "code",
   "execution_count": 120,
   "id": "2c0a8d3b",
   "metadata": {},
   "outputs": [
    {
     "data": {
      "text/plain": [
       "(9999900, 294)"
      ]
     },
     "execution_count": 120,
     "metadata": {},
     "output_type": "execute_result"
    }
   ],
   "source": [
    "b_ecombined_total_v.shape"
   ]
  },
  {
   "cell_type": "code",
   "execution_count": 121,
   "id": "a45eb3c3",
   "metadata": {},
   "outputs": [],
   "source": [
    "#1=Ancient\n",
    "#2=NonAncient\n",
    "to_take_v=one_v+two_v+three_v+four_v+five_v+six_v+seven_v\n",
    "labels=[]\n",
    "labels=labels+[False]*len(one_v)\n",
    "labels=labels+[False]*len(two_v)\n",
    "labels=labels+[True]*len(three_v)\n",
    "labels=labels+[False]*len(four_v)\n",
    "labels=labels+[True]*len(five_v)\n",
    "labels=labels+[False]*len(six_v)\n",
    "labels=labels+[True]*len(seven_v)\n",
    "Data = pd.DataFrame(list(zip(to_take_v, labels)),\n",
    "               columns =['Index', 'Label'])\n",
    "Data.sort_values(by='Index' , inplace=True)\n",
    "Data=Data.reset_index()\n",
    "\n",
    "Data=Data.drop(\"index\",axis=1)\n",
    "Data.head()\n",
    "\n",
    "np.savetxt(\"Classification/Labels_CleanRepresentativeSample_Validation.csv\",Data[\"Label\"], delimiter=',')\n",
    "\n",
    "labels_RepresentativeSample_Validation=np.genfromtxt(\"Classification/Labels_CleanRepresentativeSample_Validation.csv\",delimiter=\",\")\n",
    "\n",
    "X_v=b_ecombined_total_v\n",
    "y_v=labels_RepresentativeSample_Validation"
   ]
  },
  {
   "cell_type": "code",
   "execution_count": 122,
   "id": "af8309c3",
   "metadata": {},
   "outputs": [
    {
     "data": {
      "text/plain": [
       "9999900"
      ]
     },
     "execution_count": 122,
     "metadata": {},
     "output_type": "execute_result"
    }
   ],
   "source": [
    "np.savetxt(\"Classification/list_of_indeces_of_CleanRepresentativeSample_Validation.csv\",to_take_v,delimiter=\",\")\n",
    "\n",
    "to_take_v=np.genfromtxt(\"Classification/list_of_indeces_of_CleanRepresentativeSample_Validation.csv\",delimiter=\",\")\n",
    "\n",
    "len(to_take_v)"
   ]
  },
  {
   "cell_type": "code",
   "execution_count": 189,
   "id": "2e74f797",
   "metadata": {},
   "outputs": [],
   "source": [
    "y_validation_predicted_LR=LR.predict(b_ecombined_total_v)"
   ]
  },
  {
   "cell_type": "code",
   "execution_count": 190,
   "id": "4c0d2981",
   "metadata": {},
   "outputs": [],
   "source": [
    "np.savetxt(\"Classification/LR/Clean_y_validation_predicted_LR.csv\",y_validation_predicted_LR,delimiter=\",\")"
   ]
  },
  {
   "cell_type": "code",
   "execution_count": 191,
   "id": "ff905146",
   "metadata": {},
   "outputs": [],
   "source": [
    "pd.set_option(\"display.precision\", 6)\n",
    "ValidationMetrics=pd.DataFrame()\n",
    "ValidationMetrics[\"Metrics\"]=[\"Accuracy\",\"Balanced accuracy\",\"Precision\",\"Recall\",\"AUC\"]\n",
    "ValidationMetrics[\"Value\"]=[np.round(accuracy_score(y_v,y_validation_predicted_LR),6),\\\n",
    "                           np.round(balanced_accuracy_score(y_v,y_validation_predicted_LR),6),\\\n",
    "                           np.round(precision_score(y_v,y_validation_predicted_LR),6),\\\n",
    "                           np.round(recall_score(y_v,y_validation_predicted_LR),6),\\\n",
    "                           np.round(roc_auc_score(y_v,y_validation_predicted_LR),6)]"
   ]
  },
  {
   "cell_type": "code",
   "execution_count": 192,
   "id": "2571d268",
   "metadata": {},
   "outputs": [],
   "source": [
    "ValidationMetrics.to_csv(\"Classification/LR/ValidationMetrics.csv\",index=False,float_format=\"%.6f\")"
   ]
  },
  {
   "cell_type": "code",
   "execution_count": 193,
   "id": "1336b555",
   "metadata": {},
   "outputs": [],
   "source": [
    "y_v_score = LR.predict_proba(X_v)[:, 1]"
   ]
  },
  {
   "cell_type": "code",
   "execution_count": 194,
   "id": "2c6c0d5f",
   "metadata": {},
   "outputs": [],
   "source": [
    "np.savetxt(\"Classification/LR/Clean_y_validation_score.csv\",y_v_score,delimiter=\",\")"
   ]
  },
  {
   "cell_type": "code",
   "execution_count": 145,
   "id": "2323e1bd",
   "metadata": {},
   "outputs": [
    {
     "data": {
      "text/plain": [
       "0.9989291701592624"
      ]
     },
     "execution_count": 145,
     "metadata": {},
     "output_type": "execute_result"
    }
   ],
   "source": [
    "from sklearn.metrics import recall_score\n",
    "recall_score(y_v,y_validation_predicted_LR)"
   ]
  },
  {
   "cell_type": "code",
   "execution_count": 195,
   "id": "c34f0b49",
   "metadata": {},
   "outputs": [
    {
     "data": {
      "text/html": [
       "<div>\n",
       "<style scoped>\n",
       "    .dataframe tbody tr th:only-of-type {\n",
       "        vertical-align: middle;\n",
       "    }\n",
       "\n",
       "    .dataframe tbody tr th {\n",
       "        vertical-align: top;\n",
       "    }\n",
       "\n",
       "    .dataframe thead th {\n",
       "        text-align: right;\n",
       "    }\n",
       "</style>\n",
       "<table border=\"1\" class=\"dataframe\">\n",
       "  <thead>\n",
       "    <tr style=\"text-align: right;\">\n",
       "      <th></th>\n",
       "      <th>Metrics</th>\n",
       "      <th>Value</th>\n",
       "    </tr>\n",
       "  </thead>\n",
       "  <tbody>\n",
       "    <tr>\n",
       "      <th>0</th>\n",
       "      <td>Accuracy</td>\n",
       "      <td>0.997879</td>\n",
       "    </tr>\n",
       "    <tr>\n",
       "      <th>1</th>\n",
       "      <td>Balanced accuracy</td>\n",
       "      <td>0.998375</td>\n",
       "    </tr>\n",
       "    <tr>\n",
       "      <th>2</th>\n",
       "      <td>Precision</td>\n",
       "      <td>0.958388</td>\n",
       "    </tr>\n",
       "    <tr>\n",
       "      <th>3</th>\n",
       "      <td>Recall</td>\n",
       "      <td>0.998923</td>\n",
       "    </tr>\n",
       "    <tr>\n",
       "      <th>4</th>\n",
       "      <td>AUC</td>\n",
       "      <td>0.998375</td>\n",
       "    </tr>\n",
       "  </tbody>\n",
       "</table>\n",
       "</div>"
      ],
      "text/plain": [
       "             Metrics     Value\n",
       "0           Accuracy  0.997879\n",
       "1  Balanced accuracy  0.998375\n",
       "2          Precision  0.958388\n",
       "3             Recall  0.998923\n",
       "4                AUC  0.998375"
      ]
     },
     "execution_count": 195,
     "metadata": {},
     "output_type": "execute_result"
    }
   ],
   "source": [
    "ValidationMetrics"
   ]
  },
  {
   "cell_type": "code",
   "execution_count": 197,
   "id": "9854adf5",
   "metadata": {},
   "outputs": [
    {
     "data": {
      "text/plain": [
       "['Classification/Boosting+Bagging/Model.sav']"
      ]
     },
     "execution_count": 197,
     "metadata": {},
     "output_type": "execute_result"
    }
   ],
   "source": [
    "import joblib\n",
    "\n",
    "joblib.dump(LR,\"Classification/LR/Model.sav\")\n",
    "joblib.dump(RF,\"Classification/RF/Model.sav\")\n",
    "joblib.dump(SVM,\"Classification/SVM/Model.sav\")\n",
    "joblib.dump(BB,\"Classification/Boosting+Bagging/Model.sav\")\n",
    "\n",
    " \n"
   ]
  },
  {
   "cell_type": "markdown",
   "id": "821cb9ec",
   "metadata": {},
   "source": [
    "# Experiment for feature importance"
   ]
  },
  {
   "cell_type": "code",
   "execution_count": 4,
   "id": "13c9ffb1",
   "metadata": {},
   "outputs": [],
   "source": [
    "clean_SRR_HS_Oral_mMetagenomes=[x for x in SRR_HS_Oral_mMetagenomes if x not in stool_accessions]"
   ]
  },
  {
   "cell_type": "code",
   "execution_count": null,
   "id": "f212e3b3",
   "metadata": {},
   "outputs": [
    {
     "name": "stderr",
     "output_type": "stream",
     "text": [
      "distributed.nanny - WARNING - Worker exceeded 95% memory budget. Restarting\n",
      "distributed.nanny - WARNING - Restarting worker\n"
     ]
    }
   ],
   "source": [
    "#Dictionaries:\n",
    "\n",
    "#labelling_features = Features selected for labelling only\n",
    "#           keys: Split number\n",
    "\n",
    "\n",
    "#modelling_features = Features selected for modelling only\n",
    "#           keys: Split number\n",
    "\n",
    "#datasets = The idea of this dictionary is to store the SRR/ERR accessions classified per subkey to build the\n",
    "#           set of features used for labelling\n",
    "#           keys: Split number\n",
    "#           subkeys: aMetagenomes,aSGenomes,mMetagenomes\n",
    "\n",
    "#labelling_matrices = This dictionary stores the matrices used for labelling \n",
    "#           keys: Split number\n",
    "\n",
    "#modelling_matrices = This dictionary stores the matrices used for modelling \n",
    "#           keys: Split number\n",
    "          \n",
    "#indeces = This dictionary stores the classification of k-mers based on the Venn Diagram obtained per labelling matrix\n",
    "#           keys: Split number\n",
    "#           subkeys: [\"intersection\",\"aMetagenomes_aSGenomes\",\"aMetagenomes_mMetagenomes\",\\\n",
    "#                     \"mMetagenomes_aSGenomes\",\"onlyaMetagenomes\",\"onlymMetagenomes\",\"onlyaSGenomes\"]\n",
    "\n",
    "#modelling features = This dictionary stores the classification of k-mers based on the Venn Diagram obtained per labelling matrix\n",
    "#           keys: Split number\n",
    "#           subkeys: [\"intersection\",\"aMetagenomes_aSGenomes\",\"aMetagenomes_mMetagenomes\",\\\n",
    "#                     \"mMetagenomes_aSGenomes\",\"onlyaMetagenomes\",\"onlymMetagenomes\",\"onlyaSGenomes\"]\n",
    "\n",
    "#proportions = This dictionary stores the proportion of k-mers on each group of the Venn Diagram obtained per labelling matrix\n",
    "#           keys: Split number\n",
    "#           subkeys: [\"intersection\",\"aMetagenomes_aSGenomes\",\"aMetagenomes_mMetagenomes\",\\\n",
    "#                     \"mMetagenomes_aSGenomes\",\"onlyaMetagenomes\",\"onlymMetagenomes\",\"onlyaSGenomes\"]\n",
    "\n",
    "\n",
    "#modelling_samples = This dictionary stores the indeces of the k-mers used for training and testing (modelling) \n",
    "#           keys: Split number\n",
    "\n",
    "#modelling_samples = This dictionary stores the indeces of the k-mers used for training and testing (modelling) \n",
    "#           keys: Split number\n",
    "\n",
    "#labels_per_dataset = This dictionary stores the labels of the kmers stores in modelling_samples\n",
    "#           keys: Split number\n",
    "\n",
    "#binarized_modelling_matrices = This dictionary stores the matrices used for modelling\n",
    "\n",
    "          \n",
    "import random\n",
    "labelling_features=dict()\n",
    "datasets=dict.fromkeys(range(0,10))\n",
    "labelling_matrices=dict.fromkeys(range(0,10))\n",
    "modelling_matrices=dict.fromkeys(range(0,10))\n",
    "indeces=dict.fromkeys(range(0,10))\n",
    "modelling_features=dict()\n",
    "\n",
    "for each in datasets.keys():\n",
    "    datasets[each]=dict.fromkeys([\"aMetagenomes\",\"aSGenomes\",\"mMetagenomes\"])\n",
    "    indeces[each]=dict.fromkeys([\"intersection\",\"aMetagenomes_aSGenomes\",\"aMetagenomes_mMetagenomes\",\\\n",
    "                                 \"mMetagenomes_aSGenomes\",\"onlyaMetagenomes\",\"onlymMetagenomes\",\"onlyaSGenomes\"])\n",
    "for i in range(0,10):\n",
    "    datasets[i][\"aMetagenomes\"]=random.sample(SRR_HS_Oral_aMetagenomes,140)\n",
    "    datasets[i][\"aSGenomes\"]=random.sample(SRR_HS_Oral_aSGenomes,2)\n",
    "    datasets[i][\"mMetagenomes\"]=random.sample(clean_SRR_HS_Oral_mMetagenomes,4)\n",
    "    labelling_features[i]=[\"Kmer\"]+datasets[i][\"aMetagenomes\"]+datasets[i][\"aSGenomes\"]+datasets[i][\"mMetagenomes\"]\n",
    "    modelling_features[i]=[\"Kmer\"]+[x for x in clean_names if x not in labelling_features[i]]\n",
    "    labelling_matrices[i]=combined_total.drop(modelling_features[i][1:],axis=1)\n",
    "    modelling_matrices[i]=combined_total.drop(labelling_features[i][1:],axis=1)\n",
    "    indeces[i][\"intersection\"]=set(labelling_matrices[i].loc[(labelling_matrices[i][datasets[i][\"aMetagenomes\"]]>0)&\\\n",
    "                            (labelling_matrices[i][datasets[i][\"mMetagenomes\"]]>0)&\\\n",
    "                            (labelling_matrices[i][datasets[i][\"aSGenomes\"]]>0)][\"Kmer\"])\n",
    "    indeces[i][\"aMetagenomes_aSGenomes\"]=set(labelling_matrices[i].loc[(labelling_matrices[i][datasets[i][\"aMetagenomes\"]]>0)&\\\n",
    "                            (labelling_matrices[i][datasets[i][\"mMetagenomes\"]]==0)&\\\n",
    "                            (labelling_matrices[i][datasets[i][\"aSGenomes\"]]>0)][\"Kmer\"])\n",
    "    indeces[i][\"aMetagenomes_mMetagenomes\"]=set(labelling_matrices[i].loc[(labelling_matrices[i][datasets[i][\"aMetagenomes\"]]>0)&\\\n",
    "                            (labelling_matrices[i][datasets[i][\"mMetagenomes\"]]>0)&\\\n",
    "                            (labelling_matrices[i][datasets[i][\"aSGenomes\"]]==0)][\"Kmer\"])\n",
    "    indeces[i][\"mMetagenomes_aSGenomes\"]=set(labelling_matrices[i].loc[(labelling_matrices[i][datasets[i][\"aMetagenomes\"]]==0)&\\\n",
    "                            (labelling_matrices[i][datasets[i][\"mMetagenomes\"]]>0)&\\\n",
    "                            (labelling_matrices[i][datasets[i][\"aSGenomes\"]]>0)][\"Kmer\"])\n",
    "    indeces[i][\"onlyaSGenomes\"]=set(labelling_matrices[i].loc[(labelling_matrices[i][datasets[i][\"aMetagenomes\"]]==0)&\\\n",
    "                            (labelling_matrices[i][datasets[i][\"mMetagenomes\"]]==0)&\\\n",
    "                            (labelling_matrices[i][datasets[i][\"aSGenomes\"]]>0)][\"Kmer\"])\n",
    "    indeces[i][\"onlyaMetagenomes\"]=set(labelling_matrices[i].loc[(labelling_matrices[i][datasets[i][\"aMetagenomes\"]]>0)&\\\n",
    "                            (labelling_matrices[i][datasets[i][\"mMetagenomes\"]]==0)&\\\n",
    "                            (labelling_matrices[i][datasets[i][\"aSGenomes\"]]==0)][\"Kmer\"])\n",
    "    indeces[i][\"onlymMetagenomes\"]=set(labelling_matrices[i].loc[(labelling_matrices[i][datasets[i][\"aMetagenomes\"]]==0)&\\\n",
    "                            (labelling_matrices[i][datasets[i][\"mMetagenomes\"]]>0)&\\\n",
    "                            (labelling_matrices[i][datasets[i][\"aSGenomes\"]]==0)][\"Kmer\"])\n",
    "\n",
    "    \n",
    "    "
   ]
  },
  {
   "cell_type": "code",
   "execution_count": null,
   "id": "c714a2f3",
   "metadata": {},
   "outputs": [],
   "source": [
    "#Verify we don't have duplicated splittings\n",
    "from itertools import combinations\n",
    "for each in combinations(range(0,10),2):\n",
    "    labelling_features[each[0]].sort()\n",
    "    labelling_features[each[1]].sort()\n",
    "    modelling_features[each[0]].sort()\n",
    "    modelling_features[each[1]].sort()\n",
    "    if labelling_features[each[0]]==labelling_features[each[1]]:\n",
    "        print(\"duplicate found: \"+ str(each))\n",
    "    if modelling_features[each[0]]==modelling_features[each[1]]:\n",
    "        print(\"duplicate found: \"+ str(each))  "
   ]
  },
  {
   "cell_type": "code",
   "execution_count": null,
   "id": "f43f6f63",
   "metadata": {},
   "outputs": [],
   "source": [
    "classification_2.shape[0]"
   ]
  },
  {
   "cell_type": "code",
   "execution_count": null,
   "id": "46b308e5",
   "metadata": {},
   "outputs": [],
   "source": [
    "proportions=dict.fromkeys(range(0,10))\n",
    "modelling_samples=dict.fromkeys(range(0,10))\n",
    "x=dict.fromkeys(range(0,10))\n",
    "for i in proportions.keys():\n",
    "    for j in indeces[1].keys():\n",
    "        proportions[i][j]=len(indeces[i][j])/classification_2.shape[0]\n",
    "n=100000\n",
    "for i in range(0,10):\n",
    "    to_take=[]\n",
    "    labels=[]\n",
    "    for j in indeces[1].keys():\n",
    "        dummie=random.sample(indeces[i][j],int(proportions[i][j]*n))\n",
    "        to_take=to_take+dummie\n",
    "        if j in [\"aMetagenomes_aSGenomes\",\"mMetagenomes_aSGenomes\",\"onlyaSGenomes\"]:\n",
    "            labels=labels+[True]*len(dummie)\n",
    "        else:\n",
    "            labels=labels+[False]*len(dummie)\n",
    "    modelling_samples[i]=to_take\n",
    "    labels_per_dataset[i]=labels"
   ]
  },
  {
   "cell_type": "code",
   "execution_count": null,
   "id": "9f7a08cf",
   "metadata": {},
   "outputs": [],
   "source": [
    "from sklearn.preprocessing import Binarizer\n",
    "binarized_modelling_matrices=dict.fromkeys(range(0,10))\n",
    "for i in binarized_modelling_matrices.keys():  \n",
    "    dummie=modelling_matrices[i][combined_total_clean[\"Kmer\"] in modelling_samples[i]]\n",
    "    dummie=dummie.drop(\"Kmer\",axis=1).values()\n",
    "    transformer = Binarizer()  # fit does nothing.\n",
    "    binarized_modelling_matrices[i]=transformer.fit_transform(dummie)"
   ]
  },
  {
   "cell_type": "code",
   "execution_count": 81,
   "id": "cd6bf539",
   "metadata": {},
   "outputs": [
    {
     "data": {
      "text/html": [
       "<div><strong>Dask DataFrame Structure:</strong></div>\n",
       "<div>\n",
       "<style scoped>\n",
       "    .dataframe tbody tr th:only-of-type {\n",
       "        vertical-align: middle;\n",
       "    }\n",
       "\n",
       "    .dataframe tbody tr th {\n",
       "        vertical-align: top;\n",
       "    }\n",
       "\n",
       "    .dataframe thead th {\n",
       "        text-align: right;\n",
       "    }\n",
       "</style>\n",
       "<table border=\"1\" class=\"dataframe\">\n",
       "  <thead>\n",
       "    <tr style=\"text-align: right;\">\n",
       "      <th></th>\n",
       "      <th>SRR957739</th>\n",
       "      <th>SRR957740</th>\n",
       "      <th>SRR957741</th>\n",
       "      <th>SRR957744</th>\n",
       "      <th>SRR957745</th>\n",
       "      <th>SRR6877292</th>\n",
       "      <th>SRR6877372</th>\n",
       "      <th>SRR6877370</th>\n",
       "      <th>SRR6877378</th>\n",
       "      <th>SRR6877388</th>\n",
       "      <th>SRR6877382</th>\n",
       "      <th>SRR6877350</th>\n",
       "      <th>SRR6877367</th>\n",
       "      <th>SRR6877365</th>\n",
       "      <th>SRR6877361</th>\n",
       "      <th>SRR6877369</th>\n",
       "      <th>SRR6877338</th>\n",
       "      <th>SRR6877336</th>\n",
       "      <th>SRR6877334</th>\n",
       "      <th>SRR6877330</th>\n",
       "      <th>SRR6877344</th>\n",
       "      <th>SRR6877348</th>\n",
       "      <th>SRR6877340</th>\n",
       "      <th>SRR6877399</th>\n",
       "      <th>SRR6877401</th>\n",
       "      <th>SRR6877403</th>\n",
       "      <th>SRR6877328</th>\n",
       "      <th>SRR6877339</th>\n",
       "      <th>SRR6877316</th>\n",
       "      <th>SRR6877318</th>\n",
       "      <th>SRR6877322</th>\n",
       "      <th>SRR6877312</th>\n",
       "      <th>SRR6877310</th>\n",
       "      <th>SRR6877326</th>\n",
       "      <th>SRR6877393</th>\n",
       "      <th>SRR9898613</th>\n",
       "      <th>SRR5297130</th>\n",
       "      <th>SRR5297132</th>\n",
       "      <th>SRR11176627</th>\n",
       "      <th>SRR11176630</th>\n",
       "      <th>SRR11176635</th>\n",
       "      <th>SRR11176636</th>\n",
       "      <th>SRR11176638</th>\n",
       "      <th>SRR11176641</th>\n",
       "      <th>SRR12462938</th>\n",
       "      <th>SRR12462941</th>\n",
       "      <th>SRR12462942</th>\n",
       "      <th>SRR12462943</th>\n",
       "      <th>SRR12462931</th>\n",
       "      <th>SRR12462932</th>\n",
       "      <th>SRR12462934</th>\n",
       "      <th>SRR12462935</th>\n",
       "      <th>SRR12462936</th>\n",
       "      <th>SRR12462947</th>\n",
       "      <th>SRR12136713</th>\n",
       "      <th>SRR12136712</th>\n",
       "      <th>SRR5047194</th>\n",
       "      <th>SRR5047075</th>\n",
       "      <th>SRR5047132</th>\n",
       "      <th>SRR5047159</th>\n",
       "      <th>SRR5047157</th>\n",
       "      <th>SRR5047057</th>\n",
       "      <th>SRR5047086</th>\n",
       "      <th>SRR5047187</th>\n",
       "      <th>SRR5047043</th>\n",
       "      <th>SRR5047101</th>\n",
       "      <th>SRR5047146</th>\n",
       "      <th>SRR5047070</th>\n",
       "      <th>SRR5047118</th>\n",
       "      <th>SRR5047138</th>\n",
       "      <th>SRR5047077</th>\n",
       "      <th>SRR5047156</th>\n",
       "      <th>SRR5047176</th>\n",
       "      <th>SRR5047203</th>\n",
       "      <th>SRR5047126</th>\n",
       "      <th>SRR5047195</th>\n",
       "      <th>SRR5047045</th>\n",
       "      <th>SRR5047100</th>\n",
       "      <th>SRR5047106</th>\n",
       "      <th>SRR5047088</th>\n",
       "      <th>SRR5047191</th>\n",
       "      <th>SRR5047134</th>\n",
       "      <th>SRR5047094</th>\n",
       "      <th>SRR5047073</th>\n",
       "      <th>SRR5047109</th>\n",
       "      <th>SRR5047081</th>\n",
       "      <th>SRR5047140</th>\n",
       "      <th>SRR5047090</th>\n",
       "      <th>SRR5047082</th>\n",
       "      <th>SRR5047083</th>\n",
       "      <th>SRR5047113</th>\n",
       "      <th>SRR5047172</th>\n",
       "      <th>SRR5047201</th>\n",
       "      <th>SRR5047117</th>\n",
       "      <th>SRR5047169</th>\n",
       "      <th>SRR5047062</th>\n",
       "      <th>SRR5047152</th>\n",
       "      <th>SRR5047182</th>\n",
       "      <th>SRR5047071</th>\n",
       "      <th>SRR5047063</th>\n",
       "      <th>SRR5047054</th>\n",
       "      <th>SRR5047178</th>\n",
       "      <th>SRR5047123</th>\n",
       "      <th>SRR5047136</th>\n",
       "      <th>SRR5047047</th>\n",
       "      <th>SRR5047092</th>\n",
       "      <th>SRR5047199</th>\n",
       "      <th>SRR5047074</th>\n",
       "      <th>SRR5047108</th>\n",
       "      <th>SRR5047102</th>\n",
       "      <th>SRR5047179</th>\n",
       "      <th>SRR5047144</th>\n",
       "      <th>SRR5047121</th>\n",
       "      <th>SRR5047098</th>\n",
       "      <th>SRR5047124</th>\n",
       "      <th>SRR5047087</th>\n",
       "      <th>SRR5047184</th>\n",
       "      <th>SRR5047066</th>\n",
       "      <th>SRR5047093</th>\n",
       "      <th>SRR5047167</th>\n",
       "      <th>SRR5047173</th>\n",
       "      <th>SRR5047107</th>\n",
       "      <th>SRR5047059</th>\n",
       "      <th>SRR5047163</th>\n",
       "      <th>SRR5047049</th>\n",
       "      <th>SRR5047145</th>\n",
       "      <th>SRR5047061</th>\n",
       "      <th>SRR5047149</th>\n",
       "      <th>SRR5047112</th>\n",
       "      <th>SRR5047154</th>\n",
       "      <th>SRR5047204</th>\n",
       "      <th>SRR5047153</th>\n",
       "      <th>SRR5047056</th>\n",
       "      <th>SRR5047130</th>\n",
       "      <th>SRR5047139</th>\n",
       "      <th>SRR5047131</th>\n",
       "      <th>SRR5047072</th>\n",
       "      <th>SRR5047150</th>\n",
       "      <th>SRR5047084</th>\n",
       "      <th>SRR5047105</th>\n",
       "      <th>SRR5047064</th>\n",
       "      <th>ERR1883904</th>\n",
       "      <th>ERR2204628</th>\n",
       "      <th>SRR12548766</th>\n",
       "      <th>SRR1794618</th>\n",
       "      <th>SRR1783758</th>\n",
       "      <th>SRR1795018</th>\n",
       "      <th>SRR5892215</th>\n",
       "      <th>SRR769525</th>\n",
       "      <th>SRR769515</th>\n",
       "      <th>SRR769527</th>\n",
       "      <th>SRR769519</th>\n",
       "    </tr>\n",
       "    <tr>\n",
       "      <th>npartitions=6906</th>\n",
       "      <th></th>\n",
       "      <th></th>\n",
       "      <th></th>\n",
       "      <th></th>\n",
       "      <th></th>\n",
       "      <th></th>\n",
       "      <th></th>\n",
       "      <th></th>\n",
       "      <th></th>\n",
       "      <th></th>\n",
       "      <th></th>\n",
       "      <th></th>\n",
       "      <th></th>\n",
       "      <th></th>\n",
       "      <th></th>\n",
       "      <th></th>\n",
       "      <th></th>\n",
       "      <th></th>\n",
       "      <th></th>\n",
       "      <th></th>\n",
       "      <th></th>\n",
       "      <th></th>\n",
       "      <th></th>\n",
       "      <th></th>\n",
       "      <th></th>\n",
       "      <th></th>\n",
       "      <th></th>\n",
       "      <th></th>\n",
       "      <th></th>\n",
       "      <th></th>\n",
       "      <th></th>\n",
       "      <th></th>\n",
       "      <th></th>\n",
       "      <th></th>\n",
       "      <th></th>\n",
       "      <th></th>\n",
       "      <th></th>\n",
       "      <th></th>\n",
       "      <th></th>\n",
       "      <th></th>\n",
       "      <th></th>\n",
       "      <th></th>\n",
       "      <th></th>\n",
       "      <th></th>\n",
       "      <th></th>\n",
       "      <th></th>\n",
       "      <th></th>\n",
       "      <th></th>\n",
       "      <th></th>\n",
       "      <th></th>\n",
       "      <th></th>\n",
       "      <th></th>\n",
       "      <th></th>\n",
       "      <th></th>\n",
       "      <th></th>\n",
       "      <th></th>\n",
       "      <th></th>\n",
       "      <th></th>\n",
       "      <th></th>\n",
       "      <th></th>\n",
       "      <th></th>\n",
       "      <th></th>\n",
       "      <th></th>\n",
       "      <th></th>\n",
       "      <th></th>\n",
       "      <th></th>\n",
       "      <th></th>\n",
       "      <th></th>\n",
       "      <th></th>\n",
       "      <th></th>\n",
       "      <th></th>\n",
       "      <th></th>\n",
       "      <th></th>\n",
       "      <th></th>\n",
       "      <th></th>\n",
       "      <th></th>\n",
       "      <th></th>\n",
       "      <th></th>\n",
       "      <th></th>\n",
       "      <th></th>\n",
       "      <th></th>\n",
       "      <th></th>\n",
       "      <th></th>\n",
       "      <th></th>\n",
       "      <th></th>\n",
       "      <th></th>\n",
       "      <th></th>\n",
       "      <th></th>\n",
       "      <th></th>\n",
       "      <th></th>\n",
       "      <th></th>\n",
       "      <th></th>\n",
       "      <th></th>\n",
       "      <th></th>\n",
       "      <th></th>\n",
       "      <th></th>\n",
       "      <th></th>\n",
       "      <th></th>\n",
       "      <th></th>\n",
       "      <th></th>\n",
       "      <th></th>\n",
       "      <th></th>\n",
       "      <th></th>\n",
       "      <th></th>\n",
       "      <th></th>\n",
       "      <th></th>\n",
       "      <th></th>\n",
       "      <th></th>\n",
       "      <th></th>\n",
       "      <th></th>\n",
       "      <th></th>\n",
       "      <th></th>\n",
       "      <th></th>\n",
       "      <th></th>\n",
       "      <th></th>\n",
       "      <th></th>\n",
       "      <th></th>\n",
       "      <th></th>\n",
       "      <th></th>\n",
       "      <th></th>\n",
       "      <th></th>\n",
       "      <th></th>\n",
       "      <th></th>\n",
       "      <th></th>\n",
       "      <th></th>\n",
       "      <th></th>\n",
       "      <th></th>\n",
       "      <th></th>\n",
       "      <th></th>\n",
       "      <th></th>\n",
       "      <th></th>\n",
       "      <th></th>\n",
       "      <th></th>\n",
       "      <th></th>\n",
       "      <th></th>\n",
       "      <th></th>\n",
       "      <th></th>\n",
       "      <th></th>\n",
       "      <th></th>\n",
       "      <th></th>\n",
       "      <th></th>\n",
       "      <th></th>\n",
       "      <th></th>\n",
       "      <th></th>\n",
       "      <th></th>\n",
       "      <th></th>\n",
       "      <th></th>\n",
       "      <th></th>\n",
       "      <th></th>\n",
       "      <th></th>\n",
       "      <th></th>\n",
       "      <th></th>\n",
       "    </tr>\n",
       "  </thead>\n",
       "  <tbody>\n",
       "    <tr>\n",
       "      <th></th>\n",
       "      <td>int64</td>\n",
       "      <td>int64</td>\n",
       "      <td>int64</td>\n",
       "      <td>int64</td>\n",
       "      <td>int64</td>\n",
       "      <td>int64</td>\n",
       "      <td>int64</td>\n",
       "      <td>int64</td>\n",
       "      <td>int64</td>\n",
       "      <td>int64</td>\n",
       "      <td>int64</td>\n",
       "      <td>int64</td>\n",
       "      <td>int64</td>\n",
       "      <td>int64</td>\n",
       "      <td>int64</td>\n",
       "      <td>int64</td>\n",
       "      <td>int64</td>\n",
       "      <td>int64</td>\n",
       "      <td>int64</td>\n",
       "      <td>int64</td>\n",
       "      <td>int64</td>\n",
       "      <td>int64</td>\n",
       "      <td>int64</td>\n",
       "      <td>int64</td>\n",
       "      <td>int64</td>\n",
       "      <td>int64</td>\n",
       "      <td>int64</td>\n",
       "      <td>int64</td>\n",
       "      <td>int64</td>\n",
       "      <td>int64</td>\n",
       "      <td>int64</td>\n",
       "      <td>int64</td>\n",
       "      <td>int64</td>\n",
       "      <td>int64</td>\n",
       "      <td>int64</td>\n",
       "      <td>int64</td>\n",
       "      <td>int64</td>\n",
       "      <td>int64</td>\n",
       "      <td>int64</td>\n",
       "      <td>int64</td>\n",
       "      <td>int64</td>\n",
       "      <td>int64</td>\n",
       "      <td>int64</td>\n",
       "      <td>int64</td>\n",
       "      <td>int64</td>\n",
       "      <td>int64</td>\n",
       "      <td>int64</td>\n",
       "      <td>int64</td>\n",
       "      <td>int64</td>\n",
       "      <td>int64</td>\n",
       "      <td>int64</td>\n",
       "      <td>int64</td>\n",
       "      <td>int64</td>\n",
       "      <td>int64</td>\n",
       "      <td>int64</td>\n",
       "      <td>int64</td>\n",
       "      <td>int64</td>\n",
       "      <td>int64</td>\n",
       "      <td>int64</td>\n",
       "      <td>int64</td>\n",
       "      <td>int64</td>\n",
       "      <td>int64</td>\n",
       "      <td>int64</td>\n",
       "      <td>int64</td>\n",
       "      <td>int64</td>\n",
       "      <td>int64</td>\n",
       "      <td>int64</td>\n",
       "      <td>int64</td>\n",
       "      <td>int64</td>\n",
       "      <td>int64</td>\n",
       "      <td>int64</td>\n",
       "      <td>int64</td>\n",
       "      <td>int64</td>\n",
       "      <td>int64</td>\n",
       "      <td>int64</td>\n",
       "      <td>int64</td>\n",
       "      <td>int64</td>\n",
       "      <td>int64</td>\n",
       "      <td>int64</td>\n",
       "      <td>int64</td>\n",
       "      <td>int64</td>\n",
       "      <td>int64</td>\n",
       "      <td>int64</td>\n",
       "      <td>int64</td>\n",
       "      <td>int64</td>\n",
       "      <td>int64</td>\n",
       "      <td>int64</td>\n",
       "      <td>int64</td>\n",
       "      <td>int64</td>\n",
       "      <td>int64</td>\n",
       "      <td>int64</td>\n",
       "      <td>int64</td>\n",
       "      <td>int64</td>\n",
       "      <td>int64</td>\n",
       "      <td>int64</td>\n",
       "      <td>int64</td>\n",
       "      <td>int64</td>\n",
       "      <td>int64</td>\n",
       "      <td>int64</td>\n",
       "      <td>int64</td>\n",
       "      <td>int64</td>\n",
       "      <td>int64</td>\n",
       "      <td>int64</td>\n",
       "      <td>int64</td>\n",
       "      <td>int64</td>\n",
       "      <td>int64</td>\n",
       "      <td>int64</td>\n",
       "      <td>int64</td>\n",
       "      <td>int64</td>\n",
       "      <td>int64</td>\n",
       "      <td>int64</td>\n",
       "      <td>int64</td>\n",
       "      <td>int64</td>\n",
       "      <td>int64</td>\n",
       "      <td>int64</td>\n",
       "      <td>int64</td>\n",
       "      <td>int64</td>\n",
       "      <td>int64</td>\n",
       "      <td>int64</td>\n",
       "      <td>int64</td>\n",
       "      <td>int64</td>\n",
       "      <td>int64</td>\n",
       "      <td>int64</td>\n",
       "      <td>int64</td>\n",
       "      <td>int64</td>\n",
       "      <td>int64</td>\n",
       "      <td>int64</td>\n",
       "      <td>int64</td>\n",
       "      <td>int64</td>\n",
       "      <td>int64</td>\n",
       "      <td>int64</td>\n",
       "      <td>int64</td>\n",
       "      <td>int64</td>\n",
       "      <td>int64</td>\n",
       "      <td>int64</td>\n",
       "      <td>int64</td>\n",
       "      <td>int64</td>\n",
       "      <td>int64</td>\n",
       "      <td>int64</td>\n",
       "      <td>int64</td>\n",
       "      <td>int64</td>\n",
       "      <td>int64</td>\n",
       "      <td>int64</td>\n",
       "      <td>int64</td>\n",
       "      <td>int64</td>\n",
       "      <td>int64</td>\n",
       "      <td>int64</td>\n",
       "      <td>int64</td>\n",
       "      <td>int64</td>\n",
       "      <td>int64</td>\n",
       "      <td>int64</td>\n",
       "      <td>int64</td>\n",
       "    </tr>\n",
       "    <tr>\n",
       "      <th></th>\n",
       "      <td>...</td>\n",
       "      <td>...</td>\n",
       "      <td>...</td>\n",
       "      <td>...</td>\n",
       "      <td>...</td>\n",
       "      <td>...</td>\n",
       "      <td>...</td>\n",
       "      <td>...</td>\n",
       "      <td>...</td>\n",
       "      <td>...</td>\n",
       "      <td>...</td>\n",
       "      <td>...</td>\n",
       "      <td>...</td>\n",
       "      <td>...</td>\n",
       "      <td>...</td>\n",
       "      <td>...</td>\n",
       "      <td>...</td>\n",
       "      <td>...</td>\n",
       "      <td>...</td>\n",
       "      <td>...</td>\n",
       "      <td>...</td>\n",
       "      <td>...</td>\n",
       "      <td>...</td>\n",
       "      <td>...</td>\n",
       "      <td>...</td>\n",
       "      <td>...</td>\n",
       "      <td>...</td>\n",
       "      <td>...</td>\n",
       "      <td>...</td>\n",
       "      <td>...</td>\n",
       "      <td>...</td>\n",
       "      <td>...</td>\n",
       "      <td>...</td>\n",
       "      <td>...</td>\n",
       "      <td>...</td>\n",
       "      <td>...</td>\n",
       "      <td>...</td>\n",
       "      <td>...</td>\n",
       "      <td>...</td>\n",
       "      <td>...</td>\n",
       "      <td>...</td>\n",
       "      <td>...</td>\n",
       "      <td>...</td>\n",
       "      <td>...</td>\n",
       "      <td>...</td>\n",
       "      <td>...</td>\n",
       "      <td>...</td>\n",
       "      <td>...</td>\n",
       "      <td>...</td>\n",
       "      <td>...</td>\n",
       "      <td>...</td>\n",
       "      <td>...</td>\n",
       "      <td>...</td>\n",
       "      <td>...</td>\n",
       "      <td>...</td>\n",
       "      <td>...</td>\n",
       "      <td>...</td>\n",
       "      <td>...</td>\n",
       "      <td>...</td>\n",
       "      <td>...</td>\n",
       "      <td>...</td>\n",
       "      <td>...</td>\n",
       "      <td>...</td>\n",
       "      <td>...</td>\n",
       "      <td>...</td>\n",
       "      <td>...</td>\n",
       "      <td>...</td>\n",
       "      <td>...</td>\n",
       "      <td>...</td>\n",
       "      <td>...</td>\n",
       "      <td>...</td>\n",
       "      <td>...</td>\n",
       "      <td>...</td>\n",
       "      <td>...</td>\n",
       "      <td>...</td>\n",
       "      <td>...</td>\n",
       "      <td>...</td>\n",
       "      <td>...</td>\n",
       "      <td>...</td>\n",
       "      <td>...</td>\n",
       "      <td>...</td>\n",
       "      <td>...</td>\n",
       "      <td>...</td>\n",
       "      <td>...</td>\n",
       "      <td>...</td>\n",
       "      <td>...</td>\n",
       "      <td>...</td>\n",
       "      <td>...</td>\n",
       "      <td>...</td>\n",
       "      <td>...</td>\n",
       "      <td>...</td>\n",
       "      <td>...</td>\n",
       "      <td>...</td>\n",
       "      <td>...</td>\n",
       "      <td>...</td>\n",
       "      <td>...</td>\n",
       "      <td>...</td>\n",
       "      <td>...</td>\n",
       "      <td>...</td>\n",
       "      <td>...</td>\n",
       "      <td>...</td>\n",
       "      <td>...</td>\n",
       "      <td>...</td>\n",
       "      <td>...</td>\n",
       "      <td>...</td>\n",
       "      <td>...</td>\n",
       "      <td>...</td>\n",
       "      <td>...</td>\n",
       "      <td>...</td>\n",
       "      <td>...</td>\n",
       "      <td>...</td>\n",
       "      <td>...</td>\n",
       "      <td>...</td>\n",
       "      <td>...</td>\n",
       "      <td>...</td>\n",
       "      <td>...</td>\n",
       "      <td>...</td>\n",
       "      <td>...</td>\n",
       "      <td>...</td>\n",
       "      <td>...</td>\n",
       "      <td>...</td>\n",
       "      <td>...</td>\n",
       "      <td>...</td>\n",
       "      <td>...</td>\n",
       "      <td>...</td>\n",
       "      <td>...</td>\n",
       "      <td>...</td>\n",
       "      <td>...</td>\n",
       "      <td>...</td>\n",
       "      <td>...</td>\n",
       "      <td>...</td>\n",
       "      <td>...</td>\n",
       "      <td>...</td>\n",
       "      <td>...</td>\n",
       "      <td>...</td>\n",
       "      <td>...</td>\n",
       "      <td>...</td>\n",
       "      <td>...</td>\n",
       "      <td>...</td>\n",
       "      <td>...</td>\n",
       "      <td>...</td>\n",
       "      <td>...</td>\n",
       "      <td>...</td>\n",
       "      <td>...</td>\n",
       "      <td>...</td>\n",
       "      <td>...</td>\n",
       "      <td>...</td>\n",
       "      <td>...</td>\n",
       "      <td>...</td>\n",
       "      <td>...</td>\n",
       "      <td>...</td>\n",
       "      <td>...</td>\n",
       "    </tr>\n",
       "    <tr>\n",
       "      <th>...</th>\n",
       "      <td>...</td>\n",
       "      <td>...</td>\n",
       "      <td>...</td>\n",
       "      <td>...</td>\n",
       "      <td>...</td>\n",
       "      <td>...</td>\n",
       "      <td>...</td>\n",
       "      <td>...</td>\n",
       "      <td>...</td>\n",
       "      <td>...</td>\n",
       "      <td>...</td>\n",
       "      <td>...</td>\n",
       "      <td>...</td>\n",
       "      <td>...</td>\n",
       "      <td>...</td>\n",
       "      <td>...</td>\n",
       "      <td>...</td>\n",
       "      <td>...</td>\n",
       "      <td>...</td>\n",
       "      <td>...</td>\n",
       "      <td>...</td>\n",
       "      <td>...</td>\n",
       "      <td>...</td>\n",
       "      <td>...</td>\n",
       "      <td>...</td>\n",
       "      <td>...</td>\n",
       "      <td>...</td>\n",
       "      <td>...</td>\n",
       "      <td>...</td>\n",
       "      <td>...</td>\n",
       "      <td>...</td>\n",
       "      <td>...</td>\n",
       "      <td>...</td>\n",
       "      <td>...</td>\n",
       "      <td>...</td>\n",
       "      <td>...</td>\n",
       "      <td>...</td>\n",
       "      <td>...</td>\n",
       "      <td>...</td>\n",
       "      <td>...</td>\n",
       "      <td>...</td>\n",
       "      <td>...</td>\n",
       "      <td>...</td>\n",
       "      <td>...</td>\n",
       "      <td>...</td>\n",
       "      <td>...</td>\n",
       "      <td>...</td>\n",
       "      <td>...</td>\n",
       "      <td>...</td>\n",
       "      <td>...</td>\n",
       "      <td>...</td>\n",
       "      <td>...</td>\n",
       "      <td>...</td>\n",
       "      <td>...</td>\n",
       "      <td>...</td>\n",
       "      <td>...</td>\n",
       "      <td>...</td>\n",
       "      <td>...</td>\n",
       "      <td>...</td>\n",
       "      <td>...</td>\n",
       "      <td>...</td>\n",
       "      <td>...</td>\n",
       "      <td>...</td>\n",
       "      <td>...</td>\n",
       "      <td>...</td>\n",
       "      <td>...</td>\n",
       "      <td>...</td>\n",
       "      <td>...</td>\n",
       "      <td>...</td>\n",
       "      <td>...</td>\n",
       "      <td>...</td>\n",
       "      <td>...</td>\n",
       "      <td>...</td>\n",
       "      <td>...</td>\n",
       "      <td>...</td>\n",
       "      <td>...</td>\n",
       "      <td>...</td>\n",
       "      <td>...</td>\n",
       "      <td>...</td>\n",
       "      <td>...</td>\n",
       "      <td>...</td>\n",
       "      <td>...</td>\n",
       "      <td>...</td>\n",
       "      <td>...</td>\n",
       "      <td>...</td>\n",
       "      <td>...</td>\n",
       "      <td>...</td>\n",
       "      <td>...</td>\n",
       "      <td>...</td>\n",
       "      <td>...</td>\n",
       "      <td>...</td>\n",
       "      <td>...</td>\n",
       "      <td>...</td>\n",
       "      <td>...</td>\n",
       "      <td>...</td>\n",
       "      <td>...</td>\n",
       "      <td>...</td>\n",
       "      <td>...</td>\n",
       "      <td>...</td>\n",
       "      <td>...</td>\n",
       "      <td>...</td>\n",
       "      <td>...</td>\n",
       "      <td>...</td>\n",
       "      <td>...</td>\n",
       "      <td>...</td>\n",
       "      <td>...</td>\n",
       "      <td>...</td>\n",
       "      <td>...</td>\n",
       "      <td>...</td>\n",
       "      <td>...</td>\n",
       "      <td>...</td>\n",
       "      <td>...</td>\n",
       "      <td>...</td>\n",
       "      <td>...</td>\n",
       "      <td>...</td>\n",
       "      <td>...</td>\n",
       "      <td>...</td>\n",
       "      <td>...</td>\n",
       "      <td>...</td>\n",
       "      <td>...</td>\n",
       "      <td>...</td>\n",
       "      <td>...</td>\n",
       "      <td>...</td>\n",
       "      <td>...</td>\n",
       "      <td>...</td>\n",
       "      <td>...</td>\n",
       "      <td>...</td>\n",
       "      <td>...</td>\n",
       "      <td>...</td>\n",
       "      <td>...</td>\n",
       "      <td>...</td>\n",
       "      <td>...</td>\n",
       "      <td>...</td>\n",
       "      <td>...</td>\n",
       "      <td>...</td>\n",
       "      <td>...</td>\n",
       "      <td>...</td>\n",
       "      <td>...</td>\n",
       "      <td>...</td>\n",
       "      <td>...</td>\n",
       "      <td>...</td>\n",
       "      <td>...</td>\n",
       "      <td>...</td>\n",
       "      <td>...</td>\n",
       "      <td>...</td>\n",
       "      <td>...</td>\n",
       "      <td>...</td>\n",
       "      <td>...</td>\n",
       "      <td>...</td>\n",
       "      <td>...</td>\n",
       "      <td>...</td>\n",
       "      <td>...</td>\n",
       "    </tr>\n",
       "    <tr>\n",
       "      <th></th>\n",
       "      <td>...</td>\n",
       "      <td>...</td>\n",
       "      <td>...</td>\n",
       "      <td>...</td>\n",
       "      <td>...</td>\n",
       "      <td>...</td>\n",
       "      <td>...</td>\n",
       "      <td>...</td>\n",
       "      <td>...</td>\n",
       "      <td>...</td>\n",
       "      <td>...</td>\n",
       "      <td>...</td>\n",
       "      <td>...</td>\n",
       "      <td>...</td>\n",
       "      <td>...</td>\n",
       "      <td>...</td>\n",
       "      <td>...</td>\n",
       "      <td>...</td>\n",
       "      <td>...</td>\n",
       "      <td>...</td>\n",
       "      <td>...</td>\n",
       "      <td>...</td>\n",
       "      <td>...</td>\n",
       "      <td>...</td>\n",
       "      <td>...</td>\n",
       "      <td>...</td>\n",
       "      <td>...</td>\n",
       "      <td>...</td>\n",
       "      <td>...</td>\n",
       "      <td>...</td>\n",
       "      <td>...</td>\n",
       "      <td>...</td>\n",
       "      <td>...</td>\n",
       "      <td>...</td>\n",
       "      <td>...</td>\n",
       "      <td>...</td>\n",
       "      <td>...</td>\n",
       "      <td>...</td>\n",
       "      <td>...</td>\n",
       "      <td>...</td>\n",
       "      <td>...</td>\n",
       "      <td>...</td>\n",
       "      <td>...</td>\n",
       "      <td>...</td>\n",
       "      <td>...</td>\n",
       "      <td>...</td>\n",
       "      <td>...</td>\n",
       "      <td>...</td>\n",
       "      <td>...</td>\n",
       "      <td>...</td>\n",
       "      <td>...</td>\n",
       "      <td>...</td>\n",
       "      <td>...</td>\n",
       "      <td>...</td>\n",
       "      <td>...</td>\n",
       "      <td>...</td>\n",
       "      <td>...</td>\n",
       "      <td>...</td>\n",
       "      <td>...</td>\n",
       "      <td>...</td>\n",
       "      <td>...</td>\n",
       "      <td>...</td>\n",
       "      <td>...</td>\n",
       "      <td>...</td>\n",
       "      <td>...</td>\n",
       "      <td>...</td>\n",
       "      <td>...</td>\n",
       "      <td>...</td>\n",
       "      <td>...</td>\n",
       "      <td>...</td>\n",
       "      <td>...</td>\n",
       "      <td>...</td>\n",
       "      <td>...</td>\n",
       "      <td>...</td>\n",
       "      <td>...</td>\n",
       "      <td>...</td>\n",
       "      <td>...</td>\n",
       "      <td>...</td>\n",
       "      <td>...</td>\n",
       "      <td>...</td>\n",
       "      <td>...</td>\n",
       "      <td>...</td>\n",
       "      <td>...</td>\n",
       "      <td>...</td>\n",
       "      <td>...</td>\n",
       "      <td>...</td>\n",
       "      <td>...</td>\n",
       "      <td>...</td>\n",
       "      <td>...</td>\n",
       "      <td>...</td>\n",
       "      <td>...</td>\n",
       "      <td>...</td>\n",
       "      <td>...</td>\n",
       "      <td>...</td>\n",
       "      <td>...</td>\n",
       "      <td>...</td>\n",
       "      <td>...</td>\n",
       "      <td>...</td>\n",
       "      <td>...</td>\n",
       "      <td>...</td>\n",
       "      <td>...</td>\n",
       "      <td>...</td>\n",
       "      <td>...</td>\n",
       "      <td>...</td>\n",
       "      <td>...</td>\n",
       "      <td>...</td>\n",
       "      <td>...</td>\n",
       "      <td>...</td>\n",
       "      <td>...</td>\n",
       "      <td>...</td>\n",
       "      <td>...</td>\n",
       "      <td>...</td>\n",
       "      <td>...</td>\n",
       "      <td>...</td>\n",
       "      <td>...</td>\n",
       "      <td>...</td>\n",
       "      <td>...</td>\n",
       "      <td>...</td>\n",
       "      <td>...</td>\n",
       "      <td>...</td>\n",
       "      <td>...</td>\n",
       "      <td>...</td>\n",
       "      <td>...</td>\n",
       "      <td>...</td>\n",
       "      <td>...</td>\n",
       "      <td>...</td>\n",
       "      <td>...</td>\n",
       "      <td>...</td>\n",
       "      <td>...</td>\n",
       "      <td>...</td>\n",
       "      <td>...</td>\n",
       "      <td>...</td>\n",
       "      <td>...</td>\n",
       "      <td>...</td>\n",
       "      <td>...</td>\n",
       "      <td>...</td>\n",
       "      <td>...</td>\n",
       "      <td>...</td>\n",
       "      <td>...</td>\n",
       "      <td>...</td>\n",
       "      <td>...</td>\n",
       "      <td>...</td>\n",
       "      <td>...</td>\n",
       "      <td>...</td>\n",
       "      <td>...</td>\n",
       "      <td>...</td>\n",
       "      <td>...</td>\n",
       "      <td>...</td>\n",
       "      <td>...</td>\n",
       "      <td>...</td>\n",
       "      <td>...</td>\n",
       "      <td>...</td>\n",
       "    </tr>\n",
       "    <tr>\n",
       "      <th></th>\n",
       "      <td>...</td>\n",
       "      <td>...</td>\n",
       "      <td>...</td>\n",
       "      <td>...</td>\n",
       "      <td>...</td>\n",
       "      <td>...</td>\n",
       "      <td>...</td>\n",
       "      <td>...</td>\n",
       "      <td>...</td>\n",
       "      <td>...</td>\n",
       "      <td>...</td>\n",
       "      <td>...</td>\n",
       "      <td>...</td>\n",
       "      <td>...</td>\n",
       "      <td>...</td>\n",
       "      <td>...</td>\n",
       "      <td>...</td>\n",
       "      <td>...</td>\n",
       "      <td>...</td>\n",
       "      <td>...</td>\n",
       "      <td>...</td>\n",
       "      <td>...</td>\n",
       "      <td>...</td>\n",
       "      <td>...</td>\n",
       "      <td>...</td>\n",
       "      <td>...</td>\n",
       "      <td>...</td>\n",
       "      <td>...</td>\n",
       "      <td>...</td>\n",
       "      <td>...</td>\n",
       "      <td>...</td>\n",
       "      <td>...</td>\n",
       "      <td>...</td>\n",
       "      <td>...</td>\n",
       "      <td>...</td>\n",
       "      <td>...</td>\n",
       "      <td>...</td>\n",
       "      <td>...</td>\n",
       "      <td>...</td>\n",
       "      <td>...</td>\n",
       "      <td>...</td>\n",
       "      <td>...</td>\n",
       "      <td>...</td>\n",
       "      <td>...</td>\n",
       "      <td>...</td>\n",
       "      <td>...</td>\n",
       "      <td>...</td>\n",
       "      <td>...</td>\n",
       "      <td>...</td>\n",
       "      <td>...</td>\n",
       "      <td>...</td>\n",
       "      <td>...</td>\n",
       "      <td>...</td>\n",
       "      <td>...</td>\n",
       "      <td>...</td>\n",
       "      <td>...</td>\n",
       "      <td>...</td>\n",
       "      <td>...</td>\n",
       "      <td>...</td>\n",
       "      <td>...</td>\n",
       "      <td>...</td>\n",
       "      <td>...</td>\n",
       "      <td>...</td>\n",
       "      <td>...</td>\n",
       "      <td>...</td>\n",
       "      <td>...</td>\n",
       "      <td>...</td>\n",
       "      <td>...</td>\n",
       "      <td>...</td>\n",
       "      <td>...</td>\n",
       "      <td>...</td>\n",
       "      <td>...</td>\n",
       "      <td>...</td>\n",
       "      <td>...</td>\n",
       "      <td>...</td>\n",
       "      <td>...</td>\n",
       "      <td>...</td>\n",
       "      <td>...</td>\n",
       "      <td>...</td>\n",
       "      <td>...</td>\n",
       "      <td>...</td>\n",
       "      <td>...</td>\n",
       "      <td>...</td>\n",
       "      <td>...</td>\n",
       "      <td>...</td>\n",
       "      <td>...</td>\n",
       "      <td>...</td>\n",
       "      <td>...</td>\n",
       "      <td>...</td>\n",
       "      <td>...</td>\n",
       "      <td>...</td>\n",
       "      <td>...</td>\n",
       "      <td>...</td>\n",
       "      <td>...</td>\n",
       "      <td>...</td>\n",
       "      <td>...</td>\n",
       "      <td>...</td>\n",
       "      <td>...</td>\n",
       "      <td>...</td>\n",
       "      <td>...</td>\n",
       "      <td>...</td>\n",
       "      <td>...</td>\n",
       "      <td>...</td>\n",
       "      <td>...</td>\n",
       "      <td>...</td>\n",
       "      <td>...</td>\n",
       "      <td>...</td>\n",
       "      <td>...</td>\n",
       "      <td>...</td>\n",
       "      <td>...</td>\n",
       "      <td>...</td>\n",
       "      <td>...</td>\n",
       "      <td>...</td>\n",
       "      <td>...</td>\n",
       "      <td>...</td>\n",
       "      <td>...</td>\n",
       "      <td>...</td>\n",
       "      <td>...</td>\n",
       "      <td>...</td>\n",
       "      <td>...</td>\n",
       "      <td>...</td>\n",
       "      <td>...</td>\n",
       "      <td>...</td>\n",
       "      <td>...</td>\n",
       "      <td>...</td>\n",
       "      <td>...</td>\n",
       "      <td>...</td>\n",
       "      <td>...</td>\n",
       "      <td>...</td>\n",
       "      <td>...</td>\n",
       "      <td>...</td>\n",
       "      <td>...</td>\n",
       "      <td>...</td>\n",
       "      <td>...</td>\n",
       "      <td>...</td>\n",
       "      <td>...</td>\n",
       "      <td>...</td>\n",
       "      <td>...</td>\n",
       "      <td>...</td>\n",
       "      <td>...</td>\n",
       "      <td>...</td>\n",
       "      <td>...</td>\n",
       "      <td>...</td>\n",
       "      <td>...</td>\n",
       "      <td>...</td>\n",
       "      <td>...</td>\n",
       "      <td>...</td>\n",
       "      <td>...</td>\n",
       "      <td>...</td>\n",
       "      <td>...</td>\n",
       "      <td>...</td>\n",
       "      <td>...</td>\n",
       "    </tr>\n",
       "  </tbody>\n",
       "</table>\n",
       "</div>\n",
       "<div>Dask Name: drop_by_shallow_copy, 13813 tasks</div>"
      ],
      "text/plain": [
       "Dask DataFrame Structure:\n",
       "                 SRR957739 SRR957740 SRR957741 SRR957744 SRR957745 SRR6877292 SRR6877372 SRR6877370 SRR6877378 SRR6877388 SRR6877382 SRR6877350 SRR6877367 SRR6877365 SRR6877361 SRR6877369 SRR6877338 SRR6877336 SRR6877334 SRR6877330 SRR6877344 SRR6877348 SRR6877340 SRR6877399 SRR6877401 SRR6877403 SRR6877328 SRR6877339 SRR6877316 SRR6877318 SRR6877322 SRR6877312 SRR6877310 SRR6877326 SRR6877393 SRR9898613 SRR5297130 SRR5297132 SRR11176627 SRR11176630 SRR11176635 SRR11176636 SRR11176638 SRR11176641 SRR12462938 SRR12462941 SRR12462942 SRR12462943 SRR12462931 SRR12462932 SRR12462934 SRR12462935 SRR12462936 SRR12462947 SRR12136713 SRR12136712 SRR5047194 SRR5047075 SRR5047132 SRR5047159 SRR5047157 SRR5047057 SRR5047086 SRR5047187 SRR5047043 SRR5047101 SRR5047146 SRR5047070 SRR5047118 SRR5047138 SRR5047077 SRR5047156 SRR5047176 SRR5047203 SRR5047126 SRR5047195 SRR5047045 SRR5047100 SRR5047106 SRR5047088 SRR5047191 SRR5047134 SRR5047094 SRR5047073 SRR5047109 SRR5047081 SRR5047140 SRR5047090 SRR5047082 SRR5047083 SRR5047113 SRR5047172 SRR5047201 SRR5047117 SRR5047169 SRR5047062 SRR5047152 SRR5047182 SRR5047071 SRR5047063 SRR5047054 SRR5047178 SRR5047123 SRR5047136 SRR5047047 SRR5047092 SRR5047199 SRR5047074 SRR5047108 SRR5047102 SRR5047179 SRR5047144 SRR5047121 SRR5047098 SRR5047124 SRR5047087 SRR5047184 SRR5047066 SRR5047093 SRR5047167 SRR5047173 SRR5047107 SRR5047059 SRR5047163 SRR5047049 SRR5047145 SRR5047061 SRR5047149 SRR5047112 SRR5047154 SRR5047204 SRR5047153 SRR5047056 SRR5047130 SRR5047139 SRR5047131 SRR5047072 SRR5047150 SRR5047084 SRR5047105 SRR5047064 ERR1883904 ERR2204628 SRR12548766 SRR1794618 SRR1783758 SRR1795018 SRR5892215 SRR769525 SRR769515 SRR769527 SRR769519\n",
       "npartitions=6906                                                                                                                                                                                                                                                                                                                                                                                                                                                                                                                                                                                                                                                                                                                                                                                                                                                                                                                                                                                                                                                                                                                                                                                                                                                                                                                                                                                                                                                                                                                                                                                                                                                                                                                                                  \n",
       "                     int64     int64     int64     int64     int64      int64      int64      int64      int64      int64      int64      int64      int64      int64      int64      int64      int64      int64      int64      int64      int64      int64      int64      int64      int64      int64      int64      int64      int64      int64      int64      int64      int64      int64      int64      int64      int64      int64       int64       int64       int64       int64       int64       int64       int64       int64       int64       int64       int64       int64       int64       int64       int64       int64       int64       int64      int64      int64      int64      int64      int64      int64      int64      int64      int64      int64      int64      int64      int64      int64      int64      int64      int64      int64      int64      int64      int64      int64      int64      int64      int64      int64      int64      int64      int64      int64      int64      int64      int64      int64      int64      int64      int64      int64      int64      int64      int64      int64      int64      int64      int64      int64      int64      int64      int64      int64      int64      int64      int64      int64      int64      int64      int64      int64      int64      int64      int64      int64      int64      int64      int64      int64      int64      int64      int64      int64      int64      int64      int64      int64      int64      int64      int64      int64      int64      int64      int64      int64      int64      int64      int64      int64      int64       int64      int64      int64      int64      int64     int64     int64     int64     int64\n",
       "                       ...       ...       ...       ...       ...        ...        ...        ...        ...        ...        ...        ...        ...        ...        ...        ...        ...        ...        ...        ...        ...        ...        ...        ...        ...        ...        ...        ...        ...        ...        ...        ...        ...        ...        ...        ...        ...        ...         ...         ...         ...         ...         ...         ...         ...         ...         ...         ...         ...         ...         ...         ...         ...         ...         ...         ...        ...        ...        ...        ...        ...        ...        ...        ...        ...        ...        ...        ...        ...        ...        ...        ...        ...        ...        ...        ...        ...        ...        ...        ...        ...        ...        ...        ...        ...        ...        ...        ...        ...        ...        ...        ...        ...        ...        ...        ...        ...        ...        ...        ...        ...        ...        ...        ...        ...        ...        ...        ...        ...        ...        ...        ...        ...        ...        ...        ...        ...        ...        ...        ...        ...        ...        ...        ...        ...        ...        ...        ...        ...        ...        ...        ...        ...        ...        ...        ...        ...        ...        ...        ...        ...        ...        ...         ...        ...        ...        ...        ...       ...       ...       ...       ...\n",
       "...                    ...       ...       ...       ...       ...        ...        ...        ...        ...        ...        ...        ...        ...        ...        ...        ...        ...        ...        ...        ...        ...        ...        ...        ...        ...        ...        ...        ...        ...        ...        ...        ...        ...        ...        ...        ...        ...        ...         ...         ...         ...         ...         ...         ...         ...         ...         ...         ...         ...         ...         ...         ...         ...         ...         ...         ...        ...        ...        ...        ...        ...        ...        ...        ...        ...        ...        ...        ...        ...        ...        ...        ...        ...        ...        ...        ...        ...        ...        ...        ...        ...        ...        ...        ...        ...        ...        ...        ...        ...        ...        ...        ...        ...        ...        ...        ...        ...        ...        ...        ...        ...        ...        ...        ...        ...        ...        ...        ...        ...        ...        ...        ...        ...        ...        ...        ...        ...        ...        ...        ...        ...        ...        ...        ...        ...        ...        ...        ...        ...        ...        ...        ...        ...        ...        ...        ...        ...        ...        ...        ...        ...        ...        ...         ...        ...        ...        ...        ...       ...       ...       ...       ...\n",
       "                       ...       ...       ...       ...       ...        ...        ...        ...        ...        ...        ...        ...        ...        ...        ...        ...        ...        ...        ...        ...        ...        ...        ...        ...        ...        ...        ...        ...        ...        ...        ...        ...        ...        ...        ...        ...        ...        ...         ...         ...         ...         ...         ...         ...         ...         ...         ...         ...         ...         ...         ...         ...         ...         ...         ...         ...        ...        ...        ...        ...        ...        ...        ...        ...        ...        ...        ...        ...        ...        ...        ...        ...        ...        ...        ...        ...        ...        ...        ...        ...        ...        ...        ...        ...        ...        ...        ...        ...        ...        ...        ...        ...        ...        ...        ...        ...        ...        ...        ...        ...        ...        ...        ...        ...        ...        ...        ...        ...        ...        ...        ...        ...        ...        ...        ...        ...        ...        ...        ...        ...        ...        ...        ...        ...        ...        ...        ...        ...        ...        ...        ...        ...        ...        ...        ...        ...        ...        ...        ...        ...        ...        ...        ...         ...        ...        ...        ...        ...       ...       ...       ...       ...\n",
       "                       ...       ...       ...       ...       ...        ...        ...        ...        ...        ...        ...        ...        ...        ...        ...        ...        ...        ...        ...        ...        ...        ...        ...        ...        ...        ...        ...        ...        ...        ...        ...        ...        ...        ...        ...        ...        ...        ...         ...         ...         ...         ...         ...         ...         ...         ...         ...         ...         ...         ...         ...         ...         ...         ...         ...         ...        ...        ...        ...        ...        ...        ...        ...        ...        ...        ...        ...        ...        ...        ...        ...        ...        ...        ...        ...        ...        ...        ...        ...        ...        ...        ...        ...        ...        ...        ...        ...        ...        ...        ...        ...        ...        ...        ...        ...        ...        ...        ...        ...        ...        ...        ...        ...        ...        ...        ...        ...        ...        ...        ...        ...        ...        ...        ...        ...        ...        ...        ...        ...        ...        ...        ...        ...        ...        ...        ...        ...        ...        ...        ...        ...        ...        ...        ...        ...        ...        ...        ...        ...        ...        ...        ...        ...         ...        ...        ...        ...        ...       ...       ...       ...       ...\n",
       "Dask Name: drop_by_shallow_copy, 13813 tasks"
      ]
     },
     "execution_count": 81,
     "metadata": {},
     "output_type": "execute_result"
    }
   ],
   "source": [
    "modelling_matrices[1]"
   ]
  },
  {
   "cell_type": "code",
   "execution_count": null,
   "id": "2e5b2f45",
   "metadata": {},
   "outputs": [],
   "source": []
  }
 ],
 "metadata": {
  "kernelspec": {
   "display_name": "Python 3",
   "language": "python",
   "name": "python3"
  },
  "toc": {
   "base_numbering": 1,
   "nav_menu": {},
   "number_sections": true,
   "sideBar": true,
   "skip_h1_title": false,
   "title_cell": "Table of Contents",
   "title_sidebar": "Contents",
   "toc_cell": false,
   "toc_position": {},
   "toc_section_display": true,
   "toc_window_display": false
  }
 },
 "nbformat": 4,
 "nbformat_minor": 5
}
