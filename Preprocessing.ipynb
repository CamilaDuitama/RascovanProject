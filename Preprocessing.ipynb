{
 "cells": [
  {
   "cell_type": "code",
   "execution_count": 43,
   "metadata": {},
   "outputs": [],
   "source": [
    "import pandas as pd\n",
    "import numpy as np\n",
    "#import findspark\n",
    "#findspark.init()\n",
    "from pyspark.sql import SparkSession , SQLContext\n",
    "from pyspark import SparkContext,SparkConf\n",
    "import plotly.graph_objects as go\n",
    "import plotly.express as px"
   ]
  },
  {
   "cell_type": "code",
   "execution_count": 44,
   "metadata": {},
   "outputs": [],
   "source": [
    "SRR_aMetagenomes=pd.read_table(\"Metadata/aMetagenomes/SRR_aMetagenomes.txt\", names=[\"Accession\"],)"
   ]
  },
  {
   "cell_type": "code",
   "execution_count": 45,
   "metadata": {},
   "outputs": [
    {
     "data": {
      "text/html": [
       "<div>\n",
       "<style scoped>\n",
       "    .dataframe tbody tr th:only-of-type {\n",
       "        vertical-align: middle;\n",
       "    }\n",
       "\n",
       "    .dataframe tbody tr th {\n",
       "        vertical-align: top;\n",
       "    }\n",
       "\n",
       "    .dataframe thead th {\n",
       "        text-align: right;\n",
       "    }\n",
       "</style>\n",
       "<table border=\"1\" class=\"dataframe\">\n",
       "  <thead>\n",
       "    <tr style=\"text-align: right;\">\n",
       "      <th></th>\n",
       "      <th>archive_accession</th>\n",
       "      <th>SRR_accession</th>\n",
       "    </tr>\n",
       "  </thead>\n",
       "  <tbody>\n",
       "    <tr>\n",
       "      <th>0</th>\n",
       "      <td>SRS473742</td>\n",
       "      <td>SRR957738</td>\n",
       "    </tr>\n",
       "    <tr>\n",
       "      <th>1</th>\n",
       "      <td>SRS473743</td>\n",
       "      <td>SRR957739</td>\n",
       "    </tr>\n",
       "    <tr>\n",
       "      <th>2</th>\n",
       "      <td>SRS473744</td>\n",
       "      <td>SRR957740</td>\n",
       "    </tr>\n",
       "    <tr>\n",
       "      <th>3</th>\n",
       "      <td>SRS473745</td>\n",
       "      <td>SRR957741</td>\n",
       "    </tr>\n",
       "    <tr>\n",
       "      <th>4</th>\n",
       "      <td>SRS473747</td>\n",
       "      <td>SRR957742</td>\n",
       "    </tr>\n",
       "    <tr>\n",
       "      <th>...</th>\n",
       "      <td>...</td>\n",
       "      <td>...</td>\n",
       "    </tr>\n",
       "    <tr>\n",
       "      <th>513</th>\n",
       "      <td>SRS1815433</td>\n",
       "      <td>SRR5047202</td>\n",
       "    </tr>\n",
       "    <tr>\n",
       "      <th>514</th>\n",
       "      <td>SRS1815336</td>\n",
       "      <td>SRR5047105</td>\n",
       "    </tr>\n",
       "    <tr>\n",
       "      <th>515</th>\n",
       "      <td>SRS1815334</td>\n",
       "      <td>SRR5047103</td>\n",
       "    </tr>\n",
       "    <tr>\n",
       "      <th>516</th>\n",
       "      <td>SRS1815373</td>\n",
       "      <td>SRR5047142</td>\n",
       "    </tr>\n",
       "    <tr>\n",
       "      <th>517</th>\n",
       "      <td>SRS1815295</td>\n",
       "      <td>SRR5047064</td>\n",
       "    </tr>\n",
       "  </tbody>\n",
       "</table>\n",
       "<p>518 rows × 2 columns</p>\n",
       "</div>"
      ],
      "text/plain": [
       "    archive_accession SRR_accession\n",
       "0           SRS473742     SRR957738\n",
       "1           SRS473743     SRR957739\n",
       "2           SRS473744     SRR957740\n",
       "3           SRS473745     SRR957741\n",
       "4           SRS473747     SRR957742\n",
       "..                ...           ...\n",
       "513        SRS1815433    SRR5047202\n",
       "514        SRS1815336    SRR5047105\n",
       "515        SRS1815334    SRR5047103\n",
       "516        SRS1815373    SRR5047142\n",
       "517        SRS1815295    SRR5047064\n",
       "\n",
       "[518 rows x 2 columns]"
      ]
     },
     "execution_count": 45,
     "metadata": {},
     "output_type": "execute_result"
    }
   ],
   "source": [
    "aMetagenomes_SRStoSRR=pd.read_table(\"Metadata/aMetagenomes/aMetagenomes_SRStoSRR.tsv\",names=[\"archive_accession\",\"SRR_accession\"])\n",
    "aMetagenomes=aMetagenomes_SRStoSRR[aMetagenomes_SRStoSRR['SRR_accession'].notna()]\n",
    "aMetagenomes_SRStoSRR"
   ]
  },
  {
   "cell_type": "code",
   "execution_count": 46,
   "metadata": {},
   "outputs": [
    {
     "data": {
      "text/plain": [
       "(447, 18)"
      ]
     },
     "execution_count": 46,
     "metadata": {},
     "output_type": "execute_result"
    }
   ],
   "source": [
    "aMetagenomes_metadata=pd.read_table(\"Metadata/aMetagenomes/aMetagenomes.txt\")\n",
    "#Create one row per archive_accession\n",
    "aMetagenomes_metadata=aMetagenomes_metadata.assign(archive_accession=aMetagenomes_metadata['archive_accession'].str.split(',')).explode('archive_accession')\n",
    "aMetagenomes_metadata=aMetagenomes_metadata.reset_index()\n",
    "aMetagenomes_metadata=aMetagenomes_metadata[aMetagenomes_metadata[\"archive\"]==\"SRA\"]\n",
    "aMetagenomes_metadata.shape"
   ]
  },
  {
   "cell_type": "code",
   "execution_count": 47,
   "metadata": {},
   "outputs": [
    {
     "data": {
      "text/html": [
       "<div>\n",
       "<style scoped>\n",
       "    .dataframe tbody tr th:only-of-type {\n",
       "        vertical-align: middle;\n",
       "    }\n",
       "\n",
       "    .dataframe tbody tr th {\n",
       "        vertical-align: top;\n",
       "    }\n",
       "\n",
       "    .dataframe thead th {\n",
       "        text-align: right;\n",
       "    }\n",
       "</style>\n",
       "<table border=\"1\" class=\"dataframe\">\n",
       "  <thead>\n",
       "    <tr style=\"text-align: right;\">\n",
       "      <th></th>\n",
       "      <th>index</th>\n",
       "      <th>project_name</th>\n",
       "      <th>publication_year</th>\n",
       "      <th>publication_doi</th>\n",
       "      <th>site_name</th>\n",
       "      <th>latitude</th>\n",
       "      <th>longitude</th>\n",
       "      <th>geo_loc_name</th>\n",
       "      <th>sample_name</th>\n",
       "      <th>sample_host</th>\n",
       "      <th>sample_age</th>\n",
       "      <th>sample_age_doi</th>\n",
       "      <th>community_type</th>\n",
       "      <th>material</th>\n",
       "      <th>collection_date</th>\n",
       "      <th>archive</th>\n",
       "      <th>archive_project</th>\n",
       "      <th>archive_accession</th>\n",
       "    </tr>\n",
       "  </thead>\n",
       "  <tbody>\n",
       "    <tr>\n",
       "      <th>0</th>\n",
       "      <td>1</td>\n",
       "      <td>Warinner2014</td>\n",
       "      <td>2014</td>\n",
       "      <td>10.1038/ng.2906</td>\n",
       "      <td>Dalheim</td>\n",
       "      <td>51.565</td>\n",
       "      <td>8.84</td>\n",
       "      <td>Germany</td>\n",
       "      <td>B61</td>\n",
       "      <td>Homo sapiens</td>\n",
       "      <td>900</td>\n",
       "      <td>10.1038/ng.2906</td>\n",
       "      <td>oral</td>\n",
       "      <td>dental calculus</td>\n",
       "      <td>NaN</td>\n",
       "      <td>SRA</td>\n",
       "      <td>PRJNA216965</td>\n",
       "      <td>SRS473742</td>\n",
       "    </tr>\n",
       "    <tr>\n",
       "      <th>1</th>\n",
       "      <td>1</td>\n",
       "      <td>Warinner2014</td>\n",
       "      <td>2014</td>\n",
       "      <td>10.1038/ng.2906</td>\n",
       "      <td>Dalheim</td>\n",
       "      <td>51.565</td>\n",
       "      <td>8.84</td>\n",
       "      <td>Germany</td>\n",
       "      <td>B61</td>\n",
       "      <td>Homo sapiens</td>\n",
       "      <td>900</td>\n",
       "      <td>10.1038/ng.2906</td>\n",
       "      <td>oral</td>\n",
       "      <td>dental calculus</td>\n",
       "      <td>NaN</td>\n",
       "      <td>SRA</td>\n",
       "      <td>PRJNA216965</td>\n",
       "      <td>SRS473743</td>\n",
       "    </tr>\n",
       "    <tr>\n",
       "      <th>2</th>\n",
       "      <td>1</td>\n",
       "      <td>Warinner2014</td>\n",
       "      <td>2014</td>\n",
       "      <td>10.1038/ng.2906</td>\n",
       "      <td>Dalheim</td>\n",
       "      <td>51.565</td>\n",
       "      <td>8.84</td>\n",
       "      <td>Germany</td>\n",
       "      <td>B61</td>\n",
       "      <td>Homo sapiens</td>\n",
       "      <td>900</td>\n",
       "      <td>10.1038/ng.2906</td>\n",
       "      <td>oral</td>\n",
       "      <td>dental calculus</td>\n",
       "      <td>NaN</td>\n",
       "      <td>SRA</td>\n",
       "      <td>PRJNA216965</td>\n",
       "      <td>SRS473744</td>\n",
       "    </tr>\n",
       "    <tr>\n",
       "      <th>3</th>\n",
       "      <td>1</td>\n",
       "      <td>Warinner2014</td>\n",
       "      <td>2014</td>\n",
       "      <td>10.1038/ng.2906</td>\n",
       "      <td>Dalheim</td>\n",
       "      <td>51.565</td>\n",
       "      <td>8.84</td>\n",
       "      <td>Germany</td>\n",
       "      <td>B61</td>\n",
       "      <td>Homo sapiens</td>\n",
       "      <td>900</td>\n",
       "      <td>10.1038/ng.2906</td>\n",
       "      <td>oral</td>\n",
       "      <td>dental calculus</td>\n",
       "      <td>NaN</td>\n",
       "      <td>SRA</td>\n",
       "      <td>PRJNA216965</td>\n",
       "      <td>SRS473745</td>\n",
       "    </tr>\n",
       "    <tr>\n",
       "      <th>4</th>\n",
       "      <td>2</td>\n",
       "      <td>Warinner2014</td>\n",
       "      <td>2014</td>\n",
       "      <td>10.1038/ng.2906</td>\n",
       "      <td>Dalheim</td>\n",
       "      <td>51.565</td>\n",
       "      <td>8.84</td>\n",
       "      <td>Germany</td>\n",
       "      <td>G12</td>\n",
       "      <td>Homo sapiens</td>\n",
       "      <td>900</td>\n",
       "      <td>10.1038/ng.2906</td>\n",
       "      <td>oral</td>\n",
       "      <td>dental calculus</td>\n",
       "      <td>NaN</td>\n",
       "      <td>SRA</td>\n",
       "      <td>PRJNA216965</td>\n",
       "      <td>SRS473747</td>\n",
       "    </tr>\n",
       "  </tbody>\n",
       "</table>\n",
       "</div>"
      ],
      "text/plain": [
       "   index  project_name  publication_year  publication_doi site_name  latitude  \\\n",
       "0      1  Warinner2014              2014  10.1038/ng.2906   Dalheim    51.565   \n",
       "1      1  Warinner2014              2014  10.1038/ng.2906   Dalheim    51.565   \n",
       "2      1  Warinner2014              2014  10.1038/ng.2906   Dalheim    51.565   \n",
       "3      1  Warinner2014              2014  10.1038/ng.2906   Dalheim    51.565   \n",
       "4      2  Warinner2014              2014  10.1038/ng.2906   Dalheim    51.565   \n",
       "\n",
       "   longitude geo_loc_name sample_name   sample_host  sample_age  \\\n",
       "0       8.84      Germany         B61  Homo sapiens         900   \n",
       "1       8.84      Germany         B61  Homo sapiens         900   \n",
       "2       8.84      Germany         B61  Homo sapiens         900   \n",
       "3       8.84      Germany         B61  Homo sapiens         900   \n",
       "4       8.84      Germany         G12  Homo sapiens         900   \n",
       "\n",
       "    sample_age_doi community_type         material  collection_date archive  \\\n",
       "0  10.1038/ng.2906           oral  dental calculus              NaN     SRA   \n",
       "1  10.1038/ng.2906           oral  dental calculus              NaN     SRA   \n",
       "2  10.1038/ng.2906           oral  dental calculus              NaN     SRA   \n",
       "3  10.1038/ng.2906           oral  dental calculus              NaN     SRA   \n",
       "4  10.1038/ng.2906           oral  dental calculus              NaN     SRA   \n",
       "\n",
       "  archive_project archive_accession  \n",
       "0     PRJNA216965         SRS473742  \n",
       "1     PRJNA216965         SRS473743  \n",
       "2     PRJNA216965         SRS473744  \n",
       "3     PRJNA216965         SRS473745  \n",
       "4     PRJNA216965         SRS473747  "
      ]
     },
     "execution_count": 47,
     "metadata": {},
     "output_type": "execute_result"
    }
   ],
   "source": [
    "aMetagenomes_metadata.head()"
   ]
  },
  {
   "cell_type": "code",
   "execution_count": 48,
   "metadata": {},
   "outputs": [
    {
     "data": {
      "text/plain": [
       "518"
      ]
     },
     "execution_count": 48,
     "metadata": {},
     "output_type": "execute_result"
    }
   ],
   "source": [
    "len(aMetagenomes_SRStoSRR.SRR_accession)"
   ]
  },
  {
   "cell_type": "code",
   "execution_count": 49,
   "metadata": {},
   "outputs": [
    {
     "data": {
      "text/plain": [
       "(447, 18)"
      ]
     },
     "execution_count": 49,
     "metadata": {},
     "output_type": "execute_result"
    }
   ],
   "source": [
    "aMetagenomes_metadata.shape"
   ]
  },
  {
   "cell_type": "code",
   "execution_count": 50,
   "metadata": {},
   "outputs": [],
   "source": [
    "#Filter aMetagenomes_metadata with only files that were downloaded"
   ]
  },
  {
   "cell_type": "code",
   "execution_count": 51,
   "metadata": {},
   "outputs": [
    {
     "data": {
      "text/html": [
       "<div>\n",
       "<style scoped>\n",
       "    .dataframe tbody tr th:only-of-type {\n",
       "        vertical-align: middle;\n",
       "    }\n",
       "\n",
       "    .dataframe tbody tr th {\n",
       "        vertical-align: top;\n",
       "    }\n",
       "\n",
       "    .dataframe thead th {\n",
       "        text-align: right;\n",
       "    }\n",
       "</style>\n",
       "<table border=\"1\" class=\"dataframe\">\n",
       "  <thead>\n",
       "    <tr style=\"text-align: right;\">\n",
       "      <th></th>\n",
       "      <th>SRR_accession</th>\n",
       "    </tr>\n",
       "  </thead>\n",
       "  <tbody>\n",
       "    <tr>\n",
       "      <th>0</th>\n",
       "      <td>SRR957738</td>\n",
       "    </tr>\n",
       "    <tr>\n",
       "      <th>1</th>\n",
       "      <td>SRR957739</td>\n",
       "    </tr>\n",
       "    <tr>\n",
       "      <th>2</th>\n",
       "      <td>SRR957740</td>\n",
       "    </tr>\n",
       "    <tr>\n",
       "      <th>3</th>\n",
       "      <td>SRR957741</td>\n",
       "    </tr>\n",
       "    <tr>\n",
       "      <th>4</th>\n",
       "      <td>SRR957742</td>\n",
       "    </tr>\n",
       "    <tr>\n",
       "      <th>...</th>\n",
       "      <td>...</td>\n",
       "    </tr>\n",
       "    <tr>\n",
       "      <th>442</th>\n",
       "      <td>SRR5047202</td>\n",
       "    </tr>\n",
       "    <tr>\n",
       "      <th>443</th>\n",
       "      <td>SRR5047105</td>\n",
       "    </tr>\n",
       "    <tr>\n",
       "      <th>444</th>\n",
       "      <td>SRR5047103</td>\n",
       "    </tr>\n",
       "    <tr>\n",
       "      <th>445</th>\n",
       "      <td>SRR5047142</td>\n",
       "    </tr>\n",
       "    <tr>\n",
       "      <th>446</th>\n",
       "      <td>SRR5047064</td>\n",
       "    </tr>\n",
       "  </tbody>\n",
       "</table>\n",
       "<p>447 rows × 1 columns</p>\n",
       "</div>"
      ],
      "text/plain": [
       "    SRR_accession\n",
       "0       SRR957738\n",
       "1       SRR957739\n",
       "2       SRR957740\n",
       "3       SRR957741\n",
       "4       SRR957742\n",
       "..            ...\n",
       "442    SRR5047202\n",
       "443    SRR5047105\n",
       "444    SRR5047103\n",
       "445    SRR5047142\n",
       "446    SRR5047064\n",
       "\n",
       "[447 rows x 1 columns]"
      ]
     },
     "execution_count": 51,
     "metadata": {},
     "output_type": "execute_result"
    }
   ],
   "source": [
    "SRR_aMetagenomes=pd.read_table(\"Metadata/aMetagenomes/SRR_aMetagenomes.txt\",names=[\"SRR_accession\"])\n",
    "SRR_aMetagenomes"
   ]
  },
  {
   "cell_type": "code",
   "execution_count": 52,
   "metadata": {},
   "outputs": [
    {
     "data": {
      "text/html": [
       "<div>\n",
       "<style scoped>\n",
       "    .dataframe tbody tr th:only-of-type {\n",
       "        vertical-align: middle;\n",
       "    }\n",
       "\n",
       "    .dataframe tbody tr th {\n",
       "        vertical-align: top;\n",
       "    }\n",
       "\n",
       "    .dataframe thead th {\n",
       "        text-align: right;\n",
       "    }\n",
       "</style>\n",
       "<table border=\"1\" class=\"dataframe\">\n",
       "  <thead>\n",
       "    <tr style=\"text-align: right;\">\n",
       "      <th></th>\n",
       "      <th>archive_accession</th>\n",
       "      <th>SRR_accession</th>\n",
       "    </tr>\n",
       "  </thead>\n",
       "  <tbody>\n",
       "    <tr>\n",
       "      <th>0</th>\n",
       "      <td>SRS473742</td>\n",
       "      <td>SRR957738</td>\n",
       "    </tr>\n",
       "    <tr>\n",
       "      <th>1</th>\n",
       "      <td>SRS473743</td>\n",
       "      <td>SRR957739</td>\n",
       "    </tr>\n",
       "    <tr>\n",
       "      <th>2</th>\n",
       "      <td>SRS473744</td>\n",
       "      <td>SRR957740</td>\n",
       "    </tr>\n",
       "    <tr>\n",
       "      <th>3</th>\n",
       "      <td>SRS473745</td>\n",
       "      <td>SRR957741</td>\n",
       "    </tr>\n",
       "    <tr>\n",
       "      <th>4</th>\n",
       "      <td>SRS473747</td>\n",
       "      <td>SRR957742</td>\n",
       "    </tr>\n",
       "    <tr>\n",
       "      <th>...</th>\n",
       "      <td>...</td>\n",
       "      <td>...</td>\n",
       "    </tr>\n",
       "    <tr>\n",
       "      <th>478</th>\n",
       "      <td>SRS1815433</td>\n",
       "      <td>SRR5047202</td>\n",
       "    </tr>\n",
       "    <tr>\n",
       "      <th>479</th>\n",
       "      <td>SRS1815336</td>\n",
       "      <td>SRR5047105</td>\n",
       "    </tr>\n",
       "    <tr>\n",
       "      <th>480</th>\n",
       "      <td>SRS1815334</td>\n",
       "      <td>SRR5047103</td>\n",
       "    </tr>\n",
       "    <tr>\n",
       "      <th>481</th>\n",
       "      <td>SRS1815373</td>\n",
       "      <td>SRR5047142</td>\n",
       "    </tr>\n",
       "    <tr>\n",
       "      <th>482</th>\n",
       "      <td>SRS1815295</td>\n",
       "      <td>SRR5047064</td>\n",
       "    </tr>\n",
       "  </tbody>\n",
       "</table>\n",
       "<p>483 rows × 2 columns</p>\n",
       "</div>"
      ],
      "text/plain": [
       "    archive_accession SRR_accession\n",
       "0           SRS473742     SRR957738\n",
       "1           SRS473743     SRR957739\n",
       "2           SRS473744     SRR957740\n",
       "3           SRS473745     SRR957741\n",
       "4           SRS473747     SRR957742\n",
       "..                ...           ...\n",
       "478        SRS1815433    SRR5047202\n",
       "479        SRS1815336    SRR5047105\n",
       "480        SRS1815334    SRR5047103\n",
       "481        SRS1815373    SRR5047142\n",
       "482        SRS1815295    SRR5047064\n",
       "\n",
       "[483 rows x 2 columns]"
      ]
     },
     "execution_count": 52,
     "metadata": {},
     "output_type": "execute_result"
    }
   ],
   "source": [
    "a=pd.merge(aMetagenomes_SRStoSRR,SRR_aMetagenomes,on=\"SRR_accession\",how=\"inner\")\n",
    "a"
   ]
  },
  {
   "cell_type": "code",
   "execution_count": 53,
   "metadata": {},
   "outputs": [
    {
     "data": {
      "text/html": [
       "<div>\n",
       "<style scoped>\n",
       "    .dataframe tbody tr th:only-of-type {\n",
       "        vertical-align: middle;\n",
       "    }\n",
       "\n",
       "    .dataframe tbody tr th {\n",
       "        vertical-align: top;\n",
       "    }\n",
       "\n",
       "    .dataframe thead th {\n",
       "        text-align: right;\n",
       "    }\n",
       "</style>\n",
       "<table border=\"1\" class=\"dataframe\">\n",
       "  <thead>\n",
       "    <tr style=\"text-align: right;\">\n",
       "      <th></th>\n",
       "      <th>archive_accession</th>\n",
       "      <th>SRR_accession</th>\n",
       "    </tr>\n",
       "  </thead>\n",
       "  <tbody>\n",
       "    <tr>\n",
       "      <th>0</th>\n",
       "      <td>SRS473742</td>\n",
       "      <td>SRR957738</td>\n",
       "    </tr>\n",
       "    <tr>\n",
       "      <th>1</th>\n",
       "      <td>SRS473743</td>\n",
       "      <td>SRR957739</td>\n",
       "    </tr>\n",
       "    <tr>\n",
       "      <th>2</th>\n",
       "      <td>SRS473744</td>\n",
       "      <td>SRR957740</td>\n",
       "    </tr>\n",
       "    <tr>\n",
       "      <th>3</th>\n",
       "      <td>SRS473745</td>\n",
       "      <td>SRR957741</td>\n",
       "    </tr>\n",
       "    <tr>\n",
       "      <th>4</th>\n",
       "      <td>SRS473747</td>\n",
       "      <td>SRR957742</td>\n",
       "    </tr>\n",
       "    <tr>\n",
       "      <th>...</th>\n",
       "      <td>...</td>\n",
       "      <td>...</td>\n",
       "    </tr>\n",
       "    <tr>\n",
       "      <th>478</th>\n",
       "      <td>SRS1815433</td>\n",
       "      <td>SRR5047202</td>\n",
       "    </tr>\n",
       "    <tr>\n",
       "      <th>479</th>\n",
       "      <td>SRS1815336</td>\n",
       "      <td>SRR5047105</td>\n",
       "    </tr>\n",
       "    <tr>\n",
       "      <th>480</th>\n",
       "      <td>SRS1815334</td>\n",
       "      <td>SRR5047103</td>\n",
       "    </tr>\n",
       "    <tr>\n",
       "      <th>481</th>\n",
       "      <td>SRS1815373</td>\n",
       "      <td>SRR5047142</td>\n",
       "    </tr>\n",
       "    <tr>\n",
       "      <th>482</th>\n",
       "      <td>SRS1815295</td>\n",
       "      <td>SRR5047064</td>\n",
       "    </tr>\n",
       "  </tbody>\n",
       "</table>\n",
       "<p>447 rows × 2 columns</p>\n",
       "</div>"
      ],
      "text/plain": [
       "    archive_accession SRR_accession\n",
       "0           SRS473742     SRR957738\n",
       "1           SRS473743     SRR957739\n",
       "2           SRS473744     SRR957740\n",
       "3           SRS473745     SRR957741\n",
       "4           SRS473747     SRR957742\n",
       "..                ...           ...\n",
       "478        SRS1815433    SRR5047202\n",
       "479        SRS1815336    SRR5047105\n",
       "480        SRS1815334    SRR5047103\n",
       "481        SRS1815373    SRR5047142\n",
       "482        SRS1815295    SRR5047064\n",
       "\n",
       "[447 rows x 2 columns]"
      ]
     },
     "execution_count": 53,
     "metadata": {},
     "output_type": "execute_result"
    }
   ],
   "source": [
    "a.drop_duplicates()"
   ]
  },
  {
   "cell_type": "code",
   "execution_count": 54,
   "metadata": {},
   "outputs": [
    {
     "data": {
      "application/vnd.plotly.v1+json": {
       "config": {
        "plotlyServerURL": "https://plot.ly"
       },
       "data": [
        {
         "alignmentgroup": "True",
         "bingroup": "x",
         "hovertemplate": "sample_age=%{x}<br>count=%{y}<extra></extra>",
         "legendgroup": "",
         "marker": {
          "color": "#636efa"
         },
         "name": "",
         "offsetgroup": "",
         "orientation": "v",
         "showlegend": false,
         "type": "histogram",
         "x": [
          900,
          900,
          900,
          900,
          900,
          900,
          900,
          900,
          900,
          4700,
          4700,
          800,
          800,
          4400,
          4400,
          1000,
          1000,
          1000,
          1000,
          1000,
          1000,
          1000,
          1000,
          1000,
          1000,
          1000,
          1000,
          1000,
          1000,
          1000,
          1000,
          1000,
          1000,
          1000,
          1000,
          1000,
          1000,
          1000,
          1000,
          1000,
          1000,
          1000,
          1000,
          1000,
          1000,
          1000,
          1000,
          1000,
          1000,
          1000,
          1000,
          1000,
          1000,
          1000,
          1000,
          1000,
          1000,
          1000,
          1000,
          1000,
          1000,
          1000,
          1000,
          1000,
          1000,
          700,
          700,
          300,
          1400,
          1400,
          300,
          4700,
          4700,
          800,
          800,
          4400,
          4400,
          1000,
          1000,
          1000,
          1000,
          1000,
          1000,
          1000,
          1000,
          1000,
          1000,
          1000,
          1000,
          1000,
          1000,
          1000,
          1000,
          1000,
          1000,
          1000,
          1000,
          1000,
          1000,
          1000,
          1000,
          1000,
          1000,
          1000,
          1000,
          1000,
          1000,
          1000,
          1000,
          1000,
          1000,
          1000,
          1000,
          1000,
          1000,
          1000,
          1000,
          1000,
          1000,
          1000,
          1000,
          1000,
          1000,
          1000,
          1000,
          700,
          700,
          300,
          1400,
          1400,
          300,
          100,
          100,
          100,
          100,
          100,
          100,
          100,
          100,
          100,
          100,
          100,
          100,
          100,
          100,
          100,
          100,
          100,
          100,
          100,
          200,
          200,
          200,
          200,
          200,
          200,
          200,
          200,
          200,
          700,
          700,
          700,
          700,
          700,
          41800,
          41800,
          41800,
          41800,
          41800,
          41800,
          41800,
          41800,
          100,
          100,
          100,
          100,
          100,
          100,
          100,
          100,
          100,
          100,
          100,
          100,
          400,
          400,
          400,
          400,
          400,
          400,
          400,
          400,
          100,
          100,
          100,
          100,
          100,
          100,
          100,
          100,
          100,
          100,
          100,
          100,
          100,
          100,
          100,
          100,
          100,
          100,
          100,
          100,
          100,
          100,
          100,
          100,
          100,
          100,
          100,
          100,
          100,
          100,
          100,
          100,
          100,
          100,
          100,
          100,
          100,
          100,
          100,
          100,
          100,
          100,
          100,
          100,
          100,
          400,
          500,
          400,
          400,
          900,
          900,
          1000,
          600,
          230,
          230,
          230,
          230,
          2700,
          2700,
          2700,
          2700,
          230,
          230,
          230,
          230,
          230,
          230,
          2700,
          1300,
          1300,
          1300,
          1300,
          1300,
          2000,
          1400,
          3600,
          3600,
          3600,
          3400,
          3400,
          3400,
          3400,
          3000,
          3000,
          3000,
          3000,
          600,
          600,
          100,
          100,
          1000,
          900,
          1800,
          1800,
          2000,
          1800,
          1800,
          1800,
          1800,
          1900,
          1800,
          1800,
          1800,
          1800,
          1900,
          1800,
          1800,
          1900,
          1800,
          1800,
          1900,
          1800,
          1800,
          1900,
          1900,
          1900,
          1800,
          1800,
          1900,
          1900,
          1900,
          1800,
          1800,
          1900,
          1900,
          1900,
          1900,
          1800,
          1800,
          1900,
          1900,
          1900,
          1800,
          1900,
          1900,
          1900,
          1900,
          1800,
          1900,
          1900,
          1800,
          1900,
          1800,
          1900,
          1800,
          1800,
          1800,
          1900,
          1800,
          1800,
          1900,
          1800,
          1800,
          900,
          900,
          900,
          1000,
          900,
          900,
          900,
          900,
          900,
          900,
          900,
          900,
          1000,
          1000,
          900,
          900,
          1000,
          1700,
          1700,
          1700,
          1700,
          1700,
          1700,
          1700,
          1700,
          1700,
          1700,
          1700,
          1700,
          1700,
          1700,
          1700,
          1700,
          1700,
          1700,
          1700,
          1700,
          1700,
          1700,
          1700,
          1700,
          1700,
          1700,
          1700,
          1000,
          1000,
          1000,
          1000,
          1000,
          1000,
          1000,
          1000,
          1000,
          1000,
          1000,
          1000,
          1000,
          1000,
          1000,
          1000,
          1000,
          1000,
          1000,
          1000,
          1000,
          1000,
          1000,
          1000,
          1000,
          1000,
          1000,
          1000,
          1000,
          1000,
          1000,
          1000,
          1000,
          1000,
          1000,
          1000,
          1000,
          900,
          900,
          900,
          900,
          900,
          900,
          900,
          900,
          900,
          900,
          900,
          900,
          900,
          900,
          900,
          900,
          900,
          900,
          900,
          900,
          900
         ],
         "xaxis": "x",
         "yaxis": "y"
        }
       ],
       "layout": {
        "barmode": "relative",
        "legend": {
         "tracegroupgap": 0
        },
        "template": {
         "data": {
          "bar": [
           {
            "error_x": {
             "color": "#2a3f5f"
            },
            "error_y": {
             "color": "#2a3f5f"
            },
            "marker": {
             "line": {
              "color": "#E5ECF6",
              "width": 0.5
             }
            },
            "type": "bar"
           }
          ],
          "barpolar": [
           {
            "marker": {
             "line": {
              "color": "#E5ECF6",
              "width": 0.5
             }
            },
            "type": "barpolar"
           }
          ],
          "carpet": [
           {
            "aaxis": {
             "endlinecolor": "#2a3f5f",
             "gridcolor": "white",
             "linecolor": "white",
             "minorgridcolor": "white",
             "startlinecolor": "#2a3f5f"
            },
            "baxis": {
             "endlinecolor": "#2a3f5f",
             "gridcolor": "white",
             "linecolor": "white",
             "minorgridcolor": "white",
             "startlinecolor": "#2a3f5f"
            },
            "type": "carpet"
           }
          ],
          "choropleth": [
           {
            "colorbar": {
             "outlinewidth": 0,
             "ticks": ""
            },
            "type": "choropleth"
           }
          ],
          "contour": [
           {
            "colorbar": {
             "outlinewidth": 0,
             "ticks": ""
            },
            "colorscale": [
             [
              0,
              "#0d0887"
             ],
             [
              0.1111111111111111,
              "#46039f"
             ],
             [
              0.2222222222222222,
              "#7201a8"
             ],
             [
              0.3333333333333333,
              "#9c179e"
             ],
             [
              0.4444444444444444,
              "#bd3786"
             ],
             [
              0.5555555555555556,
              "#d8576b"
             ],
             [
              0.6666666666666666,
              "#ed7953"
             ],
             [
              0.7777777777777778,
              "#fb9f3a"
             ],
             [
              0.8888888888888888,
              "#fdca26"
             ],
             [
              1,
              "#f0f921"
             ]
            ],
            "type": "contour"
           }
          ],
          "contourcarpet": [
           {
            "colorbar": {
             "outlinewidth": 0,
             "ticks": ""
            },
            "type": "contourcarpet"
           }
          ],
          "heatmap": [
           {
            "colorbar": {
             "outlinewidth": 0,
             "ticks": ""
            },
            "colorscale": [
             [
              0,
              "#0d0887"
             ],
             [
              0.1111111111111111,
              "#46039f"
             ],
             [
              0.2222222222222222,
              "#7201a8"
             ],
             [
              0.3333333333333333,
              "#9c179e"
             ],
             [
              0.4444444444444444,
              "#bd3786"
             ],
             [
              0.5555555555555556,
              "#d8576b"
             ],
             [
              0.6666666666666666,
              "#ed7953"
             ],
             [
              0.7777777777777778,
              "#fb9f3a"
             ],
             [
              0.8888888888888888,
              "#fdca26"
             ],
             [
              1,
              "#f0f921"
             ]
            ],
            "type": "heatmap"
           }
          ],
          "heatmapgl": [
           {
            "colorbar": {
             "outlinewidth": 0,
             "ticks": ""
            },
            "colorscale": [
             [
              0,
              "#0d0887"
             ],
             [
              0.1111111111111111,
              "#46039f"
             ],
             [
              0.2222222222222222,
              "#7201a8"
             ],
             [
              0.3333333333333333,
              "#9c179e"
             ],
             [
              0.4444444444444444,
              "#bd3786"
             ],
             [
              0.5555555555555556,
              "#d8576b"
             ],
             [
              0.6666666666666666,
              "#ed7953"
             ],
             [
              0.7777777777777778,
              "#fb9f3a"
             ],
             [
              0.8888888888888888,
              "#fdca26"
             ],
             [
              1,
              "#f0f921"
             ]
            ],
            "type": "heatmapgl"
           }
          ],
          "histogram": [
           {
            "marker": {
             "colorbar": {
              "outlinewidth": 0,
              "ticks": ""
             }
            },
            "type": "histogram"
           }
          ],
          "histogram2d": [
           {
            "colorbar": {
             "outlinewidth": 0,
             "ticks": ""
            },
            "colorscale": [
             [
              0,
              "#0d0887"
             ],
             [
              0.1111111111111111,
              "#46039f"
             ],
             [
              0.2222222222222222,
              "#7201a8"
             ],
             [
              0.3333333333333333,
              "#9c179e"
             ],
             [
              0.4444444444444444,
              "#bd3786"
             ],
             [
              0.5555555555555556,
              "#d8576b"
             ],
             [
              0.6666666666666666,
              "#ed7953"
             ],
             [
              0.7777777777777778,
              "#fb9f3a"
             ],
             [
              0.8888888888888888,
              "#fdca26"
             ],
             [
              1,
              "#f0f921"
             ]
            ],
            "type": "histogram2d"
           }
          ],
          "histogram2dcontour": [
           {
            "colorbar": {
             "outlinewidth": 0,
             "ticks": ""
            },
            "colorscale": [
             [
              0,
              "#0d0887"
             ],
             [
              0.1111111111111111,
              "#46039f"
             ],
             [
              0.2222222222222222,
              "#7201a8"
             ],
             [
              0.3333333333333333,
              "#9c179e"
             ],
             [
              0.4444444444444444,
              "#bd3786"
             ],
             [
              0.5555555555555556,
              "#d8576b"
             ],
             [
              0.6666666666666666,
              "#ed7953"
             ],
             [
              0.7777777777777778,
              "#fb9f3a"
             ],
             [
              0.8888888888888888,
              "#fdca26"
             ],
             [
              1,
              "#f0f921"
             ]
            ],
            "type": "histogram2dcontour"
           }
          ],
          "mesh3d": [
           {
            "colorbar": {
             "outlinewidth": 0,
             "ticks": ""
            },
            "type": "mesh3d"
           }
          ],
          "parcoords": [
           {
            "line": {
             "colorbar": {
              "outlinewidth": 0,
              "ticks": ""
             }
            },
            "type": "parcoords"
           }
          ],
          "pie": [
           {
            "automargin": true,
            "type": "pie"
           }
          ],
          "scatter": [
           {
            "marker": {
             "colorbar": {
              "outlinewidth": 0,
              "ticks": ""
             }
            },
            "type": "scatter"
           }
          ],
          "scatter3d": [
           {
            "line": {
             "colorbar": {
              "outlinewidth": 0,
              "ticks": ""
             }
            },
            "marker": {
             "colorbar": {
              "outlinewidth": 0,
              "ticks": ""
             }
            },
            "type": "scatter3d"
           }
          ],
          "scattercarpet": [
           {
            "marker": {
             "colorbar": {
              "outlinewidth": 0,
              "ticks": ""
             }
            },
            "type": "scattercarpet"
           }
          ],
          "scattergeo": [
           {
            "marker": {
             "colorbar": {
              "outlinewidth": 0,
              "ticks": ""
             }
            },
            "type": "scattergeo"
           }
          ],
          "scattergl": [
           {
            "marker": {
             "colorbar": {
              "outlinewidth": 0,
              "ticks": ""
             }
            },
            "type": "scattergl"
           }
          ],
          "scattermapbox": [
           {
            "marker": {
             "colorbar": {
              "outlinewidth": 0,
              "ticks": ""
             }
            },
            "type": "scattermapbox"
           }
          ],
          "scatterpolar": [
           {
            "marker": {
             "colorbar": {
              "outlinewidth": 0,
              "ticks": ""
             }
            },
            "type": "scatterpolar"
           }
          ],
          "scatterpolargl": [
           {
            "marker": {
             "colorbar": {
              "outlinewidth": 0,
              "ticks": ""
             }
            },
            "type": "scatterpolargl"
           }
          ],
          "scatterternary": [
           {
            "marker": {
             "colorbar": {
              "outlinewidth": 0,
              "ticks": ""
             }
            },
            "type": "scatterternary"
           }
          ],
          "surface": [
           {
            "colorbar": {
             "outlinewidth": 0,
             "ticks": ""
            },
            "colorscale": [
             [
              0,
              "#0d0887"
             ],
             [
              0.1111111111111111,
              "#46039f"
             ],
             [
              0.2222222222222222,
              "#7201a8"
             ],
             [
              0.3333333333333333,
              "#9c179e"
             ],
             [
              0.4444444444444444,
              "#bd3786"
             ],
             [
              0.5555555555555556,
              "#d8576b"
             ],
             [
              0.6666666666666666,
              "#ed7953"
             ],
             [
              0.7777777777777778,
              "#fb9f3a"
             ],
             [
              0.8888888888888888,
              "#fdca26"
             ],
             [
              1,
              "#f0f921"
             ]
            ],
            "type": "surface"
           }
          ],
          "table": [
           {
            "cells": {
             "fill": {
              "color": "#EBF0F8"
             },
             "line": {
              "color": "white"
             }
            },
            "header": {
             "fill": {
              "color": "#C8D4E3"
             },
             "line": {
              "color": "white"
             }
            },
            "type": "table"
           }
          ]
         },
         "layout": {
          "annotationdefaults": {
           "arrowcolor": "#2a3f5f",
           "arrowhead": 0,
           "arrowwidth": 1
          },
          "autotypenumbers": "strict",
          "coloraxis": {
           "colorbar": {
            "outlinewidth": 0,
            "ticks": ""
           }
          },
          "colorscale": {
           "diverging": [
            [
             0,
             "#8e0152"
            ],
            [
             0.1,
             "#c51b7d"
            ],
            [
             0.2,
             "#de77ae"
            ],
            [
             0.3,
             "#f1b6da"
            ],
            [
             0.4,
             "#fde0ef"
            ],
            [
             0.5,
             "#f7f7f7"
            ],
            [
             0.6,
             "#e6f5d0"
            ],
            [
             0.7,
             "#b8e186"
            ],
            [
             0.8,
             "#7fbc41"
            ],
            [
             0.9,
             "#4d9221"
            ],
            [
             1,
             "#276419"
            ]
           ],
           "sequential": [
            [
             0,
             "#0d0887"
            ],
            [
             0.1111111111111111,
             "#46039f"
            ],
            [
             0.2222222222222222,
             "#7201a8"
            ],
            [
             0.3333333333333333,
             "#9c179e"
            ],
            [
             0.4444444444444444,
             "#bd3786"
            ],
            [
             0.5555555555555556,
             "#d8576b"
            ],
            [
             0.6666666666666666,
             "#ed7953"
            ],
            [
             0.7777777777777778,
             "#fb9f3a"
            ],
            [
             0.8888888888888888,
             "#fdca26"
            ],
            [
             1,
             "#f0f921"
            ]
           ],
           "sequentialminus": [
            [
             0,
             "#0d0887"
            ],
            [
             0.1111111111111111,
             "#46039f"
            ],
            [
             0.2222222222222222,
             "#7201a8"
            ],
            [
             0.3333333333333333,
             "#9c179e"
            ],
            [
             0.4444444444444444,
             "#bd3786"
            ],
            [
             0.5555555555555556,
             "#d8576b"
            ],
            [
             0.6666666666666666,
             "#ed7953"
            ],
            [
             0.7777777777777778,
             "#fb9f3a"
            ],
            [
             0.8888888888888888,
             "#fdca26"
            ],
            [
             1,
             "#f0f921"
            ]
           ]
          },
          "colorway": [
           "#636efa",
           "#EF553B",
           "#00cc96",
           "#ab63fa",
           "#FFA15A",
           "#19d3f3",
           "#FF6692",
           "#B6E880",
           "#FF97FF",
           "#FECB52"
          ],
          "font": {
           "color": "#2a3f5f"
          },
          "geo": {
           "bgcolor": "white",
           "lakecolor": "white",
           "landcolor": "#E5ECF6",
           "showlakes": true,
           "showland": true,
           "subunitcolor": "white"
          },
          "hoverlabel": {
           "align": "left"
          },
          "hovermode": "closest",
          "mapbox": {
           "style": "light"
          },
          "paper_bgcolor": "white",
          "plot_bgcolor": "#E5ECF6",
          "polar": {
           "angularaxis": {
            "gridcolor": "white",
            "linecolor": "white",
            "ticks": ""
           },
           "bgcolor": "#E5ECF6",
           "radialaxis": {
            "gridcolor": "white",
            "linecolor": "white",
            "ticks": ""
           }
          },
          "scene": {
           "xaxis": {
            "backgroundcolor": "#E5ECF6",
            "gridcolor": "white",
            "gridwidth": 2,
            "linecolor": "white",
            "showbackground": true,
            "ticks": "",
            "zerolinecolor": "white"
           },
           "yaxis": {
            "backgroundcolor": "#E5ECF6",
            "gridcolor": "white",
            "gridwidth": 2,
            "linecolor": "white",
            "showbackground": true,
            "ticks": "",
            "zerolinecolor": "white"
           },
           "zaxis": {
            "backgroundcolor": "#E5ECF6",
            "gridcolor": "white",
            "gridwidth": 2,
            "linecolor": "white",
            "showbackground": true,
            "ticks": "",
            "zerolinecolor": "white"
           }
          },
          "shapedefaults": {
           "line": {
            "color": "#2a3f5f"
           }
          },
          "ternary": {
           "aaxis": {
            "gridcolor": "white",
            "linecolor": "white",
            "ticks": ""
           },
           "baxis": {
            "gridcolor": "white",
            "linecolor": "white",
            "ticks": ""
           },
           "bgcolor": "#E5ECF6",
           "caxis": {
            "gridcolor": "white",
            "linecolor": "white",
            "ticks": ""
           }
          },
          "title": {
           "x": 0.05
          },
          "xaxis": {
           "automargin": true,
           "gridcolor": "white",
           "linecolor": "white",
           "ticks": "",
           "title": {
            "standoff": 15
           },
           "zerolinecolor": "white",
           "zerolinewidth": 2
          },
          "yaxis": {
           "automargin": true,
           "gridcolor": "white",
           "linecolor": "white",
           "ticks": "",
           "title": {
            "standoff": 15
           },
           "zerolinecolor": "white",
           "zerolinewidth": 2
          }
         }
        },
        "title": {
         "text": "Sample age"
        },
        "xaxis": {
         "anchor": "y",
         "domain": [
          0,
          1
         ],
         "title": {
          "text": "sample_age"
         }
        },
        "yaxis": {
         "anchor": "x",
         "domain": [
          0,
          1
         ],
         "title": {
          "text": "count"
         }
        }
       }
      },
      "text/html": [
       "<div>                            <div id=\"771857c2-8d37-4b1b-a232-bfdf5c0a99f6\" class=\"plotly-graph-div\" style=\"height:525px; width:100%;\"></div>            <script type=\"text/javascript\">                require([\"plotly\"], function(Plotly) {                    window.PLOTLYENV=window.PLOTLYENV || {};                                    if (document.getElementById(\"771857c2-8d37-4b1b-a232-bfdf5c0a99f6\")) {                    Plotly.newPlot(                        \"771857c2-8d37-4b1b-a232-bfdf5c0a99f6\",                        [{\"alignmentgroup\": \"True\", \"bingroup\": \"x\", \"hovertemplate\": \"sample_age=%{x}<br>count=%{y}<extra></extra>\", \"legendgroup\": \"\", \"marker\": {\"color\": \"#636efa\"}, \"name\": \"\", \"offsetgroup\": \"\", \"orientation\": \"v\", \"showlegend\": false, \"type\": \"histogram\", \"x\": [900, 900, 900, 900, 900, 900, 900, 900, 900, 4700, 4700, 800, 800, 4400, 4400, 1000, 1000, 1000, 1000, 1000, 1000, 1000, 1000, 1000, 1000, 1000, 1000, 1000, 1000, 1000, 1000, 1000, 1000, 1000, 1000, 1000, 1000, 1000, 1000, 1000, 1000, 1000, 1000, 1000, 1000, 1000, 1000, 1000, 1000, 1000, 1000, 1000, 1000, 1000, 1000, 1000, 1000, 1000, 1000, 1000, 1000, 1000, 1000, 1000, 1000, 700, 700, 300, 1400, 1400, 300, 4700, 4700, 800, 800, 4400, 4400, 1000, 1000, 1000, 1000, 1000, 1000, 1000, 1000, 1000, 1000, 1000, 1000, 1000, 1000, 1000, 1000, 1000, 1000, 1000, 1000, 1000, 1000, 1000, 1000, 1000, 1000, 1000, 1000, 1000, 1000, 1000, 1000, 1000, 1000, 1000, 1000, 1000, 1000, 1000, 1000, 1000, 1000, 1000, 1000, 1000, 1000, 1000, 1000, 700, 700, 300, 1400, 1400, 300, 100, 100, 100, 100, 100, 100, 100, 100, 100, 100, 100, 100, 100, 100, 100, 100, 100, 100, 100, 200, 200, 200, 200, 200, 200, 200, 200, 200, 700, 700, 700, 700, 700, 41800, 41800, 41800, 41800, 41800, 41800, 41800, 41800, 100, 100, 100, 100, 100, 100, 100, 100, 100, 100, 100, 100, 400, 400, 400, 400, 400, 400, 400, 400, 100, 100, 100, 100, 100, 100, 100, 100, 100, 100, 100, 100, 100, 100, 100, 100, 100, 100, 100, 100, 100, 100, 100, 100, 100, 100, 100, 100, 100, 100, 100, 100, 100, 100, 100, 100, 100, 100, 100, 100, 100, 100, 100, 100, 100, 400, 500, 400, 400, 900, 900, 1000, 600, 230, 230, 230, 230, 2700, 2700, 2700, 2700, 230, 230, 230, 230, 230, 230, 2700, 1300, 1300, 1300, 1300, 1300, 2000, 1400, 3600, 3600, 3600, 3400, 3400, 3400, 3400, 3000, 3000, 3000, 3000, 600, 600, 100, 100, 1000, 900, 1800, 1800, 2000, 1800, 1800, 1800, 1800, 1900, 1800, 1800, 1800, 1800, 1900, 1800, 1800, 1900, 1800, 1800, 1900, 1800, 1800, 1900, 1900, 1900, 1800, 1800, 1900, 1900, 1900, 1800, 1800, 1900, 1900, 1900, 1900, 1800, 1800, 1900, 1900, 1900, 1800, 1900, 1900, 1900, 1900, 1800, 1900, 1900, 1800, 1900, 1800, 1900, 1800, 1800, 1800, 1900, 1800, 1800, 1900, 1800, 1800, 900, 900, 900, 1000, 900, 900, 900, 900, 900, 900, 900, 900, 1000, 1000, 900, 900, 1000, 1700, 1700, 1700, 1700, 1700, 1700, 1700, 1700, 1700, 1700, 1700, 1700, 1700, 1700, 1700, 1700, 1700, 1700, 1700, 1700, 1700, 1700, 1700, 1700, 1700, 1700, 1700, 1000, 1000, 1000, 1000, 1000, 1000, 1000, 1000, 1000, 1000, 1000, 1000, 1000, 1000, 1000, 1000, 1000, 1000, 1000, 1000, 1000, 1000, 1000, 1000, 1000, 1000, 1000, 1000, 1000, 1000, 1000, 1000, 1000, 1000, 1000, 1000, 1000, 900, 900, 900, 900, 900, 900, 900, 900, 900, 900, 900, 900, 900, 900, 900, 900, 900, 900, 900, 900, 900], \"xaxis\": \"x\", \"yaxis\": \"y\"}],                        {\"barmode\": \"relative\", \"legend\": {\"tracegroupgap\": 0}, \"template\": {\"data\": {\"bar\": [{\"error_x\": {\"color\": \"#2a3f5f\"}, \"error_y\": {\"color\": \"#2a3f5f\"}, \"marker\": {\"line\": {\"color\": \"#E5ECF6\", \"width\": 0.5}}, \"type\": \"bar\"}], \"barpolar\": [{\"marker\": {\"line\": {\"color\": \"#E5ECF6\", \"width\": 0.5}}, \"type\": \"barpolar\"}], \"carpet\": [{\"aaxis\": {\"endlinecolor\": \"#2a3f5f\", \"gridcolor\": \"white\", \"linecolor\": \"white\", \"minorgridcolor\": \"white\", \"startlinecolor\": \"#2a3f5f\"}, \"baxis\": {\"endlinecolor\": \"#2a3f5f\", \"gridcolor\": \"white\", \"linecolor\": \"white\", \"minorgridcolor\": \"white\", \"startlinecolor\": \"#2a3f5f\"}, \"type\": \"carpet\"}], \"choropleth\": [{\"colorbar\": {\"outlinewidth\": 0, \"ticks\": \"\"}, \"type\": \"choropleth\"}], \"contour\": [{\"colorbar\": {\"outlinewidth\": 0, \"ticks\": \"\"}, \"colorscale\": [[0.0, \"#0d0887\"], [0.1111111111111111, \"#46039f\"], [0.2222222222222222, \"#7201a8\"], [0.3333333333333333, \"#9c179e\"], [0.4444444444444444, \"#bd3786\"], [0.5555555555555556, \"#d8576b\"], [0.6666666666666666, \"#ed7953\"], [0.7777777777777778, \"#fb9f3a\"], [0.8888888888888888, \"#fdca26\"], [1.0, \"#f0f921\"]], \"type\": \"contour\"}], \"contourcarpet\": [{\"colorbar\": {\"outlinewidth\": 0, \"ticks\": \"\"}, \"type\": \"contourcarpet\"}], \"heatmap\": [{\"colorbar\": {\"outlinewidth\": 0, \"ticks\": \"\"}, \"colorscale\": [[0.0, \"#0d0887\"], [0.1111111111111111, \"#46039f\"], [0.2222222222222222, \"#7201a8\"], [0.3333333333333333, \"#9c179e\"], [0.4444444444444444, \"#bd3786\"], [0.5555555555555556, \"#d8576b\"], [0.6666666666666666, \"#ed7953\"], [0.7777777777777778, \"#fb9f3a\"], [0.8888888888888888, \"#fdca26\"], [1.0, \"#f0f921\"]], \"type\": \"heatmap\"}], \"heatmapgl\": [{\"colorbar\": {\"outlinewidth\": 0, \"ticks\": \"\"}, \"colorscale\": [[0.0, \"#0d0887\"], [0.1111111111111111, \"#46039f\"], [0.2222222222222222, \"#7201a8\"], [0.3333333333333333, \"#9c179e\"], [0.4444444444444444, \"#bd3786\"], [0.5555555555555556, \"#d8576b\"], [0.6666666666666666, \"#ed7953\"], [0.7777777777777778, \"#fb9f3a\"], [0.8888888888888888, \"#fdca26\"], [1.0, \"#f0f921\"]], \"type\": \"heatmapgl\"}], \"histogram\": [{\"marker\": {\"colorbar\": {\"outlinewidth\": 0, \"ticks\": \"\"}}, \"type\": \"histogram\"}], \"histogram2d\": [{\"colorbar\": {\"outlinewidth\": 0, \"ticks\": \"\"}, \"colorscale\": [[0.0, \"#0d0887\"], [0.1111111111111111, \"#46039f\"], [0.2222222222222222, \"#7201a8\"], [0.3333333333333333, \"#9c179e\"], [0.4444444444444444, \"#bd3786\"], [0.5555555555555556, \"#d8576b\"], [0.6666666666666666, \"#ed7953\"], [0.7777777777777778, \"#fb9f3a\"], [0.8888888888888888, \"#fdca26\"], [1.0, \"#f0f921\"]], \"type\": \"histogram2d\"}], \"histogram2dcontour\": [{\"colorbar\": {\"outlinewidth\": 0, \"ticks\": \"\"}, \"colorscale\": [[0.0, \"#0d0887\"], [0.1111111111111111, \"#46039f\"], [0.2222222222222222, \"#7201a8\"], [0.3333333333333333, \"#9c179e\"], [0.4444444444444444, \"#bd3786\"], [0.5555555555555556, \"#d8576b\"], [0.6666666666666666, \"#ed7953\"], [0.7777777777777778, \"#fb9f3a\"], [0.8888888888888888, \"#fdca26\"], [1.0, \"#f0f921\"]], \"type\": \"histogram2dcontour\"}], \"mesh3d\": [{\"colorbar\": {\"outlinewidth\": 0, \"ticks\": \"\"}, \"type\": \"mesh3d\"}], \"parcoords\": [{\"line\": {\"colorbar\": {\"outlinewidth\": 0, \"ticks\": \"\"}}, \"type\": \"parcoords\"}], \"pie\": [{\"automargin\": true, \"type\": \"pie\"}], \"scatter\": [{\"marker\": {\"colorbar\": {\"outlinewidth\": 0, \"ticks\": \"\"}}, \"type\": \"scatter\"}], \"scatter3d\": [{\"line\": {\"colorbar\": {\"outlinewidth\": 0, \"ticks\": \"\"}}, \"marker\": {\"colorbar\": {\"outlinewidth\": 0, \"ticks\": \"\"}}, \"type\": \"scatter3d\"}], \"scattercarpet\": [{\"marker\": {\"colorbar\": {\"outlinewidth\": 0, \"ticks\": \"\"}}, \"type\": \"scattercarpet\"}], \"scattergeo\": [{\"marker\": {\"colorbar\": {\"outlinewidth\": 0, \"ticks\": \"\"}}, \"type\": \"scattergeo\"}], \"scattergl\": [{\"marker\": {\"colorbar\": {\"outlinewidth\": 0, \"ticks\": \"\"}}, \"type\": \"scattergl\"}], \"scattermapbox\": [{\"marker\": {\"colorbar\": {\"outlinewidth\": 0, \"ticks\": \"\"}}, \"type\": \"scattermapbox\"}], \"scatterpolar\": [{\"marker\": {\"colorbar\": {\"outlinewidth\": 0, \"ticks\": \"\"}}, \"type\": \"scatterpolar\"}], \"scatterpolargl\": [{\"marker\": {\"colorbar\": {\"outlinewidth\": 0, \"ticks\": \"\"}}, \"type\": \"scatterpolargl\"}], \"scatterternary\": [{\"marker\": {\"colorbar\": {\"outlinewidth\": 0, \"ticks\": \"\"}}, \"type\": \"scatterternary\"}], \"surface\": [{\"colorbar\": {\"outlinewidth\": 0, \"ticks\": \"\"}, \"colorscale\": [[0.0, \"#0d0887\"], [0.1111111111111111, \"#46039f\"], [0.2222222222222222, \"#7201a8\"], [0.3333333333333333, \"#9c179e\"], [0.4444444444444444, \"#bd3786\"], [0.5555555555555556, \"#d8576b\"], [0.6666666666666666, \"#ed7953\"], [0.7777777777777778, \"#fb9f3a\"], [0.8888888888888888, \"#fdca26\"], [1.0, \"#f0f921\"]], \"type\": \"surface\"}], \"table\": [{\"cells\": {\"fill\": {\"color\": \"#EBF0F8\"}, \"line\": {\"color\": \"white\"}}, \"header\": {\"fill\": {\"color\": \"#C8D4E3\"}, \"line\": {\"color\": \"white\"}}, \"type\": \"table\"}]}, \"layout\": {\"annotationdefaults\": {\"arrowcolor\": \"#2a3f5f\", \"arrowhead\": 0, \"arrowwidth\": 1}, \"autotypenumbers\": \"strict\", \"coloraxis\": {\"colorbar\": {\"outlinewidth\": 0, \"ticks\": \"\"}}, \"colorscale\": {\"diverging\": [[0, \"#8e0152\"], [0.1, \"#c51b7d\"], [0.2, \"#de77ae\"], [0.3, \"#f1b6da\"], [0.4, \"#fde0ef\"], [0.5, \"#f7f7f7\"], [0.6, \"#e6f5d0\"], [0.7, \"#b8e186\"], [0.8, \"#7fbc41\"], [0.9, \"#4d9221\"], [1, \"#276419\"]], \"sequential\": [[0.0, \"#0d0887\"], [0.1111111111111111, \"#46039f\"], [0.2222222222222222, \"#7201a8\"], [0.3333333333333333, \"#9c179e\"], [0.4444444444444444, \"#bd3786\"], [0.5555555555555556, \"#d8576b\"], [0.6666666666666666, \"#ed7953\"], [0.7777777777777778, \"#fb9f3a\"], [0.8888888888888888, \"#fdca26\"], [1.0, \"#f0f921\"]], \"sequentialminus\": [[0.0, \"#0d0887\"], [0.1111111111111111, \"#46039f\"], [0.2222222222222222, \"#7201a8\"], [0.3333333333333333, \"#9c179e\"], [0.4444444444444444, \"#bd3786\"], [0.5555555555555556, \"#d8576b\"], [0.6666666666666666, \"#ed7953\"], [0.7777777777777778, \"#fb9f3a\"], [0.8888888888888888, \"#fdca26\"], [1.0, \"#f0f921\"]]}, \"colorway\": [\"#636efa\", \"#EF553B\", \"#00cc96\", \"#ab63fa\", \"#FFA15A\", \"#19d3f3\", \"#FF6692\", \"#B6E880\", \"#FF97FF\", \"#FECB52\"], \"font\": {\"color\": \"#2a3f5f\"}, \"geo\": {\"bgcolor\": \"white\", \"lakecolor\": \"white\", \"landcolor\": \"#E5ECF6\", \"showlakes\": true, \"showland\": true, \"subunitcolor\": \"white\"}, \"hoverlabel\": {\"align\": \"left\"}, \"hovermode\": \"closest\", \"mapbox\": {\"style\": \"light\"}, \"paper_bgcolor\": \"white\", \"plot_bgcolor\": \"#E5ECF6\", \"polar\": {\"angularaxis\": {\"gridcolor\": \"white\", \"linecolor\": \"white\", \"ticks\": \"\"}, \"bgcolor\": \"#E5ECF6\", \"radialaxis\": {\"gridcolor\": \"white\", \"linecolor\": \"white\", \"ticks\": \"\"}}, \"scene\": {\"xaxis\": {\"backgroundcolor\": \"#E5ECF6\", \"gridcolor\": \"white\", \"gridwidth\": 2, \"linecolor\": \"white\", \"showbackground\": true, \"ticks\": \"\", \"zerolinecolor\": \"white\"}, \"yaxis\": {\"backgroundcolor\": \"#E5ECF6\", \"gridcolor\": \"white\", \"gridwidth\": 2, \"linecolor\": \"white\", \"showbackground\": true, \"ticks\": \"\", \"zerolinecolor\": \"white\"}, \"zaxis\": {\"backgroundcolor\": \"#E5ECF6\", \"gridcolor\": \"white\", \"gridwidth\": 2, \"linecolor\": \"white\", \"showbackground\": true, \"ticks\": \"\", \"zerolinecolor\": \"white\"}}, \"shapedefaults\": {\"line\": {\"color\": \"#2a3f5f\"}}, \"ternary\": {\"aaxis\": {\"gridcolor\": \"white\", \"linecolor\": \"white\", \"ticks\": \"\"}, \"baxis\": {\"gridcolor\": \"white\", \"linecolor\": \"white\", \"ticks\": \"\"}, \"bgcolor\": \"#E5ECF6\", \"caxis\": {\"gridcolor\": \"white\", \"linecolor\": \"white\", \"ticks\": \"\"}}, \"title\": {\"x\": 0.05}, \"xaxis\": {\"automargin\": true, \"gridcolor\": \"white\", \"linecolor\": \"white\", \"ticks\": \"\", \"title\": {\"standoff\": 15}, \"zerolinecolor\": \"white\", \"zerolinewidth\": 2}, \"yaxis\": {\"automargin\": true, \"gridcolor\": \"white\", \"linecolor\": \"white\", \"ticks\": \"\", \"title\": {\"standoff\": 15}, \"zerolinecolor\": \"white\", \"zerolinewidth\": 2}}}, \"title\": {\"text\": \"Sample age\"}, \"xaxis\": {\"anchor\": \"y\", \"domain\": [0.0, 1.0], \"title\": {\"text\": \"sample_age\"}}, \"yaxis\": {\"anchor\": \"x\", \"domain\": [0.0, 1.0], \"title\": {\"text\": \"count\"}}},                        {\"responsive\": true}                    ).then(function(){\n",
       "                            \n",
       "var gd = document.getElementById('771857c2-8d37-4b1b-a232-bfdf5c0a99f6');\n",
       "var x = new MutationObserver(function (mutations, observer) {{\n",
       "        var display = window.getComputedStyle(gd).display;\n",
       "        if (!display || display === 'none') {{\n",
       "            console.log([gd, 'removed!']);\n",
       "            Plotly.purge(gd);\n",
       "            observer.disconnect();\n",
       "        }}\n",
       "}});\n",
       "\n",
       "// Listen for the removal of the full notebook cells\n",
       "var notebookContainer = gd.closest('#notebook-container');\n",
       "if (notebookContainer) {{\n",
       "    x.observe(notebookContainer, {childList: true});\n",
       "}}\n",
       "\n",
       "// Listen for the clearing of the current output cell\n",
       "var outputEl = gd.closest('.output');\n",
       "if (outputEl) {{\n",
       "    x.observe(outputEl, {childList: true});\n",
       "}}\n",
       "\n",
       "                        })                };                });            </script>        </div>"
      ]
     },
     "metadata": {},
     "output_type": "display_data"
    }
   ],
   "source": [
    "fig = px.histogram(aMetagenomes_metadata, x=\"sample_age\",title=\"Sample age\")\n",
    "fig.show()"
   ]
  },
  {
   "cell_type": "code",
   "execution_count": 55,
   "metadata": {},
   "outputs": [
    {
     "data": {
      "application/vnd.plotly.v1+json": {
       "config": {
        "plotlyServerURL": "https://plot.ly"
       },
       "data": [
        {
         "alignmentgroup": "True",
         "bingroup": "x",
         "hovertemplate": "sample_host=%{x}<br>count=%{y}<extra></extra>",
         "legendgroup": "",
         "marker": {
          "color": "#636efa"
         },
         "name": "",
         "offsetgroup": "",
         "orientation": "v",
         "showlegend": false,
         "type": "histogram",
         "x": [
          "Homo sapiens",
          "Homo sapiens",
          "Homo sapiens",
          "Homo sapiens",
          "Homo sapiens",
          "Homo sapiens",
          "Homo sapiens",
          "Homo sapiens",
          "Homo sapiens",
          "Homo sapiens",
          "Homo sapiens",
          "Homo sapiens",
          "Homo sapiens",
          "Homo sapiens",
          "Homo sapiens",
          "Homo sapiens",
          "Homo sapiens",
          "Homo sapiens",
          "Homo sapiens",
          "Homo sapiens",
          "Homo sapiens",
          "Homo sapiens",
          "Homo sapiens",
          "Homo sapiens",
          "Homo sapiens",
          "Homo sapiens",
          "Homo sapiens",
          "Homo sapiens",
          "Homo sapiens",
          "Homo sapiens",
          "Homo sapiens",
          "Homo sapiens",
          "Homo sapiens",
          "Homo sapiens",
          "Homo sapiens",
          "Homo sapiens",
          "Homo sapiens",
          "Homo sapiens",
          "Homo sapiens",
          "Homo sapiens",
          "Homo sapiens",
          "Homo sapiens",
          "Homo sapiens",
          "Homo sapiens",
          "Homo sapiens",
          "Homo sapiens",
          "Homo sapiens",
          "Homo sapiens",
          "Homo sapiens",
          "Homo sapiens",
          "Homo sapiens",
          "Homo sapiens",
          "Homo sapiens",
          "Homo sapiens",
          "Homo sapiens",
          "Homo sapiens",
          "Homo sapiens",
          "Homo sapiens",
          "Homo sapiens",
          "Homo sapiens",
          "Homo sapiens",
          "Homo sapiens",
          "Homo sapiens",
          "Homo sapiens",
          "Homo sapiens",
          "Homo sapiens",
          "Homo sapiens",
          "Homo sapiens",
          "Homo sapiens",
          "Homo sapiens",
          "Homo sapiens",
          "Homo sapiens",
          "Homo sapiens",
          "Homo sapiens",
          "Homo sapiens",
          "Homo sapiens",
          "Homo sapiens",
          "Homo sapiens",
          "Homo sapiens",
          "Homo sapiens",
          "Homo sapiens",
          "Homo sapiens",
          "Homo sapiens",
          "Homo sapiens",
          "Homo sapiens",
          "Homo sapiens",
          "Homo sapiens",
          "Homo sapiens",
          "Homo sapiens",
          "Homo sapiens",
          "Homo sapiens",
          "Homo sapiens",
          "Homo sapiens",
          "Homo sapiens",
          "Homo sapiens",
          "Homo sapiens",
          "Homo sapiens",
          "Homo sapiens",
          "Homo sapiens",
          "Homo sapiens",
          "Homo sapiens",
          "Homo sapiens",
          "Homo sapiens",
          "Homo sapiens",
          "Homo sapiens",
          "Homo sapiens",
          "Homo sapiens",
          "Homo sapiens",
          "Homo sapiens",
          "Homo sapiens",
          "Homo sapiens",
          "Homo sapiens",
          "Homo sapiens",
          "Homo sapiens",
          "Homo sapiens",
          "Homo sapiens",
          "Homo sapiens",
          "Homo sapiens",
          "Homo sapiens",
          "Homo sapiens",
          "Homo sapiens",
          "Homo sapiens",
          "Homo sapiens",
          "Homo sapiens",
          "Homo sapiens",
          "Homo sapiens",
          "Homo sapiens",
          "Homo sapiens",
          "Homo sapiens",
          "Homo sapiens",
          "Homo sapiens",
          "Pan troglodytes schweinfurthii",
          "Pan troglodytes schweinfurthii",
          "Pan troglodytes schweinfurthii",
          "Pan troglodytes schweinfurthii",
          "Pan troglodytes schweinfurthii",
          "Pan troglodytes schweinfurthii",
          "Pan troglodytes schweinfurthii",
          "Pan troglodytes schweinfurthii",
          "Pan troglodytes schweinfurthii",
          "Pan troglodytes schweinfurthii",
          "Pan troglodytes schweinfurthii",
          "Pan troglodytes schweinfurthii",
          "Pan troglodytes schweinfurthii",
          "Pan troglodytes schweinfurthii",
          "Pan troglodytes schweinfurthii",
          "Pan troglodytes schweinfurthii",
          "Pan troglodytes schweinfurthii",
          "Pan troglodytes schweinfurthii",
          "Pan troglodytes schweinfurthii",
          "Homo sapiens",
          "Homo sapiens",
          "Homo sapiens",
          "Homo sapiens",
          "Homo sapiens",
          "Homo sapiens",
          "Homo sapiens",
          "Homo sapiens",
          "Homo sapiens",
          "Homo sapiens",
          "Homo sapiens",
          "Homo sapiens",
          "Homo sapiens",
          "Homo sapiens",
          "Mammuthus primigenius",
          "Mammuthus primigenius",
          "Mammuthus primigenius",
          "Mammuthus primigenius",
          "Mammuthus primigenius",
          "Mammuthus primigenius",
          "Mammuthus primigenius",
          "Mammuthus primigenius",
          "Conepatus chinga",
          "Conepatus chinga",
          "Conepatus chinga",
          "Conepatus chinga",
          "Gerbilliscus boehmi",
          "Gerbilliscus boehmi",
          "Gerbilliscus boehmi",
          "Gerbilliscus boehmi",
          "Strigocuscus celebensis",
          "Strigocuscus celebensis",
          "Strigocuscus celebensis",
          "Strigocuscus celebensis",
          "Homo sapiens",
          "Homo sapiens",
          "Homo sapiens",
          "Homo sapiens",
          "Homo sapiens",
          "Homo sapiens",
          "Homo sapiens",
          "Homo sapiens",
          "Ambrosia artemisiifolia",
          "Ambrosia artemisiifolia",
          "Ambrosia artemisiifolia",
          "Ambrosia artemisiifolia",
          "Ambrosia artemisiifolia",
          "Ambrosia artemisiifolia",
          "Ambrosia artemisiifolia",
          "Ambrosia artemisiifolia",
          "Ambrosia artemisiifolia",
          "Ambrosia artemisiifolia",
          "Ambrosia artemisiifolia",
          "Arabidopsis thaliana",
          "Arabidopsis thaliana",
          "Arabidopsis thaliana",
          "Arabidopsis thaliana",
          "Arabidopsis thaliana",
          "Arabidopsis thaliana",
          "Arabidopsis thaliana",
          "Arabidopsis thaliana",
          "Arabidopsis thaliana",
          "Arabidopsis thaliana",
          "Arabidopsis thaliana",
          "Arabidopsis thaliana",
          "Arabidopsis thaliana",
          "Arabidopsis thaliana",
          "Arabidopsis thaliana",
          "Arabidopsis thaliana",
          "Arabidopsis thaliana",
          "Arabidopsis thaliana",
          "Arabidopsis thaliana",
          "Arabidopsis thaliana",
          "Arabidopsis thaliana",
          "Arabidopsis thaliana",
          "Arabidopsis thaliana",
          "Arabidopsis thaliana",
          "Arabidopsis thaliana",
          "Arabidopsis thaliana",
          "Arabidopsis thaliana",
          "Arabidopsis thaliana",
          "Arabidopsis thaliana",
          "Arabidopsis thaliana",
          "Arabidopsis thaliana",
          "Arabidopsis thaliana",
          "Arabidopsis thaliana",
          "Arabidopsis thaliana",
          "Homo sapiens",
          "Homo sapiens",
          "Homo sapiens",
          "Homo sapiens",
          "Homo sapiens",
          "Homo sapiens",
          "Homo sapiens",
          "Homo sapiens",
          "Homo sapiens",
          "Homo sapiens",
          "Homo sapiens",
          "Homo sapiens",
          "Homo sapiens",
          "Homo sapiens",
          "Homo sapiens",
          "Homo sapiens",
          "Homo sapiens",
          "Homo sapiens",
          "Homo sapiens",
          "Homo sapiens",
          "Homo sapiens",
          "Homo sapiens",
          "Homo sapiens",
          "Homo sapiens",
          "Homo sapiens",
          "Homo sapiens",
          "Homo sapiens",
          "Homo sapiens",
          "Homo sapiens",
          "Homo sapiens",
          "Homo sapiens",
          "Homo sapiens",
          "Homo sapiens",
          "Homo sapiens",
          "Homo sapiens",
          "Homo sapiens",
          "Homo sapiens",
          "Homo sapiens",
          "Homo sapiens",
          "Homo sapiens",
          "Homo sapiens",
          "Homo sapiens",
          "Homo sapiens",
          "Homo sapiens",
          "Homo sapiens",
          "Homo sapiens",
          "Homo sapiens",
          "Homo sapiens",
          "Homo sapiens",
          "Homo sapiens",
          "Homo sapiens",
          "Homo sapiens",
          "Homo sapiens",
          "Homo sapiens",
          "Homo sapiens",
          "Homo sapiens",
          "Homo sapiens",
          "Homo sapiens",
          "Homo sapiens",
          "Homo sapiens",
          "Homo sapiens",
          "Homo sapiens",
          "Homo sapiens",
          "Homo sapiens",
          "Homo sapiens",
          "Homo sapiens",
          "Homo sapiens",
          "Homo sapiens",
          "Homo sapiens",
          "Homo sapiens",
          "Homo sapiens",
          "Homo sapiens",
          "Homo sapiens",
          "Homo sapiens",
          "Homo sapiens",
          "Homo sapiens",
          "Homo sapiens",
          "Homo sapiens",
          "Homo sapiens",
          "Homo sapiens",
          "Homo sapiens",
          "Homo sapiens",
          "Homo sapiens",
          "Homo sapiens",
          "Homo sapiens",
          "Homo sapiens",
          "Homo sapiens",
          "Homo sapiens",
          "Homo sapiens",
          "Homo sapiens",
          "Homo sapiens",
          "Homo sapiens",
          "Homo sapiens",
          "Homo sapiens",
          "Homo sapiens",
          "Homo sapiens",
          "Homo sapiens",
          "Homo sapiens",
          "Homo sapiens",
          "Homo sapiens",
          "Homo sapiens",
          "Homo sapiens",
          "Homo sapiens",
          "Homo sapiens",
          "Homo sapiens",
          "Homo sapiens",
          "Homo sapiens",
          "Homo sapiens",
          "Homo sapiens",
          "Homo sapiens",
          "Homo sapiens",
          "Homo sapiens",
          "Homo sapiens",
          "Homo sapiens",
          "Homo sapiens",
          "Homo sapiens",
          "Homo sapiens",
          "Homo sapiens",
          "Homo sapiens",
          "Homo sapiens",
          "Homo sapiens",
          "Homo sapiens",
          "Homo sapiens",
          "Homo sapiens",
          "Homo sapiens",
          "Homo sapiens",
          "Homo sapiens",
          "Homo sapiens",
          "Homo sapiens",
          "Homo sapiens",
          "Homo sapiens",
          "Homo sapiens",
          "Homo sapiens",
          "Homo sapiens",
          "Homo sapiens",
          "Homo sapiens",
          "Homo sapiens",
          "Homo sapiens",
          "Homo sapiens",
          "Homo sapiens",
          "Homo sapiens",
          "Homo sapiens",
          "Homo sapiens",
          "Homo sapiens",
          "Homo sapiens",
          "Homo sapiens",
          "Homo sapiens",
          "Homo sapiens",
          "Homo sapiens",
          "Homo sapiens",
          "Homo sapiens",
          "Homo sapiens",
          "Homo sapiens",
          "Homo sapiens",
          "Homo sapiens",
          "Homo sapiens",
          "Homo sapiens",
          "Homo sapiens",
          "Homo sapiens",
          "Homo sapiens",
          "Homo sapiens",
          "Homo sapiens",
          "Homo sapiens",
          "Homo sapiens",
          "Homo sapiens",
          "Homo sapiens",
          "Homo sapiens",
          "Homo sapiens",
          "Homo sapiens",
          "Homo sapiens",
          "Homo sapiens",
          "Homo sapiens",
          "Homo sapiens",
          "Homo sapiens",
          "Homo sapiens",
          "Homo sapiens",
          "Homo sapiens",
          "Homo sapiens",
          "Homo sapiens",
          "Homo sapiens",
          "Homo sapiens",
          "Homo sapiens",
          "Homo sapiens",
          "Homo sapiens",
          "Homo sapiens",
          "Homo sapiens",
          "Homo sapiens",
          "Homo sapiens",
          "Homo sapiens",
          "Homo sapiens",
          "Homo sapiens",
          "Homo sapiens",
          "Homo sapiens",
          "Homo sapiens",
          "Homo sapiens",
          "Homo sapiens",
          "Homo sapiens",
          "Homo sapiens",
          "Homo sapiens",
          "Homo sapiens",
          "Homo sapiens",
          "Homo sapiens",
          "Homo sapiens",
          "Homo sapiens",
          "Homo sapiens",
          "Homo sapiens",
          "Homo sapiens",
          "Homo sapiens",
          "Homo sapiens",
          "Homo sapiens"
         ],
         "xaxis": "x",
         "yaxis": "y"
        }
       ],
       "layout": {
        "barmode": "relative",
        "legend": {
         "tracegroupgap": 0
        },
        "template": {
         "data": {
          "bar": [
           {
            "error_x": {
             "color": "#2a3f5f"
            },
            "error_y": {
             "color": "#2a3f5f"
            },
            "marker": {
             "line": {
              "color": "#E5ECF6",
              "width": 0.5
             }
            },
            "type": "bar"
           }
          ],
          "barpolar": [
           {
            "marker": {
             "line": {
              "color": "#E5ECF6",
              "width": 0.5
             }
            },
            "type": "barpolar"
           }
          ],
          "carpet": [
           {
            "aaxis": {
             "endlinecolor": "#2a3f5f",
             "gridcolor": "white",
             "linecolor": "white",
             "minorgridcolor": "white",
             "startlinecolor": "#2a3f5f"
            },
            "baxis": {
             "endlinecolor": "#2a3f5f",
             "gridcolor": "white",
             "linecolor": "white",
             "minorgridcolor": "white",
             "startlinecolor": "#2a3f5f"
            },
            "type": "carpet"
           }
          ],
          "choropleth": [
           {
            "colorbar": {
             "outlinewidth": 0,
             "ticks": ""
            },
            "type": "choropleth"
           }
          ],
          "contour": [
           {
            "colorbar": {
             "outlinewidth": 0,
             "ticks": ""
            },
            "colorscale": [
             [
              0,
              "#0d0887"
             ],
             [
              0.1111111111111111,
              "#46039f"
             ],
             [
              0.2222222222222222,
              "#7201a8"
             ],
             [
              0.3333333333333333,
              "#9c179e"
             ],
             [
              0.4444444444444444,
              "#bd3786"
             ],
             [
              0.5555555555555556,
              "#d8576b"
             ],
             [
              0.6666666666666666,
              "#ed7953"
             ],
             [
              0.7777777777777778,
              "#fb9f3a"
             ],
             [
              0.8888888888888888,
              "#fdca26"
             ],
             [
              1,
              "#f0f921"
             ]
            ],
            "type": "contour"
           }
          ],
          "contourcarpet": [
           {
            "colorbar": {
             "outlinewidth": 0,
             "ticks": ""
            },
            "type": "contourcarpet"
           }
          ],
          "heatmap": [
           {
            "colorbar": {
             "outlinewidth": 0,
             "ticks": ""
            },
            "colorscale": [
             [
              0,
              "#0d0887"
             ],
             [
              0.1111111111111111,
              "#46039f"
             ],
             [
              0.2222222222222222,
              "#7201a8"
             ],
             [
              0.3333333333333333,
              "#9c179e"
             ],
             [
              0.4444444444444444,
              "#bd3786"
             ],
             [
              0.5555555555555556,
              "#d8576b"
             ],
             [
              0.6666666666666666,
              "#ed7953"
             ],
             [
              0.7777777777777778,
              "#fb9f3a"
             ],
             [
              0.8888888888888888,
              "#fdca26"
             ],
             [
              1,
              "#f0f921"
             ]
            ],
            "type": "heatmap"
           }
          ],
          "heatmapgl": [
           {
            "colorbar": {
             "outlinewidth": 0,
             "ticks": ""
            },
            "colorscale": [
             [
              0,
              "#0d0887"
             ],
             [
              0.1111111111111111,
              "#46039f"
             ],
             [
              0.2222222222222222,
              "#7201a8"
             ],
             [
              0.3333333333333333,
              "#9c179e"
             ],
             [
              0.4444444444444444,
              "#bd3786"
             ],
             [
              0.5555555555555556,
              "#d8576b"
             ],
             [
              0.6666666666666666,
              "#ed7953"
             ],
             [
              0.7777777777777778,
              "#fb9f3a"
             ],
             [
              0.8888888888888888,
              "#fdca26"
             ],
             [
              1,
              "#f0f921"
             ]
            ],
            "type": "heatmapgl"
           }
          ],
          "histogram": [
           {
            "marker": {
             "colorbar": {
              "outlinewidth": 0,
              "ticks": ""
             }
            },
            "type": "histogram"
           }
          ],
          "histogram2d": [
           {
            "colorbar": {
             "outlinewidth": 0,
             "ticks": ""
            },
            "colorscale": [
             [
              0,
              "#0d0887"
             ],
             [
              0.1111111111111111,
              "#46039f"
             ],
             [
              0.2222222222222222,
              "#7201a8"
             ],
             [
              0.3333333333333333,
              "#9c179e"
             ],
             [
              0.4444444444444444,
              "#bd3786"
             ],
             [
              0.5555555555555556,
              "#d8576b"
             ],
             [
              0.6666666666666666,
              "#ed7953"
             ],
             [
              0.7777777777777778,
              "#fb9f3a"
             ],
             [
              0.8888888888888888,
              "#fdca26"
             ],
             [
              1,
              "#f0f921"
             ]
            ],
            "type": "histogram2d"
           }
          ],
          "histogram2dcontour": [
           {
            "colorbar": {
             "outlinewidth": 0,
             "ticks": ""
            },
            "colorscale": [
             [
              0,
              "#0d0887"
             ],
             [
              0.1111111111111111,
              "#46039f"
             ],
             [
              0.2222222222222222,
              "#7201a8"
             ],
             [
              0.3333333333333333,
              "#9c179e"
             ],
             [
              0.4444444444444444,
              "#bd3786"
             ],
             [
              0.5555555555555556,
              "#d8576b"
             ],
             [
              0.6666666666666666,
              "#ed7953"
             ],
             [
              0.7777777777777778,
              "#fb9f3a"
             ],
             [
              0.8888888888888888,
              "#fdca26"
             ],
             [
              1,
              "#f0f921"
             ]
            ],
            "type": "histogram2dcontour"
           }
          ],
          "mesh3d": [
           {
            "colorbar": {
             "outlinewidth": 0,
             "ticks": ""
            },
            "type": "mesh3d"
           }
          ],
          "parcoords": [
           {
            "line": {
             "colorbar": {
              "outlinewidth": 0,
              "ticks": ""
             }
            },
            "type": "parcoords"
           }
          ],
          "pie": [
           {
            "automargin": true,
            "type": "pie"
           }
          ],
          "scatter": [
           {
            "marker": {
             "colorbar": {
              "outlinewidth": 0,
              "ticks": ""
             }
            },
            "type": "scatter"
           }
          ],
          "scatter3d": [
           {
            "line": {
             "colorbar": {
              "outlinewidth": 0,
              "ticks": ""
             }
            },
            "marker": {
             "colorbar": {
              "outlinewidth": 0,
              "ticks": ""
             }
            },
            "type": "scatter3d"
           }
          ],
          "scattercarpet": [
           {
            "marker": {
             "colorbar": {
              "outlinewidth": 0,
              "ticks": ""
             }
            },
            "type": "scattercarpet"
           }
          ],
          "scattergeo": [
           {
            "marker": {
             "colorbar": {
              "outlinewidth": 0,
              "ticks": ""
             }
            },
            "type": "scattergeo"
           }
          ],
          "scattergl": [
           {
            "marker": {
             "colorbar": {
              "outlinewidth": 0,
              "ticks": ""
             }
            },
            "type": "scattergl"
           }
          ],
          "scattermapbox": [
           {
            "marker": {
             "colorbar": {
              "outlinewidth": 0,
              "ticks": ""
             }
            },
            "type": "scattermapbox"
           }
          ],
          "scatterpolar": [
           {
            "marker": {
             "colorbar": {
              "outlinewidth": 0,
              "ticks": ""
             }
            },
            "type": "scatterpolar"
           }
          ],
          "scatterpolargl": [
           {
            "marker": {
             "colorbar": {
              "outlinewidth": 0,
              "ticks": ""
             }
            },
            "type": "scatterpolargl"
           }
          ],
          "scatterternary": [
           {
            "marker": {
             "colorbar": {
              "outlinewidth": 0,
              "ticks": ""
             }
            },
            "type": "scatterternary"
           }
          ],
          "surface": [
           {
            "colorbar": {
             "outlinewidth": 0,
             "ticks": ""
            },
            "colorscale": [
             [
              0,
              "#0d0887"
             ],
             [
              0.1111111111111111,
              "#46039f"
             ],
             [
              0.2222222222222222,
              "#7201a8"
             ],
             [
              0.3333333333333333,
              "#9c179e"
             ],
             [
              0.4444444444444444,
              "#bd3786"
             ],
             [
              0.5555555555555556,
              "#d8576b"
             ],
             [
              0.6666666666666666,
              "#ed7953"
             ],
             [
              0.7777777777777778,
              "#fb9f3a"
             ],
             [
              0.8888888888888888,
              "#fdca26"
             ],
             [
              1,
              "#f0f921"
             ]
            ],
            "type": "surface"
           }
          ],
          "table": [
           {
            "cells": {
             "fill": {
              "color": "#EBF0F8"
             },
             "line": {
              "color": "white"
             }
            },
            "header": {
             "fill": {
              "color": "#C8D4E3"
             },
             "line": {
              "color": "white"
             }
            },
            "type": "table"
           }
          ]
         },
         "layout": {
          "annotationdefaults": {
           "arrowcolor": "#2a3f5f",
           "arrowhead": 0,
           "arrowwidth": 1
          },
          "autotypenumbers": "strict",
          "coloraxis": {
           "colorbar": {
            "outlinewidth": 0,
            "ticks": ""
           }
          },
          "colorscale": {
           "diverging": [
            [
             0,
             "#8e0152"
            ],
            [
             0.1,
             "#c51b7d"
            ],
            [
             0.2,
             "#de77ae"
            ],
            [
             0.3,
             "#f1b6da"
            ],
            [
             0.4,
             "#fde0ef"
            ],
            [
             0.5,
             "#f7f7f7"
            ],
            [
             0.6,
             "#e6f5d0"
            ],
            [
             0.7,
             "#b8e186"
            ],
            [
             0.8,
             "#7fbc41"
            ],
            [
             0.9,
             "#4d9221"
            ],
            [
             1,
             "#276419"
            ]
           ],
           "sequential": [
            [
             0,
             "#0d0887"
            ],
            [
             0.1111111111111111,
             "#46039f"
            ],
            [
             0.2222222222222222,
             "#7201a8"
            ],
            [
             0.3333333333333333,
             "#9c179e"
            ],
            [
             0.4444444444444444,
             "#bd3786"
            ],
            [
             0.5555555555555556,
             "#d8576b"
            ],
            [
             0.6666666666666666,
             "#ed7953"
            ],
            [
             0.7777777777777778,
             "#fb9f3a"
            ],
            [
             0.8888888888888888,
             "#fdca26"
            ],
            [
             1,
             "#f0f921"
            ]
           ],
           "sequentialminus": [
            [
             0,
             "#0d0887"
            ],
            [
             0.1111111111111111,
             "#46039f"
            ],
            [
             0.2222222222222222,
             "#7201a8"
            ],
            [
             0.3333333333333333,
             "#9c179e"
            ],
            [
             0.4444444444444444,
             "#bd3786"
            ],
            [
             0.5555555555555556,
             "#d8576b"
            ],
            [
             0.6666666666666666,
             "#ed7953"
            ],
            [
             0.7777777777777778,
             "#fb9f3a"
            ],
            [
             0.8888888888888888,
             "#fdca26"
            ],
            [
             1,
             "#f0f921"
            ]
           ]
          },
          "colorway": [
           "#636efa",
           "#EF553B",
           "#00cc96",
           "#ab63fa",
           "#FFA15A",
           "#19d3f3",
           "#FF6692",
           "#B6E880",
           "#FF97FF",
           "#FECB52"
          ],
          "font": {
           "color": "#2a3f5f"
          },
          "geo": {
           "bgcolor": "white",
           "lakecolor": "white",
           "landcolor": "#E5ECF6",
           "showlakes": true,
           "showland": true,
           "subunitcolor": "white"
          },
          "hoverlabel": {
           "align": "left"
          },
          "hovermode": "closest",
          "mapbox": {
           "style": "light"
          },
          "paper_bgcolor": "white",
          "plot_bgcolor": "#E5ECF6",
          "polar": {
           "angularaxis": {
            "gridcolor": "white",
            "linecolor": "white",
            "ticks": ""
           },
           "bgcolor": "#E5ECF6",
           "radialaxis": {
            "gridcolor": "white",
            "linecolor": "white",
            "ticks": ""
           }
          },
          "scene": {
           "xaxis": {
            "backgroundcolor": "#E5ECF6",
            "gridcolor": "white",
            "gridwidth": 2,
            "linecolor": "white",
            "showbackground": true,
            "ticks": "",
            "zerolinecolor": "white"
           },
           "yaxis": {
            "backgroundcolor": "#E5ECF6",
            "gridcolor": "white",
            "gridwidth": 2,
            "linecolor": "white",
            "showbackground": true,
            "ticks": "",
            "zerolinecolor": "white"
           },
           "zaxis": {
            "backgroundcolor": "#E5ECF6",
            "gridcolor": "white",
            "gridwidth": 2,
            "linecolor": "white",
            "showbackground": true,
            "ticks": "",
            "zerolinecolor": "white"
           }
          },
          "shapedefaults": {
           "line": {
            "color": "#2a3f5f"
           }
          },
          "ternary": {
           "aaxis": {
            "gridcolor": "white",
            "linecolor": "white",
            "ticks": ""
           },
           "baxis": {
            "gridcolor": "white",
            "linecolor": "white",
            "ticks": ""
           },
           "bgcolor": "#E5ECF6",
           "caxis": {
            "gridcolor": "white",
            "linecolor": "white",
            "ticks": ""
           }
          },
          "title": {
           "x": 0.05
          },
          "xaxis": {
           "automargin": true,
           "gridcolor": "white",
           "linecolor": "white",
           "ticks": "",
           "title": {
            "standoff": 15
           },
           "zerolinecolor": "white",
           "zerolinewidth": 2
          },
          "yaxis": {
           "automargin": true,
           "gridcolor": "white",
           "linecolor": "white",
           "ticks": "",
           "title": {
            "standoff": 15
           },
           "zerolinecolor": "white",
           "zerolinewidth": 2
          }
         }
        },
        "title": {
         "text": "Sample host"
        },
        "xaxis": {
         "anchor": "y",
         "domain": [
          0,
          1
         ],
         "title": {
          "text": "sample_host"
         }
        },
        "yaxis": {
         "anchor": "x",
         "domain": [
          0,
          1
         ],
         "title": {
          "text": "count"
         }
        }
       }
      },
      "text/html": [
       "<div>                            <div id=\"3b49c9dd-50c3-41c0-9184-c8fa53e7047a\" class=\"plotly-graph-div\" style=\"height:525px; width:100%;\"></div>            <script type=\"text/javascript\">                require([\"plotly\"], function(Plotly) {                    window.PLOTLYENV=window.PLOTLYENV || {};                                    if (document.getElementById(\"3b49c9dd-50c3-41c0-9184-c8fa53e7047a\")) {                    Plotly.newPlot(                        \"3b49c9dd-50c3-41c0-9184-c8fa53e7047a\",                        [{\"alignmentgroup\": \"True\", \"bingroup\": \"x\", \"hovertemplate\": \"sample_host=%{x}<br>count=%{y}<extra></extra>\", \"legendgroup\": \"\", \"marker\": {\"color\": \"#636efa\"}, \"name\": \"\", \"offsetgroup\": \"\", \"orientation\": \"v\", \"showlegend\": false, \"type\": \"histogram\", \"x\": [\"Homo sapiens\", \"Homo sapiens\", \"Homo sapiens\", \"Homo sapiens\", \"Homo sapiens\", \"Homo sapiens\", \"Homo sapiens\", \"Homo sapiens\", \"Homo sapiens\", \"Homo sapiens\", \"Homo sapiens\", \"Homo sapiens\", \"Homo sapiens\", \"Homo sapiens\", \"Homo sapiens\", \"Homo sapiens\", \"Homo sapiens\", \"Homo sapiens\", \"Homo sapiens\", \"Homo sapiens\", \"Homo sapiens\", \"Homo sapiens\", \"Homo sapiens\", \"Homo sapiens\", \"Homo sapiens\", \"Homo sapiens\", \"Homo sapiens\", \"Homo sapiens\", \"Homo sapiens\", \"Homo sapiens\", \"Homo sapiens\", \"Homo sapiens\", \"Homo sapiens\", \"Homo sapiens\", \"Homo sapiens\", \"Homo sapiens\", \"Homo sapiens\", \"Homo sapiens\", \"Homo sapiens\", \"Homo sapiens\", \"Homo sapiens\", \"Homo sapiens\", \"Homo sapiens\", \"Homo sapiens\", \"Homo sapiens\", \"Homo sapiens\", \"Homo sapiens\", \"Homo sapiens\", \"Homo sapiens\", \"Homo sapiens\", \"Homo sapiens\", \"Homo sapiens\", \"Homo sapiens\", \"Homo sapiens\", \"Homo sapiens\", \"Homo sapiens\", \"Homo sapiens\", \"Homo sapiens\", \"Homo sapiens\", \"Homo sapiens\", \"Homo sapiens\", \"Homo sapiens\", \"Homo sapiens\", \"Homo sapiens\", \"Homo sapiens\", \"Homo sapiens\", \"Homo sapiens\", \"Homo sapiens\", \"Homo sapiens\", \"Homo sapiens\", \"Homo sapiens\", \"Homo sapiens\", \"Homo sapiens\", \"Homo sapiens\", \"Homo sapiens\", \"Homo sapiens\", \"Homo sapiens\", \"Homo sapiens\", \"Homo sapiens\", \"Homo sapiens\", \"Homo sapiens\", \"Homo sapiens\", \"Homo sapiens\", \"Homo sapiens\", \"Homo sapiens\", \"Homo sapiens\", \"Homo sapiens\", \"Homo sapiens\", \"Homo sapiens\", \"Homo sapiens\", \"Homo sapiens\", \"Homo sapiens\", \"Homo sapiens\", \"Homo sapiens\", \"Homo sapiens\", \"Homo sapiens\", \"Homo sapiens\", \"Homo sapiens\", \"Homo sapiens\", \"Homo sapiens\", \"Homo sapiens\", \"Homo sapiens\", \"Homo sapiens\", \"Homo sapiens\", \"Homo sapiens\", \"Homo sapiens\", \"Homo sapiens\", \"Homo sapiens\", \"Homo sapiens\", \"Homo sapiens\", \"Homo sapiens\", \"Homo sapiens\", \"Homo sapiens\", \"Homo sapiens\", \"Homo sapiens\", \"Homo sapiens\", \"Homo sapiens\", \"Homo sapiens\", \"Homo sapiens\", \"Homo sapiens\", \"Homo sapiens\", \"Homo sapiens\", \"Homo sapiens\", \"Homo sapiens\", \"Homo sapiens\", \"Homo sapiens\", \"Homo sapiens\", \"Homo sapiens\", \"Homo sapiens\", \"Homo sapiens\", \"Homo sapiens\", \"Pan troglodytes schweinfurthii\", \"Pan troglodytes schweinfurthii\", \"Pan troglodytes schweinfurthii\", \"Pan troglodytes schweinfurthii\", \"Pan troglodytes schweinfurthii\", \"Pan troglodytes schweinfurthii\", \"Pan troglodytes schweinfurthii\", \"Pan troglodytes schweinfurthii\", \"Pan troglodytes schweinfurthii\", \"Pan troglodytes schweinfurthii\", \"Pan troglodytes schweinfurthii\", \"Pan troglodytes schweinfurthii\", \"Pan troglodytes schweinfurthii\", \"Pan troglodytes schweinfurthii\", \"Pan troglodytes schweinfurthii\", \"Pan troglodytes schweinfurthii\", \"Pan troglodytes schweinfurthii\", \"Pan troglodytes schweinfurthii\", \"Pan troglodytes schweinfurthii\", \"Homo sapiens\", \"Homo sapiens\", \"Homo sapiens\", \"Homo sapiens\", \"Homo sapiens\", \"Homo sapiens\", \"Homo sapiens\", \"Homo sapiens\", \"Homo sapiens\", \"Homo sapiens\", \"Homo sapiens\", \"Homo sapiens\", \"Homo sapiens\", \"Homo sapiens\", \"Mammuthus primigenius\", \"Mammuthus primigenius\", \"Mammuthus primigenius\", \"Mammuthus primigenius\", \"Mammuthus primigenius\", \"Mammuthus primigenius\", \"Mammuthus primigenius\", \"Mammuthus primigenius\", \"Conepatus chinga\", \"Conepatus chinga\", \"Conepatus chinga\", \"Conepatus chinga\", \"Gerbilliscus boehmi\", \"Gerbilliscus boehmi\", \"Gerbilliscus boehmi\", \"Gerbilliscus boehmi\", \"Strigocuscus celebensis\", \"Strigocuscus celebensis\", \"Strigocuscus celebensis\", \"Strigocuscus celebensis\", \"Homo sapiens\", \"Homo sapiens\", \"Homo sapiens\", \"Homo sapiens\", \"Homo sapiens\", \"Homo sapiens\", \"Homo sapiens\", \"Homo sapiens\", \"Ambrosia artemisiifolia\", \"Ambrosia artemisiifolia\", \"Ambrosia artemisiifolia\", \"Ambrosia artemisiifolia\", \"Ambrosia artemisiifolia\", \"Ambrosia artemisiifolia\", \"Ambrosia artemisiifolia\", \"Ambrosia artemisiifolia\", \"Ambrosia artemisiifolia\", \"Ambrosia artemisiifolia\", \"Ambrosia artemisiifolia\", \"Arabidopsis thaliana\", \"Arabidopsis thaliana\", \"Arabidopsis thaliana\", \"Arabidopsis thaliana\", \"Arabidopsis thaliana\", \"Arabidopsis thaliana\", \"Arabidopsis thaliana\", \"Arabidopsis thaliana\", \"Arabidopsis thaliana\", \"Arabidopsis thaliana\", \"Arabidopsis thaliana\", \"Arabidopsis thaliana\", \"Arabidopsis thaliana\", \"Arabidopsis thaliana\", \"Arabidopsis thaliana\", \"Arabidopsis thaliana\", \"Arabidopsis thaliana\", \"Arabidopsis thaliana\", \"Arabidopsis thaliana\", \"Arabidopsis thaliana\", \"Arabidopsis thaliana\", \"Arabidopsis thaliana\", \"Arabidopsis thaliana\", \"Arabidopsis thaliana\", \"Arabidopsis thaliana\", \"Arabidopsis thaliana\", \"Arabidopsis thaliana\", \"Arabidopsis thaliana\", \"Arabidopsis thaliana\", \"Arabidopsis thaliana\", \"Arabidopsis thaliana\", \"Arabidopsis thaliana\", \"Arabidopsis thaliana\", \"Arabidopsis thaliana\", \"Homo sapiens\", \"Homo sapiens\", \"Homo sapiens\", \"Homo sapiens\", \"Homo sapiens\", \"Homo sapiens\", \"Homo sapiens\", \"Homo sapiens\", \"Homo sapiens\", \"Homo sapiens\", \"Homo sapiens\", \"Homo sapiens\", \"Homo sapiens\", \"Homo sapiens\", \"Homo sapiens\", \"Homo sapiens\", \"Homo sapiens\", \"Homo sapiens\", \"Homo sapiens\", \"Homo sapiens\", \"Homo sapiens\", \"Homo sapiens\", \"Homo sapiens\", \"Homo sapiens\", \"Homo sapiens\", \"Homo sapiens\", \"Homo sapiens\", \"Homo sapiens\", \"Homo sapiens\", \"Homo sapiens\", \"Homo sapiens\", \"Homo sapiens\", \"Homo sapiens\", \"Homo sapiens\", \"Homo sapiens\", \"Homo sapiens\", \"Homo sapiens\", \"Homo sapiens\", \"Homo sapiens\", \"Homo sapiens\", \"Homo sapiens\", \"Homo sapiens\", \"Homo sapiens\", \"Homo sapiens\", \"Homo sapiens\", \"Homo sapiens\", \"Homo sapiens\", \"Homo sapiens\", \"Homo sapiens\", \"Homo sapiens\", \"Homo sapiens\", \"Homo sapiens\", \"Homo sapiens\", \"Homo sapiens\", \"Homo sapiens\", \"Homo sapiens\", \"Homo sapiens\", \"Homo sapiens\", \"Homo sapiens\", \"Homo sapiens\", \"Homo sapiens\", \"Homo sapiens\", \"Homo sapiens\", \"Homo sapiens\", \"Homo sapiens\", \"Homo sapiens\", \"Homo sapiens\", \"Homo sapiens\", \"Homo sapiens\", \"Homo sapiens\", \"Homo sapiens\", \"Homo sapiens\", \"Homo sapiens\", \"Homo sapiens\", \"Homo sapiens\", \"Homo sapiens\", \"Homo sapiens\", \"Homo sapiens\", \"Homo sapiens\", \"Homo sapiens\", \"Homo sapiens\", \"Homo sapiens\", \"Homo sapiens\", \"Homo sapiens\", \"Homo sapiens\", \"Homo sapiens\", \"Homo sapiens\", \"Homo sapiens\", \"Homo sapiens\", \"Homo sapiens\", \"Homo sapiens\", \"Homo sapiens\", \"Homo sapiens\", \"Homo sapiens\", \"Homo sapiens\", \"Homo sapiens\", \"Homo sapiens\", \"Homo sapiens\", \"Homo sapiens\", \"Homo sapiens\", \"Homo sapiens\", \"Homo sapiens\", \"Homo sapiens\", \"Homo sapiens\", \"Homo sapiens\", \"Homo sapiens\", \"Homo sapiens\", \"Homo sapiens\", \"Homo sapiens\", \"Homo sapiens\", \"Homo sapiens\", \"Homo sapiens\", \"Homo sapiens\", \"Homo sapiens\", \"Homo sapiens\", \"Homo sapiens\", \"Homo sapiens\", \"Homo sapiens\", \"Homo sapiens\", \"Homo sapiens\", \"Homo sapiens\", \"Homo sapiens\", \"Homo sapiens\", \"Homo sapiens\", \"Homo sapiens\", \"Homo sapiens\", \"Homo sapiens\", \"Homo sapiens\", \"Homo sapiens\", \"Homo sapiens\", \"Homo sapiens\", \"Homo sapiens\", \"Homo sapiens\", \"Homo sapiens\", \"Homo sapiens\", \"Homo sapiens\", \"Homo sapiens\", \"Homo sapiens\", \"Homo sapiens\", \"Homo sapiens\", \"Homo sapiens\", \"Homo sapiens\", \"Homo sapiens\", \"Homo sapiens\", \"Homo sapiens\", \"Homo sapiens\", \"Homo sapiens\", \"Homo sapiens\", \"Homo sapiens\", \"Homo sapiens\", \"Homo sapiens\", \"Homo sapiens\", \"Homo sapiens\", \"Homo sapiens\", \"Homo sapiens\", \"Homo sapiens\", \"Homo sapiens\", \"Homo sapiens\", \"Homo sapiens\", \"Homo sapiens\", \"Homo sapiens\", \"Homo sapiens\", \"Homo sapiens\", \"Homo sapiens\", \"Homo sapiens\", \"Homo sapiens\", \"Homo sapiens\", \"Homo sapiens\", \"Homo sapiens\", \"Homo sapiens\", \"Homo sapiens\", \"Homo sapiens\", \"Homo sapiens\", \"Homo sapiens\", \"Homo sapiens\", \"Homo sapiens\", \"Homo sapiens\", \"Homo sapiens\", \"Homo sapiens\", \"Homo sapiens\", \"Homo sapiens\", \"Homo sapiens\", \"Homo sapiens\", \"Homo sapiens\", \"Homo sapiens\", \"Homo sapiens\", \"Homo sapiens\", \"Homo sapiens\", \"Homo sapiens\", \"Homo sapiens\", \"Homo sapiens\", \"Homo sapiens\", \"Homo sapiens\", \"Homo sapiens\", \"Homo sapiens\", \"Homo sapiens\", \"Homo sapiens\", \"Homo sapiens\", \"Homo sapiens\", \"Homo sapiens\", \"Homo sapiens\", \"Homo sapiens\", \"Homo sapiens\", \"Homo sapiens\", \"Homo sapiens\", \"Homo sapiens\", \"Homo sapiens\", \"Homo sapiens\", \"Homo sapiens\", \"Homo sapiens\"], \"xaxis\": \"x\", \"yaxis\": \"y\"}],                        {\"barmode\": \"relative\", \"legend\": {\"tracegroupgap\": 0}, \"template\": {\"data\": {\"bar\": [{\"error_x\": {\"color\": \"#2a3f5f\"}, \"error_y\": {\"color\": \"#2a3f5f\"}, \"marker\": {\"line\": {\"color\": \"#E5ECF6\", \"width\": 0.5}}, \"type\": \"bar\"}], \"barpolar\": [{\"marker\": {\"line\": {\"color\": \"#E5ECF6\", \"width\": 0.5}}, \"type\": \"barpolar\"}], \"carpet\": [{\"aaxis\": {\"endlinecolor\": \"#2a3f5f\", \"gridcolor\": \"white\", \"linecolor\": \"white\", \"minorgridcolor\": \"white\", \"startlinecolor\": \"#2a3f5f\"}, \"baxis\": {\"endlinecolor\": \"#2a3f5f\", \"gridcolor\": \"white\", \"linecolor\": \"white\", \"minorgridcolor\": \"white\", \"startlinecolor\": \"#2a3f5f\"}, \"type\": \"carpet\"}], \"choropleth\": [{\"colorbar\": {\"outlinewidth\": 0, \"ticks\": \"\"}, \"type\": \"choropleth\"}], \"contour\": [{\"colorbar\": {\"outlinewidth\": 0, \"ticks\": \"\"}, \"colorscale\": [[0.0, \"#0d0887\"], [0.1111111111111111, \"#46039f\"], [0.2222222222222222, \"#7201a8\"], [0.3333333333333333, \"#9c179e\"], [0.4444444444444444, \"#bd3786\"], [0.5555555555555556, \"#d8576b\"], [0.6666666666666666, \"#ed7953\"], [0.7777777777777778, \"#fb9f3a\"], [0.8888888888888888, \"#fdca26\"], [1.0, \"#f0f921\"]], \"type\": \"contour\"}], \"contourcarpet\": [{\"colorbar\": {\"outlinewidth\": 0, \"ticks\": \"\"}, \"type\": \"contourcarpet\"}], \"heatmap\": [{\"colorbar\": {\"outlinewidth\": 0, \"ticks\": \"\"}, \"colorscale\": [[0.0, \"#0d0887\"], [0.1111111111111111, \"#46039f\"], [0.2222222222222222, \"#7201a8\"], [0.3333333333333333, \"#9c179e\"], [0.4444444444444444, \"#bd3786\"], [0.5555555555555556, \"#d8576b\"], [0.6666666666666666, \"#ed7953\"], [0.7777777777777778, \"#fb9f3a\"], [0.8888888888888888, \"#fdca26\"], [1.0, \"#f0f921\"]], \"type\": \"heatmap\"}], \"heatmapgl\": [{\"colorbar\": {\"outlinewidth\": 0, \"ticks\": \"\"}, \"colorscale\": [[0.0, \"#0d0887\"], [0.1111111111111111, \"#46039f\"], [0.2222222222222222, \"#7201a8\"], [0.3333333333333333, \"#9c179e\"], [0.4444444444444444, \"#bd3786\"], [0.5555555555555556, \"#d8576b\"], [0.6666666666666666, \"#ed7953\"], [0.7777777777777778, \"#fb9f3a\"], [0.8888888888888888, \"#fdca26\"], [1.0, \"#f0f921\"]], \"type\": \"heatmapgl\"}], \"histogram\": [{\"marker\": {\"colorbar\": {\"outlinewidth\": 0, \"ticks\": \"\"}}, \"type\": \"histogram\"}], \"histogram2d\": [{\"colorbar\": {\"outlinewidth\": 0, \"ticks\": \"\"}, \"colorscale\": [[0.0, \"#0d0887\"], [0.1111111111111111, \"#46039f\"], [0.2222222222222222, \"#7201a8\"], [0.3333333333333333, \"#9c179e\"], [0.4444444444444444, \"#bd3786\"], [0.5555555555555556, \"#d8576b\"], [0.6666666666666666, \"#ed7953\"], [0.7777777777777778, \"#fb9f3a\"], [0.8888888888888888, \"#fdca26\"], [1.0, \"#f0f921\"]], \"type\": \"histogram2d\"}], \"histogram2dcontour\": [{\"colorbar\": {\"outlinewidth\": 0, \"ticks\": \"\"}, \"colorscale\": [[0.0, \"#0d0887\"], [0.1111111111111111, \"#46039f\"], [0.2222222222222222, \"#7201a8\"], [0.3333333333333333, \"#9c179e\"], [0.4444444444444444, \"#bd3786\"], [0.5555555555555556, \"#d8576b\"], [0.6666666666666666, \"#ed7953\"], [0.7777777777777778, \"#fb9f3a\"], [0.8888888888888888, \"#fdca26\"], [1.0, \"#f0f921\"]], \"type\": \"histogram2dcontour\"}], \"mesh3d\": [{\"colorbar\": {\"outlinewidth\": 0, \"ticks\": \"\"}, \"type\": \"mesh3d\"}], \"parcoords\": [{\"line\": {\"colorbar\": {\"outlinewidth\": 0, \"ticks\": \"\"}}, \"type\": \"parcoords\"}], \"pie\": [{\"automargin\": true, \"type\": \"pie\"}], \"scatter\": [{\"marker\": {\"colorbar\": {\"outlinewidth\": 0, \"ticks\": \"\"}}, \"type\": \"scatter\"}], \"scatter3d\": [{\"line\": {\"colorbar\": {\"outlinewidth\": 0, \"ticks\": \"\"}}, \"marker\": {\"colorbar\": {\"outlinewidth\": 0, \"ticks\": \"\"}}, \"type\": \"scatter3d\"}], \"scattercarpet\": [{\"marker\": {\"colorbar\": {\"outlinewidth\": 0, \"ticks\": \"\"}}, \"type\": \"scattercarpet\"}], \"scattergeo\": [{\"marker\": {\"colorbar\": {\"outlinewidth\": 0, \"ticks\": \"\"}}, \"type\": \"scattergeo\"}], \"scattergl\": [{\"marker\": {\"colorbar\": {\"outlinewidth\": 0, \"ticks\": \"\"}}, \"type\": \"scattergl\"}], \"scattermapbox\": [{\"marker\": {\"colorbar\": {\"outlinewidth\": 0, \"ticks\": \"\"}}, \"type\": \"scattermapbox\"}], \"scatterpolar\": [{\"marker\": {\"colorbar\": {\"outlinewidth\": 0, \"ticks\": \"\"}}, \"type\": \"scatterpolar\"}], \"scatterpolargl\": [{\"marker\": {\"colorbar\": {\"outlinewidth\": 0, \"ticks\": \"\"}}, \"type\": \"scatterpolargl\"}], \"scatterternary\": [{\"marker\": {\"colorbar\": {\"outlinewidth\": 0, \"ticks\": \"\"}}, \"type\": \"scatterternary\"}], \"surface\": [{\"colorbar\": {\"outlinewidth\": 0, \"ticks\": \"\"}, \"colorscale\": [[0.0, \"#0d0887\"], [0.1111111111111111, \"#46039f\"], [0.2222222222222222, \"#7201a8\"], [0.3333333333333333, \"#9c179e\"], [0.4444444444444444, \"#bd3786\"], [0.5555555555555556, \"#d8576b\"], [0.6666666666666666, \"#ed7953\"], [0.7777777777777778, \"#fb9f3a\"], [0.8888888888888888, \"#fdca26\"], [1.0, \"#f0f921\"]], \"type\": \"surface\"}], \"table\": [{\"cells\": {\"fill\": {\"color\": \"#EBF0F8\"}, \"line\": {\"color\": \"white\"}}, \"header\": {\"fill\": {\"color\": \"#C8D4E3\"}, \"line\": {\"color\": \"white\"}}, \"type\": \"table\"}]}, \"layout\": {\"annotationdefaults\": {\"arrowcolor\": \"#2a3f5f\", \"arrowhead\": 0, \"arrowwidth\": 1}, \"autotypenumbers\": \"strict\", \"coloraxis\": {\"colorbar\": {\"outlinewidth\": 0, \"ticks\": \"\"}}, \"colorscale\": {\"diverging\": [[0, \"#8e0152\"], [0.1, \"#c51b7d\"], [0.2, \"#de77ae\"], [0.3, \"#f1b6da\"], [0.4, \"#fde0ef\"], [0.5, \"#f7f7f7\"], [0.6, \"#e6f5d0\"], [0.7, \"#b8e186\"], [0.8, \"#7fbc41\"], [0.9, \"#4d9221\"], [1, \"#276419\"]], \"sequential\": [[0.0, \"#0d0887\"], [0.1111111111111111, \"#46039f\"], [0.2222222222222222, \"#7201a8\"], [0.3333333333333333, \"#9c179e\"], [0.4444444444444444, \"#bd3786\"], [0.5555555555555556, \"#d8576b\"], [0.6666666666666666, \"#ed7953\"], [0.7777777777777778, \"#fb9f3a\"], [0.8888888888888888, \"#fdca26\"], [1.0, \"#f0f921\"]], \"sequentialminus\": [[0.0, \"#0d0887\"], [0.1111111111111111, \"#46039f\"], [0.2222222222222222, \"#7201a8\"], [0.3333333333333333, \"#9c179e\"], [0.4444444444444444, \"#bd3786\"], [0.5555555555555556, \"#d8576b\"], [0.6666666666666666, \"#ed7953\"], [0.7777777777777778, \"#fb9f3a\"], [0.8888888888888888, \"#fdca26\"], [1.0, \"#f0f921\"]]}, \"colorway\": [\"#636efa\", \"#EF553B\", \"#00cc96\", \"#ab63fa\", \"#FFA15A\", \"#19d3f3\", \"#FF6692\", \"#B6E880\", \"#FF97FF\", \"#FECB52\"], \"font\": {\"color\": \"#2a3f5f\"}, \"geo\": {\"bgcolor\": \"white\", \"lakecolor\": \"white\", \"landcolor\": \"#E5ECF6\", \"showlakes\": true, \"showland\": true, \"subunitcolor\": \"white\"}, \"hoverlabel\": {\"align\": \"left\"}, \"hovermode\": \"closest\", \"mapbox\": {\"style\": \"light\"}, \"paper_bgcolor\": \"white\", \"plot_bgcolor\": \"#E5ECF6\", \"polar\": {\"angularaxis\": {\"gridcolor\": \"white\", \"linecolor\": \"white\", \"ticks\": \"\"}, \"bgcolor\": \"#E5ECF6\", \"radialaxis\": {\"gridcolor\": \"white\", \"linecolor\": \"white\", \"ticks\": \"\"}}, \"scene\": {\"xaxis\": {\"backgroundcolor\": \"#E5ECF6\", \"gridcolor\": \"white\", \"gridwidth\": 2, \"linecolor\": \"white\", \"showbackground\": true, \"ticks\": \"\", \"zerolinecolor\": \"white\"}, \"yaxis\": {\"backgroundcolor\": \"#E5ECF6\", \"gridcolor\": \"white\", \"gridwidth\": 2, \"linecolor\": \"white\", \"showbackground\": true, \"ticks\": \"\", \"zerolinecolor\": \"white\"}, \"zaxis\": {\"backgroundcolor\": \"#E5ECF6\", \"gridcolor\": \"white\", \"gridwidth\": 2, \"linecolor\": \"white\", \"showbackground\": true, \"ticks\": \"\", \"zerolinecolor\": \"white\"}}, \"shapedefaults\": {\"line\": {\"color\": \"#2a3f5f\"}}, \"ternary\": {\"aaxis\": {\"gridcolor\": \"white\", \"linecolor\": \"white\", \"ticks\": \"\"}, \"baxis\": {\"gridcolor\": \"white\", \"linecolor\": \"white\", \"ticks\": \"\"}, \"bgcolor\": \"#E5ECF6\", \"caxis\": {\"gridcolor\": \"white\", \"linecolor\": \"white\", \"ticks\": \"\"}}, \"title\": {\"x\": 0.05}, \"xaxis\": {\"automargin\": true, \"gridcolor\": \"white\", \"linecolor\": \"white\", \"ticks\": \"\", \"title\": {\"standoff\": 15}, \"zerolinecolor\": \"white\", \"zerolinewidth\": 2}, \"yaxis\": {\"automargin\": true, \"gridcolor\": \"white\", \"linecolor\": \"white\", \"ticks\": \"\", \"title\": {\"standoff\": 15}, \"zerolinecolor\": \"white\", \"zerolinewidth\": 2}}}, \"title\": {\"text\": \"Sample host\"}, \"xaxis\": {\"anchor\": \"y\", \"domain\": [0.0, 1.0], \"title\": {\"text\": \"sample_host\"}}, \"yaxis\": {\"anchor\": \"x\", \"domain\": [0.0, 1.0], \"title\": {\"text\": \"count\"}}},                        {\"responsive\": true}                    ).then(function(){\n",
       "                            \n",
       "var gd = document.getElementById('3b49c9dd-50c3-41c0-9184-c8fa53e7047a');\n",
       "var x = new MutationObserver(function (mutations, observer) {{\n",
       "        var display = window.getComputedStyle(gd).display;\n",
       "        if (!display || display === 'none') {{\n",
       "            console.log([gd, 'removed!']);\n",
       "            Plotly.purge(gd);\n",
       "            observer.disconnect();\n",
       "        }}\n",
       "}});\n",
       "\n",
       "// Listen for the removal of the full notebook cells\n",
       "var notebookContainer = gd.closest('#notebook-container');\n",
       "if (notebookContainer) {{\n",
       "    x.observe(notebookContainer, {childList: true});\n",
       "}}\n",
       "\n",
       "// Listen for the clearing of the current output cell\n",
       "var outputEl = gd.closest('.output');\n",
       "if (outputEl) {{\n",
       "    x.observe(outputEl, {childList: true});\n",
       "}}\n",
       "\n",
       "                        })                };                });            </script>        </div>"
      ]
     },
     "metadata": {},
     "output_type": "display_data"
    }
   ],
   "source": [
    "fig = px.histogram(aMetagenomes_metadata, x=\"sample_host\",title=\"Sample host\")\n",
    "fig.show()"
   ]
  },
  {
   "cell_type": "code",
   "execution_count": 56,
   "metadata": {},
   "outputs": [
    {
     "data": {
      "application/vnd.plotly.v1+json": {
       "config": {
        "plotlyServerURL": "https://plot.ly"
       },
       "data": [
        {
         "alignmentgroup": "True",
         "bingroup": "x",
         "hovertemplate": "community_type=%{x}<br>count=%{y}<extra></extra>",
         "legendgroup": "",
         "marker": {
          "color": "#636efa"
         },
         "name": "",
         "offsetgroup": "",
         "orientation": "v",
         "showlegend": false,
         "type": "histogram",
         "x": [
          "oral",
          "oral",
          "oral",
          "oral",
          "oral",
          "oral",
          "oral",
          "oral",
          "oral",
          "oral",
          "oral",
          "oral",
          "oral",
          "oral",
          "oral",
          "oral",
          "oral",
          "oral",
          "oral",
          "oral",
          "oral",
          "oral",
          "oral",
          "oral",
          "oral",
          "oral",
          "oral",
          "oral",
          "oral",
          "oral",
          "oral",
          "oral",
          "oral",
          "oral",
          "oral",
          "oral",
          "oral",
          "oral",
          "oral",
          "oral",
          "oral",
          "oral",
          "oral",
          "oral",
          "oral",
          "oral",
          "oral",
          "oral",
          "oral",
          "oral",
          "oral",
          "oral",
          "oral",
          "oral",
          "oral",
          "oral",
          "oral",
          "oral",
          "oral",
          "oral",
          "oral",
          "oral",
          "oral",
          "oral",
          "oral",
          "oral",
          "oral",
          "oral",
          "oral",
          "oral",
          "oral",
          "skeletal tissue",
          "skeletal tissue",
          "skeletal tissue",
          "skeletal tissue",
          "skeletal tissue",
          "skeletal tissue",
          "skeletal tissue",
          "skeletal tissue",
          "skeletal tissue",
          "skeletal tissue",
          "skeletal tissue",
          "skeletal tissue",
          "skeletal tissue",
          "skeletal tissue",
          "skeletal tissue",
          "skeletal tissue",
          "skeletal tissue",
          "skeletal tissue",
          "skeletal tissue",
          "skeletal tissue",
          "skeletal tissue",
          "skeletal tissue",
          "skeletal tissue",
          "skeletal tissue",
          "skeletal tissue",
          "skeletal tissue",
          "skeletal tissue",
          "skeletal tissue",
          "skeletal tissue",
          "skeletal tissue",
          "skeletal tissue",
          "skeletal tissue",
          "skeletal tissue",
          "skeletal tissue",
          "skeletal tissue",
          "skeletal tissue",
          "skeletal tissue",
          "skeletal tissue",
          "skeletal tissue",
          "skeletal tissue",
          "skeletal tissue",
          "skeletal tissue",
          "skeletal tissue",
          "skeletal tissue",
          "skeletal tissue",
          "skeletal tissue",
          "skeletal tissue",
          "skeletal tissue",
          "skeletal tissue",
          "skeletal tissue",
          "skeletal tissue",
          "skeletal tissue",
          "skeletal tissue",
          "skeletal tissue",
          "skeletal tissue",
          "skeletal tissue",
          "skeletal tissue",
          "skeletal tissue",
          "skeletal tissue",
          "skeletal tissue",
          "oral",
          "oral",
          "oral",
          "oral",
          "oral",
          "oral",
          "oral",
          "oral",
          "oral",
          "oral",
          "oral",
          "oral",
          "oral",
          "oral",
          "oral",
          "oral",
          "oral",
          "oral",
          "oral",
          "skeletal tissue",
          "skeletal tissue",
          "skeletal tissue",
          "skeletal tissue",
          "skeletal tissue",
          "skeletal tissue",
          "skeletal tissue",
          "skeletal tissue",
          "skeletal tissue",
          "oral",
          "oral",
          "skeletal tissue",
          "skeletal tissue",
          "oral",
          "soft tissue",
          "soft tissue",
          "soft tissue",
          "soft tissue",
          "soft tissue",
          "soft tissue",
          "soft tissue",
          "soft tissue",
          "skeletal tissue",
          "soft tissue",
          "soft tissue",
          "soft tissue",
          "skeletal tissue",
          "soft tissue",
          "soft tissue",
          "soft tissue",
          "skeletal tissue",
          "soft tissue",
          "soft tissue",
          "soft tissue",
          "skeletal tissue",
          "skeletal tissue",
          "skeletal tissue",
          "skeletal tissue",
          "skeletal tissue",
          "skeletal tissue",
          "skeletal tissue",
          "skeletal tissue",
          "plant tissue",
          "plant tissue",
          "plant tissue",
          "plant tissue",
          "plant tissue",
          "plant tissue",
          "plant tissue",
          "plant tissue",
          "plant tissue",
          "plant tissue",
          "plant tissue",
          "plant tissue",
          "plant tissue",
          "plant tissue",
          "plant tissue",
          "plant tissue",
          "plant tissue",
          "plant tissue",
          "plant tissue",
          "plant tissue",
          "plant tissue",
          "plant tissue",
          "plant tissue",
          "plant tissue",
          "plant tissue",
          "plant tissue",
          "plant tissue",
          "plant tissue",
          "plant tissue",
          "plant tissue",
          "plant tissue",
          "plant tissue",
          "plant tissue",
          "plant tissue",
          "plant tissue",
          "plant tissue",
          "plant tissue",
          "plant tissue",
          "plant tissue",
          "plant tissue",
          "plant tissue",
          "plant tissue",
          "plant tissue",
          "plant tissue",
          "plant tissue",
          "oral",
          "oral",
          "oral",
          "oral",
          "oral",
          "oral",
          "oral",
          "gut",
          "oral",
          "oral",
          "oral",
          "oral",
          "oral",
          "oral",
          "oral",
          "oral",
          "oral",
          "oral",
          "oral",
          "oral",
          "oral",
          "oral",
          "oral",
          "oral",
          "oral",
          "oral",
          "oral",
          "oral",
          "oral",
          "oral",
          "oral",
          "oral",
          "oral",
          "oral",
          "oral",
          "oral",
          "oral",
          "oral",
          "oral",
          "oral",
          "oral",
          "gut",
          "gut",
          "oral",
          "oral",
          "oral",
          "oral",
          "oral",
          "oral",
          "oral",
          "oral",
          "oral",
          "oral",
          "oral",
          "oral",
          "oral",
          "oral",
          "oral",
          "oral",
          "oral",
          "oral",
          "oral",
          "oral",
          "oral",
          "oral",
          "oral",
          "oral",
          "oral",
          "oral",
          "oral",
          "oral",
          "oral",
          "oral",
          "oral",
          "oral",
          "oral",
          "oral",
          "oral",
          "oral",
          "oral",
          "oral",
          "oral",
          "oral",
          "oral",
          "oral",
          "oral",
          "oral",
          "oral",
          "oral",
          "oral",
          "oral",
          "oral",
          "oral",
          "oral",
          "oral",
          "oral",
          "oral",
          "oral",
          "oral",
          "oral",
          "oral",
          "oral",
          "oral",
          "oral",
          "oral",
          "oral",
          "oral",
          "oral",
          "oral",
          "oral",
          "oral",
          "oral",
          "oral",
          "oral",
          "oral",
          "oral",
          "oral",
          "oral",
          "oral",
          "oral",
          "oral",
          "oral",
          "oral",
          "oral",
          "oral",
          "oral",
          "oral",
          "oral",
          "oral",
          "oral",
          "oral",
          "oral",
          "oral",
          "oral",
          "oral",
          "oral",
          "oral",
          "oral",
          "oral",
          "oral",
          "oral",
          "oral",
          "oral",
          "oral",
          "oral",
          "oral",
          "oral",
          "oral",
          "oral",
          "oral",
          "oral",
          "oral",
          "oral",
          "oral",
          "oral",
          "oral",
          "oral",
          "oral",
          "oral",
          "oral",
          "oral",
          "oral",
          "oral",
          "oral",
          "oral",
          "oral",
          "oral",
          "oral",
          "oral",
          "oral",
          "oral",
          "oral",
          "oral",
          "oral",
          "oral",
          "oral",
          "oral",
          "oral",
          "oral",
          "oral",
          "oral",
          "oral",
          "oral",
          "oral",
          "oral",
          "oral",
          "oral",
          "oral",
          "oral",
          "oral",
          "oral",
          "oral",
          "oral",
          "oral",
          "oral",
          "oral",
          "oral",
          "oral",
          "oral",
          "oral",
          "oral",
          "oral",
          "oral",
          "oral",
          "oral",
          "oral",
          "oral",
          "oral",
          "oral",
          "oral"
         ],
         "xaxis": "x",
         "yaxis": "y"
        }
       ],
       "layout": {
        "barmode": "relative",
        "legend": {
         "tracegroupgap": 0
        },
        "template": {
         "data": {
          "bar": [
           {
            "error_x": {
             "color": "#2a3f5f"
            },
            "error_y": {
             "color": "#2a3f5f"
            },
            "marker": {
             "line": {
              "color": "#E5ECF6",
              "width": 0.5
             }
            },
            "type": "bar"
           }
          ],
          "barpolar": [
           {
            "marker": {
             "line": {
              "color": "#E5ECF6",
              "width": 0.5
             }
            },
            "type": "barpolar"
           }
          ],
          "carpet": [
           {
            "aaxis": {
             "endlinecolor": "#2a3f5f",
             "gridcolor": "white",
             "linecolor": "white",
             "minorgridcolor": "white",
             "startlinecolor": "#2a3f5f"
            },
            "baxis": {
             "endlinecolor": "#2a3f5f",
             "gridcolor": "white",
             "linecolor": "white",
             "minorgridcolor": "white",
             "startlinecolor": "#2a3f5f"
            },
            "type": "carpet"
           }
          ],
          "choropleth": [
           {
            "colorbar": {
             "outlinewidth": 0,
             "ticks": ""
            },
            "type": "choropleth"
           }
          ],
          "contour": [
           {
            "colorbar": {
             "outlinewidth": 0,
             "ticks": ""
            },
            "colorscale": [
             [
              0,
              "#0d0887"
             ],
             [
              0.1111111111111111,
              "#46039f"
             ],
             [
              0.2222222222222222,
              "#7201a8"
             ],
             [
              0.3333333333333333,
              "#9c179e"
             ],
             [
              0.4444444444444444,
              "#bd3786"
             ],
             [
              0.5555555555555556,
              "#d8576b"
             ],
             [
              0.6666666666666666,
              "#ed7953"
             ],
             [
              0.7777777777777778,
              "#fb9f3a"
             ],
             [
              0.8888888888888888,
              "#fdca26"
             ],
             [
              1,
              "#f0f921"
             ]
            ],
            "type": "contour"
           }
          ],
          "contourcarpet": [
           {
            "colorbar": {
             "outlinewidth": 0,
             "ticks": ""
            },
            "type": "contourcarpet"
           }
          ],
          "heatmap": [
           {
            "colorbar": {
             "outlinewidth": 0,
             "ticks": ""
            },
            "colorscale": [
             [
              0,
              "#0d0887"
             ],
             [
              0.1111111111111111,
              "#46039f"
             ],
             [
              0.2222222222222222,
              "#7201a8"
             ],
             [
              0.3333333333333333,
              "#9c179e"
             ],
             [
              0.4444444444444444,
              "#bd3786"
             ],
             [
              0.5555555555555556,
              "#d8576b"
             ],
             [
              0.6666666666666666,
              "#ed7953"
             ],
             [
              0.7777777777777778,
              "#fb9f3a"
             ],
             [
              0.8888888888888888,
              "#fdca26"
             ],
             [
              1,
              "#f0f921"
             ]
            ],
            "type": "heatmap"
           }
          ],
          "heatmapgl": [
           {
            "colorbar": {
             "outlinewidth": 0,
             "ticks": ""
            },
            "colorscale": [
             [
              0,
              "#0d0887"
             ],
             [
              0.1111111111111111,
              "#46039f"
             ],
             [
              0.2222222222222222,
              "#7201a8"
             ],
             [
              0.3333333333333333,
              "#9c179e"
             ],
             [
              0.4444444444444444,
              "#bd3786"
             ],
             [
              0.5555555555555556,
              "#d8576b"
             ],
             [
              0.6666666666666666,
              "#ed7953"
             ],
             [
              0.7777777777777778,
              "#fb9f3a"
             ],
             [
              0.8888888888888888,
              "#fdca26"
             ],
             [
              1,
              "#f0f921"
             ]
            ],
            "type": "heatmapgl"
           }
          ],
          "histogram": [
           {
            "marker": {
             "colorbar": {
              "outlinewidth": 0,
              "ticks": ""
             }
            },
            "type": "histogram"
           }
          ],
          "histogram2d": [
           {
            "colorbar": {
             "outlinewidth": 0,
             "ticks": ""
            },
            "colorscale": [
             [
              0,
              "#0d0887"
             ],
             [
              0.1111111111111111,
              "#46039f"
             ],
             [
              0.2222222222222222,
              "#7201a8"
             ],
             [
              0.3333333333333333,
              "#9c179e"
             ],
             [
              0.4444444444444444,
              "#bd3786"
             ],
             [
              0.5555555555555556,
              "#d8576b"
             ],
             [
              0.6666666666666666,
              "#ed7953"
             ],
             [
              0.7777777777777778,
              "#fb9f3a"
             ],
             [
              0.8888888888888888,
              "#fdca26"
             ],
             [
              1,
              "#f0f921"
             ]
            ],
            "type": "histogram2d"
           }
          ],
          "histogram2dcontour": [
           {
            "colorbar": {
             "outlinewidth": 0,
             "ticks": ""
            },
            "colorscale": [
             [
              0,
              "#0d0887"
             ],
             [
              0.1111111111111111,
              "#46039f"
             ],
             [
              0.2222222222222222,
              "#7201a8"
             ],
             [
              0.3333333333333333,
              "#9c179e"
             ],
             [
              0.4444444444444444,
              "#bd3786"
             ],
             [
              0.5555555555555556,
              "#d8576b"
             ],
             [
              0.6666666666666666,
              "#ed7953"
             ],
             [
              0.7777777777777778,
              "#fb9f3a"
             ],
             [
              0.8888888888888888,
              "#fdca26"
             ],
             [
              1,
              "#f0f921"
             ]
            ],
            "type": "histogram2dcontour"
           }
          ],
          "mesh3d": [
           {
            "colorbar": {
             "outlinewidth": 0,
             "ticks": ""
            },
            "type": "mesh3d"
           }
          ],
          "parcoords": [
           {
            "line": {
             "colorbar": {
              "outlinewidth": 0,
              "ticks": ""
             }
            },
            "type": "parcoords"
           }
          ],
          "pie": [
           {
            "automargin": true,
            "type": "pie"
           }
          ],
          "scatter": [
           {
            "marker": {
             "colorbar": {
              "outlinewidth": 0,
              "ticks": ""
             }
            },
            "type": "scatter"
           }
          ],
          "scatter3d": [
           {
            "line": {
             "colorbar": {
              "outlinewidth": 0,
              "ticks": ""
             }
            },
            "marker": {
             "colorbar": {
              "outlinewidth": 0,
              "ticks": ""
             }
            },
            "type": "scatter3d"
           }
          ],
          "scattercarpet": [
           {
            "marker": {
             "colorbar": {
              "outlinewidth": 0,
              "ticks": ""
             }
            },
            "type": "scattercarpet"
           }
          ],
          "scattergeo": [
           {
            "marker": {
             "colorbar": {
              "outlinewidth": 0,
              "ticks": ""
             }
            },
            "type": "scattergeo"
           }
          ],
          "scattergl": [
           {
            "marker": {
             "colorbar": {
              "outlinewidth": 0,
              "ticks": ""
             }
            },
            "type": "scattergl"
           }
          ],
          "scattermapbox": [
           {
            "marker": {
             "colorbar": {
              "outlinewidth": 0,
              "ticks": ""
             }
            },
            "type": "scattermapbox"
           }
          ],
          "scatterpolar": [
           {
            "marker": {
             "colorbar": {
              "outlinewidth": 0,
              "ticks": ""
             }
            },
            "type": "scatterpolar"
           }
          ],
          "scatterpolargl": [
           {
            "marker": {
             "colorbar": {
              "outlinewidth": 0,
              "ticks": ""
             }
            },
            "type": "scatterpolargl"
           }
          ],
          "scatterternary": [
           {
            "marker": {
             "colorbar": {
              "outlinewidth": 0,
              "ticks": ""
             }
            },
            "type": "scatterternary"
           }
          ],
          "surface": [
           {
            "colorbar": {
             "outlinewidth": 0,
             "ticks": ""
            },
            "colorscale": [
             [
              0,
              "#0d0887"
             ],
             [
              0.1111111111111111,
              "#46039f"
             ],
             [
              0.2222222222222222,
              "#7201a8"
             ],
             [
              0.3333333333333333,
              "#9c179e"
             ],
             [
              0.4444444444444444,
              "#bd3786"
             ],
             [
              0.5555555555555556,
              "#d8576b"
             ],
             [
              0.6666666666666666,
              "#ed7953"
             ],
             [
              0.7777777777777778,
              "#fb9f3a"
             ],
             [
              0.8888888888888888,
              "#fdca26"
             ],
             [
              1,
              "#f0f921"
             ]
            ],
            "type": "surface"
           }
          ],
          "table": [
           {
            "cells": {
             "fill": {
              "color": "#EBF0F8"
             },
             "line": {
              "color": "white"
             }
            },
            "header": {
             "fill": {
              "color": "#C8D4E3"
             },
             "line": {
              "color": "white"
             }
            },
            "type": "table"
           }
          ]
         },
         "layout": {
          "annotationdefaults": {
           "arrowcolor": "#2a3f5f",
           "arrowhead": 0,
           "arrowwidth": 1
          },
          "autotypenumbers": "strict",
          "coloraxis": {
           "colorbar": {
            "outlinewidth": 0,
            "ticks": ""
           }
          },
          "colorscale": {
           "diverging": [
            [
             0,
             "#8e0152"
            ],
            [
             0.1,
             "#c51b7d"
            ],
            [
             0.2,
             "#de77ae"
            ],
            [
             0.3,
             "#f1b6da"
            ],
            [
             0.4,
             "#fde0ef"
            ],
            [
             0.5,
             "#f7f7f7"
            ],
            [
             0.6,
             "#e6f5d0"
            ],
            [
             0.7,
             "#b8e186"
            ],
            [
             0.8,
             "#7fbc41"
            ],
            [
             0.9,
             "#4d9221"
            ],
            [
             1,
             "#276419"
            ]
           ],
           "sequential": [
            [
             0,
             "#0d0887"
            ],
            [
             0.1111111111111111,
             "#46039f"
            ],
            [
             0.2222222222222222,
             "#7201a8"
            ],
            [
             0.3333333333333333,
             "#9c179e"
            ],
            [
             0.4444444444444444,
             "#bd3786"
            ],
            [
             0.5555555555555556,
             "#d8576b"
            ],
            [
             0.6666666666666666,
             "#ed7953"
            ],
            [
             0.7777777777777778,
             "#fb9f3a"
            ],
            [
             0.8888888888888888,
             "#fdca26"
            ],
            [
             1,
             "#f0f921"
            ]
           ],
           "sequentialminus": [
            [
             0,
             "#0d0887"
            ],
            [
             0.1111111111111111,
             "#46039f"
            ],
            [
             0.2222222222222222,
             "#7201a8"
            ],
            [
             0.3333333333333333,
             "#9c179e"
            ],
            [
             0.4444444444444444,
             "#bd3786"
            ],
            [
             0.5555555555555556,
             "#d8576b"
            ],
            [
             0.6666666666666666,
             "#ed7953"
            ],
            [
             0.7777777777777778,
             "#fb9f3a"
            ],
            [
             0.8888888888888888,
             "#fdca26"
            ],
            [
             1,
             "#f0f921"
            ]
           ]
          },
          "colorway": [
           "#636efa",
           "#EF553B",
           "#00cc96",
           "#ab63fa",
           "#FFA15A",
           "#19d3f3",
           "#FF6692",
           "#B6E880",
           "#FF97FF",
           "#FECB52"
          ],
          "font": {
           "color": "#2a3f5f"
          },
          "geo": {
           "bgcolor": "white",
           "lakecolor": "white",
           "landcolor": "#E5ECF6",
           "showlakes": true,
           "showland": true,
           "subunitcolor": "white"
          },
          "hoverlabel": {
           "align": "left"
          },
          "hovermode": "closest",
          "mapbox": {
           "style": "light"
          },
          "paper_bgcolor": "white",
          "plot_bgcolor": "#E5ECF6",
          "polar": {
           "angularaxis": {
            "gridcolor": "white",
            "linecolor": "white",
            "ticks": ""
           },
           "bgcolor": "#E5ECF6",
           "radialaxis": {
            "gridcolor": "white",
            "linecolor": "white",
            "ticks": ""
           }
          },
          "scene": {
           "xaxis": {
            "backgroundcolor": "#E5ECF6",
            "gridcolor": "white",
            "gridwidth": 2,
            "linecolor": "white",
            "showbackground": true,
            "ticks": "",
            "zerolinecolor": "white"
           },
           "yaxis": {
            "backgroundcolor": "#E5ECF6",
            "gridcolor": "white",
            "gridwidth": 2,
            "linecolor": "white",
            "showbackground": true,
            "ticks": "",
            "zerolinecolor": "white"
           },
           "zaxis": {
            "backgroundcolor": "#E5ECF6",
            "gridcolor": "white",
            "gridwidth": 2,
            "linecolor": "white",
            "showbackground": true,
            "ticks": "",
            "zerolinecolor": "white"
           }
          },
          "shapedefaults": {
           "line": {
            "color": "#2a3f5f"
           }
          },
          "ternary": {
           "aaxis": {
            "gridcolor": "white",
            "linecolor": "white",
            "ticks": ""
           },
           "baxis": {
            "gridcolor": "white",
            "linecolor": "white",
            "ticks": ""
           },
           "bgcolor": "#E5ECF6",
           "caxis": {
            "gridcolor": "white",
            "linecolor": "white",
            "ticks": ""
           }
          },
          "title": {
           "x": 0.05
          },
          "xaxis": {
           "automargin": true,
           "gridcolor": "white",
           "linecolor": "white",
           "ticks": "",
           "title": {
            "standoff": 15
           },
           "zerolinecolor": "white",
           "zerolinewidth": 2
          },
          "yaxis": {
           "automargin": true,
           "gridcolor": "white",
           "linecolor": "white",
           "ticks": "",
           "title": {
            "standoff": 15
           },
           "zerolinecolor": "white",
           "zerolinewidth": 2
          }
         }
        },
        "title": {
         "text": "Community type"
        },
        "xaxis": {
         "anchor": "y",
         "domain": [
          0,
          1
         ],
         "title": {
          "text": "community_type"
         }
        },
        "yaxis": {
         "anchor": "x",
         "domain": [
          0,
          1
         ],
         "title": {
          "text": "count"
         }
        }
       }
      },
      "text/html": [
       "<div>                            <div id=\"b417b5bb-d991-4df7-abbc-9f03fc4afc77\" class=\"plotly-graph-div\" style=\"height:525px; width:100%;\"></div>            <script type=\"text/javascript\">                require([\"plotly\"], function(Plotly) {                    window.PLOTLYENV=window.PLOTLYENV || {};                                    if (document.getElementById(\"b417b5bb-d991-4df7-abbc-9f03fc4afc77\")) {                    Plotly.newPlot(                        \"b417b5bb-d991-4df7-abbc-9f03fc4afc77\",                        [{\"alignmentgroup\": \"True\", \"bingroup\": \"x\", \"hovertemplate\": \"community_type=%{x}<br>count=%{y}<extra></extra>\", \"legendgroup\": \"\", \"marker\": {\"color\": \"#636efa\"}, \"name\": \"\", \"offsetgroup\": \"\", \"orientation\": \"v\", \"showlegend\": false, \"type\": \"histogram\", \"x\": [\"oral\", \"oral\", \"oral\", \"oral\", \"oral\", \"oral\", \"oral\", \"oral\", \"oral\", \"oral\", \"oral\", \"oral\", \"oral\", \"oral\", \"oral\", \"oral\", \"oral\", \"oral\", \"oral\", \"oral\", \"oral\", \"oral\", \"oral\", \"oral\", \"oral\", \"oral\", \"oral\", \"oral\", \"oral\", \"oral\", \"oral\", \"oral\", \"oral\", \"oral\", \"oral\", \"oral\", \"oral\", \"oral\", \"oral\", \"oral\", \"oral\", \"oral\", \"oral\", \"oral\", \"oral\", \"oral\", \"oral\", \"oral\", \"oral\", \"oral\", \"oral\", \"oral\", \"oral\", \"oral\", \"oral\", \"oral\", \"oral\", \"oral\", \"oral\", \"oral\", \"oral\", \"oral\", \"oral\", \"oral\", \"oral\", \"oral\", \"oral\", \"oral\", \"oral\", \"oral\", \"oral\", \"skeletal tissue\", \"skeletal tissue\", \"skeletal tissue\", \"skeletal tissue\", \"skeletal tissue\", \"skeletal tissue\", \"skeletal tissue\", \"skeletal tissue\", \"skeletal tissue\", \"skeletal tissue\", \"skeletal tissue\", \"skeletal tissue\", \"skeletal tissue\", \"skeletal tissue\", \"skeletal tissue\", \"skeletal tissue\", \"skeletal tissue\", \"skeletal tissue\", \"skeletal tissue\", \"skeletal tissue\", \"skeletal tissue\", \"skeletal tissue\", \"skeletal tissue\", \"skeletal tissue\", \"skeletal tissue\", \"skeletal tissue\", \"skeletal tissue\", \"skeletal tissue\", \"skeletal tissue\", \"skeletal tissue\", \"skeletal tissue\", \"skeletal tissue\", \"skeletal tissue\", \"skeletal tissue\", \"skeletal tissue\", \"skeletal tissue\", \"skeletal tissue\", \"skeletal tissue\", \"skeletal tissue\", \"skeletal tissue\", \"skeletal tissue\", \"skeletal tissue\", \"skeletal tissue\", \"skeletal tissue\", \"skeletal tissue\", \"skeletal tissue\", \"skeletal tissue\", \"skeletal tissue\", \"skeletal tissue\", \"skeletal tissue\", \"skeletal tissue\", \"skeletal tissue\", \"skeletal tissue\", \"skeletal tissue\", \"skeletal tissue\", \"skeletal tissue\", \"skeletal tissue\", \"skeletal tissue\", \"skeletal tissue\", \"skeletal tissue\", \"oral\", \"oral\", \"oral\", \"oral\", \"oral\", \"oral\", \"oral\", \"oral\", \"oral\", \"oral\", \"oral\", \"oral\", \"oral\", \"oral\", \"oral\", \"oral\", \"oral\", \"oral\", \"oral\", \"skeletal tissue\", \"skeletal tissue\", \"skeletal tissue\", \"skeletal tissue\", \"skeletal tissue\", \"skeletal tissue\", \"skeletal tissue\", \"skeletal tissue\", \"skeletal tissue\", \"oral\", \"oral\", \"skeletal tissue\", \"skeletal tissue\", \"oral\", \"soft tissue\", \"soft tissue\", \"soft tissue\", \"soft tissue\", \"soft tissue\", \"soft tissue\", \"soft tissue\", \"soft tissue\", \"skeletal tissue\", \"soft tissue\", \"soft tissue\", \"soft tissue\", \"skeletal tissue\", \"soft tissue\", \"soft tissue\", \"soft tissue\", \"skeletal tissue\", \"soft tissue\", \"soft tissue\", \"soft tissue\", \"skeletal tissue\", \"skeletal tissue\", \"skeletal tissue\", \"skeletal tissue\", \"skeletal tissue\", \"skeletal tissue\", \"skeletal tissue\", \"skeletal tissue\", \"plant tissue\", \"plant tissue\", \"plant tissue\", \"plant tissue\", \"plant tissue\", \"plant tissue\", \"plant tissue\", \"plant tissue\", \"plant tissue\", \"plant tissue\", \"plant tissue\", \"plant tissue\", \"plant tissue\", \"plant tissue\", \"plant tissue\", \"plant tissue\", \"plant tissue\", \"plant tissue\", \"plant tissue\", \"plant tissue\", \"plant tissue\", \"plant tissue\", \"plant tissue\", \"plant tissue\", \"plant tissue\", \"plant tissue\", \"plant tissue\", \"plant tissue\", \"plant tissue\", \"plant tissue\", \"plant tissue\", \"plant tissue\", \"plant tissue\", \"plant tissue\", \"plant tissue\", \"plant tissue\", \"plant tissue\", \"plant tissue\", \"plant tissue\", \"plant tissue\", \"plant tissue\", \"plant tissue\", \"plant tissue\", \"plant tissue\", \"plant tissue\", \"oral\", \"oral\", \"oral\", \"oral\", \"oral\", \"oral\", \"oral\", \"gut\", \"oral\", \"oral\", \"oral\", \"oral\", \"oral\", \"oral\", \"oral\", \"oral\", \"oral\", \"oral\", \"oral\", \"oral\", \"oral\", \"oral\", \"oral\", \"oral\", \"oral\", \"oral\", \"oral\", \"oral\", \"oral\", \"oral\", \"oral\", \"oral\", \"oral\", \"oral\", \"oral\", \"oral\", \"oral\", \"oral\", \"oral\", \"oral\", \"oral\", \"gut\", \"gut\", \"oral\", \"oral\", \"oral\", \"oral\", \"oral\", \"oral\", \"oral\", \"oral\", \"oral\", \"oral\", \"oral\", \"oral\", \"oral\", \"oral\", \"oral\", \"oral\", \"oral\", \"oral\", \"oral\", \"oral\", \"oral\", \"oral\", \"oral\", \"oral\", \"oral\", \"oral\", \"oral\", \"oral\", \"oral\", \"oral\", \"oral\", \"oral\", \"oral\", \"oral\", \"oral\", \"oral\", \"oral\", \"oral\", \"oral\", \"oral\", \"oral\", \"oral\", \"oral\", \"oral\", \"oral\", \"oral\", \"oral\", \"oral\", \"oral\", \"oral\", \"oral\", \"oral\", \"oral\", \"oral\", \"oral\", \"oral\", \"oral\", \"oral\", \"oral\", \"oral\", \"oral\", \"oral\", \"oral\", \"oral\", \"oral\", \"oral\", \"oral\", \"oral\", \"oral\", \"oral\", \"oral\", \"oral\", \"oral\", \"oral\", \"oral\", \"oral\", \"oral\", \"oral\", \"oral\", \"oral\", \"oral\", \"oral\", \"oral\", \"oral\", \"oral\", \"oral\", \"oral\", \"oral\", \"oral\", \"oral\", \"oral\", \"oral\", \"oral\", \"oral\", \"oral\", \"oral\", \"oral\", \"oral\", \"oral\", \"oral\", \"oral\", \"oral\", \"oral\", \"oral\", \"oral\", \"oral\", \"oral\", \"oral\", \"oral\", \"oral\", \"oral\", \"oral\", \"oral\", \"oral\", \"oral\", \"oral\", \"oral\", \"oral\", \"oral\", \"oral\", \"oral\", \"oral\", \"oral\", \"oral\", \"oral\", \"oral\", \"oral\", \"oral\", \"oral\", \"oral\", \"oral\", \"oral\", \"oral\", \"oral\", \"oral\", \"oral\", \"oral\", \"oral\", \"oral\", \"oral\", \"oral\", \"oral\", \"oral\", \"oral\", \"oral\", \"oral\", \"oral\", \"oral\", \"oral\", \"oral\", \"oral\", \"oral\", \"oral\", \"oral\", \"oral\", \"oral\", \"oral\", \"oral\", \"oral\", \"oral\", \"oral\", \"oral\", \"oral\", \"oral\", \"oral\", \"oral\", \"oral\"], \"xaxis\": \"x\", \"yaxis\": \"y\"}],                        {\"barmode\": \"relative\", \"legend\": {\"tracegroupgap\": 0}, \"template\": {\"data\": {\"bar\": [{\"error_x\": {\"color\": \"#2a3f5f\"}, \"error_y\": {\"color\": \"#2a3f5f\"}, \"marker\": {\"line\": {\"color\": \"#E5ECF6\", \"width\": 0.5}}, \"type\": \"bar\"}], \"barpolar\": [{\"marker\": {\"line\": {\"color\": \"#E5ECF6\", \"width\": 0.5}}, \"type\": \"barpolar\"}], \"carpet\": [{\"aaxis\": {\"endlinecolor\": \"#2a3f5f\", \"gridcolor\": \"white\", \"linecolor\": \"white\", \"minorgridcolor\": \"white\", \"startlinecolor\": \"#2a3f5f\"}, \"baxis\": {\"endlinecolor\": \"#2a3f5f\", \"gridcolor\": \"white\", \"linecolor\": \"white\", \"minorgridcolor\": \"white\", \"startlinecolor\": \"#2a3f5f\"}, \"type\": \"carpet\"}], \"choropleth\": [{\"colorbar\": {\"outlinewidth\": 0, \"ticks\": \"\"}, \"type\": \"choropleth\"}], \"contour\": [{\"colorbar\": {\"outlinewidth\": 0, \"ticks\": \"\"}, \"colorscale\": [[0.0, \"#0d0887\"], [0.1111111111111111, \"#46039f\"], [0.2222222222222222, \"#7201a8\"], [0.3333333333333333, \"#9c179e\"], [0.4444444444444444, \"#bd3786\"], [0.5555555555555556, \"#d8576b\"], [0.6666666666666666, \"#ed7953\"], [0.7777777777777778, \"#fb9f3a\"], [0.8888888888888888, \"#fdca26\"], [1.0, \"#f0f921\"]], \"type\": \"contour\"}], \"contourcarpet\": [{\"colorbar\": {\"outlinewidth\": 0, \"ticks\": \"\"}, \"type\": \"contourcarpet\"}], \"heatmap\": [{\"colorbar\": {\"outlinewidth\": 0, \"ticks\": \"\"}, \"colorscale\": [[0.0, \"#0d0887\"], [0.1111111111111111, \"#46039f\"], [0.2222222222222222, \"#7201a8\"], [0.3333333333333333, \"#9c179e\"], [0.4444444444444444, \"#bd3786\"], [0.5555555555555556, \"#d8576b\"], [0.6666666666666666, \"#ed7953\"], [0.7777777777777778, \"#fb9f3a\"], [0.8888888888888888, \"#fdca26\"], [1.0, \"#f0f921\"]], \"type\": \"heatmap\"}], \"heatmapgl\": [{\"colorbar\": {\"outlinewidth\": 0, \"ticks\": \"\"}, \"colorscale\": [[0.0, \"#0d0887\"], [0.1111111111111111, \"#46039f\"], [0.2222222222222222, \"#7201a8\"], [0.3333333333333333, \"#9c179e\"], [0.4444444444444444, \"#bd3786\"], [0.5555555555555556, \"#d8576b\"], [0.6666666666666666, \"#ed7953\"], [0.7777777777777778, \"#fb9f3a\"], [0.8888888888888888, \"#fdca26\"], [1.0, \"#f0f921\"]], \"type\": \"heatmapgl\"}], \"histogram\": [{\"marker\": {\"colorbar\": {\"outlinewidth\": 0, \"ticks\": \"\"}}, \"type\": \"histogram\"}], \"histogram2d\": [{\"colorbar\": {\"outlinewidth\": 0, \"ticks\": \"\"}, \"colorscale\": [[0.0, \"#0d0887\"], [0.1111111111111111, \"#46039f\"], [0.2222222222222222, \"#7201a8\"], [0.3333333333333333, \"#9c179e\"], [0.4444444444444444, \"#bd3786\"], [0.5555555555555556, \"#d8576b\"], [0.6666666666666666, \"#ed7953\"], [0.7777777777777778, \"#fb9f3a\"], [0.8888888888888888, \"#fdca26\"], [1.0, \"#f0f921\"]], \"type\": \"histogram2d\"}], \"histogram2dcontour\": [{\"colorbar\": {\"outlinewidth\": 0, \"ticks\": \"\"}, \"colorscale\": [[0.0, \"#0d0887\"], [0.1111111111111111, \"#46039f\"], [0.2222222222222222, \"#7201a8\"], [0.3333333333333333, \"#9c179e\"], [0.4444444444444444, \"#bd3786\"], [0.5555555555555556, \"#d8576b\"], [0.6666666666666666, \"#ed7953\"], [0.7777777777777778, \"#fb9f3a\"], [0.8888888888888888, \"#fdca26\"], [1.0, \"#f0f921\"]], \"type\": \"histogram2dcontour\"}], \"mesh3d\": [{\"colorbar\": {\"outlinewidth\": 0, \"ticks\": \"\"}, \"type\": \"mesh3d\"}], \"parcoords\": [{\"line\": {\"colorbar\": {\"outlinewidth\": 0, \"ticks\": \"\"}}, \"type\": \"parcoords\"}], \"pie\": [{\"automargin\": true, \"type\": \"pie\"}], \"scatter\": [{\"marker\": {\"colorbar\": {\"outlinewidth\": 0, \"ticks\": \"\"}}, \"type\": \"scatter\"}], \"scatter3d\": [{\"line\": {\"colorbar\": {\"outlinewidth\": 0, \"ticks\": \"\"}}, \"marker\": {\"colorbar\": {\"outlinewidth\": 0, \"ticks\": \"\"}}, \"type\": \"scatter3d\"}], \"scattercarpet\": [{\"marker\": {\"colorbar\": {\"outlinewidth\": 0, \"ticks\": \"\"}}, \"type\": \"scattercarpet\"}], \"scattergeo\": [{\"marker\": {\"colorbar\": {\"outlinewidth\": 0, \"ticks\": \"\"}}, \"type\": \"scattergeo\"}], \"scattergl\": [{\"marker\": {\"colorbar\": {\"outlinewidth\": 0, \"ticks\": \"\"}}, \"type\": \"scattergl\"}], \"scattermapbox\": [{\"marker\": {\"colorbar\": {\"outlinewidth\": 0, \"ticks\": \"\"}}, \"type\": \"scattermapbox\"}], \"scatterpolar\": [{\"marker\": {\"colorbar\": {\"outlinewidth\": 0, \"ticks\": \"\"}}, \"type\": \"scatterpolar\"}], \"scatterpolargl\": [{\"marker\": {\"colorbar\": {\"outlinewidth\": 0, \"ticks\": \"\"}}, \"type\": \"scatterpolargl\"}], \"scatterternary\": [{\"marker\": {\"colorbar\": {\"outlinewidth\": 0, \"ticks\": \"\"}}, \"type\": \"scatterternary\"}], \"surface\": [{\"colorbar\": {\"outlinewidth\": 0, \"ticks\": \"\"}, \"colorscale\": [[0.0, \"#0d0887\"], [0.1111111111111111, \"#46039f\"], [0.2222222222222222, \"#7201a8\"], [0.3333333333333333, \"#9c179e\"], [0.4444444444444444, \"#bd3786\"], [0.5555555555555556, \"#d8576b\"], [0.6666666666666666, \"#ed7953\"], [0.7777777777777778, \"#fb9f3a\"], [0.8888888888888888, \"#fdca26\"], [1.0, \"#f0f921\"]], \"type\": \"surface\"}], \"table\": [{\"cells\": {\"fill\": {\"color\": \"#EBF0F8\"}, \"line\": {\"color\": \"white\"}}, \"header\": {\"fill\": {\"color\": \"#C8D4E3\"}, \"line\": {\"color\": \"white\"}}, \"type\": \"table\"}]}, \"layout\": {\"annotationdefaults\": {\"arrowcolor\": \"#2a3f5f\", \"arrowhead\": 0, \"arrowwidth\": 1}, \"autotypenumbers\": \"strict\", \"coloraxis\": {\"colorbar\": {\"outlinewidth\": 0, \"ticks\": \"\"}}, \"colorscale\": {\"diverging\": [[0, \"#8e0152\"], [0.1, \"#c51b7d\"], [0.2, \"#de77ae\"], [0.3, \"#f1b6da\"], [0.4, \"#fde0ef\"], [0.5, \"#f7f7f7\"], [0.6, \"#e6f5d0\"], [0.7, \"#b8e186\"], [0.8, \"#7fbc41\"], [0.9, \"#4d9221\"], [1, \"#276419\"]], \"sequential\": [[0.0, \"#0d0887\"], [0.1111111111111111, \"#46039f\"], [0.2222222222222222, \"#7201a8\"], [0.3333333333333333, \"#9c179e\"], [0.4444444444444444, \"#bd3786\"], [0.5555555555555556, \"#d8576b\"], [0.6666666666666666, \"#ed7953\"], [0.7777777777777778, \"#fb9f3a\"], [0.8888888888888888, \"#fdca26\"], [1.0, \"#f0f921\"]], \"sequentialminus\": [[0.0, \"#0d0887\"], [0.1111111111111111, \"#46039f\"], [0.2222222222222222, \"#7201a8\"], [0.3333333333333333, \"#9c179e\"], [0.4444444444444444, \"#bd3786\"], [0.5555555555555556, \"#d8576b\"], [0.6666666666666666, \"#ed7953\"], [0.7777777777777778, \"#fb9f3a\"], [0.8888888888888888, \"#fdca26\"], [1.0, \"#f0f921\"]]}, \"colorway\": [\"#636efa\", \"#EF553B\", \"#00cc96\", \"#ab63fa\", \"#FFA15A\", \"#19d3f3\", \"#FF6692\", \"#B6E880\", \"#FF97FF\", \"#FECB52\"], \"font\": {\"color\": \"#2a3f5f\"}, \"geo\": {\"bgcolor\": \"white\", \"lakecolor\": \"white\", \"landcolor\": \"#E5ECF6\", \"showlakes\": true, \"showland\": true, \"subunitcolor\": \"white\"}, \"hoverlabel\": {\"align\": \"left\"}, \"hovermode\": \"closest\", \"mapbox\": {\"style\": \"light\"}, \"paper_bgcolor\": \"white\", \"plot_bgcolor\": \"#E5ECF6\", \"polar\": {\"angularaxis\": {\"gridcolor\": \"white\", \"linecolor\": \"white\", \"ticks\": \"\"}, \"bgcolor\": \"#E5ECF6\", \"radialaxis\": {\"gridcolor\": \"white\", \"linecolor\": \"white\", \"ticks\": \"\"}}, \"scene\": {\"xaxis\": {\"backgroundcolor\": \"#E5ECF6\", \"gridcolor\": \"white\", \"gridwidth\": 2, \"linecolor\": \"white\", \"showbackground\": true, \"ticks\": \"\", \"zerolinecolor\": \"white\"}, \"yaxis\": {\"backgroundcolor\": \"#E5ECF6\", \"gridcolor\": \"white\", \"gridwidth\": 2, \"linecolor\": \"white\", \"showbackground\": true, \"ticks\": \"\", \"zerolinecolor\": \"white\"}, \"zaxis\": {\"backgroundcolor\": \"#E5ECF6\", \"gridcolor\": \"white\", \"gridwidth\": 2, \"linecolor\": \"white\", \"showbackground\": true, \"ticks\": \"\", \"zerolinecolor\": \"white\"}}, \"shapedefaults\": {\"line\": {\"color\": \"#2a3f5f\"}}, \"ternary\": {\"aaxis\": {\"gridcolor\": \"white\", \"linecolor\": \"white\", \"ticks\": \"\"}, \"baxis\": {\"gridcolor\": \"white\", \"linecolor\": \"white\", \"ticks\": \"\"}, \"bgcolor\": \"#E5ECF6\", \"caxis\": {\"gridcolor\": \"white\", \"linecolor\": \"white\", \"ticks\": \"\"}}, \"title\": {\"x\": 0.05}, \"xaxis\": {\"automargin\": true, \"gridcolor\": \"white\", \"linecolor\": \"white\", \"ticks\": \"\", \"title\": {\"standoff\": 15}, \"zerolinecolor\": \"white\", \"zerolinewidth\": 2}, \"yaxis\": {\"automargin\": true, \"gridcolor\": \"white\", \"linecolor\": \"white\", \"ticks\": \"\", \"title\": {\"standoff\": 15}, \"zerolinecolor\": \"white\", \"zerolinewidth\": 2}}}, \"title\": {\"text\": \"Community type\"}, \"xaxis\": {\"anchor\": \"y\", \"domain\": [0.0, 1.0], \"title\": {\"text\": \"community_type\"}}, \"yaxis\": {\"anchor\": \"x\", \"domain\": [0.0, 1.0], \"title\": {\"text\": \"count\"}}},                        {\"responsive\": true}                    ).then(function(){\n",
       "                            \n",
       "var gd = document.getElementById('b417b5bb-d991-4df7-abbc-9f03fc4afc77');\n",
       "var x = new MutationObserver(function (mutations, observer) {{\n",
       "        var display = window.getComputedStyle(gd).display;\n",
       "        if (!display || display === 'none') {{\n",
       "            console.log([gd, 'removed!']);\n",
       "            Plotly.purge(gd);\n",
       "            observer.disconnect();\n",
       "        }}\n",
       "}});\n",
       "\n",
       "// Listen for the removal of the full notebook cells\n",
       "var notebookContainer = gd.closest('#notebook-container');\n",
       "if (notebookContainer) {{\n",
       "    x.observe(notebookContainer, {childList: true});\n",
       "}}\n",
       "\n",
       "// Listen for the clearing of the current output cell\n",
       "var outputEl = gd.closest('.output');\n",
       "if (outputEl) {{\n",
       "    x.observe(outputEl, {childList: true});\n",
       "}}\n",
       "\n",
       "                        })                };                });            </script>        </div>"
      ]
     },
     "metadata": {},
     "output_type": "display_data"
    }
   ],
   "source": [
    "fig = px.histogram(aMetagenomes_metadata, x=\"community_type\",title=\"Community type\")\n",
    "fig.show()"
   ]
  },
  {
   "cell_type": "code",
   "execution_count": 57,
   "metadata": {},
   "outputs": [
    {
     "data": {
      "application/vnd.plotly.v1+json": {
       "config": {
        "plotlyServerURL": "https://plot.ly"
       },
       "data": [
        {
         "alignmentgroup": "True",
         "bingroup": "x",
         "hovertemplate": "material=%{x}<br>count=%{y}<extra></extra>",
         "legendgroup": "",
         "marker": {
          "color": "#636efa"
         },
         "name": "",
         "offsetgroup": "",
         "orientation": "v",
         "showlegend": false,
         "type": "histogram",
         "x": [
          "dental calculus",
          "dental calculus",
          "dental calculus",
          "dental calculus",
          "dental calculus",
          "dental calculus",
          "dental calculus",
          "dental calculus",
          "dental calculus",
          "dental calculus",
          "dental calculus",
          "dental calculus",
          "dental calculus",
          "dental calculus",
          "dental calculus",
          "dental calculus",
          "dental calculus",
          "dental calculus",
          "dental calculus",
          "dental calculus",
          "dental calculus",
          "dental calculus",
          "dental calculus",
          "dental calculus",
          "dental calculus",
          "dental calculus",
          "dental calculus",
          "dental calculus",
          "dental calculus",
          "dental calculus",
          "dental calculus",
          "dental calculus",
          "dental calculus",
          "dental calculus",
          "dental calculus",
          "dental calculus",
          "dental calculus",
          "dental calculus",
          "dental calculus",
          "dental calculus",
          "dental calculus",
          "dental calculus",
          "dental calculus",
          "dental calculus",
          "dental calculus",
          "dental calculus",
          "dental calculus",
          "dental calculus",
          "dental calculus",
          "dental calculus",
          "dental calculus",
          "dental calculus",
          "dental calculus",
          "dental calculus",
          "dental calculus",
          "dental calculus",
          "dental calculus",
          "dental calculus",
          "dental calculus",
          "dental calculus",
          "dental calculus",
          "dental calculus",
          "dental calculus",
          "dental calculus",
          "dental calculus",
          "dental calculus",
          "dental calculus",
          "dental calculus",
          "dental calculus",
          "dental calculus",
          "dental calculus",
          "tooth",
          "tooth",
          "tooth",
          "tooth",
          "tooth",
          "tooth",
          "tooth",
          "tooth",
          "tooth",
          "tooth",
          "tooth",
          "tooth",
          "tooth",
          "tooth",
          "tooth",
          "tooth",
          "tooth",
          "tooth",
          "tooth",
          "tooth",
          "tooth",
          "tooth",
          "tooth",
          "tooth",
          "tooth",
          "tooth",
          "tooth",
          "tooth",
          "tooth",
          "tooth",
          "tooth",
          "tooth",
          "tooth",
          "tooth",
          "tooth",
          "tooth",
          "tooth",
          "tooth",
          "tooth",
          "tooth",
          "tooth",
          "tooth",
          "tooth",
          "tooth",
          "tooth",
          "tooth",
          "tooth",
          "tooth",
          "tooth",
          "tooth",
          "tooth",
          "tooth",
          "tooth",
          "tooth",
          "tooth",
          "tooth",
          "tooth",
          "tooth",
          "tooth",
          "tooth",
          "dental calculus",
          "dental calculus",
          "dental calculus",
          "dental calculus",
          "dental calculus",
          "dental calculus",
          "dental calculus",
          "dental calculus",
          "dental calculus",
          "dental calculus",
          "dental calculus",
          "dental calculus",
          "dental calculus",
          "dental calculus",
          "dental calculus",
          "dental calculus",
          "dental calculus",
          "dental calculus",
          "dental calculus",
          "tooth",
          "tooth",
          "tooth",
          "tooth",
          "tooth",
          "tooth",
          "bone",
          "bone",
          "bone",
          "dental calculus",
          "dental calculus",
          "tooth",
          "tooth",
          "dental calculus",
          "muscle tissue",
          "muscle tissue",
          "buccal fat pad",
          "omentum",
          "peritoneum",
          "intestine",
          "intestine",
          "caecum",
          "bone",
          "keratinous claw",
          "muscle tissue",
          "skin",
          "bone",
          "keratinous claw",
          "muscle tissue",
          "skin",
          "bone",
          "keratinous claw",
          "muscle tissue",
          "skin",
          "bone",
          "bone",
          "bone",
          "bone",
          "bone",
          "bone",
          "bone",
          "bone",
          "leaf",
          "leaf",
          "leaf",
          "leaf",
          "leaf",
          "leaf",
          "leaf",
          "leaf",
          "leaf",
          "leaf",
          "leaf",
          "leaf",
          "leaf",
          "leaf",
          "leaf",
          "leaf",
          "leaf",
          "leaf",
          "leaf",
          "leaf",
          "leaf",
          "leaf",
          "leaf",
          "leaf",
          "leaf",
          "leaf",
          "leaf",
          "leaf",
          "leaf",
          "leaf",
          "leaf",
          "leaf",
          "leaf",
          "leaf",
          "leaf",
          "leaf",
          "leaf",
          "leaf",
          "leaf",
          "leaf",
          "leaf",
          "leaf",
          "leaf",
          "leaf",
          "leaf",
          "dental calculus",
          "dental calculus",
          "dental calculus",
          "dental calculus",
          "dental calculus",
          "dental calculus",
          "dental calculus",
          "palaeofaeces",
          "dental calculus",
          "dental calculus",
          "dental calculus",
          "dental calculus",
          "dental calculus",
          "dental calculus",
          "dental calculus",
          "dental calculus",
          "dental calculus",
          "dental calculus",
          "dental calculus",
          "dental calculus",
          "dental calculus",
          "dental calculus",
          "dental calculus",
          "dental calculus",
          "dental calculus",
          "dental calculus",
          "dental calculus",
          "dental calculus",
          "dental calculus",
          "dental calculus",
          "dental calculus",
          "dental calculus",
          "dental calculus",
          "dental calculus",
          "dental calculus",
          "dental calculus",
          "dental calculus",
          "dental calculus",
          "dental calculus",
          "dental calculus",
          "dental calculus",
          "latrine",
          "latrine",
          "dental calculus",
          "dental calculus",
          "tooth",
          "tooth",
          "tooth",
          "tooth",
          "tooth",
          "tooth",
          "tooth",
          "tooth",
          "tooth",
          "tooth",
          "tooth",
          "tooth",
          "tooth",
          "tooth",
          "tooth",
          "tooth",
          "tooth",
          "tooth",
          "tooth",
          "tooth",
          "tooth",
          "tooth",
          "tooth",
          "tooth",
          "tooth",
          "tooth",
          "tooth",
          "tooth",
          "tooth",
          "tooth",
          "tooth",
          "tooth",
          "tooth",
          "tooth",
          "tooth",
          "tooth",
          "tooth",
          "tooth",
          "tooth",
          "tooth",
          "tooth",
          "tooth",
          "tooth",
          "tooth",
          "tooth",
          "tooth",
          "tooth",
          "tooth",
          "tooth",
          "tooth",
          "tooth",
          "tooth",
          "tooth",
          "tooth",
          "tooth",
          "tooth",
          "tooth",
          "tooth",
          "tooth",
          "tooth",
          "tooth",
          "tooth",
          "tooth",
          "tooth",
          "tooth",
          "tooth",
          "tooth",
          "tooth",
          "tooth",
          "tooth",
          "tooth",
          "tooth",
          "tooth",
          "tooth",
          "tooth",
          "tooth",
          "tooth",
          "tooth",
          "tooth",
          "tooth",
          "tooth",
          "tooth",
          "tooth",
          "tooth",
          "tooth",
          "tooth",
          "tooth",
          "tooth",
          "tooth",
          "tooth",
          "tooth",
          "tooth",
          "tooth",
          "tooth",
          "tooth",
          "tooth",
          "tooth",
          "tooth",
          "tooth",
          "tooth",
          "tooth",
          "tooth",
          "tooth",
          "tooth",
          "tooth",
          "tooth",
          "tooth",
          "tooth",
          "tooth",
          "tooth",
          "tooth",
          "tooth",
          "tooth",
          "tooth",
          "tooth",
          "tooth",
          "tooth",
          "tooth",
          "tooth",
          "tooth",
          "tooth",
          "tooth",
          "tooth",
          "tooth",
          "tooth",
          "tooth",
          "tooth",
          "tooth",
          "tooth",
          "tooth",
          "tooth",
          "tooth",
          "tooth",
          "tooth",
          "tooth",
          "tooth",
          "tooth",
          "tooth",
          "tooth",
          "tooth",
          "tooth",
          "tooth",
          "tooth",
          "tooth",
          "tooth",
          "tooth",
          "tooth",
          "tooth",
          "tooth",
          "tooth",
          "tooth",
          "tooth",
          "tooth",
          "tooth",
          "tooth",
          "tooth",
          "tooth",
          "tooth",
          "tooth",
          "tooth",
          "tooth",
          "tooth",
          "tooth",
          "tooth",
          "tooth"
         ],
         "xaxis": "x",
         "yaxis": "y"
        }
       ],
       "layout": {
        "barmode": "relative",
        "legend": {
         "tracegroupgap": 0
        },
        "template": {
         "data": {
          "bar": [
           {
            "error_x": {
             "color": "#2a3f5f"
            },
            "error_y": {
             "color": "#2a3f5f"
            },
            "marker": {
             "line": {
              "color": "#E5ECF6",
              "width": 0.5
             }
            },
            "type": "bar"
           }
          ],
          "barpolar": [
           {
            "marker": {
             "line": {
              "color": "#E5ECF6",
              "width": 0.5
             }
            },
            "type": "barpolar"
           }
          ],
          "carpet": [
           {
            "aaxis": {
             "endlinecolor": "#2a3f5f",
             "gridcolor": "white",
             "linecolor": "white",
             "minorgridcolor": "white",
             "startlinecolor": "#2a3f5f"
            },
            "baxis": {
             "endlinecolor": "#2a3f5f",
             "gridcolor": "white",
             "linecolor": "white",
             "minorgridcolor": "white",
             "startlinecolor": "#2a3f5f"
            },
            "type": "carpet"
           }
          ],
          "choropleth": [
           {
            "colorbar": {
             "outlinewidth": 0,
             "ticks": ""
            },
            "type": "choropleth"
           }
          ],
          "contour": [
           {
            "colorbar": {
             "outlinewidth": 0,
             "ticks": ""
            },
            "colorscale": [
             [
              0,
              "#0d0887"
             ],
             [
              0.1111111111111111,
              "#46039f"
             ],
             [
              0.2222222222222222,
              "#7201a8"
             ],
             [
              0.3333333333333333,
              "#9c179e"
             ],
             [
              0.4444444444444444,
              "#bd3786"
             ],
             [
              0.5555555555555556,
              "#d8576b"
             ],
             [
              0.6666666666666666,
              "#ed7953"
             ],
             [
              0.7777777777777778,
              "#fb9f3a"
             ],
             [
              0.8888888888888888,
              "#fdca26"
             ],
             [
              1,
              "#f0f921"
             ]
            ],
            "type": "contour"
           }
          ],
          "contourcarpet": [
           {
            "colorbar": {
             "outlinewidth": 0,
             "ticks": ""
            },
            "type": "contourcarpet"
           }
          ],
          "heatmap": [
           {
            "colorbar": {
             "outlinewidth": 0,
             "ticks": ""
            },
            "colorscale": [
             [
              0,
              "#0d0887"
             ],
             [
              0.1111111111111111,
              "#46039f"
             ],
             [
              0.2222222222222222,
              "#7201a8"
             ],
             [
              0.3333333333333333,
              "#9c179e"
             ],
             [
              0.4444444444444444,
              "#bd3786"
             ],
             [
              0.5555555555555556,
              "#d8576b"
             ],
             [
              0.6666666666666666,
              "#ed7953"
             ],
             [
              0.7777777777777778,
              "#fb9f3a"
             ],
             [
              0.8888888888888888,
              "#fdca26"
             ],
             [
              1,
              "#f0f921"
             ]
            ],
            "type": "heatmap"
           }
          ],
          "heatmapgl": [
           {
            "colorbar": {
             "outlinewidth": 0,
             "ticks": ""
            },
            "colorscale": [
             [
              0,
              "#0d0887"
             ],
             [
              0.1111111111111111,
              "#46039f"
             ],
             [
              0.2222222222222222,
              "#7201a8"
             ],
             [
              0.3333333333333333,
              "#9c179e"
             ],
             [
              0.4444444444444444,
              "#bd3786"
             ],
             [
              0.5555555555555556,
              "#d8576b"
             ],
             [
              0.6666666666666666,
              "#ed7953"
             ],
             [
              0.7777777777777778,
              "#fb9f3a"
             ],
             [
              0.8888888888888888,
              "#fdca26"
             ],
             [
              1,
              "#f0f921"
             ]
            ],
            "type": "heatmapgl"
           }
          ],
          "histogram": [
           {
            "marker": {
             "colorbar": {
              "outlinewidth": 0,
              "ticks": ""
             }
            },
            "type": "histogram"
           }
          ],
          "histogram2d": [
           {
            "colorbar": {
             "outlinewidth": 0,
             "ticks": ""
            },
            "colorscale": [
             [
              0,
              "#0d0887"
             ],
             [
              0.1111111111111111,
              "#46039f"
             ],
             [
              0.2222222222222222,
              "#7201a8"
             ],
             [
              0.3333333333333333,
              "#9c179e"
             ],
             [
              0.4444444444444444,
              "#bd3786"
             ],
             [
              0.5555555555555556,
              "#d8576b"
             ],
             [
              0.6666666666666666,
              "#ed7953"
             ],
             [
              0.7777777777777778,
              "#fb9f3a"
             ],
             [
              0.8888888888888888,
              "#fdca26"
             ],
             [
              1,
              "#f0f921"
             ]
            ],
            "type": "histogram2d"
           }
          ],
          "histogram2dcontour": [
           {
            "colorbar": {
             "outlinewidth": 0,
             "ticks": ""
            },
            "colorscale": [
             [
              0,
              "#0d0887"
             ],
             [
              0.1111111111111111,
              "#46039f"
             ],
             [
              0.2222222222222222,
              "#7201a8"
             ],
             [
              0.3333333333333333,
              "#9c179e"
             ],
             [
              0.4444444444444444,
              "#bd3786"
             ],
             [
              0.5555555555555556,
              "#d8576b"
             ],
             [
              0.6666666666666666,
              "#ed7953"
             ],
             [
              0.7777777777777778,
              "#fb9f3a"
             ],
             [
              0.8888888888888888,
              "#fdca26"
             ],
             [
              1,
              "#f0f921"
             ]
            ],
            "type": "histogram2dcontour"
           }
          ],
          "mesh3d": [
           {
            "colorbar": {
             "outlinewidth": 0,
             "ticks": ""
            },
            "type": "mesh3d"
           }
          ],
          "parcoords": [
           {
            "line": {
             "colorbar": {
              "outlinewidth": 0,
              "ticks": ""
             }
            },
            "type": "parcoords"
           }
          ],
          "pie": [
           {
            "automargin": true,
            "type": "pie"
           }
          ],
          "scatter": [
           {
            "marker": {
             "colorbar": {
              "outlinewidth": 0,
              "ticks": ""
             }
            },
            "type": "scatter"
           }
          ],
          "scatter3d": [
           {
            "line": {
             "colorbar": {
              "outlinewidth": 0,
              "ticks": ""
             }
            },
            "marker": {
             "colorbar": {
              "outlinewidth": 0,
              "ticks": ""
             }
            },
            "type": "scatter3d"
           }
          ],
          "scattercarpet": [
           {
            "marker": {
             "colorbar": {
              "outlinewidth": 0,
              "ticks": ""
             }
            },
            "type": "scattercarpet"
           }
          ],
          "scattergeo": [
           {
            "marker": {
             "colorbar": {
              "outlinewidth": 0,
              "ticks": ""
             }
            },
            "type": "scattergeo"
           }
          ],
          "scattergl": [
           {
            "marker": {
             "colorbar": {
              "outlinewidth": 0,
              "ticks": ""
             }
            },
            "type": "scattergl"
           }
          ],
          "scattermapbox": [
           {
            "marker": {
             "colorbar": {
              "outlinewidth": 0,
              "ticks": ""
             }
            },
            "type": "scattermapbox"
           }
          ],
          "scatterpolar": [
           {
            "marker": {
             "colorbar": {
              "outlinewidth": 0,
              "ticks": ""
             }
            },
            "type": "scatterpolar"
           }
          ],
          "scatterpolargl": [
           {
            "marker": {
             "colorbar": {
              "outlinewidth": 0,
              "ticks": ""
             }
            },
            "type": "scatterpolargl"
           }
          ],
          "scatterternary": [
           {
            "marker": {
             "colorbar": {
              "outlinewidth": 0,
              "ticks": ""
             }
            },
            "type": "scatterternary"
           }
          ],
          "surface": [
           {
            "colorbar": {
             "outlinewidth": 0,
             "ticks": ""
            },
            "colorscale": [
             [
              0,
              "#0d0887"
             ],
             [
              0.1111111111111111,
              "#46039f"
             ],
             [
              0.2222222222222222,
              "#7201a8"
             ],
             [
              0.3333333333333333,
              "#9c179e"
             ],
             [
              0.4444444444444444,
              "#bd3786"
             ],
             [
              0.5555555555555556,
              "#d8576b"
             ],
             [
              0.6666666666666666,
              "#ed7953"
             ],
             [
              0.7777777777777778,
              "#fb9f3a"
             ],
             [
              0.8888888888888888,
              "#fdca26"
             ],
             [
              1,
              "#f0f921"
             ]
            ],
            "type": "surface"
           }
          ],
          "table": [
           {
            "cells": {
             "fill": {
              "color": "#EBF0F8"
             },
             "line": {
              "color": "white"
             }
            },
            "header": {
             "fill": {
              "color": "#C8D4E3"
             },
             "line": {
              "color": "white"
             }
            },
            "type": "table"
           }
          ]
         },
         "layout": {
          "annotationdefaults": {
           "arrowcolor": "#2a3f5f",
           "arrowhead": 0,
           "arrowwidth": 1
          },
          "autotypenumbers": "strict",
          "coloraxis": {
           "colorbar": {
            "outlinewidth": 0,
            "ticks": ""
           }
          },
          "colorscale": {
           "diverging": [
            [
             0,
             "#8e0152"
            ],
            [
             0.1,
             "#c51b7d"
            ],
            [
             0.2,
             "#de77ae"
            ],
            [
             0.3,
             "#f1b6da"
            ],
            [
             0.4,
             "#fde0ef"
            ],
            [
             0.5,
             "#f7f7f7"
            ],
            [
             0.6,
             "#e6f5d0"
            ],
            [
             0.7,
             "#b8e186"
            ],
            [
             0.8,
             "#7fbc41"
            ],
            [
             0.9,
             "#4d9221"
            ],
            [
             1,
             "#276419"
            ]
           ],
           "sequential": [
            [
             0,
             "#0d0887"
            ],
            [
             0.1111111111111111,
             "#46039f"
            ],
            [
             0.2222222222222222,
             "#7201a8"
            ],
            [
             0.3333333333333333,
             "#9c179e"
            ],
            [
             0.4444444444444444,
             "#bd3786"
            ],
            [
             0.5555555555555556,
             "#d8576b"
            ],
            [
             0.6666666666666666,
             "#ed7953"
            ],
            [
             0.7777777777777778,
             "#fb9f3a"
            ],
            [
             0.8888888888888888,
             "#fdca26"
            ],
            [
             1,
             "#f0f921"
            ]
           ],
           "sequentialminus": [
            [
             0,
             "#0d0887"
            ],
            [
             0.1111111111111111,
             "#46039f"
            ],
            [
             0.2222222222222222,
             "#7201a8"
            ],
            [
             0.3333333333333333,
             "#9c179e"
            ],
            [
             0.4444444444444444,
             "#bd3786"
            ],
            [
             0.5555555555555556,
             "#d8576b"
            ],
            [
             0.6666666666666666,
             "#ed7953"
            ],
            [
             0.7777777777777778,
             "#fb9f3a"
            ],
            [
             0.8888888888888888,
             "#fdca26"
            ],
            [
             1,
             "#f0f921"
            ]
           ]
          },
          "colorway": [
           "#636efa",
           "#EF553B",
           "#00cc96",
           "#ab63fa",
           "#FFA15A",
           "#19d3f3",
           "#FF6692",
           "#B6E880",
           "#FF97FF",
           "#FECB52"
          ],
          "font": {
           "color": "#2a3f5f"
          },
          "geo": {
           "bgcolor": "white",
           "lakecolor": "white",
           "landcolor": "#E5ECF6",
           "showlakes": true,
           "showland": true,
           "subunitcolor": "white"
          },
          "hoverlabel": {
           "align": "left"
          },
          "hovermode": "closest",
          "mapbox": {
           "style": "light"
          },
          "paper_bgcolor": "white",
          "plot_bgcolor": "#E5ECF6",
          "polar": {
           "angularaxis": {
            "gridcolor": "white",
            "linecolor": "white",
            "ticks": ""
           },
           "bgcolor": "#E5ECF6",
           "radialaxis": {
            "gridcolor": "white",
            "linecolor": "white",
            "ticks": ""
           }
          },
          "scene": {
           "xaxis": {
            "backgroundcolor": "#E5ECF6",
            "gridcolor": "white",
            "gridwidth": 2,
            "linecolor": "white",
            "showbackground": true,
            "ticks": "",
            "zerolinecolor": "white"
           },
           "yaxis": {
            "backgroundcolor": "#E5ECF6",
            "gridcolor": "white",
            "gridwidth": 2,
            "linecolor": "white",
            "showbackground": true,
            "ticks": "",
            "zerolinecolor": "white"
           },
           "zaxis": {
            "backgroundcolor": "#E5ECF6",
            "gridcolor": "white",
            "gridwidth": 2,
            "linecolor": "white",
            "showbackground": true,
            "ticks": "",
            "zerolinecolor": "white"
           }
          },
          "shapedefaults": {
           "line": {
            "color": "#2a3f5f"
           }
          },
          "ternary": {
           "aaxis": {
            "gridcolor": "white",
            "linecolor": "white",
            "ticks": ""
           },
           "baxis": {
            "gridcolor": "white",
            "linecolor": "white",
            "ticks": ""
           },
           "bgcolor": "#E5ECF6",
           "caxis": {
            "gridcolor": "white",
            "linecolor": "white",
            "ticks": ""
           }
          },
          "title": {
           "x": 0.05
          },
          "xaxis": {
           "automargin": true,
           "gridcolor": "white",
           "linecolor": "white",
           "ticks": "",
           "title": {
            "standoff": 15
           },
           "zerolinecolor": "white",
           "zerolinewidth": 2
          },
          "yaxis": {
           "automargin": true,
           "gridcolor": "white",
           "linecolor": "white",
           "ticks": "",
           "title": {
            "standoff": 15
           },
           "zerolinecolor": "white",
           "zerolinewidth": 2
          }
         }
        },
        "title": {
         "text": "material"
        },
        "xaxis": {
         "anchor": "y",
         "domain": [
          0,
          1
         ],
         "title": {
          "text": "material"
         }
        },
        "yaxis": {
         "anchor": "x",
         "domain": [
          0,
          1
         ],
         "title": {
          "text": "count"
         }
        }
       }
      },
      "text/html": [
       "<div>                            <div id=\"a0a706db-5f52-42aa-aeeb-98b9e6e789c7\" class=\"plotly-graph-div\" style=\"height:525px; width:100%;\"></div>            <script type=\"text/javascript\">                require([\"plotly\"], function(Plotly) {                    window.PLOTLYENV=window.PLOTLYENV || {};                                    if (document.getElementById(\"a0a706db-5f52-42aa-aeeb-98b9e6e789c7\")) {                    Plotly.newPlot(                        \"a0a706db-5f52-42aa-aeeb-98b9e6e789c7\",                        [{\"alignmentgroup\": \"True\", \"bingroup\": \"x\", \"hovertemplate\": \"material=%{x}<br>count=%{y}<extra></extra>\", \"legendgroup\": \"\", \"marker\": {\"color\": \"#636efa\"}, \"name\": \"\", \"offsetgroup\": \"\", \"orientation\": \"v\", \"showlegend\": false, \"type\": \"histogram\", \"x\": [\"dental calculus\", \"dental calculus\", \"dental calculus\", \"dental calculus\", \"dental calculus\", \"dental calculus\", \"dental calculus\", \"dental calculus\", \"dental calculus\", \"dental calculus\", \"dental calculus\", \"dental calculus\", \"dental calculus\", \"dental calculus\", \"dental calculus\", \"dental calculus\", \"dental calculus\", \"dental calculus\", \"dental calculus\", \"dental calculus\", \"dental calculus\", \"dental calculus\", \"dental calculus\", \"dental calculus\", \"dental calculus\", \"dental calculus\", \"dental calculus\", \"dental calculus\", \"dental calculus\", \"dental calculus\", \"dental calculus\", \"dental calculus\", \"dental calculus\", \"dental calculus\", \"dental calculus\", \"dental calculus\", \"dental calculus\", \"dental calculus\", \"dental calculus\", \"dental calculus\", \"dental calculus\", \"dental calculus\", \"dental calculus\", \"dental calculus\", \"dental calculus\", \"dental calculus\", \"dental calculus\", \"dental calculus\", \"dental calculus\", \"dental calculus\", \"dental calculus\", \"dental calculus\", \"dental calculus\", \"dental calculus\", \"dental calculus\", \"dental calculus\", \"dental calculus\", \"dental calculus\", \"dental calculus\", \"dental calculus\", \"dental calculus\", \"dental calculus\", \"dental calculus\", \"dental calculus\", \"dental calculus\", \"dental calculus\", \"dental calculus\", \"dental calculus\", \"dental calculus\", \"dental calculus\", \"dental calculus\", \"tooth\", \"tooth\", \"tooth\", \"tooth\", \"tooth\", \"tooth\", \"tooth\", \"tooth\", \"tooth\", \"tooth\", \"tooth\", \"tooth\", \"tooth\", \"tooth\", \"tooth\", \"tooth\", \"tooth\", \"tooth\", \"tooth\", \"tooth\", \"tooth\", \"tooth\", \"tooth\", \"tooth\", \"tooth\", \"tooth\", \"tooth\", \"tooth\", \"tooth\", \"tooth\", \"tooth\", \"tooth\", \"tooth\", \"tooth\", \"tooth\", \"tooth\", \"tooth\", \"tooth\", \"tooth\", \"tooth\", \"tooth\", \"tooth\", \"tooth\", \"tooth\", \"tooth\", \"tooth\", \"tooth\", \"tooth\", \"tooth\", \"tooth\", \"tooth\", \"tooth\", \"tooth\", \"tooth\", \"tooth\", \"tooth\", \"tooth\", \"tooth\", \"tooth\", \"tooth\", \"dental calculus\", \"dental calculus\", \"dental calculus\", \"dental calculus\", \"dental calculus\", \"dental calculus\", \"dental calculus\", \"dental calculus\", \"dental calculus\", \"dental calculus\", \"dental calculus\", \"dental calculus\", \"dental calculus\", \"dental calculus\", \"dental calculus\", \"dental calculus\", \"dental calculus\", \"dental calculus\", \"dental calculus\", \"tooth\", \"tooth\", \"tooth\", \"tooth\", \"tooth\", \"tooth\", \"bone\", \"bone\", \"bone\", \"dental calculus\", \"dental calculus\", \"tooth\", \"tooth\", \"dental calculus\", \"muscle tissue\", \"muscle tissue\", \"buccal fat pad\", \"omentum\", \"peritoneum\", \"intestine\", \"intestine\", \"caecum\", \"bone\", \"keratinous claw\", \"muscle tissue\", \"skin\", \"bone\", \"keratinous claw\", \"muscle tissue\", \"skin\", \"bone\", \"keratinous claw\", \"muscle tissue\", \"skin\", \"bone\", \"bone\", \"bone\", \"bone\", \"bone\", \"bone\", \"bone\", \"bone\", \"leaf\", \"leaf\", \"leaf\", \"leaf\", \"leaf\", \"leaf\", \"leaf\", \"leaf\", \"leaf\", \"leaf\", \"leaf\", \"leaf\", \"leaf\", \"leaf\", \"leaf\", \"leaf\", \"leaf\", \"leaf\", \"leaf\", \"leaf\", \"leaf\", \"leaf\", \"leaf\", \"leaf\", \"leaf\", \"leaf\", \"leaf\", \"leaf\", \"leaf\", \"leaf\", \"leaf\", \"leaf\", \"leaf\", \"leaf\", \"leaf\", \"leaf\", \"leaf\", \"leaf\", \"leaf\", \"leaf\", \"leaf\", \"leaf\", \"leaf\", \"leaf\", \"leaf\", \"dental calculus\", \"dental calculus\", \"dental calculus\", \"dental calculus\", \"dental calculus\", \"dental calculus\", \"dental calculus\", \"palaeofaeces\", \"dental calculus\", \"dental calculus\", \"dental calculus\", \"dental calculus\", \"dental calculus\", \"dental calculus\", \"dental calculus\", \"dental calculus\", \"dental calculus\", \"dental calculus\", \"dental calculus\", \"dental calculus\", \"dental calculus\", \"dental calculus\", \"dental calculus\", \"dental calculus\", \"dental calculus\", \"dental calculus\", \"dental calculus\", \"dental calculus\", \"dental calculus\", \"dental calculus\", \"dental calculus\", \"dental calculus\", \"dental calculus\", \"dental calculus\", \"dental calculus\", \"dental calculus\", \"dental calculus\", \"dental calculus\", \"dental calculus\", \"dental calculus\", \"dental calculus\", \"latrine\", \"latrine\", \"dental calculus\", \"dental calculus\", \"tooth\", \"tooth\", \"tooth\", \"tooth\", \"tooth\", \"tooth\", \"tooth\", \"tooth\", \"tooth\", \"tooth\", \"tooth\", \"tooth\", \"tooth\", \"tooth\", \"tooth\", \"tooth\", \"tooth\", \"tooth\", \"tooth\", \"tooth\", \"tooth\", \"tooth\", \"tooth\", \"tooth\", \"tooth\", \"tooth\", \"tooth\", \"tooth\", \"tooth\", \"tooth\", \"tooth\", \"tooth\", \"tooth\", \"tooth\", \"tooth\", \"tooth\", \"tooth\", \"tooth\", \"tooth\", \"tooth\", \"tooth\", \"tooth\", \"tooth\", \"tooth\", \"tooth\", \"tooth\", \"tooth\", \"tooth\", \"tooth\", \"tooth\", \"tooth\", \"tooth\", \"tooth\", \"tooth\", \"tooth\", \"tooth\", \"tooth\", \"tooth\", \"tooth\", \"tooth\", \"tooth\", \"tooth\", \"tooth\", \"tooth\", \"tooth\", \"tooth\", \"tooth\", \"tooth\", \"tooth\", \"tooth\", \"tooth\", \"tooth\", \"tooth\", \"tooth\", \"tooth\", \"tooth\", \"tooth\", \"tooth\", \"tooth\", \"tooth\", \"tooth\", \"tooth\", \"tooth\", \"tooth\", \"tooth\", \"tooth\", \"tooth\", \"tooth\", \"tooth\", \"tooth\", \"tooth\", \"tooth\", \"tooth\", \"tooth\", \"tooth\", \"tooth\", \"tooth\", \"tooth\", \"tooth\", \"tooth\", \"tooth\", \"tooth\", \"tooth\", \"tooth\", \"tooth\", \"tooth\", \"tooth\", \"tooth\", \"tooth\", \"tooth\", \"tooth\", \"tooth\", \"tooth\", \"tooth\", \"tooth\", \"tooth\", \"tooth\", \"tooth\", \"tooth\", \"tooth\", \"tooth\", \"tooth\", \"tooth\", \"tooth\", \"tooth\", \"tooth\", \"tooth\", \"tooth\", \"tooth\", \"tooth\", \"tooth\", \"tooth\", \"tooth\", \"tooth\", \"tooth\", \"tooth\", \"tooth\", \"tooth\", \"tooth\", \"tooth\", \"tooth\", \"tooth\", \"tooth\", \"tooth\", \"tooth\", \"tooth\", \"tooth\", \"tooth\", \"tooth\", \"tooth\", \"tooth\", \"tooth\", \"tooth\", \"tooth\", \"tooth\", \"tooth\", \"tooth\", \"tooth\", \"tooth\", \"tooth\", \"tooth\", \"tooth\", \"tooth\", \"tooth\", \"tooth\"], \"xaxis\": \"x\", \"yaxis\": \"y\"}],                        {\"barmode\": \"relative\", \"legend\": {\"tracegroupgap\": 0}, \"template\": {\"data\": {\"bar\": [{\"error_x\": {\"color\": \"#2a3f5f\"}, \"error_y\": {\"color\": \"#2a3f5f\"}, \"marker\": {\"line\": {\"color\": \"#E5ECF6\", \"width\": 0.5}}, \"type\": \"bar\"}], \"barpolar\": [{\"marker\": {\"line\": {\"color\": \"#E5ECF6\", \"width\": 0.5}}, \"type\": \"barpolar\"}], \"carpet\": [{\"aaxis\": {\"endlinecolor\": \"#2a3f5f\", \"gridcolor\": \"white\", \"linecolor\": \"white\", \"minorgridcolor\": \"white\", \"startlinecolor\": \"#2a3f5f\"}, \"baxis\": {\"endlinecolor\": \"#2a3f5f\", \"gridcolor\": \"white\", \"linecolor\": \"white\", \"minorgridcolor\": \"white\", \"startlinecolor\": \"#2a3f5f\"}, \"type\": \"carpet\"}], \"choropleth\": [{\"colorbar\": {\"outlinewidth\": 0, \"ticks\": \"\"}, \"type\": \"choropleth\"}], \"contour\": [{\"colorbar\": {\"outlinewidth\": 0, \"ticks\": \"\"}, \"colorscale\": [[0.0, \"#0d0887\"], [0.1111111111111111, \"#46039f\"], [0.2222222222222222, \"#7201a8\"], [0.3333333333333333, \"#9c179e\"], [0.4444444444444444, \"#bd3786\"], [0.5555555555555556, \"#d8576b\"], [0.6666666666666666, \"#ed7953\"], [0.7777777777777778, \"#fb9f3a\"], [0.8888888888888888, \"#fdca26\"], [1.0, \"#f0f921\"]], \"type\": \"contour\"}], \"contourcarpet\": [{\"colorbar\": {\"outlinewidth\": 0, \"ticks\": \"\"}, \"type\": \"contourcarpet\"}], \"heatmap\": [{\"colorbar\": {\"outlinewidth\": 0, \"ticks\": \"\"}, \"colorscale\": [[0.0, \"#0d0887\"], [0.1111111111111111, \"#46039f\"], [0.2222222222222222, \"#7201a8\"], [0.3333333333333333, \"#9c179e\"], [0.4444444444444444, \"#bd3786\"], [0.5555555555555556, \"#d8576b\"], [0.6666666666666666, \"#ed7953\"], [0.7777777777777778, \"#fb9f3a\"], [0.8888888888888888, \"#fdca26\"], [1.0, \"#f0f921\"]], \"type\": \"heatmap\"}], \"heatmapgl\": [{\"colorbar\": {\"outlinewidth\": 0, \"ticks\": \"\"}, \"colorscale\": [[0.0, \"#0d0887\"], [0.1111111111111111, \"#46039f\"], [0.2222222222222222, \"#7201a8\"], [0.3333333333333333, \"#9c179e\"], [0.4444444444444444, \"#bd3786\"], [0.5555555555555556, \"#d8576b\"], [0.6666666666666666, \"#ed7953\"], [0.7777777777777778, \"#fb9f3a\"], [0.8888888888888888, \"#fdca26\"], [1.0, \"#f0f921\"]], \"type\": \"heatmapgl\"}], \"histogram\": [{\"marker\": {\"colorbar\": {\"outlinewidth\": 0, \"ticks\": \"\"}}, \"type\": \"histogram\"}], \"histogram2d\": [{\"colorbar\": {\"outlinewidth\": 0, \"ticks\": \"\"}, \"colorscale\": [[0.0, \"#0d0887\"], [0.1111111111111111, \"#46039f\"], [0.2222222222222222, \"#7201a8\"], [0.3333333333333333, \"#9c179e\"], [0.4444444444444444, \"#bd3786\"], [0.5555555555555556, \"#d8576b\"], [0.6666666666666666, \"#ed7953\"], [0.7777777777777778, \"#fb9f3a\"], [0.8888888888888888, \"#fdca26\"], [1.0, \"#f0f921\"]], \"type\": \"histogram2d\"}], \"histogram2dcontour\": [{\"colorbar\": {\"outlinewidth\": 0, \"ticks\": \"\"}, \"colorscale\": [[0.0, \"#0d0887\"], [0.1111111111111111, \"#46039f\"], [0.2222222222222222, \"#7201a8\"], [0.3333333333333333, \"#9c179e\"], [0.4444444444444444, \"#bd3786\"], [0.5555555555555556, \"#d8576b\"], [0.6666666666666666, \"#ed7953\"], [0.7777777777777778, \"#fb9f3a\"], [0.8888888888888888, \"#fdca26\"], [1.0, \"#f0f921\"]], \"type\": \"histogram2dcontour\"}], \"mesh3d\": [{\"colorbar\": {\"outlinewidth\": 0, \"ticks\": \"\"}, \"type\": \"mesh3d\"}], \"parcoords\": [{\"line\": {\"colorbar\": {\"outlinewidth\": 0, \"ticks\": \"\"}}, \"type\": \"parcoords\"}], \"pie\": [{\"automargin\": true, \"type\": \"pie\"}], \"scatter\": [{\"marker\": {\"colorbar\": {\"outlinewidth\": 0, \"ticks\": \"\"}}, \"type\": \"scatter\"}], \"scatter3d\": [{\"line\": {\"colorbar\": {\"outlinewidth\": 0, \"ticks\": \"\"}}, \"marker\": {\"colorbar\": {\"outlinewidth\": 0, \"ticks\": \"\"}}, \"type\": \"scatter3d\"}], \"scattercarpet\": [{\"marker\": {\"colorbar\": {\"outlinewidth\": 0, \"ticks\": \"\"}}, \"type\": \"scattercarpet\"}], \"scattergeo\": [{\"marker\": {\"colorbar\": {\"outlinewidth\": 0, \"ticks\": \"\"}}, \"type\": \"scattergeo\"}], \"scattergl\": [{\"marker\": {\"colorbar\": {\"outlinewidth\": 0, \"ticks\": \"\"}}, \"type\": \"scattergl\"}], \"scattermapbox\": [{\"marker\": {\"colorbar\": {\"outlinewidth\": 0, \"ticks\": \"\"}}, \"type\": \"scattermapbox\"}], \"scatterpolar\": [{\"marker\": {\"colorbar\": {\"outlinewidth\": 0, \"ticks\": \"\"}}, \"type\": \"scatterpolar\"}], \"scatterpolargl\": [{\"marker\": {\"colorbar\": {\"outlinewidth\": 0, \"ticks\": \"\"}}, \"type\": \"scatterpolargl\"}], \"scatterternary\": [{\"marker\": {\"colorbar\": {\"outlinewidth\": 0, \"ticks\": \"\"}}, \"type\": \"scatterternary\"}], \"surface\": [{\"colorbar\": {\"outlinewidth\": 0, \"ticks\": \"\"}, \"colorscale\": [[0.0, \"#0d0887\"], [0.1111111111111111, \"#46039f\"], [0.2222222222222222, \"#7201a8\"], [0.3333333333333333, \"#9c179e\"], [0.4444444444444444, \"#bd3786\"], [0.5555555555555556, \"#d8576b\"], [0.6666666666666666, \"#ed7953\"], [0.7777777777777778, \"#fb9f3a\"], [0.8888888888888888, \"#fdca26\"], [1.0, \"#f0f921\"]], \"type\": \"surface\"}], \"table\": [{\"cells\": {\"fill\": {\"color\": \"#EBF0F8\"}, \"line\": {\"color\": \"white\"}}, \"header\": {\"fill\": {\"color\": \"#C8D4E3\"}, \"line\": {\"color\": \"white\"}}, \"type\": \"table\"}]}, \"layout\": {\"annotationdefaults\": {\"arrowcolor\": \"#2a3f5f\", \"arrowhead\": 0, \"arrowwidth\": 1}, \"autotypenumbers\": \"strict\", \"coloraxis\": {\"colorbar\": {\"outlinewidth\": 0, \"ticks\": \"\"}}, \"colorscale\": {\"diverging\": [[0, \"#8e0152\"], [0.1, \"#c51b7d\"], [0.2, \"#de77ae\"], [0.3, \"#f1b6da\"], [0.4, \"#fde0ef\"], [0.5, \"#f7f7f7\"], [0.6, \"#e6f5d0\"], [0.7, \"#b8e186\"], [0.8, \"#7fbc41\"], [0.9, \"#4d9221\"], [1, \"#276419\"]], \"sequential\": [[0.0, \"#0d0887\"], [0.1111111111111111, \"#46039f\"], [0.2222222222222222, \"#7201a8\"], [0.3333333333333333, \"#9c179e\"], [0.4444444444444444, \"#bd3786\"], [0.5555555555555556, \"#d8576b\"], [0.6666666666666666, \"#ed7953\"], [0.7777777777777778, \"#fb9f3a\"], [0.8888888888888888, \"#fdca26\"], [1.0, \"#f0f921\"]], \"sequentialminus\": [[0.0, \"#0d0887\"], [0.1111111111111111, \"#46039f\"], [0.2222222222222222, \"#7201a8\"], [0.3333333333333333, \"#9c179e\"], [0.4444444444444444, \"#bd3786\"], [0.5555555555555556, \"#d8576b\"], [0.6666666666666666, \"#ed7953\"], [0.7777777777777778, \"#fb9f3a\"], [0.8888888888888888, \"#fdca26\"], [1.0, \"#f0f921\"]]}, \"colorway\": [\"#636efa\", \"#EF553B\", \"#00cc96\", \"#ab63fa\", \"#FFA15A\", \"#19d3f3\", \"#FF6692\", \"#B6E880\", \"#FF97FF\", \"#FECB52\"], \"font\": {\"color\": \"#2a3f5f\"}, \"geo\": {\"bgcolor\": \"white\", \"lakecolor\": \"white\", \"landcolor\": \"#E5ECF6\", \"showlakes\": true, \"showland\": true, \"subunitcolor\": \"white\"}, \"hoverlabel\": {\"align\": \"left\"}, \"hovermode\": \"closest\", \"mapbox\": {\"style\": \"light\"}, \"paper_bgcolor\": \"white\", \"plot_bgcolor\": \"#E5ECF6\", \"polar\": {\"angularaxis\": {\"gridcolor\": \"white\", \"linecolor\": \"white\", \"ticks\": \"\"}, \"bgcolor\": \"#E5ECF6\", \"radialaxis\": {\"gridcolor\": \"white\", \"linecolor\": \"white\", \"ticks\": \"\"}}, \"scene\": {\"xaxis\": {\"backgroundcolor\": \"#E5ECF6\", \"gridcolor\": \"white\", \"gridwidth\": 2, \"linecolor\": \"white\", \"showbackground\": true, \"ticks\": \"\", \"zerolinecolor\": \"white\"}, \"yaxis\": {\"backgroundcolor\": \"#E5ECF6\", \"gridcolor\": \"white\", \"gridwidth\": 2, \"linecolor\": \"white\", \"showbackground\": true, \"ticks\": \"\", \"zerolinecolor\": \"white\"}, \"zaxis\": {\"backgroundcolor\": \"#E5ECF6\", \"gridcolor\": \"white\", \"gridwidth\": 2, \"linecolor\": \"white\", \"showbackground\": true, \"ticks\": \"\", \"zerolinecolor\": \"white\"}}, \"shapedefaults\": {\"line\": {\"color\": \"#2a3f5f\"}}, \"ternary\": {\"aaxis\": {\"gridcolor\": \"white\", \"linecolor\": \"white\", \"ticks\": \"\"}, \"baxis\": {\"gridcolor\": \"white\", \"linecolor\": \"white\", \"ticks\": \"\"}, \"bgcolor\": \"#E5ECF6\", \"caxis\": {\"gridcolor\": \"white\", \"linecolor\": \"white\", \"ticks\": \"\"}}, \"title\": {\"x\": 0.05}, \"xaxis\": {\"automargin\": true, \"gridcolor\": \"white\", \"linecolor\": \"white\", \"ticks\": \"\", \"title\": {\"standoff\": 15}, \"zerolinecolor\": \"white\", \"zerolinewidth\": 2}, \"yaxis\": {\"automargin\": true, \"gridcolor\": \"white\", \"linecolor\": \"white\", \"ticks\": \"\", \"title\": {\"standoff\": 15}, \"zerolinecolor\": \"white\", \"zerolinewidth\": 2}}}, \"title\": {\"text\": \"material\"}, \"xaxis\": {\"anchor\": \"y\", \"domain\": [0.0, 1.0], \"title\": {\"text\": \"material\"}}, \"yaxis\": {\"anchor\": \"x\", \"domain\": [0.0, 1.0], \"title\": {\"text\": \"count\"}}},                        {\"responsive\": true}                    ).then(function(){\n",
       "                            \n",
       "var gd = document.getElementById('a0a706db-5f52-42aa-aeeb-98b9e6e789c7');\n",
       "var x = new MutationObserver(function (mutations, observer) {{\n",
       "        var display = window.getComputedStyle(gd).display;\n",
       "        if (!display || display === 'none') {{\n",
       "            console.log([gd, 'removed!']);\n",
       "            Plotly.purge(gd);\n",
       "            observer.disconnect();\n",
       "        }}\n",
       "}});\n",
       "\n",
       "// Listen for the removal of the full notebook cells\n",
       "var notebookContainer = gd.closest('#notebook-container');\n",
       "if (notebookContainer) {{\n",
       "    x.observe(notebookContainer, {childList: true});\n",
       "}}\n",
       "\n",
       "// Listen for the clearing of the current output cell\n",
       "var outputEl = gd.closest('.output');\n",
       "if (outputEl) {{\n",
       "    x.observe(outputEl, {childList: true});\n",
       "}}\n",
       "\n",
       "                        })                };                });            </script>        </div>"
      ]
     },
     "metadata": {},
     "output_type": "display_data"
    }
   ],
   "source": [
    "fig = px.histogram(aMetagenomes_metadata, x=\"material\",title=\"material\")\n",
    "fig.show()"
   ]
  },
  {
   "cell_type": "code",
   "execution_count": 58,
   "metadata": {},
   "outputs": [
    {
     "data": {
      "application/vnd.plotly.v1+json": {
       "config": {
        "plotlyServerURL": "https://plot.ly"
       },
       "data": [
        {
         "customdata": [
          [
           "Dalheim"
          ],
          [
           "Dalheim"
          ],
          [
           "Dalheim"
          ],
          [
           "Dalheim"
          ],
          [
           "Dalheim"
          ],
          [
           "Dalheim"
          ],
          [
           "Dalheim"
          ],
          [
           "Dalheim"
          ],
          [
           "Dalheim"
          ],
          [
           "Camino del Molino"
          ],
          [
           "Camino del Molino"
          ],
          [
           "Anse a la Gourde"
          ],
          [
           "Anse a la Gourde"
          ],
          [
           "KhÃ¶vsgÃ¶l"
          ],
          [
           "KhÃ¶vsgÃ¶l"
          ],
          [
           "Kilteasheen"
          ],
          [
           "Kilteasheen"
          ],
          [
           "Kilteasheen"
          ],
          [
           "Kilteasheen"
          ],
          [
           "Kilteasheen"
          ],
          [
           "Kilteasheen"
          ],
          [
           "Kilteasheen"
          ],
          [
           "Kilteasheen"
          ],
          [
           "Kilteasheen"
          ],
          [
           "Kilteasheen"
          ],
          [
           "Kilteasheen"
          ],
          [
           "Kilteasheen"
          ],
          [
           "Kilteasheen"
          ],
          [
           "Kilteasheen"
          ],
          [
           "Kilteasheen"
          ],
          [
           "Kilteasheen"
          ],
          [
           "Kilteasheen"
          ],
          [
           "Kilteasheen"
          ],
          [
           "Kilteasheen"
          ],
          [
           "Kilteasheen"
          ],
          [
           "Kilteasheen"
          ],
          [
           "Kilteasheen"
          ],
          [
           "Kilteasheen"
          ],
          [
           "Kilteasheen"
          ],
          [
           "Kilteasheen"
          ],
          [
           "Kilteasheen"
          ],
          [
           "Kilteasheen"
          ],
          [
           "Kilteasheen"
          ],
          [
           "Kilteasheen"
          ],
          [
           "Kilteasheen"
          ],
          [
           "Kilteasheen"
          ],
          [
           "Kilteasheen"
          ],
          [
           "Kilteasheen"
          ],
          [
           "Kilteasheen"
          ],
          [
           "Kilteasheen"
          ],
          [
           "Kilteasheen"
          ],
          [
           "Kilteasheen"
          ],
          [
           "Kilteasheen"
          ],
          [
           "Kilteasheen"
          ],
          [
           "Kilteasheen"
          ],
          [
           "Kilteasheen"
          ],
          [
           "Kilteasheen"
          ],
          [
           "Kilteasheen"
          ],
          [
           "Kilteasheen"
          ],
          [
           "Kilteasheen"
          ],
          [
           "Kilteasheen"
          ],
          [
           "Kilteasheen"
          ],
          [
           "Kilteasheen"
          ],
          [
           "Kilteasheen"
          ],
          [
           "Kilteasheen"
          ],
          [
           "Norris Farms"
          ],
          [
           "Norris Farms"
          ],
          [
           "Middenbeemster"
          ],
          [
           "Samdzong"
          ],
          [
           "Samdzong"
          ],
          [
           "Middenbeemster"
          ],
          [
           "Camino del Molino"
          ],
          [
           "Camino del Molino"
          ],
          [
           "Anse a la Gourde"
          ],
          [
           "Anse a la Gourde"
          ],
          [
           "KhÃ¶vsgÃ¶l"
          ],
          [
           "KhÃ¶vsgÃ¶l"
          ],
          [
           "Kilteasheen"
          ],
          [
           "Kilteasheen"
          ],
          [
           "Kilteasheen"
          ],
          [
           "Kilteasheen"
          ],
          [
           "Kilteasheen"
          ],
          [
           "Kilteasheen"
          ],
          [
           "Kilteasheen"
          ],
          [
           "Kilteasheen"
          ],
          [
           "Kilteasheen"
          ],
          [
           "Kilteasheen"
          ],
          [
           "Kilteasheen"
          ],
          [
           "Kilteasheen"
          ],
          [
           "Kilteasheen"
          ],
          [
           "Kilteasheen"
          ],
          [
           "Kilteasheen"
          ],
          [
           "Kilteasheen"
          ],
          [
           "Kilteasheen"
          ],
          [
           "Kilteasheen"
          ],
          [
           "Kilteasheen"
          ],
          [
           "Kilteasheen"
          ],
          [
           "Kilteasheen"
          ],
          [
           "Kilteasheen"
          ],
          [
           "Kilteasheen"
          ],
          [
           "Kilteasheen"
          ],
          [
           "Kilteasheen"
          ],
          [
           "Kilteasheen"
          ],
          [
           "Kilteasheen"
          ],
          [
           "Kilteasheen"
          ],
          [
           "Kilteasheen"
          ],
          [
           "Kilteasheen"
          ],
          [
           "Kilteasheen"
          ],
          [
           "Kilteasheen"
          ],
          [
           "Kilteasheen"
          ],
          [
           "Kilteasheen"
          ],
          [
           "Kilteasheen"
          ],
          [
           "Kilteasheen"
          ],
          [
           "Kilteasheen"
          ],
          [
           "Kilteasheen"
          ],
          [
           "Kilteasheen"
          ],
          [
           "Kilteasheen"
          ],
          [
           "Kilteasheen"
          ],
          [
           "Kilteasheen"
          ],
          [
           "Kilteasheen"
          ],
          [
           "Kilteasheen"
          ],
          [
           "Kilteasheen"
          ],
          [
           "Kilteasheen"
          ],
          [
           "Kilteasheen"
          ],
          [
           "Kilteasheen"
          ],
          [
           "Norris Farms"
          ],
          [
           "Norris Farms"
          ],
          [
           "Middenbeemster"
          ],
          [
           "Samdzong"
          ],
          [
           "Samdzong"
          ],
          [
           "Middenbeemster"
          ],
          [
           "Gombe National Park"
          ],
          [
           "Gombe National Park"
          ],
          [
           "Gombe National Park"
          ],
          [
           "Gombe National Park"
          ],
          [
           "Gombe National Park"
          ],
          [
           "Gombe National Park"
          ],
          [
           "Gombe National Park"
          ],
          [
           "Gombe National Park"
          ],
          [
           "Gombe National Park"
          ],
          [
           "Gombe National Park"
          ],
          [
           "Gombe National Park"
          ],
          [
           "Gombe National Park"
          ],
          [
           "Gombe National Park"
          ],
          [
           "Gombe National Park"
          ],
          [
           "Gombe National Park"
          ],
          [
           "Gombe National Park"
          ],
          [
           "Gombe National Park"
          ],
          [
           "Gombe National Park"
          ],
          [
           "Gombe National Park"
          ],
          [
           "Le Mans"
          ],
          [
           "Le Mans"
          ],
          [
           "Le Mans"
          ],
          [
           "Le Mans"
          ],
          [
           "Le Mans"
          ],
          [
           "Le Mans"
          ],
          [
           "Le Mans"
          ],
          [
           "Le Mans"
          ],
          [
           "Le Mans"
          ],
          [
           "Norris Farms"
          ],
          [
           "Norris Farms"
          ],
          [
           "Norris Farms"
          ],
          [
           "Norris Farms"
          ],
          [
           "Paso del Indio"
          ],
          [
           "Yuribey River"
          ],
          [
           "Yuribey River"
          ],
          [
           "Yuribey River"
          ],
          [
           "Yuribey River"
          ],
          [
           "Yuribey River"
          ],
          [
           "Yuribey River"
          ],
          [
           "Yuribey River"
          ],
          [
           "Yuribey River"
          ],
          [
           "Peru: Cusco; Occobamba Valley, Tocopoqueu"
          ],
          [
           "Peru: Cusco; Occobamba Valley, Tocopoqueu"
          ],
          [
           "Peru: Cusco; Occobamba Valley, Tocopoqueu"
          ],
          [
           "Peru: Cusco; Occobamba Valley, Tocopoqueu"
          ],
          [
           "Kenya: Nâ€™Guasso Njiro River, SÂ "
          ],
          [
           "Kenya: Nâ€™Guasso Njiro River, SÂ "
          ],
          [
           "Kenya: Nâ€™Guasso Njiro River, SÂ "
          ],
          [
           "Kenya: Nâ€™Guasso Njiro River, SÂ "
          ],
          [
           "Indonesia: Celebes Island, GimpoeÂ "
          ],
          [
           "Indonesia: Celebes Island, GimpoeÂ "
          ],
          [
           "Indonesia: Celebes Island, GimpoeÂ "
          ],
          [
           "Indonesia: Celebes Island, GimpoeÂ "
          ],
          [
           "Teposcolula Yucundaa"
          ],
          [
           "Teposcolula Yucundaa"
          ],
          [
           "Teposcolula Yucundaa"
          ],
          [
           "Teposcolula Yucundaa"
          ],
          [
           "Teposcolula Yucundaa"
          ],
          [
           "Teposcolula Yucundaa"
          ],
          [
           "Teposcolula Yucundaa"
          ],
          [
           "Teposcolula Yucundaa"
          ],
          [
           "Upper Providence, Delaware County, Pennsylvania"
          ],
          [
           "Swarthmore, Delaware County, Pennsylvania"
          ],
          [
           "Lansdowne, Delaware County, Pennsylvania"
          ],
          [
           "West Philadelphia, Philadelphia"
          ],
          [
           "Easton, Philadelphia"
          ],
          [
           "Iowa City, Iowa"
          ],
          [
           "Ames, Iowa"
          ],
          [
           "Des Moines, Iowa"
          ],
          [
           "Ames, Iowa"
          ],
          [
           "Ames, Iowa"
          ],
          [
           "Ames, Iowa"
          ],
          [
           "Connecticut (in Ohio State University)"
          ],
          [
           "Ohio (in Ohio State University)"
          ],
          [
           "Ohio (in Ohio State University)"
          ],
          [
           "Ohio (in Ohio State University)"
          ],
          [
           "Ohio (in Ohio State University)"
          ],
          [
           "Ohio (in Ohio State University)"
          ],
          [
           "Ohio (in Ohio State University)"
          ],
          [
           "Ohio (in Ohio State University)"
          ],
          [
           "Ohio (in Ohio State University)"
          ],
          [
           "Ohio (in Ohio State University)"
          ],
          [
           "Ohio (in University of Connecticut Herbarium)"
          ],
          [
           "Ohio (in University of Connecticut Herbarium)"
          ],
          [
           "Ohio (in University of Connecticut Herbarium)"
          ],
          [
           "New Jersey (in University of Connecticut Herbarium)"
          ],
          [
           "Connecticut (in University of Connecticut Herbarium)"
          ],
          [
           "Connecticut (in University of Connecticut Herbarium)"
          ],
          [
           "Connecticut (in University of Connecticut Herbarium)"
          ],
          [
           "Ohio (in Chicago Field Museum)"
          ],
          [
           "Indiana (in Chicago Field Museum)"
          ],
          [
           "New Jersey (in Chicago Field Museum)"
          ],
          [
           "Utah (In New York Botanical Garden)"
          ],
          [
           "New York (In New York Botanical Garden)"
          ],
          [
           "Tennessee (In New York Botanical Garden)"
          ],
          [
           "Georgia (in New York Botanical Garden)"
          ],
          [
           "District of Columbia (in New York Botanical Garden)"
          ],
          [
           "New York (In New York Botanical Garden)"
          ],
          [
           "New Jersey (in New York Botanical Garden)"
          ],
          [
           "New Jersey (in New York Botanical Garden)"
          ],
          [
           "New York (In New York Botanical Garden)"
          ],
          [
           "District of Columbia (in New York Botanical Garden)"
          ],
          [
           "North Carolina (in New York Botanical Garden)"
          ],
          [
           "District of Columbia (in New York Botanical Garden)"
          ],
          [
           "Delaware (in New York Botanical Garden)"
          ],
          [
           "Utah (In New York Botanical Garden)"
          ],
          [
           "CA-SCL-919, Santa Clara County"
          ],
          [
           "CA-SCL-919, Santa Clara County"
          ],
          [
           "CA-SCL-919, Santa Clara County"
          ],
          [
           "CA-SCL-919, Santa Clara County"
          ],
          [
           "Porticus Octaviae (Rome)"
          ],
          [
           "Porticus Octaviae (Rome)"
          ],
          [
           "Porticus Octaviae (Rome)"
          ],
          [
           "Place d'Armes, Namur"
          ],
          [
           "Tokyo"
          ],
          [
           "Tokyo"
          ],
          [
           "Tokyo"
          ],
          [
           "Tokyo"
          ],
          [
           "Ebishima"
          ],
          [
           "Miyano"
          ],
          [
           "Miyano"
          ],
          [
           "Ikawazu"
          ],
          [
           "Tokyo"
          ],
          [
           "Tokyo"
          ],
          [
           "Tokyo"
          ],
          [
           "Tokyo"
          ],
          [
           "Tokyo"
          ],
          [
           "Tokyo"
          ],
          [
           "Miyano"
          ],
          [
           "Chan Chich"
          ],
          [
           "Chan Chich"
          ],
          [
           "Chan Chich"
          ],
          [
           "Chan Chich"
          ],
          [
           "Chan Chich"
          ],
          [
           "Chan"
          ],
          [
           "Chan"
          ],
          [
           "Perdalba (Sardara)"
          ],
          [
           "Perdalba (Sardara)"
          ],
          [
           "Perdalba (Sardara)"
          ],
          [
           "Capo Pecora (Arbus)"
          ],
          [
           "Capo Pecora (Arbus)"
          ],
          [
           "Capo Pecora (Arbus)"
          ],
          [
           "Capo Pecora (Arbus)"
          ],
          [
           "Lu Maccioni (Alghero)"
          ],
          [
           "Lu Maccioni (Alghero)"
          ],
          [
           "Lu Maccioni (Alghero)"
          ],
          [
           "Lu Maccioni (Alghero)"
          ],
          [
           "Riga"
          ],
          [
           "Jerusalem"
          ],
          [
           "Medical Collection, American Museum of Natural History (New York)"
          ],
          [
           "Kodiak Island Collection, National Museum of Natural History (Washington D.C.)"
          ],
          [
           "Gniezno"
          ],
          [
           "Gniezno"
          ],
          [
           "Kowalewko"
          ],
          [
           "Kowalewko"
          ],
          [
           "Kowalewko"
          ],
          [
           "Kowalewko"
          ],
          [
           "Kowalewko"
          ],
          [
           "Kowalewko"
          ],
          [
           "Kowalewko"
          ],
          [
           "Kowalewko"
          ],
          [
           "Kowalewko"
          ],
          [
           "Kowalewko"
          ],
          [
           "Kowalewko"
          ],
          [
           "Kowalewko"
          ],
          [
           "Kowalewko"
          ],
          [
           "Kowalewko"
          ],
          [
           "Kowalewko"
          ],
          [
           "Kowalewko"
          ],
          [
           "Kowalewko"
          ],
          [
           "Kowalewko"
          ],
          [
           "Kowalewko"
          ],
          [
           "Kowalewko"
          ],
          [
           "Kowalewko"
          ],
          [
           "Kowalewko"
          ],
          [
           "Kowalewko"
          ],
          [
           "Kowalewko"
          ],
          [
           "Kowalewko"
          ],
          [
           "Kowalewko"
          ],
          [
           "Kowalewko"
          ],
          [
           "Kowalewko"
          ],
          [
           "Kowalewko"
          ],
          [
           "Kowalewko"
          ],
          [
           "Kowalewko"
          ],
          [
           "Kowalewko"
          ],
          [
           "Kowalewko"
          ],
          [
           "Kowalewko"
          ],
          [
           "Kowalewko"
          ],
          [
           "Kowalewko"
          ],
          [
           "Kowalewko"
          ],
          [
           "Kowalewko"
          ],
          [
           "Kowalewko"
          ],
          [
           "Kowalewko"
          ],
          [
           "Kowalewko"
          ],
          [
           "Kowalewko"
          ],
          [
           "Kowalewko"
          ],
          [
           "Kowalewko"
          ],
          [
           "Kowalewko"
          ],
          [
           "Kowalewko"
          ],
          [
           "Kowalewko"
          ],
          [
           "Kowalewko"
          ],
          [
           "Kowalewko"
          ],
          [
           "Kowalewko"
          ],
          [
           "Kowalewko"
          ],
          [
           "Kowalewko"
          ],
          [
           "Kowalewko"
          ],
          [
           "Kowalewko"
          ],
          [
           "Kowalewko"
          ],
          [
           "Kowalewko"
          ],
          [
           "Kowalewko"
          ],
          [
           "Kowalewko"
          ],
          [
           "Kowalewko"
          ],
          [
           "Kowalewko"
          ],
          [
           "Kowalewko"
          ],
          [
           "Å<81>Ä™gowo"
          ],
          [
           "Å<81>Ä™gowo"
          ],
          [
           "Å<81>Ä™gowo"
          ],
          [
           "Å<81>Ä™gowo"
          ],
          [
           "Å<81>Ä™gowo"
          ],
          [
           "Å<81>Ä™gowo"
          ],
          [
           "Å<81>Ä™gowo"
          ],
          [
           "Å<81>Ä™gowo"
          ],
          [
           "Å<81>Ä™gowo"
          ],
          [
           "Markowice"
          ],
          [
           "Markowice"
          ],
          [
           "Markowice"
          ],
          [
           "Markowice"
          ],
          [
           "Markowice"
          ],
          [
           "Markowice"
          ],
          [
           "Markowice"
          ],
          [
           "Markowice"
          ],
          [
           "MasÅ‚omÄ™cz"
          ],
          [
           "MasÅ‚omÄ™cz"
          ],
          [
           "MasÅ‚omÄ™cz"
          ],
          [
           "MasÅ‚omÄ™cz"
          ],
          [
           "MasÅ‚omÄ™cz"
          ],
          [
           "MasÅ‚omÄ™cz"
          ],
          [
           "MasÅ‚omÄ™cz"
          ],
          [
           "MasÅ‚omÄ™cz"
          ],
          [
           "MasÅ‚omÄ™cz"
          ],
          [
           "MasÅ‚omÄ™cz"
          ],
          [
           "MasÅ‚omÄ™cz"
          ],
          [
           "MasÅ‚omÄ™cz"
          ],
          [
           "MasÅ‚omÄ™cz"
          ],
          [
           "MasÅ‚omÄ™cz"
          ],
          [
           "MasÅ‚omÄ™cz"
          ],
          [
           "MasÅ‚omÄ™cz"
          ],
          [
           "MasÅ‚omÄ™cz"
          ],
          [
           "MasÅ‚omÄ™cz"
          ],
          [
           "MasÅ‚omÄ™cz"
          ],
          [
           "MasÅ‚omÄ™cz"
          ],
          [
           "MasÅ‚omÄ™cz"
          ],
          [
           "MasÅ‚omÄ™cz"
          ],
          [
           "MasÅ‚omÄ™cz"
          ],
          [
           "MasÅ‚omÄ™cz"
          ],
          [
           "MasÅ‚omÄ™cz"
          ],
          [
           "MasÅ‚omÄ™cz"
          ],
          [
           "MasÅ‚omÄ™cz"
          ],
          [
           "Niemcza"
          ],
          [
           "Niemcza"
          ],
          [
           "Niemcza"
          ],
          [
           "Niemcza"
          ],
          [
           "Niemcza"
          ],
          [
           "Niemcza"
          ],
          [
           "Niemcza"
          ],
          [
           "Niemcza"
          ],
          [
           "Niemcza"
          ],
          [
           "Niemcza"
          ],
          [
           "Niemcza"
          ],
          [
           "Niemcza"
          ],
          [
           "Niemcza"
          ],
          [
           "Niemcza"
          ],
          [
           "Niemcza"
          ],
          [
           "Niemcza"
          ],
          [
           "Niemcza"
          ],
          [
           "Niemcza"
          ],
          [
           "Niemcza"
          ],
          [
           "Niemcza"
          ],
          [
           "Niemcza"
          ],
          [
           "Niemcza"
          ],
          [
           "Niemcza"
          ],
          [
           "Niemcza"
          ],
          [
           "Niemcza"
          ],
          [
           "Niemcza"
          ],
          [
           "Niemcza"
          ],
          [
           "Niemcza"
          ],
          [
           "Niemcza"
          ],
          [
           "Niemcza"
          ],
          [
           "Niemcza"
          ],
          [
           "Niemcza"
          ],
          [
           "Niemcza"
          ],
          [
           "Niemcza"
          ],
          [
           "Niemcza"
          ],
          [
           "Niemcza"
          ],
          [
           "Niemcza"
          ],
          [
           "Sowinki"
          ],
          [
           "Sowinki"
          ],
          [
           "Sowinki"
          ],
          [
           "Sowinki"
          ],
          [
           "Sowinki"
          ],
          [
           "Sowinki"
          ],
          [
           "Sowinki"
          ],
          [
           "Sowinki"
          ],
          [
           "Sowinki"
          ],
          [
           "Sowinki"
          ],
          [
           "Sowinki"
          ],
          [
           "Sowinki"
          ],
          [
           "Sowinki"
          ],
          [
           "Sowinki"
          ],
          [
           "Sowinki"
          ],
          [
           "Sowinki"
          ],
          [
           "Sowinki"
          ],
          [
           "Sowinki"
          ],
          [
           "Sowinki"
          ],
          [
           "Sowinki"
          ],
          [
           "Sowinki"
          ]
         ],
         "hovertemplate": "<b>%{hovertext}</b><br><br>latitude=%{lat}<br>longitude=%{lon}<br>site_name=%{customdata[0]}<extra></extra>",
         "hovertext": [
          "Germany",
          "Germany",
          "Germany",
          "Germany",
          "Germany",
          "Germany",
          "Germany",
          "Germany",
          "Germany",
          "Spain",
          "Spain",
          "Guadeloupe",
          "Guadeloupe",
          "Mongolia",
          "Mongolia",
          "Ireland",
          "Ireland",
          "Ireland",
          "Ireland",
          "Ireland",
          "Ireland",
          "Ireland",
          "Ireland",
          "Ireland",
          "Ireland",
          "Ireland",
          "Ireland",
          "Ireland",
          "Ireland",
          "Ireland",
          "Ireland",
          "Ireland",
          "Ireland",
          "Ireland",
          "Ireland",
          "Ireland",
          "Ireland",
          "Ireland",
          "Ireland",
          "Ireland",
          "Ireland",
          "Ireland",
          "Ireland",
          "Ireland",
          "Ireland",
          "Ireland",
          "Ireland",
          "Ireland",
          "Ireland",
          "Ireland",
          "Ireland",
          "Ireland",
          "Ireland",
          "Ireland",
          "Ireland",
          "Ireland",
          "Ireland",
          "Ireland",
          "Ireland",
          "Ireland",
          "Ireland",
          "Ireland",
          "Ireland",
          "Ireland",
          "Ireland",
          "USA",
          "USA",
          "Netherlands",
          "Nepal",
          "Nepal",
          "Netherlands",
          "Spain",
          "Spain",
          "Guadeloupe",
          "Guadeloupe",
          "Mongolia",
          "Mongolia",
          "Ireland",
          "Ireland",
          "Ireland",
          "Ireland",
          "Ireland",
          "Ireland",
          "Ireland",
          "Ireland",
          "Ireland",
          "Ireland",
          "Ireland",
          "Ireland",
          "Ireland",
          "Ireland",
          "Ireland",
          "Ireland",
          "Ireland",
          "Ireland",
          "Ireland",
          "Ireland",
          "Ireland",
          "Ireland",
          "Ireland",
          "Ireland",
          "Ireland",
          "Ireland",
          "Ireland",
          "Ireland",
          "Ireland",
          "Ireland",
          "Ireland",
          "Ireland",
          "Ireland",
          "Ireland",
          "Ireland",
          "Ireland",
          "Ireland",
          "Ireland",
          "Ireland",
          "Ireland",
          "Ireland",
          "Ireland",
          "Ireland",
          "Ireland",
          "Ireland",
          "Ireland",
          "Ireland",
          "Ireland",
          "USA",
          "USA",
          "Netherlands",
          "Nepal",
          "Nepal",
          "Netherlands",
          "Tanzania",
          "Tanzania",
          "Tanzania",
          "Tanzania",
          "Tanzania",
          "Tanzania",
          "Tanzania",
          "Tanzania",
          "Tanzania",
          "Tanzania",
          "Tanzania",
          "Tanzania",
          "Tanzania",
          "Tanzania",
          "Tanzania",
          "Tanzania",
          "Tanzania",
          "Tanzania",
          "Tanzania",
          "France",
          "France",
          "France",
          "France",
          "France",
          "France",
          "France",
          "France",
          "France",
          "USA",
          "USA",
          "USA",
          "USA",
          "USA",
          "Russia",
          "Russia",
          "Russia",
          "Russia",
          "Russia",
          "Russia",
          "Russia",
          "Russia",
          "Peru",
          "Peru",
          "Peru",
          "Peru",
          "Kenya",
          "Kenya",
          "Kenya",
          "Kenya",
          "Indonesia",
          "Indonesia",
          "Indonesia",
          "Indonesia",
          "Mexico",
          "Mexico",
          "Mexico",
          "Mexico",
          "Mexico",
          "Mexico",
          "Mexico",
          "Mexico",
          "USA",
          "USA",
          "USA",
          "USA",
          "USA",
          "USA",
          "USA",
          "USA",
          "USA",
          "USA",
          "USA",
          "USA",
          "USA",
          "USA",
          "USA",
          "USA",
          "USA",
          "USA",
          "USA",
          "USA",
          "USA",
          "USA",
          "USA",
          "USA",
          "USA",
          "USA",
          "USA",
          "USA",
          "USA",
          "USA",
          "USA",
          "USA",
          "USA",
          "USA",
          "USA",
          "USA",
          "USA",
          "USA",
          "USA",
          "USA",
          "USA",
          "USA",
          "USA",
          "USA",
          "USA",
          "USA",
          "USA",
          "USA",
          "USA",
          "Italy",
          "Italy",
          "Italy",
          "Belgium",
          "Japan",
          "Japan",
          "Japan",
          "Japan",
          "Japan",
          "Japan",
          "Japan",
          "Japan",
          "Japan",
          "Japan",
          "Japan",
          "Japan",
          "Japan",
          "Japan",
          "Japan",
          "Belize",
          "Belize",
          "Belize",
          "Belize",
          "Belize",
          "Belize",
          "Belize",
          "Italy",
          "Italy",
          "Italy",
          "Italy",
          "Italy",
          "Italy",
          "Italy",
          "Italy",
          "Italy",
          "Italy",
          "Italy",
          "Latvia",
          "West Bank",
          "USA",
          "USA",
          "Poland",
          "Poland",
          "Poland",
          "Poland",
          "Poland",
          "Poland",
          "Poland",
          "Poland",
          "Poland",
          "Poland",
          "Poland",
          "Poland",
          "Poland",
          "Poland",
          "Poland",
          "Poland",
          "Poland",
          "Poland",
          "Poland",
          "Poland",
          "Poland",
          "Poland",
          "Poland",
          "Poland",
          "Poland",
          "Poland",
          "Poland",
          "Poland",
          "Poland",
          "Poland",
          "Poland",
          "Poland",
          "Poland",
          "Poland",
          "Poland",
          "Poland",
          "Poland",
          "Poland",
          "Poland",
          "Poland",
          "Poland",
          "Poland",
          "Poland",
          "Poland",
          "Poland",
          "Poland",
          "Poland",
          "Poland",
          "Poland",
          "Poland",
          "Poland",
          "Poland",
          "Poland",
          "Poland",
          "Poland",
          "Poland",
          "Poland",
          "Poland",
          "Poland",
          "Poland",
          "Poland",
          "Poland",
          "Poland",
          "Poland",
          "Poland",
          "Poland",
          "Poland",
          "Poland",
          "Poland",
          "Poland",
          "Poland",
          "Poland",
          "Poland",
          "Poland",
          "Poland",
          "Poland",
          "Poland",
          "Poland",
          "Poland",
          "Poland",
          "Poland",
          "Poland",
          "Poland",
          "Poland",
          "Poland",
          "Poland",
          "Poland",
          "Poland",
          "Poland",
          "Poland",
          "Poland",
          "Poland",
          "Poland",
          "Poland",
          "Poland",
          "Poland",
          "Poland",
          "Poland",
          "Poland",
          "Poland",
          "Poland",
          "Poland",
          "Poland",
          "Poland",
          "Poland",
          "Poland",
          "Poland",
          "Poland",
          "Poland",
          "Poland",
          "Poland",
          "Poland",
          "Poland",
          "Poland",
          "Poland",
          "Poland",
          "Poland",
          "Poland",
          "Poland",
          "Poland",
          "Poland",
          "Poland",
          "Poland",
          "Poland",
          "Poland",
          "Poland",
          "Poland",
          "Poland",
          "Poland",
          "Poland",
          "Poland",
          "Poland",
          "Poland",
          "Poland",
          "Poland",
          "Poland",
          "Poland",
          "Poland",
          "Poland",
          "Poland",
          "Poland",
          "Poland",
          "Poland",
          "Poland",
          "Poland",
          "Poland",
          "Poland",
          "Poland",
          "Poland",
          "Poland",
          "Poland",
          "Poland",
          "Poland",
          "Poland",
          "Poland",
          "Poland",
          "Poland",
          "Poland",
          "Poland",
          "Poland",
          "Poland",
          "Poland",
          "Poland",
          "Poland",
          "Poland"
         ],
         "lat": [
          51.565,
          51.565,
          51.565,
          51.565,
          51.565,
          51.565,
          51.565,
          51.565,
          51.565,
          38.102,
          38.102,
          16.254,
          16.254,
          49.66,
          49.66,
          54.005,
          54.005,
          54.005,
          54.005,
          54.005,
          54.005,
          54.005,
          54.005,
          54.005,
          54.005,
          54.005,
          54.005,
          54.005,
          54.005,
          54.005,
          54.005,
          54.005,
          54.005,
          54.005,
          54.005,
          54.005,
          54.005,
          54.005,
          54.005,
          54.005,
          54.005,
          54.005,
          54.005,
          54.005,
          54.005,
          54.005,
          54.005,
          54.005,
          54.005,
          54.005,
          54.005,
          54.005,
          54.005,
          54.005,
          54.005,
          54.005,
          54.005,
          54.005,
          54.005,
          54.005,
          54.005,
          54.005,
          54.005,
          54.005,
          54.005,
          40.23,
          40.23,
          52.548,
          29.27,
          29.27,
          52.548,
          38.102,
          38.102,
          16.254,
          16.254,
          49.66,
          49.66,
          54.005,
          54.005,
          54.005,
          54.005,
          54.005,
          54.005,
          54.005,
          54.005,
          54.005,
          54.005,
          54.005,
          54.005,
          54.005,
          54.005,
          54.005,
          54.005,
          54.005,
          54.005,
          54.005,
          54.005,
          54.005,
          54.005,
          54.005,
          54.005,
          54.005,
          54.005,
          54.005,
          54.005,
          54.005,
          54.005,
          54.005,
          54.005,
          54.005,
          54.005,
          54.005,
          54.005,
          54.005,
          54.005,
          54.005,
          54.005,
          54.005,
          54.005,
          54.005,
          54.005,
          54.005,
          54.005,
          54.005,
          54.005,
          40.23,
          40.23,
          52.548,
          29.27,
          29.27,
          52.548,
          -4.69,
          -4.69,
          -4.69,
          -4.69,
          -4.69,
          -4.69,
          -4.69,
          -4.69,
          -4.69,
          -4.69,
          -4.69,
          -4.69,
          -4.69,
          -4.69,
          -4.69,
          -4.69,
          -4.69,
          -4.69,
          -4.69,
          48.006,
          48.006,
          48.006,
          48.006,
          48.006,
          48.006,
          48.006,
          48.006,
          48.006,
          40.23,
          40.23,
          40.23,
          40.23,
          18.41,
          68.633,
          68.633,
          68.633,
          68.633,
          68.633,
          68.633,
          68.633,
          68.633,
          -13.47,
          -13.47,
          -13.47,
          -13.47,
          1,
          1,
          1,
          1,
          -2.06,
          -2.06,
          -2.06,
          -2.06,
          17.49,
          17.49,
          17.49,
          17.49,
          17.49,
          17.49,
          17.49,
          17.49,
          40.1,
          39.9,
          39.9,
          39.9,
          40,
          41.6,
          42,
          41.5,
          42,
          42,
          42,
          41,
          39.688,
          41.721,
          39.956,
          41.102,
          39.956,
          41.137,
          39.5,
          40,
          41.867,
          40,
          40,
          40,
          39.856,
          41.224,
          41.666,
          41.509,
          41.48,
          41.482,
          39.856,
          40.643,
          41.15,
          35.99,
          32,
          38.906,
          43.192,
          40.924,
          41.122,
          39.97,
          38.906,
          35,
          38.906,
          38.715,
          40.643,
          37.3,
          37.3,
          37.3,
          37.3,
          41.892,
          41.892,
          41.892,
          50.46,
          35.71,
          35.71,
          35.71,
          35.71,
          38.83,
          39.12,
          39.12,
          34.64,
          35.71,
          35.71,
          35.71,
          35.71,
          35.71,
          35.713,
          39.12,
          17.53,
          17.53,
          17.53,
          17.53,
          17.53,
          17.53,
          17.53,
          39.58,
          39.58,
          39.58,
          39.448,
          39.448,
          39.448,
          39.448,
          40.544,
          40.544,
          40.544,
          40.544,
          56.94,
          31.77,
          40.781,
          38.891,
          52.538,
          52.538,
          52.699,
          52.699,
          52.699,
          52.699,
          52.699,
          52.699,
          52.699,
          52.699,
          52.699,
          52.699,
          52.699,
          52.699,
          52.699,
          52.699,
          52.699,
          52.699,
          52.699,
          52.699,
          52.699,
          52.699,
          52.699,
          52.699,
          52.699,
          52.699,
          52.699,
          52.699,
          52.699,
          52.699,
          52.699,
          52.699,
          52.699,
          52.699,
          52.699,
          52.699,
          52.699,
          52.699,
          52.699,
          52.699,
          52.699,
          52.699,
          52.699,
          52.699,
          52.699,
          52.699,
          52.699,
          52.699,
          52.699,
          52.699,
          52.699,
          52.699,
          52.699,
          52.699,
          52.699,
          52.699,
          52.699,
          52.699,
          52.699,
          52.699,
          52.699,
          52.699,
          52.699,
          54.226,
          54.226,
          54.226,
          54.226,
          54.226,
          54.226,
          54.226,
          54.226,
          54.226,
          52.313,
          52.313,
          52.313,
          52.313,
          52.313,
          52.313,
          52.313,
          52.313,
          50.722,
          50.722,
          50.722,
          50.722,
          50.722,
          50.722,
          50.722,
          50.722,
          50.722,
          50.722,
          50.722,
          50.722,
          50.722,
          50.722,
          50.722,
          50.722,
          50.722,
          50.722,
          50.722,
          50.722,
          50.722,
          50.722,
          50.722,
          50.722,
          50.722,
          50.722,
          50.722,
          50.719,
          50.719,
          50.719,
          50.719,
          50.719,
          50.719,
          50.719,
          50.719,
          50.719,
          50.719,
          50.719,
          50.719,
          50.719,
          50.719,
          50.719,
          50.719,
          50.719,
          50.719,
          50.719,
          50.719,
          50.719,
          50.719,
          50.719,
          50.719,
          50.719,
          50.719,
          50.719,
          50.719,
          50.719,
          50.719,
          50.719,
          50.719,
          50.719,
          50.719,
          50.719,
          50.719,
          50.719,
          52.211,
          52.211,
          52.211,
          52.211,
          52.211,
          52.211,
          52.211,
          52.211,
          52.211,
          52.211,
          52.211,
          52.211,
          52.211,
          52.211,
          52.211,
          52.211,
          52.211,
          52.211,
          52.211,
          52.211,
          52.211
         ],
         "legendgroup": "",
         "lon": [
          8.84,
          8.84,
          8.84,
          8.84,
          8.84,
          8.84,
          8.84,
          8.84,
          8.84,
          -1.865,
          -1.865,
          -61.203,
          -61.203,
          99.61,
          99.61,
          -8.201,
          -8.201,
          -8.201,
          -8.201,
          -8.201,
          -8.201,
          -8.201,
          -8.201,
          -8.201,
          -8.201,
          -8.201,
          -8.201,
          -8.201,
          -8.201,
          -8.201,
          -8.201,
          -8.201,
          -8.201,
          -8.201,
          -8.201,
          -8.201,
          -8.201,
          -8.201,
          -8.201,
          -8.201,
          -8.201,
          -8.201,
          -8.201,
          -8.201,
          -8.201,
          -8.201,
          -8.201,
          -8.201,
          -8.201,
          -8.201,
          -8.201,
          -8.201,
          -8.201,
          -8.201,
          -8.201,
          -8.201,
          -8.201,
          -8.201,
          -8.201,
          -8.201,
          -8.201,
          -8.201,
          -8.201,
          -8.201,
          -8.201,
          -90.143,
          -90.143,
          4.912,
          84.03,
          84.03,
          4.912,
          -1.865,
          -1.865,
          -61.203,
          -61.203,
          99.61,
          99.61,
          -8.201,
          -8.201,
          -8.201,
          -8.201,
          -8.201,
          -8.201,
          -8.201,
          -8.201,
          -8.201,
          -8.201,
          -8.201,
          -8.201,
          -8.201,
          -8.201,
          -8.201,
          -8.201,
          -8.201,
          -8.201,
          -8.201,
          -8.201,
          -8.201,
          -8.201,
          -8.201,
          -8.201,
          -8.201,
          -8.201,
          -8.201,
          -8.201,
          -8.201,
          -8.201,
          -8.201,
          -8.201,
          -8.201,
          -8.201,
          -8.201,
          -8.201,
          -8.201,
          -8.201,
          -8.201,
          -8.201,
          -8.201,
          -8.201,
          -8.201,
          -8.201,
          -8.201,
          -8.201,
          -8.201,
          -8.201,
          -90.143,
          -90.143,
          4.912,
          84.03,
          84.03,
          4.912,
          29.62,
          29.62,
          29.62,
          29.62,
          29.62,
          29.62,
          29.62,
          29.62,
          29.62,
          29.62,
          29.62,
          29.62,
          29.62,
          29.62,
          29.62,
          29.62,
          29.62,
          29.62,
          29.62,
          0.199,
          0.199,
          0.199,
          0.199,
          0.199,
          0.199,
          0.199,
          0.199,
          0.199,
          -90.143,
          -90.143,
          -90.143,
          -90.143,
          -66.33,
          71.666,
          71.666,
          71.666,
          71.666,
          71.666,
          71.666,
          71.666,
          71.666,
          -73.56,
          -73.56,
          -73.56,
          -73.56,
          37,
          37,
          37,
          37,
          120.37,
          120.37,
          120.37,
          120.37,
          -97.46,
          -97.46,
          -97.46,
          -97.46,
          -97.46,
          -97.46,
          -97.46,
          -97.46,
          -75.4,
          -75.3,
          -75.2,
          -75.2,
          -75.1,
          -91.5,
          -93.6,
          -93.6,
          -93.6,
          -93.6,
          -93.6,
          -72,
          -82.993,
          -81.243,
          -81.953,
          -81.56,
          -81.953,
          -81.863,
          -82.472,
          -82,
          -80.789,
          -82,
          -82,
          -82,
          -74.686,
          -73.06,
          -73.508,
          -72.543,
          -86.82,
          -86.822,
          -74.686,
          -111.951,
          -73.766,
          -83.94,
          -83,
          -77.036,
          -77.01,
          -74.075,
          -74.356,
          -83.01,
          -77.037,
          -79,
          -77.037,
          -75.631,
          -111.967,
          -121.8,
          -121.8,
          -121.8,
          -121.8,
          12.478,
          12.478,
          12.478,
          4.86,
          139.78,
          139.78,
          139.78,
          139.78,
          141.18,
          141.81,
          141.81,
          137.14,
          139.78,
          139.78,
          139.78,
          139.78,
          139.78,
          139.767,
          141.81,
          -89.11,
          -89.11,
          -89.11,
          -89.11,
          -89.11,
          -89.11,
          -89.11,
          8.85,
          8.85,
          8.85,
          8.391,
          8.391,
          8.391,
          8.391,
          8.321,
          8.321,
          8.321,
          8.321,
          24.11,
          35.22,
          -73.974,
          -77.026,
          17.597,
          17.597,
          17.605,
          17.605,
          17.605,
          17.605,
          17.605,
          17.605,
          17.605,
          17.605,
          17.605,
          17.605,
          17.605,
          17.605,
          17.605,
          17.605,
          17.605,
          17.605,
          17.605,
          17.605,
          17.605,
          17.605,
          17.605,
          17.605,
          17.605,
          17.605,
          17.605,
          17.605,
          17.605,
          17.605,
          17.605,
          17.605,
          17.605,
          17.605,
          17.605,
          17.605,
          17.605,
          17.605,
          17.605,
          17.605,
          17.605,
          17.605,
          17.605,
          17.605,
          17.605,
          17.605,
          17.605,
          17.605,
          17.605,
          17.605,
          17.605,
          17.605,
          17.605,
          17.605,
          17.605,
          17.605,
          17.605,
          17.605,
          17.605,
          17.605,
          17.605,
          17.605,
          17.605,
          18.642,
          18.642,
          18.642,
          18.642,
          18.642,
          18.642,
          18.642,
          18.642,
          18.642,
          17.215,
          17.215,
          17.215,
          17.215,
          17.215,
          17.215,
          17.215,
          17.215,
          23.892,
          23.892,
          23.892,
          23.892,
          23.892,
          23.892,
          23.892,
          23.892,
          23.892,
          23.892,
          23.892,
          23.892,
          23.892,
          23.892,
          23.892,
          23.892,
          23.892,
          23.892,
          23.892,
          23.892,
          23.892,
          23.892,
          23.892,
          23.892,
          23.892,
          23.892,
          23.892,
          16.835,
          16.835,
          16.835,
          16.835,
          16.835,
          16.835,
          16.835,
          16.835,
          16.835,
          16.835,
          16.835,
          16.835,
          16.835,
          16.835,
          16.835,
          16.835,
          16.835,
          16.835,
          16.835,
          16.835,
          16.835,
          16.835,
          16.835,
          16.835,
          16.835,
          16.835,
          16.835,
          16.835,
          16.835,
          16.835,
          16.835,
          16.835,
          16.835,
          16.835,
          16.835,
          16.835,
          16.835,
          16.893,
          16.893,
          16.893,
          16.893,
          16.893,
          16.893,
          16.893,
          16.893,
          16.893,
          16.893,
          16.893,
          16.893,
          16.893,
          16.893,
          16.893,
          16.893,
          16.893,
          16.893,
          16.893,
          16.893,
          16.893
         ],
         "marker": {
          "color": "red"
         },
         "mode": "markers",
         "name": "",
         "showlegend": false,
         "subplot": "mapbox",
         "type": "scattermapbox"
        }
       ],
       "layout": {
        "height": 300,
        "legend": {
         "tracegroupgap": 0
        },
        "mapbox": {
         "center": {
          "lat": 44.285874720358116,
          "lon": 0.14370022371364743
         },
         "domain": {
          "x": [
           0,
           1
          ],
          "y": [
           0,
           1
          ]
         },
         "style": "open-street-map",
         "zoom": 2
        },
        "margin": {
         "b": 0,
         "l": 0,
         "r": 0,
         "t": 0
        },
        "template": {
         "data": {
          "bar": [
           {
            "error_x": {
             "color": "#2a3f5f"
            },
            "error_y": {
             "color": "#2a3f5f"
            },
            "marker": {
             "line": {
              "color": "#E5ECF6",
              "width": 0.5
             }
            },
            "type": "bar"
           }
          ],
          "barpolar": [
           {
            "marker": {
             "line": {
              "color": "#E5ECF6",
              "width": 0.5
             }
            },
            "type": "barpolar"
           }
          ],
          "carpet": [
           {
            "aaxis": {
             "endlinecolor": "#2a3f5f",
             "gridcolor": "white",
             "linecolor": "white",
             "minorgridcolor": "white",
             "startlinecolor": "#2a3f5f"
            },
            "baxis": {
             "endlinecolor": "#2a3f5f",
             "gridcolor": "white",
             "linecolor": "white",
             "minorgridcolor": "white",
             "startlinecolor": "#2a3f5f"
            },
            "type": "carpet"
           }
          ],
          "choropleth": [
           {
            "colorbar": {
             "outlinewidth": 0,
             "ticks": ""
            },
            "type": "choropleth"
           }
          ],
          "contour": [
           {
            "colorbar": {
             "outlinewidth": 0,
             "ticks": ""
            },
            "colorscale": [
             [
              0,
              "#0d0887"
             ],
             [
              0.1111111111111111,
              "#46039f"
             ],
             [
              0.2222222222222222,
              "#7201a8"
             ],
             [
              0.3333333333333333,
              "#9c179e"
             ],
             [
              0.4444444444444444,
              "#bd3786"
             ],
             [
              0.5555555555555556,
              "#d8576b"
             ],
             [
              0.6666666666666666,
              "#ed7953"
             ],
             [
              0.7777777777777778,
              "#fb9f3a"
             ],
             [
              0.8888888888888888,
              "#fdca26"
             ],
             [
              1,
              "#f0f921"
             ]
            ],
            "type": "contour"
           }
          ],
          "contourcarpet": [
           {
            "colorbar": {
             "outlinewidth": 0,
             "ticks": ""
            },
            "type": "contourcarpet"
           }
          ],
          "heatmap": [
           {
            "colorbar": {
             "outlinewidth": 0,
             "ticks": ""
            },
            "colorscale": [
             [
              0,
              "#0d0887"
             ],
             [
              0.1111111111111111,
              "#46039f"
             ],
             [
              0.2222222222222222,
              "#7201a8"
             ],
             [
              0.3333333333333333,
              "#9c179e"
             ],
             [
              0.4444444444444444,
              "#bd3786"
             ],
             [
              0.5555555555555556,
              "#d8576b"
             ],
             [
              0.6666666666666666,
              "#ed7953"
             ],
             [
              0.7777777777777778,
              "#fb9f3a"
             ],
             [
              0.8888888888888888,
              "#fdca26"
             ],
             [
              1,
              "#f0f921"
             ]
            ],
            "type": "heatmap"
           }
          ],
          "heatmapgl": [
           {
            "colorbar": {
             "outlinewidth": 0,
             "ticks": ""
            },
            "colorscale": [
             [
              0,
              "#0d0887"
             ],
             [
              0.1111111111111111,
              "#46039f"
             ],
             [
              0.2222222222222222,
              "#7201a8"
             ],
             [
              0.3333333333333333,
              "#9c179e"
             ],
             [
              0.4444444444444444,
              "#bd3786"
             ],
             [
              0.5555555555555556,
              "#d8576b"
             ],
             [
              0.6666666666666666,
              "#ed7953"
             ],
             [
              0.7777777777777778,
              "#fb9f3a"
             ],
             [
              0.8888888888888888,
              "#fdca26"
             ],
             [
              1,
              "#f0f921"
             ]
            ],
            "type": "heatmapgl"
           }
          ],
          "histogram": [
           {
            "marker": {
             "colorbar": {
              "outlinewidth": 0,
              "ticks": ""
             }
            },
            "type": "histogram"
           }
          ],
          "histogram2d": [
           {
            "colorbar": {
             "outlinewidth": 0,
             "ticks": ""
            },
            "colorscale": [
             [
              0,
              "#0d0887"
             ],
             [
              0.1111111111111111,
              "#46039f"
             ],
             [
              0.2222222222222222,
              "#7201a8"
             ],
             [
              0.3333333333333333,
              "#9c179e"
             ],
             [
              0.4444444444444444,
              "#bd3786"
             ],
             [
              0.5555555555555556,
              "#d8576b"
             ],
             [
              0.6666666666666666,
              "#ed7953"
             ],
             [
              0.7777777777777778,
              "#fb9f3a"
             ],
             [
              0.8888888888888888,
              "#fdca26"
             ],
             [
              1,
              "#f0f921"
             ]
            ],
            "type": "histogram2d"
           }
          ],
          "histogram2dcontour": [
           {
            "colorbar": {
             "outlinewidth": 0,
             "ticks": ""
            },
            "colorscale": [
             [
              0,
              "#0d0887"
             ],
             [
              0.1111111111111111,
              "#46039f"
             ],
             [
              0.2222222222222222,
              "#7201a8"
             ],
             [
              0.3333333333333333,
              "#9c179e"
             ],
             [
              0.4444444444444444,
              "#bd3786"
             ],
             [
              0.5555555555555556,
              "#d8576b"
             ],
             [
              0.6666666666666666,
              "#ed7953"
             ],
             [
              0.7777777777777778,
              "#fb9f3a"
             ],
             [
              0.8888888888888888,
              "#fdca26"
             ],
             [
              1,
              "#f0f921"
             ]
            ],
            "type": "histogram2dcontour"
           }
          ],
          "mesh3d": [
           {
            "colorbar": {
             "outlinewidth": 0,
             "ticks": ""
            },
            "type": "mesh3d"
           }
          ],
          "parcoords": [
           {
            "line": {
             "colorbar": {
              "outlinewidth": 0,
              "ticks": ""
             }
            },
            "type": "parcoords"
           }
          ],
          "pie": [
           {
            "automargin": true,
            "type": "pie"
           }
          ],
          "scatter": [
           {
            "marker": {
             "colorbar": {
              "outlinewidth": 0,
              "ticks": ""
             }
            },
            "type": "scatter"
           }
          ],
          "scatter3d": [
           {
            "line": {
             "colorbar": {
              "outlinewidth": 0,
              "ticks": ""
             }
            },
            "marker": {
             "colorbar": {
              "outlinewidth": 0,
              "ticks": ""
             }
            },
            "type": "scatter3d"
           }
          ],
          "scattercarpet": [
           {
            "marker": {
             "colorbar": {
              "outlinewidth": 0,
              "ticks": ""
             }
            },
            "type": "scattercarpet"
           }
          ],
          "scattergeo": [
           {
            "marker": {
             "colorbar": {
              "outlinewidth": 0,
              "ticks": ""
             }
            },
            "type": "scattergeo"
           }
          ],
          "scattergl": [
           {
            "marker": {
             "colorbar": {
              "outlinewidth": 0,
              "ticks": ""
             }
            },
            "type": "scattergl"
           }
          ],
          "scattermapbox": [
           {
            "marker": {
             "colorbar": {
              "outlinewidth": 0,
              "ticks": ""
             }
            },
            "type": "scattermapbox"
           }
          ],
          "scatterpolar": [
           {
            "marker": {
             "colorbar": {
              "outlinewidth": 0,
              "ticks": ""
             }
            },
            "type": "scatterpolar"
           }
          ],
          "scatterpolargl": [
           {
            "marker": {
             "colorbar": {
              "outlinewidth": 0,
              "ticks": ""
             }
            },
            "type": "scatterpolargl"
           }
          ],
          "scatterternary": [
           {
            "marker": {
             "colorbar": {
              "outlinewidth": 0,
              "ticks": ""
             }
            },
            "type": "scatterternary"
           }
          ],
          "surface": [
           {
            "colorbar": {
             "outlinewidth": 0,
             "ticks": ""
            },
            "colorscale": [
             [
              0,
              "#0d0887"
             ],
             [
              0.1111111111111111,
              "#46039f"
             ],
             [
              0.2222222222222222,
              "#7201a8"
             ],
             [
              0.3333333333333333,
              "#9c179e"
             ],
             [
              0.4444444444444444,
              "#bd3786"
             ],
             [
              0.5555555555555556,
              "#d8576b"
             ],
             [
              0.6666666666666666,
              "#ed7953"
             ],
             [
              0.7777777777777778,
              "#fb9f3a"
             ],
             [
              0.8888888888888888,
              "#fdca26"
             ],
             [
              1,
              "#f0f921"
             ]
            ],
            "type": "surface"
           }
          ],
          "table": [
           {
            "cells": {
             "fill": {
              "color": "#EBF0F8"
             },
             "line": {
              "color": "white"
             }
            },
            "header": {
             "fill": {
              "color": "#C8D4E3"
             },
             "line": {
              "color": "white"
             }
            },
            "type": "table"
           }
          ]
         },
         "layout": {
          "annotationdefaults": {
           "arrowcolor": "#2a3f5f",
           "arrowhead": 0,
           "arrowwidth": 1
          },
          "autotypenumbers": "strict",
          "coloraxis": {
           "colorbar": {
            "outlinewidth": 0,
            "ticks": ""
           }
          },
          "colorscale": {
           "diverging": [
            [
             0,
             "#8e0152"
            ],
            [
             0.1,
             "#c51b7d"
            ],
            [
             0.2,
             "#de77ae"
            ],
            [
             0.3,
             "#f1b6da"
            ],
            [
             0.4,
             "#fde0ef"
            ],
            [
             0.5,
             "#f7f7f7"
            ],
            [
             0.6,
             "#e6f5d0"
            ],
            [
             0.7,
             "#b8e186"
            ],
            [
             0.8,
             "#7fbc41"
            ],
            [
             0.9,
             "#4d9221"
            ],
            [
             1,
             "#276419"
            ]
           ],
           "sequential": [
            [
             0,
             "#0d0887"
            ],
            [
             0.1111111111111111,
             "#46039f"
            ],
            [
             0.2222222222222222,
             "#7201a8"
            ],
            [
             0.3333333333333333,
             "#9c179e"
            ],
            [
             0.4444444444444444,
             "#bd3786"
            ],
            [
             0.5555555555555556,
             "#d8576b"
            ],
            [
             0.6666666666666666,
             "#ed7953"
            ],
            [
             0.7777777777777778,
             "#fb9f3a"
            ],
            [
             0.8888888888888888,
             "#fdca26"
            ],
            [
             1,
             "#f0f921"
            ]
           ],
           "sequentialminus": [
            [
             0,
             "#0d0887"
            ],
            [
             0.1111111111111111,
             "#46039f"
            ],
            [
             0.2222222222222222,
             "#7201a8"
            ],
            [
             0.3333333333333333,
             "#9c179e"
            ],
            [
             0.4444444444444444,
             "#bd3786"
            ],
            [
             0.5555555555555556,
             "#d8576b"
            ],
            [
             0.6666666666666666,
             "#ed7953"
            ],
            [
             0.7777777777777778,
             "#fb9f3a"
            ],
            [
             0.8888888888888888,
             "#fdca26"
            ],
            [
             1,
             "#f0f921"
            ]
           ]
          },
          "colorway": [
           "#636efa",
           "#EF553B",
           "#00cc96",
           "#ab63fa",
           "#FFA15A",
           "#19d3f3",
           "#FF6692",
           "#B6E880",
           "#FF97FF",
           "#FECB52"
          ],
          "font": {
           "color": "#2a3f5f"
          },
          "geo": {
           "bgcolor": "white",
           "lakecolor": "white",
           "landcolor": "#E5ECF6",
           "showlakes": true,
           "showland": true,
           "subunitcolor": "white"
          },
          "hoverlabel": {
           "align": "left"
          },
          "hovermode": "closest",
          "mapbox": {
           "style": "light"
          },
          "paper_bgcolor": "white",
          "plot_bgcolor": "#E5ECF6",
          "polar": {
           "angularaxis": {
            "gridcolor": "white",
            "linecolor": "white",
            "ticks": ""
           },
           "bgcolor": "#E5ECF6",
           "radialaxis": {
            "gridcolor": "white",
            "linecolor": "white",
            "ticks": ""
           }
          },
          "scene": {
           "xaxis": {
            "backgroundcolor": "#E5ECF6",
            "gridcolor": "white",
            "gridwidth": 2,
            "linecolor": "white",
            "showbackground": true,
            "ticks": "",
            "zerolinecolor": "white"
           },
           "yaxis": {
            "backgroundcolor": "#E5ECF6",
            "gridcolor": "white",
            "gridwidth": 2,
            "linecolor": "white",
            "showbackground": true,
            "ticks": "",
            "zerolinecolor": "white"
           },
           "zaxis": {
            "backgroundcolor": "#E5ECF6",
            "gridcolor": "white",
            "gridwidth": 2,
            "linecolor": "white",
            "showbackground": true,
            "ticks": "",
            "zerolinecolor": "white"
           }
          },
          "shapedefaults": {
           "line": {
            "color": "#2a3f5f"
           }
          },
          "ternary": {
           "aaxis": {
            "gridcolor": "white",
            "linecolor": "white",
            "ticks": ""
           },
           "baxis": {
            "gridcolor": "white",
            "linecolor": "white",
            "ticks": ""
           },
           "bgcolor": "#E5ECF6",
           "caxis": {
            "gridcolor": "white",
            "linecolor": "white",
            "ticks": ""
           }
          },
          "title": {
           "x": 0.05
          },
          "xaxis": {
           "automargin": true,
           "gridcolor": "white",
           "linecolor": "white",
           "ticks": "",
           "title": {
            "standoff": 15
           },
           "zerolinecolor": "white",
           "zerolinewidth": 2
          },
          "yaxis": {
           "automargin": true,
           "gridcolor": "white",
           "linecolor": "white",
           "ticks": "",
           "title": {
            "standoff": 15
           },
           "zerolinecolor": "white",
           "zerolinewidth": 2
          }
         }
        }
       }
      },
      "text/html": [
       "<div>                            <div id=\"2c439f6e-c667-4b57-a282-35b295863a9f\" class=\"plotly-graph-div\" style=\"height:300px; width:100%;\"></div>            <script type=\"text/javascript\">                require([\"plotly\"], function(Plotly) {                    window.PLOTLYENV=window.PLOTLYENV || {};                                    if (document.getElementById(\"2c439f6e-c667-4b57-a282-35b295863a9f\")) {                    Plotly.newPlot(                        \"2c439f6e-c667-4b57-a282-35b295863a9f\",                        [{\"customdata\": [[\"Dalheim\"], [\"Dalheim\"], [\"Dalheim\"], [\"Dalheim\"], [\"Dalheim\"], [\"Dalheim\"], [\"Dalheim\"], [\"Dalheim\"], [\"Dalheim\"], [\"Camino del Molino\"], [\"Camino del Molino\"], [\"Anse a la Gourde\"], [\"Anse a la Gourde\"], [\"Kh\\u00c3\\u00b6vsg\\u00c3\\u00b6l\"], [\"Kh\\u00c3\\u00b6vsg\\u00c3\\u00b6l\"], [\"Kilteasheen\"], [\"Kilteasheen\"], [\"Kilteasheen\"], [\"Kilteasheen\"], [\"Kilteasheen\"], [\"Kilteasheen\"], [\"Kilteasheen\"], [\"Kilteasheen\"], [\"Kilteasheen\"], [\"Kilteasheen\"], [\"Kilteasheen\"], [\"Kilteasheen\"], [\"Kilteasheen\"], [\"Kilteasheen\"], [\"Kilteasheen\"], [\"Kilteasheen\"], [\"Kilteasheen\"], [\"Kilteasheen\"], [\"Kilteasheen\"], [\"Kilteasheen\"], [\"Kilteasheen\"], [\"Kilteasheen\"], [\"Kilteasheen\"], [\"Kilteasheen\"], [\"Kilteasheen\"], [\"Kilteasheen\"], [\"Kilteasheen\"], [\"Kilteasheen\"], [\"Kilteasheen\"], [\"Kilteasheen\"], [\"Kilteasheen\"], [\"Kilteasheen\"], [\"Kilteasheen\"], [\"Kilteasheen\"], [\"Kilteasheen\"], [\"Kilteasheen\"], [\"Kilteasheen\"], [\"Kilteasheen\"], [\"Kilteasheen\"], [\"Kilteasheen\"], [\"Kilteasheen\"], [\"Kilteasheen\"], [\"Kilteasheen\"], [\"Kilteasheen\"], [\"Kilteasheen\"], [\"Kilteasheen\"], [\"Kilteasheen\"], [\"Kilteasheen\"], [\"Kilteasheen\"], [\"Kilteasheen\"], [\"Norris Farms\"], [\"Norris Farms\"], [\"Middenbeemster\"], [\"Samdzong\"], [\"Samdzong\"], [\"Middenbeemster\"], [\"Camino del Molino\"], [\"Camino del Molino\"], [\"Anse a la Gourde\"], [\"Anse a la Gourde\"], [\"Kh\\u00c3\\u00b6vsg\\u00c3\\u00b6l\"], [\"Kh\\u00c3\\u00b6vsg\\u00c3\\u00b6l\"], [\"Kilteasheen\"], [\"Kilteasheen\"], [\"Kilteasheen\"], [\"Kilteasheen\"], [\"Kilteasheen\"], [\"Kilteasheen\"], [\"Kilteasheen\"], [\"Kilteasheen\"], [\"Kilteasheen\"], [\"Kilteasheen\"], [\"Kilteasheen\"], [\"Kilteasheen\"], [\"Kilteasheen\"], [\"Kilteasheen\"], [\"Kilteasheen\"], [\"Kilteasheen\"], [\"Kilteasheen\"], [\"Kilteasheen\"], [\"Kilteasheen\"], [\"Kilteasheen\"], [\"Kilteasheen\"], [\"Kilteasheen\"], [\"Kilteasheen\"], [\"Kilteasheen\"], [\"Kilteasheen\"], [\"Kilteasheen\"], [\"Kilteasheen\"], [\"Kilteasheen\"], [\"Kilteasheen\"], [\"Kilteasheen\"], [\"Kilteasheen\"], [\"Kilteasheen\"], [\"Kilteasheen\"], [\"Kilteasheen\"], [\"Kilteasheen\"], [\"Kilteasheen\"], [\"Kilteasheen\"], [\"Kilteasheen\"], [\"Kilteasheen\"], [\"Kilteasheen\"], [\"Kilteasheen\"], [\"Kilteasheen\"], [\"Kilteasheen\"], [\"Kilteasheen\"], [\"Kilteasheen\"], [\"Kilteasheen\"], [\"Kilteasheen\"], [\"Kilteasheen\"], [\"Norris Farms\"], [\"Norris Farms\"], [\"Middenbeemster\"], [\"Samdzong\"], [\"Samdzong\"], [\"Middenbeemster\"], [\"Gombe National Park\"], [\"Gombe National Park\"], [\"Gombe National Park\"], [\"Gombe National Park\"], [\"Gombe National Park\"], [\"Gombe National Park\"], [\"Gombe National Park\"], [\"Gombe National Park\"], [\"Gombe National Park\"], [\"Gombe National Park\"], [\"Gombe National Park\"], [\"Gombe National Park\"], [\"Gombe National Park\"], [\"Gombe National Park\"], [\"Gombe National Park\"], [\"Gombe National Park\"], [\"Gombe National Park\"], [\"Gombe National Park\"], [\"Gombe National Park\"], [\"Le Mans\"], [\"Le Mans\"], [\"Le Mans\"], [\"Le Mans\"], [\"Le Mans\"], [\"Le Mans\"], [\"Le Mans\"], [\"Le Mans\"], [\"Le Mans\"], [\"Norris Farms\"], [\"Norris Farms\"], [\"Norris Farms\"], [\"Norris Farms\"], [\"Paso del Indio\"], [\"Yuribey River\"], [\"Yuribey River\"], [\"Yuribey River\"], [\"Yuribey River\"], [\"Yuribey River\"], [\"Yuribey River\"], [\"Yuribey River\"], [\"Yuribey River\"], [\"Peru: Cusco; Occobamba Valley, Tocopoqueu\"], [\"Peru: Cusco; Occobamba Valley, Tocopoqueu\"], [\"Peru: Cusco; Occobamba Valley, Tocopoqueu\"], [\"Peru: Cusco; Occobamba Valley, Tocopoqueu\"], [\"Kenya: N\\u00e2\\u20ac\\u2122Guasso Njiro River, S\\u00c2\\u00a0\"], [\"Kenya: N\\u00e2\\u20ac\\u2122Guasso Njiro River, S\\u00c2\\u00a0\"], [\"Kenya: N\\u00e2\\u20ac\\u2122Guasso Njiro River, S\\u00c2\\u00a0\"], [\"Kenya: N\\u00e2\\u20ac\\u2122Guasso Njiro River, S\\u00c2\\u00a0\"], [\"Indonesia: Celebes Island, Gimpoe\\u00c2\\u00a0\"], [\"Indonesia: Celebes Island, Gimpoe\\u00c2\\u00a0\"], [\"Indonesia: Celebes Island, Gimpoe\\u00c2\\u00a0\"], [\"Indonesia: Celebes Island, Gimpoe\\u00c2\\u00a0\"], [\"Teposcolula Yucundaa\"], [\"Teposcolula Yucundaa\"], [\"Teposcolula Yucundaa\"], [\"Teposcolula Yucundaa\"], [\"Teposcolula Yucundaa\"], [\"Teposcolula Yucundaa\"], [\"Teposcolula Yucundaa\"], [\"Teposcolula Yucundaa\"], [\"Upper Providence, Delaware County, Pennsylvania\"], [\"Swarthmore, Delaware County, Pennsylvania\"], [\"Lansdowne, Delaware County, Pennsylvania\"], [\"West Philadelphia, Philadelphia\"], [\"Easton, Philadelphia\"], [\"Iowa City, Iowa\"], [\"Ames, Iowa\"], [\"Des Moines, Iowa\"], [\"Ames, Iowa\"], [\"Ames, Iowa\"], [\"Ames, Iowa\"], [\"Connecticut (in Ohio State University)\"], [\"Ohio (in Ohio State University)\"], [\"Ohio (in Ohio State University)\"], [\"Ohio (in Ohio State University)\"], [\"Ohio (in Ohio State University)\"], [\"Ohio (in Ohio State University)\"], [\"Ohio (in Ohio State University)\"], [\"Ohio (in Ohio State University)\"], [\"Ohio (in Ohio State University)\"], [\"Ohio (in Ohio State University)\"], [\"Ohio (in University of Connecticut Herbarium)\"], [\"Ohio (in University of Connecticut Herbarium)\"], [\"Ohio (in University of Connecticut Herbarium)\"], [\"New Jersey (in University of Connecticut Herbarium)\"], [\"Connecticut (in University of Connecticut Herbarium)\"], [\"Connecticut (in University of Connecticut Herbarium)\"], [\"Connecticut (in University of Connecticut Herbarium)\"], [\"Ohio (in Chicago Field Museum)\"], [\"Indiana (in Chicago Field Museum)\"], [\"New Jersey (in Chicago Field Museum)\"], [\"Utah (In New York Botanical Garden)\"], [\"New York (In New York Botanical Garden)\"], [\"Tennessee (In New York Botanical Garden)\"], [\"Georgia (in New York Botanical Garden)\"], [\"District of Columbia (in New York Botanical Garden)\"], [\"New York (In New York Botanical Garden)\"], [\"New Jersey (in New York Botanical Garden)\"], [\"New Jersey (in New York Botanical Garden)\"], [\"New York (In New York Botanical Garden)\"], [\"District of Columbia (in New York Botanical Garden)\"], [\"North Carolina (in New York Botanical Garden)\"], [\"District of Columbia (in New York Botanical Garden)\"], [\"Delaware (in New York Botanical Garden)\"], [\"Utah (In New York Botanical Garden)\"], [\"CA-SCL-919, Santa Clara County\"], [\"CA-SCL-919, Santa Clara County\"], [\"CA-SCL-919, Santa Clara County\"], [\"CA-SCL-919, Santa Clara County\"], [\"Porticus Octaviae (Rome)\"], [\"Porticus Octaviae (Rome)\"], [\"Porticus Octaviae (Rome)\"], [\"Place d'Armes, Namur\"], [\"Tokyo\"], [\"Tokyo\"], [\"Tokyo\"], [\"Tokyo\"], [\"Ebishima\"], [\"Miyano\"], [\"Miyano\"], [\"Ikawazu\"], [\"Tokyo\"], [\"Tokyo\"], [\"Tokyo\"], [\"Tokyo\"], [\"Tokyo\"], [\"Tokyo\"], [\"Miyano\"], [\"Chan Chich\"], [\"Chan Chich\"], [\"Chan Chich\"], [\"Chan Chich\"], [\"Chan Chich\"], [\"Chan\"], [\"Chan\"], [\"Perdalba (Sardara)\"], [\"Perdalba (Sardara)\"], [\"Perdalba (Sardara)\"], [\"Capo Pecora (Arbus)\"], [\"Capo Pecora (Arbus)\"], [\"Capo Pecora (Arbus)\"], [\"Capo Pecora (Arbus)\"], [\"Lu Maccioni (Alghero)\"], [\"Lu Maccioni (Alghero)\"], [\"Lu Maccioni (Alghero)\"], [\"Lu Maccioni (Alghero)\"], [\"Riga\"], [\"Jerusalem\"], [\"Medical Collection, American Museum of Natural History (New York)\"], [\"Kodiak Island Collection, National Museum of Natural History (Washington D.C.)\"], [\"Gniezno\"], [\"Gniezno\"], [\"Kowalewko\"], [\"Kowalewko\"], [\"Kowalewko\"], [\"Kowalewko\"], [\"Kowalewko\"], [\"Kowalewko\"], [\"Kowalewko\"], [\"Kowalewko\"], [\"Kowalewko\"], [\"Kowalewko\"], [\"Kowalewko\"], [\"Kowalewko\"], [\"Kowalewko\"], [\"Kowalewko\"], [\"Kowalewko\"], [\"Kowalewko\"], [\"Kowalewko\"], [\"Kowalewko\"], [\"Kowalewko\"], [\"Kowalewko\"], [\"Kowalewko\"], [\"Kowalewko\"], [\"Kowalewko\"], [\"Kowalewko\"], [\"Kowalewko\"], [\"Kowalewko\"], [\"Kowalewko\"], [\"Kowalewko\"], [\"Kowalewko\"], [\"Kowalewko\"], [\"Kowalewko\"], [\"Kowalewko\"], [\"Kowalewko\"], [\"Kowalewko\"], [\"Kowalewko\"], [\"Kowalewko\"], [\"Kowalewko\"], [\"Kowalewko\"], [\"Kowalewko\"], [\"Kowalewko\"], [\"Kowalewko\"], [\"Kowalewko\"], [\"Kowalewko\"], [\"Kowalewko\"], [\"Kowalewko\"], [\"Kowalewko\"], [\"Kowalewko\"], [\"Kowalewko\"], [\"Kowalewko\"], [\"Kowalewko\"], [\"Kowalewko\"], [\"Kowalewko\"], [\"Kowalewko\"], [\"Kowalewko\"], [\"Kowalewko\"], [\"Kowalewko\"], [\"Kowalewko\"], [\"Kowalewko\"], [\"Kowalewko\"], [\"Kowalewko\"], [\"Kowalewko\"], [\"\\u00c5<81>\\u00c4\\u2122gowo\"], [\"\\u00c5<81>\\u00c4\\u2122gowo\"], [\"\\u00c5<81>\\u00c4\\u2122gowo\"], [\"\\u00c5<81>\\u00c4\\u2122gowo\"], [\"\\u00c5<81>\\u00c4\\u2122gowo\"], [\"\\u00c5<81>\\u00c4\\u2122gowo\"], [\"\\u00c5<81>\\u00c4\\u2122gowo\"], [\"\\u00c5<81>\\u00c4\\u2122gowo\"], [\"\\u00c5<81>\\u00c4\\u2122gowo\"], [\"Markowice\"], [\"Markowice\"], [\"Markowice\"], [\"Markowice\"], [\"Markowice\"], [\"Markowice\"], [\"Markowice\"], [\"Markowice\"], [\"Mas\\u00c5\\u201aom\\u00c4\\u2122cz\"], [\"Mas\\u00c5\\u201aom\\u00c4\\u2122cz\"], [\"Mas\\u00c5\\u201aom\\u00c4\\u2122cz\"], [\"Mas\\u00c5\\u201aom\\u00c4\\u2122cz\"], [\"Mas\\u00c5\\u201aom\\u00c4\\u2122cz\"], [\"Mas\\u00c5\\u201aom\\u00c4\\u2122cz\"], [\"Mas\\u00c5\\u201aom\\u00c4\\u2122cz\"], [\"Mas\\u00c5\\u201aom\\u00c4\\u2122cz\"], [\"Mas\\u00c5\\u201aom\\u00c4\\u2122cz\"], [\"Mas\\u00c5\\u201aom\\u00c4\\u2122cz\"], [\"Mas\\u00c5\\u201aom\\u00c4\\u2122cz\"], [\"Mas\\u00c5\\u201aom\\u00c4\\u2122cz\"], [\"Mas\\u00c5\\u201aom\\u00c4\\u2122cz\"], [\"Mas\\u00c5\\u201aom\\u00c4\\u2122cz\"], [\"Mas\\u00c5\\u201aom\\u00c4\\u2122cz\"], [\"Mas\\u00c5\\u201aom\\u00c4\\u2122cz\"], [\"Mas\\u00c5\\u201aom\\u00c4\\u2122cz\"], [\"Mas\\u00c5\\u201aom\\u00c4\\u2122cz\"], [\"Mas\\u00c5\\u201aom\\u00c4\\u2122cz\"], [\"Mas\\u00c5\\u201aom\\u00c4\\u2122cz\"], [\"Mas\\u00c5\\u201aom\\u00c4\\u2122cz\"], [\"Mas\\u00c5\\u201aom\\u00c4\\u2122cz\"], [\"Mas\\u00c5\\u201aom\\u00c4\\u2122cz\"], [\"Mas\\u00c5\\u201aom\\u00c4\\u2122cz\"], [\"Mas\\u00c5\\u201aom\\u00c4\\u2122cz\"], [\"Mas\\u00c5\\u201aom\\u00c4\\u2122cz\"], [\"Mas\\u00c5\\u201aom\\u00c4\\u2122cz\"], [\"Niemcza\"], [\"Niemcza\"], [\"Niemcza\"], [\"Niemcza\"], [\"Niemcza\"], [\"Niemcza\"], [\"Niemcza\"], [\"Niemcza\"], [\"Niemcza\"], [\"Niemcza\"], [\"Niemcza\"], [\"Niemcza\"], [\"Niemcza\"], [\"Niemcza\"], [\"Niemcza\"], [\"Niemcza\"], [\"Niemcza\"], [\"Niemcza\"], [\"Niemcza\"], [\"Niemcza\"], [\"Niemcza\"], [\"Niemcza\"], [\"Niemcza\"], [\"Niemcza\"], [\"Niemcza\"], [\"Niemcza\"], [\"Niemcza\"], [\"Niemcza\"], [\"Niemcza\"], [\"Niemcza\"], [\"Niemcza\"], [\"Niemcza\"], [\"Niemcza\"], [\"Niemcza\"], [\"Niemcza\"], [\"Niemcza\"], [\"Niemcza\"], [\"Sowinki\"], [\"Sowinki\"], [\"Sowinki\"], [\"Sowinki\"], [\"Sowinki\"], [\"Sowinki\"], [\"Sowinki\"], [\"Sowinki\"], [\"Sowinki\"], [\"Sowinki\"], [\"Sowinki\"], [\"Sowinki\"], [\"Sowinki\"], [\"Sowinki\"], [\"Sowinki\"], [\"Sowinki\"], [\"Sowinki\"], [\"Sowinki\"], [\"Sowinki\"], [\"Sowinki\"], [\"Sowinki\"]], \"hovertemplate\": \"<b>%{hovertext}</b><br><br>latitude=%{lat}<br>longitude=%{lon}<br>site_name=%{customdata[0]}<extra></extra>\", \"hovertext\": [\"Germany\", \"Germany\", \"Germany\", \"Germany\", \"Germany\", \"Germany\", \"Germany\", \"Germany\", \"Germany\", \"Spain\", \"Spain\", \"Guadeloupe\", \"Guadeloupe\", \"Mongolia\", \"Mongolia\", \"Ireland\", \"Ireland\", \"Ireland\", \"Ireland\", \"Ireland\", \"Ireland\", \"Ireland\", \"Ireland\", \"Ireland\", \"Ireland\", \"Ireland\", \"Ireland\", \"Ireland\", \"Ireland\", \"Ireland\", \"Ireland\", \"Ireland\", \"Ireland\", \"Ireland\", \"Ireland\", \"Ireland\", \"Ireland\", \"Ireland\", \"Ireland\", \"Ireland\", \"Ireland\", \"Ireland\", \"Ireland\", \"Ireland\", \"Ireland\", \"Ireland\", \"Ireland\", \"Ireland\", \"Ireland\", \"Ireland\", \"Ireland\", \"Ireland\", \"Ireland\", \"Ireland\", \"Ireland\", \"Ireland\", \"Ireland\", \"Ireland\", \"Ireland\", \"Ireland\", \"Ireland\", \"Ireland\", \"Ireland\", \"Ireland\", \"Ireland\", \"USA\", \"USA\", \"Netherlands\", \"Nepal\", \"Nepal\", \"Netherlands\", \"Spain\", \"Spain\", \"Guadeloupe\", \"Guadeloupe\", \"Mongolia\", \"Mongolia\", \"Ireland\", \"Ireland\", \"Ireland\", \"Ireland\", \"Ireland\", \"Ireland\", \"Ireland\", \"Ireland\", \"Ireland\", \"Ireland\", \"Ireland\", \"Ireland\", \"Ireland\", \"Ireland\", \"Ireland\", \"Ireland\", \"Ireland\", \"Ireland\", \"Ireland\", \"Ireland\", \"Ireland\", \"Ireland\", \"Ireland\", \"Ireland\", \"Ireland\", \"Ireland\", \"Ireland\", \"Ireland\", \"Ireland\", \"Ireland\", \"Ireland\", \"Ireland\", \"Ireland\", \"Ireland\", \"Ireland\", \"Ireland\", \"Ireland\", \"Ireland\", \"Ireland\", \"Ireland\", \"Ireland\", \"Ireland\", \"Ireland\", \"Ireland\", \"Ireland\", \"Ireland\", \"Ireland\", \"Ireland\", \"USA\", \"USA\", \"Netherlands\", \"Nepal\", \"Nepal\", \"Netherlands\", \"Tanzania\", \"Tanzania\", \"Tanzania\", \"Tanzania\", \"Tanzania\", \"Tanzania\", \"Tanzania\", \"Tanzania\", \"Tanzania\", \"Tanzania\", \"Tanzania\", \"Tanzania\", \"Tanzania\", \"Tanzania\", \"Tanzania\", \"Tanzania\", \"Tanzania\", \"Tanzania\", \"Tanzania\", \"France\", \"France\", \"France\", \"France\", \"France\", \"France\", \"France\", \"France\", \"France\", \"USA\", \"USA\", \"USA\", \"USA\", \"USA\", \"Russia\", \"Russia\", \"Russia\", \"Russia\", \"Russia\", \"Russia\", \"Russia\", \"Russia\", \"Peru\", \"Peru\", \"Peru\", \"Peru\", \"Kenya\", \"Kenya\", \"Kenya\", \"Kenya\", \"Indonesia\", \"Indonesia\", \"Indonesia\", \"Indonesia\", \"Mexico\", \"Mexico\", \"Mexico\", \"Mexico\", \"Mexico\", \"Mexico\", \"Mexico\", \"Mexico\", \"USA\", \"USA\", \"USA\", \"USA\", \"USA\", \"USA\", \"USA\", \"USA\", \"USA\", \"USA\", \"USA\", \"USA\", \"USA\", \"USA\", \"USA\", \"USA\", \"USA\", \"USA\", \"USA\", \"USA\", \"USA\", \"USA\", \"USA\", \"USA\", \"USA\", \"USA\", \"USA\", \"USA\", \"USA\", \"USA\", \"USA\", \"USA\", \"USA\", \"USA\", \"USA\", \"USA\", \"USA\", \"USA\", \"USA\", \"USA\", \"USA\", \"USA\", \"USA\", \"USA\", \"USA\", \"USA\", \"USA\", \"USA\", \"USA\", \"Italy\", \"Italy\", \"Italy\", \"Belgium\", \"Japan\", \"Japan\", \"Japan\", \"Japan\", \"Japan\", \"Japan\", \"Japan\", \"Japan\", \"Japan\", \"Japan\", \"Japan\", \"Japan\", \"Japan\", \"Japan\", \"Japan\", \"Belize\", \"Belize\", \"Belize\", \"Belize\", \"Belize\", \"Belize\", \"Belize\", \"Italy\", \"Italy\", \"Italy\", \"Italy\", \"Italy\", \"Italy\", \"Italy\", \"Italy\", \"Italy\", \"Italy\", \"Italy\", \"Latvia\", \"West Bank\", \"USA\", \"USA\", \"Poland\", \"Poland\", \"Poland\", \"Poland\", \"Poland\", \"Poland\", \"Poland\", \"Poland\", \"Poland\", \"Poland\", \"Poland\", \"Poland\", \"Poland\", \"Poland\", \"Poland\", \"Poland\", \"Poland\", \"Poland\", \"Poland\", \"Poland\", \"Poland\", \"Poland\", \"Poland\", \"Poland\", \"Poland\", \"Poland\", \"Poland\", \"Poland\", \"Poland\", \"Poland\", \"Poland\", \"Poland\", \"Poland\", \"Poland\", \"Poland\", \"Poland\", \"Poland\", \"Poland\", \"Poland\", \"Poland\", \"Poland\", \"Poland\", \"Poland\", \"Poland\", \"Poland\", \"Poland\", \"Poland\", \"Poland\", \"Poland\", \"Poland\", \"Poland\", \"Poland\", \"Poland\", \"Poland\", \"Poland\", \"Poland\", \"Poland\", \"Poland\", \"Poland\", \"Poland\", \"Poland\", \"Poland\", \"Poland\", \"Poland\", \"Poland\", \"Poland\", \"Poland\", \"Poland\", \"Poland\", \"Poland\", \"Poland\", \"Poland\", \"Poland\", \"Poland\", \"Poland\", \"Poland\", \"Poland\", \"Poland\", \"Poland\", \"Poland\", \"Poland\", \"Poland\", \"Poland\", \"Poland\", \"Poland\", \"Poland\", \"Poland\", \"Poland\", \"Poland\", \"Poland\", \"Poland\", \"Poland\", \"Poland\", \"Poland\", \"Poland\", \"Poland\", \"Poland\", \"Poland\", \"Poland\", \"Poland\", \"Poland\", \"Poland\", \"Poland\", \"Poland\", \"Poland\", \"Poland\", \"Poland\", \"Poland\", \"Poland\", \"Poland\", \"Poland\", \"Poland\", \"Poland\", \"Poland\", \"Poland\", \"Poland\", \"Poland\", \"Poland\", \"Poland\", \"Poland\", \"Poland\", \"Poland\", \"Poland\", \"Poland\", \"Poland\", \"Poland\", \"Poland\", \"Poland\", \"Poland\", \"Poland\", \"Poland\", \"Poland\", \"Poland\", \"Poland\", \"Poland\", \"Poland\", \"Poland\", \"Poland\", \"Poland\", \"Poland\", \"Poland\", \"Poland\", \"Poland\", \"Poland\", \"Poland\", \"Poland\", \"Poland\", \"Poland\", \"Poland\", \"Poland\", \"Poland\", \"Poland\", \"Poland\", \"Poland\", \"Poland\", \"Poland\", \"Poland\", \"Poland\", \"Poland\", \"Poland\", \"Poland\", \"Poland\", \"Poland\", \"Poland\", \"Poland\"], \"lat\": [51.565, 51.565, 51.565, 51.565, 51.565, 51.565, 51.565, 51.565, 51.565, 38.102, 38.102, 16.254, 16.254, 49.66, 49.66, 54.005, 54.005, 54.005, 54.005, 54.005, 54.005, 54.005, 54.005, 54.005, 54.005, 54.005, 54.005, 54.005, 54.005, 54.005, 54.005, 54.005, 54.005, 54.005, 54.005, 54.005, 54.005, 54.005, 54.005, 54.005, 54.005, 54.005, 54.005, 54.005, 54.005, 54.005, 54.005, 54.005, 54.005, 54.005, 54.005, 54.005, 54.005, 54.005, 54.005, 54.005, 54.005, 54.005, 54.005, 54.005, 54.005, 54.005, 54.005, 54.005, 54.005, 40.23, 40.23, 52.548, 29.27, 29.27, 52.548, 38.102, 38.102, 16.254, 16.254, 49.66, 49.66, 54.005, 54.005, 54.005, 54.005, 54.005, 54.005, 54.005, 54.005, 54.005, 54.005, 54.005, 54.005, 54.005, 54.005, 54.005, 54.005, 54.005, 54.005, 54.005, 54.005, 54.005, 54.005, 54.005, 54.005, 54.005, 54.005, 54.005, 54.005, 54.005, 54.005, 54.005, 54.005, 54.005, 54.005, 54.005, 54.005, 54.005, 54.005, 54.005, 54.005, 54.005, 54.005, 54.005, 54.005, 54.005, 54.005, 54.005, 54.005, 40.23, 40.23, 52.548, 29.27, 29.27, 52.548, -4.69, -4.69, -4.69, -4.69, -4.69, -4.69, -4.69, -4.69, -4.69, -4.69, -4.69, -4.69, -4.69, -4.69, -4.69, -4.69, -4.69, -4.69, -4.69, 48.006, 48.006, 48.006, 48.006, 48.006, 48.006, 48.006, 48.006, 48.006, 40.23, 40.23, 40.23, 40.23, 18.41, 68.633, 68.633, 68.633, 68.633, 68.633, 68.633, 68.633, 68.633, -13.47, -13.47, -13.47, -13.47, 1.0, 1.0, 1.0, 1.0, -2.06, -2.06, -2.06, -2.06, 17.49, 17.49, 17.49, 17.49, 17.49, 17.49, 17.49, 17.49, 40.1, 39.9, 39.9, 39.9, 40.0, 41.6, 42.0, 41.5, 42.0, 42.0, 42.0, 41.0, 39.688, 41.721, 39.956, 41.102, 39.956, 41.137, 39.5, 40.0, 41.867, 40.0, 40.0, 40.0, 39.856, 41.224, 41.666, 41.509, 41.48, 41.482, 39.856, 40.643, 41.15, 35.99, 32.0, 38.906, 43.192, 40.924, 41.122, 39.97, 38.906, 35.0, 38.906, 38.715, 40.643, 37.3, 37.3, 37.3, 37.3, 41.892, 41.892, 41.892, 50.46, 35.71, 35.71, 35.71, 35.71, 38.83, 39.12, 39.12, 34.64, 35.71, 35.71, 35.71, 35.71, 35.71, 35.713, 39.12, 17.53, 17.53, 17.53, 17.53, 17.53, 17.53, 17.53, 39.58, 39.58, 39.58, 39.448, 39.448, 39.448, 39.448, 40.544, 40.544, 40.544, 40.544, 56.94, 31.77, 40.781, 38.891, 52.538, 52.538, 52.699, 52.699, 52.699, 52.699, 52.699, 52.699, 52.699, 52.699, 52.699, 52.699, 52.699, 52.699, 52.699, 52.699, 52.699, 52.699, 52.699, 52.699, 52.699, 52.699, 52.699, 52.699, 52.699, 52.699, 52.699, 52.699, 52.699, 52.699, 52.699, 52.699, 52.699, 52.699, 52.699, 52.699, 52.699, 52.699, 52.699, 52.699, 52.699, 52.699, 52.699, 52.699, 52.699, 52.699, 52.699, 52.699, 52.699, 52.699, 52.699, 52.699, 52.699, 52.699, 52.699, 52.699, 52.699, 52.699, 52.699, 52.699, 52.699, 52.699, 52.699, 54.226, 54.226, 54.226, 54.226, 54.226, 54.226, 54.226, 54.226, 54.226, 52.313, 52.313, 52.313, 52.313, 52.313, 52.313, 52.313, 52.313, 50.722, 50.722, 50.722, 50.722, 50.722, 50.722, 50.722, 50.722, 50.722, 50.722, 50.722, 50.722, 50.722, 50.722, 50.722, 50.722, 50.722, 50.722, 50.722, 50.722, 50.722, 50.722, 50.722, 50.722, 50.722, 50.722, 50.722, 50.719, 50.719, 50.719, 50.719, 50.719, 50.719, 50.719, 50.719, 50.719, 50.719, 50.719, 50.719, 50.719, 50.719, 50.719, 50.719, 50.719, 50.719, 50.719, 50.719, 50.719, 50.719, 50.719, 50.719, 50.719, 50.719, 50.719, 50.719, 50.719, 50.719, 50.719, 50.719, 50.719, 50.719, 50.719, 50.719, 50.719, 52.211, 52.211, 52.211, 52.211, 52.211, 52.211, 52.211, 52.211, 52.211, 52.211, 52.211, 52.211, 52.211, 52.211, 52.211, 52.211, 52.211, 52.211, 52.211, 52.211, 52.211], \"legendgroup\": \"\", \"lon\": [8.84, 8.84, 8.84, 8.84, 8.84, 8.84, 8.84, 8.84, 8.84, -1.865, -1.865, -61.203, -61.203, 99.61, 99.61, -8.201, -8.201, -8.201, -8.201, -8.201, -8.201, -8.201, -8.201, -8.201, -8.201, -8.201, -8.201, -8.201, -8.201, -8.201, -8.201, -8.201, -8.201, -8.201, -8.201, -8.201, -8.201, -8.201, -8.201, -8.201, -8.201, -8.201, -8.201, -8.201, -8.201, -8.201, -8.201, -8.201, -8.201, -8.201, -8.201, -8.201, -8.201, -8.201, -8.201, -8.201, -8.201, -8.201, -8.201, -8.201, -8.201, -8.201, -8.201, -8.201, -8.201, -90.143, -90.143, 4.912, 84.03, 84.03, 4.912, -1.865, -1.865, -61.203, -61.203, 99.61, 99.61, -8.201, -8.201, -8.201, -8.201, -8.201, -8.201, -8.201, -8.201, -8.201, -8.201, -8.201, -8.201, -8.201, -8.201, -8.201, -8.201, -8.201, -8.201, -8.201, -8.201, -8.201, -8.201, -8.201, -8.201, -8.201, -8.201, -8.201, -8.201, -8.201, -8.201, -8.201, -8.201, -8.201, -8.201, -8.201, -8.201, -8.201, -8.201, -8.201, -8.201, -8.201, -8.201, -8.201, -8.201, -8.201, -8.201, -8.201, -8.201, -90.143, -90.143, 4.912, 84.03, 84.03, 4.912, 29.62, 29.62, 29.62, 29.62, 29.62, 29.62, 29.62, 29.62, 29.62, 29.62, 29.62, 29.62, 29.62, 29.62, 29.62, 29.62, 29.62, 29.62, 29.62, 0.199, 0.199, 0.199, 0.199, 0.199, 0.199, 0.199, 0.199, 0.199, -90.143, -90.143, -90.143, -90.143, -66.33, 71.666, 71.666, 71.666, 71.666, 71.666, 71.666, 71.666, 71.666, -73.56, -73.56, -73.56, -73.56, 37.0, 37.0, 37.0, 37.0, 120.37, 120.37, 120.37, 120.37, -97.46, -97.46, -97.46, -97.46, -97.46, -97.46, -97.46, -97.46, -75.4, -75.3, -75.2, -75.2, -75.1, -91.5, -93.6, -93.6, -93.6, -93.6, -93.6, -72.0, -82.993, -81.243, -81.953, -81.56, -81.953, -81.863, -82.472, -82.0, -80.789, -82.0, -82.0, -82.0, -74.686, -73.06, -73.508, -72.543, -86.82, -86.822, -74.686, -111.951, -73.766, -83.94, -83.0, -77.036, -77.01, -74.075, -74.356, -83.01, -77.037, -79.0, -77.037, -75.631, -111.967, -121.8, -121.8, -121.8, -121.8, 12.478, 12.478, 12.478, 4.86, 139.78, 139.78, 139.78, 139.78, 141.18, 141.81, 141.81, 137.14, 139.78, 139.78, 139.78, 139.78, 139.78, 139.767, 141.81, -89.11, -89.11, -89.11, -89.11, -89.11, -89.11, -89.11, 8.85, 8.85, 8.85, 8.391, 8.391, 8.391, 8.391, 8.321, 8.321, 8.321, 8.321, 24.11, 35.22, -73.974, -77.026, 17.597, 17.597, 17.605, 17.605, 17.605, 17.605, 17.605, 17.605, 17.605, 17.605, 17.605, 17.605, 17.605, 17.605, 17.605, 17.605, 17.605, 17.605, 17.605, 17.605, 17.605, 17.605, 17.605, 17.605, 17.605, 17.605, 17.605, 17.605, 17.605, 17.605, 17.605, 17.605, 17.605, 17.605, 17.605, 17.605, 17.605, 17.605, 17.605, 17.605, 17.605, 17.605, 17.605, 17.605, 17.605, 17.605, 17.605, 17.605, 17.605, 17.605, 17.605, 17.605, 17.605, 17.605, 17.605, 17.605, 17.605, 17.605, 17.605, 17.605, 17.605, 17.605, 17.605, 18.642, 18.642, 18.642, 18.642, 18.642, 18.642, 18.642, 18.642, 18.642, 17.215, 17.215, 17.215, 17.215, 17.215, 17.215, 17.215, 17.215, 23.892, 23.892, 23.892, 23.892, 23.892, 23.892, 23.892, 23.892, 23.892, 23.892, 23.892, 23.892, 23.892, 23.892, 23.892, 23.892, 23.892, 23.892, 23.892, 23.892, 23.892, 23.892, 23.892, 23.892, 23.892, 23.892, 23.892, 16.835, 16.835, 16.835, 16.835, 16.835, 16.835, 16.835, 16.835, 16.835, 16.835, 16.835, 16.835, 16.835, 16.835, 16.835, 16.835, 16.835, 16.835, 16.835, 16.835, 16.835, 16.835, 16.835, 16.835, 16.835, 16.835, 16.835, 16.835, 16.835, 16.835, 16.835, 16.835, 16.835, 16.835, 16.835, 16.835, 16.835, 16.893, 16.893, 16.893, 16.893, 16.893, 16.893, 16.893, 16.893, 16.893, 16.893, 16.893, 16.893, 16.893, 16.893, 16.893, 16.893, 16.893, 16.893, 16.893, 16.893, 16.893], \"marker\": {\"color\": \"red\"}, \"mode\": \"markers\", \"name\": \"\", \"showlegend\": false, \"subplot\": \"mapbox\", \"type\": \"scattermapbox\"}],                        {\"height\": 300, \"legend\": {\"tracegroupgap\": 0}, \"mapbox\": {\"center\": {\"lat\": 44.285874720358116, \"lon\": 0.14370022371364743}, \"domain\": {\"x\": [0.0, 1.0], \"y\": [0.0, 1.0]}, \"style\": \"open-street-map\", \"zoom\": 2}, \"margin\": {\"b\": 0, \"l\": 0, \"r\": 0, \"t\": 0}, \"template\": {\"data\": {\"bar\": [{\"error_x\": {\"color\": \"#2a3f5f\"}, \"error_y\": {\"color\": \"#2a3f5f\"}, \"marker\": {\"line\": {\"color\": \"#E5ECF6\", \"width\": 0.5}}, \"type\": \"bar\"}], \"barpolar\": [{\"marker\": {\"line\": {\"color\": \"#E5ECF6\", \"width\": 0.5}}, \"type\": \"barpolar\"}], \"carpet\": [{\"aaxis\": {\"endlinecolor\": \"#2a3f5f\", \"gridcolor\": \"white\", \"linecolor\": \"white\", \"minorgridcolor\": \"white\", \"startlinecolor\": \"#2a3f5f\"}, \"baxis\": {\"endlinecolor\": \"#2a3f5f\", \"gridcolor\": \"white\", \"linecolor\": \"white\", \"minorgridcolor\": \"white\", \"startlinecolor\": \"#2a3f5f\"}, \"type\": \"carpet\"}], \"choropleth\": [{\"colorbar\": {\"outlinewidth\": 0, \"ticks\": \"\"}, \"type\": \"choropleth\"}], \"contour\": [{\"colorbar\": {\"outlinewidth\": 0, \"ticks\": \"\"}, \"colorscale\": [[0.0, \"#0d0887\"], [0.1111111111111111, \"#46039f\"], [0.2222222222222222, \"#7201a8\"], [0.3333333333333333, \"#9c179e\"], [0.4444444444444444, \"#bd3786\"], [0.5555555555555556, \"#d8576b\"], [0.6666666666666666, \"#ed7953\"], [0.7777777777777778, \"#fb9f3a\"], [0.8888888888888888, \"#fdca26\"], [1.0, \"#f0f921\"]], \"type\": \"contour\"}], \"contourcarpet\": [{\"colorbar\": {\"outlinewidth\": 0, \"ticks\": \"\"}, \"type\": \"contourcarpet\"}], \"heatmap\": [{\"colorbar\": {\"outlinewidth\": 0, \"ticks\": \"\"}, \"colorscale\": [[0.0, \"#0d0887\"], [0.1111111111111111, \"#46039f\"], [0.2222222222222222, \"#7201a8\"], [0.3333333333333333, \"#9c179e\"], [0.4444444444444444, \"#bd3786\"], [0.5555555555555556, \"#d8576b\"], [0.6666666666666666, \"#ed7953\"], [0.7777777777777778, \"#fb9f3a\"], [0.8888888888888888, \"#fdca26\"], [1.0, \"#f0f921\"]], \"type\": \"heatmap\"}], \"heatmapgl\": [{\"colorbar\": {\"outlinewidth\": 0, \"ticks\": \"\"}, \"colorscale\": [[0.0, \"#0d0887\"], [0.1111111111111111, \"#46039f\"], [0.2222222222222222, \"#7201a8\"], [0.3333333333333333, \"#9c179e\"], [0.4444444444444444, \"#bd3786\"], [0.5555555555555556, \"#d8576b\"], [0.6666666666666666, \"#ed7953\"], [0.7777777777777778, \"#fb9f3a\"], [0.8888888888888888, \"#fdca26\"], [1.0, \"#f0f921\"]], \"type\": \"heatmapgl\"}], \"histogram\": [{\"marker\": {\"colorbar\": {\"outlinewidth\": 0, \"ticks\": \"\"}}, \"type\": \"histogram\"}], \"histogram2d\": [{\"colorbar\": {\"outlinewidth\": 0, \"ticks\": \"\"}, \"colorscale\": [[0.0, \"#0d0887\"], [0.1111111111111111, \"#46039f\"], [0.2222222222222222, \"#7201a8\"], [0.3333333333333333, \"#9c179e\"], [0.4444444444444444, \"#bd3786\"], [0.5555555555555556, \"#d8576b\"], [0.6666666666666666, \"#ed7953\"], [0.7777777777777778, \"#fb9f3a\"], [0.8888888888888888, \"#fdca26\"], [1.0, \"#f0f921\"]], \"type\": \"histogram2d\"}], \"histogram2dcontour\": [{\"colorbar\": {\"outlinewidth\": 0, \"ticks\": \"\"}, \"colorscale\": [[0.0, \"#0d0887\"], [0.1111111111111111, \"#46039f\"], [0.2222222222222222, \"#7201a8\"], [0.3333333333333333, \"#9c179e\"], [0.4444444444444444, \"#bd3786\"], [0.5555555555555556, \"#d8576b\"], [0.6666666666666666, \"#ed7953\"], [0.7777777777777778, \"#fb9f3a\"], [0.8888888888888888, \"#fdca26\"], [1.0, \"#f0f921\"]], \"type\": \"histogram2dcontour\"}], \"mesh3d\": [{\"colorbar\": {\"outlinewidth\": 0, \"ticks\": \"\"}, \"type\": \"mesh3d\"}], \"parcoords\": [{\"line\": {\"colorbar\": {\"outlinewidth\": 0, \"ticks\": \"\"}}, \"type\": \"parcoords\"}], \"pie\": [{\"automargin\": true, \"type\": \"pie\"}], \"scatter\": [{\"marker\": {\"colorbar\": {\"outlinewidth\": 0, \"ticks\": \"\"}}, \"type\": \"scatter\"}], \"scatter3d\": [{\"line\": {\"colorbar\": {\"outlinewidth\": 0, \"ticks\": \"\"}}, \"marker\": {\"colorbar\": {\"outlinewidth\": 0, \"ticks\": \"\"}}, \"type\": \"scatter3d\"}], \"scattercarpet\": [{\"marker\": {\"colorbar\": {\"outlinewidth\": 0, \"ticks\": \"\"}}, \"type\": \"scattercarpet\"}], \"scattergeo\": [{\"marker\": {\"colorbar\": {\"outlinewidth\": 0, \"ticks\": \"\"}}, \"type\": \"scattergeo\"}], \"scattergl\": [{\"marker\": {\"colorbar\": {\"outlinewidth\": 0, \"ticks\": \"\"}}, \"type\": \"scattergl\"}], \"scattermapbox\": [{\"marker\": {\"colorbar\": {\"outlinewidth\": 0, \"ticks\": \"\"}}, \"type\": \"scattermapbox\"}], \"scatterpolar\": [{\"marker\": {\"colorbar\": {\"outlinewidth\": 0, \"ticks\": \"\"}}, \"type\": \"scatterpolar\"}], \"scatterpolargl\": [{\"marker\": {\"colorbar\": {\"outlinewidth\": 0, \"ticks\": \"\"}}, \"type\": \"scatterpolargl\"}], \"scatterternary\": [{\"marker\": {\"colorbar\": {\"outlinewidth\": 0, \"ticks\": \"\"}}, \"type\": \"scatterternary\"}], \"surface\": [{\"colorbar\": {\"outlinewidth\": 0, \"ticks\": \"\"}, \"colorscale\": [[0.0, \"#0d0887\"], [0.1111111111111111, \"#46039f\"], [0.2222222222222222, \"#7201a8\"], [0.3333333333333333, \"#9c179e\"], [0.4444444444444444, \"#bd3786\"], [0.5555555555555556, \"#d8576b\"], [0.6666666666666666, \"#ed7953\"], [0.7777777777777778, \"#fb9f3a\"], [0.8888888888888888, \"#fdca26\"], [1.0, \"#f0f921\"]], \"type\": \"surface\"}], \"table\": [{\"cells\": {\"fill\": {\"color\": \"#EBF0F8\"}, \"line\": {\"color\": \"white\"}}, \"header\": {\"fill\": {\"color\": \"#C8D4E3\"}, \"line\": {\"color\": \"white\"}}, \"type\": \"table\"}]}, \"layout\": {\"annotationdefaults\": {\"arrowcolor\": \"#2a3f5f\", \"arrowhead\": 0, \"arrowwidth\": 1}, \"autotypenumbers\": \"strict\", \"coloraxis\": {\"colorbar\": {\"outlinewidth\": 0, \"ticks\": \"\"}}, \"colorscale\": {\"diverging\": [[0, \"#8e0152\"], [0.1, \"#c51b7d\"], [0.2, \"#de77ae\"], [0.3, \"#f1b6da\"], [0.4, \"#fde0ef\"], [0.5, \"#f7f7f7\"], [0.6, \"#e6f5d0\"], [0.7, \"#b8e186\"], [0.8, \"#7fbc41\"], [0.9, \"#4d9221\"], [1, \"#276419\"]], \"sequential\": [[0.0, \"#0d0887\"], [0.1111111111111111, \"#46039f\"], [0.2222222222222222, \"#7201a8\"], [0.3333333333333333, \"#9c179e\"], [0.4444444444444444, \"#bd3786\"], [0.5555555555555556, \"#d8576b\"], [0.6666666666666666, \"#ed7953\"], [0.7777777777777778, \"#fb9f3a\"], [0.8888888888888888, \"#fdca26\"], [1.0, \"#f0f921\"]], \"sequentialminus\": [[0.0, \"#0d0887\"], [0.1111111111111111, \"#46039f\"], [0.2222222222222222, \"#7201a8\"], [0.3333333333333333, \"#9c179e\"], [0.4444444444444444, \"#bd3786\"], [0.5555555555555556, \"#d8576b\"], [0.6666666666666666, \"#ed7953\"], [0.7777777777777778, \"#fb9f3a\"], [0.8888888888888888, \"#fdca26\"], [1.0, \"#f0f921\"]]}, \"colorway\": [\"#636efa\", \"#EF553B\", \"#00cc96\", \"#ab63fa\", \"#FFA15A\", \"#19d3f3\", \"#FF6692\", \"#B6E880\", \"#FF97FF\", \"#FECB52\"], \"font\": {\"color\": \"#2a3f5f\"}, \"geo\": {\"bgcolor\": \"white\", \"lakecolor\": \"white\", \"landcolor\": \"#E5ECF6\", \"showlakes\": true, \"showland\": true, \"subunitcolor\": \"white\"}, \"hoverlabel\": {\"align\": \"left\"}, \"hovermode\": \"closest\", \"mapbox\": {\"style\": \"light\"}, \"paper_bgcolor\": \"white\", \"plot_bgcolor\": \"#E5ECF6\", \"polar\": {\"angularaxis\": {\"gridcolor\": \"white\", \"linecolor\": \"white\", \"ticks\": \"\"}, \"bgcolor\": \"#E5ECF6\", \"radialaxis\": {\"gridcolor\": \"white\", \"linecolor\": \"white\", \"ticks\": \"\"}}, \"scene\": {\"xaxis\": {\"backgroundcolor\": \"#E5ECF6\", \"gridcolor\": \"white\", \"gridwidth\": 2, \"linecolor\": \"white\", \"showbackground\": true, \"ticks\": \"\", \"zerolinecolor\": \"white\"}, \"yaxis\": {\"backgroundcolor\": \"#E5ECF6\", \"gridcolor\": \"white\", \"gridwidth\": 2, \"linecolor\": \"white\", \"showbackground\": true, \"ticks\": \"\", \"zerolinecolor\": \"white\"}, \"zaxis\": {\"backgroundcolor\": \"#E5ECF6\", \"gridcolor\": \"white\", \"gridwidth\": 2, \"linecolor\": \"white\", \"showbackground\": true, \"ticks\": \"\", \"zerolinecolor\": \"white\"}}, \"shapedefaults\": {\"line\": {\"color\": \"#2a3f5f\"}}, \"ternary\": {\"aaxis\": {\"gridcolor\": \"white\", \"linecolor\": \"white\", \"ticks\": \"\"}, \"baxis\": {\"gridcolor\": \"white\", \"linecolor\": \"white\", \"ticks\": \"\"}, \"bgcolor\": \"#E5ECF6\", \"caxis\": {\"gridcolor\": \"white\", \"linecolor\": \"white\", \"ticks\": \"\"}}, \"title\": {\"x\": 0.05}, \"xaxis\": {\"automargin\": true, \"gridcolor\": \"white\", \"linecolor\": \"white\", \"ticks\": \"\", \"title\": {\"standoff\": 15}, \"zerolinecolor\": \"white\", \"zerolinewidth\": 2}, \"yaxis\": {\"automargin\": true, \"gridcolor\": \"white\", \"linecolor\": \"white\", \"ticks\": \"\", \"title\": {\"standoff\": 15}, \"zerolinecolor\": \"white\", \"zerolinewidth\": 2}}}},                        {\"responsive\": true}                    ).then(function(){\n",
       "                            \n",
       "var gd = document.getElementById('2c439f6e-c667-4b57-a282-35b295863a9f');\n",
       "var x = new MutationObserver(function (mutations, observer) {{\n",
       "        var display = window.getComputedStyle(gd).display;\n",
       "        if (!display || display === 'none') {{\n",
       "            console.log([gd, 'removed!']);\n",
       "            Plotly.purge(gd);\n",
       "            observer.disconnect();\n",
       "        }}\n",
       "}});\n",
       "\n",
       "// Listen for the removal of the full notebook cells\n",
       "var notebookContainer = gd.closest('#notebook-container');\n",
       "if (notebookContainer) {{\n",
       "    x.observe(notebookContainer, {childList: true});\n",
       "}}\n",
       "\n",
       "// Listen for the clearing of the current output cell\n",
       "var outputEl = gd.closest('.output');\n",
       "if (outputEl) {{\n",
       "    x.observe(outputEl, {childList: true});\n",
       "}}\n",
       "\n",
       "                        })                };                });            </script>        </div>"
      ]
     },
     "metadata": {},
     "output_type": "display_data"
    }
   ],
   "source": [
    "fig = px.scatter_mapbox(aMetagenomes_metadata, lat=\"latitude\", lon=\"longitude\", hover_name=\"geo_loc_name\",\n",
    "                        hover_data=['site_name'],\n",
    "                        color_discrete_sequence=[\"red\"], zoom=2, height=300)\n",
    "fig.update_layout(mapbox_style=\"open-street-map\")\n",
    "fig.update_layout(margin={\"r\":0,\"t\":0,\"l\":0,\"b\":0})\n",
    "fig.show()"
   ]
  },
  {
   "cell_type": "markdown",
   "metadata": {},
   "source": [
    "# PySPARK <3"
   ]
  },
  {
   "cell_type": "code",
   "execution_count": 62,
   "metadata": {},
   "outputs": [],
   "source": [
    "# Define session\n",
    "#The following line should be run if the last session was not closed\n",
    "sc.stop()\n",
    "conf = SparkConf().setAppName(\"First attempt\").setMaster(\"local[*]\")\n",
    "sc = SparkContext(conf=conf)\n",
    "spark = SQLContext(sc)"
   ]
  },
  {
   "cell_type": "code",
   "execution_count": 68,
   "metadata": {},
   "outputs": [],
   "source": [
    "aMetagenomes=spark.read.csv(\"kmMatrices/aMetagenomes/whole_aMetagenomes_kmMatrix.txt\",header=False, sep=\" \")"
   ]
  },
  {
   "cell_type": "code",
   "execution_count": 69,
   "metadata": {},
   "outputs": [
    {
     "data": {
      "text/plain": [
       "['_c0',\n",
       " '_c1',\n",
       " '_c2',\n",
       " '_c3',\n",
       " '_c4',\n",
       " '_c5',\n",
       " '_c6',\n",
       " '_c7',\n",
       " '_c8',\n",
       " '_c9',\n",
       " '_c10',\n",
       " '_c11',\n",
       " '_c12',\n",
       " '_c13',\n",
       " '_c14',\n",
       " '_c15',\n",
       " '_c16',\n",
       " '_c17',\n",
       " '_c18',\n",
       " '_c19',\n",
       " '_c20',\n",
       " '_c21',\n",
       " '_c22',\n",
       " '_c23',\n",
       " '_c24',\n",
       " '_c25',\n",
       " '_c26',\n",
       " '_c27',\n",
       " '_c28',\n",
       " '_c29',\n",
       " '_c30',\n",
       " '_c31',\n",
       " '_c32',\n",
       " '_c33',\n",
       " '_c34',\n",
       " '_c35',\n",
       " '_c36',\n",
       " '_c37',\n",
       " '_c38',\n",
       " '_c39',\n",
       " '_c40',\n",
       " '_c41',\n",
       " '_c42',\n",
       " '_c43',\n",
       " '_c44',\n",
       " '_c45',\n",
       " '_c46',\n",
       " '_c47',\n",
       " '_c48',\n",
       " '_c49',\n",
       " '_c50',\n",
       " '_c51',\n",
       " '_c52',\n",
       " '_c53',\n",
       " '_c54',\n",
       " '_c55',\n",
       " '_c56',\n",
       " '_c57',\n",
       " '_c58',\n",
       " '_c59',\n",
       " '_c60',\n",
       " '_c61',\n",
       " '_c62',\n",
       " '_c63',\n",
       " '_c64',\n",
       " '_c65',\n",
       " '_c66',\n",
       " '_c67',\n",
       " '_c68',\n",
       " '_c69',\n",
       " '_c70',\n",
       " '_c71',\n",
       " '_c72',\n",
       " '_c73',\n",
       " '_c74',\n",
       " '_c75',\n",
       " '_c76',\n",
       " '_c77',\n",
       " '_c78',\n",
       " '_c79',\n",
       " '_c80',\n",
       " '_c81',\n",
       " '_c82',\n",
       " '_c83',\n",
       " '_c84',\n",
       " '_c85',\n",
       " '_c86',\n",
       " '_c87',\n",
       " '_c88',\n",
       " '_c89',\n",
       " '_c90',\n",
       " '_c91',\n",
       " '_c92',\n",
       " '_c93',\n",
       " '_c94',\n",
       " '_c95',\n",
       " '_c96',\n",
       " '_c97',\n",
       " '_c98',\n",
       " '_c99',\n",
       " '_c100',\n",
       " '_c101',\n",
       " '_c102',\n",
       " '_c103',\n",
       " '_c104',\n",
       " '_c105',\n",
       " '_c106',\n",
       " '_c107',\n",
       " '_c108',\n",
       " '_c109',\n",
       " '_c110',\n",
       " '_c111',\n",
       " '_c112',\n",
       " '_c113',\n",
       " '_c114',\n",
       " '_c115',\n",
       " '_c116',\n",
       " '_c117',\n",
       " '_c118',\n",
       " '_c119',\n",
       " '_c120',\n",
       " '_c121',\n",
       " '_c122',\n",
       " '_c123',\n",
       " '_c124',\n",
       " '_c125',\n",
       " '_c126',\n",
       " '_c127',\n",
       " '_c128',\n",
       " '_c129',\n",
       " '_c130',\n",
       " '_c131',\n",
       " '_c132',\n",
       " '_c133',\n",
       " '_c134',\n",
       " '_c135',\n",
       " '_c136',\n",
       " '_c137',\n",
       " '_c138',\n",
       " '_c139',\n",
       " '_c140',\n",
       " '_c141',\n",
       " '_c142',\n",
       " '_c143',\n",
       " '_c144',\n",
       " '_c145',\n",
       " '_c146',\n",
       " '_c147',\n",
       " '_c148',\n",
       " '_c149',\n",
       " '_c150',\n",
       " '_c151',\n",
       " '_c152',\n",
       " '_c153',\n",
       " '_c154',\n",
       " '_c155',\n",
       " '_c156',\n",
       " '_c157',\n",
       " '_c158',\n",
       " '_c159',\n",
       " '_c160',\n",
       " '_c161',\n",
       " '_c162',\n",
       " '_c163',\n",
       " '_c164',\n",
       " '_c165',\n",
       " '_c166',\n",
       " '_c167',\n",
       " '_c168',\n",
       " '_c169',\n",
       " '_c170',\n",
       " '_c171',\n",
       " '_c172',\n",
       " '_c173',\n",
       " '_c174',\n",
       " '_c175',\n",
       " '_c176',\n",
       " '_c177',\n",
       " '_c178',\n",
       " '_c179',\n",
       " '_c180',\n",
       " '_c181',\n",
       " '_c182',\n",
       " '_c183',\n",
       " '_c184',\n",
       " '_c185',\n",
       " '_c186',\n",
       " '_c187',\n",
       " '_c188',\n",
       " '_c189',\n",
       " '_c190',\n",
       " '_c191',\n",
       " '_c192',\n",
       " '_c193',\n",
       " '_c194',\n",
       " '_c195',\n",
       " '_c196',\n",
       " '_c197',\n",
       " '_c198',\n",
       " '_c199',\n",
       " '_c200',\n",
       " '_c201',\n",
       " '_c202',\n",
       " '_c203',\n",
       " '_c204',\n",
       " '_c205',\n",
       " '_c206',\n",
       " '_c207',\n",
       " '_c208',\n",
       " '_c209',\n",
       " '_c210',\n",
       " '_c211',\n",
       " '_c212',\n",
       " '_c213',\n",
       " '_c214',\n",
       " '_c215',\n",
       " '_c216',\n",
       " '_c217',\n",
       " '_c218',\n",
       " '_c219',\n",
       " '_c220',\n",
       " '_c221',\n",
       " '_c222',\n",
       " '_c223',\n",
       " '_c224',\n",
       " '_c225',\n",
       " '_c226',\n",
       " '_c227',\n",
       " '_c228',\n",
       " '_c229',\n",
       " '_c230',\n",
       " '_c231',\n",
       " '_c232',\n",
       " '_c233',\n",
       " '_c234',\n",
       " '_c235',\n",
       " '_c236',\n",
       " '_c237',\n",
       " '_c238',\n",
       " '_c239',\n",
       " '_c240',\n",
       " '_c241',\n",
       " '_c242',\n",
       " '_c243',\n",
       " '_c244',\n",
       " '_c245',\n",
       " '_c246',\n",
       " '_c247',\n",
       " '_c248',\n",
       " '_c249',\n",
       " '_c250',\n",
       " '_c251',\n",
       " '_c252',\n",
       " '_c253',\n",
       " '_c254',\n",
       " '_c255',\n",
       " '_c256',\n",
       " '_c257',\n",
       " '_c258',\n",
       " '_c259',\n",
       " '_c260',\n",
       " '_c261',\n",
       " '_c262',\n",
       " '_c263',\n",
       " '_c264',\n",
       " '_c265',\n",
       " '_c266',\n",
       " '_c267',\n",
       " '_c268',\n",
       " '_c269',\n",
       " '_c270',\n",
       " '_c271',\n",
       " '_c272',\n",
       " '_c273',\n",
       " '_c274',\n",
       " '_c275',\n",
       " '_c276',\n",
       " '_c277',\n",
       " '_c278',\n",
       " '_c279',\n",
       " '_c280',\n",
       " '_c281',\n",
       " '_c282',\n",
       " '_c283',\n",
       " '_c284',\n",
       " '_c285',\n",
       " '_c286',\n",
       " '_c287',\n",
       " '_c288',\n",
       " '_c289',\n",
       " '_c290',\n",
       " '_c291',\n",
       " '_c292',\n",
       " '_c293',\n",
       " '_c294',\n",
       " '_c295',\n",
       " '_c296',\n",
       " '_c297',\n",
       " '_c298',\n",
       " '_c299',\n",
       " '_c300',\n",
       " '_c301',\n",
       " '_c302',\n",
       " '_c303',\n",
       " '_c304',\n",
       " '_c305',\n",
       " '_c306',\n",
       " '_c307',\n",
       " '_c308',\n",
       " '_c309',\n",
       " '_c310',\n",
       " '_c311',\n",
       " '_c312',\n",
       " '_c313',\n",
       " '_c314',\n",
       " '_c315',\n",
       " '_c316',\n",
       " '_c317',\n",
       " '_c318',\n",
       " '_c319',\n",
       " '_c320',\n",
       " '_c321',\n",
       " '_c322',\n",
       " '_c323',\n",
       " '_c324',\n",
       " '_c325',\n",
       " '_c326',\n",
       " '_c327',\n",
       " '_c328',\n",
       " '_c329',\n",
       " '_c330',\n",
       " '_c331',\n",
       " '_c332',\n",
       " '_c333',\n",
       " '_c334',\n",
       " '_c335',\n",
       " '_c336',\n",
       " '_c337',\n",
       " '_c338',\n",
       " '_c339',\n",
       " '_c340',\n",
       " '_c341',\n",
       " '_c342',\n",
       " '_c343',\n",
       " '_c344',\n",
       " '_c345',\n",
       " '_c346',\n",
       " '_c347',\n",
       " '_c348',\n",
       " '_c349',\n",
       " '_c350',\n",
       " '_c351',\n",
       " '_c352',\n",
       " '_c353',\n",
       " '_c354',\n",
       " '_c355',\n",
       " '_c356',\n",
       " '_c357',\n",
       " '_c358',\n",
       " '_c359',\n",
       " '_c360',\n",
       " '_c361',\n",
       " '_c362',\n",
       " '_c363',\n",
       " '_c364',\n",
       " '_c365',\n",
       " '_c366',\n",
       " '_c367',\n",
       " '_c368',\n",
       " '_c369',\n",
       " '_c370',\n",
       " '_c371',\n",
       " '_c372',\n",
       " '_c373',\n",
       " '_c374',\n",
       " '_c375',\n",
       " '_c376',\n",
       " '_c377',\n",
       " '_c378',\n",
       " '_c379',\n",
       " '_c380',\n",
       " '_c381',\n",
       " '_c382',\n",
       " '_c383',\n",
       " '_c384',\n",
       " '_c385',\n",
       " '_c386',\n",
       " '_c387',\n",
       " '_c388',\n",
       " '_c389',\n",
       " '_c390',\n",
       " '_c391',\n",
       " '_c392',\n",
       " '_c393',\n",
       " '_c394',\n",
       " '_c395',\n",
       " '_c396',\n",
       " '_c397',\n",
       " '_c398',\n",
       " '_c399',\n",
       " '_c400',\n",
       " '_c401',\n",
       " '_c402',\n",
       " '_c403',\n",
       " '_c404',\n",
       " '_c405',\n",
       " '_c406',\n",
       " '_c407',\n",
       " '_c408',\n",
       " '_c409',\n",
       " '_c410',\n",
       " '_c411',\n",
       " '_c412',\n",
       " '_c413',\n",
       " '_c414',\n",
       " '_c415',\n",
       " '_c416',\n",
       " '_c417',\n",
       " '_c418',\n",
       " '_c419',\n",
       " '_c420',\n",
       " '_c421',\n",
       " '_c422',\n",
       " '_c423',\n",
       " '_c424',\n",
       " '_c425',\n",
       " '_c426',\n",
       " '_c427',\n",
       " '_c428',\n",
       " '_c429',\n",
       " '_c430',\n",
       " '_c431',\n",
       " '_c432',\n",
       " '_c433',\n",
       " '_c434',\n",
       " '_c435',\n",
       " '_c436',\n",
       " '_c437',\n",
       " '_c438',\n",
       " '_c439',\n",
       " '_c440',\n",
       " '_c441',\n",
       " '_c442',\n",
       " '_c443',\n",
       " '_c444',\n",
       " '_c445',\n",
       " '_c446',\n",
       " '_c447']"
      ]
     },
     "execution_count": 69,
     "metadata": {},
     "output_type": "execute_result"
    }
   ],
   "source": [
    "aMetagenomes.columns"
   ]
  },
  {
   "cell_type": "code",
   "execution_count": 33,
   "metadata": {},
   "outputs": [],
   "source": [
    "colnames=[\"K-mer\"]+list(SRR_aMetagenomes.SRR_accession)"
   ]
  },
  {
   "cell_type": "code",
   "execution_count": 34,
   "metadata": {},
   "outputs": [
    {
     "data": {
      "text/plain": [
       "['K-mer',\n",
       " 'SRR957738',\n",
       " 'SRR957739',\n",
       " 'SRR957740',\n",
       " 'SRR957741',\n",
       " 'SRR957742',\n",
       " 'SRR957743',\n",
       " 'SRR957744',\n",
       " 'SRR957745',\n",
       " 'SRR957746',\n",
       " 'SRR6877286',\n",
       " 'SRR6877284',\n",
       " 'SRR6877290',\n",
       " 'SRR6877288',\n",
       " 'SRR6877292',\n",
       " 'SRR6877323',\n",
       " 'SRR6877304',\n",
       " 'SRR6877305',\n",
       " 'SRR6877392',\n",
       " 'SRR6877308',\n",
       " 'SRR6877303',\n",
       " 'SRR6877372',\n",
       " 'SRR6877370',\n",
       " 'SRR6877376',\n",
       " 'SRR6877374',\n",
       " 'SRR6877378',\n",
       " 'SRR6877388',\n",
       " 'SRR6877390',\n",
       " 'SRR6877384',\n",
       " 'SRR6877386',\n",
       " 'SRR6877382',\n",
       " 'SRR6877354',\n",
       " 'SRR6877356',\n",
       " 'SRR6877350',\n",
       " 'SRR6877352',\n",
       " 'SRR6877358',\n",
       " 'SRR6877367',\n",
       " 'SRR6877365',\n",
       " 'SRR6877363',\n",
       " 'SRR6877361',\n",
       " 'SRR6877369',\n",
       " 'SRR6877338',\n",
       " 'SRR6877336',\n",
       " 'SRR6877334',\n",
       " 'SRR6877332',\n",
       " 'SRR6877330',\n",
       " 'SRR6877342',\n",
       " 'SRR6877344',\n",
       " 'SRR6877346',\n",
       " 'SRR6877348',\n",
       " 'SRR6877340',\n",
       " 'SRR6877395',\n",
       " 'SRR6877397',\n",
       " 'SRR6877399',\n",
       " 'SRR6877401',\n",
       " 'SRR6877403',\n",
       " 'SRR6877294',\n",
       " 'SRR6877328',\n",
       " 'SRR6877339',\n",
       " 'SRR6877296',\n",
       " 'SRR6877300',\n",
       " 'SRR6877316',\n",
       " 'SRR6877318',\n",
       " 'SRR6877320',\n",
       " 'SRR6877322',\n",
       " 'SRR6877313',\n",
       " 'SRR6877312',\n",
       " 'SRR6877310',\n",
       " 'SRR6877326',\n",
       " 'SRR6877324',\n",
       " 'SRR6877282',\n",
       " 'SRR6877393',\n",
       " 'SRR6877287',\n",
       " 'SRR6877285',\n",
       " 'SRR6877291',\n",
       " 'SRR6877325',\n",
       " 'SRR6877298',\n",
       " 'SRR6877306',\n",
       " 'SRR6877309',\n",
       " 'SRR6877307',\n",
       " 'SRR6877302',\n",
       " 'SRR6877373',\n",
       " 'SRR6877377',\n",
       " 'SRR6877371',\n",
       " 'SRR6877375',\n",
       " 'SRR6877379',\n",
       " 'SRR6877389',\n",
       " 'SRR6877387',\n",
       " 'SRR6877385',\n",
       " 'SRR6877383',\n",
       " 'SRR6877381',\n",
       " 'SRR6877355',\n",
       " 'SRR6877357',\n",
       " 'SRR6877353',\n",
       " 'SRR6877351',\n",
       " 'SRR6877366',\n",
       " 'SRR6877359',\n",
       " 'SRR6877364',\n",
       " 'SRR6877362',\n",
       " 'SRR6877360',\n",
       " 'SRR6877368',\n",
       " 'SRR6877337',\n",
       " 'SRR6877335',\n",
       " 'SRR6877333',\n",
       " 'SRR6877331',\n",
       " 'SRR6877343',\n",
       " 'SRR6877329',\n",
       " 'SRR6877347',\n",
       " 'SRR6877345',\n",
       " 'SRR6877341',\n",
       " 'SRR6877349',\n",
       " 'SRR6877394',\n",
       " 'SRR6877398',\n",
       " 'SRR6877396',\n",
       " 'SRR6877402',\n",
       " 'SRR6877400',\n",
       " 'SRR6877295',\n",
       " 'SRR6877299',\n",
       " 'SRR6877293',\n",
       " 'SRR6877301',\n",
       " 'SRR6877297',\n",
       " 'SRR6877315',\n",
       " 'SRR6877317',\n",
       " 'SRR6877319',\n",
       " 'SRR6877321',\n",
       " 'SRR6877380',\n",
       " 'SRR6877314',\n",
       " 'SRR6877311',\n",
       " 'SRR6877327',\n",
       " 'SRR6877289',\n",
       " 'SRR6877283',\n",
       " 'SRR6877391',\n",
       " 'SRR8899218',\n",
       " 'SRR8899219',\n",
       " 'SRR8899220',\n",
       " 'SRR8899221',\n",
       " 'SRR8899214',\n",
       " 'SRR8899215',\n",
       " 'SRR8899216',\n",
       " 'SRR8899217',\n",
       " 'SRR8899212',\n",
       " 'SRR8899213',\n",
       " 'SRR8899223',\n",
       " 'SRR8899224',\n",
       " 'SRR8899225',\n",
       " 'SRR8899226',\n",
       " 'SRR8899227',\n",
       " 'SRR8899228',\n",
       " 'SRR8899229',\n",
       " 'SRR8899230',\n",
       " 'SRR8899222',\n",
       " 'SRR5581855',\n",
       " 'SRR5581856',\n",
       " 'SRR5581858',\n",
       " 'SRR5581851',\n",
       " 'SRR5581853',\n",
       " 'SRR5581854',\n",
       " 'SRR5581849',\n",
       " 'SRR5581852',\n",
       " 'SRR5581857',\n",
       " 'SRR2229976',\n",
       " 'SRR2229974',\n",
       " 'SRR2229975',\n",
       " 'SRR2229977',\n",
       " 'SRR9898613',\n",
       " 'SRR5875728',\n",
       " 'SRR5875729',\n",
       " 'SRR5875726',\n",
       " 'SRR5875727',\n",
       " 'SRR5875724',\n",
       " 'SRR5875725',\n",
       " 'SRR5875722',\n",
       " 'SRR5875723',\n",
       " 'SRR5875730',\n",
       " 'SRR5875731',\n",
       " 'SRR5875718',\n",
       " 'SRR5875719',\n",
       " 'SRR5875720',\n",
       " 'SRR5875721',\n",
       " 'SRR5875714',\n",
       " 'SRR5875715',\n",
       " 'SRR6933823',\n",
       " 'SRR6933824',\n",
       " 'SRR6933825',\n",
       " 'SRR6933826',\n",
       " 'SRR6974014',\n",
       " 'SRR6974015',\n",
       " 'SRR6974016',\n",
       " 'SRR6974017',\n",
       " 'SRR6933819',\n",
       " 'SRR6933820',\n",
       " 'SRR6933821',\n",
       " 'SRR6933822',\n",
       " 'SRR866660',\n",
       " 'SRR866662',\n",
       " 'SRR866663',\n",
       " 'SRR866664',\n",
       " 'SRR866665',\n",
       " 'SRR866666',\n",
       " 'SRR867031',\n",
       " 'SRR867032',\n",
       " 'SRR867033',\n",
       " 'SRR867034',\n",
       " 'SRR867035',\n",
       " 'SRR867036',\n",
       " 'SRR867037',\n",
       " 'SRR867038',\n",
       " 'SRR867039',\n",
       " 'SRR867040',\n",
       " 'SRR4047198',\n",
       " 'SRR4047199',\n",
       " 'SRR4047200',\n",
       " 'SRR4047201',\n",
       " 'SRR4047202',\n",
       " 'SRR4047203',\n",
       " 'SRR4047205',\n",
       " 'SRR4047206',\n",
       " 'SRR4047207',\n",
       " 'SRR4047196',\n",
       " 'SRR4047197',\n",
       " 'SRR4047212',\n",
       " 'SRR4047213',\n",
       " 'SRR4047214',\n",
       " 'SRR4047217',\n",
       " 'SRR4047218',\n",
       " 'SRR4047219',\n",
       " 'SRR4047220',\n",
       " 'SRR4047221',\n",
       " 'SRR4047222',\n",
       " 'SRR4047223',\n",
       " 'SRR4047224',\n",
       " 'SRR4047225',\n",
       " 'SRR5297130',\n",
       " 'SRR5297133',\n",
       " 'SRR5297132',\n",
       " 'SRR5297131',\n",
       " 'SRR12557008',\n",
       " 'SRR12557006',\n",
       " 'SRR12557007',\n",
       " 'SRR1047998',\n",
       " 'SRR11176627',\n",
       " 'SRR11176628',\n",
       " 'SRR11176629',\n",
       " 'SRR11176630',\n",
       " 'SRR11176631',\n",
       " 'SRR11176632',\n",
       " 'SRR11176633',\n",
       " 'SRR11176634',\n",
       " 'SRR11176635',\n",
       " 'SRR11176636',\n",
       " 'SRR11176638',\n",
       " 'SRR11176639',\n",
       " 'SRR11176640',\n",
       " 'SRR11176641',\n",
       " 'SRR11176642',\n",
       " 'SRR12462938',\n",
       " 'SRR12462939',\n",
       " 'SRR12462940',\n",
       " 'SRR12462941',\n",
       " 'SRR12462942',\n",
       " 'SRR12462943',\n",
       " 'SRR12462944',\n",
       " 'SRR12462945',\n",
       " 'SRR12462930',\n",
       " 'SRR12462931',\n",
       " 'SRR12462932',\n",
       " 'SRR12462933',\n",
       " 'SRR12462934',\n",
       " 'SRR12462935',\n",
       " 'SRR12462936',\n",
       " 'SRR12462937',\n",
       " 'SRR12462946',\n",
       " 'SRR12462947',\n",
       " 'SRR12281656',\n",
       " 'SRR12281657',\n",
       " 'SRR12281658',\n",
       " 'SRR12281659',\n",
       " 'SRR12281660',\n",
       " 'SRR12281661',\n",
       " 'SRR12281662',\n",
       " 'SRR12281663',\n",
       " 'SRR12136713',\n",
       " 'SRR12136712',\n",
       " 'SRR5047194',\n",
       " 'SRR5047069',\n",
       " 'SRR5047060',\n",
       " 'SRR5047075',\n",
       " 'SRR5047111',\n",
       " 'SRR5047132',\n",
       " 'SRR5047159',\n",
       " 'SRR5047164',\n",
       " 'SRR5047166',\n",
       " 'SRR5047048',\n",
       " 'SRR5047157',\n",
       " 'SRR5047051',\n",
       " 'SRR5047170',\n",
       " 'SRR5047165',\n",
       " 'SRR5047057',\n",
       " 'SRR5047086',\n",
       " 'SRR5047187',\n",
       " 'SRR5047043',\n",
       " 'SRR5047101',\n",
       " 'SRR5047080',\n",
       " 'SRR5047146',\n",
       " 'SRR5047070',\n",
       " 'SRR5047118',\n",
       " 'SRR5047085',\n",
       " 'SRR5047138',\n",
       " 'SRR5047168',\n",
       " 'SRR5047077',\n",
       " 'SRR5047156',\n",
       " 'SRR5047058',\n",
       " 'SRR5047068',\n",
       " 'SRR5047200',\n",
       " 'SRR5047097',\n",
       " 'SRR5047198',\n",
       " 'SRR5047176',\n",
       " 'SRR5047177',\n",
       " 'SRR5047076',\n",
       " 'SRR5047203',\n",
       " 'SRR5047126',\n",
       " 'SRR5047115',\n",
       " 'SRR5047195',\n",
       " 'SRR5047127',\n",
       " 'SRR5047045',\n",
       " 'SRR5047100',\n",
       " 'SRR5047106',\n",
       " 'SRR5047088',\n",
       " 'SRR5047191',\n",
       " 'SRR5047065',\n",
       " 'SRR5047180',\n",
       " 'SRR5047119',\n",
       " 'SRR5047134',\n",
       " 'SRR5047094',\n",
       " 'SRR5047053',\n",
       " 'SRR5047196',\n",
       " 'SRR5047073',\n",
       " 'SRR5047109',\n",
       " 'SRR5047095',\n",
       " 'SRR5047183',\n",
       " 'SRR5047081',\n",
       " 'SRR5047140',\n",
       " 'SRR5047162',\n",
       " 'SRR5047090',\n",
       " 'SRR5047082',\n",
       " 'SRR5047083',\n",
       " 'SRR5047067',\n",
       " 'SRR5047113',\n",
       " 'SRR5047190',\n",
       " 'SRR5047040',\n",
       " 'SRR5047172',\n",
       " 'SRR5047181',\n",
       " 'SRR5047201',\n",
       " 'SRR5047114',\n",
       " 'SRR5047046',\n",
       " 'SRR5047117',\n",
       " 'SRR5047161',\n",
       " 'SRR5047169',\n",
       " 'SRR5047062',\n",
       " 'SRR5047193',\n",
       " 'SRR5047152',\n",
       " 'SRR5047182',\n",
       " 'SRR5047071',\n",
       " 'SRR5047063',\n",
       " 'SRR5047054',\n",
       " 'SRR5047160',\n",
       " 'SRR5047178',\n",
       " 'SRR5047123',\n",
       " 'SRR5047143',\n",
       " 'SRR5047089',\n",
       " 'SRR5047197',\n",
       " 'SRR5047136',\n",
       " 'SRR5047047',\n",
       " 'SRR5047092',\n",
       " 'SRR5047079',\n",
       " 'SRR5047199',\n",
       " 'SRR5047074',\n",
       " 'SRR5047129',\n",
       " 'SRR5047108',\n",
       " 'SRR5047151',\n",
       " 'SRR5047102',\n",
       " 'SRR5047179',\n",
       " 'SRR5047137',\n",
       " 'SRR5047144',\n",
       " 'SRR5047189',\n",
       " 'SRR5047121',\n",
       " 'SRR5047098',\n",
       " 'SRR5047124',\n",
       " 'SRR5047041',\n",
       " 'SRR5047087',\n",
       " 'SRR5047185',\n",
       " 'SRR5047184',\n",
       " 'SRR5047120',\n",
       " 'SRR5047091',\n",
       " 'SRR5047122',\n",
       " 'SRR5047066',\n",
       " 'SRR5047052',\n",
       " 'SRR5047093',\n",
       " 'SRR5047147',\n",
       " 'SRR5047155',\n",
       " 'SRR5047116',\n",
       " 'SRR5047167',\n",
       " 'SRR5047133',\n",
       " 'SRR5047173',\n",
       " 'SRR5047107',\n",
       " 'SRR5047059',\n",
       " 'SRR5047141',\n",
       " 'SRR5047163',\n",
       " 'SRR5047049',\n",
       " 'SRR5047145',\n",
       " 'SRR5047128',\n",
       " 'SRR5047188',\n",
       " 'SRR5047186',\n",
       " 'SRR5047148',\n",
       " 'SRR5047104',\n",
       " 'SRR5047061',\n",
       " 'SRR5047078',\n",
       " 'SRR5047042',\n",
       " 'SRR5047149',\n",
       " 'SRR5047044',\n",
       " 'SRR5047055',\n",
       " 'SRR5047112',\n",
       " 'SRR5047154',\n",
       " 'SRR5047204',\n",
       " 'SRR5047125',\n",
       " 'SRR5047153',\n",
       " 'SRR5047174',\n",
       " 'SRR5047056',\n",
       " 'SRR5047130',\n",
       " 'SRR5047139',\n",
       " 'SRR5047175',\n",
       " 'SRR5047050',\n",
       " 'SRR5047192',\n",
       " 'SRR5047110',\n",
       " 'SRR5047131',\n",
       " 'SRR5047072',\n",
       " 'SRR5047096',\n",
       " 'SRR5047150',\n",
       " 'SRR5047099',\n",
       " 'SRR5047084',\n",
       " 'SRR5047171',\n",
       " 'SRR5047158',\n",
       " 'SRR5047135',\n",
       " 'SRR5047202',\n",
       " 'SRR5047105',\n",
       " 'SRR5047103',\n",
       " 'SRR5047142',\n",
       " 'SRR5047064']"
      ]
     },
     "execution_count": 34,
     "metadata": {},
     "output_type": "execute_result"
    }
   ],
   "source": [
    "colnames"
   ]
  },
  {
   "cell_type": "code",
   "execution_count": 35,
   "metadata": {},
   "outputs": [
    {
     "ename": "IllegalArgumentException",
     "evalue": "requirement failed: The number of columns doesn't match.\nOld column names (1): _c0\nNew column names (448): K-mer, SRR957738, SRR957739, SRR957740, SRR957741, SRR957742, SRR957743, SRR957744, SRR957745, SRR957746, SRR6877286, SRR6877284, SRR6877290, SRR6877288, SRR6877292, SRR6877323, SRR6877304, SRR6877305, SRR6877392, SRR6877308, SRR6877303, SRR6877372, SRR6877370, SRR6877376, SRR6877374, SRR6877378, SRR6877388, SRR6877390, SRR6877384, SRR6877386, SRR6877382, SRR6877354, SRR6877356, SRR6877350, SRR6877352, SRR6877358, SRR6877367, SRR6877365, SRR6877363, SRR6877361, SRR6877369, SRR6877338, SRR6877336, SRR6877334, SRR6877332, SRR6877330, SRR6877342, SRR6877344, SRR6877346, SRR6877348, SRR6877340, SRR6877395, SRR6877397, SRR6877399, SRR6877401, SRR6877403, SRR6877294, SRR6877328, SRR6877339, SRR6877296, SRR6877300, SRR6877316, SRR6877318, SRR6877320, SRR6877322, SRR6877313, SRR6877312, SRR6877310, SRR6877326, SRR6877324, SRR6877282, SRR6877393, SRR6877287, SRR6877285, SRR6877291, SRR6877325, SRR6877298, SRR6877306, SRR6877309, SRR6877307, SRR6877302, SRR6877373, SRR6877377, SRR6877371, SRR6877375, SRR6877379, SRR6877389, SRR6877387, SRR6877385, SRR6877383, SRR6877381, SRR6877355, SRR6877357, SRR6877353, SRR6877351, SRR6877366, SRR6877359, SRR6877364, SRR6877362, SRR6877360, SRR6877368, SRR6877337, SRR6877335, SRR6877333, SRR6877331, SRR6877343, SRR6877329, SRR6877347, SRR6877345, SRR6877341, SRR6877349, SRR6877394, SRR6877398, SRR6877396, SRR6877402, SRR6877400, SRR6877295, SRR6877299, SRR6877293, SRR6877301, SRR6877297, SRR6877315, SRR6877317, SRR6877319, SRR6877321, SRR6877380, SRR6877314, SRR6877311, SRR6877327, SRR6877289, SRR6877283, SRR6877391, SRR8899218, SRR8899219, SRR8899220, SRR8899221, SRR8899214, SRR8899215, SRR8899216, SRR8899217, SRR8899212, SRR8899213, SRR8899223, SRR8899224, SRR8899225, SRR8899226, SRR8899227, SRR8899228, SRR8899229, SRR8899230, SRR8899222, SRR5581855, SRR5581856, SRR5581858, SRR5581851, SRR5581853, SRR5581854, SRR5581849, SRR5581852, SRR5581857, SRR2229976, SRR2229974, SRR2229975, SRR2229977, SRR9898613, SRR5875728, SRR5875729, SRR5875726, SRR5875727, SRR5875724, SRR5875725, SRR5875722, SRR5875723, SRR5875730, SRR5875731, SRR5875718, SRR5875719, SRR5875720, SRR5875721, SRR5875714, SRR5875715, SRR6933823, SRR6933824, SRR6933825, SRR6933826, SRR6974014, SRR6974015, SRR6974016, SRR6974017, SRR6933819, SRR6933820, SRR6933821, SRR6933822, SRR866660, SRR866662, SRR866663, SRR866664, SRR866665, SRR866666, SRR867031, SRR867032, SRR867033, SRR867034, SRR867035, SRR867036, SRR867037, SRR867038, SRR867039, SRR867040, SRR4047198, SRR4047199, SRR4047200, SRR4047201, SRR4047202, SRR4047203, SRR4047205, SRR4047206, SRR4047207, SRR4047196, SRR4047197, SRR4047212, SRR4047213, SRR4047214, SRR4047217, SRR4047218, SRR4047219, SRR4047220, SRR4047221, SRR4047222, SRR4047223, SRR4047224, SRR4047225, SRR5297130, SRR5297133, SRR5297132, SRR5297131, SRR12557008, SRR12557006, SRR12557007, SRR1047998, SRR11176627, SRR11176628, SRR11176629, SRR11176630, SRR11176631, SRR11176632, SRR11176633, SRR11176634, SRR11176635, SRR11176636, SRR11176638, SRR11176639, SRR11176640, SRR11176641, SRR11176642, SRR12462938, SRR12462939, SRR12462940, SRR12462941, SRR12462942, SRR12462943, SRR12462944, SRR12462945, SRR12462930, SRR12462931, SRR12462932, SRR12462933, SRR12462934, SRR12462935, SRR12462936, SRR12462937, SRR12462946, SRR12462947, SRR12281656, SRR12281657, SRR12281658, SRR12281659, SRR12281660, SRR12281661, SRR12281662, SRR12281663, SRR12136713, SRR12136712, SRR5047194, SRR5047069, SRR5047060, SRR5047075, SRR5047111, SRR5047132, SRR5047159, SRR5047164, SRR5047166, SRR5047048, SRR5047157, SRR5047051, SRR5047170, SRR5047165, SRR5047057, SRR5047086, SRR5047187, SRR5047043, SRR5047101, SRR5047080, SRR5047146, SRR5047070, SRR5047118, SRR5047085, SRR5047138, SRR5047168, SRR5047077, SRR5047156, SRR5047058, SRR5047068, SRR5047200, SRR5047097, SRR5047198, SRR5047176, SRR5047177, SRR5047076, SRR5047203, SRR5047126, SRR5047115, SRR5047195, SRR5047127, SRR5047045, SRR5047100, SRR5047106, SRR5047088, SRR5047191, SRR5047065, SRR5047180, SRR5047119, SRR5047134, SRR5047094, SRR5047053, SRR5047196, SRR5047073, SRR5047109, SRR5047095, SRR5047183, SRR5047081, SRR5047140, SRR5047162, SRR5047090, SRR5047082, SRR5047083, SRR5047067, SRR5047113, SRR5047190, SRR5047040, SRR5047172, SRR5047181, SRR5047201, SRR5047114, SRR5047046, SRR5047117, SRR5047161, SRR5047169, SRR5047062, SRR5047193, SRR5047152, SRR5047182, SRR5047071, SRR5047063, SRR5047054, SRR5047160, SRR5047178, SRR5047123, SRR5047143, SRR5047089, SRR5047197, SRR5047136, SRR5047047, SRR5047092, SRR5047079, SRR5047199, SRR5047074, SRR5047129, SRR5047108, SRR5047151, SRR5047102, SRR5047179, SRR5047137, SRR5047144, SRR5047189, SRR5047121, SRR5047098, SRR5047124, SRR5047041, SRR5047087, SRR5047185, SRR5047184, SRR5047120, SRR5047091, SRR5047122, SRR5047066, SRR5047052, SRR5047093, SRR5047147, SRR5047155, SRR5047116, SRR5047167, SRR5047133, SRR5047173, SRR5047107, SRR5047059, SRR5047141, SRR5047163, SRR5047049, SRR5047145, SRR5047128, SRR5047188, SRR5047186, SRR5047148, SRR5047104, SRR5047061, SRR5047078, SRR5047042, SRR5047149, SRR5047044, SRR5047055, SRR5047112, SRR5047154, SRR5047204, SRR5047125, SRR5047153, SRR5047174, SRR5047056, SRR5047130, SRR5047139, SRR5047175, SRR5047050, SRR5047192, SRR5047110, SRR5047131, SRR5047072, SRR5047096, SRR5047150, SRR5047099, SRR5047084, SRR5047171, SRR5047158, SRR5047135, SRR5047202, SRR5047105, SRR5047103, SRR5047142, SRR5047064",
     "output_type": "error",
     "traceback": [
      "\u001b[0;31m---------------------------------------------------------------------------\u001b[0m",
      "\u001b[0;31mIllegalArgumentException\u001b[0m                  Traceback (most recent call last)",
      "\u001b[0;32m<ipython-input-35-149d3144d8f1>\u001b[0m in \u001b[0;36m<module>\u001b[0;34m\u001b[0m\n\u001b[1;32m      1\u001b[0m \u001b[0;31m#Change column names to dataframe\u001b[0m\u001b[0;34m\u001b[0m\u001b[0;34m\u001b[0m\u001b[0;34m\u001b[0m\u001b[0m\n\u001b[0;32m----> 2\u001b[0;31m \u001b[0maMetagenomes\u001b[0m\u001b[0;34m=\u001b[0m\u001b[0maMetagenomes\u001b[0m\u001b[0;34m.\u001b[0m\u001b[0mtoDF\u001b[0m\u001b[0;34m(\u001b[0m\u001b[0;34m*\u001b[0m\u001b[0mcolnames\u001b[0m\u001b[0;34m)\u001b[0m\u001b[0;34m\u001b[0m\u001b[0;34m\u001b[0m\u001b[0m\n\u001b[0m",
      "\u001b[0;32m~/anaconda3/lib/python3.8/site-packages/pyspark/sql/dataframe.py\u001b[0m in \u001b[0;36mtoDF\u001b[0;34m(self, *cols)\u001b[0m\n\u001b[1;32m   2159\u001b[0m         \u001b[0;34m[\u001b[0m\u001b[0mRow\u001b[0m\u001b[0;34m(\u001b[0m\u001b[0mf1\u001b[0m\u001b[0;34m=\u001b[0m\u001b[0;36m2\u001b[0m\u001b[0;34m,\u001b[0m \u001b[0mf2\u001b[0m\u001b[0;34m=\u001b[0m\u001b[0;34mu'Alice'\u001b[0m\u001b[0;34m)\u001b[0m\u001b[0;34m,\u001b[0m \u001b[0mRow\u001b[0m\u001b[0;34m(\u001b[0m\u001b[0mf1\u001b[0m\u001b[0;34m=\u001b[0m\u001b[0;36m5\u001b[0m\u001b[0;34m,\u001b[0m \u001b[0mf2\u001b[0m\u001b[0;34m=\u001b[0m\u001b[0;34mu'Bob'\u001b[0m\u001b[0;34m)\u001b[0m\u001b[0;34m]\u001b[0m\u001b[0;34m\u001b[0m\u001b[0;34m\u001b[0m\u001b[0m\n\u001b[1;32m   2160\u001b[0m         \"\"\"\n\u001b[0;32m-> 2161\u001b[0;31m         \u001b[0mjdf\u001b[0m \u001b[0;34m=\u001b[0m \u001b[0mself\u001b[0m\u001b[0;34m.\u001b[0m\u001b[0m_jdf\u001b[0m\u001b[0;34m.\u001b[0m\u001b[0mtoDF\u001b[0m\u001b[0;34m(\u001b[0m\u001b[0mself\u001b[0m\u001b[0;34m.\u001b[0m\u001b[0m_jseq\u001b[0m\u001b[0;34m(\u001b[0m\u001b[0mcols\u001b[0m\u001b[0;34m)\u001b[0m\u001b[0;34m)\u001b[0m\u001b[0;34m\u001b[0m\u001b[0;34m\u001b[0m\u001b[0m\n\u001b[0m\u001b[1;32m   2162\u001b[0m         \u001b[0;32mreturn\u001b[0m \u001b[0mDataFrame\u001b[0m\u001b[0;34m(\u001b[0m\u001b[0mjdf\u001b[0m\u001b[0;34m,\u001b[0m \u001b[0mself\u001b[0m\u001b[0;34m.\u001b[0m\u001b[0msql_ctx\u001b[0m\u001b[0;34m)\u001b[0m\u001b[0;34m\u001b[0m\u001b[0;34m\u001b[0m\u001b[0m\n\u001b[1;32m   2163\u001b[0m \u001b[0;34m\u001b[0m\u001b[0m\n",
      "\u001b[0;32m~/anaconda3/lib/python3.8/site-packages/py4j/java_gateway.py\u001b[0m in \u001b[0;36m__call__\u001b[0;34m(self, *args)\u001b[0m\n\u001b[1;32m   1302\u001b[0m \u001b[0;34m\u001b[0m\u001b[0m\n\u001b[1;32m   1303\u001b[0m         \u001b[0manswer\u001b[0m \u001b[0;34m=\u001b[0m \u001b[0mself\u001b[0m\u001b[0;34m.\u001b[0m\u001b[0mgateway_client\u001b[0m\u001b[0;34m.\u001b[0m\u001b[0msend_command\u001b[0m\u001b[0;34m(\u001b[0m\u001b[0mcommand\u001b[0m\u001b[0;34m)\u001b[0m\u001b[0;34m\u001b[0m\u001b[0;34m\u001b[0m\u001b[0m\n\u001b[0;32m-> 1304\u001b[0;31m         return_value = get_return_value(\n\u001b[0m\u001b[1;32m   1305\u001b[0m             answer, self.gateway_client, self.target_id, self.name)\n\u001b[1;32m   1306\u001b[0m \u001b[0;34m\u001b[0m\u001b[0m\n",
      "\u001b[0;32m~/anaconda3/lib/python3.8/site-packages/pyspark/sql/utils.py\u001b[0m in \u001b[0;36mdeco\u001b[0;34m(*a, **kw)\u001b[0m\n\u001b[1;32m    132\u001b[0m                 \u001b[0;31m# Hide where the exception came from that shows a non-Pythonic\u001b[0m\u001b[0;34m\u001b[0m\u001b[0;34m\u001b[0m\u001b[0;34m\u001b[0m\u001b[0m\n\u001b[1;32m    133\u001b[0m                 \u001b[0;31m# JVM exception message.\u001b[0m\u001b[0;34m\u001b[0m\u001b[0;34m\u001b[0m\u001b[0;34m\u001b[0m\u001b[0m\n\u001b[0;32m--> 134\u001b[0;31m                 \u001b[0mraise_from\u001b[0m\u001b[0;34m(\u001b[0m\u001b[0mconverted\u001b[0m\u001b[0;34m)\u001b[0m\u001b[0;34m\u001b[0m\u001b[0;34m\u001b[0m\u001b[0m\n\u001b[0m\u001b[1;32m    135\u001b[0m             \u001b[0;32melse\u001b[0m\u001b[0;34m:\u001b[0m\u001b[0;34m\u001b[0m\u001b[0;34m\u001b[0m\u001b[0m\n\u001b[1;32m    136\u001b[0m                 \u001b[0;32mraise\u001b[0m\u001b[0;34m\u001b[0m\u001b[0;34m\u001b[0m\u001b[0m\n",
      "\u001b[0;32m~/anaconda3/lib/python3.8/site-packages/pyspark/sql/utils.py\u001b[0m in \u001b[0;36mraise_from\u001b[0;34m(e)\u001b[0m\n",
      "\u001b[0;31mIllegalArgumentException\u001b[0m: requirement failed: The number of columns doesn't match.\nOld column names (1): _c0\nNew column names (448): K-mer, SRR957738, SRR957739, SRR957740, SRR957741, SRR957742, SRR957743, SRR957744, SRR957745, SRR957746, SRR6877286, SRR6877284, SRR6877290, SRR6877288, SRR6877292, SRR6877323, SRR6877304, SRR6877305, SRR6877392, SRR6877308, SRR6877303, SRR6877372, SRR6877370, SRR6877376, SRR6877374, SRR6877378, SRR6877388, SRR6877390, SRR6877384, SRR6877386, SRR6877382, SRR6877354, SRR6877356, SRR6877350, SRR6877352, SRR6877358, SRR6877367, SRR6877365, SRR6877363, SRR6877361, SRR6877369, SRR6877338, SRR6877336, SRR6877334, SRR6877332, SRR6877330, SRR6877342, SRR6877344, SRR6877346, SRR6877348, SRR6877340, SRR6877395, SRR6877397, SRR6877399, SRR6877401, SRR6877403, SRR6877294, SRR6877328, SRR6877339, SRR6877296, SRR6877300, SRR6877316, SRR6877318, SRR6877320, SRR6877322, SRR6877313, SRR6877312, SRR6877310, SRR6877326, SRR6877324, SRR6877282, SRR6877393, SRR6877287, SRR6877285, SRR6877291, SRR6877325, SRR6877298, SRR6877306, SRR6877309, SRR6877307, SRR6877302, SRR6877373, SRR6877377, SRR6877371, SRR6877375, SRR6877379, SRR6877389, SRR6877387, SRR6877385, SRR6877383, SRR6877381, SRR6877355, SRR6877357, SRR6877353, SRR6877351, SRR6877366, SRR6877359, SRR6877364, SRR6877362, SRR6877360, SRR6877368, SRR6877337, SRR6877335, SRR6877333, SRR6877331, SRR6877343, SRR6877329, SRR6877347, SRR6877345, SRR6877341, SRR6877349, SRR6877394, SRR6877398, SRR6877396, SRR6877402, SRR6877400, SRR6877295, SRR6877299, SRR6877293, SRR6877301, SRR6877297, SRR6877315, SRR6877317, SRR6877319, SRR6877321, SRR6877380, SRR6877314, SRR6877311, SRR6877327, SRR6877289, SRR6877283, SRR6877391, SRR8899218, SRR8899219, SRR8899220, SRR8899221, SRR8899214, SRR8899215, SRR8899216, SRR8899217, SRR8899212, SRR8899213, SRR8899223, SRR8899224, SRR8899225, SRR8899226, SRR8899227, SRR8899228, SRR8899229, SRR8899230, SRR8899222, SRR5581855, SRR5581856, SRR5581858, SRR5581851, SRR5581853, SRR5581854, SRR5581849, SRR5581852, SRR5581857, SRR2229976, SRR2229974, SRR2229975, SRR2229977, SRR9898613, SRR5875728, SRR5875729, SRR5875726, SRR5875727, SRR5875724, SRR5875725, SRR5875722, SRR5875723, SRR5875730, SRR5875731, SRR5875718, SRR5875719, SRR5875720, SRR5875721, SRR5875714, SRR5875715, SRR6933823, SRR6933824, SRR6933825, SRR6933826, SRR6974014, SRR6974015, SRR6974016, SRR6974017, SRR6933819, SRR6933820, SRR6933821, SRR6933822, SRR866660, SRR866662, SRR866663, SRR866664, SRR866665, SRR866666, SRR867031, SRR867032, SRR867033, SRR867034, SRR867035, SRR867036, SRR867037, SRR867038, SRR867039, SRR867040, SRR4047198, SRR4047199, SRR4047200, SRR4047201, SRR4047202, SRR4047203, SRR4047205, SRR4047206, SRR4047207, SRR4047196, SRR4047197, SRR4047212, SRR4047213, SRR4047214, SRR4047217, SRR4047218, SRR4047219, SRR4047220, SRR4047221, SRR4047222, SRR4047223, SRR4047224, SRR4047225, SRR5297130, SRR5297133, SRR5297132, SRR5297131, SRR12557008, SRR12557006, SRR12557007, SRR1047998, SRR11176627, SRR11176628, SRR11176629, SRR11176630, SRR11176631, SRR11176632, SRR11176633, SRR11176634, SRR11176635, SRR11176636, SRR11176638, SRR11176639, SRR11176640, SRR11176641, SRR11176642, SRR12462938, SRR12462939, SRR12462940, SRR12462941, SRR12462942, SRR12462943, SRR12462944, SRR12462945, SRR12462930, SRR12462931, SRR12462932, SRR12462933, SRR12462934, SRR12462935, SRR12462936, SRR12462937, SRR12462946, SRR12462947, SRR12281656, SRR12281657, SRR12281658, SRR12281659, SRR12281660, SRR12281661, SRR12281662, SRR12281663, SRR12136713, SRR12136712, SRR5047194, SRR5047069, SRR5047060, SRR5047075, SRR5047111, SRR5047132, SRR5047159, SRR5047164, SRR5047166, SRR5047048, SRR5047157, SRR5047051, SRR5047170, SRR5047165, SRR5047057, SRR5047086, SRR5047187, SRR5047043, SRR5047101, SRR5047080, SRR5047146, SRR5047070, SRR5047118, SRR5047085, SRR5047138, SRR5047168, SRR5047077, SRR5047156, SRR5047058, SRR5047068, SRR5047200, SRR5047097, SRR5047198, SRR5047176, SRR5047177, SRR5047076, SRR5047203, SRR5047126, SRR5047115, SRR5047195, SRR5047127, SRR5047045, SRR5047100, SRR5047106, SRR5047088, SRR5047191, SRR5047065, SRR5047180, SRR5047119, SRR5047134, SRR5047094, SRR5047053, SRR5047196, SRR5047073, SRR5047109, SRR5047095, SRR5047183, SRR5047081, SRR5047140, SRR5047162, SRR5047090, SRR5047082, SRR5047083, SRR5047067, SRR5047113, SRR5047190, SRR5047040, SRR5047172, SRR5047181, SRR5047201, SRR5047114, SRR5047046, SRR5047117, SRR5047161, SRR5047169, SRR5047062, SRR5047193, SRR5047152, SRR5047182, SRR5047071, SRR5047063, SRR5047054, SRR5047160, SRR5047178, SRR5047123, SRR5047143, SRR5047089, SRR5047197, SRR5047136, SRR5047047, SRR5047092, SRR5047079, SRR5047199, SRR5047074, SRR5047129, SRR5047108, SRR5047151, SRR5047102, SRR5047179, SRR5047137, SRR5047144, SRR5047189, SRR5047121, SRR5047098, SRR5047124, SRR5047041, SRR5047087, SRR5047185, SRR5047184, SRR5047120, SRR5047091, SRR5047122, SRR5047066, SRR5047052, SRR5047093, SRR5047147, SRR5047155, SRR5047116, SRR5047167, SRR5047133, SRR5047173, SRR5047107, SRR5047059, SRR5047141, SRR5047163, SRR5047049, SRR5047145, SRR5047128, SRR5047188, SRR5047186, SRR5047148, SRR5047104, SRR5047061, SRR5047078, SRR5047042, SRR5047149, SRR5047044, SRR5047055, SRR5047112, SRR5047154, SRR5047204, SRR5047125, SRR5047153, SRR5047174, SRR5047056, SRR5047130, SRR5047139, SRR5047175, SRR5047050, SRR5047192, SRR5047110, SRR5047131, SRR5047072, SRR5047096, SRR5047150, SRR5047099, SRR5047084, SRR5047171, SRR5047158, SRR5047135, SRR5047202, SRR5047105, SRR5047103, SRR5047142, SRR5047064"
     ]
    }
   ],
   "source": [
    "#Change column names to dataframe\n",
    "aMetagenomes=aMetagenomes.toDF(*colnames)"
   ]
  },
  {
   "cell_type": "code",
   "execution_count": 22,
   "metadata": {},
   "outputs": [
    {
     "name": "stdout",
     "output_type": "stream",
     "text": [
      "root\n",
      " |-- K-mer: string (nullable = true)\n",
      " |-- SRR957738: string (nullable = true)\n",
      " |-- SRR957739: string (nullable = true)\n",
      " |-- SRR957740: string (nullable = true)\n",
      " |-- SRR957741: string (nullable = true)\n",
      " |-- SRR957742: string (nullable = true)\n",
      " |-- SRR957743: string (nullable = true)\n",
      " |-- SRR957744: string (nullable = true)\n",
      " |-- SRR957745: string (nullable = true)\n",
      " |-- SRR957746: string (nullable = true)\n",
      " |-- SRR6877286: string (nullable = true)\n",
      " |-- SRR6877284: string (nullable = true)\n",
      " |-- SRR6877290: string (nullable = true)\n",
      " |-- SRR6877288: string (nullable = true)\n",
      " |-- SRR6877292: string (nullable = true)\n",
      " |-- SRR6877323: string (nullable = true)\n",
      " |-- SRR6877304: string (nullable = true)\n",
      " |-- SRR6877305: string (nullable = true)\n",
      " |-- SRR6877392: string (nullable = true)\n",
      " |-- SRR6877308: string (nullable = true)\n",
      " |-- SRR6877303: string (nullable = true)\n",
      " |-- SRR6877372: string (nullable = true)\n",
      " |-- SRR6877370: string (nullable = true)\n",
      " |-- SRR6877376: string (nullable = true)\n",
      " |-- SRR6877374: string (nullable = true)\n",
      " |-- SRR6877378: string (nullable = true)\n",
      " |-- SRR6877388: string (nullable = true)\n",
      " |-- SRR6877390: string (nullable = true)\n",
      " |-- SRR6877384: string (nullable = true)\n",
      " |-- SRR6877386: string (nullable = true)\n",
      " |-- SRR6877382: string (nullable = true)\n",
      " |-- SRR6877354: string (nullable = true)\n",
      " |-- SRR6877356: string (nullable = true)\n",
      " |-- SRR6877350: string (nullable = true)\n",
      " |-- SRR6877352: string (nullable = true)\n",
      " |-- SRR6877358: string (nullable = true)\n",
      " |-- SRR6877367: string (nullable = true)\n",
      " |-- SRR6877365: string (nullable = true)\n",
      " |-- SRR6877363: string (nullable = true)\n",
      " |-- SRR6877361: string (nullable = true)\n",
      " |-- SRR6877369: string (nullable = true)\n",
      " |-- SRR6877338: string (nullable = true)\n",
      " |-- SRR6877336: string (nullable = true)\n",
      " |-- SRR6877334: string (nullable = true)\n",
      " |-- SRR6877332: string (nullable = true)\n",
      " |-- SRR6877330: string (nullable = true)\n",
      " |-- SRR6877342: string (nullable = true)\n",
      " |-- SRR6877344: string (nullable = true)\n",
      " |-- SRR6877346: string (nullable = true)\n",
      " |-- SRR6877348: string (nullable = true)\n",
      " |-- SRR6877340: string (nullable = true)\n",
      " |-- SRR6877395: string (nullable = true)\n",
      " |-- SRR6877397: string (nullable = true)\n",
      " |-- SRR6877399: string (nullable = true)\n",
      " |-- SRR6877401: string (nullable = true)\n",
      " |-- SRR6877403: string (nullable = true)\n",
      " |-- SRR6877294: string (nullable = true)\n",
      " |-- SRR6877328: string (nullable = true)\n",
      " |-- SRR6877339: string (nullable = true)\n",
      " |-- SRR6877296: string (nullable = true)\n",
      " |-- SRR6877300: string (nullable = true)\n",
      " |-- SRR6877316: string (nullable = true)\n",
      " |-- SRR6877318: string (nullable = true)\n",
      " |-- SRR6877320: string (nullable = true)\n",
      " |-- SRR6877322: string (nullable = true)\n",
      " |-- SRR6877313: string (nullable = true)\n",
      " |-- SRR6877312: string (nullable = true)\n",
      " |-- SRR6877310: string (nullable = true)\n",
      " |-- SRR6877326: string (nullable = true)\n",
      " |-- SRR6877324: string (nullable = true)\n",
      " |-- SRR6877282: string (nullable = true)\n",
      " |-- SRR6877393: string (nullable = true)\n",
      " |-- SRR6877287: string (nullable = true)\n",
      " |-- SRR6877285: string (nullable = true)\n",
      " |-- SRR6877291: string (nullable = true)\n",
      " |-- SRR6877325: string (nullable = true)\n",
      " |-- SRR6877298: string (nullable = true)\n",
      " |-- SRR6877306: string (nullable = true)\n",
      " |-- SRR6877309: string (nullable = true)\n",
      " |-- SRR6877307: string (nullable = true)\n",
      " |-- SRR6877302: string (nullable = true)\n",
      " |-- SRR6877373: string (nullable = true)\n",
      " |-- SRR6877377: string (nullable = true)\n",
      " |-- SRR6877371: string (nullable = true)\n",
      " |-- SRR6877375: string (nullable = true)\n",
      " |-- SRR6877379: string (nullable = true)\n",
      " |-- SRR6877389: string (nullable = true)\n",
      " |-- SRR6877387: string (nullable = true)\n",
      " |-- SRR6877385: string (nullable = true)\n",
      " |-- SRR6877383: string (nullable = true)\n",
      " |-- SRR6877381: string (nullable = true)\n",
      " |-- SRR6877355: string (nullable = true)\n",
      " |-- SRR6877357: string (nullable = true)\n",
      " |-- SRR6877353: string (nullable = true)\n",
      " |-- SRR6877351: string (nullable = true)\n",
      " |-- SRR6877366: string (nullable = true)\n",
      " |-- SRR6877359: string (nullable = true)\n",
      " |-- SRR6877364: string (nullable = true)\n",
      " |-- SRR6877362: string (nullable = true)\n",
      " |-- SRR6877360: string (nullable = true)\n",
      " |-- SRR6877368: string (nullable = true)\n",
      " |-- SRR6877337: string (nullable = true)\n",
      " |-- SRR6877335: string (nullable = true)\n",
      " |-- SRR6877333: string (nullable = true)\n",
      " |-- SRR6877331: string (nullable = true)\n",
      " |-- SRR6877343: string (nullable = true)\n",
      " |-- SRR6877329: string (nullable = true)\n",
      " |-- SRR6877347: string (nullable = true)\n",
      " |-- SRR6877345: string (nullable = true)\n",
      " |-- SRR6877341: string (nullable = true)\n",
      " |-- SRR6877349: string (nullable = true)\n",
      " |-- SRR6877394: string (nullable = true)\n",
      " |-- SRR6877398: string (nullable = true)\n",
      " |-- SRR6877396: string (nullable = true)\n",
      " |-- SRR6877402: string (nullable = true)\n",
      " |-- SRR6877400: string (nullable = true)\n",
      " |-- SRR6877295: string (nullable = true)\n",
      " |-- SRR6877299: string (nullable = true)\n",
      " |-- SRR6877293: string (nullable = true)\n",
      " |-- SRR6877301: string (nullable = true)\n",
      " |-- SRR6877297: string (nullable = true)\n",
      " |-- SRR6877315: string (nullable = true)\n",
      " |-- SRR6877317: string (nullable = true)\n",
      " |-- SRR6877319: string (nullable = true)\n",
      " |-- SRR6877321: string (nullable = true)\n",
      " |-- SRR6877380: string (nullable = true)\n",
      " |-- SRR6877314: string (nullable = true)\n",
      " |-- SRR6877311: string (nullable = true)\n",
      " |-- SRR6877327: string (nullable = true)\n",
      " |-- SRR6877289: string (nullable = true)\n",
      " |-- SRR6877283: string (nullable = true)\n",
      " |-- SRR6877391: string (nullable = true)\n",
      " |-- SRR8899218: string (nullable = true)\n",
      " |-- SRR8899219: string (nullable = true)\n",
      " |-- SRR8899220: string (nullable = true)\n",
      " |-- SRR8899221: string (nullable = true)\n",
      " |-- SRR8899214: string (nullable = true)\n",
      " |-- SRR8899215: string (nullable = true)\n",
      " |-- SRR8899216: string (nullable = true)\n",
      " |-- SRR8899217: string (nullable = true)\n",
      " |-- SRR8899212: string (nullable = true)\n",
      " |-- SRR8899213: string (nullable = true)\n",
      " |-- SRR8899223: string (nullable = true)\n",
      " |-- SRR8899224: string (nullable = true)\n",
      " |-- SRR8899225: string (nullable = true)\n",
      " |-- SRR8899226: string (nullable = true)\n",
      " |-- SRR8899227: string (nullable = true)\n",
      " |-- SRR8899228: string (nullable = true)\n",
      " |-- SRR8899229: string (nullable = true)\n",
      " |-- SRR8899230: string (nullable = true)\n",
      " |-- SRR8899222: string (nullable = true)\n",
      " |-- SRR5581855: string (nullable = true)\n",
      " |-- SRR5581856: string (nullable = true)\n",
      " |-- SRR5581858: string (nullable = true)\n",
      " |-- SRR5581851: string (nullable = true)\n",
      " |-- SRR5581853: string (nullable = true)\n",
      " |-- SRR5581854: string (nullable = true)\n",
      " |-- SRR5581849: string (nullable = true)\n",
      " |-- SRR5581852: string (nullable = true)\n",
      " |-- SRR5581857: string (nullable = true)\n",
      " |-- SRR2229976: string (nullable = true)\n",
      " |-- SRR2229974: string (nullable = true)\n",
      " |-- SRR2229975: string (nullable = true)\n",
      " |-- SRR2229977: string (nullable = true)\n",
      " |-- SRR9898613: string (nullable = true)\n",
      " |-- SRR5875728: string (nullable = true)\n",
      " |-- SRR5875729: string (nullable = true)\n",
      " |-- SRR5875726: string (nullable = true)\n",
      " |-- SRR5875727: string (nullable = true)\n",
      " |-- SRR5875724: string (nullable = true)\n",
      " |-- SRR5875725: string (nullable = true)\n",
      " |-- SRR5875722: string (nullable = true)\n",
      " |-- SRR5875723: string (nullable = true)\n",
      " |-- SRR5875730: string (nullable = true)\n",
      " |-- SRR5875731: string (nullable = true)\n",
      " |-- SRR5875718: string (nullable = true)\n",
      " |-- SRR5875719: string (nullable = true)\n",
      " |-- SRR5875720: string (nullable = true)\n",
      " |-- SRR5875721: string (nullable = true)\n",
      " |-- SRR5875714: string (nullable = true)\n",
      " |-- SRR5875715: string (nullable = true)\n",
      " |-- SRR6933823: string (nullable = true)\n",
      " |-- SRR6933824: string (nullable = true)\n",
      " |-- SRR6933825: string (nullable = true)\n",
      " |-- SRR6933826: string (nullable = true)\n",
      " |-- SRR6974014: string (nullable = true)\n",
      " |-- SRR6974015: string (nullable = true)\n",
      " |-- SRR6974016: string (nullable = true)\n",
      " |-- SRR6974017: string (nullable = true)\n",
      " |-- SRR6933819: string (nullable = true)\n",
      " |-- SRR6933820: string (nullable = true)\n",
      " |-- SRR6933821: string (nullable = true)\n",
      " |-- SRR6933822: string (nullable = true)\n",
      " |-- SRR866660: string (nullable = true)\n",
      " |-- SRR866662: string (nullable = true)\n",
      " |-- SRR866663: string (nullable = true)\n",
      " |-- SRR866664: string (nullable = true)\n",
      " |-- SRR866665: string (nullable = true)\n",
      " |-- SRR866666: string (nullable = true)\n",
      " |-- SRR867031: string (nullable = true)\n",
      " |-- SRR867032: string (nullable = true)\n",
      " |-- SRR867033: string (nullable = true)\n",
      " |-- SRR867034: string (nullable = true)\n",
      " |-- SRR867035: string (nullable = true)\n",
      " |-- SRR867036: string (nullable = true)\n",
      " |-- SRR867037: string (nullable = true)\n",
      " |-- SRR867038: string (nullable = true)\n",
      " |-- SRR867039: string (nullable = true)\n",
      " |-- SRR867040: string (nullable = true)\n",
      " |-- SRR4047198: string (nullable = true)\n",
      " |-- SRR4047199: string (nullable = true)\n",
      " |-- SRR4047200: string (nullable = true)\n",
      " |-- SRR4047201: string (nullable = true)\n",
      " |-- SRR4047202: string (nullable = true)\n",
      " |-- SRR4047203: string (nullable = true)\n",
      " |-- SRR4047205: string (nullable = true)\n",
      " |-- SRR4047206: string (nullable = true)\n",
      " |-- SRR4047207: string (nullable = true)\n",
      " |-- SRR4047196: string (nullable = true)\n",
      " |-- SRR4047197: string (nullable = true)\n",
      " |-- SRR4047212: string (nullable = true)\n",
      " |-- SRR4047213: string (nullable = true)\n",
      " |-- SRR4047214: string (nullable = true)\n",
      " |-- SRR4047217: string (nullable = true)\n",
      " |-- SRR4047218: string (nullable = true)\n",
      " |-- SRR4047219: string (nullable = true)\n",
      " |-- SRR4047220: string (nullable = true)\n",
      " |-- SRR4047221: string (nullable = true)\n",
      " |-- SRR4047222: string (nullable = true)\n",
      " |-- SRR4047223: string (nullable = true)\n",
      " |-- SRR4047224: string (nullable = true)\n",
      " |-- SRR4047225: string (nullable = true)\n",
      " |-- SRR5297130: string (nullable = true)\n",
      " |-- SRR5297133: string (nullable = true)\n",
      " |-- SRR5297132: string (nullable = true)\n",
      " |-- SRR5297131: string (nullable = true)\n",
      " |-- SRR12557008: string (nullable = true)\n",
      " |-- SRR12557006: string (nullable = true)\n",
      " |-- SRR12557007: string (nullable = true)\n",
      " |-- SRR1047998: string (nullable = true)\n",
      " |-- SRR11176627: string (nullable = true)\n",
      " |-- SRR11176628: string (nullable = true)\n",
      " |-- SRR11176629: string (nullable = true)\n",
      " |-- SRR11176630: string (nullable = true)\n",
      " |-- SRR11176631: string (nullable = true)\n",
      " |-- SRR11176632: string (nullable = true)\n",
      " |-- SRR11176633: string (nullable = true)\n",
      " |-- SRR11176634: string (nullable = true)\n",
      " |-- SRR11176635: string (nullable = true)\n",
      " |-- SRR11176636: string (nullable = true)\n",
      " |-- SRR11176638: string (nullable = true)\n",
      " |-- SRR11176639: string (nullable = true)\n",
      " |-- SRR11176640: string (nullable = true)\n",
      " |-- SRR11176641: string (nullable = true)\n",
      " |-- SRR11176642: string (nullable = true)\n",
      " |-- SRR12462938: string (nullable = true)\n",
      " |-- SRR12462939: string (nullable = true)\n",
      " |-- SRR12462940: string (nullable = true)\n",
      " |-- SRR12462941: string (nullable = true)\n",
      " |-- SRR12462942: string (nullable = true)\n",
      " |-- SRR12462943: string (nullable = true)\n",
      " |-- SRR12462944: string (nullable = true)\n",
      " |-- SRR12462945: string (nullable = true)\n",
      " |-- SRR12462930: string (nullable = true)\n",
      " |-- SRR12462931: string (nullable = true)\n",
      " |-- SRR12462932: string (nullable = true)\n",
      " |-- SRR12462933: string (nullable = true)\n",
      " |-- SRR12462934: string (nullable = true)\n",
      " |-- SRR12462935: string (nullable = true)\n",
      " |-- SRR12462936: string (nullable = true)\n",
      " |-- SRR12462937: string (nullable = true)\n",
      " |-- SRR12462946: string (nullable = true)\n",
      " |-- SRR12462947: string (nullable = true)\n",
      " |-- SRR12281656: string (nullable = true)\n",
      " |-- SRR12281657: string (nullable = true)\n",
      " |-- SRR12281658: string (nullable = true)\n",
      " |-- SRR12281659: string (nullable = true)\n",
      " |-- SRR12281660: string (nullable = true)\n",
      " |-- SRR12281661: string (nullable = true)\n",
      " |-- SRR12281662: string (nullable = true)\n",
      " |-- SRR12281663: string (nullable = true)\n",
      " |-- SRR12136713: string (nullable = true)\n",
      " |-- SRR12136712: string (nullable = true)\n",
      " |-- SRR5047194: string (nullable = true)\n",
      " |-- SRR5047069: string (nullable = true)\n",
      " |-- SRR5047060: string (nullable = true)\n",
      " |-- SRR5047075: string (nullable = true)\n",
      " |-- SRR5047111: string (nullable = true)\n",
      " |-- SRR5047132: string (nullable = true)\n",
      " |-- SRR5047159: string (nullable = true)\n",
      " |-- SRR5047164: string (nullable = true)\n",
      " |-- SRR5047166: string (nullable = true)\n",
      " |-- SRR5047048: string (nullable = true)\n",
      " |-- SRR5047157: string (nullable = true)\n",
      " |-- SRR5047051: string (nullable = true)\n",
      " |-- SRR5047170: string (nullable = true)\n",
      " |-- SRR5047165: string (nullable = true)\n",
      " |-- SRR5047057: string (nullable = true)\n",
      " |-- SRR5047086: string (nullable = true)\n",
      " |-- SRR5047187: string (nullable = true)\n",
      " |-- SRR5047043: string (nullable = true)\n",
      " |-- SRR5047101: string (nullable = true)\n",
      " |-- SRR5047080: string (nullable = true)\n",
      " |-- SRR5047146: string (nullable = true)\n",
      " |-- SRR5047070: string (nullable = true)\n",
      " |-- SRR5047118: string (nullable = true)\n",
      " |-- SRR5047085: string (nullable = true)\n",
      " |-- SRR5047138: string (nullable = true)\n",
      " |-- SRR5047168: string (nullable = true)\n",
      " |-- SRR5047077: string (nullable = true)\n",
      " |-- SRR5047156: string (nullable = true)\n",
      " |-- SRR5047058: string (nullable = true)\n",
      " |-- SRR5047068: string (nullable = true)\n",
      " |-- SRR5047200: string (nullable = true)\n",
      " |-- SRR5047097: string (nullable = true)\n",
      " |-- SRR5047198: string (nullable = true)\n",
      " |-- SRR5047176: string (nullable = true)\n",
      " |-- SRR5047177: string (nullable = true)\n",
      " |-- SRR5047076: string (nullable = true)\n",
      " |-- SRR5047203: string (nullable = true)\n",
      " |-- SRR5047126: string (nullable = true)\n",
      " |-- SRR5047115: string (nullable = true)\n",
      " |-- SRR5047195: string (nullable = true)\n",
      " |-- SRR5047127: string (nullable = true)\n",
      " |-- SRR5047045: string (nullable = true)\n",
      " |-- SRR5047100: string (nullable = true)\n",
      " |-- SRR5047106: string (nullable = true)\n",
      " |-- SRR5047088: string (nullable = true)\n",
      " |-- SRR5047191: string (nullable = true)\n",
      " |-- SRR5047065: string (nullable = true)\n",
      " |-- SRR5047180: string (nullable = true)\n",
      " |-- SRR5047119: string (nullable = true)\n",
      " |-- SRR5047134: string (nullable = true)\n",
      " |-- SRR5047094: string (nullable = true)\n",
      " |-- SRR5047053: string (nullable = true)\n",
      " |-- SRR5047196: string (nullable = true)\n",
      " |-- SRR5047073: string (nullable = true)\n",
      " |-- SRR5047109: string (nullable = true)\n",
      " |-- SRR5047095: string (nullable = true)\n",
      " |-- SRR5047183: string (nullable = true)\n",
      " |-- SRR5047081: string (nullable = true)\n",
      " |-- SRR5047140: string (nullable = true)\n",
      " |-- SRR5047162: string (nullable = true)\n",
      " |-- SRR5047090: string (nullable = true)\n",
      " |-- SRR5047082: string (nullable = true)\n",
      " |-- SRR5047083: string (nullable = true)\n",
      " |-- SRR5047067: string (nullable = true)\n",
      " |-- SRR5047113: string (nullable = true)\n",
      " |-- SRR5047190: string (nullable = true)\n",
      " |-- SRR5047040: string (nullable = true)\n",
      " |-- SRR5047172: string (nullable = true)\n",
      " |-- SRR5047181: string (nullable = true)\n",
      " |-- SRR5047201: string (nullable = true)\n",
      " |-- SRR5047114: string (nullable = true)\n",
      " |-- SRR5047046: string (nullable = true)\n",
      " |-- SRR5047117: string (nullable = true)\n",
      " |-- SRR5047161: string (nullable = true)\n",
      " |-- SRR5047169: string (nullable = true)\n",
      " |-- SRR5047062: string (nullable = true)\n",
      " |-- SRR5047193: string (nullable = true)\n",
      " |-- SRR5047152: string (nullable = true)\n",
      " |-- SRR5047182: string (nullable = true)\n",
      " |-- SRR5047071: string (nullable = true)\n",
      " |-- SRR5047063: string (nullable = true)\n",
      " |-- SRR5047054: string (nullable = true)\n",
      " |-- SRR5047160: string (nullable = true)\n",
      " |-- SRR5047178: string (nullable = true)\n",
      " |-- SRR5047123: string (nullable = true)\n",
      " |-- SRR5047143: string (nullable = true)\n",
      " |-- SRR5047089: string (nullable = true)\n",
      " |-- SRR5047197: string (nullable = true)\n",
      " |-- SRR5047136: string (nullable = true)\n",
      " |-- SRR5047047: string (nullable = true)\n",
      " |-- SRR5047092: string (nullable = true)\n",
      " |-- SRR5047079: string (nullable = true)\n",
      " |-- SRR5047199: string (nullable = true)\n",
      " |-- SRR5047074: string (nullable = true)\n",
      " |-- SRR5047129: string (nullable = true)\n",
      " |-- SRR5047108: string (nullable = true)\n",
      " |-- SRR5047151: string (nullable = true)\n",
      " |-- SRR5047102: string (nullable = true)\n",
      " |-- SRR5047179: string (nullable = true)\n",
      " |-- SRR5047137: string (nullable = true)\n",
      " |-- SRR5047144: string (nullable = true)\n",
      " |-- SRR5047189: string (nullable = true)\n",
      " |-- SRR5047121: string (nullable = true)\n",
      " |-- SRR5047098: string (nullable = true)\n",
      " |-- SRR5047124: string (nullable = true)\n",
      " |-- SRR5047041: string (nullable = true)\n",
      " |-- SRR5047087: string (nullable = true)\n",
      " |-- SRR5047185: string (nullable = true)\n",
      " |-- SRR5047184: string (nullable = true)\n",
      " |-- SRR5047120: string (nullable = true)\n",
      " |-- SRR5047091: string (nullable = true)\n",
      " |-- SRR5047122: string (nullable = true)\n",
      " |-- SRR5047066: string (nullable = true)\n",
      " |-- SRR5047052: string (nullable = true)\n",
      " |-- SRR5047093: string (nullable = true)\n",
      " |-- SRR5047147: string (nullable = true)\n",
      " |-- SRR5047155: string (nullable = true)\n",
      " |-- SRR5047116: string (nullable = true)\n",
      " |-- SRR5047167: string (nullable = true)\n",
      " |-- SRR5047133: string (nullable = true)\n",
      " |-- SRR5047173: string (nullable = true)\n",
      " |-- SRR5047107: string (nullable = true)\n",
      " |-- SRR5047059: string (nullable = true)\n",
      " |-- SRR5047141: string (nullable = true)\n",
      " |-- SRR5047163: string (nullable = true)\n",
      " |-- SRR5047049: string (nullable = true)\n",
      " |-- SRR5047145: string (nullable = true)\n",
      " |-- SRR5047128: string (nullable = true)\n",
      " |-- SRR5047188: string (nullable = true)\n",
      " |-- SRR5047186: string (nullable = true)\n",
      " |-- SRR5047148: string (nullable = true)\n",
      " |-- SRR5047104: string (nullable = true)\n",
      " |-- SRR5047061: string (nullable = true)\n",
      " |-- SRR5047078: string (nullable = true)\n",
      " |-- SRR5047042: string (nullable = true)\n",
      " |-- SRR5047149: string (nullable = true)\n",
      " |-- SRR5047044: string (nullable = true)\n",
      " |-- SRR5047055: string (nullable = true)\n",
      " |-- SRR5047112: string (nullable = true)\n",
      " |-- SRR5047154: string (nullable = true)\n",
      " |-- SRR5047204: string (nullable = true)\n",
      " |-- SRR5047125: string (nullable = true)\n",
      " |-- SRR5047153: string (nullable = true)\n",
      " |-- SRR5047174: string (nullable = true)\n",
      " |-- SRR5047056: string (nullable = true)\n",
      " |-- SRR5047130: string (nullable = true)\n",
      " |-- SRR5047139: string (nullable = true)\n",
      " |-- SRR5047175: string (nullable = true)\n",
      " |-- SRR5047050: string (nullable = true)\n",
      " |-- SRR5047192: string (nullable = true)\n",
      " |-- SRR5047110: string (nullable = true)\n",
      " |-- SRR5047131: string (nullable = true)\n",
      " |-- SRR5047072: string (nullable = true)\n",
      " |-- SRR5047096: string (nullable = true)\n",
      " |-- SRR5047150: string (nullable = true)\n",
      " |-- SRR5047099: string (nullable = true)\n",
      " |-- SRR5047084: string (nullable = true)\n",
      " |-- SRR5047171: string (nullable = true)\n",
      " |-- SRR5047158: string (nullable = true)\n",
      " |-- SRR5047135: string (nullable = true)\n",
      " |-- SRR5047202: string (nullable = true)\n",
      " |-- SRR5047105: string (nullable = true)\n",
      " |-- SRR5047103: string (nullable = true)\n",
      " |-- SRR5047142: string (nullable = true)\n",
      " |-- SRR5047064: string (nullable = true)\n",
      "\n"
     ]
    }
   ],
   "source": [
    "aMetagenomes.printSchema()"
   ]
  },
  {
   "cell_type": "code",
   "execution_count": 23,
   "metadata": {},
   "outputs": [],
   "source": [
    "from pyspark.ml.stat import Correlation\n",
    "from pyspark.ml.stat import Summarizer\n"
   ]
  },
  {
   "cell_type": "code",
   "execution_count": 24,
   "metadata": {},
   "outputs": [
    {
     "name": "stdout",
     "output_type": "stream",
     "text": [
      "+--------------------+---------+---------+---------+---------+---------+---------+---------+---------+---------+----------+----------+----------+----------+----------+----------+----------+----------+----------+----------+----------+----------+----------+----------+----------+----------+----------+----------+----------+----------+----------+----------+----------+----------+----------+----------+----------+----------+----------+----------+----------+----------+----------+----------+----------+----------+----------+----------+----------+----------+----------+----------+----------+----------+----------+----------+----------+----------+----------+----------+----------+----------+----------+----------+----------+----------+----------+----------+----------+----------+----------+----------+----------+----------+----------+----------+----------+----------+----------+----------+----------+----------+----------+----------+----------+----------+----------+----------+----------+----------+----------+----------+----------+----------+----------+----------+----------+----------+----------+----------+----------+----------+----------+----------+----------+----------+----------+----------+----------+----------+----------+----------+----------+----------+----------+----------+----------+----------+----------+----------+----------+----------+----------+----------+----------+----------+----------+----------+----------+----------+----------+----------+----------+----------+----------+----------+----------+----------+----------+----------+----------+----------+----------+----------+----------+----------+----------+----------+----------+----------+----------+----------+----------+----------+----------+----------+----------+----------+----------+----------+----------+----------+----------+----------+----------+----------+----------+----------+----------+----------+----------+----------+----------+----------+----------+----------+----------+----------+----------+----------+----------+----------+----------+----------+----------+----------+----------+----------+----------+----------+----------+----------+----------+---------+---------+---------+---------+---------+---------+---------+---------+---------+---------+---------+---------+---------+---------+---------+---------+----------+----------+----------+----------+----------+----------+----------+----------+----------+----------+----------+----------+----------+----------+----------+----------+----------+----------+----------+----------+----------+----------+----------+----------+----------+----------+----------+-----------+-----------+-----------+----------+-----------+-----------+-----------+-----------+-----------+-----------+-----------+-----------+-----------+-----------+-----------+-----------+-----------+-----------+-----------+-----------+-----------+-----------+-----------+-----------+-----------+-----------+-----------+-----------+-----------+-----------+-----------+-----------+-----------+-----------+-----------+-----------+-----------+-----------+-----------+-----------+-----------+-----------+-----------+-----------+-----------+-----------+-----------+----------+----------+----------+----------+----------+----------+----------+----------+----------+----------+----------+----------+----------+----------+----------+----------+----------+----------+----------+----------+----------+----------+----------+----------+----------+----------+----------+----------+----------+----------+----------+----------+----------+----------+----------+----------+----------+----------+----------+----------+----------+----------+----------+----------+----------+----------+----------+----------+----------+----------+----------+----------+----------+----------+----------+----------+----------+----------+----------+----------+----------+----------+----------+----------+----------+----------+----------+----------+----------+----------+----------+----------+----------+----------+----------+----------+----------+----------+----------+----------+----------+----------+----------+----------+----------+----------+----------+----------+----------+----------+----------+----------+----------+----------+----------+----------+----------+----------+----------+----------+----------+----------+----------+----------+----------+----------+----------+----------+----------+----------+----------+----------+----------+----------+----------+----------+----------+----------+----------+----------+----------+----------+----------+----------+----------+----------+----------+----------+----------+----------+----------+----------+----------+----------+----------+----------+----------+----------+----------+----------+----------+----------+----------+----------+----------+----------+----------+----------+----------+----------+----------+----------+----------+----------+----------+----------+----------+----------+----------+----------+----------+----------+----------+----------+----------+\n",
      "|               K-mer|SRR957738|SRR957739|SRR957740|SRR957741|SRR957742|SRR957743|SRR957744|SRR957745|SRR957746|SRR6877286|SRR6877284|SRR6877290|SRR6877288|SRR6877292|SRR6877323|SRR6877304|SRR6877305|SRR6877392|SRR6877308|SRR6877303|SRR6877372|SRR6877370|SRR6877376|SRR6877374|SRR6877378|SRR6877388|SRR6877390|SRR6877384|SRR6877386|SRR6877382|SRR6877354|SRR6877356|SRR6877350|SRR6877352|SRR6877358|SRR6877367|SRR6877365|SRR6877363|SRR6877361|SRR6877369|SRR6877338|SRR6877336|SRR6877334|SRR6877332|SRR6877330|SRR6877342|SRR6877344|SRR6877346|SRR6877348|SRR6877340|SRR6877395|SRR6877397|SRR6877399|SRR6877401|SRR6877403|SRR6877294|SRR6877328|SRR6877339|SRR6877296|SRR6877300|SRR6877316|SRR6877318|SRR6877320|SRR6877322|SRR6877313|SRR6877312|SRR6877310|SRR6877326|SRR6877324|SRR6877282|SRR6877393|SRR6877287|SRR6877285|SRR6877291|SRR6877325|SRR6877298|SRR6877306|SRR6877309|SRR6877307|SRR6877302|SRR6877373|SRR6877377|SRR6877371|SRR6877375|SRR6877379|SRR6877389|SRR6877387|SRR6877385|SRR6877383|SRR6877381|SRR6877355|SRR6877357|SRR6877353|SRR6877351|SRR6877366|SRR6877359|SRR6877364|SRR6877362|SRR6877360|SRR6877368|SRR6877337|SRR6877335|SRR6877333|SRR6877331|SRR6877343|SRR6877329|SRR6877347|SRR6877345|SRR6877341|SRR6877349|SRR6877394|SRR6877398|SRR6877396|SRR6877402|SRR6877400|SRR6877295|SRR6877299|SRR6877293|SRR6877301|SRR6877297|SRR6877315|SRR6877317|SRR6877319|SRR6877321|SRR6877380|SRR6877314|SRR6877311|SRR6877327|SRR6877289|SRR6877283|SRR6877391|SRR8899218|SRR8899219|SRR8899220|SRR8899221|SRR8899214|SRR8899215|SRR8899216|SRR8899217|SRR8899212|SRR8899213|SRR8899223|SRR8899224|SRR8899225|SRR8899226|SRR8899227|SRR8899228|SRR8899229|SRR8899230|SRR8899222|SRR5581855|SRR5581856|SRR5581858|SRR5581851|SRR5581853|SRR5581854|SRR5581849|SRR5581852|SRR5581857|SRR2229976|SRR2229974|SRR2229975|SRR2229977|SRR9898613|SRR5875728|SRR5875729|SRR5875726|SRR5875727|SRR5875724|SRR5875725|SRR5875722|SRR5875723|SRR5875730|SRR5875731|SRR5875718|SRR5875719|SRR5875720|SRR5875721|SRR5875714|SRR5875715|SRR6933823|SRR6933824|SRR6933825|SRR6933826|SRR6974014|SRR6974015|SRR6974016|SRR6974017|SRR6933819|SRR6933820|SRR6933821|SRR6933822|SRR866660|SRR866662|SRR866663|SRR866664|SRR866665|SRR866666|SRR867031|SRR867032|SRR867033|SRR867034|SRR867035|SRR867036|SRR867037|SRR867038|SRR867039|SRR867040|SRR4047198|SRR4047199|SRR4047200|SRR4047201|SRR4047202|SRR4047203|SRR4047205|SRR4047206|SRR4047207|SRR4047196|SRR4047197|SRR4047212|SRR4047213|SRR4047214|SRR4047217|SRR4047218|SRR4047219|SRR4047220|SRR4047221|SRR4047222|SRR4047223|SRR4047224|SRR4047225|SRR5297130|SRR5297133|SRR5297132|SRR5297131|SRR12557008|SRR12557006|SRR12557007|SRR1047998|SRR11176627|SRR11176628|SRR11176629|SRR11176630|SRR11176631|SRR11176632|SRR11176633|SRR11176634|SRR11176635|SRR11176636|SRR11176638|SRR11176639|SRR11176640|SRR11176641|SRR11176642|SRR12462938|SRR12462939|SRR12462940|SRR12462941|SRR12462942|SRR12462943|SRR12462944|SRR12462945|SRR12462930|SRR12462931|SRR12462932|SRR12462933|SRR12462934|SRR12462935|SRR12462936|SRR12462937|SRR12462946|SRR12462947|SRR12281656|SRR12281657|SRR12281658|SRR12281659|SRR12281660|SRR12281661|SRR12281662|SRR12281663|SRR12136713|SRR12136712|SRR5047194|SRR5047069|SRR5047060|SRR5047075|SRR5047111|SRR5047132|SRR5047159|SRR5047164|SRR5047166|SRR5047048|SRR5047157|SRR5047051|SRR5047170|SRR5047165|SRR5047057|SRR5047086|SRR5047187|SRR5047043|SRR5047101|SRR5047080|SRR5047146|SRR5047070|SRR5047118|SRR5047085|SRR5047138|SRR5047168|SRR5047077|SRR5047156|SRR5047058|SRR5047068|SRR5047200|SRR5047097|SRR5047198|SRR5047176|SRR5047177|SRR5047076|SRR5047203|SRR5047126|SRR5047115|SRR5047195|SRR5047127|SRR5047045|SRR5047100|SRR5047106|SRR5047088|SRR5047191|SRR5047065|SRR5047180|SRR5047119|SRR5047134|SRR5047094|SRR5047053|SRR5047196|SRR5047073|SRR5047109|SRR5047095|SRR5047183|SRR5047081|SRR5047140|SRR5047162|SRR5047090|SRR5047082|SRR5047083|SRR5047067|SRR5047113|SRR5047190|SRR5047040|SRR5047172|SRR5047181|SRR5047201|SRR5047114|SRR5047046|SRR5047117|SRR5047161|SRR5047169|SRR5047062|SRR5047193|SRR5047152|SRR5047182|SRR5047071|SRR5047063|SRR5047054|SRR5047160|SRR5047178|SRR5047123|SRR5047143|SRR5047089|SRR5047197|SRR5047136|SRR5047047|SRR5047092|SRR5047079|SRR5047199|SRR5047074|SRR5047129|SRR5047108|SRR5047151|SRR5047102|SRR5047179|SRR5047137|SRR5047144|SRR5047189|SRR5047121|SRR5047098|SRR5047124|SRR5047041|SRR5047087|SRR5047185|SRR5047184|SRR5047120|SRR5047091|SRR5047122|SRR5047066|SRR5047052|SRR5047093|SRR5047147|SRR5047155|SRR5047116|SRR5047167|SRR5047133|SRR5047173|SRR5047107|SRR5047059|SRR5047141|SRR5047163|SRR5047049|SRR5047145|SRR5047128|SRR5047188|SRR5047186|SRR5047148|SRR5047104|SRR5047061|SRR5047078|SRR5047042|SRR5047149|SRR5047044|SRR5047055|SRR5047112|SRR5047154|SRR5047204|SRR5047125|SRR5047153|SRR5047174|SRR5047056|SRR5047130|SRR5047139|SRR5047175|SRR5047050|SRR5047192|SRR5047110|SRR5047131|SRR5047072|SRR5047096|SRR5047150|SRR5047099|SRR5047084|SRR5047171|SRR5047158|SRR5047135|SRR5047202|SRR5047105|SRR5047103|SRR5047142|SRR5047064|\n",
      "+--------------------+---------+---------+---------+---------+---------+---------+---------+---------+---------+----------+----------+----------+----------+----------+----------+----------+----------+----------+----------+----------+----------+----------+----------+----------+----------+----------+----------+----------+----------+----------+----------+----------+----------+----------+----------+----------+----------+----------+----------+----------+----------+----------+----------+----------+----------+----------+----------+----------+----------+----------+----------+----------+----------+----------+----------+----------+----------+----------+----------+----------+----------+----------+----------+----------+----------+----------+----------+----------+----------+----------+----------+----------+----------+----------+----------+----------+----------+----------+----------+----------+----------+----------+----------+----------+----------+----------+----------+----------+----------+----------+----------+----------+----------+----------+----------+----------+----------+----------+----------+----------+----------+----------+----------+----------+----------+----------+----------+----------+----------+----------+----------+----------+----------+----------+----------+----------+----------+----------+----------+----------+----------+----------+----------+----------+----------+----------+----------+----------+----------+----------+----------+----------+----------+----------+----------+----------+----------+----------+----------+----------+----------+----------+----------+----------+----------+----------+----------+----------+----------+----------+----------+----------+----------+----------+----------+----------+----------+----------+----------+----------+----------+----------+----------+----------+----------+----------+----------+----------+----------+----------+----------+----------+----------+----------+----------+----------+----------+----------+----------+----------+----------+----------+----------+----------+----------+----------+----------+----------+----------+----------+----------+----------+---------+---------+---------+---------+---------+---------+---------+---------+---------+---------+---------+---------+---------+---------+---------+---------+----------+----------+----------+----------+----------+----------+----------+----------+----------+----------+----------+----------+----------+----------+----------+----------+----------+----------+----------+----------+----------+----------+----------+----------+----------+----------+----------+-----------+-----------+-----------+----------+-----------+-----------+-----------+-----------+-----------+-----------+-----------+-----------+-----------+-----------+-----------+-----------+-----------+-----------+-----------+-----------+-----------+-----------+-----------+-----------+-----------+-----------+-----------+-----------+-----------+-----------+-----------+-----------+-----------+-----------+-----------+-----------+-----------+-----------+-----------+-----------+-----------+-----------+-----------+-----------+-----------+-----------+-----------+----------+----------+----------+----------+----------+----------+----------+----------+----------+----------+----------+----------+----------+----------+----------+----------+----------+----------+----------+----------+----------+----------+----------+----------+----------+----------+----------+----------+----------+----------+----------+----------+----------+----------+----------+----------+----------+----------+----------+----------+----------+----------+----------+----------+----------+----------+----------+----------+----------+----------+----------+----------+----------+----------+----------+----------+----------+----------+----------+----------+----------+----------+----------+----------+----------+----------+----------+----------+----------+----------+----------+----------+----------+----------+----------+----------+----------+----------+----------+----------+----------+----------+----------+----------+----------+----------+----------+----------+----------+----------+----------+----------+----------+----------+----------+----------+----------+----------+----------+----------+----------+----------+----------+----------+----------+----------+----------+----------+----------+----------+----------+----------+----------+----------+----------+----------+----------+----------+----------+----------+----------+----------+----------+----------+----------+----------+----------+----------+----------+----------+----------+----------+----------+----------+----------+----------+----------+----------+----------+----------+----------+----------+----------+----------+----------+----------+----------+----------+----------+----------+----------+----------+----------+----------+----------+----------+----------+----------+----------+----------+----------+----------+----------+----------+----------+\n",
      "|AAAAAAAAAAAAGAGCACAC|        0|        0|        0|        0|        0|        0|        0|        0|        0|         0|         0|         0|         0|         0|         0|         0|         0|         0|         0|         0|         0|         0|         0|         0|         0|         0|         0|         0|         0|         0|         0|         0|         0|         0|         0|         0|         0|         0|         0|         0|         0|         0|         0|         0|         0|         0|         0|         0|         0|         0|         0|         0|         0|         0|         0|         0|         0|         0|         0|         0|         0|         0|         0|         0|         0|         0|         0|         0|         0|         0|         0|         0|         0|         0|         0|         4|         0|         0|         0|         0|         0|         0|         0|         0|         0|         0|         0|         0|         0|         0|         0|         0|         0|         0|         0|         0|         0|         0|         0|         0|         0|         0|         0|         0|         0|         0|         0|         0|         0|         0|         0|         0|         0|         0|         0|         0|         0|         0|         0|         0|         0|         0|         0|         0|         0|         0|         0|         0|         0|         0|         0|         0|         0|         0|         0|         0|         0|         0|         0|         0|         0|         0|         0|         0|         0|         0|         0|         0|         0|         0|         0|         0|         0|         0|         0|         0|         0|         0|         0|         0|         0|         0|         0|         0|         6|        14|         0|         0|         0|         7|         0|         0|         3|         0|         9|         0|         3|         7|         4|         0|         0|         0|         0|         0|         0|         0|         0|         0|         0|         0|         0|         0|        0|        0|        0|        0|        0|        0|        0|        0|        0|        0|        0|        0|        0|        0|        0|        0|         0|         0|         0|         0|         0|         0|         0|         0|         0|         0|         0|         0|         0|         0|         0|         0|         0|         0|         0|         0|         0|         0|         0|         0|         0|         0|         0|          0|          0|          0|         0|          0|          0|          0|          0|          0|          0|          0|          0|          0|          0|          0|          0|          0|          0|          0|         46|         11|          9|         19|         29|         19|          0|         20|          7|         26|         14|         25|         12|         31|         26|         20|         10|         29|          0|          0|          0|          0|          0|          0|          0|          0|          0|          0|         0|         0|         0|         0|         0|         0|         0|         0|         0|         0|         0|         0|         0|         0|         0|         0|         0|         0|         0|         0|         0|         0|         0|         0|         0|         0|         0|         0|         0|         0|         0|         0|         0|         0|         0|         0|         0|         0|         0|         0|         0|         0|         0|         0|         0|         0|         0|         0|         0|         0|         0|         0|         0|         0|         7|         0|         0|         0|         0|         0|         0|         0|         0|         0|         0|         0|         0|         0|         0|         0|         0|         0|         0|         0|         0|         0|         0|         0|         0|         0|         0|         0|         0|         0|         0|         0|         0|         0|         0|         0|         0|         0|         0|         0|         0|         0|         0|         0|         0|         0|         0|         0|         0|         0|         0|         0|         0|         0|         0|         0|         0|         0|         0|         0|         0|         0|         0|         0|         0|         0|         0|         0|         0|         0|         0|         0|         0|         0|         0|         0|         0|         0|         0|         0|         0|         0|         0|         0|         0|         0|         0|         0|         0|         0|         0|         0|         0|         0|         0|         0|         0|         0|         0|         0|         0|         0|         0|         0|         0|         0|         0|         0|         0|         0|         0|\n",
      "|AAAAAAAAAAAGAGCACACA|        0|        0|        0|        0|        0|        0|        0|        0|        0|         0|         0|         0|         0|         0|         0|         0|         0|         0|         0|         0|         0|         0|         0|         0|         0|         0|         0|         0|         0|         0|         0|         0|         0|         0|         0|         0|         0|         0|         0|         0|         0|         0|         0|         0|         0|         0|         0|         0|         0|         0|         0|         0|         0|         0|         0|         0|         0|         0|         0|         0|         0|         0|         0|         0|         0|         0|         0|         0|         0|         0|         0|         0|         0|         0|         0|         3|         0|         0|         0|         0|         0|         0|         0|         0|         0|         0|         0|         0|         0|         0|         0|         0|         0|         0|         0|         0|         0|         0|         0|         0|         0|         0|         0|         0|         0|         0|         0|         0|         0|         0|         0|         0|         0|         0|         0|         0|         0|         0|         0|         0|         0|         0|         0|         0|         0|         0|         0|         0|         0|         0|         0|         0|         0|         0|         0|         0|         0|         0|         0|         0|         0|         0|         0|         0|         0|         0|         0|         0|         0|         0|         0|         0|         0|         0|         0|         0|         0|         0|         0|         0|         0|         0|         0|         0|         4|         5|         3|         0|         3|         4|         0|         0|         0|         0|         4|         0|         3|         6|         3|         0|         0|         0|         0|         0|         0|         0|         0|         0|         0|         0|         0|         0|        0|        0|        0|        0|        0|        0|        0|        0|        0|        0|        0|        0|        0|        0|        0|        0|         0|         0|         0|         0|         0|         0|         0|         0|         0|         0|         0|         0|         0|         0|         0|         0|         0|         0|         0|         0|         0|         0|         0|         0|         0|         0|         0|          0|          0|          0|         0|          0|          0|          0|          0|          0|          0|          0|          0|          0|          0|          0|          0|          0|          0|          0|         30|          6|         11|         23|         25|         10|          0|         16|          7|         17|          9|         17|         11|         19|         18|         14|          8|         16|          0|          0|          0|          0|          0|          0|          0|          0|          0|          0|         0|         0|         0|         0|         0|         0|         0|         0|         0|         0|         0|         0|         0|         0|         0|         0|         0|         0|         0|         0|         0|         0|         0|         0|         0|         0|         0|         0|         0|         0|         0|         0|         0|         0|         0|         0|         0|         0|         0|         0|         0|         0|         0|         0|         0|         0|         0|         0|         0|         0|         0|         0|         0|         0|         0|         0|         0|         0|         0|         0|         0|         0|         0|         0|         0|         0|         0|         0|         0|         0|         0|         0|         0|         0|         0|         0|         0|         0|         0|         0|         0|         0|         0|         0|         0|         0|         0|         0|         0|         0|         0|         0|         0|         0|         0|         0|         0|         0|         0|         0|         0|         0|         0|         0|         0|         0|         0|         0|         0|         0|         0|         0|         0|         0|         0|         0|         0|         0|         0|         0|         0|         0|         0|         0|         0|         0|         0|         0|         0|         0|         0|         0|         0|         0|         0|         0|         0|         0|         0|         0|         0|         0|         0|         0|         0|         0|         0|         0|         0|         0|         0|         0|         0|         0|         0|         0|         0|         0|         0|         0|         0|         0|         0|         0|         0|\n",
      "|AAAAAAAAAAAGAGCACACC|        0|        0|        0|        0|        0|        0|        0|        0|        0|         0|         0|         0|         0|         0|         0|         0|         0|         0|         0|         0|         0|         0|         0|         0|         0|         0|         0|         0|         0|         0|         0|         0|         0|         0|         0|         0|         0|         0|         0|         0|         0|         0|         0|         0|         0|         0|         0|         0|         0|         0|         0|         0|         0|         0|         0|         0|         0|         0|         0|         0|         0|         0|         0|         0|         0|         0|         0|         0|         0|         0|         0|         0|         0|         0|         0|         0|         0|         0|         0|         0|         0|         0|         0|         0|         0|         0|         0|         0|         0|         0|         0|         0|         0|         0|         0|         0|         0|         0|         0|         0|         0|         0|         0|         0|         0|         0|         0|         0|         0|         0|         0|         0|         0|         0|         0|         0|         0|         0|         0|         0|         0|         0|         0|         0|         0|         0|         0|         0|         0|         0|         0|         0|         0|         0|         0|         0|         0|         0|         0|         0|         0|         0|         0|         0|         0|         0|         0|         0|         0|         0|         0|         0|         0|         0|         0|         0|         0|         0|         0|         0|         0|         0|         0|         0|         0|         0|         0|         0|         0|         0|         0|         0|         0|         0|         0|         0|         0|         0|         0|         0|         0|         0|         0|         0|         0|         0|         0|         0|         0|         0|         0|         0|        0|        0|        0|        0|        0|        0|        0|        0|        0|        0|        0|        0|        0|        0|        0|        0|         0|         0|         0|         0|         0|         0|         0|         0|         0|         0|         0|         0|         0|         0|         0|         0|         0|         0|         0|         0|         0|         0|         0|         0|         0|         0|         0|          0|          0|          0|         0|          0|          0|          0|          0|          0|          0|          0|          0|          0|          0|          0|          0|          0|          0|          0|         13|          0|          6|          6|         14|          7|          0|          9|          4|         14|          9|         13|          5|         15|          8|          6|          3|         14|          0|          0|          0|          0|          0|          0|          0|          0|          0|          0|         0|         0|         0|         0|         0|         0|         0|         0|         0|         0|         0|         0|         0|         0|         0|         0|         0|         0|         0|         0|         0|         0|         0|         0|         0|         0|         0|         0|         0|         0|         0|         0|         0|         0|         0|         0|         0|         0|         0|         0|         0|         0|         0|         0|         0|         0|         0|         0|         0|         0|         0|         0|         0|         0|         0|         0|         0|         0|         0|         0|         0|         0|         0|         0|         0|         0|         0|         0|         0|         0|         0|         0|         0|         0|         0|         0|         0|         0|         0|         0|         0|         0|         0|         0|         0|         0|         0|         0|         0|         0|         0|         0|         0|         0|         0|         0|         0|         0|         0|         0|         0|         0|         0|         0|         0|         0|         0|         0|         0|         0|         0|         0|         0|         0|         0|         0|         0|         0|         0|         0|         0|         0|         0|         0|         0|         0|         0|         0|         0|         0|         0|         0|         0|         0|         0|         0|         0|         0|         0|         0|         0|         0|         0|         0|         0|         0|         0|         0|         0|         0|         0|         0|         0|         0|         0|         0|         0|         0|         0|         0|         0|         0|         0|         0|         0|\n",
      "|AAAAAAAAAAAGAGCACACT|        0|        0|        0|        0|        0|        0|        0|        0|        0|         0|         0|         0|         0|         0|         0|         0|         0|         0|         0|         0|         0|         0|         0|         0|         0|         0|         0|         0|         0|         0|         0|         0|         0|         0|         0|         0|         0|         0|         0|         0|         0|         0|         0|         0|         0|         0|         0|         0|         0|         0|         0|         0|         0|         0|         0|         0|         0|         0|         0|         0|         0|         0|         0|         0|         0|         0|         0|         0|         0|         0|         0|         0|         0|         0|         0|         0|         0|         0|         0|         0|         0|         0|         0|         0|         0|         0|         0|         0|         0|         0|         0|         0|         0|         0|         0|         0|         0|         0|         0|         0|         0|         0|         0|         0|         0|         0|         0|         0|         0|         0|         0|         0|         0|         0|         0|         0|         0|         0|         0|         0|         0|         0|         0|         0|         0|         0|         0|         0|         0|         0|         0|         0|         0|         0|         0|         0|         0|         0|         0|         0|         0|         0|         0|         0|         0|         0|         0|         0|         0|         0|         0|         0|         0|         0|         0|         0|         0|         0|         0|         0|         0|         0|         0|         0|         0|         0|         0|         0|         0|         0|         0|         0|         0|         0|         0|         0|         0|         0|         0|         0|         0|         0|         0|         0|         0|         0|         0|         0|         0|         0|         0|         0|        0|        0|        0|        0|        0|        0|        0|        0|        0|        0|        0|        0|        0|        0|        0|        0|         0|         0|         0|         0|         0|         0|         0|         0|         0|         0|         0|         0|         0|         0|         0|         0|         0|         0|         0|         0|         0|         0|         0|         0|         0|         0|         0|          0|          0|          0|         0|          0|          0|          0|          0|          0|          0|          0|          0|          0|          0|          0|          0|          0|          0|          0|          3|          4|          3|          0|         11|          4|          0|          5|          0|          6|          3|          3|          0|          6|          5|          8|          0|          6|          0|          0|          0|          0|          0|          0|          0|          0|          0|          0|         0|         0|         0|         0|         0|         0|         0|         0|         0|         0|         0|         0|         0|         0|         0|         0|         0|         0|         0|         0|         0|         0|         0|         0|         0|         0|         0|         0|         0|         0|         0|         0|         0|         0|         0|         0|         0|         0|         0|         0|         0|         0|         0|         0|         0|         0|         0|         0|         0|         0|         0|         0|         0|         0|         0|         0|         0|         0|         0|         0|         0|         0|         0|         0|         0|         0|         0|         0|         0|         0|         0|         0|         0|         0|         0|         0|         0|         0|         0|         0|         0|         0|         0|         0|         0|         0|         0|         0|         0|         0|         0|         0|         0|         0|         0|         0|         0|         0|         0|         0|         0|         0|         0|         0|         0|         0|         0|         0|         0|         0|         0|         0|         0|         0|         0|         0|         0|         0|         0|         0|         0|         0|         0|         0|         0|         0|         0|         0|         0|         0|         0|         0|         0|         0|         0|         0|         0|         0|         0|         0|         0|         0|         0|         0|         0|         0|         0|         0|         0|         0|         0|         0|         0|         0|         0|         0|         0|         0|         0|         0|         0|         0|         0|         0|         0|\n",
      "|AAAAAAAAAAAGAGCACACG|        0|        0|        0|        0|        0|        0|        0|        0|        0|         0|         0|         0|         0|         0|         0|         0|         0|         0|         0|         0|         0|         0|         0|         0|         0|         0|         0|         0|         0|         0|         0|         0|         0|         0|         0|         0|         0|         0|         0|         0|         0|         0|         0|         0|         0|         0|         0|         0|         0|         0|         0|         0|         0|         0|         0|         0|         0|         0|         0|         0|         0|         0|         0|         0|         0|         0|         0|         0|         0|         0|         0|         0|         0|         0|         0|         0|         0|         0|         0|         0|         0|         0|         0|         0|         0|         0|         0|         0|         0|         0|         0|         0|         0|         0|         0|         0|         0|         0|         0|         0|         0|         0|         0|         0|         0|         0|         0|         0|         0|         0|         0|         0|         0|         0|         0|         0|         0|         0|         0|         0|         0|         0|         0|         0|         0|         0|         0|         0|         0|         0|         0|         0|         0|         0|         0|         0|         0|         0|         0|         0|         0|         0|         0|         0|         0|         0|         0|         0|         0|         0|         0|         0|         0|         0|         0|         0|         0|         0|         0|         0|         0|         0|         0|         0|         0|        10|         0|         0|         0|         3|         0|         0|         0|         0|         5|         0|         0|         3|         0|         0|         0|         0|         0|         0|         0|         0|         0|         0|         0|         0|         0|         0|        0|        0|        0|        0|        0|        0|        0|        0|        0|        0|        0|        0|        0|        0|        0|        0|         0|         0|         0|         0|         0|         0|         0|         0|         0|         0|         0|         0|         0|         0|         0|         0|         0|         0|         0|         0|         0|         0|         0|         0|         0|         0|         0|          0|          0|          0|         0|          0|          0|          0|          0|          0|          0|          0|          0|          0|          0|          0|          0|          0|          0|          0|         17|          3|          4|          5|          7|          4|          0|          7|          0|         10|          5|          6|          5|         11|          5|          4|          4|         14|          0|          0|          0|          0|          0|          0|          0|          0|          0|          0|         0|         0|         0|         0|         0|         0|         0|         0|         0|         0|         0|         0|         0|         0|         0|         0|         0|         0|         0|         0|         0|         0|         0|         0|         0|         0|         0|         0|         0|         0|         0|         0|         0|         0|         0|         0|         0|         0|         0|         0|         0|         0|         0|         0|         0|         0|         0|         0|         0|         0|         0|         0|         0|         0|         7|         0|         0|         0|         0|         0|         0|         0|         0|         0|         0|         0|         0|         0|         0|         0|         0|         0|         0|         0|         0|         0|         0|         0|         0|         0|         0|         0|         0|         0|         0|         0|         0|         0|         0|         0|         0|         0|         0|         0|         0|         0|         0|         0|         0|         0|         0|         0|         0|         0|         0|         0|         0|         0|         0|         0|         0|         0|         0|         0|         0|         0|         0|         0|         0|         0|         0|         0|         0|         0|         0|         0|         0|         0|         0|         0|         0|         0|         0|         0|         0|         0|         0|         0|         0|         0|         0|         0|         0|         0|         0|         0|         0|         0|         0|         0|         0|         0|         0|         0|         0|         0|         0|         0|         0|         0|         0|         0|         0|         0|         0|\n",
      "|AAAAAAAAAAGAGCACACAA|        0|        0|        0|        0|        0|        0|        0|        0|        0|         0|         0|         0|         0|         0|         0|         0|         0|         0|         0|         0|         0|         0|         0|         0|         0|         0|         0|         0|         0|         0|         0|         0|         0|         0|         0|         0|         0|         0|         0|         0|         0|         0|         0|         0|         0|         0|         0|         0|         0|         0|         0|         0|         0|         0|         0|         0|         0|         0|         0|         0|         0|         0|         0|         0|         0|         0|         0|         0|         0|         0|         0|         0|         0|         0|         0|         0|         0|         0|         0|         0|         0|         0|         0|         0|         0|         0|         0|         0|         0|         0|         0|         0|         0|         0|         0|         0|         0|         0|         0|         0|         0|         0|         0|         0|         0|         0|         0|         0|         0|         0|         0|         0|         0|         0|         0|         0|         0|         0|         0|         0|         0|         0|         0|         0|         0|         0|         0|         0|         0|         0|         0|         0|         0|         0|         0|         0|         0|         0|         0|         0|         0|         0|         0|         0|         0|         0|         0|         0|         0|         0|         0|         0|         0|         0|         0|         0|         0|         0|         0|         0|         0|         0|         0|         0|         3|         4|         0|         0|         3|         0|         0|         0|         0|         0|         0|         0|         0|         0|         3|         0|         0|         0|         0|         0|         0|         0|         0|         0|         0|         0|         0|         0|        0|        0|        0|        0|        0|        0|        0|        0|        0|        0|        0|        0|        0|        0|        0|        0|         0|         0|         0|         0|         0|         0|         0|         0|         0|         0|         0|         0|         0|         0|         0|         0|         0|         0|         0|         0|         0|         0|         0|         0|         0|         0|         0|          0|          0|          0|         0|          0|          0|          0|          0|          0|          0|          0|          0|          0|          0|          0|          0|          0|          0|          0|         25|          5|          7|         10|         21|          4|          0|         13|          0|          8|          6|         10|          8|         11|         12|          9|          4|          9|          0|          0|          0|          0|          0|          0|          0|          0|          0|          0|         0|         0|         0|         0|         0|         0|         0|         0|         0|         0|         0|         0|         0|         0|         0|         0|         0|         0|         0|         0|         0|         0|         0|         0|         0|         0|         0|         0|         0|         0|         0|         0|         0|         0|         0|         0|         0|         0|         0|         0|         0|         0|         0|         0|         0|         0|         0|         0|         0|         0|         0|         0|         0|         0|         0|         0|         0|         0|         0|         0|         0|         0|         0|         0|         0|         0|         0|         0|         0|         0|         0|         0|         0|         0|         0|         0|         0|         0|         0|         0|         0|         0|         0|         0|         0|         0|         0|         0|         0|         0|         0|         0|         0|         0|         0|         0|         0|         0|         0|         0|         0|         0|         0|         0|         0|         0|         0|         0|         0|         0|         0|         0|         0|         0|         0|         0|         0|         0|         0|         0|         0|         0|         0|         0|         0|         0|         0|         0|         0|         0|         0|         0|         0|         0|         0|         0|         0|         0|         0|         0|         0|         0|         0|         0|         0|         0|         0|         0|         0|         0|         0|         0|         0|         0|         0|         0|         0|         0|         0|         0|         0|         0|         0|         0|         0|\n",
      "|AAAAAAAAAAGAGCACACAC|        0|        0|        0|        0|        0|        0|        0|        0|        0|         0|         0|         0|         0|         0|         0|         0|         0|         0|         0|         0|         0|         0|         0|         0|         0|         0|         0|         0|         0|         0|         0|         0|         0|         0|         0|         0|         0|         0|         0|         0|         0|         0|         0|         0|         0|         0|         0|         0|         0|         0|         0|         0|         0|         0|         0|         0|         0|         0|         0|         0|         0|         0|         0|         0|         0|         0|         0|         0|         0|         0|         0|         0|         0|         0|         0|         0|         0|         0|         0|         0|         0|         0|         0|         0|         0|         0|         0|         0|         0|         0|         0|         0|         0|         0|         0|         0|         0|         0|         0|         0|         0|         0|         0|         0|         0|         0|         0|         0|         0|         0|         0|         0|         0|         0|         0|         0|         0|         0|         0|         0|         0|         0|         0|         0|         0|         0|         0|         0|         0|         0|         0|         0|         0|         0|         0|         0|         0|         0|         0|         0|         0|         0|         0|         0|         0|         0|         0|         0|         0|         0|         0|         0|         0|         0|         0|         0|         0|         0|         0|         0|         0|         0|         0|         0|         0|         0|         0|         0|         0|         0|         0|         0|         0|         0|         0|         0|         0|         0|         0|         0|         0|         0|         0|         0|         0|         0|         0|         0|         0|         0|         0|         0|        0|        0|        0|        0|        0|        0|        0|        0|        0|        0|        0|        0|        0|        0|        0|        0|         0|         0|         0|         0|         0|         0|         0|         0|         0|         0|         0|         0|         0|         0|         0|         0|         0|         0|         0|         0|         0|         0|         0|         0|         0|         0|         0|          0|          0|          0|         0|          0|          0|          0|          0|          0|          0|          0|          0|          0|          0|          0|          0|          0|          0|          0|          9|          0|          0|         11|         11|         11|          0|          9|          3|          9|          0|          8|          4|          6|          8|          7|          6|          7|          0|          0|          0|          0|          0|          0|          0|          0|          0|          0|         0|         0|         0|         0|         0|         0|         0|         0|         0|         0|         0|         0|         0|         0|         0|         0|         0|         0|         0|         0|         0|         0|         0|         0|         0|         0|         0|         0|         0|         0|         0|         0|         0|         0|         0|         0|         0|         0|         0|         0|         0|         0|         0|         0|         0|         0|         0|         0|         0|         0|         0|         0|         0|         0|         0|         0|         0|         0|         0|         0|         0|         0|         0|         0|         0|         0|         0|         0|         0|         0|         0|         0|         0|         0|         0|         0|         0|         0|         0|         0|         0|         0|         0|         0|         0|         0|         0|         0|         0|         0|         0|         0|         0|         0|         0|         0|         0|         0|         0|         0|         0|         0|         0|         0|         0|         0|         0|         0|         0|         0|         0|         0|         0|         0|         0|         0|         0|         0|         0|         0|         0|         0|         0|         0|         0|         0|         0|         0|         0|         0|         0|         0|         0|         0|         0|         0|         0|         0|         0|         0|         0|         0|         0|         0|         0|         0|         0|         0|         0|         0|         0|         0|         0|         0|         0|         0|         0|         0|         0|         0|         0|         0|         0|         0|         0|\n",
      "|AAAAAAAAAAGAGCACACAT|        0|        0|        0|        0|        0|        0|        0|        0|        0|         0|         0|         0|         0|         0|         0|         0|         0|         0|         0|         0|         0|         0|         0|         0|         0|         0|         0|         0|         0|         0|         0|         0|         0|         0|         0|         0|         0|         0|         0|         0|         0|         0|         0|         0|         0|         0|         0|         0|         0|         0|         0|         0|         0|         0|         0|         0|         0|         0|         0|         0|         0|         0|         0|         0|         0|         0|         0|         0|         0|         0|         0|         0|         0|         0|         0|         0|         0|         0|         0|         0|         0|         0|         0|         0|         0|         0|         0|         0|         0|         0|         0|         0|         0|         0|         0|         0|         0|         0|         0|         0|         0|         0|         0|         0|         0|         0|         0|         0|         0|         0|         0|         0|         0|         0|         0|         0|         0|         0|         0|         0|         0|         0|         0|         0|         0|         0|         0|         0|         0|         0|         0|         0|         0|         0|         0|         0|         0|         0|         0|         0|         0|         0|         0|         0|         0|         0|         0|         0|         0|         0|         0|         0|         0|         0|         0|         0|         0|         0|         0|         0|         0|         0|         0|         0|         0|         0|         0|         0|         0|         0|         0|         0|         0|         0|         0|         0|         0|         4|         0|         0|         0|         0|         0|         0|         0|         0|         0|         0|         0|         0|         0|         0|        0|        0|        0|        0|        0|        0|        0|        0|        0|        0|        0|        0|        0|        0|        0|        0|         0|         0|         0|         0|         0|         0|         0|         0|         0|         0|         0|         0|         0|         0|         0|         0|         0|         0|         0|         0|         0|         0|         0|         0|         0|         0|         0|          0|          0|          0|         0|          0|          0|          0|          0|          0|          0|          0|          0|          0|          0|          0|          0|          0|          0|          0|         11|          4|          4|          5|          6|          0|          0|          3|          0|          6|          0|          4|          0|          8|          0|          0|          0|          4|          0|          0|          0|          0|          0|          0|          0|          0|          0|          0|         0|         0|         0|         0|         0|         0|         0|         0|         0|         0|         0|         0|         0|         0|         0|         0|         0|         0|         0|         0|         0|         0|         0|         0|         0|         0|         0|         0|         0|         0|         0|         0|         0|         0|         0|         0|         0|         0|         0|         0|         0|         0|         0|         0|         0|         0|         0|         0|         0|         0|         0|         0|         0|         0|         0|         0|         0|         0|         0|         0|         0|         0|         0|         0|         0|         0|         0|         0|         0|         0|         0|         0|         0|         0|         0|         0|         0|         0|         0|         0|         0|         0|         0|         0|         0|         0|         0|         0|         0|         0|         0|         0|         0|         0|         0|         0|         0|         0|         0|         0|         0|         0|         0|         0|         0|         0|         0|         0|         0|         0|         0|         0|         0|         0|         0|         0|         0|         0|         0|         0|         0|         0|         0|         0|         0|         0|         0|         0|         0|         0|         0|         0|         0|         0|         0|         0|         0|         0|         0|         0|         0|         0|         0|         0|         0|         0|         0|         0|         0|         0|         0|         0|         0|         0|         0|         0|         0|         0|         0|         0|         0|         0|         0|         0|         0|\n",
      "|AAAAAAAAAAGAGCACACAG|        0|        0|        0|        0|        0|        0|        0|        0|        0|         0|         0|         0|         0|         0|         0|         0|         0|         0|         0|         0|         0|         0|         0|         0|         0|         0|         0|         0|         0|         0|         0|         0|         0|         0|         0|         0|         0|         0|         0|         0|         0|         0|         0|         0|         0|         0|         0|         0|         0|         0|         0|         0|         0|         0|         0|         0|         0|         0|         0|         0|         0|         0|         0|         0|         0|         0|         0|         0|         0|         0|         0|         0|         0|         0|         0|         0|         0|         0|         0|         0|         0|         0|         0|         0|         0|         0|         0|         0|         0|         0|         0|         0|         0|         0|         0|         0|         0|         0|         0|         0|         0|         0|         0|         0|         0|         0|         0|         0|         0|         0|         0|         0|         0|         0|         0|         0|         0|         0|         0|         0|         0|         0|         0|         0|         0|         0|         0|         0|         0|         0|         0|         0|         0|         0|         0|         0|         0|         0|         0|         0|         0|         0|         0|         0|         0|         0|         0|         0|         0|         0|         0|         0|         0|         0|         0|         0|         0|         0|         0|         0|         0|         0|         0|         0|         0|         0|         0|         0|         0|         0|         0|         0|         0|         0|         0|         0|         0|         0|         0|         0|         0|         0|         0|         0|         0|         0|         0|         0|         0|         0|         0|         0|        0|        0|        0|        0|        0|        0|        0|        0|        0|        0|        0|        0|        0|        0|        0|        0|         0|         0|         0|         0|         0|         0|         0|         0|         0|         0|         0|         0|         0|         0|         0|         0|         0|         0|         0|         0|         0|         0|         0|         0|         0|         0|         0|          0|          0|          0|         0|          0|          0|          0|          0|          0|          0|          0|          0|          0|          0|          0|          0|          0|          0|          0|          0|          0|          4|          5|          4|          3|          0|          0|          0|          3|          4|          0|          0|          4|          5|          0|          0|          0|          0|          0|          0|          0|          0|          0|          0|          0|          0|          0|         0|         0|         0|         0|         0|         0|         0|         0|         0|         0|         0|         0|         0|         0|         0|         0|         0|         0|         0|         0|         0|         0|         0|         0|         0|         0|         0|         0|         0|         0|         0|         0|         0|         0|         0|         0|         0|         0|         0|         0|         0|         0|         0|         0|         0|         0|         0|         0|         0|         0|         0|         0|         0|         0|         0|         0|         0|         0|         0|         0|         0|         0|         0|         0|         0|         0|         0|         0|         0|         0|         0|         0|         0|         0|         0|         0|         0|         0|         0|         0|         0|         0|         0|         0|         0|         0|         0|         0|         0|         0|         0|         0|         0|         0|         0|         0|         0|         0|         0|         0|         0|         0|         0|         0|         0|         0|         0|         0|         0|         0|         0|         0|         0|         0|         0|         0|         0|         0|         0|         0|         0|         0|         0|         0|         0|         0|         0|         0|         0|         0|         0|         0|         0|         0|         0|         0|         0|         0|         0|         0|         0|         0|         0|         0|         0|         0|         0|         0|         0|         0|         0|         0|         0|         0|         0|         0|         0|         0|         0|         0|         0|         0|         0|         0|         0|\n",
      "|AAAAAAAAAAGAGCACACCA|        0|        0|        0|        0|        0|        0|        0|        0|        0|         0|         0|         0|         0|         0|         0|         0|         0|         0|         0|         0|         0|         0|         0|         0|         0|         0|         0|         0|         0|         0|         0|         0|         0|         0|         0|         0|         0|         0|         0|         0|         0|         0|         0|         0|         0|         0|         0|         0|         0|         0|         0|         0|         0|         0|         0|         0|         0|         0|         0|         0|         0|         0|         0|         0|         0|         0|         0|         0|         0|         0|         0|         0|         0|         0|         0|         0|         0|         0|         0|         0|         0|         0|         0|         0|         0|         0|         0|         0|         0|         0|         0|         0|         0|         0|         0|         0|         0|         0|         0|         0|         0|         0|         0|         0|         0|         0|         0|         0|         0|         0|         0|         0|         0|         0|         0|         0|         0|         0|         0|         0|         0|         0|         0|         0|         0|         0|         0|         0|         0|         0|         0|         0|         0|         0|         0|         0|         0|         0|         0|         0|         0|         0|         0|         0|         0|         0|         0|         0|         0|         0|         0|         0|         0|         0|         0|         0|         0|         0|         0|         0|         0|         0|         0|         0|         0|         0|         0|         0|         0|         0|         0|         0|         0|         0|         0|         0|         0|         0|         0|         0|         0|         0|         0|         0|         0|         0|         0|         0|         0|         0|         0|         0|        0|        0|        0|        0|        0|        0|        0|        0|        0|        0|        0|        0|        0|        0|        0|        0|         0|         0|         0|         0|         0|         0|         0|         0|         0|         0|         0|         0|         0|         0|         0|         0|         0|         0|         0|         0|         0|         0|         0|         0|         0|         0|         0|          0|          0|          0|         0|          0|          0|          0|          0|          0|          0|          0|          0|          0|          0|          0|          0|          0|          0|          0|         10|          0|          0|          7|         11|          6|          0|          8|          0|          9|          3|          8|          4|          7|          0|          8|          0|          4|          0|          0|          0|          0|          0|          0|          0|          0|          0|          0|         0|         0|         0|         0|         0|         0|         0|         0|         0|         0|         0|         0|         0|         0|         0|         0|         0|         0|         0|         0|         0|         0|         0|         0|         0|         0|         0|         0|         0|         0|         0|         0|         0|         0|         0|         0|         0|         0|         0|         0|         0|         0|         0|         0|         0|         0|         0|         0|         0|         0|         0|         0|         0|         0|         0|         0|         0|         0|         0|         0|         0|         0|         0|         0|         0|         0|         0|         0|         0|         0|         0|         0|         0|         0|         0|         0|         0|         0|         0|         0|         0|         0|         0|         0|         0|         0|         0|         0|         0|         0|         0|         0|         0|         0|         0|         0|         0|         0|         0|         0|         0|         0|         0|         0|         0|         0|         0|         0|         0|         0|         0|         0|         0|         0|         0|         0|         0|         0|         0|         0|         0|         0|         0|         0|         0|         0|         0|         0|         0|         0|         0|         0|         0|         0|         0|         0|         0|         0|         0|         0|         0|         0|         0|         0|         0|         0|         0|         0|         0|         0|         0|         0|         0|         0|         0|         0|         0|         0|         0|         0|         0|         0|         0|         0|         0|\n",
      "|AAAAAAAAAAGAGCACACCC|        0|        0|        0|        0|        0|        0|        0|        0|        0|         0|         0|         0|         0|         0|         0|         0|         0|         0|         0|         0|         0|         0|         0|         0|         0|         0|         0|         0|         0|         0|         0|         0|         0|         0|         0|         0|         0|         0|         0|         0|         0|         0|         0|         0|         0|         0|         0|         0|         0|         0|         0|         0|         0|         0|         0|         0|         0|         0|         0|         0|         0|         0|         0|         0|         0|         0|         0|         0|         0|         0|         0|         0|         0|         0|         0|         0|         0|         0|         0|         0|         0|         0|         0|         0|         0|         0|         0|         0|         0|         0|         0|         0|         0|         0|         0|         0|         0|         0|         0|         0|         0|         0|         0|         0|         0|         0|         0|         0|         0|         0|         0|         0|         0|         0|         0|         0|         0|         0|         0|         0|         0|         0|         0|         0|         0|         0|         0|         0|         0|         0|         0|         0|         0|         0|         0|         0|         0|         0|         0|         0|         0|         0|         0|         0|         0|         0|         0|         0|         0|         0|         0|         0|         0|         0|         0|         0|         0|         0|         0|         0|         0|         0|         0|         0|         0|         0|         0|         0|         0|         0|         0|         0|         0|         0|         0|         0|         0|         0|         0|         0|         0|         0|         0|         0|         0|         0|         0|         0|         0|         0|         0|         0|        0|        0|        0|        0|        0|        0|        0|        0|        0|        0|        0|        0|        0|        0|        0|        0|         0|         0|         0|         0|         0|         0|         0|         0|         0|         0|         0|         0|         0|         0|         0|         0|         0|         0|         0|         0|         0|         0|         0|         0|         0|         0|         0|          0|          0|          0|         0|          0|          0|          0|          0|          0|          0|          0|          0|          0|          0|          0|          0|          0|          0|          0|          0|          0|          4|          4|          8|          3|          0|          3|          0|          7|          3|          7|          3|          6|          7|          4|          0|          8|          0|          0|          0|          0|          0|          0|          0|          0|          0|          0|         0|         0|         0|         0|         0|         0|         0|         0|         0|         0|         0|         0|         0|         0|         0|         0|         0|         0|         0|         0|         0|         0|         0|         0|         0|         0|         0|         0|         0|         0|         0|         0|         0|         0|         0|         0|         0|         0|         0|         0|         0|         0|         0|         0|         0|         0|         0|         0|         0|         0|         0|         0|         0|         0|         0|         0|         0|         0|         0|         0|         0|         0|         0|         0|         0|         0|         0|         0|         0|         0|         0|         0|         0|         0|         0|         0|         0|         0|         0|         0|         0|         0|         0|         0|         0|         0|         0|         0|         0|         0|         0|         0|         0|         0|         0|         0|         0|         0|         0|         0|         0|         0|         0|         0|         0|         0|         0|         0|         0|         0|         0|         0|         0|         0|         0|         0|         0|         0|         0|         0|         0|         0|         0|         0|         0|         0|         0|         0|         0|         0|         0|         0|         0|         0|         0|         0|         0|         0|         0|         0|         0|         0|         0|         0|         0|         0|         0|         0|         0|         0|         0|         0|         0|         0|         0|         0|         0|         0|         0|         0|         0|         0|         0|         0|         0|\n",
      "|AAAAAAAAAAGAGCACACCT|        0|        0|        0|        0|        0|        0|        0|        0|        0|         0|         0|         0|         0|         0|         0|         0|         0|         0|         0|         0|         0|         0|         0|         0|         0|         0|         0|         0|         0|         0|         0|         0|         0|         0|         0|         0|         0|         0|         0|         0|         0|         0|         0|         0|         0|         0|         0|         0|         0|         0|         0|         0|         0|         0|         0|         0|         0|         0|         0|         0|         0|         0|         0|         0|         0|         0|         0|         0|         0|         0|         0|         0|         0|         0|         0|         0|         0|         0|         0|         0|         0|         0|         0|         0|         0|         0|         0|         0|         0|         0|         0|         0|         0|         0|         0|         0|         0|         0|         0|         0|         0|         0|         0|         0|         0|         0|         0|         0|         0|         0|         0|         0|         0|         0|         0|         0|         0|         0|         0|         0|         0|         0|         0|         0|         0|         0|         0|         0|         0|         0|         0|         0|         0|         0|         0|         0|         0|         0|         0|         0|         0|         0|         0|         0|         0|         0|         0|         0|         0|         0|         0|         0|         0|         0|         0|         0|         0|         0|         0|         0|         0|         0|         0|         0|         0|         0|         0|         0|         0|         0|         0|         0|         0|         0|         0|         0|         0|         0|         0|         0|         0|         0|         0|         0|         0|         0|         0|         0|         0|         0|         0|         0|        0|        0|        0|        0|        0|        0|        0|        0|        0|        0|        0|        0|        0|        0|        0|        0|         0|         0|         0|         0|         0|         0|         0|         0|         0|         0|         0|         0|         0|         0|         0|         0|         0|         0|         0|         0|         0|         0|         0|         0|         0|         0|         0|          0|          0|          0|         0|          0|          0|          0|          0|          0|          0|          0|          0|          0|          0|          0|          0|          0|          0|          0|          5|          0|          0|          0|          3|          0|          0|          0|          0|          5|          6|          3|          0|          3|          5|          0|          0|          5|          0|          0|          0|          0|          0|          0|          0|          0|          0|          0|         0|         0|         0|         0|         0|         0|         0|         0|         0|         0|         0|         0|         0|         0|         0|         0|         0|         0|         0|         0|         0|         0|         0|         0|         0|         0|         0|         0|         0|         0|         0|         0|         0|         0|         0|         0|         0|         0|         0|         0|         0|         0|         0|         0|         0|         0|         0|         0|         0|         0|         0|         0|         0|         0|         0|         0|         0|         0|         0|         0|         0|         0|         0|         0|         0|         0|         0|         0|         0|         0|         0|         0|         0|         0|         0|         0|         0|         0|         0|         0|         0|         0|         0|         0|         0|         0|         0|         0|         0|         0|         0|         0|         0|         0|         0|         0|         0|         0|         0|         0|         0|         0|         0|         0|         0|         0|         0|         0|         0|         0|         0|         0|         0|         0|         0|         0|         0|         0|         0|         0|         0|         0|         0|         0|         0|         0|         0|         0|         0|         0|         0|         0|         0|         0|         0|         0|         0|         0|         0|         0|         0|         0|         0|         0|         0|         0|         0|         0|         0|         0|         0|         0|         0|         0|         0|         0|         0|         0|         0|         0|         0|         0|         0|         0|         0|\n",
      "|AAAAAAAAAAGAGCACACCG|        0|        0|        0|        0|        0|        0|        0|        0|        0|         0|         0|         0|         0|         0|         0|         0|         0|         0|         0|         0|         0|         0|         0|         0|         0|         0|         0|         0|         0|         0|         0|         0|         0|         0|         0|         0|         0|         0|         0|         0|         0|         0|         0|         0|         0|         0|         0|         0|         0|         0|         0|         0|         0|         0|         0|         0|         0|         0|         0|         0|         0|         0|         0|         0|         0|         0|         0|         0|         0|         0|         0|         0|         0|         0|         0|         0|         0|         0|         0|         0|         0|         0|         0|         0|         0|         0|         0|         0|         0|         0|         0|         0|         0|         0|         0|         0|         0|         0|         0|         0|         0|         0|         0|         0|         0|         0|         0|         0|         0|         0|         0|         0|         0|         0|         0|         0|         0|         0|         0|         0|         0|         0|         0|         0|         0|         0|         0|         0|         0|         0|         0|         0|         0|         0|         0|         0|         0|         0|         0|         0|         0|         0|         0|         0|         0|         0|         0|         0|         0|         0|         0|         0|         0|         0|         0|         0|         0|         0|         0|         0|         0|         0|         0|         0|         0|         0|         0|         0|         0|         0|         0|         0|         0|         0|         0|         0|         0|         0|         0|         0|         0|         0|         0|         0|         0|         0|         0|         0|         0|         0|         0|         0|        0|        0|        0|        0|        0|        0|        0|        0|        0|        0|        0|        0|        0|        0|        0|        0|         0|         0|         0|         0|         0|         0|         0|         0|         0|         0|         0|         0|         0|         0|         0|         0|         0|         0|         0|         0|         0|         0|         0|         0|         0|         0|         0|          0|          0|          0|         0|          0|          0|          0|          0|          0|          0|          0|          0|          0|          0|          0|          0|          0|          0|          0|          0|          0|          0|          0|          6|          4|          0|          0|          0|          3|          0|          0|          0|          4|          0|          0|          0|          0|          0|          0|          0|          0|          0|          0|          0|          0|          0|          0|         0|         0|         0|         0|         0|         0|         0|         0|         0|         0|         0|         0|         0|         0|         0|         0|         0|         0|         0|         0|         0|         0|         0|         0|         0|         0|         0|         0|         0|         0|         0|         0|         0|         0|         0|         0|         0|         0|         0|         0|         0|         0|         0|         0|         0|         0|         0|         0|         0|         0|         0|         0|         0|         0|         0|         0|         0|         0|         0|         0|         0|         0|         0|         0|         0|         0|         0|         0|         0|         0|         0|         0|         0|         0|         0|         0|         0|         0|         0|         0|         0|         0|         0|         0|         0|         0|         0|         0|         0|         0|         0|         0|         0|         0|         0|         0|         0|         0|         0|         0|         0|         0|         0|         0|         0|         0|         0|         0|         0|         0|         0|         0|         0|         0|         0|         0|         0|         0|         0|         0|         0|         0|         0|         0|         0|         0|         0|         0|         0|         0|         0|         0|         0|         0|         0|         0|         0|         0|         0|         0|         0|         0|         0|         0|         0|         0|         0|         0|         0|         0|         0|         0|         0|         0|         0|         0|         0|         0|         0|         0|         0|         0|         0|         0|         0|\n",
      "|AAAAAAAAAAGAGCACACTA|        0|        0|        0|        0|        0|        0|        0|        0|        0|         0|         0|         0|         0|         0|         0|         0|         0|         0|         0|         0|         0|         0|         0|         0|         0|         0|         0|         0|         0|         0|         0|         0|         0|         0|         0|         0|         0|         0|         0|         0|         0|         0|         0|         0|         0|         0|         0|         0|         0|         0|         0|         0|         0|         0|         0|         0|         0|         0|         0|         0|         0|         0|         0|         0|         0|         0|         0|         0|         0|         0|         0|         0|         0|         0|         0|         0|         0|         0|         0|         0|         0|         0|         0|         0|         0|         0|         0|         0|         0|         0|         0|         0|         0|         0|         0|         0|         0|         0|         0|         0|         0|         0|         0|         0|         0|         0|         0|         0|         0|         0|         0|         0|         0|         0|         0|         0|         0|         0|         0|         0|         0|         0|         0|         0|         0|         0|         0|         0|         0|         0|         0|         0|         0|         0|         0|         0|         0|         0|         0|         0|         0|         0|         0|         0|         0|         0|         0|         0|         0|         0|         0|         0|         0|         0|         0|         0|         0|         0|         0|         0|         0|         0|         0|         0|         0|         0|         0|         0|         0|         0|         0|         0|         0|         0|         0|         0|         0|         0|         0|         0|         0|         0|         0|         0|         0|         0|         0|         0|         0|         0|         0|         0|        0|        0|        0|        0|        0|        0|        0|        0|        0|        0|        0|        0|        0|        0|        0|        0|         0|         0|         0|         0|         0|         0|         0|         0|         0|         0|         0|         0|         0|         0|         0|         0|         0|         0|         0|         0|         0|         0|         0|         0|         0|         0|         0|          0|          0|          0|         0|          0|          0|          0|          0|          0|          0|          0|          0|          0|          0|          0|          0|          0|          0|          0|          0|          3|          0|          0|          3|          3|          0|          0|          0|          0|          3|          0|          0|          3|          3|          5|          0|          4|          0|          0|          0|          0|          0|          0|          0|          0|          0|          0|         0|         0|         0|         0|         0|         0|         0|         0|         0|         0|         0|         0|         0|         0|         0|         0|         0|         0|         0|         0|         0|         0|         0|         0|         0|         0|         0|         0|         0|         0|         0|         0|         0|         0|         0|         0|         0|         0|         0|         0|         0|         0|         0|         0|         0|         0|         0|         0|         0|         0|         0|         0|         0|         0|         0|         0|         0|         0|         0|         0|         0|         0|         0|         0|         0|         0|         0|         0|         0|         0|         0|         0|         0|         0|         0|         0|         0|         0|         0|         0|         0|         0|         0|         0|         0|         0|         0|         0|         0|         0|         0|         0|         0|         0|         0|         0|         0|         0|         0|         0|         0|         0|         0|         0|         0|         0|         0|         0|         0|         0|         0|         0|         0|         0|         0|         0|         0|         0|         0|         0|         0|         0|         0|         0|         0|         0|         0|         0|         0|         0|         0|         0|         0|         0|         0|         0|         0|         0|         0|         0|         0|         0|         0|         0|         0|         0|         0|         0|         0|         0|         0|         0|         0|         0|         0|         0|         0|         0|         0|         0|         0|         0|         0|         0|         0|\n",
      "|AAAAAAAAAAGAGCACACTC|        0|        0|        0|        0|        0|        0|        0|        0|        0|         0|         0|         0|         0|         0|         0|         0|         0|         0|         0|         0|         0|         0|         0|         0|         0|         0|         0|         0|         0|         0|         0|         0|         0|         0|         0|         0|         0|         0|         0|         0|         0|         0|         0|         0|         0|         0|         0|         0|         0|         0|         0|         0|         0|         0|         0|         0|         0|         0|         0|         0|         0|         0|         0|         0|         0|         0|         0|         0|         0|         0|         0|         0|         0|         0|         0|         0|         0|         0|         0|         0|         0|         0|         0|         0|         0|         0|         0|         0|         0|         0|         0|         0|         0|         0|         0|         0|         0|         0|         0|         0|         0|         0|         0|         0|         0|         0|         0|         0|         0|         0|         0|         0|         0|         0|         0|         0|         0|         0|         0|         0|         0|         0|         0|         0|         0|         0|         0|         0|         0|         0|         0|         0|         0|         0|         0|         0|         0|         0|         0|         0|         0|         0|         0|         0|         0|         0|         0|         0|         0|         0|         0|         0|         0|         0|         0|         0|         0|         0|         0|         0|         0|         0|         0|         0|         0|         0|         0|         0|         0|         0|         0|         0|         0|         0|         0|         0|         0|         0|         0|         0|         0|         0|         0|         0|         0|         0|         0|         0|         0|         0|         0|         0|        0|        0|        0|        0|        0|        0|        0|        0|        0|        0|        0|        0|        0|        0|        0|        0|         0|         0|         0|         0|         0|         0|         0|         0|         0|         0|         0|         0|         0|         0|         0|         0|         0|         0|         0|         0|         0|         0|         0|         0|         0|         0|         0|          0|          0|          0|         0|          0|          0|          0|          0|          0|          0|          0|          0|          0|          0|          0|          0|          0|          0|          0|          3|          0|          3|          0|          9|          0|          0|          3|          0|          3|          5|          3|          0|          4|          4|          0|          0|          3|          0|          0|          0|          0|          0|          0|          0|          0|          0|          0|         0|         0|         0|         0|         0|         0|         0|         0|         0|         0|         0|         0|         0|         0|         0|         0|         0|         0|         0|         0|         0|         0|         0|         0|         0|         0|         0|         0|         0|         0|         0|         0|         0|         0|         0|         0|         0|         0|         0|         0|         0|         0|         0|         0|         0|         0|         0|         0|         0|         0|         0|         0|         0|         0|         0|         0|         0|         0|         0|         0|         0|         0|         0|         0|         0|         0|         0|         0|         0|         0|         0|         0|         0|         0|         0|         0|         0|         0|         0|         0|         0|         0|         0|         0|         0|         0|         0|         0|         0|         0|         0|         0|         0|         0|         0|         0|         0|         0|         0|         0|         0|         0|         0|         0|         0|         0|         0|         0|         0|         0|         0|         0|         0|         0|         0|         0|         0|         0|         0|         0|         0|         0|         0|         0|         0|         0|         0|         0|         0|         0|         0|         0|         0|         0|         0|         0|         0|         0|         0|         0|         0|         0|         0|         0|         0|         0|         0|         0|         0|         0|         0|         0|         0|         0|         0|         0|         0|         0|         0|         0|         0|         0|         0|         0|         0|\n",
      "|AAAAAAAAAAGAGCACACTT|        0|        0|        0|        0|        0|        0|        0|        0|        0|         0|         0|         0|         0|         0|         0|         0|         0|         0|         0|         0|         0|         0|         0|         0|         0|         0|         0|         0|         0|         0|         0|         0|         0|         0|         0|         0|         0|         0|         0|         0|         0|         0|         0|         0|         0|         0|         0|         0|         0|         0|         0|         0|         0|         0|         0|         0|         0|         0|         0|         0|         0|         0|         0|         0|         0|         0|         0|         0|         0|         0|         0|         0|         0|         0|         0|         0|         0|         0|         0|         0|         0|         0|         0|         0|         0|         0|         0|         0|         0|         0|         0|         0|         0|         0|         0|         0|         0|         0|         0|         0|         0|         0|         0|         0|         0|         0|         0|         0|         0|         0|         0|         0|         0|         0|         0|         0|         0|         0|         0|         0|         0|         0|         0|         0|         0|         0|         0|         0|         0|         0|         0|         0|         0|         0|         0|         0|         0|         0|         0|         0|         0|         0|         0|         0|         0|         0|         0|         0|         0|         0|         0|         0|         0|         0|         0|         0|         0|         0|         0|         0|         0|         0|         0|         0|         0|         0|         0|         0|         0|         0|         0|         0|         0|         0|         0|         0|         0|         0|         0|         0|         0|         0|         0|         0|         0|         0|         0|         0|         0|         0|         0|         0|        0|        0|        0|        0|        0|        0|        0|        0|        0|        0|        0|        0|        0|        0|        0|        0|         0|         0|         0|         0|         0|         0|         0|         0|         0|         0|         0|         0|         0|         0|         0|         0|         0|         0|         0|         0|         0|         0|         0|         0|         0|         0|         0|          0|          0|          0|         0|          0|          0|          0|          0|          0|          0|          0|          0|          0|          0|          0|          0|          0|          0|          0|          0|          0|          0|          0|          5|          0|          0|          0|          0|          0|          0|          0|          0|          3|          0|          0|          0|          0|          0|          0|          0|          0|          0|          0|          0|          0|          0|          0|         0|         0|         0|         0|         0|         0|         0|         0|         0|         0|         0|         0|         0|         0|         0|         0|         0|         0|         0|         0|         0|         0|         0|         0|         0|         0|         0|         0|         0|         0|         0|         0|         0|         0|         0|         0|         0|         0|         0|         0|         0|         0|         0|         0|         0|         0|         0|         0|         0|         0|         0|         0|         0|         0|         0|         0|         0|         0|         0|         0|         0|         0|         0|         0|         0|         0|         0|         0|         0|         0|         0|         0|         0|         0|         0|         0|         0|         0|         0|         0|         0|         0|         0|         0|         0|         0|         0|         0|         0|         0|         0|         0|         0|         0|         0|         0|         0|         0|         0|         0|         0|         0|         0|         0|         0|         0|         0|         0|         0|         0|         0|         0|         0|         0|         0|         0|         0|         0|         0|         0|         0|         0|         0|         0|         0|         0|         0|         0|         0|         0|         0|         0|         0|         0|         0|         0|         0|         0|         0|         0|         0|         0|         0|         0|         0|         0|         0|         0|         0|         0|         0|         0|         0|         0|         0|         0|         0|         0|         0|         0|         0|         0|         0|         0|         0|\n",
      "|AAAAAAAAAAGAGCACACTG|        0|        0|        0|        0|        0|        0|        0|        0|        0|         0|         0|         0|         0|         0|         0|         0|         0|         0|         0|         0|         0|         0|         0|         0|         0|         0|         0|         0|         0|         0|         0|         0|         0|         0|         0|         0|         0|         0|         0|         0|         0|         0|         0|         0|         0|         0|         0|         0|         0|         0|         0|         0|         0|         0|         0|         0|         0|         0|         0|         0|         0|         0|         0|         0|         0|         0|         0|         0|         0|         0|         0|         0|         0|         0|         0|         0|         0|         0|         0|         0|         0|         0|         0|         0|         0|         0|         0|         0|         0|         0|         0|         0|         0|         0|         0|         0|         0|         0|         0|         0|         0|         0|         0|         0|         0|         0|         0|         0|         0|         0|         0|         0|         0|         0|         0|         0|         0|         0|         0|         0|         0|         0|         0|         0|         0|         0|         0|         0|         0|         0|         0|         0|         0|         0|         0|         0|         0|         0|         0|         0|         0|         0|         0|         0|         0|         0|         0|         0|         0|         0|         0|         0|         0|         0|         0|         0|         0|         0|         0|         0|         0|         0|         0|         0|         0|         0|         0|         0|         0|         0|         0|         0|         0|         0|         0|         0|         0|         0|         0|         0|         0|         0|         0|         0|         0|         0|         0|         0|         0|         0|         0|         0|        0|        0|        0|        0|        0|        0|        0|        0|        0|        0|        0|        0|        0|        0|        0|        0|         0|         0|         0|         0|         0|         0|         0|         0|         0|         0|         0|         0|         0|         0|         0|         0|         0|         0|         0|         0|         0|         0|         0|         0|         0|         0|         0|          0|          0|          0|         0|          0|          0|          0|          0|          0|          0|          0|          0|          0|          0|          0|          0|          0|          0|          0|          0|          0|          0|          0|          0|          0|          0|          3|          0|          0|          0|          0|          0|          0|          0|          0|          0|          3|          0|          0|          0|          0|          0|          0|          0|          0|          0|          0|         0|         0|         0|         0|         0|         0|         0|         0|         0|         0|         0|         0|         0|         0|         0|         0|         0|         0|         0|         0|         0|         0|         0|         0|         0|         0|         0|         0|         0|         0|         0|         0|         0|         0|         0|         0|         0|         0|         0|         0|         0|         0|         0|         0|         0|         0|         0|         0|         0|         0|         0|         0|         0|         0|         0|         0|         0|         0|         0|         0|         0|         0|         0|         0|         0|         0|         0|         0|         0|         0|         0|         0|         0|         0|         0|         0|         0|         0|         0|         0|         0|         0|         0|         0|         0|         0|         0|         0|         0|         0|         0|         0|         0|         0|         0|         0|         0|         0|         0|         0|         0|         0|         0|         0|         0|         0|         0|         0|         0|         0|         0|         0|         0|         0|         0|         0|         0|         0|         0|         0|         0|         0|         0|         0|         0|         0|         0|         0|         0|         0|         0|         0|         0|         0|         0|         0|         0|         0|         0|         0|         0|         0|         0|         0|         0|         0|         0|         0|         0|         0|         0|         0|         0|         0|         0|         0|         0|         0|         0|         0|         0|         0|         0|         0|         0|\n",
      "|AAAAAAAAAAGAGCACACGA|        0|        0|        0|        0|        0|        0|        0|        0|        0|         0|         0|         0|         0|         0|         0|         0|         0|         0|         0|         0|         0|         0|         0|         0|         0|         0|         0|         0|         0|         0|         0|         0|         0|         0|         0|         0|         0|         0|         0|         0|         0|         0|         0|         0|         0|         0|         0|         0|         0|         0|         0|         0|         0|         0|         0|         0|         0|         0|         0|         0|         0|         0|         0|         0|         0|         0|         0|         0|         0|         0|         0|         0|         0|         0|         0|         0|         0|         0|         0|         0|         0|         0|         0|         0|         0|         0|         0|         0|         0|         0|         0|         0|         0|         0|         0|         0|         0|         0|         0|         0|         0|         0|         0|         0|         0|         0|         0|         0|         0|         0|         0|         0|         0|         0|         0|         0|         0|         0|         0|         0|         0|         0|         0|         0|         0|         0|         0|         0|         0|         0|         0|         0|         0|         0|         0|         0|         0|         0|         0|         0|         0|         0|         0|         0|         0|         0|         0|         0|         0|         0|         0|         0|         0|         0|         0|         0|         0|         0|         0|         0|         0|         0|         0|         0|         0|         0|         0|         0|         0|         0|         0|         0|         0|         0|         4|         0|         0|         0|         0|         0|         0|         0|         0|         0|         0|         0|         0|         0|         0|         0|         0|         0|        0|        0|        0|        0|        0|        0|        0|        0|        0|        0|        0|        0|        0|        0|        0|        0|         0|         0|         0|         0|         0|         0|         0|         0|         0|         0|         0|         0|         0|         0|         0|         0|         0|         0|         0|         0|         0|         0|         0|         0|         0|         0|         0|          0|          0|          0|         0|          0|          0|          0|          0|          0|          0|          0|          0|          0|          0|          0|          0|          0|          0|          0|          4|          0|          3|          0|          6|          3|          0|          5|          0|          3|          0|          0|          5|          7|          0|          0|          3|          5|          0|          0|          0|          0|          0|          0|          0|          0|          0|          0|         0|         0|         0|         0|         0|         0|         0|         0|         0|         0|         0|         0|         0|         0|         0|         0|         0|         0|         0|         0|         0|         0|         0|         0|         0|         0|         0|         0|         0|         0|         0|         0|         0|         0|         0|         0|         0|         0|         0|         0|         0|         0|         0|         0|         0|         0|         0|         0|         0|         0|         0|         0|         0|         0|         0|         0|         0|         0|         0|         0|         0|         0|         0|         0|         0|         0|         0|         0|         0|         0|         0|         0|         0|         0|         0|         0|         0|         0|         0|         0|         0|         0|         0|         0|         0|         0|         0|         0|         0|         0|         0|         0|         0|         0|         0|         0|         0|         0|         0|         0|         0|         0|         0|         0|         0|         0|         0|         0|         0|         0|         0|         0|         0|         0|         0|         0|         0|         0|         0|         0|         0|         0|         0|         0|         0|         0|         0|         0|         0|         0|         0|         0|         0|         0|         0|         0|         0|         0|         0|         0|         0|         0|         0|         0|         0|         0|         0|         0|         0|         0|         0|         0|         0|         0|         0|         0|         0|         0|         0|         0|         0|         0|         0|         0|         0|\n",
      "|AAAAAAAAAAGAGCACACGC|        0|        0|        0|        0|        0|        0|        0|        0|        0|         0|         0|         0|         0|         0|         0|         0|         0|         0|         0|         0|         0|         0|         0|         0|         0|         0|         0|         0|         0|         0|         0|         0|         0|         0|         0|         0|         0|         0|         0|         0|         0|         0|         0|         0|         0|         0|         0|         0|         0|         0|         0|         0|         0|         0|         0|         0|         0|         0|         0|         0|         0|         0|         0|         0|         0|         0|         0|         0|         0|         0|         0|         0|         0|         0|         0|         0|         0|         0|         0|         0|         0|         0|         0|         0|         0|         0|         0|         0|         0|         0|         0|         0|         0|         0|         0|         0|         0|         0|         0|         0|         0|         0|         0|         0|         0|         0|         0|         0|         0|         0|         0|         0|         0|         0|         0|         0|         0|         0|         0|         0|         0|         0|         0|         0|         0|         0|         0|         0|         0|         0|         0|         0|         0|         0|         0|         0|         0|         0|         0|         0|         0|         0|         0|         0|         0|         0|         0|         0|         0|         0|         0|         0|         0|         0|         0|         0|         0|         0|         0|         0|         0|         0|         0|         0|         0|         0|         0|         0|         0|         0|         0|         0|         0|         0|         0|         0|         0|         0|         0|         0|         0|         0|         0|         0|         0|         0|         0|         0|         0|         0|         0|         0|        0|        0|        0|        0|        0|        0|        0|        0|        0|        0|        0|        0|        0|        0|        0|        0|         0|         0|         0|         0|         0|         0|         0|         0|         0|         0|         0|         0|         0|         0|         0|         0|         0|         0|         0|         0|         0|         0|         0|         0|         0|         0|         0|          0|          0|          0|         0|          0|          0|          0|          0|          0|          0|          0|          0|          0|          0|          0|          0|          0|          0|          0|          3|          0|          3|          4|          7|          6|          0|          4|          0|          0|          0|          3|          0|          3|          4|          4|          3|          7|          0|          0|          0|          0|          0|          0|          0|          0|          0|          0|         0|         0|         0|         0|         0|         0|         0|         0|         0|         0|         0|         0|         0|         0|         0|         0|         0|         0|         0|         0|         0|         0|         0|         0|         0|         0|         0|         0|         0|         0|         0|         0|         0|         0|         0|         0|         0|         0|         0|         0|         0|         0|         0|         0|         0|         0|         0|         0|         0|         0|         0|         0|         0|         0|         0|         0|         0|         0|         0|         0|         0|         0|         0|         0|         0|         0|         0|         0|         0|         0|         0|         0|         0|         0|         0|         0|         0|         0|         0|         0|         0|         0|         0|         0|         0|         0|         0|         0|         0|         0|         0|         0|         0|         0|         0|         0|         0|         0|         0|         0|         0|         0|         0|         0|         0|         0|         0|         0|         0|         0|         0|         0|         0|         0|         0|         0|         0|         0|         0|         0|         0|         0|         0|         0|         0|         0|         0|         0|         0|         0|         0|         0|         0|         0|         0|         0|         0|         0|         0|         0|         0|         0|         0|         0|         0|         0|         0|         0|         0|         0|         0|         0|         0|         0|         0|         0|         0|         0|         0|         0|         0|         0|         0|         0|         0|\n",
      "|AAAAAAAAAAGAGCACACGT|        0|        0|        0|        0|        0|        0|        0|        0|        0|         0|         0|         0|         0|         0|         0|         0|         0|         0|         0|         0|         0|         0|         0|         0|         0|         0|         0|         0|         0|         0|         0|         0|         0|         0|         0|         0|         0|         0|         0|         0|         0|         0|         0|         0|         0|         0|         0|         0|         0|         0|         0|         0|         0|         0|         0|         0|         0|         0|         0|         0|         0|         0|         0|         0|         0|         0|         0|         0|         0|         0|         0|         0|         0|         0|         0|         0|         0|         0|         0|         0|         0|         0|         0|         0|         0|         0|         0|         0|         0|         0|         0|         0|         0|         0|         0|         0|         0|         0|         0|         0|         0|         0|         0|         0|         0|         0|         0|         0|         0|         0|         0|         0|         0|         0|         0|         0|         0|         0|         0|         0|         0|         0|         0|         0|         0|         0|         0|         0|         0|         0|         0|         0|         0|         0|         0|         0|         0|         0|         0|         0|         0|         0|         0|         0|         0|         0|         0|         0|         0|         0|         0|         0|         0|         0|         0|         0|         0|         0|         0|         0|         0|         0|         0|         0|         0|        12|         0|         0|         0|         4|         0|         0|         0|         0|         0|         0|         0|         5|         0|         0|         0|         0|         0|         0|         0|         0|         0|         0|         0|         0|         0|         0|        0|        0|        0|        0|        0|        0|        0|        0|        0|        0|        0|        0|        0|        0|        0|        0|         0|         0|         0|         0|         0|         0|         0|         0|         0|         0|         0|         0|         0|         0|         0|         0|         0|         0|         0|         0|         0|         0|         0|         0|         0|         0|         0|          0|          0|          0|         0|          0|          0|          0|          0|          0|          0|          0|          0|          0|          0|          0|          0|          0|          0|          0|         12|          4|          0|          0|          4|          0|          0|          4|          0|          9|          6|          4|          3|          5|          3|          4|          3|         10|          0|          0|          0|          0|          0|          0|          0|          0|          0|          0|         0|         0|         0|         0|         0|         0|         0|         0|         0|         0|         0|         0|         0|         0|         0|         0|         0|         0|         0|         0|         0|         0|         0|         0|         0|         0|         0|         0|         0|         0|         0|         0|         0|         0|         0|         0|         0|         0|         0|         0|         0|         0|         0|         0|         0|         0|         0|         0|         0|         0|         0|         0|         0|         0|         3|         0|         0|         0|         0|         0|         0|         0|         0|         0|         0|         0|         0|         0|         0|         0|         0|         0|         0|         0|         0|         0|         0|         0|         0|         0|         0|         0|         0|         0|         0|         0|         0|         0|         0|         0|         0|         0|         0|         0|         0|         0|         0|         0|         0|         0|         0|         0|         0|         0|         0|         0|         0|         0|         0|         0|         0|         0|         0|         0|         0|         0|         0|         0|         0|         0|         0|         0|         0|         0|         0|         0|         0|         0|         0|         0|         0|         0|         0|         0|         0|         0|         0|         0|         0|         0|         0|         0|         0|         0|         0|         0|         0|         0|         0|         0|         0|         0|         0|         0|         0|         0|         0|         0|         0|         0|         0|         0|         0|         0|         0|\n",
      "+--------------------+---------+---------+---------+---------+---------+---------+---------+---------+---------+----------+----------+----------+----------+----------+----------+----------+----------+----------+----------+----------+----------+----------+----------+----------+----------+----------+----------+----------+----------+----------+----------+----------+----------+----------+----------+----------+----------+----------+----------+----------+----------+----------+----------+----------+----------+----------+----------+----------+----------+----------+----------+----------+----------+----------+----------+----------+----------+----------+----------+----------+----------+----------+----------+----------+----------+----------+----------+----------+----------+----------+----------+----------+----------+----------+----------+----------+----------+----------+----------+----------+----------+----------+----------+----------+----------+----------+----------+----------+----------+----------+----------+----------+----------+----------+----------+----------+----------+----------+----------+----------+----------+----------+----------+----------+----------+----------+----------+----------+----------+----------+----------+----------+----------+----------+----------+----------+----------+----------+----------+----------+----------+----------+----------+----------+----------+----------+----------+----------+----------+----------+----------+----------+----------+----------+----------+----------+----------+----------+----------+----------+----------+----------+----------+----------+----------+----------+----------+----------+----------+----------+----------+----------+----------+----------+----------+----------+----------+----------+----------+----------+----------+----------+----------+----------+----------+----------+----------+----------+----------+----------+----------+----------+----------+----------+----------+----------+----------+----------+----------+----------+----------+----------+----------+----------+----------+----------+----------+----------+----------+----------+----------+----------+---------+---------+---------+---------+---------+---------+---------+---------+---------+---------+---------+---------+---------+---------+---------+---------+----------+----------+----------+----------+----------+----------+----------+----------+----------+----------+----------+----------+----------+----------+----------+----------+----------+----------+----------+----------+----------+----------+----------+----------+----------+----------+----------+-----------+-----------+-----------+----------+-----------+-----------+-----------+-----------+-----------+-----------+-----------+-----------+-----------+-----------+-----------+-----------+-----------+-----------+-----------+-----------+-----------+-----------+-----------+-----------+-----------+-----------+-----------+-----------+-----------+-----------+-----------+-----------+-----------+-----------+-----------+-----------+-----------+-----------+-----------+-----------+-----------+-----------+-----------+-----------+-----------+-----------+-----------+----------+----------+----------+----------+----------+----------+----------+----------+----------+----------+----------+----------+----------+----------+----------+----------+----------+----------+----------+----------+----------+----------+----------+----------+----------+----------+----------+----------+----------+----------+----------+----------+----------+----------+----------+----------+----------+----------+----------+----------+----------+----------+----------+----------+----------+----------+----------+----------+----------+----------+----------+----------+----------+----------+----------+----------+----------+----------+----------+----------+----------+----------+----------+----------+----------+----------+----------+----------+----------+----------+----------+----------+----------+----------+----------+----------+----------+----------+----------+----------+----------+----------+----------+----------+----------+----------+----------+----------+----------+----------+----------+----------+----------+----------+----------+----------+----------+----------+----------+----------+----------+----------+----------+----------+----------+----------+----------+----------+----------+----------+----------+----------+----------+----------+----------+----------+----------+----------+----------+----------+----------+----------+----------+----------+----------+----------+----------+----------+----------+----------+----------+----------+----------+----------+----------+----------+----------+----------+----------+----------+----------+----------+----------+----------+----------+----------+----------+----------+----------+----------+----------+----------+----------+----------+----------+----------+----------+----------+----------+----------+----------+----------+----------+----------+----------+\n",
      "only showing top 20 rows\n",
      "\n"
     ]
    }
   ],
   "source": [
    "aMetagenomes.show()"
   ]
  },
  {
   "cell_type": "code",
   "execution_count": 25,
   "metadata": {},
   "outputs": [],
   "source": [
    "aMetagenomesRDD=sc.textFile(\"kmMatrices/aMetagenomes/whole_aMetagenomes_kmMatrix.txt\")"
   ]
  },
  {
   "cell_type": "code",
   "execution_count": 30,
   "metadata": {},
   "outputs": [
    {
     "ename": "AnalysisException",
     "evalue": "cannot resolve 'aggregate_metrics(`SRR6877304`, CAST(`SRR4047201` AS DOUBLE))' due to data type mismatch: argument 1 requires vector type, however, '`SRR6877304`' is of string type.;;\n'Aggregate [aggregate_metrics(Mean, Count, ComputeMean, ComputeWeightSum, SRR6877304#928, cast(SRR4047201#1124 as double), 0, 0) AS aggregate_metrics(SRR6877304, SRR4047201)#4950]\n+- Project [_c0#16 AS K-mer#912, _c1#17 AS SRR957738#913, _c2#18 AS SRR957739#914, _c3#19 AS SRR957740#915, _c4#20 AS SRR957741#916, _c5#21 AS SRR957742#917, _c6#22 AS SRR957743#918, _c7#23 AS SRR957744#919, _c8#24 AS SRR957745#920, _c9#25 AS SRR957746#921, _c10#26 AS SRR6877286#922, _c11#27 AS SRR6877284#923, _c12#28 AS SRR6877290#924, _c13#29 AS SRR6877288#925, _c14#30 AS SRR6877292#926, _c15#31 AS SRR6877323#927, _c16#32 AS SRR6877304#928, _c17#33 AS SRR6877305#929, _c18#34 AS SRR6877392#930, _c19#35 AS SRR6877308#931, _c20#36 AS SRR6877303#932, _c21#37 AS SRR6877372#933, _c22#38 AS SRR6877370#934, _c23#39 AS SRR6877376#935, ... 424 more fields]\n   +- Relation[_c0#16,_c1#17,_c2#18,_c3#19,_c4#20,_c5#21,_c6#22,_c7#23,_c8#24,_c9#25,_c10#26,_c11#27,_c12#28,_c13#29,_c14#30,_c15#31,_c16#32,_c17#33,_c18#34,_c19#35,_c20#36,_c21#37,_c22#38,_c23#39,... 424 more fields] csv\n",
     "output_type": "error",
     "traceback": [
      "\u001b[0;31m---------------------------------------------------------------------------\u001b[0m",
      "\u001b[0;31mAnalysisException\u001b[0m                         Traceback (most recent call last)",
      "\u001b[0;32m<ipython-input-30-898be12261b3>\u001b[0m in \u001b[0;36m<module>\u001b[0;34m\u001b[0m\n\u001b[1;32m      3\u001b[0m \u001b[0;34m\u001b[0m\u001b[0m\n\u001b[1;32m      4\u001b[0m \u001b[0;31m# compute statistics for multiple metrics with weight\u001b[0m\u001b[0;34m\u001b[0m\u001b[0;34m\u001b[0m\u001b[0;34m\u001b[0m\u001b[0m\n\u001b[0;32m----> 5\u001b[0;31m \u001b[0maMetagenomes\u001b[0m\u001b[0;34m.\u001b[0m\u001b[0mselect\u001b[0m\u001b[0;34m(\u001b[0m\u001b[0msummarizer\u001b[0m\u001b[0;34m.\u001b[0m\u001b[0msummary\u001b[0m\u001b[0;34m(\u001b[0m\u001b[0maMetagenomes\u001b[0m\u001b[0;34m.\u001b[0m\u001b[0mSRR6877304\u001b[0m\u001b[0;34m,\u001b[0m \u001b[0maMetagenomes\u001b[0m\u001b[0;34m.\u001b[0m\u001b[0mSRR4047201\u001b[0m\u001b[0;34m)\u001b[0m\u001b[0;34m)\u001b[0m\u001b[0;34m.\u001b[0m\u001b[0mshow\u001b[0m\u001b[0;34m(\u001b[0m\u001b[0mtruncate\u001b[0m\u001b[0;34m=\u001b[0m\u001b[0;32mFalse\u001b[0m\u001b[0;34m)\u001b[0m\u001b[0;34m\u001b[0m\u001b[0;34m\u001b[0m\u001b[0m\n\u001b[0m\u001b[1;32m      6\u001b[0m \u001b[0;34m\u001b[0m\u001b[0m\n",
      "\u001b[0;32m~/anaconda3/lib/python3.8/site-packages/pyspark/sql/dataframe.py\u001b[0m in \u001b[0;36mselect\u001b[0;34m(self, *cols)\u001b[0m\n\u001b[1;32m   1419\u001b[0m         \u001b[0;34m[\u001b[0m\u001b[0mRow\u001b[0m\u001b[0;34m(\u001b[0m\u001b[0mname\u001b[0m\u001b[0;34m=\u001b[0m\u001b[0;34mu'Alice'\u001b[0m\u001b[0;34m,\u001b[0m \u001b[0mage\u001b[0m\u001b[0;34m=\u001b[0m\u001b[0;36m12\u001b[0m\u001b[0;34m)\u001b[0m\u001b[0;34m,\u001b[0m \u001b[0mRow\u001b[0m\u001b[0;34m(\u001b[0m\u001b[0mname\u001b[0m\u001b[0;34m=\u001b[0m\u001b[0;34mu'Bob'\u001b[0m\u001b[0;34m,\u001b[0m \u001b[0mage\u001b[0m\u001b[0;34m=\u001b[0m\u001b[0;36m15\u001b[0m\u001b[0;34m)\u001b[0m\u001b[0;34m]\u001b[0m\u001b[0;34m\u001b[0m\u001b[0;34m\u001b[0m\u001b[0m\n\u001b[1;32m   1420\u001b[0m         \"\"\"\n\u001b[0;32m-> 1421\u001b[0;31m         \u001b[0mjdf\u001b[0m \u001b[0;34m=\u001b[0m \u001b[0mself\u001b[0m\u001b[0;34m.\u001b[0m\u001b[0m_jdf\u001b[0m\u001b[0;34m.\u001b[0m\u001b[0mselect\u001b[0m\u001b[0;34m(\u001b[0m\u001b[0mself\u001b[0m\u001b[0;34m.\u001b[0m\u001b[0m_jcols\u001b[0m\u001b[0;34m(\u001b[0m\u001b[0;34m*\u001b[0m\u001b[0mcols\u001b[0m\u001b[0;34m)\u001b[0m\u001b[0;34m)\u001b[0m\u001b[0;34m\u001b[0m\u001b[0;34m\u001b[0m\u001b[0m\n\u001b[0m\u001b[1;32m   1422\u001b[0m         \u001b[0;32mreturn\u001b[0m \u001b[0mDataFrame\u001b[0m\u001b[0;34m(\u001b[0m\u001b[0mjdf\u001b[0m\u001b[0;34m,\u001b[0m \u001b[0mself\u001b[0m\u001b[0;34m.\u001b[0m\u001b[0msql_ctx\u001b[0m\u001b[0;34m)\u001b[0m\u001b[0;34m\u001b[0m\u001b[0;34m\u001b[0m\u001b[0m\n\u001b[1;32m   1423\u001b[0m \u001b[0;34m\u001b[0m\u001b[0m\n",
      "\u001b[0;32m~/anaconda3/lib/python3.8/site-packages/py4j/java_gateway.py\u001b[0m in \u001b[0;36m__call__\u001b[0;34m(self, *args)\u001b[0m\n\u001b[1;32m   1302\u001b[0m \u001b[0;34m\u001b[0m\u001b[0m\n\u001b[1;32m   1303\u001b[0m         \u001b[0manswer\u001b[0m \u001b[0;34m=\u001b[0m \u001b[0mself\u001b[0m\u001b[0;34m.\u001b[0m\u001b[0mgateway_client\u001b[0m\u001b[0;34m.\u001b[0m\u001b[0msend_command\u001b[0m\u001b[0;34m(\u001b[0m\u001b[0mcommand\u001b[0m\u001b[0;34m)\u001b[0m\u001b[0;34m\u001b[0m\u001b[0;34m\u001b[0m\u001b[0m\n\u001b[0;32m-> 1304\u001b[0;31m         return_value = get_return_value(\n\u001b[0m\u001b[1;32m   1305\u001b[0m             answer, self.gateway_client, self.target_id, self.name)\n\u001b[1;32m   1306\u001b[0m \u001b[0;34m\u001b[0m\u001b[0m\n",
      "\u001b[0;32m~/anaconda3/lib/python3.8/site-packages/pyspark/sql/utils.py\u001b[0m in \u001b[0;36mdeco\u001b[0;34m(*a, **kw)\u001b[0m\n\u001b[1;32m    132\u001b[0m                 \u001b[0;31m# Hide where the exception came from that shows a non-Pythonic\u001b[0m\u001b[0;34m\u001b[0m\u001b[0;34m\u001b[0m\u001b[0;34m\u001b[0m\u001b[0m\n\u001b[1;32m    133\u001b[0m                 \u001b[0;31m# JVM exception message.\u001b[0m\u001b[0;34m\u001b[0m\u001b[0;34m\u001b[0m\u001b[0;34m\u001b[0m\u001b[0m\n\u001b[0;32m--> 134\u001b[0;31m                 \u001b[0mraise_from\u001b[0m\u001b[0;34m(\u001b[0m\u001b[0mconverted\u001b[0m\u001b[0;34m)\u001b[0m\u001b[0;34m\u001b[0m\u001b[0;34m\u001b[0m\u001b[0m\n\u001b[0m\u001b[1;32m    135\u001b[0m             \u001b[0;32melse\u001b[0m\u001b[0;34m:\u001b[0m\u001b[0;34m\u001b[0m\u001b[0;34m\u001b[0m\u001b[0m\n\u001b[1;32m    136\u001b[0m                 \u001b[0;32mraise\u001b[0m\u001b[0;34m\u001b[0m\u001b[0;34m\u001b[0m\u001b[0m\n",
      "\u001b[0;32m~/anaconda3/lib/python3.8/site-packages/pyspark/sql/utils.py\u001b[0m in \u001b[0;36mraise_from\u001b[0;34m(e)\u001b[0m\n",
      "\u001b[0;31mAnalysisException\u001b[0m: cannot resolve 'aggregate_metrics(`SRR6877304`, CAST(`SRR4047201` AS DOUBLE))' due to data type mismatch: argument 1 requires vector type, however, '`SRR6877304`' is of string type.;;\n'Aggregate [aggregate_metrics(Mean, Count, ComputeMean, ComputeWeightSum, SRR6877304#928, cast(SRR4047201#1124 as double), 0, 0) AS aggregate_metrics(SRR6877304, SRR4047201)#4950]\n+- Project [_c0#16 AS K-mer#912, _c1#17 AS SRR957738#913, _c2#18 AS SRR957739#914, _c3#19 AS SRR957740#915, _c4#20 AS SRR957741#916, _c5#21 AS SRR957742#917, _c6#22 AS SRR957743#918, _c7#23 AS SRR957744#919, _c8#24 AS SRR957745#920, _c9#25 AS SRR957746#921, _c10#26 AS SRR6877286#922, _c11#27 AS SRR6877284#923, _c12#28 AS SRR6877290#924, _c13#29 AS SRR6877288#925, _c14#30 AS SRR6877292#926, _c15#31 AS SRR6877323#927, _c16#32 AS SRR6877304#928, _c17#33 AS SRR6877305#929, _c18#34 AS SRR6877392#930, _c19#35 AS SRR6877308#931, _c20#36 AS SRR6877303#932, _c21#37 AS SRR6877372#933, _c22#38 AS SRR6877370#934, _c23#39 AS SRR6877376#935, ... 424 more fields]\n   +- Relation[_c0#16,_c1#17,_c2#18,_c3#19,_c4#20,_c5#21,_c6#22,_c7#23,_c8#24,_c9#25,_c10#26,_c11#27,_c12#28,_c13#29,_c14#30,_c15#31,_c16#32,_c17#33,_c18#34,_c19#35,_c20#36,_c21#37,_c22#38,_c23#39,... 424 more fields] csv\n"
     ]
    }
   ],
   "source": [
    "# create summarizer for multiple metrics \"mean\" and \"count\"\n",
    "summarizer = Summarizer.metrics(\"mean\", \"count\")\n",
    "\n",
    "# compute statistics for multiple metrics with weight\n",
    "aMetagenomes.select(summarizer.summary(aMetagenomes.SRR6877304, aMetagenomes.SRR4047201)).show(truncate=False)\n",
    "\n"
   ]
  },
  {
   "cell_type": "code",
   "execution_count": null,
   "metadata": {},
   "outputs": [],
   "source": []
  }
 ],
 "metadata": {
  "kernelspec": {
   "display_name": "Python 3",
   "language": "python",
   "name": "python3"
  },
  "language_info": {
   "codemirror_mode": {
    "name": "ipython",
    "version": 3
   },
   "file_extension": ".py",
   "mimetype": "text/x-python",
   "name": "python",
   "nbconvert_exporter": "python",
   "pygments_lexer": "ipython3",
   "version": "3.8.5"
  }
 },
 "nbformat": 4,
 "nbformat_minor": 4
}
