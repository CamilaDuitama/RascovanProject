{
 "cells": [
  {
   "cell_type": "code",
   "execution_count": 87,
   "metadata": {},
   "outputs": [],
   "source": [
    "import pandas as pd\n",
    "import numpy as np\n",
    "#import findspark\n",
    "#findspark.init()\n",
    "from pyspark.sql import SparkSession , SQLContext\n",
    "from pyspark import SparkContext,SparkConf\n",
    "import plotly.graph_objects as go\n",
    "import plotly.express as px\n",
    "from pyspark.ml.stat import Summarizer\n",
    "from pyspark.sql import Row\n",
    "from pyspark.ml.linalg import Vectors\n",
    "from pyspark.sql.types import StructType, StructField,StringType, IntegerType, BooleanType, BinaryType\n",
    "from pyspark.mllib.linalg import SparseVector\n",
    "from pyspark.ml.feature import StringIndexer, VectorAssembler\n",
    "from pyspark.mllib.linalg import Vectors\n",
    "from pyspark.ml.feature import VarianceThresholdSelector\n",
    "from pyspark.ml.linalg import Vectors"
   ]
  },
  {
   "cell_type": "code",
   "execution_count": 40,
   "metadata": {},
   "outputs": [],
   "source": [
    "SRR_aMetagenomes=pd.read_table(\"Metadata/aMetagenomes/SRR_aMetagenomes.txt\", names=[\"Accession\"],)"
   ]
  },
  {
   "cell_type": "code",
   "execution_count": 41,
   "metadata": {},
   "outputs": [],
   "source": [
    "aMetagenomes_SRStoSRR=pd.read_table(\"Metadata/aMetagenomes/aMetagenomes_SRStoSRR.tsv\",names=[\"archive_accession\",\"SRR_accession\"])\n",
    "aMetagenomes=aMetagenomes_SRStoSRR[aMetagenomes_SRStoSRR['SRR_accession'].notna()]"
   ]
  },
  {
   "cell_type": "code",
   "execution_count": 42,
   "metadata": {},
   "outputs": [
    {
     "data": {
      "text/plain": [
       "(447, 18)"
      ]
     },
     "execution_count": 42,
     "metadata": {},
     "output_type": "execute_result"
    }
   ],
   "source": [
    "aMetagenomes_metadata=pd.read_table(\"Metadata/aMetagenomes/aMetagenomes.txt\")\n",
    "#Create one row per archive_accession\n",
    "aMetagenomes_metadata=aMetagenomes_metadata.assign(archive_accession=aMetagenomes_metadata['archive_accession'].str.split(',')).explode('archive_accession')\n",
    "aMetagenomes_metadata=aMetagenomes_metadata.reset_index()\n",
    "aMetagenomes_metadata=aMetagenomes_metadata[aMetagenomes_metadata[\"archive\"]==\"SRA\"]\n",
    "aMetagenomes_metadata.shape"
   ]
  },
  {
   "cell_type": "code",
   "execution_count": 43,
   "metadata": {},
   "outputs": [
    {
     "data": {
      "text/html": [
       "<div>\n",
       "<style scoped>\n",
       "    .dataframe tbody tr th:only-of-type {\n",
       "        vertical-align: middle;\n",
       "    }\n",
       "\n",
       "    .dataframe tbody tr th {\n",
       "        vertical-align: top;\n",
       "    }\n",
       "\n",
       "    .dataframe thead th {\n",
       "        text-align: right;\n",
       "    }\n",
       "</style>\n",
       "<table border=\"1\" class=\"dataframe\">\n",
       "  <thead>\n",
       "    <tr style=\"text-align: right;\">\n",
       "      <th></th>\n",
       "      <th>index</th>\n",
       "      <th>project_name</th>\n",
       "      <th>publication_year</th>\n",
       "      <th>publication_doi</th>\n",
       "      <th>site_name</th>\n",
       "      <th>latitude</th>\n",
       "      <th>longitude</th>\n",
       "      <th>geo_loc_name</th>\n",
       "      <th>sample_name</th>\n",
       "      <th>sample_host</th>\n",
       "      <th>sample_age</th>\n",
       "      <th>sample_age_doi</th>\n",
       "      <th>community_type</th>\n",
       "      <th>material</th>\n",
       "      <th>collection_date</th>\n",
       "      <th>archive</th>\n",
       "      <th>archive_project</th>\n",
       "      <th>archive_accession</th>\n",
       "    </tr>\n",
       "  </thead>\n",
       "  <tbody>\n",
       "    <tr>\n",
       "      <th>0</th>\n",
       "      <td>1</td>\n",
       "      <td>Warinner2014</td>\n",
       "      <td>2014</td>\n",
       "      <td>10.1038/ng.2906</td>\n",
       "      <td>Dalheim</td>\n",
       "      <td>51.565</td>\n",
       "      <td>8.84</td>\n",
       "      <td>Germany</td>\n",
       "      <td>B61</td>\n",
       "      <td>Homo sapiens</td>\n",
       "      <td>900</td>\n",
       "      <td>10.1038/ng.2906</td>\n",
       "      <td>oral</td>\n",
       "      <td>dental calculus</td>\n",
       "      <td>NaN</td>\n",
       "      <td>SRA</td>\n",
       "      <td>PRJNA216965</td>\n",
       "      <td>SRS473742</td>\n",
       "    </tr>\n",
       "    <tr>\n",
       "      <th>1</th>\n",
       "      <td>1</td>\n",
       "      <td>Warinner2014</td>\n",
       "      <td>2014</td>\n",
       "      <td>10.1038/ng.2906</td>\n",
       "      <td>Dalheim</td>\n",
       "      <td>51.565</td>\n",
       "      <td>8.84</td>\n",
       "      <td>Germany</td>\n",
       "      <td>B61</td>\n",
       "      <td>Homo sapiens</td>\n",
       "      <td>900</td>\n",
       "      <td>10.1038/ng.2906</td>\n",
       "      <td>oral</td>\n",
       "      <td>dental calculus</td>\n",
       "      <td>NaN</td>\n",
       "      <td>SRA</td>\n",
       "      <td>PRJNA216965</td>\n",
       "      <td>SRS473743</td>\n",
       "    </tr>\n",
       "    <tr>\n",
       "      <th>2</th>\n",
       "      <td>1</td>\n",
       "      <td>Warinner2014</td>\n",
       "      <td>2014</td>\n",
       "      <td>10.1038/ng.2906</td>\n",
       "      <td>Dalheim</td>\n",
       "      <td>51.565</td>\n",
       "      <td>8.84</td>\n",
       "      <td>Germany</td>\n",
       "      <td>B61</td>\n",
       "      <td>Homo sapiens</td>\n",
       "      <td>900</td>\n",
       "      <td>10.1038/ng.2906</td>\n",
       "      <td>oral</td>\n",
       "      <td>dental calculus</td>\n",
       "      <td>NaN</td>\n",
       "      <td>SRA</td>\n",
       "      <td>PRJNA216965</td>\n",
       "      <td>SRS473744</td>\n",
       "    </tr>\n",
       "    <tr>\n",
       "      <th>3</th>\n",
       "      <td>1</td>\n",
       "      <td>Warinner2014</td>\n",
       "      <td>2014</td>\n",
       "      <td>10.1038/ng.2906</td>\n",
       "      <td>Dalheim</td>\n",
       "      <td>51.565</td>\n",
       "      <td>8.84</td>\n",
       "      <td>Germany</td>\n",
       "      <td>B61</td>\n",
       "      <td>Homo sapiens</td>\n",
       "      <td>900</td>\n",
       "      <td>10.1038/ng.2906</td>\n",
       "      <td>oral</td>\n",
       "      <td>dental calculus</td>\n",
       "      <td>NaN</td>\n",
       "      <td>SRA</td>\n",
       "      <td>PRJNA216965</td>\n",
       "      <td>SRS473745</td>\n",
       "    </tr>\n",
       "    <tr>\n",
       "      <th>4</th>\n",
       "      <td>2</td>\n",
       "      <td>Warinner2014</td>\n",
       "      <td>2014</td>\n",
       "      <td>10.1038/ng.2906</td>\n",
       "      <td>Dalheim</td>\n",
       "      <td>51.565</td>\n",
       "      <td>8.84</td>\n",
       "      <td>Germany</td>\n",
       "      <td>G12</td>\n",
       "      <td>Homo sapiens</td>\n",
       "      <td>900</td>\n",
       "      <td>10.1038/ng.2906</td>\n",
       "      <td>oral</td>\n",
       "      <td>dental calculus</td>\n",
       "      <td>NaN</td>\n",
       "      <td>SRA</td>\n",
       "      <td>PRJNA216965</td>\n",
       "      <td>SRS473747</td>\n",
       "    </tr>\n",
       "  </tbody>\n",
       "</table>\n",
       "</div>"
      ],
      "text/plain": [
       "   index  project_name  publication_year  publication_doi site_name  latitude  \\\n",
       "0      1  Warinner2014              2014  10.1038/ng.2906   Dalheim    51.565   \n",
       "1      1  Warinner2014              2014  10.1038/ng.2906   Dalheim    51.565   \n",
       "2      1  Warinner2014              2014  10.1038/ng.2906   Dalheim    51.565   \n",
       "3      1  Warinner2014              2014  10.1038/ng.2906   Dalheim    51.565   \n",
       "4      2  Warinner2014              2014  10.1038/ng.2906   Dalheim    51.565   \n",
       "\n",
       "   longitude geo_loc_name sample_name   sample_host  sample_age  \\\n",
       "0       8.84      Germany         B61  Homo sapiens         900   \n",
       "1       8.84      Germany         B61  Homo sapiens         900   \n",
       "2       8.84      Germany         B61  Homo sapiens         900   \n",
       "3       8.84      Germany         B61  Homo sapiens         900   \n",
       "4       8.84      Germany         G12  Homo sapiens         900   \n",
       "\n",
       "    sample_age_doi community_type         material  collection_date archive  \\\n",
       "0  10.1038/ng.2906           oral  dental calculus              NaN     SRA   \n",
       "1  10.1038/ng.2906           oral  dental calculus              NaN     SRA   \n",
       "2  10.1038/ng.2906           oral  dental calculus              NaN     SRA   \n",
       "3  10.1038/ng.2906           oral  dental calculus              NaN     SRA   \n",
       "4  10.1038/ng.2906           oral  dental calculus              NaN     SRA   \n",
       "\n",
       "  archive_project archive_accession  \n",
       "0     PRJNA216965         SRS473742  \n",
       "1     PRJNA216965         SRS473743  \n",
       "2     PRJNA216965         SRS473744  \n",
       "3     PRJNA216965         SRS473745  \n",
       "4     PRJNA216965         SRS473747  "
      ]
     },
     "execution_count": 43,
     "metadata": {},
     "output_type": "execute_result"
    }
   ],
   "source": [
    "aMetagenomes_metadata.head()"
   ]
  },
  {
   "cell_type": "code",
   "execution_count": 44,
   "metadata": {},
   "outputs": [
    {
     "data": {
      "text/plain": [
       "518"
      ]
     },
     "execution_count": 44,
     "metadata": {},
     "output_type": "execute_result"
    }
   ],
   "source": [
    "len(aMetagenomes_SRStoSRR.SRR_accession)"
   ]
  },
  {
   "cell_type": "code",
   "execution_count": 45,
   "metadata": {},
   "outputs": [
    {
     "data": {
      "text/plain": [
       "(447, 18)"
      ]
     },
     "execution_count": 45,
     "metadata": {},
     "output_type": "execute_result"
    }
   ],
   "source": [
    "aMetagenomes_metadata.shape"
   ]
  },
  {
   "cell_type": "code",
   "execution_count": 46,
   "metadata": {},
   "outputs": [],
   "source": [
    "#Filter aMetagenomes_metadata with only files that were downloaded"
   ]
  },
  {
   "cell_type": "code",
   "execution_count": 47,
   "metadata": {},
   "outputs": [],
   "source": [
    "SRR_aMetagenomes=pd.read_table(\"Metadata/aMetagenomes/SRR_aMetagenomes.txt\",names=[\"SRR_accession\"])"
   ]
  },
  {
   "cell_type": "code",
   "execution_count": 48,
   "metadata": {},
   "outputs": [],
   "source": [
    "a=pd.merge(aMetagenomes_SRStoSRR,SRR_aMetagenomes,on=\"SRR_accession\",how=\"inner\")\n"
   ]
  },
  {
   "cell_type": "code",
   "execution_count": 49,
   "metadata": {},
   "outputs": [],
   "source": [
    "aMetagenomes_metadata=pd.merge(aMetagenomes_metadata,aMetagenomes_SRStoSRR,on=\"archive_accession\",how=\"inner\")"
   ]
  },
  {
   "cell_type": "code",
   "execution_count": 50,
   "metadata": {},
   "outputs": [
    {
     "data": {
      "application/vnd.plotly.v1+json": {
       "config": {
        "plotlyServerURL": "https://plot.ly"
       },
       "data": [
        {
         "alignmentgroup": "True",
         "bingroup": "x",
         "hovertemplate": "sample_age=%{x}<br>count=%{y}<extra></extra>",
         "legendgroup": "",
         "marker": {
          "color": "#636efa"
         },
         "name": "",
         "offsetgroup": "",
         "orientation": "v",
         "showlegend": false,
         "type": "histogram",
         "x": [
          900,
          900,
          900,
          900,
          900,
          900,
          900,
          900,
          900,
          4700,
          4700,
          800,
          800,
          4400,
          4400,
          1000,
          1000,
          1000,
          1000,
          1000,
          1000,
          1000,
          1000,
          1000,
          1000,
          1000,
          1000,
          1000,
          1000,
          1000,
          1000,
          1000,
          1000,
          1000,
          1000,
          1000,
          1000,
          1000,
          1000,
          1000,
          1000,
          1000,
          1000,
          1000,
          1000,
          1000,
          1000,
          1000,
          1000,
          1000,
          1000,
          1000,
          1000,
          1000,
          1000,
          1000,
          1000,
          1000,
          1000,
          1000,
          1000,
          1000,
          1000,
          1000,
          1000,
          700,
          700,
          300,
          1400,
          1400,
          300,
          4700,
          4700,
          800,
          800,
          4400,
          4400,
          1000,
          1000,
          1000,
          1000,
          1000,
          1000,
          1000,
          1000,
          1000,
          1000,
          1000,
          1000,
          1000,
          1000,
          1000,
          1000,
          1000,
          1000,
          1000,
          1000,
          1000,
          1000,
          1000,
          1000,
          1000,
          1000,
          1000,
          1000,
          1000,
          1000,
          1000,
          1000,
          1000,
          1000,
          1000,
          1000,
          1000,
          1000,
          1000,
          1000,
          1000,
          1000,
          1000,
          1000,
          1000,
          1000,
          1000,
          1000,
          700,
          700,
          300,
          1400,
          1400,
          300,
          100,
          100,
          100,
          100,
          100,
          100,
          100,
          100,
          100,
          100,
          100,
          100,
          100,
          100,
          100,
          100,
          100,
          100,
          100,
          200,
          200,
          200,
          200,
          200,
          200,
          200,
          200,
          200,
          700,
          700,
          700,
          700,
          700,
          41800,
          41800,
          41800,
          41800,
          41800,
          41800,
          41800,
          41800,
          41800,
          41800,
          41800,
          41800,
          41800,
          41800,
          41800,
          41800,
          100,
          100,
          100,
          100,
          100,
          100,
          100,
          100,
          100,
          100,
          100,
          100,
          100,
          100,
          100,
          100,
          100,
          100,
          100,
          100,
          100,
          100,
          100,
          100,
          100,
          100,
          100,
          100,
          100,
          100,
          100,
          100,
          100,
          100,
          100,
          100,
          100,
          100,
          100,
          100,
          100,
          100,
          100,
          100,
          100,
          100,
          100,
          100,
          100,
          100,
          100,
          100,
          100,
          100,
          100,
          100,
          100,
          100,
          100,
          100,
          100,
          100,
          100,
          100,
          100,
          100,
          100,
          100,
          100,
          100,
          100,
          100,
          100,
          100,
          100,
          100,
          100,
          100,
          100,
          100,
          100,
          100,
          100,
          100,
          100,
          100,
          100,
          100,
          100,
          100,
          100,
          100,
          100,
          100,
          100,
          100,
          100,
          100,
          100,
          100,
          100,
          100,
          100,
          100,
          100,
          100,
          100,
          100,
          100,
          100,
          100,
          100,
          100,
          100,
          100,
          100,
          100,
          100,
          100,
          100,
          100,
          100,
          100,
          100,
          100,
          100,
          100,
          100,
          100,
          100,
          100,
          100,
          100,
          100,
          100,
          100,
          100,
          100,
          100,
          100,
          100,
          100,
          100,
          100,
          100,
          100,
          100,
          100,
          100,
          100,
          100,
          100,
          100,
          100,
          100,
          100,
          100,
          100,
          100,
          100,
          100,
          100,
          100,
          100,
          100,
          100,
          100,
          100,
          100,
          100,
          100,
          100,
          100,
          100,
          100,
          100,
          100,
          100,
          100,
          100,
          100,
          100,
          100,
          100,
          100,
          100,
          100,
          100,
          100,
          100,
          100,
          100,
          400,
          400,
          400,
          400,
          400,
          400,
          400,
          400,
          400,
          400,
          400,
          400,
          400,
          400,
          400,
          400,
          100,
          100,
          100,
          100,
          100,
          100,
          100,
          100,
          100,
          100,
          100,
          100,
          100,
          100,
          100,
          100,
          100,
          100,
          100,
          100,
          100,
          100,
          100,
          100,
          100,
          100,
          100,
          100,
          100,
          100,
          100,
          100,
          100,
          100,
          100,
          100,
          100,
          100,
          100,
          100,
          100,
          100,
          100,
          100,
          100,
          100,
          100,
          100,
          100,
          100,
          100,
          100,
          100,
          100,
          100,
          100,
          100,
          100,
          400,
          500,
          400,
          400,
          900,
          900,
          1000,
          600,
          230,
          230,
          230,
          230,
          2700,
          2700,
          2700,
          2700,
          230,
          230,
          230,
          230,
          230,
          230,
          2700,
          1300,
          1300,
          1300,
          1300,
          1300,
          2000,
          1400,
          3600,
          3600,
          3600,
          3400,
          3400,
          3400,
          3400,
          3000,
          3000,
          3000,
          3000,
          600,
          600,
          600,
          600,
          600,
          600,
          600,
          600,
          100,
          100,
          1000,
          900,
          1800,
          1800,
          2000,
          1800,
          1800,
          1800,
          1800,
          1900,
          1800,
          1800,
          1800,
          1800,
          1900,
          1800,
          1800,
          1900,
          1800,
          1800,
          1900,
          1800,
          1800,
          1900,
          1900,
          1900,
          1800,
          1800,
          1900,
          1900,
          1900,
          1800,
          1800,
          1900,
          1900,
          1900,
          1900,
          1800,
          1800,
          1900,
          1900,
          1900,
          1800,
          1900,
          1900,
          1900,
          1900,
          1800,
          1900,
          1900,
          1800,
          1900,
          1800,
          1900,
          1800,
          1800,
          1800,
          1900,
          1800,
          1800,
          1900,
          1800,
          1800,
          900,
          900,
          900,
          1000,
          900,
          900,
          900,
          900,
          900,
          900,
          900,
          900,
          1000,
          1000,
          900,
          900,
          1000,
          1700,
          1700,
          1700,
          1700,
          1700,
          1700,
          1700,
          1700,
          1700,
          1700,
          1700,
          1700,
          1700,
          1700,
          1700,
          1700,
          1700,
          1700,
          1700,
          1700,
          1700,
          1700,
          1700,
          1700,
          1700,
          1700,
          1700,
          1000,
          1000,
          1000,
          1000,
          1000,
          1000,
          1000,
          1000,
          1000,
          1000,
          1000,
          1000,
          1000,
          1000,
          1000,
          1000,
          1000,
          1000,
          1000,
          1000,
          1000,
          1000,
          1000,
          1000,
          1000,
          1000,
          1000,
          1000,
          1000,
          1000,
          1000,
          1000,
          1000,
          1000,
          1000,
          1000,
          1000,
          900,
          900,
          900,
          900,
          900,
          900,
          900,
          900,
          900,
          900,
          900,
          900,
          900,
          900,
          900,
          900,
          900,
          900,
          900,
          900,
          900
         ],
         "xaxis": "x",
         "yaxis": "y"
        }
       ],
       "layout": {
        "barmode": "relative",
        "legend": {
         "tracegroupgap": 0
        },
        "template": {
         "data": {
          "bar": [
           {
            "error_x": {
             "color": "#2a3f5f"
            },
            "error_y": {
             "color": "#2a3f5f"
            },
            "marker": {
             "line": {
              "color": "#E5ECF6",
              "width": 0.5
             }
            },
            "type": "bar"
           }
          ],
          "barpolar": [
           {
            "marker": {
             "line": {
              "color": "#E5ECF6",
              "width": 0.5
             }
            },
            "type": "barpolar"
           }
          ],
          "carpet": [
           {
            "aaxis": {
             "endlinecolor": "#2a3f5f",
             "gridcolor": "white",
             "linecolor": "white",
             "minorgridcolor": "white",
             "startlinecolor": "#2a3f5f"
            },
            "baxis": {
             "endlinecolor": "#2a3f5f",
             "gridcolor": "white",
             "linecolor": "white",
             "minorgridcolor": "white",
             "startlinecolor": "#2a3f5f"
            },
            "type": "carpet"
           }
          ],
          "choropleth": [
           {
            "colorbar": {
             "outlinewidth": 0,
             "ticks": ""
            },
            "type": "choropleth"
           }
          ],
          "contour": [
           {
            "colorbar": {
             "outlinewidth": 0,
             "ticks": ""
            },
            "colorscale": [
             [
              0,
              "#0d0887"
             ],
             [
              0.1111111111111111,
              "#46039f"
             ],
             [
              0.2222222222222222,
              "#7201a8"
             ],
             [
              0.3333333333333333,
              "#9c179e"
             ],
             [
              0.4444444444444444,
              "#bd3786"
             ],
             [
              0.5555555555555556,
              "#d8576b"
             ],
             [
              0.6666666666666666,
              "#ed7953"
             ],
             [
              0.7777777777777778,
              "#fb9f3a"
             ],
             [
              0.8888888888888888,
              "#fdca26"
             ],
             [
              1,
              "#f0f921"
             ]
            ],
            "type": "contour"
           }
          ],
          "contourcarpet": [
           {
            "colorbar": {
             "outlinewidth": 0,
             "ticks": ""
            },
            "type": "contourcarpet"
           }
          ],
          "heatmap": [
           {
            "colorbar": {
             "outlinewidth": 0,
             "ticks": ""
            },
            "colorscale": [
             [
              0,
              "#0d0887"
             ],
             [
              0.1111111111111111,
              "#46039f"
             ],
             [
              0.2222222222222222,
              "#7201a8"
             ],
             [
              0.3333333333333333,
              "#9c179e"
             ],
             [
              0.4444444444444444,
              "#bd3786"
             ],
             [
              0.5555555555555556,
              "#d8576b"
             ],
             [
              0.6666666666666666,
              "#ed7953"
             ],
             [
              0.7777777777777778,
              "#fb9f3a"
             ],
             [
              0.8888888888888888,
              "#fdca26"
             ],
             [
              1,
              "#f0f921"
             ]
            ],
            "type": "heatmap"
           }
          ],
          "heatmapgl": [
           {
            "colorbar": {
             "outlinewidth": 0,
             "ticks": ""
            },
            "colorscale": [
             [
              0,
              "#0d0887"
             ],
             [
              0.1111111111111111,
              "#46039f"
             ],
             [
              0.2222222222222222,
              "#7201a8"
             ],
             [
              0.3333333333333333,
              "#9c179e"
             ],
             [
              0.4444444444444444,
              "#bd3786"
             ],
             [
              0.5555555555555556,
              "#d8576b"
             ],
             [
              0.6666666666666666,
              "#ed7953"
             ],
             [
              0.7777777777777778,
              "#fb9f3a"
             ],
             [
              0.8888888888888888,
              "#fdca26"
             ],
             [
              1,
              "#f0f921"
             ]
            ],
            "type": "heatmapgl"
           }
          ],
          "histogram": [
           {
            "marker": {
             "colorbar": {
              "outlinewidth": 0,
              "ticks": ""
             }
            },
            "type": "histogram"
           }
          ],
          "histogram2d": [
           {
            "colorbar": {
             "outlinewidth": 0,
             "ticks": ""
            },
            "colorscale": [
             [
              0,
              "#0d0887"
             ],
             [
              0.1111111111111111,
              "#46039f"
             ],
             [
              0.2222222222222222,
              "#7201a8"
             ],
             [
              0.3333333333333333,
              "#9c179e"
             ],
             [
              0.4444444444444444,
              "#bd3786"
             ],
             [
              0.5555555555555556,
              "#d8576b"
             ],
             [
              0.6666666666666666,
              "#ed7953"
             ],
             [
              0.7777777777777778,
              "#fb9f3a"
             ],
             [
              0.8888888888888888,
              "#fdca26"
             ],
             [
              1,
              "#f0f921"
             ]
            ],
            "type": "histogram2d"
           }
          ],
          "histogram2dcontour": [
           {
            "colorbar": {
             "outlinewidth": 0,
             "ticks": ""
            },
            "colorscale": [
             [
              0,
              "#0d0887"
             ],
             [
              0.1111111111111111,
              "#46039f"
             ],
             [
              0.2222222222222222,
              "#7201a8"
             ],
             [
              0.3333333333333333,
              "#9c179e"
             ],
             [
              0.4444444444444444,
              "#bd3786"
             ],
             [
              0.5555555555555556,
              "#d8576b"
             ],
             [
              0.6666666666666666,
              "#ed7953"
             ],
             [
              0.7777777777777778,
              "#fb9f3a"
             ],
             [
              0.8888888888888888,
              "#fdca26"
             ],
             [
              1,
              "#f0f921"
             ]
            ],
            "type": "histogram2dcontour"
           }
          ],
          "mesh3d": [
           {
            "colorbar": {
             "outlinewidth": 0,
             "ticks": ""
            },
            "type": "mesh3d"
           }
          ],
          "parcoords": [
           {
            "line": {
             "colorbar": {
              "outlinewidth": 0,
              "ticks": ""
             }
            },
            "type": "parcoords"
           }
          ],
          "pie": [
           {
            "automargin": true,
            "type": "pie"
           }
          ],
          "scatter": [
           {
            "marker": {
             "colorbar": {
              "outlinewidth": 0,
              "ticks": ""
             }
            },
            "type": "scatter"
           }
          ],
          "scatter3d": [
           {
            "line": {
             "colorbar": {
              "outlinewidth": 0,
              "ticks": ""
             }
            },
            "marker": {
             "colorbar": {
              "outlinewidth": 0,
              "ticks": ""
             }
            },
            "type": "scatter3d"
           }
          ],
          "scattercarpet": [
           {
            "marker": {
             "colorbar": {
              "outlinewidth": 0,
              "ticks": ""
             }
            },
            "type": "scattercarpet"
           }
          ],
          "scattergeo": [
           {
            "marker": {
             "colorbar": {
              "outlinewidth": 0,
              "ticks": ""
             }
            },
            "type": "scattergeo"
           }
          ],
          "scattergl": [
           {
            "marker": {
             "colorbar": {
              "outlinewidth": 0,
              "ticks": ""
             }
            },
            "type": "scattergl"
           }
          ],
          "scattermapbox": [
           {
            "marker": {
             "colorbar": {
              "outlinewidth": 0,
              "ticks": ""
             }
            },
            "type": "scattermapbox"
           }
          ],
          "scatterpolar": [
           {
            "marker": {
             "colorbar": {
              "outlinewidth": 0,
              "ticks": ""
             }
            },
            "type": "scatterpolar"
           }
          ],
          "scatterpolargl": [
           {
            "marker": {
             "colorbar": {
              "outlinewidth": 0,
              "ticks": ""
             }
            },
            "type": "scatterpolargl"
           }
          ],
          "scatterternary": [
           {
            "marker": {
             "colorbar": {
              "outlinewidth": 0,
              "ticks": ""
             }
            },
            "type": "scatterternary"
           }
          ],
          "surface": [
           {
            "colorbar": {
             "outlinewidth": 0,
             "ticks": ""
            },
            "colorscale": [
             [
              0,
              "#0d0887"
             ],
             [
              0.1111111111111111,
              "#46039f"
             ],
             [
              0.2222222222222222,
              "#7201a8"
             ],
             [
              0.3333333333333333,
              "#9c179e"
             ],
             [
              0.4444444444444444,
              "#bd3786"
             ],
             [
              0.5555555555555556,
              "#d8576b"
             ],
             [
              0.6666666666666666,
              "#ed7953"
             ],
             [
              0.7777777777777778,
              "#fb9f3a"
             ],
             [
              0.8888888888888888,
              "#fdca26"
             ],
             [
              1,
              "#f0f921"
             ]
            ],
            "type": "surface"
           }
          ],
          "table": [
           {
            "cells": {
             "fill": {
              "color": "#EBF0F8"
             },
             "line": {
              "color": "white"
             }
            },
            "header": {
             "fill": {
              "color": "#C8D4E3"
             },
             "line": {
              "color": "white"
             }
            },
            "type": "table"
           }
          ]
         },
         "layout": {
          "annotationdefaults": {
           "arrowcolor": "#2a3f5f",
           "arrowhead": 0,
           "arrowwidth": 1
          },
          "autotypenumbers": "strict",
          "coloraxis": {
           "colorbar": {
            "outlinewidth": 0,
            "ticks": ""
           }
          },
          "colorscale": {
           "diverging": [
            [
             0,
             "#8e0152"
            ],
            [
             0.1,
             "#c51b7d"
            ],
            [
             0.2,
             "#de77ae"
            ],
            [
             0.3,
             "#f1b6da"
            ],
            [
             0.4,
             "#fde0ef"
            ],
            [
             0.5,
             "#f7f7f7"
            ],
            [
             0.6,
             "#e6f5d0"
            ],
            [
             0.7,
             "#b8e186"
            ],
            [
             0.8,
             "#7fbc41"
            ],
            [
             0.9,
             "#4d9221"
            ],
            [
             1,
             "#276419"
            ]
           ],
           "sequential": [
            [
             0,
             "#0d0887"
            ],
            [
             0.1111111111111111,
             "#46039f"
            ],
            [
             0.2222222222222222,
             "#7201a8"
            ],
            [
             0.3333333333333333,
             "#9c179e"
            ],
            [
             0.4444444444444444,
             "#bd3786"
            ],
            [
             0.5555555555555556,
             "#d8576b"
            ],
            [
             0.6666666666666666,
             "#ed7953"
            ],
            [
             0.7777777777777778,
             "#fb9f3a"
            ],
            [
             0.8888888888888888,
             "#fdca26"
            ],
            [
             1,
             "#f0f921"
            ]
           ],
           "sequentialminus": [
            [
             0,
             "#0d0887"
            ],
            [
             0.1111111111111111,
             "#46039f"
            ],
            [
             0.2222222222222222,
             "#7201a8"
            ],
            [
             0.3333333333333333,
             "#9c179e"
            ],
            [
             0.4444444444444444,
             "#bd3786"
            ],
            [
             0.5555555555555556,
             "#d8576b"
            ],
            [
             0.6666666666666666,
             "#ed7953"
            ],
            [
             0.7777777777777778,
             "#fb9f3a"
            ],
            [
             0.8888888888888888,
             "#fdca26"
            ],
            [
             1,
             "#f0f921"
            ]
           ]
          },
          "colorway": [
           "#636efa",
           "#EF553B",
           "#00cc96",
           "#ab63fa",
           "#FFA15A",
           "#19d3f3",
           "#FF6692",
           "#B6E880",
           "#FF97FF",
           "#FECB52"
          ],
          "font": {
           "color": "#2a3f5f"
          },
          "geo": {
           "bgcolor": "white",
           "lakecolor": "white",
           "landcolor": "#E5ECF6",
           "showlakes": true,
           "showland": true,
           "subunitcolor": "white"
          },
          "hoverlabel": {
           "align": "left"
          },
          "hovermode": "closest",
          "mapbox": {
           "style": "light"
          },
          "paper_bgcolor": "white",
          "plot_bgcolor": "#E5ECF6",
          "polar": {
           "angularaxis": {
            "gridcolor": "white",
            "linecolor": "white",
            "ticks": ""
           },
           "bgcolor": "#E5ECF6",
           "radialaxis": {
            "gridcolor": "white",
            "linecolor": "white",
            "ticks": ""
           }
          },
          "scene": {
           "xaxis": {
            "backgroundcolor": "#E5ECF6",
            "gridcolor": "white",
            "gridwidth": 2,
            "linecolor": "white",
            "showbackground": true,
            "ticks": "",
            "zerolinecolor": "white"
           },
           "yaxis": {
            "backgroundcolor": "#E5ECF6",
            "gridcolor": "white",
            "gridwidth": 2,
            "linecolor": "white",
            "showbackground": true,
            "ticks": "",
            "zerolinecolor": "white"
           },
           "zaxis": {
            "backgroundcolor": "#E5ECF6",
            "gridcolor": "white",
            "gridwidth": 2,
            "linecolor": "white",
            "showbackground": true,
            "ticks": "",
            "zerolinecolor": "white"
           }
          },
          "shapedefaults": {
           "line": {
            "color": "#2a3f5f"
           }
          },
          "ternary": {
           "aaxis": {
            "gridcolor": "white",
            "linecolor": "white",
            "ticks": ""
           },
           "baxis": {
            "gridcolor": "white",
            "linecolor": "white",
            "ticks": ""
           },
           "bgcolor": "#E5ECF6",
           "caxis": {
            "gridcolor": "white",
            "linecolor": "white",
            "ticks": ""
           }
          },
          "title": {
           "x": 0.05
          },
          "xaxis": {
           "automargin": true,
           "gridcolor": "white",
           "linecolor": "white",
           "ticks": "",
           "title": {
            "standoff": 15
           },
           "zerolinecolor": "white",
           "zerolinewidth": 2
          },
          "yaxis": {
           "automargin": true,
           "gridcolor": "white",
           "linecolor": "white",
           "ticks": "",
           "title": {
            "standoff": 15
           },
           "zerolinecolor": "white",
           "zerolinewidth": 2
          }
         }
        },
        "title": {
         "text": "Sample age"
        },
        "xaxis": {
         "anchor": "y",
         "domain": [
          0,
          1
         ],
         "title": {
          "text": "sample_age"
         }
        },
        "yaxis": {
         "anchor": "x",
         "domain": [
          0,
          1
         ],
         "title": {
          "text": "count"
         }
        }
       }
      },
      "text/html": [
       "<div>                            <div id=\"a8f55393-ef30-40e6-a710-efd6c89d431f\" class=\"plotly-graph-div\" style=\"height:525px; width:100%;\"></div>            <script type=\"text/javascript\">                require([\"plotly\"], function(Plotly) {                    window.PLOTLYENV=window.PLOTLYENV || {};                                    if (document.getElementById(\"a8f55393-ef30-40e6-a710-efd6c89d431f\")) {                    Plotly.newPlot(                        \"a8f55393-ef30-40e6-a710-efd6c89d431f\",                        [{\"alignmentgroup\": \"True\", \"bingroup\": \"x\", \"hovertemplate\": \"sample_age=%{x}<br>count=%{y}<extra></extra>\", \"legendgroup\": \"\", \"marker\": {\"color\": \"#636efa\"}, \"name\": \"\", \"offsetgroup\": \"\", \"orientation\": \"v\", \"showlegend\": false, \"type\": \"histogram\", \"x\": [900, 900, 900, 900, 900, 900, 900, 900, 900, 4700, 4700, 800, 800, 4400, 4400, 1000, 1000, 1000, 1000, 1000, 1000, 1000, 1000, 1000, 1000, 1000, 1000, 1000, 1000, 1000, 1000, 1000, 1000, 1000, 1000, 1000, 1000, 1000, 1000, 1000, 1000, 1000, 1000, 1000, 1000, 1000, 1000, 1000, 1000, 1000, 1000, 1000, 1000, 1000, 1000, 1000, 1000, 1000, 1000, 1000, 1000, 1000, 1000, 1000, 1000, 700, 700, 300, 1400, 1400, 300, 4700, 4700, 800, 800, 4400, 4400, 1000, 1000, 1000, 1000, 1000, 1000, 1000, 1000, 1000, 1000, 1000, 1000, 1000, 1000, 1000, 1000, 1000, 1000, 1000, 1000, 1000, 1000, 1000, 1000, 1000, 1000, 1000, 1000, 1000, 1000, 1000, 1000, 1000, 1000, 1000, 1000, 1000, 1000, 1000, 1000, 1000, 1000, 1000, 1000, 1000, 1000, 1000, 1000, 700, 700, 300, 1400, 1400, 300, 100, 100, 100, 100, 100, 100, 100, 100, 100, 100, 100, 100, 100, 100, 100, 100, 100, 100, 100, 200, 200, 200, 200, 200, 200, 200, 200, 200, 700, 700, 700, 700, 700, 41800, 41800, 41800, 41800, 41800, 41800, 41800, 41800, 41800, 41800, 41800, 41800, 41800, 41800, 41800, 41800, 100, 100, 100, 100, 100, 100, 100, 100, 100, 100, 100, 100, 100, 100, 100, 100, 100, 100, 100, 100, 100, 100, 100, 100, 100, 100, 100, 100, 100, 100, 100, 100, 100, 100, 100, 100, 100, 100, 100, 100, 100, 100, 100, 100, 100, 100, 100, 100, 100, 100, 100, 100, 100, 100, 100, 100, 100, 100, 100, 100, 100, 100, 100, 100, 100, 100, 100, 100, 100, 100, 100, 100, 100, 100, 100, 100, 100, 100, 100, 100, 100, 100, 100, 100, 100, 100, 100, 100, 100, 100, 100, 100, 100, 100, 100, 100, 100, 100, 100, 100, 100, 100, 100, 100, 100, 100, 100, 100, 100, 100, 100, 100, 100, 100, 100, 100, 100, 100, 100, 100, 100, 100, 100, 100, 100, 100, 100, 100, 100, 100, 100, 100, 100, 100, 100, 100, 100, 100, 100, 100, 100, 100, 100, 100, 100, 100, 100, 100, 100, 100, 100, 100, 100, 100, 100, 100, 100, 100, 100, 100, 100, 100, 100, 100, 100, 100, 100, 100, 100, 100, 100, 100, 100, 100, 100, 100, 100, 100, 100, 100, 100, 100, 100, 100, 100, 100, 100, 100, 100, 100, 100, 100, 400, 400, 400, 400, 400, 400, 400, 400, 400, 400, 400, 400, 400, 400, 400, 400, 100, 100, 100, 100, 100, 100, 100, 100, 100, 100, 100, 100, 100, 100, 100, 100, 100, 100, 100, 100, 100, 100, 100, 100, 100, 100, 100, 100, 100, 100, 100, 100, 100, 100, 100, 100, 100, 100, 100, 100, 100, 100, 100, 100, 100, 100, 100, 100, 100, 100, 100, 100, 100, 100, 100, 100, 100, 100, 400, 500, 400, 400, 900, 900, 1000, 600, 230, 230, 230, 230, 2700, 2700, 2700, 2700, 230, 230, 230, 230, 230, 230, 2700, 1300, 1300, 1300, 1300, 1300, 2000, 1400, 3600, 3600, 3600, 3400, 3400, 3400, 3400, 3000, 3000, 3000, 3000, 600, 600, 600, 600, 600, 600, 600, 600, 100, 100, 1000, 900, 1800, 1800, 2000, 1800, 1800, 1800, 1800, 1900, 1800, 1800, 1800, 1800, 1900, 1800, 1800, 1900, 1800, 1800, 1900, 1800, 1800, 1900, 1900, 1900, 1800, 1800, 1900, 1900, 1900, 1800, 1800, 1900, 1900, 1900, 1900, 1800, 1800, 1900, 1900, 1900, 1800, 1900, 1900, 1900, 1900, 1800, 1900, 1900, 1800, 1900, 1800, 1900, 1800, 1800, 1800, 1900, 1800, 1800, 1900, 1800, 1800, 900, 900, 900, 1000, 900, 900, 900, 900, 900, 900, 900, 900, 1000, 1000, 900, 900, 1000, 1700, 1700, 1700, 1700, 1700, 1700, 1700, 1700, 1700, 1700, 1700, 1700, 1700, 1700, 1700, 1700, 1700, 1700, 1700, 1700, 1700, 1700, 1700, 1700, 1700, 1700, 1700, 1000, 1000, 1000, 1000, 1000, 1000, 1000, 1000, 1000, 1000, 1000, 1000, 1000, 1000, 1000, 1000, 1000, 1000, 1000, 1000, 1000, 1000, 1000, 1000, 1000, 1000, 1000, 1000, 1000, 1000, 1000, 1000, 1000, 1000, 1000, 1000, 1000, 900, 900, 900, 900, 900, 900, 900, 900, 900, 900, 900, 900, 900, 900, 900, 900, 900, 900, 900, 900, 900], \"xaxis\": \"x\", \"yaxis\": \"y\"}],                        {\"barmode\": \"relative\", \"legend\": {\"tracegroupgap\": 0}, \"template\": {\"data\": {\"bar\": [{\"error_x\": {\"color\": \"#2a3f5f\"}, \"error_y\": {\"color\": \"#2a3f5f\"}, \"marker\": {\"line\": {\"color\": \"#E5ECF6\", \"width\": 0.5}}, \"type\": \"bar\"}], \"barpolar\": [{\"marker\": {\"line\": {\"color\": \"#E5ECF6\", \"width\": 0.5}}, \"type\": \"barpolar\"}], \"carpet\": [{\"aaxis\": {\"endlinecolor\": \"#2a3f5f\", \"gridcolor\": \"white\", \"linecolor\": \"white\", \"minorgridcolor\": \"white\", \"startlinecolor\": \"#2a3f5f\"}, \"baxis\": {\"endlinecolor\": \"#2a3f5f\", \"gridcolor\": \"white\", \"linecolor\": \"white\", \"minorgridcolor\": \"white\", \"startlinecolor\": \"#2a3f5f\"}, \"type\": \"carpet\"}], \"choropleth\": [{\"colorbar\": {\"outlinewidth\": 0, \"ticks\": \"\"}, \"type\": \"choropleth\"}], \"contour\": [{\"colorbar\": {\"outlinewidth\": 0, \"ticks\": \"\"}, \"colorscale\": [[0.0, \"#0d0887\"], [0.1111111111111111, \"#46039f\"], [0.2222222222222222, \"#7201a8\"], [0.3333333333333333, \"#9c179e\"], [0.4444444444444444, \"#bd3786\"], [0.5555555555555556, \"#d8576b\"], [0.6666666666666666, \"#ed7953\"], [0.7777777777777778, \"#fb9f3a\"], [0.8888888888888888, \"#fdca26\"], [1.0, \"#f0f921\"]], \"type\": \"contour\"}], \"contourcarpet\": [{\"colorbar\": {\"outlinewidth\": 0, \"ticks\": \"\"}, \"type\": \"contourcarpet\"}], \"heatmap\": [{\"colorbar\": {\"outlinewidth\": 0, \"ticks\": \"\"}, \"colorscale\": [[0.0, \"#0d0887\"], [0.1111111111111111, \"#46039f\"], [0.2222222222222222, \"#7201a8\"], [0.3333333333333333, \"#9c179e\"], [0.4444444444444444, \"#bd3786\"], [0.5555555555555556, \"#d8576b\"], [0.6666666666666666, \"#ed7953\"], [0.7777777777777778, \"#fb9f3a\"], [0.8888888888888888, \"#fdca26\"], [1.0, \"#f0f921\"]], \"type\": \"heatmap\"}], \"heatmapgl\": [{\"colorbar\": {\"outlinewidth\": 0, \"ticks\": \"\"}, \"colorscale\": [[0.0, \"#0d0887\"], [0.1111111111111111, \"#46039f\"], [0.2222222222222222, \"#7201a8\"], [0.3333333333333333, \"#9c179e\"], [0.4444444444444444, \"#bd3786\"], [0.5555555555555556, \"#d8576b\"], [0.6666666666666666, \"#ed7953\"], [0.7777777777777778, \"#fb9f3a\"], [0.8888888888888888, \"#fdca26\"], [1.0, \"#f0f921\"]], \"type\": \"heatmapgl\"}], \"histogram\": [{\"marker\": {\"colorbar\": {\"outlinewidth\": 0, \"ticks\": \"\"}}, \"type\": \"histogram\"}], \"histogram2d\": [{\"colorbar\": {\"outlinewidth\": 0, \"ticks\": \"\"}, \"colorscale\": [[0.0, \"#0d0887\"], [0.1111111111111111, \"#46039f\"], [0.2222222222222222, \"#7201a8\"], [0.3333333333333333, \"#9c179e\"], [0.4444444444444444, \"#bd3786\"], [0.5555555555555556, \"#d8576b\"], [0.6666666666666666, \"#ed7953\"], [0.7777777777777778, \"#fb9f3a\"], [0.8888888888888888, \"#fdca26\"], [1.0, \"#f0f921\"]], \"type\": \"histogram2d\"}], \"histogram2dcontour\": [{\"colorbar\": {\"outlinewidth\": 0, \"ticks\": \"\"}, \"colorscale\": [[0.0, \"#0d0887\"], [0.1111111111111111, \"#46039f\"], [0.2222222222222222, \"#7201a8\"], [0.3333333333333333, \"#9c179e\"], [0.4444444444444444, \"#bd3786\"], [0.5555555555555556, \"#d8576b\"], [0.6666666666666666, \"#ed7953\"], [0.7777777777777778, \"#fb9f3a\"], [0.8888888888888888, \"#fdca26\"], [1.0, \"#f0f921\"]], \"type\": \"histogram2dcontour\"}], \"mesh3d\": [{\"colorbar\": {\"outlinewidth\": 0, \"ticks\": \"\"}, \"type\": \"mesh3d\"}], \"parcoords\": [{\"line\": {\"colorbar\": {\"outlinewidth\": 0, \"ticks\": \"\"}}, \"type\": \"parcoords\"}], \"pie\": [{\"automargin\": true, \"type\": \"pie\"}], \"scatter\": [{\"marker\": {\"colorbar\": {\"outlinewidth\": 0, \"ticks\": \"\"}}, \"type\": \"scatter\"}], \"scatter3d\": [{\"line\": {\"colorbar\": {\"outlinewidth\": 0, \"ticks\": \"\"}}, \"marker\": {\"colorbar\": {\"outlinewidth\": 0, \"ticks\": \"\"}}, \"type\": \"scatter3d\"}], \"scattercarpet\": [{\"marker\": {\"colorbar\": {\"outlinewidth\": 0, \"ticks\": \"\"}}, \"type\": \"scattercarpet\"}], \"scattergeo\": [{\"marker\": {\"colorbar\": {\"outlinewidth\": 0, \"ticks\": \"\"}}, \"type\": \"scattergeo\"}], \"scattergl\": [{\"marker\": {\"colorbar\": {\"outlinewidth\": 0, \"ticks\": \"\"}}, \"type\": \"scattergl\"}], \"scattermapbox\": [{\"marker\": {\"colorbar\": {\"outlinewidth\": 0, \"ticks\": \"\"}}, \"type\": \"scattermapbox\"}], \"scatterpolar\": [{\"marker\": {\"colorbar\": {\"outlinewidth\": 0, \"ticks\": \"\"}}, \"type\": \"scatterpolar\"}], \"scatterpolargl\": [{\"marker\": {\"colorbar\": {\"outlinewidth\": 0, \"ticks\": \"\"}}, \"type\": \"scatterpolargl\"}], \"scatterternary\": [{\"marker\": {\"colorbar\": {\"outlinewidth\": 0, \"ticks\": \"\"}}, \"type\": \"scatterternary\"}], \"surface\": [{\"colorbar\": {\"outlinewidth\": 0, \"ticks\": \"\"}, \"colorscale\": [[0.0, \"#0d0887\"], [0.1111111111111111, \"#46039f\"], [0.2222222222222222, \"#7201a8\"], [0.3333333333333333, \"#9c179e\"], [0.4444444444444444, \"#bd3786\"], [0.5555555555555556, \"#d8576b\"], [0.6666666666666666, \"#ed7953\"], [0.7777777777777778, \"#fb9f3a\"], [0.8888888888888888, \"#fdca26\"], [1.0, \"#f0f921\"]], \"type\": \"surface\"}], \"table\": [{\"cells\": {\"fill\": {\"color\": \"#EBF0F8\"}, \"line\": {\"color\": \"white\"}}, \"header\": {\"fill\": {\"color\": \"#C8D4E3\"}, \"line\": {\"color\": \"white\"}}, \"type\": \"table\"}]}, \"layout\": {\"annotationdefaults\": {\"arrowcolor\": \"#2a3f5f\", \"arrowhead\": 0, \"arrowwidth\": 1}, \"autotypenumbers\": \"strict\", \"coloraxis\": {\"colorbar\": {\"outlinewidth\": 0, \"ticks\": \"\"}}, \"colorscale\": {\"diverging\": [[0, \"#8e0152\"], [0.1, \"#c51b7d\"], [0.2, \"#de77ae\"], [0.3, \"#f1b6da\"], [0.4, \"#fde0ef\"], [0.5, \"#f7f7f7\"], [0.6, \"#e6f5d0\"], [0.7, \"#b8e186\"], [0.8, \"#7fbc41\"], [0.9, \"#4d9221\"], [1, \"#276419\"]], \"sequential\": [[0.0, \"#0d0887\"], [0.1111111111111111, \"#46039f\"], [0.2222222222222222, \"#7201a8\"], [0.3333333333333333, \"#9c179e\"], [0.4444444444444444, \"#bd3786\"], [0.5555555555555556, \"#d8576b\"], [0.6666666666666666, \"#ed7953\"], [0.7777777777777778, \"#fb9f3a\"], [0.8888888888888888, \"#fdca26\"], [1.0, \"#f0f921\"]], \"sequentialminus\": [[0.0, \"#0d0887\"], [0.1111111111111111, \"#46039f\"], [0.2222222222222222, \"#7201a8\"], [0.3333333333333333, \"#9c179e\"], [0.4444444444444444, \"#bd3786\"], [0.5555555555555556, \"#d8576b\"], [0.6666666666666666, \"#ed7953\"], [0.7777777777777778, \"#fb9f3a\"], [0.8888888888888888, \"#fdca26\"], [1.0, \"#f0f921\"]]}, \"colorway\": [\"#636efa\", \"#EF553B\", \"#00cc96\", \"#ab63fa\", \"#FFA15A\", \"#19d3f3\", \"#FF6692\", \"#B6E880\", \"#FF97FF\", \"#FECB52\"], \"font\": {\"color\": \"#2a3f5f\"}, \"geo\": {\"bgcolor\": \"white\", \"lakecolor\": \"white\", \"landcolor\": \"#E5ECF6\", \"showlakes\": true, \"showland\": true, \"subunitcolor\": \"white\"}, \"hoverlabel\": {\"align\": \"left\"}, \"hovermode\": \"closest\", \"mapbox\": {\"style\": \"light\"}, \"paper_bgcolor\": \"white\", \"plot_bgcolor\": \"#E5ECF6\", \"polar\": {\"angularaxis\": {\"gridcolor\": \"white\", \"linecolor\": \"white\", \"ticks\": \"\"}, \"bgcolor\": \"#E5ECF6\", \"radialaxis\": {\"gridcolor\": \"white\", \"linecolor\": \"white\", \"ticks\": \"\"}}, \"scene\": {\"xaxis\": {\"backgroundcolor\": \"#E5ECF6\", \"gridcolor\": \"white\", \"gridwidth\": 2, \"linecolor\": \"white\", \"showbackground\": true, \"ticks\": \"\", \"zerolinecolor\": \"white\"}, \"yaxis\": {\"backgroundcolor\": \"#E5ECF6\", \"gridcolor\": \"white\", \"gridwidth\": 2, \"linecolor\": \"white\", \"showbackground\": true, \"ticks\": \"\", \"zerolinecolor\": \"white\"}, \"zaxis\": {\"backgroundcolor\": \"#E5ECF6\", \"gridcolor\": \"white\", \"gridwidth\": 2, \"linecolor\": \"white\", \"showbackground\": true, \"ticks\": \"\", \"zerolinecolor\": \"white\"}}, \"shapedefaults\": {\"line\": {\"color\": \"#2a3f5f\"}}, \"ternary\": {\"aaxis\": {\"gridcolor\": \"white\", \"linecolor\": \"white\", \"ticks\": \"\"}, \"baxis\": {\"gridcolor\": \"white\", \"linecolor\": \"white\", \"ticks\": \"\"}, \"bgcolor\": \"#E5ECF6\", \"caxis\": {\"gridcolor\": \"white\", \"linecolor\": \"white\", \"ticks\": \"\"}}, \"title\": {\"x\": 0.05}, \"xaxis\": {\"automargin\": true, \"gridcolor\": \"white\", \"linecolor\": \"white\", \"ticks\": \"\", \"title\": {\"standoff\": 15}, \"zerolinecolor\": \"white\", \"zerolinewidth\": 2}, \"yaxis\": {\"automargin\": true, \"gridcolor\": \"white\", \"linecolor\": \"white\", \"ticks\": \"\", \"title\": {\"standoff\": 15}, \"zerolinecolor\": \"white\", \"zerolinewidth\": 2}}}, \"title\": {\"text\": \"Sample age\"}, \"xaxis\": {\"anchor\": \"y\", \"domain\": [0.0, 1.0], \"title\": {\"text\": \"sample_age\"}}, \"yaxis\": {\"anchor\": \"x\", \"domain\": [0.0, 1.0], \"title\": {\"text\": \"count\"}}},                        {\"responsive\": true}                    ).then(function(){\n",
       "                            \n",
       "var gd = document.getElementById('a8f55393-ef30-40e6-a710-efd6c89d431f');\n",
       "var x = new MutationObserver(function (mutations, observer) {{\n",
       "        var display = window.getComputedStyle(gd).display;\n",
       "        if (!display || display === 'none') {{\n",
       "            console.log([gd, 'removed!']);\n",
       "            Plotly.purge(gd);\n",
       "            observer.disconnect();\n",
       "        }}\n",
       "}});\n",
       "\n",
       "// Listen for the removal of the full notebook cells\n",
       "var notebookContainer = gd.closest('#notebook-container');\n",
       "if (notebookContainer) {{\n",
       "    x.observe(notebookContainer, {childList: true});\n",
       "}}\n",
       "\n",
       "// Listen for the clearing of the current output cell\n",
       "var outputEl = gd.closest('.output');\n",
       "if (outputEl) {{\n",
       "    x.observe(outputEl, {childList: true});\n",
       "}}\n",
       "\n",
       "                        })                };                });            </script>        </div>"
      ]
     },
     "metadata": {},
     "output_type": "display_data"
    }
   ],
   "source": [
    "fig = px.histogram(aMetagenomes_metadata, x=\"sample_age\",title=\"Sample age\")\n",
    "fig.show()"
   ]
  },
  {
   "cell_type": "code",
   "execution_count": 51,
   "metadata": {},
   "outputs": [
    {
     "data": {
      "application/vnd.plotly.v1+json": {
       "config": {
        "plotlyServerURL": "https://plot.ly"
       },
       "data": [
        {
         "alignmentgroup": "True",
         "bingroup": "x",
         "hovertemplate": "sample_host=%{x}<br>count=%{y}<extra></extra>",
         "legendgroup": "",
         "marker": {
          "color": "#636efa"
         },
         "name": "",
         "offsetgroup": "",
         "orientation": "v",
         "showlegend": false,
         "type": "histogram",
         "x": [
          "Homo sapiens",
          "Homo sapiens",
          "Homo sapiens",
          "Homo sapiens",
          "Homo sapiens",
          "Homo sapiens",
          "Homo sapiens",
          "Homo sapiens",
          "Homo sapiens",
          "Homo sapiens",
          "Homo sapiens",
          "Homo sapiens",
          "Homo sapiens",
          "Homo sapiens",
          "Homo sapiens",
          "Homo sapiens",
          "Homo sapiens",
          "Homo sapiens",
          "Homo sapiens",
          "Homo sapiens",
          "Homo sapiens",
          "Homo sapiens",
          "Homo sapiens",
          "Homo sapiens",
          "Homo sapiens",
          "Homo sapiens",
          "Homo sapiens",
          "Homo sapiens",
          "Homo sapiens",
          "Homo sapiens",
          "Homo sapiens",
          "Homo sapiens",
          "Homo sapiens",
          "Homo sapiens",
          "Homo sapiens",
          "Homo sapiens",
          "Homo sapiens",
          "Homo sapiens",
          "Homo sapiens",
          "Homo sapiens",
          "Homo sapiens",
          "Homo sapiens",
          "Homo sapiens",
          "Homo sapiens",
          "Homo sapiens",
          "Homo sapiens",
          "Homo sapiens",
          "Homo sapiens",
          "Homo sapiens",
          "Homo sapiens",
          "Homo sapiens",
          "Homo sapiens",
          "Homo sapiens",
          "Homo sapiens",
          "Homo sapiens",
          "Homo sapiens",
          "Homo sapiens",
          "Homo sapiens",
          "Homo sapiens",
          "Homo sapiens",
          "Homo sapiens",
          "Homo sapiens",
          "Homo sapiens",
          "Homo sapiens",
          "Homo sapiens",
          "Homo sapiens",
          "Homo sapiens",
          "Homo sapiens",
          "Homo sapiens",
          "Homo sapiens",
          "Homo sapiens",
          "Homo sapiens",
          "Homo sapiens",
          "Homo sapiens",
          "Homo sapiens",
          "Homo sapiens",
          "Homo sapiens",
          "Homo sapiens",
          "Homo sapiens",
          "Homo sapiens",
          "Homo sapiens",
          "Homo sapiens",
          "Homo sapiens",
          "Homo sapiens",
          "Homo sapiens",
          "Homo sapiens",
          "Homo sapiens",
          "Homo sapiens",
          "Homo sapiens",
          "Homo sapiens",
          "Homo sapiens",
          "Homo sapiens",
          "Homo sapiens",
          "Homo sapiens",
          "Homo sapiens",
          "Homo sapiens",
          "Homo sapiens",
          "Homo sapiens",
          "Homo sapiens",
          "Homo sapiens",
          "Homo sapiens",
          "Homo sapiens",
          "Homo sapiens",
          "Homo sapiens",
          "Homo sapiens",
          "Homo sapiens",
          "Homo sapiens",
          "Homo sapiens",
          "Homo sapiens",
          "Homo sapiens",
          "Homo sapiens",
          "Homo sapiens",
          "Homo sapiens",
          "Homo sapiens",
          "Homo sapiens",
          "Homo sapiens",
          "Homo sapiens",
          "Homo sapiens",
          "Homo sapiens",
          "Homo sapiens",
          "Homo sapiens",
          "Homo sapiens",
          "Homo sapiens",
          "Homo sapiens",
          "Homo sapiens",
          "Homo sapiens",
          "Homo sapiens",
          "Homo sapiens",
          "Homo sapiens",
          "Homo sapiens",
          "Homo sapiens",
          "Pan troglodytes schweinfurthii",
          "Pan troglodytes schweinfurthii",
          "Pan troglodytes schweinfurthii",
          "Pan troglodytes schweinfurthii",
          "Pan troglodytes schweinfurthii",
          "Pan troglodytes schweinfurthii",
          "Pan troglodytes schweinfurthii",
          "Pan troglodytes schweinfurthii",
          "Pan troglodytes schweinfurthii",
          "Pan troglodytes schweinfurthii",
          "Pan troglodytes schweinfurthii",
          "Pan troglodytes schweinfurthii",
          "Pan troglodytes schweinfurthii",
          "Pan troglodytes schweinfurthii",
          "Pan troglodytes schweinfurthii",
          "Pan troglodytes schweinfurthii",
          "Pan troglodytes schweinfurthii",
          "Pan troglodytes schweinfurthii",
          "Pan troglodytes schweinfurthii",
          "Homo sapiens",
          "Homo sapiens",
          "Homo sapiens",
          "Homo sapiens",
          "Homo sapiens",
          "Homo sapiens",
          "Homo sapiens",
          "Homo sapiens",
          "Homo sapiens",
          "Homo sapiens",
          "Homo sapiens",
          "Homo sapiens",
          "Homo sapiens",
          "Homo sapiens",
          "Mammuthus primigenius",
          "Mammuthus primigenius",
          "Mammuthus primigenius",
          "Mammuthus primigenius",
          "Mammuthus primigenius",
          "Mammuthus primigenius",
          "Mammuthus primigenius",
          "Mammuthus primigenius",
          "Mammuthus primigenius",
          "Mammuthus primigenius",
          "Mammuthus primigenius",
          "Mammuthus primigenius",
          "Mammuthus primigenius",
          "Mammuthus primigenius",
          "Mammuthus primigenius",
          "Mammuthus primigenius",
          "Conepatus chinga",
          "Conepatus chinga",
          "Conepatus chinga",
          "Conepatus chinga",
          "Conepatus chinga",
          "Conepatus chinga",
          "Conepatus chinga",
          "Conepatus chinga",
          "Conepatus chinga",
          "Conepatus chinga",
          "Conepatus chinga",
          "Conepatus chinga",
          "Conepatus chinga",
          "Conepatus chinga",
          "Conepatus chinga",
          "Conepatus chinga",
          "Conepatus chinga",
          "Conepatus chinga",
          "Conepatus chinga",
          "Conepatus chinga",
          "Conepatus chinga",
          "Conepatus chinga",
          "Conepatus chinga",
          "Conepatus chinga",
          "Conepatus chinga",
          "Conepatus chinga",
          "Conepatus chinga",
          "Conepatus chinga",
          "Conepatus chinga",
          "Conepatus chinga",
          "Conepatus chinga",
          "Conepatus chinga",
          "Conepatus chinga",
          "Conepatus chinga",
          "Conepatus chinga",
          "Conepatus chinga",
          "Conepatus chinga",
          "Conepatus chinga",
          "Conepatus chinga",
          "Conepatus chinga",
          "Conepatus chinga",
          "Conepatus chinga",
          "Conepatus chinga",
          "Conepatus chinga",
          "Conepatus chinga",
          "Conepatus chinga",
          "Conepatus chinga",
          "Conepatus chinga",
          "Conepatus chinga",
          "Conepatus chinga",
          "Conepatus chinga",
          "Conepatus chinga",
          "Conepatus chinga",
          "Conepatus chinga",
          "Conepatus chinga",
          "Conepatus chinga",
          "Conepatus chinga",
          "Conepatus chinga",
          "Conepatus chinga",
          "Conepatus chinga",
          "Conepatus chinga",
          "Conepatus chinga",
          "Conepatus chinga",
          "Conepatus chinga",
          "Gerbilliscus boehmi",
          "Gerbilliscus boehmi",
          "Gerbilliscus boehmi",
          "Gerbilliscus boehmi",
          "Gerbilliscus boehmi",
          "Gerbilliscus boehmi",
          "Gerbilliscus boehmi",
          "Gerbilliscus boehmi",
          "Gerbilliscus boehmi",
          "Gerbilliscus boehmi",
          "Gerbilliscus boehmi",
          "Gerbilliscus boehmi",
          "Gerbilliscus boehmi",
          "Gerbilliscus boehmi",
          "Gerbilliscus boehmi",
          "Gerbilliscus boehmi",
          "Gerbilliscus boehmi",
          "Gerbilliscus boehmi",
          "Gerbilliscus boehmi",
          "Gerbilliscus boehmi",
          "Gerbilliscus boehmi",
          "Gerbilliscus boehmi",
          "Gerbilliscus boehmi",
          "Gerbilliscus boehmi",
          "Gerbilliscus boehmi",
          "Gerbilliscus boehmi",
          "Gerbilliscus boehmi",
          "Gerbilliscus boehmi",
          "Gerbilliscus boehmi",
          "Gerbilliscus boehmi",
          "Gerbilliscus boehmi",
          "Gerbilliscus boehmi",
          "Gerbilliscus boehmi",
          "Gerbilliscus boehmi",
          "Gerbilliscus boehmi",
          "Gerbilliscus boehmi",
          "Gerbilliscus boehmi",
          "Gerbilliscus boehmi",
          "Gerbilliscus boehmi",
          "Gerbilliscus boehmi",
          "Gerbilliscus boehmi",
          "Gerbilliscus boehmi",
          "Gerbilliscus boehmi",
          "Gerbilliscus boehmi",
          "Gerbilliscus boehmi",
          "Gerbilliscus boehmi",
          "Gerbilliscus boehmi",
          "Gerbilliscus boehmi",
          "Gerbilliscus boehmi",
          "Gerbilliscus boehmi",
          "Gerbilliscus boehmi",
          "Gerbilliscus boehmi",
          "Gerbilliscus boehmi",
          "Gerbilliscus boehmi",
          "Gerbilliscus boehmi",
          "Gerbilliscus boehmi",
          "Gerbilliscus boehmi",
          "Gerbilliscus boehmi",
          "Gerbilliscus boehmi",
          "Gerbilliscus boehmi",
          "Gerbilliscus boehmi",
          "Gerbilliscus boehmi",
          "Gerbilliscus boehmi",
          "Gerbilliscus boehmi",
          "Strigocuscus celebensis",
          "Strigocuscus celebensis",
          "Strigocuscus celebensis",
          "Strigocuscus celebensis",
          "Strigocuscus celebensis",
          "Strigocuscus celebensis",
          "Strigocuscus celebensis",
          "Strigocuscus celebensis",
          "Strigocuscus celebensis",
          "Strigocuscus celebensis",
          "Strigocuscus celebensis",
          "Strigocuscus celebensis",
          "Strigocuscus celebensis",
          "Strigocuscus celebensis",
          "Strigocuscus celebensis",
          "Strigocuscus celebensis",
          "Strigocuscus celebensis",
          "Strigocuscus celebensis",
          "Strigocuscus celebensis",
          "Strigocuscus celebensis",
          "Strigocuscus celebensis",
          "Strigocuscus celebensis",
          "Strigocuscus celebensis",
          "Strigocuscus celebensis",
          "Strigocuscus celebensis",
          "Strigocuscus celebensis",
          "Strigocuscus celebensis",
          "Strigocuscus celebensis",
          "Strigocuscus celebensis",
          "Strigocuscus celebensis",
          "Strigocuscus celebensis",
          "Strigocuscus celebensis",
          "Strigocuscus celebensis",
          "Strigocuscus celebensis",
          "Strigocuscus celebensis",
          "Strigocuscus celebensis",
          "Strigocuscus celebensis",
          "Strigocuscus celebensis",
          "Strigocuscus celebensis",
          "Strigocuscus celebensis",
          "Strigocuscus celebensis",
          "Strigocuscus celebensis",
          "Strigocuscus celebensis",
          "Strigocuscus celebensis",
          "Strigocuscus celebensis",
          "Strigocuscus celebensis",
          "Strigocuscus celebensis",
          "Strigocuscus celebensis",
          "Strigocuscus celebensis",
          "Strigocuscus celebensis",
          "Strigocuscus celebensis",
          "Strigocuscus celebensis",
          "Strigocuscus celebensis",
          "Strigocuscus celebensis",
          "Strigocuscus celebensis",
          "Strigocuscus celebensis",
          "Strigocuscus celebensis",
          "Strigocuscus celebensis",
          "Strigocuscus celebensis",
          "Strigocuscus celebensis",
          "Strigocuscus celebensis",
          "Strigocuscus celebensis",
          "Strigocuscus celebensis",
          "Strigocuscus celebensis",
          "Homo sapiens",
          "Homo sapiens",
          "Homo sapiens",
          "Homo sapiens",
          "Homo sapiens",
          "Homo sapiens",
          "Homo sapiens",
          "Homo sapiens",
          "Homo sapiens",
          "Homo sapiens",
          "Homo sapiens",
          "Homo sapiens",
          "Homo sapiens",
          "Homo sapiens",
          "Homo sapiens",
          "Homo sapiens",
          "Ambrosia artemisiifolia",
          "Ambrosia artemisiifolia",
          "Ambrosia artemisiifolia",
          "Ambrosia artemisiifolia",
          "Ambrosia artemisiifolia",
          "Ambrosia artemisiifolia",
          "Ambrosia artemisiifolia",
          "Ambrosia artemisiifolia",
          "Ambrosia artemisiifolia",
          "Ambrosia artemisiifolia",
          "Ambrosia artemisiifolia",
          "Ambrosia artemisiifolia",
          "Ambrosia artemisiifolia",
          "Ambrosia artemisiifolia",
          "Ambrosia artemisiifolia",
          "Ambrosia artemisiifolia",
          "Ambrosia artemisiifolia",
          "Ambrosia artemisiifolia",
          "Ambrosia artemisiifolia",
          "Ambrosia artemisiifolia",
          "Ambrosia artemisiifolia",
          "Ambrosia artemisiifolia",
          "Ambrosia artemisiifolia",
          "Ambrosia artemisiifolia",
          "Arabidopsis thaliana",
          "Arabidopsis thaliana",
          "Arabidopsis thaliana",
          "Arabidopsis thaliana",
          "Arabidopsis thaliana",
          "Arabidopsis thaliana",
          "Arabidopsis thaliana",
          "Arabidopsis thaliana",
          "Arabidopsis thaliana",
          "Arabidopsis thaliana",
          "Arabidopsis thaliana",
          "Arabidopsis thaliana",
          "Arabidopsis thaliana",
          "Arabidopsis thaliana",
          "Arabidopsis thaliana",
          "Arabidopsis thaliana",
          "Arabidopsis thaliana",
          "Arabidopsis thaliana",
          "Arabidopsis thaliana",
          "Arabidopsis thaliana",
          "Arabidopsis thaliana",
          "Arabidopsis thaliana",
          "Arabidopsis thaliana",
          "Arabidopsis thaliana",
          "Arabidopsis thaliana",
          "Arabidopsis thaliana",
          "Arabidopsis thaliana",
          "Arabidopsis thaliana",
          "Arabidopsis thaliana",
          "Arabidopsis thaliana",
          "Arabidopsis thaliana",
          "Arabidopsis thaliana",
          "Arabidopsis thaliana",
          "Arabidopsis thaliana",
          "Homo sapiens",
          "Homo sapiens",
          "Homo sapiens",
          "Homo sapiens",
          "Homo sapiens",
          "Homo sapiens",
          "Homo sapiens",
          "Homo sapiens",
          "Homo sapiens",
          "Homo sapiens",
          "Homo sapiens",
          "Homo sapiens",
          "Homo sapiens",
          "Homo sapiens",
          "Homo sapiens",
          "Homo sapiens",
          "Homo sapiens",
          "Homo sapiens",
          "Homo sapiens",
          "Homo sapiens",
          "Homo sapiens",
          "Homo sapiens",
          "Homo sapiens",
          "Homo sapiens",
          "Homo sapiens",
          "Homo sapiens",
          "Homo sapiens",
          "Homo sapiens",
          "Homo sapiens",
          "Homo sapiens",
          "Homo sapiens",
          "Homo sapiens",
          "Homo sapiens",
          "Homo sapiens",
          "Homo sapiens",
          "Homo sapiens",
          "Homo sapiens",
          "Homo sapiens",
          "Homo sapiens",
          "Homo sapiens",
          "Homo sapiens",
          "Homo sapiens",
          "Homo sapiens",
          "Homo sapiens",
          "Homo sapiens",
          "Homo sapiens",
          "Homo sapiens",
          "Homo sapiens",
          "Homo sapiens",
          "Homo sapiens",
          "Homo sapiens",
          "Homo sapiens",
          "Homo sapiens",
          "Homo sapiens",
          "Homo sapiens",
          "Homo sapiens",
          "Homo sapiens",
          "Homo sapiens",
          "Homo sapiens",
          "Homo sapiens",
          "Homo sapiens",
          "Homo sapiens",
          "Homo sapiens",
          "Homo sapiens",
          "Homo sapiens",
          "Homo sapiens",
          "Homo sapiens",
          "Homo sapiens",
          "Homo sapiens",
          "Homo sapiens",
          "Homo sapiens",
          "Homo sapiens",
          "Homo sapiens",
          "Homo sapiens",
          "Homo sapiens",
          "Homo sapiens",
          "Homo sapiens",
          "Homo sapiens",
          "Homo sapiens",
          "Homo sapiens",
          "Homo sapiens",
          "Homo sapiens",
          "Homo sapiens",
          "Homo sapiens",
          "Homo sapiens",
          "Homo sapiens",
          "Homo sapiens",
          "Homo sapiens",
          "Homo sapiens",
          "Homo sapiens",
          "Homo sapiens",
          "Homo sapiens",
          "Homo sapiens",
          "Homo sapiens",
          "Homo sapiens",
          "Homo sapiens",
          "Homo sapiens",
          "Homo sapiens",
          "Homo sapiens",
          "Homo sapiens",
          "Homo sapiens",
          "Homo sapiens",
          "Homo sapiens",
          "Homo sapiens",
          "Homo sapiens",
          "Homo sapiens",
          "Homo sapiens",
          "Homo sapiens",
          "Homo sapiens",
          "Homo sapiens",
          "Homo sapiens",
          "Homo sapiens",
          "Homo sapiens",
          "Homo sapiens",
          "Homo sapiens",
          "Homo sapiens",
          "Homo sapiens",
          "Homo sapiens",
          "Homo sapiens",
          "Homo sapiens",
          "Homo sapiens",
          "Homo sapiens",
          "Homo sapiens",
          "Homo sapiens",
          "Homo sapiens",
          "Homo sapiens",
          "Homo sapiens",
          "Homo sapiens",
          "Homo sapiens",
          "Homo sapiens",
          "Homo sapiens",
          "Homo sapiens",
          "Homo sapiens",
          "Homo sapiens",
          "Homo sapiens",
          "Homo sapiens",
          "Homo sapiens",
          "Homo sapiens",
          "Homo sapiens",
          "Homo sapiens",
          "Homo sapiens",
          "Homo sapiens",
          "Homo sapiens",
          "Homo sapiens",
          "Homo sapiens",
          "Homo sapiens",
          "Homo sapiens",
          "Homo sapiens",
          "Homo sapiens",
          "Homo sapiens",
          "Homo sapiens",
          "Homo sapiens",
          "Homo sapiens",
          "Homo sapiens",
          "Homo sapiens",
          "Homo sapiens",
          "Homo sapiens",
          "Homo sapiens",
          "Homo sapiens",
          "Homo sapiens",
          "Homo sapiens",
          "Homo sapiens",
          "Homo sapiens",
          "Homo sapiens",
          "Homo sapiens",
          "Homo sapiens",
          "Homo sapiens",
          "Homo sapiens",
          "Homo sapiens",
          "Homo sapiens",
          "Homo sapiens",
          "Homo sapiens",
          "Homo sapiens",
          "Homo sapiens",
          "Homo sapiens",
          "Homo sapiens",
          "Homo sapiens",
          "Homo sapiens",
          "Homo sapiens",
          "Homo sapiens",
          "Homo sapiens",
          "Homo sapiens",
          "Homo sapiens",
          "Homo sapiens",
          "Homo sapiens",
          "Homo sapiens",
          "Homo sapiens",
          "Homo sapiens",
          "Homo sapiens",
          "Homo sapiens",
          "Homo sapiens",
          "Homo sapiens",
          "Homo sapiens",
          "Homo sapiens",
          "Homo sapiens",
          "Homo sapiens",
          "Homo sapiens",
          "Homo sapiens",
          "Homo sapiens",
          "Homo sapiens",
          "Homo sapiens",
          "Homo sapiens",
          "Homo sapiens",
          "Homo sapiens",
          "Homo sapiens",
          "Homo sapiens",
          "Homo sapiens",
          "Homo sapiens",
          "Homo sapiens",
          "Homo sapiens",
          "Homo sapiens",
          "Homo sapiens",
          "Homo sapiens",
          "Homo sapiens",
          "Homo sapiens",
          "Homo sapiens"
         ],
         "xaxis": "x",
         "yaxis": "y"
        }
       ],
       "layout": {
        "barmode": "relative",
        "legend": {
         "tracegroupgap": 0
        },
        "template": {
         "data": {
          "bar": [
           {
            "error_x": {
             "color": "#2a3f5f"
            },
            "error_y": {
             "color": "#2a3f5f"
            },
            "marker": {
             "line": {
              "color": "#E5ECF6",
              "width": 0.5
             }
            },
            "type": "bar"
           }
          ],
          "barpolar": [
           {
            "marker": {
             "line": {
              "color": "#E5ECF6",
              "width": 0.5
             }
            },
            "type": "barpolar"
           }
          ],
          "carpet": [
           {
            "aaxis": {
             "endlinecolor": "#2a3f5f",
             "gridcolor": "white",
             "linecolor": "white",
             "minorgridcolor": "white",
             "startlinecolor": "#2a3f5f"
            },
            "baxis": {
             "endlinecolor": "#2a3f5f",
             "gridcolor": "white",
             "linecolor": "white",
             "minorgridcolor": "white",
             "startlinecolor": "#2a3f5f"
            },
            "type": "carpet"
           }
          ],
          "choropleth": [
           {
            "colorbar": {
             "outlinewidth": 0,
             "ticks": ""
            },
            "type": "choropleth"
           }
          ],
          "contour": [
           {
            "colorbar": {
             "outlinewidth": 0,
             "ticks": ""
            },
            "colorscale": [
             [
              0,
              "#0d0887"
             ],
             [
              0.1111111111111111,
              "#46039f"
             ],
             [
              0.2222222222222222,
              "#7201a8"
             ],
             [
              0.3333333333333333,
              "#9c179e"
             ],
             [
              0.4444444444444444,
              "#bd3786"
             ],
             [
              0.5555555555555556,
              "#d8576b"
             ],
             [
              0.6666666666666666,
              "#ed7953"
             ],
             [
              0.7777777777777778,
              "#fb9f3a"
             ],
             [
              0.8888888888888888,
              "#fdca26"
             ],
             [
              1,
              "#f0f921"
             ]
            ],
            "type": "contour"
           }
          ],
          "contourcarpet": [
           {
            "colorbar": {
             "outlinewidth": 0,
             "ticks": ""
            },
            "type": "contourcarpet"
           }
          ],
          "heatmap": [
           {
            "colorbar": {
             "outlinewidth": 0,
             "ticks": ""
            },
            "colorscale": [
             [
              0,
              "#0d0887"
             ],
             [
              0.1111111111111111,
              "#46039f"
             ],
             [
              0.2222222222222222,
              "#7201a8"
             ],
             [
              0.3333333333333333,
              "#9c179e"
             ],
             [
              0.4444444444444444,
              "#bd3786"
             ],
             [
              0.5555555555555556,
              "#d8576b"
             ],
             [
              0.6666666666666666,
              "#ed7953"
             ],
             [
              0.7777777777777778,
              "#fb9f3a"
             ],
             [
              0.8888888888888888,
              "#fdca26"
             ],
             [
              1,
              "#f0f921"
             ]
            ],
            "type": "heatmap"
           }
          ],
          "heatmapgl": [
           {
            "colorbar": {
             "outlinewidth": 0,
             "ticks": ""
            },
            "colorscale": [
             [
              0,
              "#0d0887"
             ],
             [
              0.1111111111111111,
              "#46039f"
             ],
             [
              0.2222222222222222,
              "#7201a8"
             ],
             [
              0.3333333333333333,
              "#9c179e"
             ],
             [
              0.4444444444444444,
              "#bd3786"
             ],
             [
              0.5555555555555556,
              "#d8576b"
             ],
             [
              0.6666666666666666,
              "#ed7953"
             ],
             [
              0.7777777777777778,
              "#fb9f3a"
             ],
             [
              0.8888888888888888,
              "#fdca26"
             ],
             [
              1,
              "#f0f921"
             ]
            ],
            "type": "heatmapgl"
           }
          ],
          "histogram": [
           {
            "marker": {
             "colorbar": {
              "outlinewidth": 0,
              "ticks": ""
             }
            },
            "type": "histogram"
           }
          ],
          "histogram2d": [
           {
            "colorbar": {
             "outlinewidth": 0,
             "ticks": ""
            },
            "colorscale": [
             [
              0,
              "#0d0887"
             ],
             [
              0.1111111111111111,
              "#46039f"
             ],
             [
              0.2222222222222222,
              "#7201a8"
             ],
             [
              0.3333333333333333,
              "#9c179e"
             ],
             [
              0.4444444444444444,
              "#bd3786"
             ],
             [
              0.5555555555555556,
              "#d8576b"
             ],
             [
              0.6666666666666666,
              "#ed7953"
             ],
             [
              0.7777777777777778,
              "#fb9f3a"
             ],
             [
              0.8888888888888888,
              "#fdca26"
             ],
             [
              1,
              "#f0f921"
             ]
            ],
            "type": "histogram2d"
           }
          ],
          "histogram2dcontour": [
           {
            "colorbar": {
             "outlinewidth": 0,
             "ticks": ""
            },
            "colorscale": [
             [
              0,
              "#0d0887"
             ],
             [
              0.1111111111111111,
              "#46039f"
             ],
             [
              0.2222222222222222,
              "#7201a8"
             ],
             [
              0.3333333333333333,
              "#9c179e"
             ],
             [
              0.4444444444444444,
              "#bd3786"
             ],
             [
              0.5555555555555556,
              "#d8576b"
             ],
             [
              0.6666666666666666,
              "#ed7953"
             ],
             [
              0.7777777777777778,
              "#fb9f3a"
             ],
             [
              0.8888888888888888,
              "#fdca26"
             ],
             [
              1,
              "#f0f921"
             ]
            ],
            "type": "histogram2dcontour"
           }
          ],
          "mesh3d": [
           {
            "colorbar": {
             "outlinewidth": 0,
             "ticks": ""
            },
            "type": "mesh3d"
           }
          ],
          "parcoords": [
           {
            "line": {
             "colorbar": {
              "outlinewidth": 0,
              "ticks": ""
             }
            },
            "type": "parcoords"
           }
          ],
          "pie": [
           {
            "automargin": true,
            "type": "pie"
           }
          ],
          "scatter": [
           {
            "marker": {
             "colorbar": {
              "outlinewidth": 0,
              "ticks": ""
             }
            },
            "type": "scatter"
           }
          ],
          "scatter3d": [
           {
            "line": {
             "colorbar": {
              "outlinewidth": 0,
              "ticks": ""
             }
            },
            "marker": {
             "colorbar": {
              "outlinewidth": 0,
              "ticks": ""
             }
            },
            "type": "scatter3d"
           }
          ],
          "scattercarpet": [
           {
            "marker": {
             "colorbar": {
              "outlinewidth": 0,
              "ticks": ""
             }
            },
            "type": "scattercarpet"
           }
          ],
          "scattergeo": [
           {
            "marker": {
             "colorbar": {
              "outlinewidth": 0,
              "ticks": ""
             }
            },
            "type": "scattergeo"
           }
          ],
          "scattergl": [
           {
            "marker": {
             "colorbar": {
              "outlinewidth": 0,
              "ticks": ""
             }
            },
            "type": "scattergl"
           }
          ],
          "scattermapbox": [
           {
            "marker": {
             "colorbar": {
              "outlinewidth": 0,
              "ticks": ""
             }
            },
            "type": "scattermapbox"
           }
          ],
          "scatterpolar": [
           {
            "marker": {
             "colorbar": {
              "outlinewidth": 0,
              "ticks": ""
             }
            },
            "type": "scatterpolar"
           }
          ],
          "scatterpolargl": [
           {
            "marker": {
             "colorbar": {
              "outlinewidth": 0,
              "ticks": ""
             }
            },
            "type": "scatterpolargl"
           }
          ],
          "scatterternary": [
           {
            "marker": {
             "colorbar": {
              "outlinewidth": 0,
              "ticks": ""
             }
            },
            "type": "scatterternary"
           }
          ],
          "surface": [
           {
            "colorbar": {
             "outlinewidth": 0,
             "ticks": ""
            },
            "colorscale": [
             [
              0,
              "#0d0887"
             ],
             [
              0.1111111111111111,
              "#46039f"
             ],
             [
              0.2222222222222222,
              "#7201a8"
             ],
             [
              0.3333333333333333,
              "#9c179e"
             ],
             [
              0.4444444444444444,
              "#bd3786"
             ],
             [
              0.5555555555555556,
              "#d8576b"
             ],
             [
              0.6666666666666666,
              "#ed7953"
             ],
             [
              0.7777777777777778,
              "#fb9f3a"
             ],
             [
              0.8888888888888888,
              "#fdca26"
             ],
             [
              1,
              "#f0f921"
             ]
            ],
            "type": "surface"
           }
          ],
          "table": [
           {
            "cells": {
             "fill": {
              "color": "#EBF0F8"
             },
             "line": {
              "color": "white"
             }
            },
            "header": {
             "fill": {
              "color": "#C8D4E3"
             },
             "line": {
              "color": "white"
             }
            },
            "type": "table"
           }
          ]
         },
         "layout": {
          "annotationdefaults": {
           "arrowcolor": "#2a3f5f",
           "arrowhead": 0,
           "arrowwidth": 1
          },
          "autotypenumbers": "strict",
          "coloraxis": {
           "colorbar": {
            "outlinewidth": 0,
            "ticks": ""
           }
          },
          "colorscale": {
           "diverging": [
            [
             0,
             "#8e0152"
            ],
            [
             0.1,
             "#c51b7d"
            ],
            [
             0.2,
             "#de77ae"
            ],
            [
             0.3,
             "#f1b6da"
            ],
            [
             0.4,
             "#fde0ef"
            ],
            [
             0.5,
             "#f7f7f7"
            ],
            [
             0.6,
             "#e6f5d0"
            ],
            [
             0.7,
             "#b8e186"
            ],
            [
             0.8,
             "#7fbc41"
            ],
            [
             0.9,
             "#4d9221"
            ],
            [
             1,
             "#276419"
            ]
           ],
           "sequential": [
            [
             0,
             "#0d0887"
            ],
            [
             0.1111111111111111,
             "#46039f"
            ],
            [
             0.2222222222222222,
             "#7201a8"
            ],
            [
             0.3333333333333333,
             "#9c179e"
            ],
            [
             0.4444444444444444,
             "#bd3786"
            ],
            [
             0.5555555555555556,
             "#d8576b"
            ],
            [
             0.6666666666666666,
             "#ed7953"
            ],
            [
             0.7777777777777778,
             "#fb9f3a"
            ],
            [
             0.8888888888888888,
             "#fdca26"
            ],
            [
             1,
             "#f0f921"
            ]
           ],
           "sequentialminus": [
            [
             0,
             "#0d0887"
            ],
            [
             0.1111111111111111,
             "#46039f"
            ],
            [
             0.2222222222222222,
             "#7201a8"
            ],
            [
             0.3333333333333333,
             "#9c179e"
            ],
            [
             0.4444444444444444,
             "#bd3786"
            ],
            [
             0.5555555555555556,
             "#d8576b"
            ],
            [
             0.6666666666666666,
             "#ed7953"
            ],
            [
             0.7777777777777778,
             "#fb9f3a"
            ],
            [
             0.8888888888888888,
             "#fdca26"
            ],
            [
             1,
             "#f0f921"
            ]
           ]
          },
          "colorway": [
           "#636efa",
           "#EF553B",
           "#00cc96",
           "#ab63fa",
           "#FFA15A",
           "#19d3f3",
           "#FF6692",
           "#B6E880",
           "#FF97FF",
           "#FECB52"
          ],
          "font": {
           "color": "#2a3f5f"
          },
          "geo": {
           "bgcolor": "white",
           "lakecolor": "white",
           "landcolor": "#E5ECF6",
           "showlakes": true,
           "showland": true,
           "subunitcolor": "white"
          },
          "hoverlabel": {
           "align": "left"
          },
          "hovermode": "closest",
          "mapbox": {
           "style": "light"
          },
          "paper_bgcolor": "white",
          "plot_bgcolor": "#E5ECF6",
          "polar": {
           "angularaxis": {
            "gridcolor": "white",
            "linecolor": "white",
            "ticks": ""
           },
           "bgcolor": "#E5ECF6",
           "radialaxis": {
            "gridcolor": "white",
            "linecolor": "white",
            "ticks": ""
           }
          },
          "scene": {
           "xaxis": {
            "backgroundcolor": "#E5ECF6",
            "gridcolor": "white",
            "gridwidth": 2,
            "linecolor": "white",
            "showbackground": true,
            "ticks": "",
            "zerolinecolor": "white"
           },
           "yaxis": {
            "backgroundcolor": "#E5ECF6",
            "gridcolor": "white",
            "gridwidth": 2,
            "linecolor": "white",
            "showbackground": true,
            "ticks": "",
            "zerolinecolor": "white"
           },
           "zaxis": {
            "backgroundcolor": "#E5ECF6",
            "gridcolor": "white",
            "gridwidth": 2,
            "linecolor": "white",
            "showbackground": true,
            "ticks": "",
            "zerolinecolor": "white"
           }
          },
          "shapedefaults": {
           "line": {
            "color": "#2a3f5f"
           }
          },
          "ternary": {
           "aaxis": {
            "gridcolor": "white",
            "linecolor": "white",
            "ticks": ""
           },
           "baxis": {
            "gridcolor": "white",
            "linecolor": "white",
            "ticks": ""
           },
           "bgcolor": "#E5ECF6",
           "caxis": {
            "gridcolor": "white",
            "linecolor": "white",
            "ticks": ""
           }
          },
          "title": {
           "x": 0.05
          },
          "xaxis": {
           "automargin": true,
           "gridcolor": "white",
           "linecolor": "white",
           "ticks": "",
           "title": {
            "standoff": 15
           },
           "zerolinecolor": "white",
           "zerolinewidth": 2
          },
          "yaxis": {
           "automargin": true,
           "gridcolor": "white",
           "linecolor": "white",
           "ticks": "",
           "title": {
            "standoff": 15
           },
           "zerolinecolor": "white",
           "zerolinewidth": 2
          }
         }
        },
        "title": {
         "text": "Sample host"
        },
        "xaxis": {
         "anchor": "y",
         "domain": [
          0,
          1
         ],
         "title": {
          "text": "sample_host"
         }
        },
        "yaxis": {
         "anchor": "x",
         "domain": [
          0,
          1
         ],
         "title": {
          "text": "count"
         }
        }
       }
      },
      "text/html": [
       "<div>                            <div id=\"7b78dbe5-a879-44ce-bdaf-301f0f9ba664\" class=\"plotly-graph-div\" style=\"height:525px; width:100%;\"></div>            <script type=\"text/javascript\">                require([\"plotly\"], function(Plotly) {                    window.PLOTLYENV=window.PLOTLYENV || {};                                    if (document.getElementById(\"7b78dbe5-a879-44ce-bdaf-301f0f9ba664\")) {                    Plotly.newPlot(                        \"7b78dbe5-a879-44ce-bdaf-301f0f9ba664\",                        [{\"alignmentgroup\": \"True\", \"bingroup\": \"x\", \"hovertemplate\": \"sample_host=%{x}<br>count=%{y}<extra></extra>\", \"legendgroup\": \"\", \"marker\": {\"color\": \"#636efa\"}, \"name\": \"\", \"offsetgroup\": \"\", \"orientation\": \"v\", \"showlegend\": false, \"type\": \"histogram\", \"x\": [\"Homo sapiens\", \"Homo sapiens\", \"Homo sapiens\", \"Homo sapiens\", \"Homo sapiens\", \"Homo sapiens\", \"Homo sapiens\", \"Homo sapiens\", \"Homo sapiens\", \"Homo sapiens\", \"Homo sapiens\", \"Homo sapiens\", \"Homo sapiens\", \"Homo sapiens\", \"Homo sapiens\", \"Homo sapiens\", \"Homo sapiens\", \"Homo sapiens\", \"Homo sapiens\", \"Homo sapiens\", \"Homo sapiens\", \"Homo sapiens\", \"Homo sapiens\", \"Homo sapiens\", \"Homo sapiens\", \"Homo sapiens\", \"Homo sapiens\", \"Homo sapiens\", \"Homo sapiens\", \"Homo sapiens\", \"Homo sapiens\", \"Homo sapiens\", \"Homo sapiens\", \"Homo sapiens\", \"Homo sapiens\", \"Homo sapiens\", \"Homo sapiens\", \"Homo sapiens\", \"Homo sapiens\", \"Homo sapiens\", \"Homo sapiens\", \"Homo sapiens\", \"Homo sapiens\", \"Homo sapiens\", \"Homo sapiens\", \"Homo sapiens\", \"Homo sapiens\", \"Homo sapiens\", \"Homo sapiens\", \"Homo sapiens\", \"Homo sapiens\", \"Homo sapiens\", \"Homo sapiens\", \"Homo sapiens\", \"Homo sapiens\", \"Homo sapiens\", \"Homo sapiens\", \"Homo sapiens\", \"Homo sapiens\", \"Homo sapiens\", \"Homo sapiens\", \"Homo sapiens\", \"Homo sapiens\", \"Homo sapiens\", \"Homo sapiens\", \"Homo sapiens\", \"Homo sapiens\", \"Homo sapiens\", \"Homo sapiens\", \"Homo sapiens\", \"Homo sapiens\", \"Homo sapiens\", \"Homo sapiens\", \"Homo sapiens\", \"Homo sapiens\", \"Homo sapiens\", \"Homo sapiens\", \"Homo sapiens\", \"Homo sapiens\", \"Homo sapiens\", \"Homo sapiens\", \"Homo sapiens\", \"Homo sapiens\", \"Homo sapiens\", \"Homo sapiens\", \"Homo sapiens\", \"Homo sapiens\", \"Homo sapiens\", \"Homo sapiens\", \"Homo sapiens\", \"Homo sapiens\", \"Homo sapiens\", \"Homo sapiens\", \"Homo sapiens\", \"Homo sapiens\", \"Homo sapiens\", \"Homo sapiens\", \"Homo sapiens\", \"Homo sapiens\", \"Homo sapiens\", \"Homo sapiens\", \"Homo sapiens\", \"Homo sapiens\", \"Homo sapiens\", \"Homo sapiens\", \"Homo sapiens\", \"Homo sapiens\", \"Homo sapiens\", \"Homo sapiens\", \"Homo sapiens\", \"Homo sapiens\", \"Homo sapiens\", \"Homo sapiens\", \"Homo sapiens\", \"Homo sapiens\", \"Homo sapiens\", \"Homo sapiens\", \"Homo sapiens\", \"Homo sapiens\", \"Homo sapiens\", \"Homo sapiens\", \"Homo sapiens\", \"Homo sapiens\", \"Homo sapiens\", \"Homo sapiens\", \"Homo sapiens\", \"Homo sapiens\", \"Homo sapiens\", \"Homo sapiens\", \"Homo sapiens\", \"Homo sapiens\", \"Pan troglodytes schweinfurthii\", \"Pan troglodytes schweinfurthii\", \"Pan troglodytes schweinfurthii\", \"Pan troglodytes schweinfurthii\", \"Pan troglodytes schweinfurthii\", \"Pan troglodytes schweinfurthii\", \"Pan troglodytes schweinfurthii\", \"Pan troglodytes schweinfurthii\", \"Pan troglodytes schweinfurthii\", \"Pan troglodytes schweinfurthii\", \"Pan troglodytes schweinfurthii\", \"Pan troglodytes schweinfurthii\", \"Pan troglodytes schweinfurthii\", \"Pan troglodytes schweinfurthii\", \"Pan troglodytes schweinfurthii\", \"Pan troglodytes schweinfurthii\", \"Pan troglodytes schweinfurthii\", \"Pan troglodytes schweinfurthii\", \"Pan troglodytes schweinfurthii\", \"Homo sapiens\", \"Homo sapiens\", \"Homo sapiens\", \"Homo sapiens\", \"Homo sapiens\", \"Homo sapiens\", \"Homo sapiens\", \"Homo sapiens\", \"Homo sapiens\", \"Homo sapiens\", \"Homo sapiens\", \"Homo sapiens\", \"Homo sapiens\", \"Homo sapiens\", \"Mammuthus primigenius\", \"Mammuthus primigenius\", \"Mammuthus primigenius\", \"Mammuthus primigenius\", \"Mammuthus primigenius\", \"Mammuthus primigenius\", \"Mammuthus primigenius\", \"Mammuthus primigenius\", \"Mammuthus primigenius\", \"Mammuthus primigenius\", \"Mammuthus primigenius\", \"Mammuthus primigenius\", \"Mammuthus primigenius\", \"Mammuthus primigenius\", \"Mammuthus primigenius\", \"Mammuthus primigenius\", \"Conepatus chinga\", \"Conepatus chinga\", \"Conepatus chinga\", \"Conepatus chinga\", \"Conepatus chinga\", \"Conepatus chinga\", \"Conepatus chinga\", \"Conepatus chinga\", \"Conepatus chinga\", \"Conepatus chinga\", \"Conepatus chinga\", \"Conepatus chinga\", \"Conepatus chinga\", \"Conepatus chinga\", \"Conepatus chinga\", \"Conepatus chinga\", \"Conepatus chinga\", \"Conepatus chinga\", \"Conepatus chinga\", \"Conepatus chinga\", \"Conepatus chinga\", \"Conepatus chinga\", \"Conepatus chinga\", \"Conepatus chinga\", \"Conepatus chinga\", \"Conepatus chinga\", \"Conepatus chinga\", \"Conepatus chinga\", \"Conepatus chinga\", \"Conepatus chinga\", \"Conepatus chinga\", \"Conepatus chinga\", \"Conepatus chinga\", \"Conepatus chinga\", \"Conepatus chinga\", \"Conepatus chinga\", \"Conepatus chinga\", \"Conepatus chinga\", \"Conepatus chinga\", \"Conepatus chinga\", \"Conepatus chinga\", \"Conepatus chinga\", \"Conepatus chinga\", \"Conepatus chinga\", \"Conepatus chinga\", \"Conepatus chinga\", \"Conepatus chinga\", \"Conepatus chinga\", \"Conepatus chinga\", \"Conepatus chinga\", \"Conepatus chinga\", \"Conepatus chinga\", \"Conepatus chinga\", \"Conepatus chinga\", \"Conepatus chinga\", \"Conepatus chinga\", \"Conepatus chinga\", \"Conepatus chinga\", \"Conepatus chinga\", \"Conepatus chinga\", \"Conepatus chinga\", \"Conepatus chinga\", \"Conepatus chinga\", \"Conepatus chinga\", \"Gerbilliscus boehmi\", \"Gerbilliscus boehmi\", \"Gerbilliscus boehmi\", \"Gerbilliscus boehmi\", \"Gerbilliscus boehmi\", \"Gerbilliscus boehmi\", \"Gerbilliscus boehmi\", \"Gerbilliscus boehmi\", \"Gerbilliscus boehmi\", \"Gerbilliscus boehmi\", \"Gerbilliscus boehmi\", \"Gerbilliscus boehmi\", \"Gerbilliscus boehmi\", \"Gerbilliscus boehmi\", \"Gerbilliscus boehmi\", \"Gerbilliscus boehmi\", \"Gerbilliscus boehmi\", \"Gerbilliscus boehmi\", \"Gerbilliscus boehmi\", \"Gerbilliscus boehmi\", \"Gerbilliscus boehmi\", \"Gerbilliscus boehmi\", \"Gerbilliscus boehmi\", \"Gerbilliscus boehmi\", \"Gerbilliscus boehmi\", \"Gerbilliscus boehmi\", \"Gerbilliscus boehmi\", \"Gerbilliscus boehmi\", \"Gerbilliscus boehmi\", \"Gerbilliscus boehmi\", \"Gerbilliscus boehmi\", \"Gerbilliscus boehmi\", \"Gerbilliscus boehmi\", \"Gerbilliscus boehmi\", \"Gerbilliscus boehmi\", \"Gerbilliscus boehmi\", \"Gerbilliscus boehmi\", \"Gerbilliscus boehmi\", \"Gerbilliscus boehmi\", \"Gerbilliscus boehmi\", \"Gerbilliscus boehmi\", \"Gerbilliscus boehmi\", \"Gerbilliscus boehmi\", \"Gerbilliscus boehmi\", \"Gerbilliscus boehmi\", \"Gerbilliscus boehmi\", \"Gerbilliscus boehmi\", \"Gerbilliscus boehmi\", \"Gerbilliscus boehmi\", \"Gerbilliscus boehmi\", \"Gerbilliscus boehmi\", \"Gerbilliscus boehmi\", \"Gerbilliscus boehmi\", \"Gerbilliscus boehmi\", \"Gerbilliscus boehmi\", \"Gerbilliscus boehmi\", \"Gerbilliscus boehmi\", \"Gerbilliscus boehmi\", \"Gerbilliscus boehmi\", \"Gerbilliscus boehmi\", \"Gerbilliscus boehmi\", \"Gerbilliscus boehmi\", \"Gerbilliscus boehmi\", \"Gerbilliscus boehmi\", \"Strigocuscus celebensis\", \"Strigocuscus celebensis\", \"Strigocuscus celebensis\", \"Strigocuscus celebensis\", \"Strigocuscus celebensis\", \"Strigocuscus celebensis\", \"Strigocuscus celebensis\", \"Strigocuscus celebensis\", \"Strigocuscus celebensis\", \"Strigocuscus celebensis\", \"Strigocuscus celebensis\", \"Strigocuscus celebensis\", \"Strigocuscus celebensis\", \"Strigocuscus celebensis\", \"Strigocuscus celebensis\", \"Strigocuscus celebensis\", \"Strigocuscus celebensis\", \"Strigocuscus celebensis\", \"Strigocuscus celebensis\", \"Strigocuscus celebensis\", \"Strigocuscus celebensis\", \"Strigocuscus celebensis\", \"Strigocuscus celebensis\", \"Strigocuscus celebensis\", \"Strigocuscus celebensis\", \"Strigocuscus celebensis\", \"Strigocuscus celebensis\", \"Strigocuscus celebensis\", \"Strigocuscus celebensis\", \"Strigocuscus celebensis\", \"Strigocuscus celebensis\", \"Strigocuscus celebensis\", \"Strigocuscus celebensis\", \"Strigocuscus celebensis\", \"Strigocuscus celebensis\", \"Strigocuscus celebensis\", \"Strigocuscus celebensis\", \"Strigocuscus celebensis\", \"Strigocuscus celebensis\", \"Strigocuscus celebensis\", \"Strigocuscus celebensis\", \"Strigocuscus celebensis\", \"Strigocuscus celebensis\", \"Strigocuscus celebensis\", \"Strigocuscus celebensis\", \"Strigocuscus celebensis\", \"Strigocuscus celebensis\", \"Strigocuscus celebensis\", \"Strigocuscus celebensis\", \"Strigocuscus celebensis\", \"Strigocuscus celebensis\", \"Strigocuscus celebensis\", \"Strigocuscus celebensis\", \"Strigocuscus celebensis\", \"Strigocuscus celebensis\", \"Strigocuscus celebensis\", \"Strigocuscus celebensis\", \"Strigocuscus celebensis\", \"Strigocuscus celebensis\", \"Strigocuscus celebensis\", \"Strigocuscus celebensis\", \"Strigocuscus celebensis\", \"Strigocuscus celebensis\", \"Strigocuscus celebensis\", \"Homo sapiens\", \"Homo sapiens\", \"Homo sapiens\", \"Homo sapiens\", \"Homo sapiens\", \"Homo sapiens\", \"Homo sapiens\", \"Homo sapiens\", \"Homo sapiens\", \"Homo sapiens\", \"Homo sapiens\", \"Homo sapiens\", \"Homo sapiens\", \"Homo sapiens\", \"Homo sapiens\", \"Homo sapiens\", \"Ambrosia artemisiifolia\", \"Ambrosia artemisiifolia\", \"Ambrosia artemisiifolia\", \"Ambrosia artemisiifolia\", \"Ambrosia artemisiifolia\", \"Ambrosia artemisiifolia\", \"Ambrosia artemisiifolia\", \"Ambrosia artemisiifolia\", \"Ambrosia artemisiifolia\", \"Ambrosia artemisiifolia\", \"Ambrosia artemisiifolia\", \"Ambrosia artemisiifolia\", \"Ambrosia artemisiifolia\", \"Ambrosia artemisiifolia\", \"Ambrosia artemisiifolia\", \"Ambrosia artemisiifolia\", \"Ambrosia artemisiifolia\", \"Ambrosia artemisiifolia\", \"Ambrosia artemisiifolia\", \"Ambrosia artemisiifolia\", \"Ambrosia artemisiifolia\", \"Ambrosia artemisiifolia\", \"Ambrosia artemisiifolia\", \"Ambrosia artemisiifolia\", \"Arabidopsis thaliana\", \"Arabidopsis thaliana\", \"Arabidopsis thaliana\", \"Arabidopsis thaliana\", \"Arabidopsis thaliana\", \"Arabidopsis thaliana\", \"Arabidopsis thaliana\", \"Arabidopsis thaliana\", \"Arabidopsis thaliana\", \"Arabidopsis thaliana\", \"Arabidopsis thaliana\", \"Arabidopsis thaliana\", \"Arabidopsis thaliana\", \"Arabidopsis thaliana\", \"Arabidopsis thaliana\", \"Arabidopsis thaliana\", \"Arabidopsis thaliana\", \"Arabidopsis thaliana\", \"Arabidopsis thaliana\", \"Arabidopsis thaliana\", \"Arabidopsis thaliana\", \"Arabidopsis thaliana\", \"Arabidopsis thaliana\", \"Arabidopsis thaliana\", \"Arabidopsis thaliana\", \"Arabidopsis thaliana\", \"Arabidopsis thaliana\", \"Arabidopsis thaliana\", \"Arabidopsis thaliana\", \"Arabidopsis thaliana\", \"Arabidopsis thaliana\", \"Arabidopsis thaliana\", \"Arabidopsis thaliana\", \"Arabidopsis thaliana\", \"Homo sapiens\", \"Homo sapiens\", \"Homo sapiens\", \"Homo sapiens\", \"Homo sapiens\", \"Homo sapiens\", \"Homo sapiens\", \"Homo sapiens\", \"Homo sapiens\", \"Homo sapiens\", \"Homo sapiens\", \"Homo sapiens\", \"Homo sapiens\", \"Homo sapiens\", \"Homo sapiens\", \"Homo sapiens\", \"Homo sapiens\", \"Homo sapiens\", \"Homo sapiens\", \"Homo sapiens\", \"Homo sapiens\", \"Homo sapiens\", \"Homo sapiens\", \"Homo sapiens\", \"Homo sapiens\", \"Homo sapiens\", \"Homo sapiens\", \"Homo sapiens\", \"Homo sapiens\", \"Homo sapiens\", \"Homo sapiens\", \"Homo sapiens\", \"Homo sapiens\", \"Homo sapiens\", \"Homo sapiens\", \"Homo sapiens\", \"Homo sapiens\", \"Homo sapiens\", \"Homo sapiens\", \"Homo sapiens\", \"Homo sapiens\", \"Homo sapiens\", \"Homo sapiens\", \"Homo sapiens\", \"Homo sapiens\", \"Homo sapiens\", \"Homo sapiens\", \"Homo sapiens\", \"Homo sapiens\", \"Homo sapiens\", \"Homo sapiens\", \"Homo sapiens\", \"Homo sapiens\", \"Homo sapiens\", \"Homo sapiens\", \"Homo sapiens\", \"Homo sapiens\", \"Homo sapiens\", \"Homo sapiens\", \"Homo sapiens\", \"Homo sapiens\", \"Homo sapiens\", \"Homo sapiens\", \"Homo sapiens\", \"Homo sapiens\", \"Homo sapiens\", \"Homo sapiens\", \"Homo sapiens\", \"Homo sapiens\", \"Homo sapiens\", \"Homo sapiens\", \"Homo sapiens\", \"Homo sapiens\", \"Homo sapiens\", \"Homo sapiens\", \"Homo sapiens\", \"Homo sapiens\", \"Homo sapiens\", \"Homo sapiens\", \"Homo sapiens\", \"Homo sapiens\", \"Homo sapiens\", \"Homo sapiens\", \"Homo sapiens\", \"Homo sapiens\", \"Homo sapiens\", \"Homo sapiens\", \"Homo sapiens\", \"Homo sapiens\", \"Homo sapiens\", \"Homo sapiens\", \"Homo sapiens\", \"Homo sapiens\", \"Homo sapiens\", \"Homo sapiens\", \"Homo sapiens\", \"Homo sapiens\", \"Homo sapiens\", \"Homo sapiens\", \"Homo sapiens\", \"Homo sapiens\", \"Homo sapiens\", \"Homo sapiens\", \"Homo sapiens\", \"Homo sapiens\", \"Homo sapiens\", \"Homo sapiens\", \"Homo sapiens\", \"Homo sapiens\", \"Homo sapiens\", \"Homo sapiens\", \"Homo sapiens\", \"Homo sapiens\", \"Homo sapiens\", \"Homo sapiens\", \"Homo sapiens\", \"Homo sapiens\", \"Homo sapiens\", \"Homo sapiens\", \"Homo sapiens\", \"Homo sapiens\", \"Homo sapiens\", \"Homo sapiens\", \"Homo sapiens\", \"Homo sapiens\", \"Homo sapiens\", \"Homo sapiens\", \"Homo sapiens\", \"Homo sapiens\", \"Homo sapiens\", \"Homo sapiens\", \"Homo sapiens\", \"Homo sapiens\", \"Homo sapiens\", \"Homo sapiens\", \"Homo sapiens\", \"Homo sapiens\", \"Homo sapiens\", \"Homo sapiens\", \"Homo sapiens\", \"Homo sapiens\", \"Homo sapiens\", \"Homo sapiens\", \"Homo sapiens\", \"Homo sapiens\", \"Homo sapiens\", \"Homo sapiens\", \"Homo sapiens\", \"Homo sapiens\", \"Homo sapiens\", \"Homo sapiens\", \"Homo sapiens\", \"Homo sapiens\", \"Homo sapiens\", \"Homo sapiens\", \"Homo sapiens\", \"Homo sapiens\", \"Homo sapiens\", \"Homo sapiens\", \"Homo sapiens\", \"Homo sapiens\", \"Homo sapiens\", \"Homo sapiens\", \"Homo sapiens\", \"Homo sapiens\", \"Homo sapiens\", \"Homo sapiens\", \"Homo sapiens\", \"Homo sapiens\", \"Homo sapiens\", \"Homo sapiens\", \"Homo sapiens\", \"Homo sapiens\", \"Homo sapiens\", \"Homo sapiens\", \"Homo sapiens\", \"Homo sapiens\", \"Homo sapiens\", \"Homo sapiens\", \"Homo sapiens\", \"Homo sapiens\", \"Homo sapiens\", \"Homo sapiens\", \"Homo sapiens\", \"Homo sapiens\", \"Homo sapiens\", \"Homo sapiens\", \"Homo sapiens\", \"Homo sapiens\", \"Homo sapiens\", \"Homo sapiens\", \"Homo sapiens\", \"Homo sapiens\", \"Homo sapiens\", \"Homo sapiens\", \"Homo sapiens\", \"Homo sapiens\", \"Homo sapiens\", \"Homo sapiens\", \"Homo sapiens\", \"Homo sapiens\", \"Homo sapiens\", \"Homo sapiens\", \"Homo sapiens\", \"Homo sapiens\", \"Homo sapiens\", \"Homo sapiens\", \"Homo sapiens\", \"Homo sapiens\", \"Homo sapiens\", \"Homo sapiens\", \"Homo sapiens\", \"Homo sapiens\", \"Homo sapiens\", \"Homo sapiens\", \"Homo sapiens\"], \"xaxis\": \"x\", \"yaxis\": \"y\"}],                        {\"barmode\": \"relative\", \"legend\": {\"tracegroupgap\": 0}, \"template\": {\"data\": {\"bar\": [{\"error_x\": {\"color\": \"#2a3f5f\"}, \"error_y\": {\"color\": \"#2a3f5f\"}, \"marker\": {\"line\": {\"color\": \"#E5ECF6\", \"width\": 0.5}}, \"type\": \"bar\"}], \"barpolar\": [{\"marker\": {\"line\": {\"color\": \"#E5ECF6\", \"width\": 0.5}}, \"type\": \"barpolar\"}], \"carpet\": [{\"aaxis\": {\"endlinecolor\": \"#2a3f5f\", \"gridcolor\": \"white\", \"linecolor\": \"white\", \"minorgridcolor\": \"white\", \"startlinecolor\": \"#2a3f5f\"}, \"baxis\": {\"endlinecolor\": \"#2a3f5f\", \"gridcolor\": \"white\", \"linecolor\": \"white\", \"minorgridcolor\": \"white\", \"startlinecolor\": \"#2a3f5f\"}, \"type\": \"carpet\"}], \"choropleth\": [{\"colorbar\": {\"outlinewidth\": 0, \"ticks\": \"\"}, \"type\": \"choropleth\"}], \"contour\": [{\"colorbar\": {\"outlinewidth\": 0, \"ticks\": \"\"}, \"colorscale\": [[0.0, \"#0d0887\"], [0.1111111111111111, \"#46039f\"], [0.2222222222222222, \"#7201a8\"], [0.3333333333333333, \"#9c179e\"], [0.4444444444444444, \"#bd3786\"], [0.5555555555555556, \"#d8576b\"], [0.6666666666666666, \"#ed7953\"], [0.7777777777777778, \"#fb9f3a\"], [0.8888888888888888, \"#fdca26\"], [1.0, \"#f0f921\"]], \"type\": \"contour\"}], \"contourcarpet\": [{\"colorbar\": {\"outlinewidth\": 0, \"ticks\": \"\"}, \"type\": \"contourcarpet\"}], \"heatmap\": [{\"colorbar\": {\"outlinewidth\": 0, \"ticks\": \"\"}, \"colorscale\": [[0.0, \"#0d0887\"], [0.1111111111111111, \"#46039f\"], [0.2222222222222222, \"#7201a8\"], [0.3333333333333333, \"#9c179e\"], [0.4444444444444444, \"#bd3786\"], [0.5555555555555556, \"#d8576b\"], [0.6666666666666666, \"#ed7953\"], [0.7777777777777778, \"#fb9f3a\"], [0.8888888888888888, \"#fdca26\"], [1.0, \"#f0f921\"]], \"type\": \"heatmap\"}], \"heatmapgl\": [{\"colorbar\": {\"outlinewidth\": 0, \"ticks\": \"\"}, \"colorscale\": [[0.0, \"#0d0887\"], [0.1111111111111111, \"#46039f\"], [0.2222222222222222, \"#7201a8\"], [0.3333333333333333, \"#9c179e\"], [0.4444444444444444, \"#bd3786\"], [0.5555555555555556, \"#d8576b\"], [0.6666666666666666, \"#ed7953\"], [0.7777777777777778, \"#fb9f3a\"], [0.8888888888888888, \"#fdca26\"], [1.0, \"#f0f921\"]], \"type\": \"heatmapgl\"}], \"histogram\": [{\"marker\": {\"colorbar\": {\"outlinewidth\": 0, \"ticks\": \"\"}}, \"type\": \"histogram\"}], \"histogram2d\": [{\"colorbar\": {\"outlinewidth\": 0, \"ticks\": \"\"}, \"colorscale\": [[0.0, \"#0d0887\"], [0.1111111111111111, \"#46039f\"], [0.2222222222222222, \"#7201a8\"], [0.3333333333333333, \"#9c179e\"], [0.4444444444444444, \"#bd3786\"], [0.5555555555555556, \"#d8576b\"], [0.6666666666666666, \"#ed7953\"], [0.7777777777777778, \"#fb9f3a\"], [0.8888888888888888, \"#fdca26\"], [1.0, \"#f0f921\"]], \"type\": \"histogram2d\"}], \"histogram2dcontour\": [{\"colorbar\": {\"outlinewidth\": 0, \"ticks\": \"\"}, \"colorscale\": [[0.0, \"#0d0887\"], [0.1111111111111111, \"#46039f\"], [0.2222222222222222, \"#7201a8\"], [0.3333333333333333, \"#9c179e\"], [0.4444444444444444, \"#bd3786\"], [0.5555555555555556, \"#d8576b\"], [0.6666666666666666, \"#ed7953\"], [0.7777777777777778, \"#fb9f3a\"], [0.8888888888888888, \"#fdca26\"], [1.0, \"#f0f921\"]], \"type\": \"histogram2dcontour\"}], \"mesh3d\": [{\"colorbar\": {\"outlinewidth\": 0, \"ticks\": \"\"}, \"type\": \"mesh3d\"}], \"parcoords\": [{\"line\": {\"colorbar\": {\"outlinewidth\": 0, \"ticks\": \"\"}}, \"type\": \"parcoords\"}], \"pie\": [{\"automargin\": true, \"type\": \"pie\"}], \"scatter\": [{\"marker\": {\"colorbar\": {\"outlinewidth\": 0, \"ticks\": \"\"}}, \"type\": \"scatter\"}], \"scatter3d\": [{\"line\": {\"colorbar\": {\"outlinewidth\": 0, \"ticks\": \"\"}}, \"marker\": {\"colorbar\": {\"outlinewidth\": 0, \"ticks\": \"\"}}, \"type\": \"scatter3d\"}], \"scattercarpet\": [{\"marker\": {\"colorbar\": {\"outlinewidth\": 0, \"ticks\": \"\"}}, \"type\": \"scattercarpet\"}], \"scattergeo\": [{\"marker\": {\"colorbar\": {\"outlinewidth\": 0, \"ticks\": \"\"}}, \"type\": \"scattergeo\"}], \"scattergl\": [{\"marker\": {\"colorbar\": {\"outlinewidth\": 0, \"ticks\": \"\"}}, \"type\": \"scattergl\"}], \"scattermapbox\": [{\"marker\": {\"colorbar\": {\"outlinewidth\": 0, \"ticks\": \"\"}}, \"type\": \"scattermapbox\"}], \"scatterpolar\": [{\"marker\": {\"colorbar\": {\"outlinewidth\": 0, \"ticks\": \"\"}}, \"type\": \"scatterpolar\"}], \"scatterpolargl\": [{\"marker\": {\"colorbar\": {\"outlinewidth\": 0, \"ticks\": \"\"}}, \"type\": \"scatterpolargl\"}], \"scatterternary\": [{\"marker\": {\"colorbar\": {\"outlinewidth\": 0, \"ticks\": \"\"}}, \"type\": \"scatterternary\"}], \"surface\": [{\"colorbar\": {\"outlinewidth\": 0, \"ticks\": \"\"}, \"colorscale\": [[0.0, \"#0d0887\"], [0.1111111111111111, \"#46039f\"], [0.2222222222222222, \"#7201a8\"], [0.3333333333333333, \"#9c179e\"], [0.4444444444444444, \"#bd3786\"], [0.5555555555555556, \"#d8576b\"], [0.6666666666666666, \"#ed7953\"], [0.7777777777777778, \"#fb9f3a\"], [0.8888888888888888, \"#fdca26\"], [1.0, \"#f0f921\"]], \"type\": \"surface\"}], \"table\": [{\"cells\": {\"fill\": {\"color\": \"#EBF0F8\"}, \"line\": {\"color\": \"white\"}}, \"header\": {\"fill\": {\"color\": \"#C8D4E3\"}, \"line\": {\"color\": \"white\"}}, \"type\": \"table\"}]}, \"layout\": {\"annotationdefaults\": {\"arrowcolor\": \"#2a3f5f\", \"arrowhead\": 0, \"arrowwidth\": 1}, \"autotypenumbers\": \"strict\", \"coloraxis\": {\"colorbar\": {\"outlinewidth\": 0, \"ticks\": \"\"}}, \"colorscale\": {\"diverging\": [[0, \"#8e0152\"], [0.1, \"#c51b7d\"], [0.2, \"#de77ae\"], [0.3, \"#f1b6da\"], [0.4, \"#fde0ef\"], [0.5, \"#f7f7f7\"], [0.6, \"#e6f5d0\"], [0.7, \"#b8e186\"], [0.8, \"#7fbc41\"], [0.9, \"#4d9221\"], [1, \"#276419\"]], \"sequential\": [[0.0, \"#0d0887\"], [0.1111111111111111, \"#46039f\"], [0.2222222222222222, \"#7201a8\"], [0.3333333333333333, \"#9c179e\"], [0.4444444444444444, \"#bd3786\"], [0.5555555555555556, \"#d8576b\"], [0.6666666666666666, \"#ed7953\"], [0.7777777777777778, \"#fb9f3a\"], [0.8888888888888888, \"#fdca26\"], [1.0, \"#f0f921\"]], \"sequentialminus\": [[0.0, \"#0d0887\"], [0.1111111111111111, \"#46039f\"], [0.2222222222222222, \"#7201a8\"], [0.3333333333333333, \"#9c179e\"], [0.4444444444444444, \"#bd3786\"], [0.5555555555555556, \"#d8576b\"], [0.6666666666666666, \"#ed7953\"], [0.7777777777777778, \"#fb9f3a\"], [0.8888888888888888, \"#fdca26\"], [1.0, \"#f0f921\"]]}, \"colorway\": [\"#636efa\", \"#EF553B\", \"#00cc96\", \"#ab63fa\", \"#FFA15A\", \"#19d3f3\", \"#FF6692\", \"#B6E880\", \"#FF97FF\", \"#FECB52\"], \"font\": {\"color\": \"#2a3f5f\"}, \"geo\": {\"bgcolor\": \"white\", \"lakecolor\": \"white\", \"landcolor\": \"#E5ECF6\", \"showlakes\": true, \"showland\": true, \"subunitcolor\": \"white\"}, \"hoverlabel\": {\"align\": \"left\"}, \"hovermode\": \"closest\", \"mapbox\": {\"style\": \"light\"}, \"paper_bgcolor\": \"white\", \"plot_bgcolor\": \"#E5ECF6\", \"polar\": {\"angularaxis\": {\"gridcolor\": \"white\", \"linecolor\": \"white\", \"ticks\": \"\"}, \"bgcolor\": \"#E5ECF6\", \"radialaxis\": {\"gridcolor\": \"white\", \"linecolor\": \"white\", \"ticks\": \"\"}}, \"scene\": {\"xaxis\": {\"backgroundcolor\": \"#E5ECF6\", \"gridcolor\": \"white\", \"gridwidth\": 2, \"linecolor\": \"white\", \"showbackground\": true, \"ticks\": \"\", \"zerolinecolor\": \"white\"}, \"yaxis\": {\"backgroundcolor\": \"#E5ECF6\", \"gridcolor\": \"white\", \"gridwidth\": 2, \"linecolor\": \"white\", \"showbackground\": true, \"ticks\": \"\", \"zerolinecolor\": \"white\"}, \"zaxis\": {\"backgroundcolor\": \"#E5ECF6\", \"gridcolor\": \"white\", \"gridwidth\": 2, \"linecolor\": \"white\", \"showbackground\": true, \"ticks\": \"\", \"zerolinecolor\": \"white\"}}, \"shapedefaults\": {\"line\": {\"color\": \"#2a3f5f\"}}, \"ternary\": {\"aaxis\": {\"gridcolor\": \"white\", \"linecolor\": \"white\", \"ticks\": \"\"}, \"baxis\": {\"gridcolor\": \"white\", \"linecolor\": \"white\", \"ticks\": \"\"}, \"bgcolor\": \"#E5ECF6\", \"caxis\": {\"gridcolor\": \"white\", \"linecolor\": \"white\", \"ticks\": \"\"}}, \"title\": {\"x\": 0.05}, \"xaxis\": {\"automargin\": true, \"gridcolor\": \"white\", \"linecolor\": \"white\", \"ticks\": \"\", \"title\": {\"standoff\": 15}, \"zerolinecolor\": \"white\", \"zerolinewidth\": 2}, \"yaxis\": {\"automargin\": true, \"gridcolor\": \"white\", \"linecolor\": \"white\", \"ticks\": \"\", \"title\": {\"standoff\": 15}, \"zerolinecolor\": \"white\", \"zerolinewidth\": 2}}}, \"title\": {\"text\": \"Sample host\"}, \"xaxis\": {\"anchor\": \"y\", \"domain\": [0.0, 1.0], \"title\": {\"text\": \"sample_host\"}}, \"yaxis\": {\"anchor\": \"x\", \"domain\": [0.0, 1.0], \"title\": {\"text\": \"count\"}}},                        {\"responsive\": true}                    ).then(function(){\n",
       "                            \n",
       "var gd = document.getElementById('7b78dbe5-a879-44ce-bdaf-301f0f9ba664');\n",
       "var x = new MutationObserver(function (mutations, observer) {{\n",
       "        var display = window.getComputedStyle(gd).display;\n",
       "        if (!display || display === 'none') {{\n",
       "            console.log([gd, 'removed!']);\n",
       "            Plotly.purge(gd);\n",
       "            observer.disconnect();\n",
       "        }}\n",
       "}});\n",
       "\n",
       "// Listen for the removal of the full notebook cells\n",
       "var notebookContainer = gd.closest('#notebook-container');\n",
       "if (notebookContainer) {{\n",
       "    x.observe(notebookContainer, {childList: true});\n",
       "}}\n",
       "\n",
       "// Listen for the clearing of the current output cell\n",
       "var outputEl = gd.closest('.output');\n",
       "if (outputEl) {{\n",
       "    x.observe(outputEl, {childList: true});\n",
       "}}\n",
       "\n",
       "                        })                };                });            </script>        </div>"
      ]
     },
     "metadata": {},
     "output_type": "display_data"
    }
   ],
   "source": [
    "fig = px.histogram(aMetagenomes_metadata, x=\"sample_host\",title=\"Sample host\")\n",
    "fig.show()"
   ]
  },
  {
   "cell_type": "code",
   "execution_count": 52,
   "metadata": {},
   "outputs": [
    {
     "data": {
      "application/vnd.plotly.v1+json": {
       "config": {
        "plotlyServerURL": "https://plot.ly"
       },
       "data": [
        {
         "alignmentgroup": "True",
         "bingroup": "x",
         "hovertemplate": "community_type=%{x}<br>count=%{y}<extra></extra>",
         "legendgroup": "",
         "marker": {
          "color": "#636efa"
         },
         "name": "",
         "offsetgroup": "",
         "orientation": "v",
         "showlegend": false,
         "type": "histogram",
         "x": [
          "oral",
          "oral",
          "oral",
          "oral",
          "oral",
          "oral",
          "oral",
          "oral",
          "oral",
          "oral",
          "oral",
          "oral",
          "oral",
          "oral",
          "oral",
          "oral",
          "oral",
          "oral",
          "oral",
          "oral",
          "oral",
          "oral",
          "oral",
          "oral",
          "oral",
          "oral",
          "oral",
          "oral",
          "oral",
          "oral",
          "oral",
          "oral",
          "oral",
          "oral",
          "oral",
          "oral",
          "oral",
          "oral",
          "oral",
          "oral",
          "oral",
          "oral",
          "oral",
          "oral",
          "oral",
          "oral",
          "oral",
          "oral",
          "oral",
          "oral",
          "oral",
          "oral",
          "oral",
          "oral",
          "oral",
          "oral",
          "oral",
          "oral",
          "oral",
          "oral",
          "oral",
          "oral",
          "oral",
          "oral",
          "oral",
          "oral",
          "oral",
          "oral",
          "oral",
          "oral",
          "oral",
          "skeletal tissue",
          "skeletal tissue",
          "skeletal tissue",
          "skeletal tissue",
          "skeletal tissue",
          "skeletal tissue",
          "skeletal tissue",
          "skeletal tissue",
          "skeletal tissue",
          "skeletal tissue",
          "skeletal tissue",
          "skeletal tissue",
          "skeletal tissue",
          "skeletal tissue",
          "skeletal tissue",
          "skeletal tissue",
          "skeletal tissue",
          "skeletal tissue",
          "skeletal tissue",
          "skeletal tissue",
          "skeletal tissue",
          "skeletal tissue",
          "skeletal tissue",
          "skeletal tissue",
          "skeletal tissue",
          "skeletal tissue",
          "skeletal tissue",
          "skeletal tissue",
          "skeletal tissue",
          "skeletal tissue",
          "skeletal tissue",
          "skeletal tissue",
          "skeletal tissue",
          "skeletal tissue",
          "skeletal tissue",
          "skeletal tissue",
          "skeletal tissue",
          "skeletal tissue",
          "skeletal tissue",
          "skeletal tissue",
          "skeletal tissue",
          "skeletal tissue",
          "skeletal tissue",
          "skeletal tissue",
          "skeletal tissue",
          "skeletal tissue",
          "skeletal tissue",
          "skeletal tissue",
          "skeletal tissue",
          "skeletal tissue",
          "skeletal tissue",
          "skeletal tissue",
          "skeletal tissue",
          "skeletal tissue",
          "skeletal tissue",
          "skeletal tissue",
          "skeletal tissue",
          "skeletal tissue",
          "skeletal tissue",
          "skeletal tissue",
          "oral",
          "oral",
          "oral",
          "oral",
          "oral",
          "oral",
          "oral",
          "oral",
          "oral",
          "oral",
          "oral",
          "oral",
          "oral",
          "oral",
          "oral",
          "oral",
          "oral",
          "oral",
          "oral",
          "skeletal tissue",
          "skeletal tissue",
          "skeletal tissue",
          "skeletal tissue",
          "skeletal tissue",
          "skeletal tissue",
          "skeletal tissue",
          "skeletal tissue",
          "skeletal tissue",
          "oral",
          "oral",
          "skeletal tissue",
          "skeletal tissue",
          "oral",
          "soft tissue",
          "soft tissue",
          "soft tissue",
          "soft tissue",
          "soft tissue",
          "soft tissue",
          "soft tissue",
          "soft tissue",
          "soft tissue",
          "soft tissue",
          "soft tissue",
          "soft tissue",
          "soft tissue",
          "soft tissue",
          "soft tissue",
          "soft tissue",
          "skeletal tissue",
          "skeletal tissue",
          "skeletal tissue",
          "skeletal tissue",
          "skeletal tissue",
          "skeletal tissue",
          "skeletal tissue",
          "skeletal tissue",
          "skeletal tissue",
          "skeletal tissue",
          "skeletal tissue",
          "skeletal tissue",
          "skeletal tissue",
          "skeletal tissue",
          "skeletal tissue",
          "skeletal tissue",
          "soft tissue",
          "soft tissue",
          "soft tissue",
          "soft tissue",
          "soft tissue",
          "soft tissue",
          "soft tissue",
          "soft tissue",
          "soft tissue",
          "soft tissue",
          "soft tissue",
          "soft tissue",
          "soft tissue",
          "soft tissue",
          "soft tissue",
          "soft tissue",
          "soft tissue",
          "soft tissue",
          "soft tissue",
          "soft tissue",
          "soft tissue",
          "soft tissue",
          "soft tissue",
          "soft tissue",
          "soft tissue",
          "soft tissue",
          "soft tissue",
          "soft tissue",
          "soft tissue",
          "soft tissue",
          "soft tissue",
          "soft tissue",
          "soft tissue",
          "soft tissue",
          "soft tissue",
          "soft tissue",
          "soft tissue",
          "soft tissue",
          "soft tissue",
          "soft tissue",
          "soft tissue",
          "soft tissue",
          "soft tissue",
          "soft tissue",
          "soft tissue",
          "soft tissue",
          "soft tissue",
          "soft tissue",
          "skeletal tissue",
          "skeletal tissue",
          "skeletal tissue",
          "skeletal tissue",
          "skeletal tissue",
          "skeletal tissue",
          "skeletal tissue",
          "skeletal tissue",
          "skeletal tissue",
          "skeletal tissue",
          "skeletal tissue",
          "skeletal tissue",
          "skeletal tissue",
          "skeletal tissue",
          "skeletal tissue",
          "skeletal tissue",
          "soft tissue",
          "soft tissue",
          "soft tissue",
          "soft tissue",
          "soft tissue",
          "soft tissue",
          "soft tissue",
          "soft tissue",
          "soft tissue",
          "soft tissue",
          "soft tissue",
          "soft tissue",
          "soft tissue",
          "soft tissue",
          "soft tissue",
          "soft tissue",
          "soft tissue",
          "soft tissue",
          "soft tissue",
          "soft tissue",
          "soft tissue",
          "soft tissue",
          "soft tissue",
          "soft tissue",
          "soft tissue",
          "soft tissue",
          "soft tissue",
          "soft tissue",
          "soft tissue",
          "soft tissue",
          "soft tissue",
          "soft tissue",
          "soft tissue",
          "soft tissue",
          "soft tissue",
          "soft tissue",
          "soft tissue",
          "soft tissue",
          "soft tissue",
          "soft tissue",
          "soft tissue",
          "soft tissue",
          "soft tissue",
          "soft tissue",
          "soft tissue",
          "soft tissue",
          "soft tissue",
          "soft tissue",
          "skeletal tissue",
          "skeletal tissue",
          "skeletal tissue",
          "skeletal tissue",
          "skeletal tissue",
          "skeletal tissue",
          "skeletal tissue",
          "skeletal tissue",
          "skeletal tissue",
          "skeletal tissue",
          "skeletal tissue",
          "skeletal tissue",
          "skeletal tissue",
          "skeletal tissue",
          "skeletal tissue",
          "skeletal tissue",
          "soft tissue",
          "soft tissue",
          "soft tissue",
          "soft tissue",
          "soft tissue",
          "soft tissue",
          "soft tissue",
          "soft tissue",
          "soft tissue",
          "soft tissue",
          "soft tissue",
          "soft tissue",
          "soft tissue",
          "soft tissue",
          "soft tissue",
          "soft tissue",
          "soft tissue",
          "soft tissue",
          "soft tissue",
          "soft tissue",
          "soft tissue",
          "soft tissue",
          "soft tissue",
          "soft tissue",
          "soft tissue",
          "soft tissue",
          "soft tissue",
          "soft tissue",
          "soft tissue",
          "soft tissue",
          "soft tissue",
          "soft tissue",
          "soft tissue",
          "soft tissue",
          "soft tissue",
          "soft tissue",
          "soft tissue",
          "soft tissue",
          "soft tissue",
          "soft tissue",
          "soft tissue",
          "soft tissue",
          "soft tissue",
          "soft tissue",
          "soft tissue",
          "soft tissue",
          "soft tissue",
          "soft tissue",
          "skeletal tissue",
          "skeletal tissue",
          "skeletal tissue",
          "skeletal tissue",
          "skeletal tissue",
          "skeletal tissue",
          "skeletal tissue",
          "skeletal tissue",
          "skeletal tissue",
          "skeletal tissue",
          "skeletal tissue",
          "skeletal tissue",
          "skeletal tissue",
          "skeletal tissue",
          "skeletal tissue",
          "skeletal tissue",
          "plant tissue",
          "plant tissue",
          "plant tissue",
          "plant tissue",
          "plant tissue",
          "plant tissue",
          "plant tissue",
          "plant tissue",
          "plant tissue",
          "plant tissue",
          "plant tissue",
          "plant tissue",
          "plant tissue",
          "plant tissue",
          "plant tissue",
          "plant tissue",
          "plant tissue",
          "plant tissue",
          "plant tissue",
          "plant tissue",
          "plant tissue",
          "plant tissue",
          "plant tissue",
          "plant tissue",
          "plant tissue",
          "plant tissue",
          "plant tissue",
          "plant tissue",
          "plant tissue",
          "plant tissue",
          "plant tissue",
          "plant tissue",
          "plant tissue",
          "plant tissue",
          "plant tissue",
          "plant tissue",
          "plant tissue",
          "plant tissue",
          "plant tissue",
          "plant tissue",
          "plant tissue",
          "plant tissue",
          "plant tissue",
          "plant tissue",
          "plant tissue",
          "plant tissue",
          "plant tissue",
          "plant tissue",
          "plant tissue",
          "plant tissue",
          "plant tissue",
          "plant tissue",
          "plant tissue",
          "plant tissue",
          "plant tissue",
          "plant tissue",
          "plant tissue",
          "plant tissue",
          "oral",
          "oral",
          "oral",
          "oral",
          "oral",
          "oral",
          "oral",
          "gut",
          "oral",
          "oral",
          "oral",
          "oral",
          "oral",
          "oral",
          "oral",
          "oral",
          "oral",
          "oral",
          "oral",
          "oral",
          "oral",
          "oral",
          "oral",
          "oral",
          "oral",
          "oral",
          "oral",
          "oral",
          "oral",
          "oral",
          "oral",
          "oral",
          "oral",
          "oral",
          "oral",
          "oral",
          "oral",
          "oral",
          "oral",
          "oral",
          "oral",
          "gut",
          "gut",
          "gut",
          "gut",
          "gut",
          "gut",
          "gut",
          "gut",
          "oral",
          "oral",
          "oral",
          "oral",
          "oral",
          "oral",
          "oral",
          "oral",
          "oral",
          "oral",
          "oral",
          "oral",
          "oral",
          "oral",
          "oral",
          "oral",
          "oral",
          "oral",
          "oral",
          "oral",
          "oral",
          "oral",
          "oral",
          "oral",
          "oral",
          "oral",
          "oral",
          "oral",
          "oral",
          "oral",
          "oral",
          "oral",
          "oral",
          "oral",
          "oral",
          "oral",
          "oral",
          "oral",
          "oral",
          "oral",
          "oral",
          "oral",
          "oral",
          "oral",
          "oral",
          "oral",
          "oral",
          "oral",
          "oral",
          "oral",
          "oral",
          "oral",
          "oral",
          "oral",
          "oral",
          "oral",
          "oral",
          "oral",
          "oral",
          "oral",
          "oral",
          "oral",
          "oral",
          "oral",
          "oral",
          "oral",
          "oral",
          "oral",
          "oral",
          "oral",
          "oral",
          "oral",
          "oral",
          "oral",
          "oral",
          "oral",
          "oral",
          "oral",
          "oral",
          "oral",
          "oral",
          "oral",
          "oral",
          "oral",
          "oral",
          "oral",
          "oral",
          "oral",
          "oral",
          "oral",
          "oral",
          "oral",
          "oral",
          "oral",
          "oral",
          "oral",
          "oral",
          "oral",
          "oral",
          "oral",
          "oral",
          "oral",
          "oral",
          "oral",
          "oral",
          "oral",
          "oral",
          "oral",
          "oral",
          "oral",
          "oral",
          "oral",
          "oral",
          "oral",
          "oral",
          "oral",
          "oral",
          "oral",
          "oral",
          "oral",
          "oral",
          "oral",
          "oral",
          "oral",
          "oral",
          "oral",
          "oral",
          "oral",
          "oral",
          "oral",
          "oral",
          "oral",
          "oral",
          "oral",
          "oral",
          "oral",
          "oral",
          "oral",
          "oral",
          "oral",
          "oral",
          "oral",
          "oral",
          "oral",
          "oral",
          "oral",
          "oral",
          "oral",
          "oral",
          "oral",
          "oral",
          "oral",
          "oral",
          "oral",
          "oral",
          "oral",
          "oral",
          "oral",
          "oral",
          "oral",
          "oral",
          "oral",
          "oral",
          "oral",
          "oral",
          "oral",
          "oral"
         ],
         "xaxis": "x",
         "yaxis": "y"
        }
       ],
       "layout": {
        "barmode": "relative",
        "legend": {
         "tracegroupgap": 0
        },
        "template": {
         "data": {
          "bar": [
           {
            "error_x": {
             "color": "#2a3f5f"
            },
            "error_y": {
             "color": "#2a3f5f"
            },
            "marker": {
             "line": {
              "color": "#E5ECF6",
              "width": 0.5
             }
            },
            "type": "bar"
           }
          ],
          "barpolar": [
           {
            "marker": {
             "line": {
              "color": "#E5ECF6",
              "width": 0.5
             }
            },
            "type": "barpolar"
           }
          ],
          "carpet": [
           {
            "aaxis": {
             "endlinecolor": "#2a3f5f",
             "gridcolor": "white",
             "linecolor": "white",
             "minorgridcolor": "white",
             "startlinecolor": "#2a3f5f"
            },
            "baxis": {
             "endlinecolor": "#2a3f5f",
             "gridcolor": "white",
             "linecolor": "white",
             "minorgridcolor": "white",
             "startlinecolor": "#2a3f5f"
            },
            "type": "carpet"
           }
          ],
          "choropleth": [
           {
            "colorbar": {
             "outlinewidth": 0,
             "ticks": ""
            },
            "type": "choropleth"
           }
          ],
          "contour": [
           {
            "colorbar": {
             "outlinewidth": 0,
             "ticks": ""
            },
            "colorscale": [
             [
              0,
              "#0d0887"
             ],
             [
              0.1111111111111111,
              "#46039f"
             ],
             [
              0.2222222222222222,
              "#7201a8"
             ],
             [
              0.3333333333333333,
              "#9c179e"
             ],
             [
              0.4444444444444444,
              "#bd3786"
             ],
             [
              0.5555555555555556,
              "#d8576b"
             ],
             [
              0.6666666666666666,
              "#ed7953"
             ],
             [
              0.7777777777777778,
              "#fb9f3a"
             ],
             [
              0.8888888888888888,
              "#fdca26"
             ],
             [
              1,
              "#f0f921"
             ]
            ],
            "type": "contour"
           }
          ],
          "contourcarpet": [
           {
            "colorbar": {
             "outlinewidth": 0,
             "ticks": ""
            },
            "type": "contourcarpet"
           }
          ],
          "heatmap": [
           {
            "colorbar": {
             "outlinewidth": 0,
             "ticks": ""
            },
            "colorscale": [
             [
              0,
              "#0d0887"
             ],
             [
              0.1111111111111111,
              "#46039f"
             ],
             [
              0.2222222222222222,
              "#7201a8"
             ],
             [
              0.3333333333333333,
              "#9c179e"
             ],
             [
              0.4444444444444444,
              "#bd3786"
             ],
             [
              0.5555555555555556,
              "#d8576b"
             ],
             [
              0.6666666666666666,
              "#ed7953"
             ],
             [
              0.7777777777777778,
              "#fb9f3a"
             ],
             [
              0.8888888888888888,
              "#fdca26"
             ],
             [
              1,
              "#f0f921"
             ]
            ],
            "type": "heatmap"
           }
          ],
          "heatmapgl": [
           {
            "colorbar": {
             "outlinewidth": 0,
             "ticks": ""
            },
            "colorscale": [
             [
              0,
              "#0d0887"
             ],
             [
              0.1111111111111111,
              "#46039f"
             ],
             [
              0.2222222222222222,
              "#7201a8"
             ],
             [
              0.3333333333333333,
              "#9c179e"
             ],
             [
              0.4444444444444444,
              "#bd3786"
             ],
             [
              0.5555555555555556,
              "#d8576b"
             ],
             [
              0.6666666666666666,
              "#ed7953"
             ],
             [
              0.7777777777777778,
              "#fb9f3a"
             ],
             [
              0.8888888888888888,
              "#fdca26"
             ],
             [
              1,
              "#f0f921"
             ]
            ],
            "type": "heatmapgl"
           }
          ],
          "histogram": [
           {
            "marker": {
             "colorbar": {
              "outlinewidth": 0,
              "ticks": ""
             }
            },
            "type": "histogram"
           }
          ],
          "histogram2d": [
           {
            "colorbar": {
             "outlinewidth": 0,
             "ticks": ""
            },
            "colorscale": [
             [
              0,
              "#0d0887"
             ],
             [
              0.1111111111111111,
              "#46039f"
             ],
             [
              0.2222222222222222,
              "#7201a8"
             ],
             [
              0.3333333333333333,
              "#9c179e"
             ],
             [
              0.4444444444444444,
              "#bd3786"
             ],
             [
              0.5555555555555556,
              "#d8576b"
             ],
             [
              0.6666666666666666,
              "#ed7953"
             ],
             [
              0.7777777777777778,
              "#fb9f3a"
             ],
             [
              0.8888888888888888,
              "#fdca26"
             ],
             [
              1,
              "#f0f921"
             ]
            ],
            "type": "histogram2d"
           }
          ],
          "histogram2dcontour": [
           {
            "colorbar": {
             "outlinewidth": 0,
             "ticks": ""
            },
            "colorscale": [
             [
              0,
              "#0d0887"
             ],
             [
              0.1111111111111111,
              "#46039f"
             ],
             [
              0.2222222222222222,
              "#7201a8"
             ],
             [
              0.3333333333333333,
              "#9c179e"
             ],
             [
              0.4444444444444444,
              "#bd3786"
             ],
             [
              0.5555555555555556,
              "#d8576b"
             ],
             [
              0.6666666666666666,
              "#ed7953"
             ],
             [
              0.7777777777777778,
              "#fb9f3a"
             ],
             [
              0.8888888888888888,
              "#fdca26"
             ],
             [
              1,
              "#f0f921"
             ]
            ],
            "type": "histogram2dcontour"
           }
          ],
          "mesh3d": [
           {
            "colorbar": {
             "outlinewidth": 0,
             "ticks": ""
            },
            "type": "mesh3d"
           }
          ],
          "parcoords": [
           {
            "line": {
             "colorbar": {
              "outlinewidth": 0,
              "ticks": ""
             }
            },
            "type": "parcoords"
           }
          ],
          "pie": [
           {
            "automargin": true,
            "type": "pie"
           }
          ],
          "scatter": [
           {
            "marker": {
             "colorbar": {
              "outlinewidth": 0,
              "ticks": ""
             }
            },
            "type": "scatter"
           }
          ],
          "scatter3d": [
           {
            "line": {
             "colorbar": {
              "outlinewidth": 0,
              "ticks": ""
             }
            },
            "marker": {
             "colorbar": {
              "outlinewidth": 0,
              "ticks": ""
             }
            },
            "type": "scatter3d"
           }
          ],
          "scattercarpet": [
           {
            "marker": {
             "colorbar": {
              "outlinewidth": 0,
              "ticks": ""
             }
            },
            "type": "scattercarpet"
           }
          ],
          "scattergeo": [
           {
            "marker": {
             "colorbar": {
              "outlinewidth": 0,
              "ticks": ""
             }
            },
            "type": "scattergeo"
           }
          ],
          "scattergl": [
           {
            "marker": {
             "colorbar": {
              "outlinewidth": 0,
              "ticks": ""
             }
            },
            "type": "scattergl"
           }
          ],
          "scattermapbox": [
           {
            "marker": {
             "colorbar": {
              "outlinewidth": 0,
              "ticks": ""
             }
            },
            "type": "scattermapbox"
           }
          ],
          "scatterpolar": [
           {
            "marker": {
             "colorbar": {
              "outlinewidth": 0,
              "ticks": ""
             }
            },
            "type": "scatterpolar"
           }
          ],
          "scatterpolargl": [
           {
            "marker": {
             "colorbar": {
              "outlinewidth": 0,
              "ticks": ""
             }
            },
            "type": "scatterpolargl"
           }
          ],
          "scatterternary": [
           {
            "marker": {
             "colorbar": {
              "outlinewidth": 0,
              "ticks": ""
             }
            },
            "type": "scatterternary"
           }
          ],
          "surface": [
           {
            "colorbar": {
             "outlinewidth": 0,
             "ticks": ""
            },
            "colorscale": [
             [
              0,
              "#0d0887"
             ],
             [
              0.1111111111111111,
              "#46039f"
             ],
             [
              0.2222222222222222,
              "#7201a8"
             ],
             [
              0.3333333333333333,
              "#9c179e"
             ],
             [
              0.4444444444444444,
              "#bd3786"
             ],
             [
              0.5555555555555556,
              "#d8576b"
             ],
             [
              0.6666666666666666,
              "#ed7953"
             ],
             [
              0.7777777777777778,
              "#fb9f3a"
             ],
             [
              0.8888888888888888,
              "#fdca26"
             ],
             [
              1,
              "#f0f921"
             ]
            ],
            "type": "surface"
           }
          ],
          "table": [
           {
            "cells": {
             "fill": {
              "color": "#EBF0F8"
             },
             "line": {
              "color": "white"
             }
            },
            "header": {
             "fill": {
              "color": "#C8D4E3"
             },
             "line": {
              "color": "white"
             }
            },
            "type": "table"
           }
          ]
         },
         "layout": {
          "annotationdefaults": {
           "arrowcolor": "#2a3f5f",
           "arrowhead": 0,
           "arrowwidth": 1
          },
          "autotypenumbers": "strict",
          "coloraxis": {
           "colorbar": {
            "outlinewidth": 0,
            "ticks": ""
           }
          },
          "colorscale": {
           "diverging": [
            [
             0,
             "#8e0152"
            ],
            [
             0.1,
             "#c51b7d"
            ],
            [
             0.2,
             "#de77ae"
            ],
            [
             0.3,
             "#f1b6da"
            ],
            [
             0.4,
             "#fde0ef"
            ],
            [
             0.5,
             "#f7f7f7"
            ],
            [
             0.6,
             "#e6f5d0"
            ],
            [
             0.7,
             "#b8e186"
            ],
            [
             0.8,
             "#7fbc41"
            ],
            [
             0.9,
             "#4d9221"
            ],
            [
             1,
             "#276419"
            ]
           ],
           "sequential": [
            [
             0,
             "#0d0887"
            ],
            [
             0.1111111111111111,
             "#46039f"
            ],
            [
             0.2222222222222222,
             "#7201a8"
            ],
            [
             0.3333333333333333,
             "#9c179e"
            ],
            [
             0.4444444444444444,
             "#bd3786"
            ],
            [
             0.5555555555555556,
             "#d8576b"
            ],
            [
             0.6666666666666666,
             "#ed7953"
            ],
            [
             0.7777777777777778,
             "#fb9f3a"
            ],
            [
             0.8888888888888888,
             "#fdca26"
            ],
            [
             1,
             "#f0f921"
            ]
           ],
           "sequentialminus": [
            [
             0,
             "#0d0887"
            ],
            [
             0.1111111111111111,
             "#46039f"
            ],
            [
             0.2222222222222222,
             "#7201a8"
            ],
            [
             0.3333333333333333,
             "#9c179e"
            ],
            [
             0.4444444444444444,
             "#bd3786"
            ],
            [
             0.5555555555555556,
             "#d8576b"
            ],
            [
             0.6666666666666666,
             "#ed7953"
            ],
            [
             0.7777777777777778,
             "#fb9f3a"
            ],
            [
             0.8888888888888888,
             "#fdca26"
            ],
            [
             1,
             "#f0f921"
            ]
           ]
          },
          "colorway": [
           "#636efa",
           "#EF553B",
           "#00cc96",
           "#ab63fa",
           "#FFA15A",
           "#19d3f3",
           "#FF6692",
           "#B6E880",
           "#FF97FF",
           "#FECB52"
          ],
          "font": {
           "color": "#2a3f5f"
          },
          "geo": {
           "bgcolor": "white",
           "lakecolor": "white",
           "landcolor": "#E5ECF6",
           "showlakes": true,
           "showland": true,
           "subunitcolor": "white"
          },
          "hoverlabel": {
           "align": "left"
          },
          "hovermode": "closest",
          "mapbox": {
           "style": "light"
          },
          "paper_bgcolor": "white",
          "plot_bgcolor": "#E5ECF6",
          "polar": {
           "angularaxis": {
            "gridcolor": "white",
            "linecolor": "white",
            "ticks": ""
           },
           "bgcolor": "#E5ECF6",
           "radialaxis": {
            "gridcolor": "white",
            "linecolor": "white",
            "ticks": ""
           }
          },
          "scene": {
           "xaxis": {
            "backgroundcolor": "#E5ECF6",
            "gridcolor": "white",
            "gridwidth": 2,
            "linecolor": "white",
            "showbackground": true,
            "ticks": "",
            "zerolinecolor": "white"
           },
           "yaxis": {
            "backgroundcolor": "#E5ECF6",
            "gridcolor": "white",
            "gridwidth": 2,
            "linecolor": "white",
            "showbackground": true,
            "ticks": "",
            "zerolinecolor": "white"
           },
           "zaxis": {
            "backgroundcolor": "#E5ECF6",
            "gridcolor": "white",
            "gridwidth": 2,
            "linecolor": "white",
            "showbackground": true,
            "ticks": "",
            "zerolinecolor": "white"
           }
          },
          "shapedefaults": {
           "line": {
            "color": "#2a3f5f"
           }
          },
          "ternary": {
           "aaxis": {
            "gridcolor": "white",
            "linecolor": "white",
            "ticks": ""
           },
           "baxis": {
            "gridcolor": "white",
            "linecolor": "white",
            "ticks": ""
           },
           "bgcolor": "#E5ECF6",
           "caxis": {
            "gridcolor": "white",
            "linecolor": "white",
            "ticks": ""
           }
          },
          "title": {
           "x": 0.05
          },
          "xaxis": {
           "automargin": true,
           "gridcolor": "white",
           "linecolor": "white",
           "ticks": "",
           "title": {
            "standoff": 15
           },
           "zerolinecolor": "white",
           "zerolinewidth": 2
          },
          "yaxis": {
           "automargin": true,
           "gridcolor": "white",
           "linecolor": "white",
           "ticks": "",
           "title": {
            "standoff": 15
           },
           "zerolinecolor": "white",
           "zerolinewidth": 2
          }
         }
        },
        "title": {
         "text": "Community type"
        },
        "xaxis": {
         "anchor": "y",
         "domain": [
          0,
          1
         ],
         "title": {
          "text": "community_type"
         }
        },
        "yaxis": {
         "anchor": "x",
         "domain": [
          0,
          1
         ],
         "title": {
          "text": "count"
         }
        }
       }
      },
      "text/html": [
       "<div>                            <div id=\"50812f8b-0e8b-461d-a34c-55a143406b16\" class=\"plotly-graph-div\" style=\"height:525px; width:100%;\"></div>            <script type=\"text/javascript\">                require([\"plotly\"], function(Plotly) {                    window.PLOTLYENV=window.PLOTLYENV || {};                                    if (document.getElementById(\"50812f8b-0e8b-461d-a34c-55a143406b16\")) {                    Plotly.newPlot(                        \"50812f8b-0e8b-461d-a34c-55a143406b16\",                        [{\"alignmentgroup\": \"True\", \"bingroup\": \"x\", \"hovertemplate\": \"community_type=%{x}<br>count=%{y}<extra></extra>\", \"legendgroup\": \"\", \"marker\": {\"color\": \"#636efa\"}, \"name\": \"\", \"offsetgroup\": \"\", \"orientation\": \"v\", \"showlegend\": false, \"type\": \"histogram\", \"x\": [\"oral\", \"oral\", \"oral\", \"oral\", \"oral\", \"oral\", \"oral\", \"oral\", \"oral\", \"oral\", \"oral\", \"oral\", \"oral\", \"oral\", \"oral\", \"oral\", \"oral\", \"oral\", \"oral\", \"oral\", \"oral\", \"oral\", \"oral\", \"oral\", \"oral\", \"oral\", \"oral\", \"oral\", \"oral\", \"oral\", \"oral\", \"oral\", \"oral\", \"oral\", \"oral\", \"oral\", \"oral\", \"oral\", \"oral\", \"oral\", \"oral\", \"oral\", \"oral\", \"oral\", \"oral\", \"oral\", \"oral\", \"oral\", \"oral\", \"oral\", \"oral\", \"oral\", \"oral\", \"oral\", \"oral\", \"oral\", \"oral\", \"oral\", \"oral\", \"oral\", \"oral\", \"oral\", \"oral\", \"oral\", \"oral\", \"oral\", \"oral\", \"oral\", \"oral\", \"oral\", \"oral\", \"skeletal tissue\", \"skeletal tissue\", \"skeletal tissue\", \"skeletal tissue\", \"skeletal tissue\", \"skeletal tissue\", \"skeletal tissue\", \"skeletal tissue\", \"skeletal tissue\", \"skeletal tissue\", \"skeletal tissue\", \"skeletal tissue\", \"skeletal tissue\", \"skeletal tissue\", \"skeletal tissue\", \"skeletal tissue\", \"skeletal tissue\", \"skeletal tissue\", \"skeletal tissue\", \"skeletal tissue\", \"skeletal tissue\", \"skeletal tissue\", \"skeletal tissue\", \"skeletal tissue\", \"skeletal tissue\", \"skeletal tissue\", \"skeletal tissue\", \"skeletal tissue\", \"skeletal tissue\", \"skeletal tissue\", \"skeletal tissue\", \"skeletal tissue\", \"skeletal tissue\", \"skeletal tissue\", \"skeletal tissue\", \"skeletal tissue\", \"skeletal tissue\", \"skeletal tissue\", \"skeletal tissue\", \"skeletal tissue\", \"skeletal tissue\", \"skeletal tissue\", \"skeletal tissue\", \"skeletal tissue\", \"skeletal tissue\", \"skeletal tissue\", \"skeletal tissue\", \"skeletal tissue\", \"skeletal tissue\", \"skeletal tissue\", \"skeletal tissue\", \"skeletal tissue\", \"skeletal tissue\", \"skeletal tissue\", \"skeletal tissue\", \"skeletal tissue\", \"skeletal tissue\", \"skeletal tissue\", \"skeletal tissue\", \"skeletal tissue\", \"oral\", \"oral\", \"oral\", \"oral\", \"oral\", \"oral\", \"oral\", \"oral\", \"oral\", \"oral\", \"oral\", \"oral\", \"oral\", \"oral\", \"oral\", \"oral\", \"oral\", \"oral\", \"oral\", \"skeletal tissue\", \"skeletal tissue\", \"skeletal tissue\", \"skeletal tissue\", \"skeletal tissue\", \"skeletal tissue\", \"skeletal tissue\", \"skeletal tissue\", \"skeletal tissue\", \"oral\", \"oral\", \"skeletal tissue\", \"skeletal tissue\", \"oral\", \"soft tissue\", \"soft tissue\", \"soft tissue\", \"soft tissue\", \"soft tissue\", \"soft tissue\", \"soft tissue\", \"soft tissue\", \"soft tissue\", \"soft tissue\", \"soft tissue\", \"soft tissue\", \"soft tissue\", \"soft tissue\", \"soft tissue\", \"soft tissue\", \"skeletal tissue\", \"skeletal tissue\", \"skeletal tissue\", \"skeletal tissue\", \"skeletal tissue\", \"skeletal tissue\", \"skeletal tissue\", \"skeletal tissue\", \"skeletal tissue\", \"skeletal tissue\", \"skeletal tissue\", \"skeletal tissue\", \"skeletal tissue\", \"skeletal tissue\", \"skeletal tissue\", \"skeletal tissue\", \"soft tissue\", \"soft tissue\", \"soft tissue\", \"soft tissue\", \"soft tissue\", \"soft tissue\", \"soft tissue\", \"soft tissue\", \"soft tissue\", \"soft tissue\", \"soft tissue\", \"soft tissue\", \"soft tissue\", \"soft tissue\", \"soft tissue\", \"soft tissue\", \"soft tissue\", \"soft tissue\", \"soft tissue\", \"soft tissue\", \"soft tissue\", \"soft tissue\", \"soft tissue\", \"soft tissue\", \"soft tissue\", \"soft tissue\", \"soft tissue\", \"soft tissue\", \"soft tissue\", \"soft tissue\", \"soft tissue\", \"soft tissue\", \"soft tissue\", \"soft tissue\", \"soft tissue\", \"soft tissue\", \"soft tissue\", \"soft tissue\", \"soft tissue\", \"soft tissue\", \"soft tissue\", \"soft tissue\", \"soft tissue\", \"soft tissue\", \"soft tissue\", \"soft tissue\", \"soft tissue\", \"soft tissue\", \"skeletal tissue\", \"skeletal tissue\", \"skeletal tissue\", \"skeletal tissue\", \"skeletal tissue\", \"skeletal tissue\", \"skeletal tissue\", \"skeletal tissue\", \"skeletal tissue\", \"skeletal tissue\", \"skeletal tissue\", \"skeletal tissue\", \"skeletal tissue\", \"skeletal tissue\", \"skeletal tissue\", \"skeletal tissue\", \"soft tissue\", \"soft tissue\", \"soft tissue\", \"soft tissue\", \"soft tissue\", \"soft tissue\", \"soft tissue\", \"soft tissue\", \"soft tissue\", \"soft tissue\", \"soft tissue\", \"soft tissue\", \"soft tissue\", \"soft tissue\", \"soft tissue\", \"soft tissue\", \"soft tissue\", \"soft tissue\", \"soft tissue\", \"soft tissue\", \"soft tissue\", \"soft tissue\", \"soft tissue\", \"soft tissue\", \"soft tissue\", \"soft tissue\", \"soft tissue\", \"soft tissue\", \"soft tissue\", \"soft tissue\", \"soft tissue\", \"soft tissue\", \"soft tissue\", \"soft tissue\", \"soft tissue\", \"soft tissue\", \"soft tissue\", \"soft tissue\", \"soft tissue\", \"soft tissue\", \"soft tissue\", \"soft tissue\", \"soft tissue\", \"soft tissue\", \"soft tissue\", \"soft tissue\", \"soft tissue\", \"soft tissue\", \"skeletal tissue\", \"skeletal tissue\", \"skeletal tissue\", \"skeletal tissue\", \"skeletal tissue\", \"skeletal tissue\", \"skeletal tissue\", \"skeletal tissue\", \"skeletal tissue\", \"skeletal tissue\", \"skeletal tissue\", \"skeletal tissue\", \"skeletal tissue\", \"skeletal tissue\", \"skeletal tissue\", \"skeletal tissue\", \"soft tissue\", \"soft tissue\", \"soft tissue\", \"soft tissue\", \"soft tissue\", \"soft tissue\", \"soft tissue\", \"soft tissue\", \"soft tissue\", \"soft tissue\", \"soft tissue\", \"soft tissue\", \"soft tissue\", \"soft tissue\", \"soft tissue\", \"soft tissue\", \"soft tissue\", \"soft tissue\", \"soft tissue\", \"soft tissue\", \"soft tissue\", \"soft tissue\", \"soft tissue\", \"soft tissue\", \"soft tissue\", \"soft tissue\", \"soft tissue\", \"soft tissue\", \"soft tissue\", \"soft tissue\", \"soft tissue\", \"soft tissue\", \"soft tissue\", \"soft tissue\", \"soft tissue\", \"soft tissue\", \"soft tissue\", \"soft tissue\", \"soft tissue\", \"soft tissue\", \"soft tissue\", \"soft tissue\", \"soft tissue\", \"soft tissue\", \"soft tissue\", \"soft tissue\", \"soft tissue\", \"soft tissue\", \"skeletal tissue\", \"skeletal tissue\", \"skeletal tissue\", \"skeletal tissue\", \"skeletal tissue\", \"skeletal tissue\", \"skeletal tissue\", \"skeletal tissue\", \"skeletal tissue\", \"skeletal tissue\", \"skeletal tissue\", \"skeletal tissue\", \"skeletal tissue\", \"skeletal tissue\", \"skeletal tissue\", \"skeletal tissue\", \"plant tissue\", \"plant tissue\", \"plant tissue\", \"plant tissue\", \"plant tissue\", \"plant tissue\", \"plant tissue\", \"plant tissue\", \"plant tissue\", \"plant tissue\", \"plant tissue\", \"plant tissue\", \"plant tissue\", \"plant tissue\", \"plant tissue\", \"plant tissue\", \"plant tissue\", \"plant tissue\", \"plant tissue\", \"plant tissue\", \"plant tissue\", \"plant tissue\", \"plant tissue\", \"plant tissue\", \"plant tissue\", \"plant tissue\", \"plant tissue\", \"plant tissue\", \"plant tissue\", \"plant tissue\", \"plant tissue\", \"plant tissue\", \"plant tissue\", \"plant tissue\", \"plant tissue\", \"plant tissue\", \"plant tissue\", \"plant tissue\", \"plant tissue\", \"plant tissue\", \"plant tissue\", \"plant tissue\", \"plant tissue\", \"plant tissue\", \"plant tissue\", \"plant tissue\", \"plant tissue\", \"plant tissue\", \"plant tissue\", \"plant tissue\", \"plant tissue\", \"plant tissue\", \"plant tissue\", \"plant tissue\", \"plant tissue\", \"plant tissue\", \"plant tissue\", \"plant tissue\", \"oral\", \"oral\", \"oral\", \"oral\", \"oral\", \"oral\", \"oral\", \"gut\", \"oral\", \"oral\", \"oral\", \"oral\", \"oral\", \"oral\", \"oral\", \"oral\", \"oral\", \"oral\", \"oral\", \"oral\", \"oral\", \"oral\", \"oral\", \"oral\", \"oral\", \"oral\", \"oral\", \"oral\", \"oral\", \"oral\", \"oral\", \"oral\", \"oral\", \"oral\", \"oral\", \"oral\", \"oral\", \"oral\", \"oral\", \"oral\", \"oral\", \"gut\", \"gut\", \"gut\", \"gut\", \"gut\", \"gut\", \"gut\", \"gut\", \"oral\", \"oral\", \"oral\", \"oral\", \"oral\", \"oral\", \"oral\", \"oral\", \"oral\", \"oral\", \"oral\", \"oral\", \"oral\", \"oral\", \"oral\", \"oral\", \"oral\", \"oral\", \"oral\", \"oral\", \"oral\", \"oral\", \"oral\", \"oral\", \"oral\", \"oral\", \"oral\", \"oral\", \"oral\", \"oral\", \"oral\", \"oral\", \"oral\", \"oral\", \"oral\", \"oral\", \"oral\", \"oral\", \"oral\", \"oral\", \"oral\", \"oral\", \"oral\", \"oral\", \"oral\", \"oral\", \"oral\", \"oral\", \"oral\", \"oral\", \"oral\", \"oral\", \"oral\", \"oral\", \"oral\", \"oral\", \"oral\", \"oral\", \"oral\", \"oral\", \"oral\", \"oral\", \"oral\", \"oral\", \"oral\", \"oral\", \"oral\", \"oral\", \"oral\", \"oral\", \"oral\", \"oral\", \"oral\", \"oral\", \"oral\", \"oral\", \"oral\", \"oral\", \"oral\", \"oral\", \"oral\", \"oral\", \"oral\", \"oral\", \"oral\", \"oral\", \"oral\", \"oral\", \"oral\", \"oral\", \"oral\", \"oral\", \"oral\", \"oral\", \"oral\", \"oral\", \"oral\", \"oral\", \"oral\", \"oral\", \"oral\", \"oral\", \"oral\", \"oral\", \"oral\", \"oral\", \"oral\", \"oral\", \"oral\", \"oral\", \"oral\", \"oral\", \"oral\", \"oral\", \"oral\", \"oral\", \"oral\", \"oral\", \"oral\", \"oral\", \"oral\", \"oral\", \"oral\", \"oral\", \"oral\", \"oral\", \"oral\", \"oral\", \"oral\", \"oral\", \"oral\", \"oral\", \"oral\", \"oral\", \"oral\", \"oral\", \"oral\", \"oral\", \"oral\", \"oral\", \"oral\", \"oral\", \"oral\", \"oral\", \"oral\", \"oral\", \"oral\", \"oral\", \"oral\", \"oral\", \"oral\", \"oral\", \"oral\", \"oral\", \"oral\", \"oral\", \"oral\", \"oral\", \"oral\", \"oral\", \"oral\", \"oral\", \"oral\", \"oral\", \"oral\", \"oral\", \"oral\"], \"xaxis\": \"x\", \"yaxis\": \"y\"}],                        {\"barmode\": \"relative\", \"legend\": {\"tracegroupgap\": 0}, \"template\": {\"data\": {\"bar\": [{\"error_x\": {\"color\": \"#2a3f5f\"}, \"error_y\": {\"color\": \"#2a3f5f\"}, \"marker\": {\"line\": {\"color\": \"#E5ECF6\", \"width\": 0.5}}, \"type\": \"bar\"}], \"barpolar\": [{\"marker\": {\"line\": {\"color\": \"#E5ECF6\", \"width\": 0.5}}, \"type\": \"barpolar\"}], \"carpet\": [{\"aaxis\": {\"endlinecolor\": \"#2a3f5f\", \"gridcolor\": \"white\", \"linecolor\": \"white\", \"minorgridcolor\": \"white\", \"startlinecolor\": \"#2a3f5f\"}, \"baxis\": {\"endlinecolor\": \"#2a3f5f\", \"gridcolor\": \"white\", \"linecolor\": \"white\", \"minorgridcolor\": \"white\", \"startlinecolor\": \"#2a3f5f\"}, \"type\": \"carpet\"}], \"choropleth\": [{\"colorbar\": {\"outlinewidth\": 0, \"ticks\": \"\"}, \"type\": \"choropleth\"}], \"contour\": [{\"colorbar\": {\"outlinewidth\": 0, \"ticks\": \"\"}, \"colorscale\": [[0.0, \"#0d0887\"], [0.1111111111111111, \"#46039f\"], [0.2222222222222222, \"#7201a8\"], [0.3333333333333333, \"#9c179e\"], [0.4444444444444444, \"#bd3786\"], [0.5555555555555556, \"#d8576b\"], [0.6666666666666666, \"#ed7953\"], [0.7777777777777778, \"#fb9f3a\"], [0.8888888888888888, \"#fdca26\"], [1.0, \"#f0f921\"]], \"type\": \"contour\"}], \"contourcarpet\": [{\"colorbar\": {\"outlinewidth\": 0, \"ticks\": \"\"}, \"type\": \"contourcarpet\"}], \"heatmap\": [{\"colorbar\": {\"outlinewidth\": 0, \"ticks\": \"\"}, \"colorscale\": [[0.0, \"#0d0887\"], [0.1111111111111111, \"#46039f\"], [0.2222222222222222, \"#7201a8\"], [0.3333333333333333, \"#9c179e\"], [0.4444444444444444, \"#bd3786\"], [0.5555555555555556, \"#d8576b\"], [0.6666666666666666, \"#ed7953\"], [0.7777777777777778, \"#fb9f3a\"], [0.8888888888888888, \"#fdca26\"], [1.0, \"#f0f921\"]], \"type\": \"heatmap\"}], \"heatmapgl\": [{\"colorbar\": {\"outlinewidth\": 0, \"ticks\": \"\"}, \"colorscale\": [[0.0, \"#0d0887\"], [0.1111111111111111, \"#46039f\"], [0.2222222222222222, \"#7201a8\"], [0.3333333333333333, \"#9c179e\"], [0.4444444444444444, \"#bd3786\"], [0.5555555555555556, \"#d8576b\"], [0.6666666666666666, \"#ed7953\"], [0.7777777777777778, \"#fb9f3a\"], [0.8888888888888888, \"#fdca26\"], [1.0, \"#f0f921\"]], \"type\": \"heatmapgl\"}], \"histogram\": [{\"marker\": {\"colorbar\": {\"outlinewidth\": 0, \"ticks\": \"\"}}, \"type\": \"histogram\"}], \"histogram2d\": [{\"colorbar\": {\"outlinewidth\": 0, \"ticks\": \"\"}, \"colorscale\": [[0.0, \"#0d0887\"], [0.1111111111111111, \"#46039f\"], [0.2222222222222222, \"#7201a8\"], [0.3333333333333333, \"#9c179e\"], [0.4444444444444444, \"#bd3786\"], [0.5555555555555556, \"#d8576b\"], [0.6666666666666666, \"#ed7953\"], [0.7777777777777778, \"#fb9f3a\"], [0.8888888888888888, \"#fdca26\"], [1.0, \"#f0f921\"]], \"type\": \"histogram2d\"}], \"histogram2dcontour\": [{\"colorbar\": {\"outlinewidth\": 0, \"ticks\": \"\"}, \"colorscale\": [[0.0, \"#0d0887\"], [0.1111111111111111, \"#46039f\"], [0.2222222222222222, \"#7201a8\"], [0.3333333333333333, \"#9c179e\"], [0.4444444444444444, \"#bd3786\"], [0.5555555555555556, \"#d8576b\"], [0.6666666666666666, \"#ed7953\"], [0.7777777777777778, \"#fb9f3a\"], [0.8888888888888888, \"#fdca26\"], [1.0, \"#f0f921\"]], \"type\": \"histogram2dcontour\"}], \"mesh3d\": [{\"colorbar\": {\"outlinewidth\": 0, \"ticks\": \"\"}, \"type\": \"mesh3d\"}], \"parcoords\": [{\"line\": {\"colorbar\": {\"outlinewidth\": 0, \"ticks\": \"\"}}, \"type\": \"parcoords\"}], \"pie\": [{\"automargin\": true, \"type\": \"pie\"}], \"scatter\": [{\"marker\": {\"colorbar\": {\"outlinewidth\": 0, \"ticks\": \"\"}}, \"type\": \"scatter\"}], \"scatter3d\": [{\"line\": {\"colorbar\": {\"outlinewidth\": 0, \"ticks\": \"\"}}, \"marker\": {\"colorbar\": {\"outlinewidth\": 0, \"ticks\": \"\"}}, \"type\": \"scatter3d\"}], \"scattercarpet\": [{\"marker\": {\"colorbar\": {\"outlinewidth\": 0, \"ticks\": \"\"}}, \"type\": \"scattercarpet\"}], \"scattergeo\": [{\"marker\": {\"colorbar\": {\"outlinewidth\": 0, \"ticks\": \"\"}}, \"type\": \"scattergeo\"}], \"scattergl\": [{\"marker\": {\"colorbar\": {\"outlinewidth\": 0, \"ticks\": \"\"}}, \"type\": \"scattergl\"}], \"scattermapbox\": [{\"marker\": {\"colorbar\": {\"outlinewidth\": 0, \"ticks\": \"\"}}, \"type\": \"scattermapbox\"}], \"scatterpolar\": [{\"marker\": {\"colorbar\": {\"outlinewidth\": 0, \"ticks\": \"\"}}, \"type\": \"scatterpolar\"}], \"scatterpolargl\": [{\"marker\": {\"colorbar\": {\"outlinewidth\": 0, \"ticks\": \"\"}}, \"type\": \"scatterpolargl\"}], \"scatterternary\": [{\"marker\": {\"colorbar\": {\"outlinewidth\": 0, \"ticks\": \"\"}}, \"type\": \"scatterternary\"}], \"surface\": [{\"colorbar\": {\"outlinewidth\": 0, \"ticks\": \"\"}, \"colorscale\": [[0.0, \"#0d0887\"], [0.1111111111111111, \"#46039f\"], [0.2222222222222222, \"#7201a8\"], [0.3333333333333333, \"#9c179e\"], [0.4444444444444444, \"#bd3786\"], [0.5555555555555556, \"#d8576b\"], [0.6666666666666666, \"#ed7953\"], [0.7777777777777778, \"#fb9f3a\"], [0.8888888888888888, \"#fdca26\"], [1.0, \"#f0f921\"]], \"type\": \"surface\"}], \"table\": [{\"cells\": {\"fill\": {\"color\": \"#EBF0F8\"}, \"line\": {\"color\": \"white\"}}, \"header\": {\"fill\": {\"color\": \"#C8D4E3\"}, \"line\": {\"color\": \"white\"}}, \"type\": \"table\"}]}, \"layout\": {\"annotationdefaults\": {\"arrowcolor\": \"#2a3f5f\", \"arrowhead\": 0, \"arrowwidth\": 1}, \"autotypenumbers\": \"strict\", \"coloraxis\": {\"colorbar\": {\"outlinewidth\": 0, \"ticks\": \"\"}}, \"colorscale\": {\"diverging\": [[0, \"#8e0152\"], [0.1, \"#c51b7d\"], [0.2, \"#de77ae\"], [0.3, \"#f1b6da\"], [0.4, \"#fde0ef\"], [0.5, \"#f7f7f7\"], [0.6, \"#e6f5d0\"], [0.7, \"#b8e186\"], [0.8, \"#7fbc41\"], [0.9, \"#4d9221\"], [1, \"#276419\"]], \"sequential\": [[0.0, \"#0d0887\"], [0.1111111111111111, \"#46039f\"], [0.2222222222222222, \"#7201a8\"], [0.3333333333333333, \"#9c179e\"], [0.4444444444444444, \"#bd3786\"], [0.5555555555555556, \"#d8576b\"], [0.6666666666666666, \"#ed7953\"], [0.7777777777777778, \"#fb9f3a\"], [0.8888888888888888, \"#fdca26\"], [1.0, \"#f0f921\"]], \"sequentialminus\": [[0.0, \"#0d0887\"], [0.1111111111111111, \"#46039f\"], [0.2222222222222222, \"#7201a8\"], [0.3333333333333333, \"#9c179e\"], [0.4444444444444444, \"#bd3786\"], [0.5555555555555556, \"#d8576b\"], [0.6666666666666666, \"#ed7953\"], [0.7777777777777778, \"#fb9f3a\"], [0.8888888888888888, \"#fdca26\"], [1.0, \"#f0f921\"]]}, \"colorway\": [\"#636efa\", \"#EF553B\", \"#00cc96\", \"#ab63fa\", \"#FFA15A\", \"#19d3f3\", \"#FF6692\", \"#B6E880\", \"#FF97FF\", \"#FECB52\"], \"font\": {\"color\": \"#2a3f5f\"}, \"geo\": {\"bgcolor\": \"white\", \"lakecolor\": \"white\", \"landcolor\": \"#E5ECF6\", \"showlakes\": true, \"showland\": true, \"subunitcolor\": \"white\"}, \"hoverlabel\": {\"align\": \"left\"}, \"hovermode\": \"closest\", \"mapbox\": {\"style\": \"light\"}, \"paper_bgcolor\": \"white\", \"plot_bgcolor\": \"#E5ECF6\", \"polar\": {\"angularaxis\": {\"gridcolor\": \"white\", \"linecolor\": \"white\", \"ticks\": \"\"}, \"bgcolor\": \"#E5ECF6\", \"radialaxis\": {\"gridcolor\": \"white\", \"linecolor\": \"white\", \"ticks\": \"\"}}, \"scene\": {\"xaxis\": {\"backgroundcolor\": \"#E5ECF6\", \"gridcolor\": \"white\", \"gridwidth\": 2, \"linecolor\": \"white\", \"showbackground\": true, \"ticks\": \"\", \"zerolinecolor\": \"white\"}, \"yaxis\": {\"backgroundcolor\": \"#E5ECF6\", \"gridcolor\": \"white\", \"gridwidth\": 2, \"linecolor\": \"white\", \"showbackground\": true, \"ticks\": \"\", \"zerolinecolor\": \"white\"}, \"zaxis\": {\"backgroundcolor\": \"#E5ECF6\", \"gridcolor\": \"white\", \"gridwidth\": 2, \"linecolor\": \"white\", \"showbackground\": true, \"ticks\": \"\", \"zerolinecolor\": \"white\"}}, \"shapedefaults\": {\"line\": {\"color\": \"#2a3f5f\"}}, \"ternary\": {\"aaxis\": {\"gridcolor\": \"white\", \"linecolor\": \"white\", \"ticks\": \"\"}, \"baxis\": {\"gridcolor\": \"white\", \"linecolor\": \"white\", \"ticks\": \"\"}, \"bgcolor\": \"#E5ECF6\", \"caxis\": {\"gridcolor\": \"white\", \"linecolor\": \"white\", \"ticks\": \"\"}}, \"title\": {\"x\": 0.05}, \"xaxis\": {\"automargin\": true, \"gridcolor\": \"white\", \"linecolor\": \"white\", \"ticks\": \"\", \"title\": {\"standoff\": 15}, \"zerolinecolor\": \"white\", \"zerolinewidth\": 2}, \"yaxis\": {\"automargin\": true, \"gridcolor\": \"white\", \"linecolor\": \"white\", \"ticks\": \"\", \"title\": {\"standoff\": 15}, \"zerolinecolor\": \"white\", \"zerolinewidth\": 2}}}, \"title\": {\"text\": \"Community type\"}, \"xaxis\": {\"anchor\": \"y\", \"domain\": [0.0, 1.0], \"title\": {\"text\": \"community_type\"}}, \"yaxis\": {\"anchor\": \"x\", \"domain\": [0.0, 1.0], \"title\": {\"text\": \"count\"}}},                        {\"responsive\": true}                    ).then(function(){\n",
       "                            \n",
       "var gd = document.getElementById('50812f8b-0e8b-461d-a34c-55a143406b16');\n",
       "var x = new MutationObserver(function (mutations, observer) {{\n",
       "        var display = window.getComputedStyle(gd).display;\n",
       "        if (!display || display === 'none') {{\n",
       "            console.log([gd, 'removed!']);\n",
       "            Plotly.purge(gd);\n",
       "            observer.disconnect();\n",
       "        }}\n",
       "}});\n",
       "\n",
       "// Listen for the removal of the full notebook cells\n",
       "var notebookContainer = gd.closest('#notebook-container');\n",
       "if (notebookContainer) {{\n",
       "    x.observe(notebookContainer, {childList: true});\n",
       "}}\n",
       "\n",
       "// Listen for the clearing of the current output cell\n",
       "var outputEl = gd.closest('.output');\n",
       "if (outputEl) {{\n",
       "    x.observe(outputEl, {childList: true});\n",
       "}}\n",
       "\n",
       "                        })                };                });            </script>        </div>"
      ]
     },
     "metadata": {},
     "output_type": "display_data"
    }
   ],
   "source": [
    "fig = px.histogram(aMetagenomes_metadata, x=\"community_type\",title=\"Community type\")\n",
    "fig.show()"
   ]
  },
  {
   "cell_type": "code",
   "execution_count": 53,
   "metadata": {},
   "outputs": [
    {
     "data": {
      "application/vnd.plotly.v1+json": {
       "config": {
        "plotlyServerURL": "https://plot.ly"
       },
       "data": [
        {
         "alignmentgroup": "True",
         "bingroup": "x",
         "hovertemplate": "material=%{x}<br>count=%{y}<extra></extra>",
         "legendgroup": "",
         "marker": {
          "color": "#636efa"
         },
         "name": "",
         "offsetgroup": "",
         "orientation": "v",
         "showlegend": false,
         "type": "histogram",
         "x": [
          "dental calculus",
          "dental calculus",
          "dental calculus",
          "dental calculus",
          "dental calculus",
          "dental calculus",
          "dental calculus",
          "dental calculus",
          "dental calculus",
          "dental calculus",
          "dental calculus",
          "dental calculus",
          "dental calculus",
          "dental calculus",
          "dental calculus",
          "dental calculus",
          "dental calculus",
          "dental calculus",
          "dental calculus",
          "dental calculus",
          "dental calculus",
          "dental calculus",
          "dental calculus",
          "dental calculus",
          "dental calculus",
          "dental calculus",
          "dental calculus",
          "dental calculus",
          "dental calculus",
          "dental calculus",
          "dental calculus",
          "dental calculus",
          "dental calculus",
          "dental calculus",
          "dental calculus",
          "dental calculus",
          "dental calculus",
          "dental calculus",
          "dental calculus",
          "dental calculus",
          "dental calculus",
          "dental calculus",
          "dental calculus",
          "dental calculus",
          "dental calculus",
          "dental calculus",
          "dental calculus",
          "dental calculus",
          "dental calculus",
          "dental calculus",
          "dental calculus",
          "dental calculus",
          "dental calculus",
          "dental calculus",
          "dental calculus",
          "dental calculus",
          "dental calculus",
          "dental calculus",
          "dental calculus",
          "dental calculus",
          "dental calculus",
          "dental calculus",
          "dental calculus",
          "dental calculus",
          "dental calculus",
          "dental calculus",
          "dental calculus",
          "dental calculus",
          "dental calculus",
          "dental calculus",
          "dental calculus",
          "tooth",
          "tooth",
          "tooth",
          "tooth",
          "tooth",
          "tooth",
          "tooth",
          "tooth",
          "tooth",
          "tooth",
          "tooth",
          "tooth",
          "tooth",
          "tooth",
          "tooth",
          "tooth",
          "tooth",
          "tooth",
          "tooth",
          "tooth",
          "tooth",
          "tooth",
          "tooth",
          "tooth",
          "tooth",
          "tooth",
          "tooth",
          "tooth",
          "tooth",
          "tooth",
          "tooth",
          "tooth",
          "tooth",
          "tooth",
          "tooth",
          "tooth",
          "tooth",
          "tooth",
          "tooth",
          "tooth",
          "tooth",
          "tooth",
          "tooth",
          "tooth",
          "tooth",
          "tooth",
          "tooth",
          "tooth",
          "tooth",
          "tooth",
          "tooth",
          "tooth",
          "tooth",
          "tooth",
          "tooth",
          "tooth",
          "tooth",
          "tooth",
          "tooth",
          "tooth",
          "dental calculus",
          "dental calculus",
          "dental calculus",
          "dental calculus",
          "dental calculus",
          "dental calculus",
          "dental calculus",
          "dental calculus",
          "dental calculus",
          "dental calculus",
          "dental calculus",
          "dental calculus",
          "dental calculus",
          "dental calculus",
          "dental calculus",
          "dental calculus",
          "dental calculus",
          "dental calculus",
          "dental calculus",
          "tooth",
          "tooth",
          "tooth",
          "tooth",
          "tooth",
          "tooth",
          "bone",
          "bone",
          "bone",
          "dental calculus",
          "dental calculus",
          "tooth",
          "tooth",
          "dental calculus",
          "muscle tissue",
          "muscle tissue",
          "muscle tissue",
          "muscle tissue",
          "buccal fat pad",
          "buccal fat pad",
          "omentum",
          "omentum",
          "peritoneum",
          "peritoneum",
          "intestine",
          "intestine",
          "intestine",
          "intestine",
          "caecum",
          "caecum",
          "bone",
          "bone",
          "bone",
          "bone",
          "bone",
          "bone",
          "bone",
          "bone",
          "bone",
          "bone",
          "bone",
          "bone",
          "bone",
          "bone",
          "bone",
          "bone",
          "keratinous claw",
          "keratinous claw",
          "keratinous claw",
          "keratinous claw",
          "keratinous claw",
          "keratinous claw",
          "keratinous claw",
          "keratinous claw",
          "keratinous claw",
          "keratinous claw",
          "keratinous claw",
          "keratinous claw",
          "keratinous claw",
          "keratinous claw",
          "keratinous claw",
          "keratinous claw",
          "muscle tissue",
          "muscle tissue",
          "muscle tissue",
          "muscle tissue",
          "muscle tissue",
          "muscle tissue",
          "muscle tissue",
          "muscle tissue",
          "muscle tissue",
          "muscle tissue",
          "muscle tissue",
          "muscle tissue",
          "muscle tissue",
          "muscle tissue",
          "muscle tissue",
          "muscle tissue",
          "skin",
          "skin",
          "skin",
          "skin",
          "skin",
          "skin",
          "skin",
          "skin",
          "skin",
          "skin",
          "skin",
          "skin",
          "skin",
          "skin",
          "skin",
          "skin",
          "bone",
          "bone",
          "bone",
          "bone",
          "bone",
          "bone",
          "bone",
          "bone",
          "bone",
          "bone",
          "bone",
          "bone",
          "bone",
          "bone",
          "bone",
          "bone",
          "keratinous claw",
          "keratinous claw",
          "keratinous claw",
          "keratinous claw",
          "keratinous claw",
          "keratinous claw",
          "keratinous claw",
          "keratinous claw",
          "keratinous claw",
          "keratinous claw",
          "keratinous claw",
          "keratinous claw",
          "keratinous claw",
          "keratinous claw",
          "keratinous claw",
          "keratinous claw",
          "muscle tissue",
          "muscle tissue",
          "muscle tissue",
          "muscle tissue",
          "muscle tissue",
          "muscle tissue",
          "muscle tissue",
          "muscle tissue",
          "muscle tissue",
          "muscle tissue",
          "muscle tissue",
          "muscle tissue",
          "muscle tissue",
          "muscle tissue",
          "muscle tissue",
          "muscle tissue",
          "skin",
          "skin",
          "skin",
          "skin",
          "skin",
          "skin",
          "skin",
          "skin",
          "skin",
          "skin",
          "skin",
          "skin",
          "skin",
          "skin",
          "skin",
          "skin",
          "bone",
          "bone",
          "bone",
          "bone",
          "bone",
          "bone",
          "bone",
          "bone",
          "bone",
          "bone",
          "bone",
          "bone",
          "bone",
          "bone",
          "bone",
          "bone",
          "keratinous claw",
          "keratinous claw",
          "keratinous claw",
          "keratinous claw",
          "keratinous claw",
          "keratinous claw",
          "keratinous claw",
          "keratinous claw",
          "keratinous claw",
          "keratinous claw",
          "keratinous claw",
          "keratinous claw",
          "keratinous claw",
          "keratinous claw",
          "keratinous claw",
          "keratinous claw",
          "muscle tissue",
          "muscle tissue",
          "muscle tissue",
          "muscle tissue",
          "muscle tissue",
          "muscle tissue",
          "muscle tissue",
          "muscle tissue",
          "muscle tissue",
          "muscle tissue",
          "muscle tissue",
          "muscle tissue",
          "muscle tissue",
          "muscle tissue",
          "muscle tissue",
          "muscle tissue",
          "skin",
          "skin",
          "skin",
          "skin",
          "skin",
          "skin",
          "skin",
          "skin",
          "skin",
          "skin",
          "skin",
          "skin",
          "skin",
          "skin",
          "skin",
          "skin",
          "bone",
          "bone",
          "bone",
          "bone",
          "bone",
          "bone",
          "bone",
          "bone",
          "bone",
          "bone",
          "bone",
          "bone",
          "bone",
          "bone",
          "bone",
          "bone",
          "leaf",
          "leaf",
          "leaf",
          "leaf",
          "leaf",
          "leaf",
          "leaf",
          "leaf",
          "leaf",
          "leaf",
          "leaf",
          "leaf",
          "leaf",
          "leaf",
          "leaf",
          "leaf",
          "leaf",
          "leaf",
          "leaf",
          "leaf",
          "leaf",
          "leaf",
          "leaf",
          "leaf",
          "leaf",
          "leaf",
          "leaf",
          "leaf",
          "leaf",
          "leaf",
          "leaf",
          "leaf",
          "leaf",
          "leaf",
          "leaf",
          "leaf",
          "leaf",
          "leaf",
          "leaf",
          "leaf",
          "leaf",
          "leaf",
          "leaf",
          "leaf",
          "leaf",
          "leaf",
          "leaf",
          "leaf",
          "leaf",
          "leaf",
          "leaf",
          "leaf",
          "leaf",
          "leaf",
          "leaf",
          "leaf",
          "leaf",
          "leaf",
          "dental calculus",
          "dental calculus",
          "dental calculus",
          "dental calculus",
          "dental calculus",
          "dental calculus",
          "dental calculus",
          "palaeofaeces",
          "dental calculus",
          "dental calculus",
          "dental calculus",
          "dental calculus",
          "dental calculus",
          "dental calculus",
          "dental calculus",
          "dental calculus",
          "dental calculus",
          "dental calculus",
          "dental calculus",
          "dental calculus",
          "dental calculus",
          "dental calculus",
          "dental calculus",
          "dental calculus",
          "dental calculus",
          "dental calculus",
          "dental calculus",
          "dental calculus",
          "dental calculus",
          "dental calculus",
          "dental calculus",
          "dental calculus",
          "dental calculus",
          "dental calculus",
          "dental calculus",
          "dental calculus",
          "dental calculus",
          "dental calculus",
          "dental calculus",
          "dental calculus",
          "dental calculus",
          "latrine",
          "latrine",
          "latrine",
          "latrine",
          "latrine",
          "latrine",
          "latrine",
          "latrine",
          "dental calculus",
          "dental calculus",
          "tooth",
          "tooth",
          "tooth",
          "tooth",
          "tooth",
          "tooth",
          "tooth",
          "tooth",
          "tooth",
          "tooth",
          "tooth",
          "tooth",
          "tooth",
          "tooth",
          "tooth",
          "tooth",
          "tooth",
          "tooth",
          "tooth",
          "tooth",
          "tooth",
          "tooth",
          "tooth",
          "tooth",
          "tooth",
          "tooth",
          "tooth",
          "tooth",
          "tooth",
          "tooth",
          "tooth",
          "tooth",
          "tooth",
          "tooth",
          "tooth",
          "tooth",
          "tooth",
          "tooth",
          "tooth",
          "tooth",
          "tooth",
          "tooth",
          "tooth",
          "tooth",
          "tooth",
          "tooth",
          "tooth",
          "tooth",
          "tooth",
          "tooth",
          "tooth",
          "tooth",
          "tooth",
          "tooth",
          "tooth",
          "tooth",
          "tooth",
          "tooth",
          "tooth",
          "tooth",
          "tooth",
          "tooth",
          "tooth",
          "tooth",
          "tooth",
          "tooth",
          "tooth",
          "tooth",
          "tooth",
          "tooth",
          "tooth",
          "tooth",
          "tooth",
          "tooth",
          "tooth",
          "tooth",
          "tooth",
          "tooth",
          "tooth",
          "tooth",
          "tooth",
          "tooth",
          "tooth",
          "tooth",
          "tooth",
          "tooth",
          "tooth",
          "tooth",
          "tooth",
          "tooth",
          "tooth",
          "tooth",
          "tooth",
          "tooth",
          "tooth",
          "tooth",
          "tooth",
          "tooth",
          "tooth",
          "tooth",
          "tooth",
          "tooth",
          "tooth",
          "tooth",
          "tooth",
          "tooth",
          "tooth",
          "tooth",
          "tooth",
          "tooth",
          "tooth",
          "tooth",
          "tooth",
          "tooth",
          "tooth",
          "tooth",
          "tooth",
          "tooth",
          "tooth",
          "tooth",
          "tooth",
          "tooth",
          "tooth",
          "tooth",
          "tooth",
          "tooth",
          "tooth",
          "tooth",
          "tooth",
          "tooth",
          "tooth",
          "tooth",
          "tooth",
          "tooth",
          "tooth",
          "tooth",
          "tooth",
          "tooth",
          "tooth",
          "tooth",
          "tooth",
          "tooth",
          "tooth",
          "tooth",
          "tooth",
          "tooth",
          "tooth",
          "tooth",
          "tooth",
          "tooth",
          "tooth",
          "tooth",
          "tooth",
          "tooth",
          "tooth",
          "tooth",
          "tooth",
          "tooth",
          "tooth",
          "tooth",
          "tooth",
          "tooth",
          "tooth",
          "tooth",
          "tooth"
         ],
         "xaxis": "x",
         "yaxis": "y"
        }
       ],
       "layout": {
        "barmode": "relative",
        "legend": {
         "tracegroupgap": 0
        },
        "template": {
         "data": {
          "bar": [
           {
            "error_x": {
             "color": "#2a3f5f"
            },
            "error_y": {
             "color": "#2a3f5f"
            },
            "marker": {
             "line": {
              "color": "#E5ECF6",
              "width": 0.5
             }
            },
            "type": "bar"
           }
          ],
          "barpolar": [
           {
            "marker": {
             "line": {
              "color": "#E5ECF6",
              "width": 0.5
             }
            },
            "type": "barpolar"
           }
          ],
          "carpet": [
           {
            "aaxis": {
             "endlinecolor": "#2a3f5f",
             "gridcolor": "white",
             "linecolor": "white",
             "minorgridcolor": "white",
             "startlinecolor": "#2a3f5f"
            },
            "baxis": {
             "endlinecolor": "#2a3f5f",
             "gridcolor": "white",
             "linecolor": "white",
             "minorgridcolor": "white",
             "startlinecolor": "#2a3f5f"
            },
            "type": "carpet"
           }
          ],
          "choropleth": [
           {
            "colorbar": {
             "outlinewidth": 0,
             "ticks": ""
            },
            "type": "choropleth"
           }
          ],
          "contour": [
           {
            "colorbar": {
             "outlinewidth": 0,
             "ticks": ""
            },
            "colorscale": [
             [
              0,
              "#0d0887"
             ],
             [
              0.1111111111111111,
              "#46039f"
             ],
             [
              0.2222222222222222,
              "#7201a8"
             ],
             [
              0.3333333333333333,
              "#9c179e"
             ],
             [
              0.4444444444444444,
              "#bd3786"
             ],
             [
              0.5555555555555556,
              "#d8576b"
             ],
             [
              0.6666666666666666,
              "#ed7953"
             ],
             [
              0.7777777777777778,
              "#fb9f3a"
             ],
             [
              0.8888888888888888,
              "#fdca26"
             ],
             [
              1,
              "#f0f921"
             ]
            ],
            "type": "contour"
           }
          ],
          "contourcarpet": [
           {
            "colorbar": {
             "outlinewidth": 0,
             "ticks": ""
            },
            "type": "contourcarpet"
           }
          ],
          "heatmap": [
           {
            "colorbar": {
             "outlinewidth": 0,
             "ticks": ""
            },
            "colorscale": [
             [
              0,
              "#0d0887"
             ],
             [
              0.1111111111111111,
              "#46039f"
             ],
             [
              0.2222222222222222,
              "#7201a8"
             ],
             [
              0.3333333333333333,
              "#9c179e"
             ],
             [
              0.4444444444444444,
              "#bd3786"
             ],
             [
              0.5555555555555556,
              "#d8576b"
             ],
             [
              0.6666666666666666,
              "#ed7953"
             ],
             [
              0.7777777777777778,
              "#fb9f3a"
             ],
             [
              0.8888888888888888,
              "#fdca26"
             ],
             [
              1,
              "#f0f921"
             ]
            ],
            "type": "heatmap"
           }
          ],
          "heatmapgl": [
           {
            "colorbar": {
             "outlinewidth": 0,
             "ticks": ""
            },
            "colorscale": [
             [
              0,
              "#0d0887"
             ],
             [
              0.1111111111111111,
              "#46039f"
             ],
             [
              0.2222222222222222,
              "#7201a8"
             ],
             [
              0.3333333333333333,
              "#9c179e"
             ],
             [
              0.4444444444444444,
              "#bd3786"
             ],
             [
              0.5555555555555556,
              "#d8576b"
             ],
             [
              0.6666666666666666,
              "#ed7953"
             ],
             [
              0.7777777777777778,
              "#fb9f3a"
             ],
             [
              0.8888888888888888,
              "#fdca26"
             ],
             [
              1,
              "#f0f921"
             ]
            ],
            "type": "heatmapgl"
           }
          ],
          "histogram": [
           {
            "marker": {
             "colorbar": {
              "outlinewidth": 0,
              "ticks": ""
             }
            },
            "type": "histogram"
           }
          ],
          "histogram2d": [
           {
            "colorbar": {
             "outlinewidth": 0,
             "ticks": ""
            },
            "colorscale": [
             [
              0,
              "#0d0887"
             ],
             [
              0.1111111111111111,
              "#46039f"
             ],
             [
              0.2222222222222222,
              "#7201a8"
             ],
             [
              0.3333333333333333,
              "#9c179e"
             ],
             [
              0.4444444444444444,
              "#bd3786"
             ],
             [
              0.5555555555555556,
              "#d8576b"
             ],
             [
              0.6666666666666666,
              "#ed7953"
             ],
             [
              0.7777777777777778,
              "#fb9f3a"
             ],
             [
              0.8888888888888888,
              "#fdca26"
             ],
             [
              1,
              "#f0f921"
             ]
            ],
            "type": "histogram2d"
           }
          ],
          "histogram2dcontour": [
           {
            "colorbar": {
             "outlinewidth": 0,
             "ticks": ""
            },
            "colorscale": [
             [
              0,
              "#0d0887"
             ],
             [
              0.1111111111111111,
              "#46039f"
             ],
             [
              0.2222222222222222,
              "#7201a8"
             ],
             [
              0.3333333333333333,
              "#9c179e"
             ],
             [
              0.4444444444444444,
              "#bd3786"
             ],
             [
              0.5555555555555556,
              "#d8576b"
             ],
             [
              0.6666666666666666,
              "#ed7953"
             ],
             [
              0.7777777777777778,
              "#fb9f3a"
             ],
             [
              0.8888888888888888,
              "#fdca26"
             ],
             [
              1,
              "#f0f921"
             ]
            ],
            "type": "histogram2dcontour"
           }
          ],
          "mesh3d": [
           {
            "colorbar": {
             "outlinewidth": 0,
             "ticks": ""
            },
            "type": "mesh3d"
           }
          ],
          "parcoords": [
           {
            "line": {
             "colorbar": {
              "outlinewidth": 0,
              "ticks": ""
             }
            },
            "type": "parcoords"
           }
          ],
          "pie": [
           {
            "automargin": true,
            "type": "pie"
           }
          ],
          "scatter": [
           {
            "marker": {
             "colorbar": {
              "outlinewidth": 0,
              "ticks": ""
             }
            },
            "type": "scatter"
           }
          ],
          "scatter3d": [
           {
            "line": {
             "colorbar": {
              "outlinewidth": 0,
              "ticks": ""
             }
            },
            "marker": {
             "colorbar": {
              "outlinewidth": 0,
              "ticks": ""
             }
            },
            "type": "scatter3d"
           }
          ],
          "scattercarpet": [
           {
            "marker": {
             "colorbar": {
              "outlinewidth": 0,
              "ticks": ""
             }
            },
            "type": "scattercarpet"
           }
          ],
          "scattergeo": [
           {
            "marker": {
             "colorbar": {
              "outlinewidth": 0,
              "ticks": ""
             }
            },
            "type": "scattergeo"
           }
          ],
          "scattergl": [
           {
            "marker": {
             "colorbar": {
              "outlinewidth": 0,
              "ticks": ""
             }
            },
            "type": "scattergl"
           }
          ],
          "scattermapbox": [
           {
            "marker": {
             "colorbar": {
              "outlinewidth": 0,
              "ticks": ""
             }
            },
            "type": "scattermapbox"
           }
          ],
          "scatterpolar": [
           {
            "marker": {
             "colorbar": {
              "outlinewidth": 0,
              "ticks": ""
             }
            },
            "type": "scatterpolar"
           }
          ],
          "scatterpolargl": [
           {
            "marker": {
             "colorbar": {
              "outlinewidth": 0,
              "ticks": ""
             }
            },
            "type": "scatterpolargl"
           }
          ],
          "scatterternary": [
           {
            "marker": {
             "colorbar": {
              "outlinewidth": 0,
              "ticks": ""
             }
            },
            "type": "scatterternary"
           }
          ],
          "surface": [
           {
            "colorbar": {
             "outlinewidth": 0,
             "ticks": ""
            },
            "colorscale": [
             [
              0,
              "#0d0887"
             ],
             [
              0.1111111111111111,
              "#46039f"
             ],
             [
              0.2222222222222222,
              "#7201a8"
             ],
             [
              0.3333333333333333,
              "#9c179e"
             ],
             [
              0.4444444444444444,
              "#bd3786"
             ],
             [
              0.5555555555555556,
              "#d8576b"
             ],
             [
              0.6666666666666666,
              "#ed7953"
             ],
             [
              0.7777777777777778,
              "#fb9f3a"
             ],
             [
              0.8888888888888888,
              "#fdca26"
             ],
             [
              1,
              "#f0f921"
             ]
            ],
            "type": "surface"
           }
          ],
          "table": [
           {
            "cells": {
             "fill": {
              "color": "#EBF0F8"
             },
             "line": {
              "color": "white"
             }
            },
            "header": {
             "fill": {
              "color": "#C8D4E3"
             },
             "line": {
              "color": "white"
             }
            },
            "type": "table"
           }
          ]
         },
         "layout": {
          "annotationdefaults": {
           "arrowcolor": "#2a3f5f",
           "arrowhead": 0,
           "arrowwidth": 1
          },
          "autotypenumbers": "strict",
          "coloraxis": {
           "colorbar": {
            "outlinewidth": 0,
            "ticks": ""
           }
          },
          "colorscale": {
           "diverging": [
            [
             0,
             "#8e0152"
            ],
            [
             0.1,
             "#c51b7d"
            ],
            [
             0.2,
             "#de77ae"
            ],
            [
             0.3,
             "#f1b6da"
            ],
            [
             0.4,
             "#fde0ef"
            ],
            [
             0.5,
             "#f7f7f7"
            ],
            [
             0.6,
             "#e6f5d0"
            ],
            [
             0.7,
             "#b8e186"
            ],
            [
             0.8,
             "#7fbc41"
            ],
            [
             0.9,
             "#4d9221"
            ],
            [
             1,
             "#276419"
            ]
           ],
           "sequential": [
            [
             0,
             "#0d0887"
            ],
            [
             0.1111111111111111,
             "#46039f"
            ],
            [
             0.2222222222222222,
             "#7201a8"
            ],
            [
             0.3333333333333333,
             "#9c179e"
            ],
            [
             0.4444444444444444,
             "#bd3786"
            ],
            [
             0.5555555555555556,
             "#d8576b"
            ],
            [
             0.6666666666666666,
             "#ed7953"
            ],
            [
             0.7777777777777778,
             "#fb9f3a"
            ],
            [
             0.8888888888888888,
             "#fdca26"
            ],
            [
             1,
             "#f0f921"
            ]
           ],
           "sequentialminus": [
            [
             0,
             "#0d0887"
            ],
            [
             0.1111111111111111,
             "#46039f"
            ],
            [
             0.2222222222222222,
             "#7201a8"
            ],
            [
             0.3333333333333333,
             "#9c179e"
            ],
            [
             0.4444444444444444,
             "#bd3786"
            ],
            [
             0.5555555555555556,
             "#d8576b"
            ],
            [
             0.6666666666666666,
             "#ed7953"
            ],
            [
             0.7777777777777778,
             "#fb9f3a"
            ],
            [
             0.8888888888888888,
             "#fdca26"
            ],
            [
             1,
             "#f0f921"
            ]
           ]
          },
          "colorway": [
           "#636efa",
           "#EF553B",
           "#00cc96",
           "#ab63fa",
           "#FFA15A",
           "#19d3f3",
           "#FF6692",
           "#B6E880",
           "#FF97FF",
           "#FECB52"
          ],
          "font": {
           "color": "#2a3f5f"
          },
          "geo": {
           "bgcolor": "white",
           "lakecolor": "white",
           "landcolor": "#E5ECF6",
           "showlakes": true,
           "showland": true,
           "subunitcolor": "white"
          },
          "hoverlabel": {
           "align": "left"
          },
          "hovermode": "closest",
          "mapbox": {
           "style": "light"
          },
          "paper_bgcolor": "white",
          "plot_bgcolor": "#E5ECF6",
          "polar": {
           "angularaxis": {
            "gridcolor": "white",
            "linecolor": "white",
            "ticks": ""
           },
           "bgcolor": "#E5ECF6",
           "radialaxis": {
            "gridcolor": "white",
            "linecolor": "white",
            "ticks": ""
           }
          },
          "scene": {
           "xaxis": {
            "backgroundcolor": "#E5ECF6",
            "gridcolor": "white",
            "gridwidth": 2,
            "linecolor": "white",
            "showbackground": true,
            "ticks": "",
            "zerolinecolor": "white"
           },
           "yaxis": {
            "backgroundcolor": "#E5ECF6",
            "gridcolor": "white",
            "gridwidth": 2,
            "linecolor": "white",
            "showbackground": true,
            "ticks": "",
            "zerolinecolor": "white"
           },
           "zaxis": {
            "backgroundcolor": "#E5ECF6",
            "gridcolor": "white",
            "gridwidth": 2,
            "linecolor": "white",
            "showbackground": true,
            "ticks": "",
            "zerolinecolor": "white"
           }
          },
          "shapedefaults": {
           "line": {
            "color": "#2a3f5f"
           }
          },
          "ternary": {
           "aaxis": {
            "gridcolor": "white",
            "linecolor": "white",
            "ticks": ""
           },
           "baxis": {
            "gridcolor": "white",
            "linecolor": "white",
            "ticks": ""
           },
           "bgcolor": "#E5ECF6",
           "caxis": {
            "gridcolor": "white",
            "linecolor": "white",
            "ticks": ""
           }
          },
          "title": {
           "x": 0.05
          },
          "xaxis": {
           "automargin": true,
           "gridcolor": "white",
           "linecolor": "white",
           "ticks": "",
           "title": {
            "standoff": 15
           },
           "zerolinecolor": "white",
           "zerolinewidth": 2
          },
          "yaxis": {
           "automargin": true,
           "gridcolor": "white",
           "linecolor": "white",
           "ticks": "",
           "title": {
            "standoff": 15
           },
           "zerolinecolor": "white",
           "zerolinewidth": 2
          }
         }
        },
        "title": {
         "text": "material"
        },
        "xaxis": {
         "anchor": "y",
         "domain": [
          0,
          1
         ],
         "title": {
          "text": "material"
         }
        },
        "yaxis": {
         "anchor": "x",
         "domain": [
          0,
          1
         ],
         "title": {
          "text": "count"
         }
        }
       }
      },
      "text/html": [
       "<div>                            <div id=\"1edbd940-35cc-4d7c-aa83-3d5603a963f9\" class=\"plotly-graph-div\" style=\"height:525px; width:100%;\"></div>            <script type=\"text/javascript\">                require([\"plotly\"], function(Plotly) {                    window.PLOTLYENV=window.PLOTLYENV || {};                                    if (document.getElementById(\"1edbd940-35cc-4d7c-aa83-3d5603a963f9\")) {                    Plotly.newPlot(                        \"1edbd940-35cc-4d7c-aa83-3d5603a963f9\",                        [{\"alignmentgroup\": \"True\", \"bingroup\": \"x\", \"hovertemplate\": \"material=%{x}<br>count=%{y}<extra></extra>\", \"legendgroup\": \"\", \"marker\": {\"color\": \"#636efa\"}, \"name\": \"\", \"offsetgroup\": \"\", \"orientation\": \"v\", \"showlegend\": false, \"type\": \"histogram\", \"x\": [\"dental calculus\", \"dental calculus\", \"dental calculus\", \"dental calculus\", \"dental calculus\", \"dental calculus\", \"dental calculus\", \"dental calculus\", \"dental calculus\", \"dental calculus\", \"dental calculus\", \"dental calculus\", \"dental calculus\", \"dental calculus\", \"dental calculus\", \"dental calculus\", \"dental calculus\", \"dental calculus\", \"dental calculus\", \"dental calculus\", \"dental calculus\", \"dental calculus\", \"dental calculus\", \"dental calculus\", \"dental calculus\", \"dental calculus\", \"dental calculus\", \"dental calculus\", \"dental calculus\", \"dental calculus\", \"dental calculus\", \"dental calculus\", \"dental calculus\", \"dental calculus\", \"dental calculus\", \"dental calculus\", \"dental calculus\", \"dental calculus\", \"dental calculus\", \"dental calculus\", \"dental calculus\", \"dental calculus\", \"dental calculus\", \"dental calculus\", \"dental calculus\", \"dental calculus\", \"dental calculus\", \"dental calculus\", \"dental calculus\", \"dental calculus\", \"dental calculus\", \"dental calculus\", \"dental calculus\", \"dental calculus\", \"dental calculus\", \"dental calculus\", \"dental calculus\", \"dental calculus\", \"dental calculus\", \"dental calculus\", \"dental calculus\", \"dental calculus\", \"dental calculus\", \"dental calculus\", \"dental calculus\", \"dental calculus\", \"dental calculus\", \"dental calculus\", \"dental calculus\", \"dental calculus\", \"dental calculus\", \"tooth\", \"tooth\", \"tooth\", \"tooth\", \"tooth\", \"tooth\", \"tooth\", \"tooth\", \"tooth\", \"tooth\", \"tooth\", \"tooth\", \"tooth\", \"tooth\", \"tooth\", \"tooth\", \"tooth\", \"tooth\", \"tooth\", \"tooth\", \"tooth\", \"tooth\", \"tooth\", \"tooth\", \"tooth\", \"tooth\", \"tooth\", \"tooth\", \"tooth\", \"tooth\", \"tooth\", \"tooth\", \"tooth\", \"tooth\", \"tooth\", \"tooth\", \"tooth\", \"tooth\", \"tooth\", \"tooth\", \"tooth\", \"tooth\", \"tooth\", \"tooth\", \"tooth\", \"tooth\", \"tooth\", \"tooth\", \"tooth\", \"tooth\", \"tooth\", \"tooth\", \"tooth\", \"tooth\", \"tooth\", \"tooth\", \"tooth\", \"tooth\", \"tooth\", \"tooth\", \"dental calculus\", \"dental calculus\", \"dental calculus\", \"dental calculus\", \"dental calculus\", \"dental calculus\", \"dental calculus\", \"dental calculus\", \"dental calculus\", \"dental calculus\", \"dental calculus\", \"dental calculus\", \"dental calculus\", \"dental calculus\", \"dental calculus\", \"dental calculus\", \"dental calculus\", \"dental calculus\", \"dental calculus\", \"tooth\", \"tooth\", \"tooth\", \"tooth\", \"tooth\", \"tooth\", \"bone\", \"bone\", \"bone\", \"dental calculus\", \"dental calculus\", \"tooth\", \"tooth\", \"dental calculus\", \"muscle tissue\", \"muscle tissue\", \"muscle tissue\", \"muscle tissue\", \"buccal fat pad\", \"buccal fat pad\", \"omentum\", \"omentum\", \"peritoneum\", \"peritoneum\", \"intestine\", \"intestine\", \"intestine\", \"intestine\", \"caecum\", \"caecum\", \"bone\", \"bone\", \"bone\", \"bone\", \"bone\", \"bone\", \"bone\", \"bone\", \"bone\", \"bone\", \"bone\", \"bone\", \"bone\", \"bone\", \"bone\", \"bone\", \"keratinous claw\", \"keratinous claw\", \"keratinous claw\", \"keratinous claw\", \"keratinous claw\", \"keratinous claw\", \"keratinous claw\", \"keratinous claw\", \"keratinous claw\", \"keratinous claw\", \"keratinous claw\", \"keratinous claw\", \"keratinous claw\", \"keratinous claw\", \"keratinous claw\", \"keratinous claw\", \"muscle tissue\", \"muscle tissue\", \"muscle tissue\", \"muscle tissue\", \"muscle tissue\", \"muscle tissue\", \"muscle tissue\", \"muscle tissue\", \"muscle tissue\", \"muscle tissue\", \"muscle tissue\", \"muscle tissue\", \"muscle tissue\", \"muscle tissue\", \"muscle tissue\", \"muscle tissue\", \"skin\", \"skin\", \"skin\", \"skin\", \"skin\", \"skin\", \"skin\", \"skin\", \"skin\", \"skin\", \"skin\", \"skin\", \"skin\", \"skin\", \"skin\", \"skin\", \"bone\", \"bone\", \"bone\", \"bone\", \"bone\", \"bone\", \"bone\", \"bone\", \"bone\", \"bone\", \"bone\", \"bone\", \"bone\", \"bone\", \"bone\", \"bone\", \"keratinous claw\", \"keratinous claw\", \"keratinous claw\", \"keratinous claw\", \"keratinous claw\", \"keratinous claw\", \"keratinous claw\", \"keratinous claw\", \"keratinous claw\", \"keratinous claw\", \"keratinous claw\", \"keratinous claw\", \"keratinous claw\", \"keratinous claw\", \"keratinous claw\", \"keratinous claw\", \"muscle tissue\", \"muscle tissue\", \"muscle tissue\", \"muscle tissue\", \"muscle tissue\", \"muscle tissue\", \"muscle tissue\", \"muscle tissue\", \"muscle tissue\", \"muscle tissue\", \"muscle tissue\", \"muscle tissue\", \"muscle tissue\", \"muscle tissue\", \"muscle tissue\", \"muscle tissue\", \"skin\", \"skin\", \"skin\", \"skin\", \"skin\", \"skin\", \"skin\", \"skin\", \"skin\", \"skin\", \"skin\", \"skin\", \"skin\", \"skin\", \"skin\", \"skin\", \"bone\", \"bone\", \"bone\", \"bone\", \"bone\", \"bone\", \"bone\", \"bone\", \"bone\", \"bone\", \"bone\", \"bone\", \"bone\", \"bone\", \"bone\", \"bone\", \"keratinous claw\", \"keratinous claw\", \"keratinous claw\", \"keratinous claw\", \"keratinous claw\", \"keratinous claw\", \"keratinous claw\", \"keratinous claw\", \"keratinous claw\", \"keratinous claw\", \"keratinous claw\", \"keratinous claw\", \"keratinous claw\", \"keratinous claw\", \"keratinous claw\", \"keratinous claw\", \"muscle tissue\", \"muscle tissue\", \"muscle tissue\", \"muscle tissue\", \"muscle tissue\", \"muscle tissue\", \"muscle tissue\", \"muscle tissue\", \"muscle tissue\", \"muscle tissue\", \"muscle tissue\", \"muscle tissue\", \"muscle tissue\", \"muscle tissue\", \"muscle tissue\", \"muscle tissue\", \"skin\", \"skin\", \"skin\", \"skin\", \"skin\", \"skin\", \"skin\", \"skin\", \"skin\", \"skin\", \"skin\", \"skin\", \"skin\", \"skin\", \"skin\", \"skin\", \"bone\", \"bone\", \"bone\", \"bone\", \"bone\", \"bone\", \"bone\", \"bone\", \"bone\", \"bone\", \"bone\", \"bone\", \"bone\", \"bone\", \"bone\", \"bone\", \"leaf\", \"leaf\", \"leaf\", \"leaf\", \"leaf\", \"leaf\", \"leaf\", \"leaf\", \"leaf\", \"leaf\", \"leaf\", \"leaf\", \"leaf\", \"leaf\", \"leaf\", \"leaf\", \"leaf\", \"leaf\", \"leaf\", \"leaf\", \"leaf\", \"leaf\", \"leaf\", \"leaf\", \"leaf\", \"leaf\", \"leaf\", \"leaf\", \"leaf\", \"leaf\", \"leaf\", \"leaf\", \"leaf\", \"leaf\", \"leaf\", \"leaf\", \"leaf\", \"leaf\", \"leaf\", \"leaf\", \"leaf\", \"leaf\", \"leaf\", \"leaf\", \"leaf\", \"leaf\", \"leaf\", \"leaf\", \"leaf\", \"leaf\", \"leaf\", \"leaf\", \"leaf\", \"leaf\", \"leaf\", \"leaf\", \"leaf\", \"leaf\", \"dental calculus\", \"dental calculus\", \"dental calculus\", \"dental calculus\", \"dental calculus\", \"dental calculus\", \"dental calculus\", \"palaeofaeces\", \"dental calculus\", \"dental calculus\", \"dental calculus\", \"dental calculus\", \"dental calculus\", \"dental calculus\", \"dental calculus\", \"dental calculus\", \"dental calculus\", \"dental calculus\", \"dental calculus\", \"dental calculus\", \"dental calculus\", \"dental calculus\", \"dental calculus\", \"dental calculus\", \"dental calculus\", \"dental calculus\", \"dental calculus\", \"dental calculus\", \"dental calculus\", \"dental calculus\", \"dental calculus\", \"dental calculus\", \"dental calculus\", \"dental calculus\", \"dental calculus\", \"dental calculus\", \"dental calculus\", \"dental calculus\", \"dental calculus\", \"dental calculus\", \"dental calculus\", \"latrine\", \"latrine\", \"latrine\", \"latrine\", \"latrine\", \"latrine\", \"latrine\", \"latrine\", \"dental calculus\", \"dental calculus\", \"tooth\", \"tooth\", \"tooth\", \"tooth\", \"tooth\", \"tooth\", \"tooth\", \"tooth\", \"tooth\", \"tooth\", \"tooth\", \"tooth\", \"tooth\", \"tooth\", \"tooth\", \"tooth\", \"tooth\", \"tooth\", \"tooth\", \"tooth\", \"tooth\", \"tooth\", \"tooth\", \"tooth\", \"tooth\", \"tooth\", \"tooth\", \"tooth\", \"tooth\", \"tooth\", \"tooth\", \"tooth\", \"tooth\", \"tooth\", \"tooth\", \"tooth\", \"tooth\", \"tooth\", \"tooth\", \"tooth\", \"tooth\", \"tooth\", \"tooth\", \"tooth\", \"tooth\", \"tooth\", \"tooth\", \"tooth\", \"tooth\", \"tooth\", \"tooth\", \"tooth\", \"tooth\", \"tooth\", \"tooth\", \"tooth\", \"tooth\", \"tooth\", \"tooth\", \"tooth\", \"tooth\", \"tooth\", \"tooth\", \"tooth\", \"tooth\", \"tooth\", \"tooth\", \"tooth\", \"tooth\", \"tooth\", \"tooth\", \"tooth\", \"tooth\", \"tooth\", \"tooth\", \"tooth\", \"tooth\", \"tooth\", \"tooth\", \"tooth\", \"tooth\", \"tooth\", \"tooth\", \"tooth\", \"tooth\", \"tooth\", \"tooth\", \"tooth\", \"tooth\", \"tooth\", \"tooth\", \"tooth\", \"tooth\", \"tooth\", \"tooth\", \"tooth\", \"tooth\", \"tooth\", \"tooth\", \"tooth\", \"tooth\", \"tooth\", \"tooth\", \"tooth\", \"tooth\", \"tooth\", \"tooth\", \"tooth\", \"tooth\", \"tooth\", \"tooth\", \"tooth\", \"tooth\", \"tooth\", \"tooth\", \"tooth\", \"tooth\", \"tooth\", \"tooth\", \"tooth\", \"tooth\", \"tooth\", \"tooth\", \"tooth\", \"tooth\", \"tooth\", \"tooth\", \"tooth\", \"tooth\", \"tooth\", \"tooth\", \"tooth\", \"tooth\", \"tooth\", \"tooth\", \"tooth\", \"tooth\", \"tooth\", \"tooth\", \"tooth\", \"tooth\", \"tooth\", \"tooth\", \"tooth\", \"tooth\", \"tooth\", \"tooth\", \"tooth\", \"tooth\", \"tooth\", \"tooth\", \"tooth\", \"tooth\", \"tooth\", \"tooth\", \"tooth\", \"tooth\", \"tooth\", \"tooth\", \"tooth\", \"tooth\", \"tooth\", \"tooth\", \"tooth\", \"tooth\"], \"xaxis\": \"x\", \"yaxis\": \"y\"}],                        {\"barmode\": \"relative\", \"legend\": {\"tracegroupgap\": 0}, \"template\": {\"data\": {\"bar\": [{\"error_x\": {\"color\": \"#2a3f5f\"}, \"error_y\": {\"color\": \"#2a3f5f\"}, \"marker\": {\"line\": {\"color\": \"#E5ECF6\", \"width\": 0.5}}, \"type\": \"bar\"}], \"barpolar\": [{\"marker\": {\"line\": {\"color\": \"#E5ECF6\", \"width\": 0.5}}, \"type\": \"barpolar\"}], \"carpet\": [{\"aaxis\": {\"endlinecolor\": \"#2a3f5f\", \"gridcolor\": \"white\", \"linecolor\": \"white\", \"minorgridcolor\": \"white\", \"startlinecolor\": \"#2a3f5f\"}, \"baxis\": {\"endlinecolor\": \"#2a3f5f\", \"gridcolor\": \"white\", \"linecolor\": \"white\", \"minorgridcolor\": \"white\", \"startlinecolor\": \"#2a3f5f\"}, \"type\": \"carpet\"}], \"choropleth\": [{\"colorbar\": {\"outlinewidth\": 0, \"ticks\": \"\"}, \"type\": \"choropleth\"}], \"contour\": [{\"colorbar\": {\"outlinewidth\": 0, \"ticks\": \"\"}, \"colorscale\": [[0.0, \"#0d0887\"], [0.1111111111111111, \"#46039f\"], [0.2222222222222222, \"#7201a8\"], [0.3333333333333333, \"#9c179e\"], [0.4444444444444444, \"#bd3786\"], [0.5555555555555556, \"#d8576b\"], [0.6666666666666666, \"#ed7953\"], [0.7777777777777778, \"#fb9f3a\"], [0.8888888888888888, \"#fdca26\"], [1.0, \"#f0f921\"]], \"type\": \"contour\"}], \"contourcarpet\": [{\"colorbar\": {\"outlinewidth\": 0, \"ticks\": \"\"}, \"type\": \"contourcarpet\"}], \"heatmap\": [{\"colorbar\": {\"outlinewidth\": 0, \"ticks\": \"\"}, \"colorscale\": [[0.0, \"#0d0887\"], [0.1111111111111111, \"#46039f\"], [0.2222222222222222, \"#7201a8\"], [0.3333333333333333, \"#9c179e\"], [0.4444444444444444, \"#bd3786\"], [0.5555555555555556, \"#d8576b\"], [0.6666666666666666, \"#ed7953\"], [0.7777777777777778, \"#fb9f3a\"], [0.8888888888888888, \"#fdca26\"], [1.0, \"#f0f921\"]], \"type\": \"heatmap\"}], \"heatmapgl\": [{\"colorbar\": {\"outlinewidth\": 0, \"ticks\": \"\"}, \"colorscale\": [[0.0, \"#0d0887\"], [0.1111111111111111, \"#46039f\"], [0.2222222222222222, \"#7201a8\"], [0.3333333333333333, \"#9c179e\"], [0.4444444444444444, \"#bd3786\"], [0.5555555555555556, \"#d8576b\"], [0.6666666666666666, \"#ed7953\"], [0.7777777777777778, \"#fb9f3a\"], [0.8888888888888888, \"#fdca26\"], [1.0, \"#f0f921\"]], \"type\": \"heatmapgl\"}], \"histogram\": [{\"marker\": {\"colorbar\": {\"outlinewidth\": 0, \"ticks\": \"\"}}, \"type\": \"histogram\"}], \"histogram2d\": [{\"colorbar\": {\"outlinewidth\": 0, \"ticks\": \"\"}, \"colorscale\": [[0.0, \"#0d0887\"], [0.1111111111111111, \"#46039f\"], [0.2222222222222222, \"#7201a8\"], [0.3333333333333333, \"#9c179e\"], [0.4444444444444444, \"#bd3786\"], [0.5555555555555556, \"#d8576b\"], [0.6666666666666666, \"#ed7953\"], [0.7777777777777778, \"#fb9f3a\"], [0.8888888888888888, \"#fdca26\"], [1.0, \"#f0f921\"]], \"type\": \"histogram2d\"}], \"histogram2dcontour\": [{\"colorbar\": {\"outlinewidth\": 0, \"ticks\": \"\"}, \"colorscale\": [[0.0, \"#0d0887\"], [0.1111111111111111, \"#46039f\"], [0.2222222222222222, \"#7201a8\"], [0.3333333333333333, \"#9c179e\"], [0.4444444444444444, \"#bd3786\"], [0.5555555555555556, \"#d8576b\"], [0.6666666666666666, \"#ed7953\"], [0.7777777777777778, \"#fb9f3a\"], [0.8888888888888888, \"#fdca26\"], [1.0, \"#f0f921\"]], \"type\": \"histogram2dcontour\"}], \"mesh3d\": [{\"colorbar\": {\"outlinewidth\": 0, \"ticks\": \"\"}, \"type\": \"mesh3d\"}], \"parcoords\": [{\"line\": {\"colorbar\": {\"outlinewidth\": 0, \"ticks\": \"\"}}, \"type\": \"parcoords\"}], \"pie\": [{\"automargin\": true, \"type\": \"pie\"}], \"scatter\": [{\"marker\": {\"colorbar\": {\"outlinewidth\": 0, \"ticks\": \"\"}}, \"type\": \"scatter\"}], \"scatter3d\": [{\"line\": {\"colorbar\": {\"outlinewidth\": 0, \"ticks\": \"\"}}, \"marker\": {\"colorbar\": {\"outlinewidth\": 0, \"ticks\": \"\"}}, \"type\": \"scatter3d\"}], \"scattercarpet\": [{\"marker\": {\"colorbar\": {\"outlinewidth\": 0, \"ticks\": \"\"}}, \"type\": \"scattercarpet\"}], \"scattergeo\": [{\"marker\": {\"colorbar\": {\"outlinewidth\": 0, \"ticks\": \"\"}}, \"type\": \"scattergeo\"}], \"scattergl\": [{\"marker\": {\"colorbar\": {\"outlinewidth\": 0, \"ticks\": \"\"}}, \"type\": \"scattergl\"}], \"scattermapbox\": [{\"marker\": {\"colorbar\": {\"outlinewidth\": 0, \"ticks\": \"\"}}, \"type\": \"scattermapbox\"}], \"scatterpolar\": [{\"marker\": {\"colorbar\": {\"outlinewidth\": 0, \"ticks\": \"\"}}, \"type\": \"scatterpolar\"}], \"scatterpolargl\": [{\"marker\": {\"colorbar\": {\"outlinewidth\": 0, \"ticks\": \"\"}}, \"type\": \"scatterpolargl\"}], \"scatterternary\": [{\"marker\": {\"colorbar\": {\"outlinewidth\": 0, \"ticks\": \"\"}}, \"type\": \"scatterternary\"}], \"surface\": [{\"colorbar\": {\"outlinewidth\": 0, \"ticks\": \"\"}, \"colorscale\": [[0.0, \"#0d0887\"], [0.1111111111111111, \"#46039f\"], [0.2222222222222222, \"#7201a8\"], [0.3333333333333333, \"#9c179e\"], [0.4444444444444444, \"#bd3786\"], [0.5555555555555556, \"#d8576b\"], [0.6666666666666666, \"#ed7953\"], [0.7777777777777778, \"#fb9f3a\"], [0.8888888888888888, \"#fdca26\"], [1.0, \"#f0f921\"]], \"type\": \"surface\"}], \"table\": [{\"cells\": {\"fill\": {\"color\": \"#EBF0F8\"}, \"line\": {\"color\": \"white\"}}, \"header\": {\"fill\": {\"color\": \"#C8D4E3\"}, \"line\": {\"color\": \"white\"}}, \"type\": \"table\"}]}, \"layout\": {\"annotationdefaults\": {\"arrowcolor\": \"#2a3f5f\", \"arrowhead\": 0, \"arrowwidth\": 1}, \"autotypenumbers\": \"strict\", \"coloraxis\": {\"colorbar\": {\"outlinewidth\": 0, \"ticks\": \"\"}}, \"colorscale\": {\"diverging\": [[0, \"#8e0152\"], [0.1, \"#c51b7d\"], [0.2, \"#de77ae\"], [0.3, \"#f1b6da\"], [0.4, \"#fde0ef\"], [0.5, \"#f7f7f7\"], [0.6, \"#e6f5d0\"], [0.7, \"#b8e186\"], [0.8, \"#7fbc41\"], [0.9, \"#4d9221\"], [1, \"#276419\"]], \"sequential\": [[0.0, \"#0d0887\"], [0.1111111111111111, \"#46039f\"], [0.2222222222222222, \"#7201a8\"], [0.3333333333333333, \"#9c179e\"], [0.4444444444444444, \"#bd3786\"], [0.5555555555555556, \"#d8576b\"], [0.6666666666666666, \"#ed7953\"], [0.7777777777777778, \"#fb9f3a\"], [0.8888888888888888, \"#fdca26\"], [1.0, \"#f0f921\"]], \"sequentialminus\": [[0.0, \"#0d0887\"], [0.1111111111111111, \"#46039f\"], [0.2222222222222222, \"#7201a8\"], [0.3333333333333333, \"#9c179e\"], [0.4444444444444444, \"#bd3786\"], [0.5555555555555556, \"#d8576b\"], [0.6666666666666666, \"#ed7953\"], [0.7777777777777778, \"#fb9f3a\"], [0.8888888888888888, \"#fdca26\"], [1.0, \"#f0f921\"]]}, \"colorway\": [\"#636efa\", \"#EF553B\", \"#00cc96\", \"#ab63fa\", \"#FFA15A\", \"#19d3f3\", \"#FF6692\", \"#B6E880\", \"#FF97FF\", \"#FECB52\"], \"font\": {\"color\": \"#2a3f5f\"}, \"geo\": {\"bgcolor\": \"white\", \"lakecolor\": \"white\", \"landcolor\": \"#E5ECF6\", \"showlakes\": true, \"showland\": true, \"subunitcolor\": \"white\"}, \"hoverlabel\": {\"align\": \"left\"}, \"hovermode\": \"closest\", \"mapbox\": {\"style\": \"light\"}, \"paper_bgcolor\": \"white\", \"plot_bgcolor\": \"#E5ECF6\", \"polar\": {\"angularaxis\": {\"gridcolor\": \"white\", \"linecolor\": \"white\", \"ticks\": \"\"}, \"bgcolor\": \"#E5ECF6\", \"radialaxis\": {\"gridcolor\": \"white\", \"linecolor\": \"white\", \"ticks\": \"\"}}, \"scene\": {\"xaxis\": {\"backgroundcolor\": \"#E5ECF6\", \"gridcolor\": \"white\", \"gridwidth\": 2, \"linecolor\": \"white\", \"showbackground\": true, \"ticks\": \"\", \"zerolinecolor\": \"white\"}, \"yaxis\": {\"backgroundcolor\": \"#E5ECF6\", \"gridcolor\": \"white\", \"gridwidth\": 2, \"linecolor\": \"white\", \"showbackground\": true, \"ticks\": \"\", \"zerolinecolor\": \"white\"}, \"zaxis\": {\"backgroundcolor\": \"#E5ECF6\", \"gridcolor\": \"white\", \"gridwidth\": 2, \"linecolor\": \"white\", \"showbackground\": true, \"ticks\": \"\", \"zerolinecolor\": \"white\"}}, \"shapedefaults\": {\"line\": {\"color\": \"#2a3f5f\"}}, \"ternary\": {\"aaxis\": {\"gridcolor\": \"white\", \"linecolor\": \"white\", \"ticks\": \"\"}, \"baxis\": {\"gridcolor\": \"white\", \"linecolor\": \"white\", \"ticks\": \"\"}, \"bgcolor\": \"#E5ECF6\", \"caxis\": {\"gridcolor\": \"white\", \"linecolor\": \"white\", \"ticks\": \"\"}}, \"title\": {\"x\": 0.05}, \"xaxis\": {\"automargin\": true, \"gridcolor\": \"white\", \"linecolor\": \"white\", \"ticks\": \"\", \"title\": {\"standoff\": 15}, \"zerolinecolor\": \"white\", \"zerolinewidth\": 2}, \"yaxis\": {\"automargin\": true, \"gridcolor\": \"white\", \"linecolor\": \"white\", \"ticks\": \"\", \"title\": {\"standoff\": 15}, \"zerolinecolor\": \"white\", \"zerolinewidth\": 2}}}, \"title\": {\"text\": \"material\"}, \"xaxis\": {\"anchor\": \"y\", \"domain\": [0.0, 1.0], \"title\": {\"text\": \"material\"}}, \"yaxis\": {\"anchor\": \"x\", \"domain\": [0.0, 1.0], \"title\": {\"text\": \"count\"}}},                        {\"responsive\": true}                    ).then(function(){\n",
       "                            \n",
       "var gd = document.getElementById('1edbd940-35cc-4d7c-aa83-3d5603a963f9');\n",
       "var x = new MutationObserver(function (mutations, observer) {{\n",
       "        var display = window.getComputedStyle(gd).display;\n",
       "        if (!display || display === 'none') {{\n",
       "            console.log([gd, 'removed!']);\n",
       "            Plotly.purge(gd);\n",
       "            observer.disconnect();\n",
       "        }}\n",
       "}});\n",
       "\n",
       "// Listen for the removal of the full notebook cells\n",
       "var notebookContainer = gd.closest('#notebook-container');\n",
       "if (notebookContainer) {{\n",
       "    x.observe(notebookContainer, {childList: true});\n",
       "}}\n",
       "\n",
       "// Listen for the clearing of the current output cell\n",
       "var outputEl = gd.closest('.output');\n",
       "if (outputEl) {{\n",
       "    x.observe(outputEl, {childList: true});\n",
       "}}\n",
       "\n",
       "                        })                };                });            </script>        </div>"
      ]
     },
     "metadata": {},
     "output_type": "display_data"
    }
   ],
   "source": [
    "fig = px.histogram(aMetagenomes_metadata, x=\"material\",title=\"material\")\n",
    "fig.show()"
   ]
  },
  {
   "cell_type": "code",
   "execution_count": 54,
   "metadata": {},
   "outputs": [
    {
     "data": {
      "application/vnd.plotly.v1+json": {
       "config": {
        "plotlyServerURL": "https://plot.ly"
       },
       "data": [
        {
         "customdata": [
          [
           "Dalheim"
          ],
          [
           "Dalheim"
          ],
          [
           "Dalheim"
          ],
          [
           "Dalheim"
          ],
          [
           "Dalheim"
          ],
          [
           "Dalheim"
          ],
          [
           "Dalheim"
          ],
          [
           "Dalheim"
          ],
          [
           "Dalheim"
          ],
          [
           "Camino del Molino"
          ],
          [
           "Camino del Molino"
          ],
          [
           "Anse a la Gourde"
          ],
          [
           "Anse a la Gourde"
          ],
          [
           "KhÃ¶vsgÃ¶l"
          ],
          [
           "KhÃ¶vsgÃ¶l"
          ],
          [
           "Kilteasheen"
          ],
          [
           "Kilteasheen"
          ],
          [
           "Kilteasheen"
          ],
          [
           "Kilteasheen"
          ],
          [
           "Kilteasheen"
          ],
          [
           "Kilteasheen"
          ],
          [
           "Kilteasheen"
          ],
          [
           "Kilteasheen"
          ],
          [
           "Kilteasheen"
          ],
          [
           "Kilteasheen"
          ],
          [
           "Kilteasheen"
          ],
          [
           "Kilteasheen"
          ],
          [
           "Kilteasheen"
          ],
          [
           "Kilteasheen"
          ],
          [
           "Kilteasheen"
          ],
          [
           "Kilteasheen"
          ],
          [
           "Kilteasheen"
          ],
          [
           "Kilteasheen"
          ],
          [
           "Kilteasheen"
          ],
          [
           "Kilteasheen"
          ],
          [
           "Kilteasheen"
          ],
          [
           "Kilteasheen"
          ],
          [
           "Kilteasheen"
          ],
          [
           "Kilteasheen"
          ],
          [
           "Kilteasheen"
          ],
          [
           "Kilteasheen"
          ],
          [
           "Kilteasheen"
          ],
          [
           "Kilteasheen"
          ],
          [
           "Kilteasheen"
          ],
          [
           "Kilteasheen"
          ],
          [
           "Kilteasheen"
          ],
          [
           "Kilteasheen"
          ],
          [
           "Kilteasheen"
          ],
          [
           "Kilteasheen"
          ],
          [
           "Kilteasheen"
          ],
          [
           "Kilteasheen"
          ],
          [
           "Kilteasheen"
          ],
          [
           "Kilteasheen"
          ],
          [
           "Kilteasheen"
          ],
          [
           "Kilteasheen"
          ],
          [
           "Kilteasheen"
          ],
          [
           "Kilteasheen"
          ],
          [
           "Kilteasheen"
          ],
          [
           "Kilteasheen"
          ],
          [
           "Kilteasheen"
          ],
          [
           "Kilteasheen"
          ],
          [
           "Kilteasheen"
          ],
          [
           "Kilteasheen"
          ],
          [
           "Kilteasheen"
          ],
          [
           "Kilteasheen"
          ],
          [
           "Norris Farms"
          ],
          [
           "Norris Farms"
          ],
          [
           "Middenbeemster"
          ],
          [
           "Samdzong"
          ],
          [
           "Samdzong"
          ],
          [
           "Middenbeemster"
          ],
          [
           "Camino del Molino"
          ],
          [
           "Camino del Molino"
          ],
          [
           "Anse a la Gourde"
          ],
          [
           "Anse a la Gourde"
          ],
          [
           "KhÃ¶vsgÃ¶l"
          ],
          [
           "KhÃ¶vsgÃ¶l"
          ],
          [
           "Kilteasheen"
          ],
          [
           "Kilteasheen"
          ],
          [
           "Kilteasheen"
          ],
          [
           "Kilteasheen"
          ],
          [
           "Kilteasheen"
          ],
          [
           "Kilteasheen"
          ],
          [
           "Kilteasheen"
          ],
          [
           "Kilteasheen"
          ],
          [
           "Kilteasheen"
          ],
          [
           "Kilteasheen"
          ],
          [
           "Kilteasheen"
          ],
          [
           "Kilteasheen"
          ],
          [
           "Kilteasheen"
          ],
          [
           "Kilteasheen"
          ],
          [
           "Kilteasheen"
          ],
          [
           "Kilteasheen"
          ],
          [
           "Kilteasheen"
          ],
          [
           "Kilteasheen"
          ],
          [
           "Kilteasheen"
          ],
          [
           "Kilteasheen"
          ],
          [
           "Kilteasheen"
          ],
          [
           "Kilteasheen"
          ],
          [
           "Kilteasheen"
          ],
          [
           "Kilteasheen"
          ],
          [
           "Kilteasheen"
          ],
          [
           "Kilteasheen"
          ],
          [
           "Kilteasheen"
          ],
          [
           "Kilteasheen"
          ],
          [
           "Kilteasheen"
          ],
          [
           "Kilteasheen"
          ],
          [
           "Kilteasheen"
          ],
          [
           "Kilteasheen"
          ],
          [
           "Kilteasheen"
          ],
          [
           "Kilteasheen"
          ],
          [
           "Kilteasheen"
          ],
          [
           "Kilteasheen"
          ],
          [
           "Kilteasheen"
          ],
          [
           "Kilteasheen"
          ],
          [
           "Kilteasheen"
          ],
          [
           "Kilteasheen"
          ],
          [
           "Kilteasheen"
          ],
          [
           "Kilteasheen"
          ],
          [
           "Kilteasheen"
          ],
          [
           "Kilteasheen"
          ],
          [
           "Kilteasheen"
          ],
          [
           "Kilteasheen"
          ],
          [
           "Kilteasheen"
          ],
          [
           "Kilteasheen"
          ],
          [
           "Norris Farms"
          ],
          [
           "Norris Farms"
          ],
          [
           "Middenbeemster"
          ],
          [
           "Samdzong"
          ],
          [
           "Samdzong"
          ],
          [
           "Middenbeemster"
          ],
          [
           "Gombe National Park"
          ],
          [
           "Gombe National Park"
          ],
          [
           "Gombe National Park"
          ],
          [
           "Gombe National Park"
          ],
          [
           "Gombe National Park"
          ],
          [
           "Gombe National Park"
          ],
          [
           "Gombe National Park"
          ],
          [
           "Gombe National Park"
          ],
          [
           "Gombe National Park"
          ],
          [
           "Gombe National Park"
          ],
          [
           "Gombe National Park"
          ],
          [
           "Gombe National Park"
          ],
          [
           "Gombe National Park"
          ],
          [
           "Gombe National Park"
          ],
          [
           "Gombe National Park"
          ],
          [
           "Gombe National Park"
          ],
          [
           "Gombe National Park"
          ],
          [
           "Gombe National Park"
          ],
          [
           "Gombe National Park"
          ],
          [
           "Le Mans"
          ],
          [
           "Le Mans"
          ],
          [
           "Le Mans"
          ],
          [
           "Le Mans"
          ],
          [
           "Le Mans"
          ],
          [
           "Le Mans"
          ],
          [
           "Le Mans"
          ],
          [
           "Le Mans"
          ],
          [
           "Le Mans"
          ],
          [
           "Norris Farms"
          ],
          [
           "Norris Farms"
          ],
          [
           "Norris Farms"
          ],
          [
           "Norris Farms"
          ],
          [
           "Paso del Indio"
          ],
          [
           "Yuribey River"
          ],
          [
           "Yuribey River"
          ],
          [
           "Yuribey River"
          ],
          [
           "Yuribey River"
          ],
          [
           "Yuribey River"
          ],
          [
           "Yuribey River"
          ],
          [
           "Yuribey River"
          ],
          [
           "Yuribey River"
          ],
          [
           "Yuribey River"
          ],
          [
           "Yuribey River"
          ],
          [
           "Yuribey River"
          ],
          [
           "Yuribey River"
          ],
          [
           "Yuribey River"
          ],
          [
           "Yuribey River"
          ],
          [
           "Yuribey River"
          ],
          [
           "Yuribey River"
          ],
          [
           "Peru: Cusco; Occobamba Valley, Tocopoqueu"
          ],
          [
           "Peru: Cusco; Occobamba Valley, Tocopoqueu"
          ],
          [
           "Peru: Cusco; Occobamba Valley, Tocopoqueu"
          ],
          [
           "Peru: Cusco; Occobamba Valley, Tocopoqueu"
          ],
          [
           "Peru: Cusco; Occobamba Valley, Tocopoqueu"
          ],
          [
           "Peru: Cusco; Occobamba Valley, Tocopoqueu"
          ],
          [
           "Peru: Cusco; Occobamba Valley, Tocopoqueu"
          ],
          [
           "Peru: Cusco; Occobamba Valley, Tocopoqueu"
          ],
          [
           "Peru: Cusco; Occobamba Valley, Tocopoqueu"
          ],
          [
           "Peru: Cusco; Occobamba Valley, Tocopoqueu"
          ],
          [
           "Peru: Cusco; Occobamba Valley, Tocopoqueu"
          ],
          [
           "Peru: Cusco; Occobamba Valley, Tocopoqueu"
          ],
          [
           "Peru: Cusco; Occobamba Valley, Tocopoqueu"
          ],
          [
           "Peru: Cusco; Occobamba Valley, Tocopoqueu"
          ],
          [
           "Peru: Cusco; Occobamba Valley, Tocopoqueu"
          ],
          [
           "Peru: Cusco; Occobamba Valley, Tocopoqueu"
          ],
          [
           "Peru: Cusco; Occobamba Valley, Tocopoqueu"
          ],
          [
           "Peru: Cusco; Occobamba Valley, Tocopoqueu"
          ],
          [
           "Peru: Cusco; Occobamba Valley, Tocopoqueu"
          ],
          [
           "Peru: Cusco; Occobamba Valley, Tocopoqueu"
          ],
          [
           "Peru: Cusco; Occobamba Valley, Tocopoqueu"
          ],
          [
           "Peru: Cusco; Occobamba Valley, Tocopoqueu"
          ],
          [
           "Peru: Cusco; Occobamba Valley, Tocopoqueu"
          ],
          [
           "Peru: Cusco; Occobamba Valley, Tocopoqueu"
          ],
          [
           "Peru: Cusco; Occobamba Valley, Tocopoqueu"
          ],
          [
           "Peru: Cusco; Occobamba Valley, Tocopoqueu"
          ],
          [
           "Peru: Cusco; Occobamba Valley, Tocopoqueu"
          ],
          [
           "Peru: Cusco; Occobamba Valley, Tocopoqueu"
          ],
          [
           "Peru: Cusco; Occobamba Valley, Tocopoqueu"
          ],
          [
           "Peru: Cusco; Occobamba Valley, Tocopoqueu"
          ],
          [
           "Peru: Cusco; Occobamba Valley, Tocopoqueu"
          ],
          [
           "Peru: Cusco; Occobamba Valley, Tocopoqueu"
          ],
          [
           "Peru: Cusco; Occobamba Valley, Tocopoqueu"
          ],
          [
           "Peru: Cusco; Occobamba Valley, Tocopoqueu"
          ],
          [
           "Peru: Cusco; Occobamba Valley, Tocopoqueu"
          ],
          [
           "Peru: Cusco; Occobamba Valley, Tocopoqueu"
          ],
          [
           "Peru: Cusco; Occobamba Valley, Tocopoqueu"
          ],
          [
           "Peru: Cusco; Occobamba Valley, Tocopoqueu"
          ],
          [
           "Peru: Cusco; Occobamba Valley, Tocopoqueu"
          ],
          [
           "Peru: Cusco; Occobamba Valley, Tocopoqueu"
          ],
          [
           "Peru: Cusco; Occobamba Valley, Tocopoqueu"
          ],
          [
           "Peru: Cusco; Occobamba Valley, Tocopoqueu"
          ],
          [
           "Peru: Cusco; Occobamba Valley, Tocopoqueu"
          ],
          [
           "Peru: Cusco; Occobamba Valley, Tocopoqueu"
          ],
          [
           "Peru: Cusco; Occobamba Valley, Tocopoqueu"
          ],
          [
           "Peru: Cusco; Occobamba Valley, Tocopoqueu"
          ],
          [
           "Peru: Cusco; Occobamba Valley, Tocopoqueu"
          ],
          [
           "Peru: Cusco; Occobamba Valley, Tocopoqueu"
          ],
          [
           "Peru: Cusco; Occobamba Valley, Tocopoqueu"
          ],
          [
           "Peru: Cusco; Occobamba Valley, Tocopoqueu"
          ],
          [
           "Peru: Cusco; Occobamba Valley, Tocopoqueu"
          ],
          [
           "Peru: Cusco; Occobamba Valley, Tocopoqueu"
          ],
          [
           "Peru: Cusco; Occobamba Valley, Tocopoqueu"
          ],
          [
           "Peru: Cusco; Occobamba Valley, Tocopoqueu"
          ],
          [
           "Peru: Cusco; Occobamba Valley, Tocopoqueu"
          ],
          [
           "Peru: Cusco; Occobamba Valley, Tocopoqueu"
          ],
          [
           "Peru: Cusco; Occobamba Valley, Tocopoqueu"
          ],
          [
           "Peru: Cusco; Occobamba Valley, Tocopoqueu"
          ],
          [
           "Peru: Cusco; Occobamba Valley, Tocopoqueu"
          ],
          [
           "Peru: Cusco; Occobamba Valley, Tocopoqueu"
          ],
          [
           "Peru: Cusco; Occobamba Valley, Tocopoqueu"
          ],
          [
           "Peru: Cusco; Occobamba Valley, Tocopoqueu"
          ],
          [
           "Peru: Cusco; Occobamba Valley, Tocopoqueu"
          ],
          [
           "Peru: Cusco; Occobamba Valley, Tocopoqueu"
          ],
          [
           "Kenya: Nâ€™Guasso Njiro River, SÂ "
          ],
          [
           "Kenya: Nâ€™Guasso Njiro River, SÂ "
          ],
          [
           "Kenya: Nâ€™Guasso Njiro River, SÂ "
          ],
          [
           "Kenya: Nâ€™Guasso Njiro River, SÂ "
          ],
          [
           "Kenya: Nâ€™Guasso Njiro River, SÂ "
          ],
          [
           "Kenya: Nâ€™Guasso Njiro River, SÂ "
          ],
          [
           "Kenya: Nâ€™Guasso Njiro River, SÂ "
          ],
          [
           "Kenya: Nâ€™Guasso Njiro River, SÂ "
          ],
          [
           "Kenya: Nâ€™Guasso Njiro River, SÂ "
          ],
          [
           "Kenya: Nâ€™Guasso Njiro River, SÂ "
          ],
          [
           "Kenya: Nâ€™Guasso Njiro River, SÂ "
          ],
          [
           "Kenya: Nâ€™Guasso Njiro River, SÂ "
          ],
          [
           "Kenya: Nâ€™Guasso Njiro River, SÂ "
          ],
          [
           "Kenya: Nâ€™Guasso Njiro River, SÂ "
          ],
          [
           "Kenya: Nâ€™Guasso Njiro River, SÂ "
          ],
          [
           "Kenya: Nâ€™Guasso Njiro River, SÂ "
          ],
          [
           "Kenya: Nâ€™Guasso Njiro River, SÂ "
          ],
          [
           "Kenya: Nâ€™Guasso Njiro River, SÂ "
          ],
          [
           "Kenya: Nâ€™Guasso Njiro River, SÂ "
          ],
          [
           "Kenya: Nâ€™Guasso Njiro River, SÂ "
          ],
          [
           "Kenya: Nâ€™Guasso Njiro River, SÂ "
          ],
          [
           "Kenya: Nâ€™Guasso Njiro River, SÂ "
          ],
          [
           "Kenya: Nâ€™Guasso Njiro River, SÂ "
          ],
          [
           "Kenya: Nâ€™Guasso Njiro River, SÂ "
          ],
          [
           "Kenya: Nâ€™Guasso Njiro River, SÂ "
          ],
          [
           "Kenya: Nâ€™Guasso Njiro River, SÂ "
          ],
          [
           "Kenya: Nâ€™Guasso Njiro River, SÂ "
          ],
          [
           "Kenya: Nâ€™Guasso Njiro River, SÂ "
          ],
          [
           "Kenya: Nâ€™Guasso Njiro River, SÂ "
          ],
          [
           "Kenya: Nâ€™Guasso Njiro River, SÂ "
          ],
          [
           "Kenya: Nâ€™Guasso Njiro River, SÂ "
          ],
          [
           "Kenya: Nâ€™Guasso Njiro River, SÂ "
          ],
          [
           "Kenya: Nâ€™Guasso Njiro River, SÂ "
          ],
          [
           "Kenya: Nâ€™Guasso Njiro River, SÂ "
          ],
          [
           "Kenya: Nâ€™Guasso Njiro River, SÂ "
          ],
          [
           "Kenya: Nâ€™Guasso Njiro River, SÂ "
          ],
          [
           "Kenya: Nâ€™Guasso Njiro River, SÂ "
          ],
          [
           "Kenya: Nâ€™Guasso Njiro River, SÂ "
          ],
          [
           "Kenya: Nâ€™Guasso Njiro River, SÂ "
          ],
          [
           "Kenya: Nâ€™Guasso Njiro River, SÂ "
          ],
          [
           "Kenya: Nâ€™Guasso Njiro River, SÂ "
          ],
          [
           "Kenya: Nâ€™Guasso Njiro River, SÂ "
          ],
          [
           "Kenya: Nâ€™Guasso Njiro River, SÂ "
          ],
          [
           "Kenya: Nâ€™Guasso Njiro River, SÂ "
          ],
          [
           "Kenya: Nâ€™Guasso Njiro River, SÂ "
          ],
          [
           "Kenya: Nâ€™Guasso Njiro River, SÂ "
          ],
          [
           "Kenya: Nâ€™Guasso Njiro River, SÂ "
          ],
          [
           "Kenya: Nâ€™Guasso Njiro River, SÂ "
          ],
          [
           "Kenya: Nâ€™Guasso Njiro River, SÂ "
          ],
          [
           "Kenya: Nâ€™Guasso Njiro River, SÂ "
          ],
          [
           "Kenya: Nâ€™Guasso Njiro River, SÂ "
          ],
          [
           "Kenya: Nâ€™Guasso Njiro River, SÂ "
          ],
          [
           "Kenya: Nâ€™Guasso Njiro River, SÂ "
          ],
          [
           "Kenya: Nâ€™Guasso Njiro River, SÂ "
          ],
          [
           "Kenya: Nâ€™Guasso Njiro River, SÂ "
          ],
          [
           "Kenya: Nâ€™Guasso Njiro River, SÂ "
          ],
          [
           "Kenya: Nâ€™Guasso Njiro River, SÂ "
          ],
          [
           "Kenya: Nâ€™Guasso Njiro River, SÂ "
          ],
          [
           "Kenya: Nâ€™Guasso Njiro River, SÂ "
          ],
          [
           "Kenya: Nâ€™Guasso Njiro River, SÂ "
          ],
          [
           "Kenya: Nâ€™Guasso Njiro River, SÂ "
          ],
          [
           "Kenya: Nâ€™Guasso Njiro River, SÂ "
          ],
          [
           "Kenya: Nâ€™Guasso Njiro River, SÂ "
          ],
          [
           "Kenya: Nâ€™Guasso Njiro River, SÂ "
          ],
          [
           "Indonesia: Celebes Island, GimpoeÂ "
          ],
          [
           "Indonesia: Celebes Island, GimpoeÂ "
          ],
          [
           "Indonesia: Celebes Island, GimpoeÂ "
          ],
          [
           "Indonesia: Celebes Island, GimpoeÂ "
          ],
          [
           "Indonesia: Celebes Island, GimpoeÂ "
          ],
          [
           "Indonesia: Celebes Island, GimpoeÂ "
          ],
          [
           "Indonesia: Celebes Island, GimpoeÂ "
          ],
          [
           "Indonesia: Celebes Island, GimpoeÂ "
          ],
          [
           "Indonesia: Celebes Island, GimpoeÂ "
          ],
          [
           "Indonesia: Celebes Island, GimpoeÂ "
          ],
          [
           "Indonesia: Celebes Island, GimpoeÂ "
          ],
          [
           "Indonesia: Celebes Island, GimpoeÂ "
          ],
          [
           "Indonesia: Celebes Island, GimpoeÂ "
          ],
          [
           "Indonesia: Celebes Island, GimpoeÂ "
          ],
          [
           "Indonesia: Celebes Island, GimpoeÂ "
          ],
          [
           "Indonesia: Celebes Island, GimpoeÂ "
          ],
          [
           "Indonesia: Celebes Island, GimpoeÂ "
          ],
          [
           "Indonesia: Celebes Island, GimpoeÂ "
          ],
          [
           "Indonesia: Celebes Island, GimpoeÂ "
          ],
          [
           "Indonesia: Celebes Island, GimpoeÂ "
          ],
          [
           "Indonesia: Celebes Island, GimpoeÂ "
          ],
          [
           "Indonesia: Celebes Island, GimpoeÂ "
          ],
          [
           "Indonesia: Celebes Island, GimpoeÂ "
          ],
          [
           "Indonesia: Celebes Island, GimpoeÂ "
          ],
          [
           "Indonesia: Celebes Island, GimpoeÂ "
          ],
          [
           "Indonesia: Celebes Island, GimpoeÂ "
          ],
          [
           "Indonesia: Celebes Island, GimpoeÂ "
          ],
          [
           "Indonesia: Celebes Island, GimpoeÂ "
          ],
          [
           "Indonesia: Celebes Island, GimpoeÂ "
          ],
          [
           "Indonesia: Celebes Island, GimpoeÂ "
          ],
          [
           "Indonesia: Celebes Island, GimpoeÂ "
          ],
          [
           "Indonesia: Celebes Island, GimpoeÂ "
          ],
          [
           "Indonesia: Celebes Island, GimpoeÂ "
          ],
          [
           "Indonesia: Celebes Island, GimpoeÂ "
          ],
          [
           "Indonesia: Celebes Island, GimpoeÂ "
          ],
          [
           "Indonesia: Celebes Island, GimpoeÂ "
          ],
          [
           "Indonesia: Celebes Island, GimpoeÂ "
          ],
          [
           "Indonesia: Celebes Island, GimpoeÂ "
          ],
          [
           "Indonesia: Celebes Island, GimpoeÂ "
          ],
          [
           "Indonesia: Celebes Island, GimpoeÂ "
          ],
          [
           "Indonesia: Celebes Island, GimpoeÂ "
          ],
          [
           "Indonesia: Celebes Island, GimpoeÂ "
          ],
          [
           "Indonesia: Celebes Island, GimpoeÂ "
          ],
          [
           "Indonesia: Celebes Island, GimpoeÂ "
          ],
          [
           "Indonesia: Celebes Island, GimpoeÂ "
          ],
          [
           "Indonesia: Celebes Island, GimpoeÂ "
          ],
          [
           "Indonesia: Celebes Island, GimpoeÂ "
          ],
          [
           "Indonesia: Celebes Island, GimpoeÂ "
          ],
          [
           "Indonesia: Celebes Island, GimpoeÂ "
          ],
          [
           "Indonesia: Celebes Island, GimpoeÂ "
          ],
          [
           "Indonesia: Celebes Island, GimpoeÂ "
          ],
          [
           "Indonesia: Celebes Island, GimpoeÂ "
          ],
          [
           "Indonesia: Celebes Island, GimpoeÂ "
          ],
          [
           "Indonesia: Celebes Island, GimpoeÂ "
          ],
          [
           "Indonesia: Celebes Island, GimpoeÂ "
          ],
          [
           "Indonesia: Celebes Island, GimpoeÂ "
          ],
          [
           "Indonesia: Celebes Island, GimpoeÂ "
          ],
          [
           "Indonesia: Celebes Island, GimpoeÂ "
          ],
          [
           "Indonesia: Celebes Island, GimpoeÂ "
          ],
          [
           "Indonesia: Celebes Island, GimpoeÂ "
          ],
          [
           "Indonesia: Celebes Island, GimpoeÂ "
          ],
          [
           "Indonesia: Celebes Island, GimpoeÂ "
          ],
          [
           "Indonesia: Celebes Island, GimpoeÂ "
          ],
          [
           "Indonesia: Celebes Island, GimpoeÂ "
          ],
          [
           "Teposcolula Yucundaa"
          ],
          [
           "Teposcolula Yucundaa"
          ],
          [
           "Teposcolula Yucundaa"
          ],
          [
           "Teposcolula Yucundaa"
          ],
          [
           "Teposcolula Yucundaa"
          ],
          [
           "Teposcolula Yucundaa"
          ],
          [
           "Teposcolula Yucundaa"
          ],
          [
           "Teposcolula Yucundaa"
          ],
          [
           "Teposcolula Yucundaa"
          ],
          [
           "Teposcolula Yucundaa"
          ],
          [
           "Teposcolula Yucundaa"
          ],
          [
           "Teposcolula Yucundaa"
          ],
          [
           "Teposcolula Yucundaa"
          ],
          [
           "Teposcolula Yucundaa"
          ],
          [
           "Teposcolula Yucundaa"
          ],
          [
           "Teposcolula Yucundaa"
          ],
          [
           "Upper Providence, Delaware County, Pennsylvania"
          ],
          [
           "Upper Providence, Delaware County, Pennsylvania"
          ],
          [
           "Swarthmore, Delaware County, Pennsylvania"
          ],
          [
           "Swarthmore, Delaware County, Pennsylvania"
          ],
          [
           "Lansdowne, Delaware County, Pennsylvania"
          ],
          [
           "Lansdowne, Delaware County, Pennsylvania"
          ],
          [
           "West Philadelphia, Philadelphia"
          ],
          [
           "West Philadelphia, Philadelphia"
          ],
          [
           "West Philadelphia, Philadelphia"
          ],
          [
           "Easton, Philadelphia"
          ],
          [
           "Easton, Philadelphia"
          ],
          [
           "Iowa City, Iowa"
          ],
          [
           "Iowa City, Iowa"
          ],
          [
           "Iowa City, Iowa"
          ],
          [
           "Ames, Iowa"
          ],
          [
           "Ames, Iowa"
          ],
          [
           "Ames, Iowa"
          ],
          [
           "Des Moines, Iowa"
          ],
          [
           "Des Moines, Iowa"
          ],
          [
           "Ames, Iowa"
          ],
          [
           "Ames, Iowa"
          ],
          [
           "Ames, Iowa"
          ],
          [
           "Ames, Iowa"
          ],
          [
           "Ames, Iowa"
          ],
          [
           "Connecticut (in Ohio State University)"
          ],
          [
           "Ohio (in Ohio State University)"
          ],
          [
           "Ohio (in Ohio State University)"
          ],
          [
           "Ohio (in Ohio State University)"
          ],
          [
           "Ohio (in Ohio State University)"
          ],
          [
           "Ohio (in Ohio State University)"
          ],
          [
           "Ohio (in Ohio State University)"
          ],
          [
           "Ohio (in Ohio State University)"
          ],
          [
           "Ohio (in Ohio State University)"
          ],
          [
           "Ohio (in Ohio State University)"
          ],
          [
           "Ohio (in University of Connecticut Herbarium)"
          ],
          [
           "Ohio (in University of Connecticut Herbarium)"
          ],
          [
           "Ohio (in University of Connecticut Herbarium)"
          ],
          [
           "New Jersey (in University of Connecticut Herbarium)"
          ],
          [
           "Connecticut (in University of Connecticut Herbarium)"
          ],
          [
           "Connecticut (in University of Connecticut Herbarium)"
          ],
          [
           "Connecticut (in University of Connecticut Herbarium)"
          ],
          [
           "Ohio (in Chicago Field Museum)"
          ],
          [
           "Indiana (in Chicago Field Museum)"
          ],
          [
           "New Jersey (in Chicago Field Museum)"
          ],
          [
           "Utah (In New York Botanical Garden)"
          ],
          [
           "New York (In New York Botanical Garden)"
          ],
          [
           "Tennessee (In New York Botanical Garden)"
          ],
          [
           "Georgia (in New York Botanical Garden)"
          ],
          [
           "District of Columbia (in New York Botanical Garden)"
          ],
          [
           "New York (In New York Botanical Garden)"
          ],
          [
           "New Jersey (in New York Botanical Garden)"
          ],
          [
           "New Jersey (in New York Botanical Garden)"
          ],
          [
           "New York (In New York Botanical Garden)"
          ],
          [
           "District of Columbia (in New York Botanical Garden)"
          ],
          [
           "North Carolina (in New York Botanical Garden)"
          ],
          [
           "District of Columbia (in New York Botanical Garden)"
          ],
          [
           "Delaware (in New York Botanical Garden)"
          ],
          [
           "Utah (In New York Botanical Garden)"
          ],
          [
           "CA-SCL-919, Santa Clara County"
          ],
          [
           "CA-SCL-919, Santa Clara County"
          ],
          [
           "CA-SCL-919, Santa Clara County"
          ],
          [
           "CA-SCL-919, Santa Clara County"
          ],
          [
           "Porticus Octaviae (Rome)"
          ],
          [
           "Porticus Octaviae (Rome)"
          ],
          [
           "Porticus Octaviae (Rome)"
          ],
          [
           "Place d'Armes, Namur"
          ],
          [
           "Tokyo"
          ],
          [
           "Tokyo"
          ],
          [
           "Tokyo"
          ],
          [
           "Tokyo"
          ],
          [
           "Ebishima"
          ],
          [
           "Miyano"
          ],
          [
           "Miyano"
          ],
          [
           "Ikawazu"
          ],
          [
           "Tokyo"
          ],
          [
           "Tokyo"
          ],
          [
           "Tokyo"
          ],
          [
           "Tokyo"
          ],
          [
           "Tokyo"
          ],
          [
           "Tokyo"
          ],
          [
           "Miyano"
          ],
          [
           "Chan Chich"
          ],
          [
           "Chan Chich"
          ],
          [
           "Chan Chich"
          ],
          [
           "Chan Chich"
          ],
          [
           "Chan Chich"
          ],
          [
           "Chan"
          ],
          [
           "Chan"
          ],
          [
           "Perdalba (Sardara)"
          ],
          [
           "Perdalba (Sardara)"
          ],
          [
           "Perdalba (Sardara)"
          ],
          [
           "Capo Pecora (Arbus)"
          ],
          [
           "Capo Pecora (Arbus)"
          ],
          [
           "Capo Pecora (Arbus)"
          ],
          [
           "Capo Pecora (Arbus)"
          ],
          [
           "Lu Maccioni (Alghero)"
          ],
          [
           "Lu Maccioni (Alghero)"
          ],
          [
           "Lu Maccioni (Alghero)"
          ],
          [
           "Lu Maccioni (Alghero)"
          ],
          [
           "Riga"
          ],
          [
           "Riga"
          ],
          [
           "Riga"
          ],
          [
           "Riga"
          ],
          [
           "Jerusalem"
          ],
          [
           "Jerusalem"
          ],
          [
           "Jerusalem"
          ],
          [
           "Jerusalem"
          ],
          [
           "Medical Collection, American Museum of Natural History (New York)"
          ],
          [
           "Kodiak Island Collection, National Museum of Natural History (Washington D.C.)"
          ],
          [
           "Gniezno"
          ],
          [
           "Gniezno"
          ],
          [
           "Kowalewko"
          ],
          [
           "Kowalewko"
          ],
          [
           "Kowalewko"
          ],
          [
           "Kowalewko"
          ],
          [
           "Kowalewko"
          ],
          [
           "Kowalewko"
          ],
          [
           "Kowalewko"
          ],
          [
           "Kowalewko"
          ],
          [
           "Kowalewko"
          ],
          [
           "Kowalewko"
          ],
          [
           "Kowalewko"
          ],
          [
           "Kowalewko"
          ],
          [
           "Kowalewko"
          ],
          [
           "Kowalewko"
          ],
          [
           "Kowalewko"
          ],
          [
           "Kowalewko"
          ],
          [
           "Kowalewko"
          ],
          [
           "Kowalewko"
          ],
          [
           "Kowalewko"
          ],
          [
           "Kowalewko"
          ],
          [
           "Kowalewko"
          ],
          [
           "Kowalewko"
          ],
          [
           "Kowalewko"
          ],
          [
           "Kowalewko"
          ],
          [
           "Kowalewko"
          ],
          [
           "Kowalewko"
          ],
          [
           "Kowalewko"
          ],
          [
           "Kowalewko"
          ],
          [
           "Kowalewko"
          ],
          [
           "Kowalewko"
          ],
          [
           "Kowalewko"
          ],
          [
           "Kowalewko"
          ],
          [
           "Kowalewko"
          ],
          [
           "Kowalewko"
          ],
          [
           "Kowalewko"
          ],
          [
           "Kowalewko"
          ],
          [
           "Kowalewko"
          ],
          [
           "Kowalewko"
          ],
          [
           "Kowalewko"
          ],
          [
           "Kowalewko"
          ],
          [
           "Kowalewko"
          ],
          [
           "Kowalewko"
          ],
          [
           "Kowalewko"
          ],
          [
           "Kowalewko"
          ],
          [
           "Kowalewko"
          ],
          [
           "Kowalewko"
          ],
          [
           "Kowalewko"
          ],
          [
           "Kowalewko"
          ],
          [
           "Kowalewko"
          ],
          [
           "Kowalewko"
          ],
          [
           "Kowalewko"
          ],
          [
           "Kowalewko"
          ],
          [
           "Kowalewko"
          ],
          [
           "Kowalewko"
          ],
          [
           "Kowalewko"
          ],
          [
           "Kowalewko"
          ],
          [
           "Kowalewko"
          ],
          [
           "Kowalewko"
          ],
          [
           "Kowalewko"
          ],
          [
           "Kowalewko"
          ],
          [
           "Kowalewko"
          ],
          [
           "Å<81>Ä™gowo"
          ],
          [
           "Å<81>Ä™gowo"
          ],
          [
           "Å<81>Ä™gowo"
          ],
          [
           "Å<81>Ä™gowo"
          ],
          [
           "Å<81>Ä™gowo"
          ],
          [
           "Å<81>Ä™gowo"
          ],
          [
           "Å<81>Ä™gowo"
          ],
          [
           "Å<81>Ä™gowo"
          ],
          [
           "Å<81>Ä™gowo"
          ],
          [
           "Markowice"
          ],
          [
           "Markowice"
          ],
          [
           "Markowice"
          ],
          [
           "Markowice"
          ],
          [
           "Markowice"
          ],
          [
           "Markowice"
          ],
          [
           "Markowice"
          ],
          [
           "Markowice"
          ],
          [
           "MasÅ‚omÄ™cz"
          ],
          [
           "MasÅ‚omÄ™cz"
          ],
          [
           "MasÅ‚omÄ™cz"
          ],
          [
           "MasÅ‚omÄ™cz"
          ],
          [
           "MasÅ‚omÄ™cz"
          ],
          [
           "MasÅ‚omÄ™cz"
          ],
          [
           "MasÅ‚omÄ™cz"
          ],
          [
           "MasÅ‚omÄ™cz"
          ],
          [
           "MasÅ‚omÄ™cz"
          ],
          [
           "MasÅ‚omÄ™cz"
          ],
          [
           "MasÅ‚omÄ™cz"
          ],
          [
           "MasÅ‚omÄ™cz"
          ],
          [
           "MasÅ‚omÄ™cz"
          ],
          [
           "MasÅ‚omÄ™cz"
          ],
          [
           "MasÅ‚omÄ™cz"
          ],
          [
           "MasÅ‚omÄ™cz"
          ],
          [
           "MasÅ‚omÄ™cz"
          ],
          [
           "MasÅ‚omÄ™cz"
          ],
          [
           "MasÅ‚omÄ™cz"
          ],
          [
           "MasÅ‚omÄ™cz"
          ],
          [
           "MasÅ‚omÄ™cz"
          ],
          [
           "MasÅ‚omÄ™cz"
          ],
          [
           "MasÅ‚omÄ™cz"
          ],
          [
           "MasÅ‚omÄ™cz"
          ],
          [
           "MasÅ‚omÄ™cz"
          ],
          [
           "MasÅ‚omÄ™cz"
          ],
          [
           "MasÅ‚omÄ™cz"
          ],
          [
           "Niemcza"
          ],
          [
           "Niemcza"
          ],
          [
           "Niemcza"
          ],
          [
           "Niemcza"
          ],
          [
           "Niemcza"
          ],
          [
           "Niemcza"
          ],
          [
           "Niemcza"
          ],
          [
           "Niemcza"
          ],
          [
           "Niemcza"
          ],
          [
           "Niemcza"
          ],
          [
           "Niemcza"
          ],
          [
           "Niemcza"
          ],
          [
           "Niemcza"
          ],
          [
           "Niemcza"
          ],
          [
           "Niemcza"
          ],
          [
           "Niemcza"
          ],
          [
           "Niemcza"
          ],
          [
           "Niemcza"
          ],
          [
           "Niemcza"
          ],
          [
           "Niemcza"
          ],
          [
           "Niemcza"
          ],
          [
           "Niemcza"
          ],
          [
           "Niemcza"
          ],
          [
           "Niemcza"
          ],
          [
           "Niemcza"
          ],
          [
           "Niemcza"
          ],
          [
           "Niemcza"
          ],
          [
           "Niemcza"
          ],
          [
           "Niemcza"
          ],
          [
           "Niemcza"
          ],
          [
           "Niemcza"
          ],
          [
           "Niemcza"
          ],
          [
           "Niemcza"
          ],
          [
           "Niemcza"
          ],
          [
           "Niemcza"
          ],
          [
           "Niemcza"
          ],
          [
           "Niemcza"
          ],
          [
           "Sowinki"
          ],
          [
           "Sowinki"
          ],
          [
           "Sowinki"
          ],
          [
           "Sowinki"
          ],
          [
           "Sowinki"
          ],
          [
           "Sowinki"
          ],
          [
           "Sowinki"
          ],
          [
           "Sowinki"
          ],
          [
           "Sowinki"
          ],
          [
           "Sowinki"
          ],
          [
           "Sowinki"
          ],
          [
           "Sowinki"
          ],
          [
           "Sowinki"
          ],
          [
           "Sowinki"
          ],
          [
           "Sowinki"
          ],
          [
           "Sowinki"
          ],
          [
           "Sowinki"
          ],
          [
           "Sowinki"
          ],
          [
           "Sowinki"
          ],
          [
           "Sowinki"
          ],
          [
           "Sowinki"
          ]
         ],
         "hovertemplate": "<b>%{hovertext}</b><br><br>latitude=%{lat}<br>longitude=%{lon}<br>site_name=%{customdata[0]}<extra></extra>",
         "hovertext": [
          "Germany",
          "Germany",
          "Germany",
          "Germany",
          "Germany",
          "Germany",
          "Germany",
          "Germany",
          "Germany",
          "Spain",
          "Spain",
          "Guadeloupe",
          "Guadeloupe",
          "Mongolia",
          "Mongolia",
          "Ireland",
          "Ireland",
          "Ireland",
          "Ireland",
          "Ireland",
          "Ireland",
          "Ireland",
          "Ireland",
          "Ireland",
          "Ireland",
          "Ireland",
          "Ireland",
          "Ireland",
          "Ireland",
          "Ireland",
          "Ireland",
          "Ireland",
          "Ireland",
          "Ireland",
          "Ireland",
          "Ireland",
          "Ireland",
          "Ireland",
          "Ireland",
          "Ireland",
          "Ireland",
          "Ireland",
          "Ireland",
          "Ireland",
          "Ireland",
          "Ireland",
          "Ireland",
          "Ireland",
          "Ireland",
          "Ireland",
          "Ireland",
          "Ireland",
          "Ireland",
          "Ireland",
          "Ireland",
          "Ireland",
          "Ireland",
          "Ireland",
          "Ireland",
          "Ireland",
          "Ireland",
          "Ireland",
          "Ireland",
          "Ireland",
          "Ireland",
          "USA",
          "USA",
          "Netherlands",
          "Nepal",
          "Nepal",
          "Netherlands",
          "Spain",
          "Spain",
          "Guadeloupe",
          "Guadeloupe",
          "Mongolia",
          "Mongolia",
          "Ireland",
          "Ireland",
          "Ireland",
          "Ireland",
          "Ireland",
          "Ireland",
          "Ireland",
          "Ireland",
          "Ireland",
          "Ireland",
          "Ireland",
          "Ireland",
          "Ireland",
          "Ireland",
          "Ireland",
          "Ireland",
          "Ireland",
          "Ireland",
          "Ireland",
          "Ireland",
          "Ireland",
          "Ireland",
          "Ireland",
          "Ireland",
          "Ireland",
          "Ireland",
          "Ireland",
          "Ireland",
          "Ireland",
          "Ireland",
          "Ireland",
          "Ireland",
          "Ireland",
          "Ireland",
          "Ireland",
          "Ireland",
          "Ireland",
          "Ireland",
          "Ireland",
          "Ireland",
          "Ireland",
          "Ireland",
          "Ireland",
          "Ireland",
          "Ireland",
          "Ireland",
          "Ireland",
          "Ireland",
          "USA",
          "USA",
          "Netherlands",
          "Nepal",
          "Nepal",
          "Netherlands",
          "Tanzania",
          "Tanzania",
          "Tanzania",
          "Tanzania",
          "Tanzania",
          "Tanzania",
          "Tanzania",
          "Tanzania",
          "Tanzania",
          "Tanzania",
          "Tanzania",
          "Tanzania",
          "Tanzania",
          "Tanzania",
          "Tanzania",
          "Tanzania",
          "Tanzania",
          "Tanzania",
          "Tanzania",
          "France",
          "France",
          "France",
          "France",
          "France",
          "France",
          "France",
          "France",
          "France",
          "USA",
          "USA",
          "USA",
          "USA",
          "USA",
          "Russia",
          "Russia",
          "Russia",
          "Russia",
          "Russia",
          "Russia",
          "Russia",
          "Russia",
          "Russia",
          "Russia",
          "Russia",
          "Russia",
          "Russia",
          "Russia",
          "Russia",
          "Russia",
          "Peru",
          "Peru",
          "Peru",
          "Peru",
          "Peru",
          "Peru",
          "Peru",
          "Peru",
          "Peru",
          "Peru",
          "Peru",
          "Peru",
          "Peru",
          "Peru",
          "Peru",
          "Peru",
          "Peru",
          "Peru",
          "Peru",
          "Peru",
          "Peru",
          "Peru",
          "Peru",
          "Peru",
          "Peru",
          "Peru",
          "Peru",
          "Peru",
          "Peru",
          "Peru",
          "Peru",
          "Peru",
          "Peru",
          "Peru",
          "Peru",
          "Peru",
          "Peru",
          "Peru",
          "Peru",
          "Peru",
          "Peru",
          "Peru",
          "Peru",
          "Peru",
          "Peru",
          "Peru",
          "Peru",
          "Peru",
          "Peru",
          "Peru",
          "Peru",
          "Peru",
          "Peru",
          "Peru",
          "Peru",
          "Peru",
          "Peru",
          "Peru",
          "Peru",
          "Peru",
          "Peru",
          "Peru",
          "Peru",
          "Peru",
          "Kenya",
          "Kenya",
          "Kenya",
          "Kenya",
          "Kenya",
          "Kenya",
          "Kenya",
          "Kenya",
          "Kenya",
          "Kenya",
          "Kenya",
          "Kenya",
          "Kenya",
          "Kenya",
          "Kenya",
          "Kenya",
          "Kenya",
          "Kenya",
          "Kenya",
          "Kenya",
          "Kenya",
          "Kenya",
          "Kenya",
          "Kenya",
          "Kenya",
          "Kenya",
          "Kenya",
          "Kenya",
          "Kenya",
          "Kenya",
          "Kenya",
          "Kenya",
          "Kenya",
          "Kenya",
          "Kenya",
          "Kenya",
          "Kenya",
          "Kenya",
          "Kenya",
          "Kenya",
          "Kenya",
          "Kenya",
          "Kenya",
          "Kenya",
          "Kenya",
          "Kenya",
          "Kenya",
          "Kenya",
          "Kenya",
          "Kenya",
          "Kenya",
          "Kenya",
          "Kenya",
          "Kenya",
          "Kenya",
          "Kenya",
          "Kenya",
          "Kenya",
          "Kenya",
          "Kenya",
          "Kenya",
          "Kenya",
          "Kenya",
          "Kenya",
          "Indonesia",
          "Indonesia",
          "Indonesia",
          "Indonesia",
          "Indonesia",
          "Indonesia",
          "Indonesia",
          "Indonesia",
          "Indonesia",
          "Indonesia",
          "Indonesia",
          "Indonesia",
          "Indonesia",
          "Indonesia",
          "Indonesia",
          "Indonesia",
          "Indonesia",
          "Indonesia",
          "Indonesia",
          "Indonesia",
          "Indonesia",
          "Indonesia",
          "Indonesia",
          "Indonesia",
          "Indonesia",
          "Indonesia",
          "Indonesia",
          "Indonesia",
          "Indonesia",
          "Indonesia",
          "Indonesia",
          "Indonesia",
          "Indonesia",
          "Indonesia",
          "Indonesia",
          "Indonesia",
          "Indonesia",
          "Indonesia",
          "Indonesia",
          "Indonesia",
          "Indonesia",
          "Indonesia",
          "Indonesia",
          "Indonesia",
          "Indonesia",
          "Indonesia",
          "Indonesia",
          "Indonesia",
          "Indonesia",
          "Indonesia",
          "Indonesia",
          "Indonesia",
          "Indonesia",
          "Indonesia",
          "Indonesia",
          "Indonesia",
          "Indonesia",
          "Indonesia",
          "Indonesia",
          "Indonesia",
          "Indonesia",
          "Indonesia",
          "Indonesia",
          "Indonesia",
          "Mexico",
          "Mexico",
          "Mexico",
          "Mexico",
          "Mexico",
          "Mexico",
          "Mexico",
          "Mexico",
          "Mexico",
          "Mexico",
          "Mexico",
          "Mexico",
          "Mexico",
          "Mexico",
          "Mexico",
          "Mexico",
          "USA",
          "USA",
          "USA",
          "USA",
          "USA",
          "USA",
          "USA",
          "USA",
          "USA",
          "USA",
          "USA",
          "USA",
          "USA",
          "USA",
          "USA",
          "USA",
          "USA",
          "USA",
          "USA",
          "USA",
          "USA",
          "USA",
          "USA",
          "USA",
          "USA",
          "USA",
          "USA",
          "USA",
          "USA",
          "USA",
          "USA",
          "USA",
          "USA",
          "USA",
          "USA",
          "USA",
          "USA",
          "USA",
          "USA",
          "USA",
          "USA",
          "USA",
          "USA",
          "USA",
          "USA",
          "USA",
          "USA",
          "USA",
          "USA",
          "USA",
          "USA",
          "USA",
          "USA",
          "USA",
          "USA",
          "USA",
          "USA",
          "USA",
          "USA",
          "USA",
          "USA",
          "USA",
          "Italy",
          "Italy",
          "Italy",
          "Belgium",
          "Japan",
          "Japan",
          "Japan",
          "Japan",
          "Japan",
          "Japan",
          "Japan",
          "Japan",
          "Japan",
          "Japan",
          "Japan",
          "Japan",
          "Japan",
          "Japan",
          "Japan",
          "Belize",
          "Belize",
          "Belize",
          "Belize",
          "Belize",
          "Belize",
          "Belize",
          "Italy",
          "Italy",
          "Italy",
          "Italy",
          "Italy",
          "Italy",
          "Italy",
          "Italy",
          "Italy",
          "Italy",
          "Italy",
          "Latvia",
          "Latvia",
          "Latvia",
          "Latvia",
          "West Bank",
          "West Bank",
          "West Bank",
          "West Bank",
          "USA",
          "USA",
          "Poland",
          "Poland",
          "Poland",
          "Poland",
          "Poland",
          "Poland",
          "Poland",
          "Poland",
          "Poland",
          "Poland",
          "Poland",
          "Poland",
          "Poland",
          "Poland",
          "Poland",
          "Poland",
          "Poland",
          "Poland",
          "Poland",
          "Poland",
          "Poland",
          "Poland",
          "Poland",
          "Poland",
          "Poland",
          "Poland",
          "Poland",
          "Poland",
          "Poland",
          "Poland",
          "Poland",
          "Poland",
          "Poland",
          "Poland",
          "Poland",
          "Poland",
          "Poland",
          "Poland",
          "Poland",
          "Poland",
          "Poland",
          "Poland",
          "Poland",
          "Poland",
          "Poland",
          "Poland",
          "Poland",
          "Poland",
          "Poland",
          "Poland",
          "Poland",
          "Poland",
          "Poland",
          "Poland",
          "Poland",
          "Poland",
          "Poland",
          "Poland",
          "Poland",
          "Poland",
          "Poland",
          "Poland",
          "Poland",
          "Poland",
          "Poland",
          "Poland",
          "Poland",
          "Poland",
          "Poland",
          "Poland",
          "Poland",
          "Poland",
          "Poland",
          "Poland",
          "Poland",
          "Poland",
          "Poland",
          "Poland",
          "Poland",
          "Poland",
          "Poland",
          "Poland",
          "Poland",
          "Poland",
          "Poland",
          "Poland",
          "Poland",
          "Poland",
          "Poland",
          "Poland",
          "Poland",
          "Poland",
          "Poland",
          "Poland",
          "Poland",
          "Poland",
          "Poland",
          "Poland",
          "Poland",
          "Poland",
          "Poland",
          "Poland",
          "Poland",
          "Poland",
          "Poland",
          "Poland",
          "Poland",
          "Poland",
          "Poland",
          "Poland",
          "Poland",
          "Poland",
          "Poland",
          "Poland",
          "Poland",
          "Poland",
          "Poland",
          "Poland",
          "Poland",
          "Poland",
          "Poland",
          "Poland",
          "Poland",
          "Poland",
          "Poland",
          "Poland",
          "Poland",
          "Poland",
          "Poland",
          "Poland",
          "Poland",
          "Poland",
          "Poland",
          "Poland",
          "Poland",
          "Poland",
          "Poland",
          "Poland",
          "Poland",
          "Poland",
          "Poland",
          "Poland",
          "Poland",
          "Poland",
          "Poland",
          "Poland",
          "Poland",
          "Poland",
          "Poland",
          "Poland",
          "Poland",
          "Poland",
          "Poland",
          "Poland",
          "Poland",
          "Poland",
          "Poland",
          "Poland",
          "Poland",
          "Poland",
          "Poland",
          "Poland",
          "Poland",
          "Poland",
          "Poland"
         ],
         "lat": [
          51.565,
          51.565,
          51.565,
          51.565,
          51.565,
          51.565,
          51.565,
          51.565,
          51.565,
          38.102,
          38.102,
          16.254,
          16.254,
          49.66,
          49.66,
          54.005,
          54.005,
          54.005,
          54.005,
          54.005,
          54.005,
          54.005,
          54.005,
          54.005,
          54.005,
          54.005,
          54.005,
          54.005,
          54.005,
          54.005,
          54.005,
          54.005,
          54.005,
          54.005,
          54.005,
          54.005,
          54.005,
          54.005,
          54.005,
          54.005,
          54.005,
          54.005,
          54.005,
          54.005,
          54.005,
          54.005,
          54.005,
          54.005,
          54.005,
          54.005,
          54.005,
          54.005,
          54.005,
          54.005,
          54.005,
          54.005,
          54.005,
          54.005,
          54.005,
          54.005,
          54.005,
          54.005,
          54.005,
          54.005,
          54.005,
          40.23,
          40.23,
          52.548,
          29.27,
          29.27,
          52.548,
          38.102,
          38.102,
          16.254,
          16.254,
          49.66,
          49.66,
          54.005,
          54.005,
          54.005,
          54.005,
          54.005,
          54.005,
          54.005,
          54.005,
          54.005,
          54.005,
          54.005,
          54.005,
          54.005,
          54.005,
          54.005,
          54.005,
          54.005,
          54.005,
          54.005,
          54.005,
          54.005,
          54.005,
          54.005,
          54.005,
          54.005,
          54.005,
          54.005,
          54.005,
          54.005,
          54.005,
          54.005,
          54.005,
          54.005,
          54.005,
          54.005,
          54.005,
          54.005,
          54.005,
          54.005,
          54.005,
          54.005,
          54.005,
          54.005,
          54.005,
          54.005,
          54.005,
          54.005,
          54.005,
          40.23,
          40.23,
          52.548,
          29.27,
          29.27,
          52.548,
          -4.69,
          -4.69,
          -4.69,
          -4.69,
          -4.69,
          -4.69,
          -4.69,
          -4.69,
          -4.69,
          -4.69,
          -4.69,
          -4.69,
          -4.69,
          -4.69,
          -4.69,
          -4.69,
          -4.69,
          -4.69,
          -4.69,
          48.006,
          48.006,
          48.006,
          48.006,
          48.006,
          48.006,
          48.006,
          48.006,
          48.006,
          40.23,
          40.23,
          40.23,
          40.23,
          18.41,
          68.633,
          68.633,
          68.633,
          68.633,
          68.633,
          68.633,
          68.633,
          68.633,
          68.633,
          68.633,
          68.633,
          68.633,
          68.633,
          68.633,
          68.633,
          68.633,
          -13.47,
          -13.47,
          -13.47,
          -13.47,
          -13.47,
          -13.47,
          -13.47,
          -13.47,
          -13.47,
          -13.47,
          -13.47,
          -13.47,
          -13.47,
          -13.47,
          -13.47,
          -13.47,
          -13.47,
          -13.47,
          -13.47,
          -13.47,
          -13.47,
          -13.47,
          -13.47,
          -13.47,
          -13.47,
          -13.47,
          -13.47,
          -13.47,
          -13.47,
          -13.47,
          -13.47,
          -13.47,
          -13.47,
          -13.47,
          -13.47,
          -13.47,
          -13.47,
          -13.47,
          -13.47,
          -13.47,
          -13.47,
          -13.47,
          -13.47,
          -13.47,
          -13.47,
          -13.47,
          -13.47,
          -13.47,
          -13.47,
          -13.47,
          -13.47,
          -13.47,
          -13.47,
          -13.47,
          -13.47,
          -13.47,
          -13.47,
          -13.47,
          -13.47,
          -13.47,
          -13.47,
          -13.47,
          -13.47,
          -13.47,
          1,
          1,
          1,
          1,
          1,
          1,
          1,
          1,
          1,
          1,
          1,
          1,
          1,
          1,
          1,
          1,
          1,
          1,
          1,
          1,
          1,
          1,
          1,
          1,
          1,
          1,
          1,
          1,
          1,
          1,
          1,
          1,
          1,
          1,
          1,
          1,
          1,
          1,
          1,
          1,
          1,
          1,
          1,
          1,
          1,
          1,
          1,
          1,
          1,
          1,
          1,
          1,
          1,
          1,
          1,
          1,
          1,
          1,
          1,
          1,
          1,
          1,
          1,
          1,
          -2.06,
          -2.06,
          -2.06,
          -2.06,
          -2.06,
          -2.06,
          -2.06,
          -2.06,
          -2.06,
          -2.06,
          -2.06,
          -2.06,
          -2.06,
          -2.06,
          -2.06,
          -2.06,
          -2.06,
          -2.06,
          -2.06,
          -2.06,
          -2.06,
          -2.06,
          -2.06,
          -2.06,
          -2.06,
          -2.06,
          -2.06,
          -2.06,
          -2.06,
          -2.06,
          -2.06,
          -2.06,
          -2.06,
          -2.06,
          -2.06,
          -2.06,
          -2.06,
          -2.06,
          -2.06,
          -2.06,
          -2.06,
          -2.06,
          -2.06,
          -2.06,
          -2.06,
          -2.06,
          -2.06,
          -2.06,
          -2.06,
          -2.06,
          -2.06,
          -2.06,
          -2.06,
          -2.06,
          -2.06,
          -2.06,
          -2.06,
          -2.06,
          -2.06,
          -2.06,
          -2.06,
          -2.06,
          -2.06,
          -2.06,
          17.49,
          17.49,
          17.49,
          17.49,
          17.49,
          17.49,
          17.49,
          17.49,
          17.49,
          17.49,
          17.49,
          17.49,
          17.49,
          17.49,
          17.49,
          17.49,
          40.1,
          40.1,
          39.9,
          39.9,
          39.9,
          39.9,
          39.9,
          39.9,
          39.9,
          40,
          40,
          41.6,
          41.6,
          41.6,
          42,
          42,
          42,
          41.5,
          41.5,
          42,
          42,
          42,
          42,
          42,
          41,
          39.688,
          41.721,
          39.956,
          41.102,
          39.956,
          41.137,
          39.5,
          40,
          41.867,
          40,
          40,
          40,
          39.856,
          41.224,
          41.666,
          41.509,
          41.48,
          41.482,
          39.856,
          40.643,
          41.15,
          35.99,
          32,
          38.906,
          43.192,
          40.924,
          41.122,
          39.97,
          38.906,
          35,
          38.906,
          38.715,
          40.643,
          37.3,
          37.3,
          37.3,
          37.3,
          41.892,
          41.892,
          41.892,
          50.46,
          35.71,
          35.71,
          35.71,
          35.71,
          38.83,
          39.12,
          39.12,
          34.64,
          35.71,
          35.71,
          35.71,
          35.71,
          35.71,
          35.713,
          39.12,
          17.53,
          17.53,
          17.53,
          17.53,
          17.53,
          17.53,
          17.53,
          39.58,
          39.58,
          39.58,
          39.448,
          39.448,
          39.448,
          39.448,
          40.544,
          40.544,
          40.544,
          40.544,
          56.94,
          56.94,
          56.94,
          56.94,
          31.77,
          31.77,
          31.77,
          31.77,
          40.781,
          38.891,
          52.538,
          52.538,
          52.699,
          52.699,
          52.699,
          52.699,
          52.699,
          52.699,
          52.699,
          52.699,
          52.699,
          52.699,
          52.699,
          52.699,
          52.699,
          52.699,
          52.699,
          52.699,
          52.699,
          52.699,
          52.699,
          52.699,
          52.699,
          52.699,
          52.699,
          52.699,
          52.699,
          52.699,
          52.699,
          52.699,
          52.699,
          52.699,
          52.699,
          52.699,
          52.699,
          52.699,
          52.699,
          52.699,
          52.699,
          52.699,
          52.699,
          52.699,
          52.699,
          52.699,
          52.699,
          52.699,
          52.699,
          52.699,
          52.699,
          52.699,
          52.699,
          52.699,
          52.699,
          52.699,
          52.699,
          52.699,
          52.699,
          52.699,
          52.699,
          52.699,
          52.699,
          52.699,
          52.699,
          54.226,
          54.226,
          54.226,
          54.226,
          54.226,
          54.226,
          54.226,
          54.226,
          54.226,
          52.313,
          52.313,
          52.313,
          52.313,
          52.313,
          52.313,
          52.313,
          52.313,
          50.722,
          50.722,
          50.722,
          50.722,
          50.722,
          50.722,
          50.722,
          50.722,
          50.722,
          50.722,
          50.722,
          50.722,
          50.722,
          50.722,
          50.722,
          50.722,
          50.722,
          50.722,
          50.722,
          50.722,
          50.722,
          50.722,
          50.722,
          50.722,
          50.722,
          50.722,
          50.722,
          50.719,
          50.719,
          50.719,
          50.719,
          50.719,
          50.719,
          50.719,
          50.719,
          50.719,
          50.719,
          50.719,
          50.719,
          50.719,
          50.719,
          50.719,
          50.719,
          50.719,
          50.719,
          50.719,
          50.719,
          50.719,
          50.719,
          50.719,
          50.719,
          50.719,
          50.719,
          50.719,
          50.719,
          50.719,
          50.719,
          50.719,
          50.719,
          50.719,
          50.719,
          50.719,
          50.719,
          50.719,
          52.211,
          52.211,
          52.211,
          52.211,
          52.211,
          52.211,
          52.211,
          52.211,
          52.211,
          52.211,
          52.211,
          52.211,
          52.211,
          52.211,
          52.211,
          52.211,
          52.211,
          52.211,
          52.211,
          52.211,
          52.211
         ],
         "legendgroup": "",
         "lon": [
          8.84,
          8.84,
          8.84,
          8.84,
          8.84,
          8.84,
          8.84,
          8.84,
          8.84,
          -1.865,
          -1.865,
          -61.203,
          -61.203,
          99.61,
          99.61,
          -8.201,
          -8.201,
          -8.201,
          -8.201,
          -8.201,
          -8.201,
          -8.201,
          -8.201,
          -8.201,
          -8.201,
          -8.201,
          -8.201,
          -8.201,
          -8.201,
          -8.201,
          -8.201,
          -8.201,
          -8.201,
          -8.201,
          -8.201,
          -8.201,
          -8.201,
          -8.201,
          -8.201,
          -8.201,
          -8.201,
          -8.201,
          -8.201,
          -8.201,
          -8.201,
          -8.201,
          -8.201,
          -8.201,
          -8.201,
          -8.201,
          -8.201,
          -8.201,
          -8.201,
          -8.201,
          -8.201,
          -8.201,
          -8.201,
          -8.201,
          -8.201,
          -8.201,
          -8.201,
          -8.201,
          -8.201,
          -8.201,
          -8.201,
          -90.143,
          -90.143,
          4.912,
          84.03,
          84.03,
          4.912,
          -1.865,
          -1.865,
          -61.203,
          -61.203,
          99.61,
          99.61,
          -8.201,
          -8.201,
          -8.201,
          -8.201,
          -8.201,
          -8.201,
          -8.201,
          -8.201,
          -8.201,
          -8.201,
          -8.201,
          -8.201,
          -8.201,
          -8.201,
          -8.201,
          -8.201,
          -8.201,
          -8.201,
          -8.201,
          -8.201,
          -8.201,
          -8.201,
          -8.201,
          -8.201,
          -8.201,
          -8.201,
          -8.201,
          -8.201,
          -8.201,
          -8.201,
          -8.201,
          -8.201,
          -8.201,
          -8.201,
          -8.201,
          -8.201,
          -8.201,
          -8.201,
          -8.201,
          -8.201,
          -8.201,
          -8.201,
          -8.201,
          -8.201,
          -8.201,
          -8.201,
          -8.201,
          -8.201,
          -90.143,
          -90.143,
          4.912,
          84.03,
          84.03,
          4.912,
          29.62,
          29.62,
          29.62,
          29.62,
          29.62,
          29.62,
          29.62,
          29.62,
          29.62,
          29.62,
          29.62,
          29.62,
          29.62,
          29.62,
          29.62,
          29.62,
          29.62,
          29.62,
          29.62,
          0.199,
          0.199,
          0.199,
          0.199,
          0.199,
          0.199,
          0.199,
          0.199,
          0.199,
          -90.143,
          -90.143,
          -90.143,
          -90.143,
          -66.33,
          71.666,
          71.666,
          71.666,
          71.666,
          71.666,
          71.666,
          71.666,
          71.666,
          71.666,
          71.666,
          71.666,
          71.666,
          71.666,
          71.666,
          71.666,
          71.666,
          -73.56,
          -73.56,
          -73.56,
          -73.56,
          -73.56,
          -73.56,
          -73.56,
          -73.56,
          -73.56,
          -73.56,
          -73.56,
          -73.56,
          -73.56,
          -73.56,
          -73.56,
          -73.56,
          -73.56,
          -73.56,
          -73.56,
          -73.56,
          -73.56,
          -73.56,
          -73.56,
          -73.56,
          -73.56,
          -73.56,
          -73.56,
          -73.56,
          -73.56,
          -73.56,
          -73.56,
          -73.56,
          -73.56,
          -73.56,
          -73.56,
          -73.56,
          -73.56,
          -73.56,
          -73.56,
          -73.56,
          -73.56,
          -73.56,
          -73.56,
          -73.56,
          -73.56,
          -73.56,
          -73.56,
          -73.56,
          -73.56,
          -73.56,
          -73.56,
          -73.56,
          -73.56,
          -73.56,
          -73.56,
          -73.56,
          -73.56,
          -73.56,
          -73.56,
          -73.56,
          -73.56,
          -73.56,
          -73.56,
          -73.56,
          37,
          37,
          37,
          37,
          37,
          37,
          37,
          37,
          37,
          37,
          37,
          37,
          37,
          37,
          37,
          37,
          37,
          37,
          37,
          37,
          37,
          37,
          37,
          37,
          37,
          37,
          37,
          37,
          37,
          37,
          37,
          37,
          37,
          37,
          37,
          37,
          37,
          37,
          37,
          37,
          37,
          37,
          37,
          37,
          37,
          37,
          37,
          37,
          37,
          37,
          37,
          37,
          37,
          37,
          37,
          37,
          37,
          37,
          37,
          37,
          37,
          37,
          37,
          37,
          120.37,
          120.37,
          120.37,
          120.37,
          120.37,
          120.37,
          120.37,
          120.37,
          120.37,
          120.37,
          120.37,
          120.37,
          120.37,
          120.37,
          120.37,
          120.37,
          120.37,
          120.37,
          120.37,
          120.37,
          120.37,
          120.37,
          120.37,
          120.37,
          120.37,
          120.37,
          120.37,
          120.37,
          120.37,
          120.37,
          120.37,
          120.37,
          120.37,
          120.37,
          120.37,
          120.37,
          120.37,
          120.37,
          120.37,
          120.37,
          120.37,
          120.37,
          120.37,
          120.37,
          120.37,
          120.37,
          120.37,
          120.37,
          120.37,
          120.37,
          120.37,
          120.37,
          120.37,
          120.37,
          120.37,
          120.37,
          120.37,
          120.37,
          120.37,
          120.37,
          120.37,
          120.37,
          120.37,
          120.37,
          -97.46,
          -97.46,
          -97.46,
          -97.46,
          -97.46,
          -97.46,
          -97.46,
          -97.46,
          -97.46,
          -97.46,
          -97.46,
          -97.46,
          -97.46,
          -97.46,
          -97.46,
          -97.46,
          -75.4,
          -75.4,
          -75.3,
          -75.3,
          -75.2,
          -75.2,
          -75.2,
          -75.2,
          -75.2,
          -75.1,
          -75.1,
          -91.5,
          -91.5,
          -91.5,
          -93.6,
          -93.6,
          -93.6,
          -93.6,
          -93.6,
          -93.6,
          -93.6,
          -93.6,
          -93.6,
          -93.6,
          -72,
          -82.993,
          -81.243,
          -81.953,
          -81.56,
          -81.953,
          -81.863,
          -82.472,
          -82,
          -80.789,
          -82,
          -82,
          -82,
          -74.686,
          -73.06,
          -73.508,
          -72.543,
          -86.82,
          -86.822,
          -74.686,
          -111.951,
          -73.766,
          -83.94,
          -83,
          -77.036,
          -77.01,
          -74.075,
          -74.356,
          -83.01,
          -77.037,
          -79,
          -77.037,
          -75.631,
          -111.967,
          -121.8,
          -121.8,
          -121.8,
          -121.8,
          12.478,
          12.478,
          12.478,
          4.86,
          139.78,
          139.78,
          139.78,
          139.78,
          141.18,
          141.81,
          141.81,
          137.14,
          139.78,
          139.78,
          139.78,
          139.78,
          139.78,
          139.767,
          141.81,
          -89.11,
          -89.11,
          -89.11,
          -89.11,
          -89.11,
          -89.11,
          -89.11,
          8.85,
          8.85,
          8.85,
          8.391,
          8.391,
          8.391,
          8.391,
          8.321,
          8.321,
          8.321,
          8.321,
          24.11,
          24.11,
          24.11,
          24.11,
          35.22,
          35.22,
          35.22,
          35.22,
          -73.974,
          -77.026,
          17.597,
          17.597,
          17.605,
          17.605,
          17.605,
          17.605,
          17.605,
          17.605,
          17.605,
          17.605,
          17.605,
          17.605,
          17.605,
          17.605,
          17.605,
          17.605,
          17.605,
          17.605,
          17.605,
          17.605,
          17.605,
          17.605,
          17.605,
          17.605,
          17.605,
          17.605,
          17.605,
          17.605,
          17.605,
          17.605,
          17.605,
          17.605,
          17.605,
          17.605,
          17.605,
          17.605,
          17.605,
          17.605,
          17.605,
          17.605,
          17.605,
          17.605,
          17.605,
          17.605,
          17.605,
          17.605,
          17.605,
          17.605,
          17.605,
          17.605,
          17.605,
          17.605,
          17.605,
          17.605,
          17.605,
          17.605,
          17.605,
          17.605,
          17.605,
          17.605,
          17.605,
          17.605,
          17.605,
          18.642,
          18.642,
          18.642,
          18.642,
          18.642,
          18.642,
          18.642,
          18.642,
          18.642,
          17.215,
          17.215,
          17.215,
          17.215,
          17.215,
          17.215,
          17.215,
          17.215,
          23.892,
          23.892,
          23.892,
          23.892,
          23.892,
          23.892,
          23.892,
          23.892,
          23.892,
          23.892,
          23.892,
          23.892,
          23.892,
          23.892,
          23.892,
          23.892,
          23.892,
          23.892,
          23.892,
          23.892,
          23.892,
          23.892,
          23.892,
          23.892,
          23.892,
          23.892,
          23.892,
          16.835,
          16.835,
          16.835,
          16.835,
          16.835,
          16.835,
          16.835,
          16.835,
          16.835,
          16.835,
          16.835,
          16.835,
          16.835,
          16.835,
          16.835,
          16.835,
          16.835,
          16.835,
          16.835,
          16.835,
          16.835,
          16.835,
          16.835,
          16.835,
          16.835,
          16.835,
          16.835,
          16.835,
          16.835,
          16.835,
          16.835,
          16.835,
          16.835,
          16.835,
          16.835,
          16.835,
          16.835,
          16.893,
          16.893,
          16.893,
          16.893,
          16.893,
          16.893,
          16.893,
          16.893,
          16.893,
          16.893,
          16.893,
          16.893,
          16.893,
          16.893,
          16.893,
          16.893,
          16.893,
          16.893,
          16.893,
          16.893,
          16.893
         ],
         "marker": {
          "color": "red"
         },
         "mode": "markers",
         "name": "",
         "showlegend": false,
         "subplot": "mapbox",
         "type": "scattermapbox"
        }
       ],
       "layout": {
        "height": 300,
        "legend": {
         "tracegroupgap": 0
        },
        "mapbox": {
         "center": {
          "lat": 30.833081570997077,
          "lon": 5.9850030211480325
         },
         "domain": {
          "x": [
           0,
           1
          ],
          "y": [
           0,
           1
          ]
         },
         "style": "open-street-map",
         "zoom": 2
        },
        "margin": {
         "b": 0,
         "l": 0,
         "r": 0,
         "t": 0
        },
        "template": {
         "data": {
          "bar": [
           {
            "error_x": {
             "color": "#2a3f5f"
            },
            "error_y": {
             "color": "#2a3f5f"
            },
            "marker": {
             "line": {
              "color": "#E5ECF6",
              "width": 0.5
             }
            },
            "type": "bar"
           }
          ],
          "barpolar": [
           {
            "marker": {
             "line": {
              "color": "#E5ECF6",
              "width": 0.5
             }
            },
            "type": "barpolar"
           }
          ],
          "carpet": [
           {
            "aaxis": {
             "endlinecolor": "#2a3f5f",
             "gridcolor": "white",
             "linecolor": "white",
             "minorgridcolor": "white",
             "startlinecolor": "#2a3f5f"
            },
            "baxis": {
             "endlinecolor": "#2a3f5f",
             "gridcolor": "white",
             "linecolor": "white",
             "minorgridcolor": "white",
             "startlinecolor": "#2a3f5f"
            },
            "type": "carpet"
           }
          ],
          "choropleth": [
           {
            "colorbar": {
             "outlinewidth": 0,
             "ticks": ""
            },
            "type": "choropleth"
           }
          ],
          "contour": [
           {
            "colorbar": {
             "outlinewidth": 0,
             "ticks": ""
            },
            "colorscale": [
             [
              0,
              "#0d0887"
             ],
             [
              0.1111111111111111,
              "#46039f"
             ],
             [
              0.2222222222222222,
              "#7201a8"
             ],
             [
              0.3333333333333333,
              "#9c179e"
             ],
             [
              0.4444444444444444,
              "#bd3786"
             ],
             [
              0.5555555555555556,
              "#d8576b"
             ],
             [
              0.6666666666666666,
              "#ed7953"
             ],
             [
              0.7777777777777778,
              "#fb9f3a"
             ],
             [
              0.8888888888888888,
              "#fdca26"
             ],
             [
              1,
              "#f0f921"
             ]
            ],
            "type": "contour"
           }
          ],
          "contourcarpet": [
           {
            "colorbar": {
             "outlinewidth": 0,
             "ticks": ""
            },
            "type": "contourcarpet"
           }
          ],
          "heatmap": [
           {
            "colorbar": {
             "outlinewidth": 0,
             "ticks": ""
            },
            "colorscale": [
             [
              0,
              "#0d0887"
             ],
             [
              0.1111111111111111,
              "#46039f"
             ],
             [
              0.2222222222222222,
              "#7201a8"
             ],
             [
              0.3333333333333333,
              "#9c179e"
             ],
             [
              0.4444444444444444,
              "#bd3786"
             ],
             [
              0.5555555555555556,
              "#d8576b"
             ],
             [
              0.6666666666666666,
              "#ed7953"
             ],
             [
              0.7777777777777778,
              "#fb9f3a"
             ],
             [
              0.8888888888888888,
              "#fdca26"
             ],
             [
              1,
              "#f0f921"
             ]
            ],
            "type": "heatmap"
           }
          ],
          "heatmapgl": [
           {
            "colorbar": {
             "outlinewidth": 0,
             "ticks": ""
            },
            "colorscale": [
             [
              0,
              "#0d0887"
             ],
             [
              0.1111111111111111,
              "#46039f"
             ],
             [
              0.2222222222222222,
              "#7201a8"
             ],
             [
              0.3333333333333333,
              "#9c179e"
             ],
             [
              0.4444444444444444,
              "#bd3786"
             ],
             [
              0.5555555555555556,
              "#d8576b"
             ],
             [
              0.6666666666666666,
              "#ed7953"
             ],
             [
              0.7777777777777778,
              "#fb9f3a"
             ],
             [
              0.8888888888888888,
              "#fdca26"
             ],
             [
              1,
              "#f0f921"
             ]
            ],
            "type": "heatmapgl"
           }
          ],
          "histogram": [
           {
            "marker": {
             "colorbar": {
              "outlinewidth": 0,
              "ticks": ""
             }
            },
            "type": "histogram"
           }
          ],
          "histogram2d": [
           {
            "colorbar": {
             "outlinewidth": 0,
             "ticks": ""
            },
            "colorscale": [
             [
              0,
              "#0d0887"
             ],
             [
              0.1111111111111111,
              "#46039f"
             ],
             [
              0.2222222222222222,
              "#7201a8"
             ],
             [
              0.3333333333333333,
              "#9c179e"
             ],
             [
              0.4444444444444444,
              "#bd3786"
             ],
             [
              0.5555555555555556,
              "#d8576b"
             ],
             [
              0.6666666666666666,
              "#ed7953"
             ],
             [
              0.7777777777777778,
              "#fb9f3a"
             ],
             [
              0.8888888888888888,
              "#fdca26"
             ],
             [
              1,
              "#f0f921"
             ]
            ],
            "type": "histogram2d"
           }
          ],
          "histogram2dcontour": [
           {
            "colorbar": {
             "outlinewidth": 0,
             "ticks": ""
            },
            "colorscale": [
             [
              0,
              "#0d0887"
             ],
             [
              0.1111111111111111,
              "#46039f"
             ],
             [
              0.2222222222222222,
              "#7201a8"
             ],
             [
              0.3333333333333333,
              "#9c179e"
             ],
             [
              0.4444444444444444,
              "#bd3786"
             ],
             [
              0.5555555555555556,
              "#d8576b"
             ],
             [
              0.6666666666666666,
              "#ed7953"
             ],
             [
              0.7777777777777778,
              "#fb9f3a"
             ],
             [
              0.8888888888888888,
              "#fdca26"
             ],
             [
              1,
              "#f0f921"
             ]
            ],
            "type": "histogram2dcontour"
           }
          ],
          "mesh3d": [
           {
            "colorbar": {
             "outlinewidth": 0,
             "ticks": ""
            },
            "type": "mesh3d"
           }
          ],
          "parcoords": [
           {
            "line": {
             "colorbar": {
              "outlinewidth": 0,
              "ticks": ""
             }
            },
            "type": "parcoords"
           }
          ],
          "pie": [
           {
            "automargin": true,
            "type": "pie"
           }
          ],
          "scatter": [
           {
            "marker": {
             "colorbar": {
              "outlinewidth": 0,
              "ticks": ""
             }
            },
            "type": "scatter"
           }
          ],
          "scatter3d": [
           {
            "line": {
             "colorbar": {
              "outlinewidth": 0,
              "ticks": ""
             }
            },
            "marker": {
             "colorbar": {
              "outlinewidth": 0,
              "ticks": ""
             }
            },
            "type": "scatter3d"
           }
          ],
          "scattercarpet": [
           {
            "marker": {
             "colorbar": {
              "outlinewidth": 0,
              "ticks": ""
             }
            },
            "type": "scattercarpet"
           }
          ],
          "scattergeo": [
           {
            "marker": {
             "colorbar": {
              "outlinewidth": 0,
              "ticks": ""
             }
            },
            "type": "scattergeo"
           }
          ],
          "scattergl": [
           {
            "marker": {
             "colorbar": {
              "outlinewidth": 0,
              "ticks": ""
             }
            },
            "type": "scattergl"
           }
          ],
          "scattermapbox": [
           {
            "marker": {
             "colorbar": {
              "outlinewidth": 0,
              "ticks": ""
             }
            },
            "type": "scattermapbox"
           }
          ],
          "scatterpolar": [
           {
            "marker": {
             "colorbar": {
              "outlinewidth": 0,
              "ticks": ""
             }
            },
            "type": "scatterpolar"
           }
          ],
          "scatterpolargl": [
           {
            "marker": {
             "colorbar": {
              "outlinewidth": 0,
              "ticks": ""
             }
            },
            "type": "scatterpolargl"
           }
          ],
          "scatterternary": [
           {
            "marker": {
             "colorbar": {
              "outlinewidth": 0,
              "ticks": ""
             }
            },
            "type": "scatterternary"
           }
          ],
          "surface": [
           {
            "colorbar": {
             "outlinewidth": 0,
             "ticks": ""
            },
            "colorscale": [
             [
              0,
              "#0d0887"
             ],
             [
              0.1111111111111111,
              "#46039f"
             ],
             [
              0.2222222222222222,
              "#7201a8"
             ],
             [
              0.3333333333333333,
              "#9c179e"
             ],
             [
              0.4444444444444444,
              "#bd3786"
             ],
             [
              0.5555555555555556,
              "#d8576b"
             ],
             [
              0.6666666666666666,
              "#ed7953"
             ],
             [
              0.7777777777777778,
              "#fb9f3a"
             ],
             [
              0.8888888888888888,
              "#fdca26"
             ],
             [
              1,
              "#f0f921"
             ]
            ],
            "type": "surface"
           }
          ],
          "table": [
           {
            "cells": {
             "fill": {
              "color": "#EBF0F8"
             },
             "line": {
              "color": "white"
             }
            },
            "header": {
             "fill": {
              "color": "#C8D4E3"
             },
             "line": {
              "color": "white"
             }
            },
            "type": "table"
           }
          ]
         },
         "layout": {
          "annotationdefaults": {
           "arrowcolor": "#2a3f5f",
           "arrowhead": 0,
           "arrowwidth": 1
          },
          "autotypenumbers": "strict",
          "coloraxis": {
           "colorbar": {
            "outlinewidth": 0,
            "ticks": ""
           }
          },
          "colorscale": {
           "diverging": [
            [
             0,
             "#8e0152"
            ],
            [
             0.1,
             "#c51b7d"
            ],
            [
             0.2,
             "#de77ae"
            ],
            [
             0.3,
             "#f1b6da"
            ],
            [
             0.4,
             "#fde0ef"
            ],
            [
             0.5,
             "#f7f7f7"
            ],
            [
             0.6,
             "#e6f5d0"
            ],
            [
             0.7,
             "#b8e186"
            ],
            [
             0.8,
             "#7fbc41"
            ],
            [
             0.9,
             "#4d9221"
            ],
            [
             1,
             "#276419"
            ]
           ],
           "sequential": [
            [
             0,
             "#0d0887"
            ],
            [
             0.1111111111111111,
             "#46039f"
            ],
            [
             0.2222222222222222,
             "#7201a8"
            ],
            [
             0.3333333333333333,
             "#9c179e"
            ],
            [
             0.4444444444444444,
             "#bd3786"
            ],
            [
             0.5555555555555556,
             "#d8576b"
            ],
            [
             0.6666666666666666,
             "#ed7953"
            ],
            [
             0.7777777777777778,
             "#fb9f3a"
            ],
            [
             0.8888888888888888,
             "#fdca26"
            ],
            [
             1,
             "#f0f921"
            ]
           ],
           "sequentialminus": [
            [
             0,
             "#0d0887"
            ],
            [
             0.1111111111111111,
             "#46039f"
            ],
            [
             0.2222222222222222,
             "#7201a8"
            ],
            [
             0.3333333333333333,
             "#9c179e"
            ],
            [
             0.4444444444444444,
             "#bd3786"
            ],
            [
             0.5555555555555556,
             "#d8576b"
            ],
            [
             0.6666666666666666,
             "#ed7953"
            ],
            [
             0.7777777777777778,
             "#fb9f3a"
            ],
            [
             0.8888888888888888,
             "#fdca26"
            ],
            [
             1,
             "#f0f921"
            ]
           ]
          },
          "colorway": [
           "#636efa",
           "#EF553B",
           "#00cc96",
           "#ab63fa",
           "#FFA15A",
           "#19d3f3",
           "#FF6692",
           "#B6E880",
           "#FF97FF",
           "#FECB52"
          ],
          "font": {
           "color": "#2a3f5f"
          },
          "geo": {
           "bgcolor": "white",
           "lakecolor": "white",
           "landcolor": "#E5ECF6",
           "showlakes": true,
           "showland": true,
           "subunitcolor": "white"
          },
          "hoverlabel": {
           "align": "left"
          },
          "hovermode": "closest",
          "mapbox": {
           "style": "light"
          },
          "paper_bgcolor": "white",
          "plot_bgcolor": "#E5ECF6",
          "polar": {
           "angularaxis": {
            "gridcolor": "white",
            "linecolor": "white",
            "ticks": ""
           },
           "bgcolor": "#E5ECF6",
           "radialaxis": {
            "gridcolor": "white",
            "linecolor": "white",
            "ticks": ""
           }
          },
          "scene": {
           "xaxis": {
            "backgroundcolor": "#E5ECF6",
            "gridcolor": "white",
            "gridwidth": 2,
            "linecolor": "white",
            "showbackground": true,
            "ticks": "",
            "zerolinecolor": "white"
           },
           "yaxis": {
            "backgroundcolor": "#E5ECF6",
            "gridcolor": "white",
            "gridwidth": 2,
            "linecolor": "white",
            "showbackground": true,
            "ticks": "",
            "zerolinecolor": "white"
           },
           "zaxis": {
            "backgroundcolor": "#E5ECF6",
            "gridcolor": "white",
            "gridwidth": 2,
            "linecolor": "white",
            "showbackground": true,
            "ticks": "",
            "zerolinecolor": "white"
           }
          },
          "shapedefaults": {
           "line": {
            "color": "#2a3f5f"
           }
          },
          "ternary": {
           "aaxis": {
            "gridcolor": "white",
            "linecolor": "white",
            "ticks": ""
           },
           "baxis": {
            "gridcolor": "white",
            "linecolor": "white",
            "ticks": ""
           },
           "bgcolor": "#E5ECF6",
           "caxis": {
            "gridcolor": "white",
            "linecolor": "white",
            "ticks": ""
           }
          },
          "title": {
           "x": 0.05
          },
          "xaxis": {
           "automargin": true,
           "gridcolor": "white",
           "linecolor": "white",
           "ticks": "",
           "title": {
            "standoff": 15
           },
           "zerolinecolor": "white",
           "zerolinewidth": 2
          },
          "yaxis": {
           "automargin": true,
           "gridcolor": "white",
           "linecolor": "white",
           "ticks": "",
           "title": {
            "standoff": 15
           },
           "zerolinecolor": "white",
           "zerolinewidth": 2
          }
         }
        }
       }
      },
      "text/html": [
       "<div>                            <div id=\"db580632-691c-4a9f-acb6-36b382706bc2\" class=\"plotly-graph-div\" style=\"height:300px; width:100%;\"></div>            <script type=\"text/javascript\">                require([\"plotly\"], function(Plotly) {                    window.PLOTLYENV=window.PLOTLYENV || {};                                    if (document.getElementById(\"db580632-691c-4a9f-acb6-36b382706bc2\")) {                    Plotly.newPlot(                        \"db580632-691c-4a9f-acb6-36b382706bc2\",                        [{\"customdata\": [[\"Dalheim\"], [\"Dalheim\"], [\"Dalheim\"], [\"Dalheim\"], [\"Dalheim\"], [\"Dalheim\"], [\"Dalheim\"], [\"Dalheim\"], [\"Dalheim\"], [\"Camino del Molino\"], [\"Camino del Molino\"], [\"Anse a la Gourde\"], [\"Anse a la Gourde\"], [\"Kh\\u00c3\\u00b6vsg\\u00c3\\u00b6l\"], [\"Kh\\u00c3\\u00b6vsg\\u00c3\\u00b6l\"], [\"Kilteasheen\"], [\"Kilteasheen\"], [\"Kilteasheen\"], [\"Kilteasheen\"], [\"Kilteasheen\"], [\"Kilteasheen\"], [\"Kilteasheen\"], [\"Kilteasheen\"], [\"Kilteasheen\"], [\"Kilteasheen\"], [\"Kilteasheen\"], [\"Kilteasheen\"], [\"Kilteasheen\"], [\"Kilteasheen\"], [\"Kilteasheen\"], [\"Kilteasheen\"], [\"Kilteasheen\"], [\"Kilteasheen\"], [\"Kilteasheen\"], [\"Kilteasheen\"], [\"Kilteasheen\"], [\"Kilteasheen\"], [\"Kilteasheen\"], [\"Kilteasheen\"], [\"Kilteasheen\"], [\"Kilteasheen\"], [\"Kilteasheen\"], [\"Kilteasheen\"], [\"Kilteasheen\"], [\"Kilteasheen\"], [\"Kilteasheen\"], [\"Kilteasheen\"], [\"Kilteasheen\"], [\"Kilteasheen\"], [\"Kilteasheen\"], [\"Kilteasheen\"], [\"Kilteasheen\"], [\"Kilteasheen\"], [\"Kilteasheen\"], [\"Kilteasheen\"], [\"Kilteasheen\"], [\"Kilteasheen\"], [\"Kilteasheen\"], [\"Kilteasheen\"], [\"Kilteasheen\"], [\"Kilteasheen\"], [\"Kilteasheen\"], [\"Kilteasheen\"], [\"Kilteasheen\"], [\"Kilteasheen\"], [\"Norris Farms\"], [\"Norris Farms\"], [\"Middenbeemster\"], [\"Samdzong\"], [\"Samdzong\"], [\"Middenbeemster\"], [\"Camino del Molino\"], [\"Camino del Molino\"], [\"Anse a la Gourde\"], [\"Anse a la Gourde\"], [\"Kh\\u00c3\\u00b6vsg\\u00c3\\u00b6l\"], [\"Kh\\u00c3\\u00b6vsg\\u00c3\\u00b6l\"], [\"Kilteasheen\"], [\"Kilteasheen\"], [\"Kilteasheen\"], [\"Kilteasheen\"], [\"Kilteasheen\"], [\"Kilteasheen\"], [\"Kilteasheen\"], [\"Kilteasheen\"], [\"Kilteasheen\"], [\"Kilteasheen\"], [\"Kilteasheen\"], [\"Kilteasheen\"], [\"Kilteasheen\"], [\"Kilteasheen\"], [\"Kilteasheen\"], [\"Kilteasheen\"], [\"Kilteasheen\"], [\"Kilteasheen\"], [\"Kilteasheen\"], [\"Kilteasheen\"], [\"Kilteasheen\"], [\"Kilteasheen\"], [\"Kilteasheen\"], [\"Kilteasheen\"], [\"Kilteasheen\"], [\"Kilteasheen\"], [\"Kilteasheen\"], [\"Kilteasheen\"], [\"Kilteasheen\"], [\"Kilteasheen\"], [\"Kilteasheen\"], [\"Kilteasheen\"], [\"Kilteasheen\"], [\"Kilteasheen\"], [\"Kilteasheen\"], [\"Kilteasheen\"], [\"Kilteasheen\"], [\"Kilteasheen\"], [\"Kilteasheen\"], [\"Kilteasheen\"], [\"Kilteasheen\"], [\"Kilteasheen\"], [\"Kilteasheen\"], [\"Kilteasheen\"], [\"Kilteasheen\"], [\"Kilteasheen\"], [\"Kilteasheen\"], [\"Kilteasheen\"], [\"Norris Farms\"], [\"Norris Farms\"], [\"Middenbeemster\"], [\"Samdzong\"], [\"Samdzong\"], [\"Middenbeemster\"], [\"Gombe National Park\"], [\"Gombe National Park\"], [\"Gombe National Park\"], [\"Gombe National Park\"], [\"Gombe National Park\"], [\"Gombe National Park\"], [\"Gombe National Park\"], [\"Gombe National Park\"], [\"Gombe National Park\"], [\"Gombe National Park\"], [\"Gombe National Park\"], [\"Gombe National Park\"], [\"Gombe National Park\"], [\"Gombe National Park\"], [\"Gombe National Park\"], [\"Gombe National Park\"], [\"Gombe National Park\"], [\"Gombe National Park\"], [\"Gombe National Park\"], [\"Le Mans\"], [\"Le Mans\"], [\"Le Mans\"], [\"Le Mans\"], [\"Le Mans\"], [\"Le Mans\"], [\"Le Mans\"], [\"Le Mans\"], [\"Le Mans\"], [\"Norris Farms\"], [\"Norris Farms\"], [\"Norris Farms\"], [\"Norris Farms\"], [\"Paso del Indio\"], [\"Yuribey River\"], [\"Yuribey River\"], [\"Yuribey River\"], [\"Yuribey River\"], [\"Yuribey River\"], [\"Yuribey River\"], [\"Yuribey River\"], [\"Yuribey River\"], [\"Yuribey River\"], [\"Yuribey River\"], [\"Yuribey River\"], [\"Yuribey River\"], [\"Yuribey River\"], [\"Yuribey River\"], [\"Yuribey River\"], [\"Yuribey River\"], [\"Peru: Cusco; Occobamba Valley, Tocopoqueu\"], [\"Peru: Cusco; Occobamba Valley, Tocopoqueu\"], [\"Peru: Cusco; Occobamba Valley, Tocopoqueu\"], [\"Peru: Cusco; Occobamba Valley, Tocopoqueu\"], [\"Peru: Cusco; Occobamba Valley, Tocopoqueu\"], [\"Peru: Cusco; Occobamba Valley, Tocopoqueu\"], [\"Peru: Cusco; Occobamba Valley, Tocopoqueu\"], [\"Peru: Cusco; Occobamba Valley, Tocopoqueu\"], [\"Peru: Cusco; Occobamba Valley, Tocopoqueu\"], [\"Peru: Cusco; Occobamba Valley, Tocopoqueu\"], [\"Peru: Cusco; Occobamba Valley, Tocopoqueu\"], [\"Peru: Cusco; Occobamba Valley, Tocopoqueu\"], [\"Peru: Cusco; Occobamba Valley, Tocopoqueu\"], [\"Peru: Cusco; Occobamba Valley, Tocopoqueu\"], [\"Peru: Cusco; Occobamba Valley, Tocopoqueu\"], [\"Peru: Cusco; Occobamba Valley, Tocopoqueu\"], [\"Peru: Cusco; Occobamba Valley, Tocopoqueu\"], [\"Peru: Cusco; Occobamba Valley, Tocopoqueu\"], [\"Peru: Cusco; Occobamba Valley, Tocopoqueu\"], [\"Peru: Cusco; Occobamba Valley, Tocopoqueu\"], [\"Peru: Cusco; Occobamba Valley, Tocopoqueu\"], [\"Peru: Cusco; Occobamba Valley, Tocopoqueu\"], [\"Peru: Cusco; Occobamba Valley, Tocopoqueu\"], [\"Peru: Cusco; Occobamba Valley, Tocopoqueu\"], [\"Peru: Cusco; Occobamba Valley, Tocopoqueu\"], [\"Peru: Cusco; Occobamba Valley, Tocopoqueu\"], [\"Peru: Cusco; Occobamba Valley, Tocopoqueu\"], [\"Peru: Cusco; Occobamba Valley, Tocopoqueu\"], [\"Peru: Cusco; Occobamba Valley, Tocopoqueu\"], [\"Peru: Cusco; Occobamba Valley, Tocopoqueu\"], [\"Peru: Cusco; Occobamba Valley, Tocopoqueu\"], [\"Peru: Cusco; Occobamba Valley, Tocopoqueu\"], [\"Peru: Cusco; Occobamba Valley, Tocopoqueu\"], [\"Peru: Cusco; Occobamba Valley, Tocopoqueu\"], [\"Peru: Cusco; Occobamba Valley, Tocopoqueu\"], [\"Peru: Cusco; Occobamba Valley, Tocopoqueu\"], [\"Peru: Cusco; Occobamba Valley, Tocopoqueu\"], [\"Peru: Cusco; Occobamba Valley, Tocopoqueu\"], [\"Peru: Cusco; Occobamba Valley, Tocopoqueu\"], [\"Peru: Cusco; Occobamba Valley, Tocopoqueu\"], [\"Peru: Cusco; Occobamba Valley, Tocopoqueu\"], [\"Peru: Cusco; Occobamba Valley, Tocopoqueu\"], [\"Peru: Cusco; Occobamba Valley, Tocopoqueu\"], [\"Peru: Cusco; Occobamba Valley, Tocopoqueu\"], [\"Peru: Cusco; Occobamba Valley, Tocopoqueu\"], [\"Peru: Cusco; Occobamba Valley, Tocopoqueu\"], [\"Peru: Cusco; Occobamba Valley, Tocopoqueu\"], [\"Peru: Cusco; Occobamba Valley, Tocopoqueu\"], [\"Peru: Cusco; Occobamba Valley, Tocopoqueu\"], [\"Peru: Cusco; Occobamba Valley, Tocopoqueu\"], [\"Peru: Cusco; Occobamba Valley, Tocopoqueu\"], [\"Peru: Cusco; Occobamba Valley, Tocopoqueu\"], [\"Peru: Cusco; Occobamba Valley, Tocopoqueu\"], [\"Peru: Cusco; Occobamba Valley, Tocopoqueu\"], [\"Peru: Cusco; Occobamba Valley, Tocopoqueu\"], [\"Peru: Cusco; Occobamba Valley, Tocopoqueu\"], [\"Peru: Cusco; Occobamba Valley, Tocopoqueu\"], [\"Peru: Cusco; Occobamba Valley, Tocopoqueu\"], [\"Peru: Cusco; Occobamba Valley, Tocopoqueu\"], [\"Peru: Cusco; Occobamba Valley, Tocopoqueu\"], [\"Peru: Cusco; Occobamba Valley, Tocopoqueu\"], [\"Peru: Cusco; Occobamba Valley, Tocopoqueu\"], [\"Peru: Cusco; Occobamba Valley, Tocopoqueu\"], [\"Peru: Cusco; Occobamba Valley, Tocopoqueu\"], [\"Kenya: N\\u00e2\\u20ac\\u2122Guasso Njiro River, S\\u00c2\\u00a0\"], [\"Kenya: N\\u00e2\\u20ac\\u2122Guasso Njiro River, S\\u00c2\\u00a0\"], [\"Kenya: N\\u00e2\\u20ac\\u2122Guasso Njiro River, S\\u00c2\\u00a0\"], [\"Kenya: N\\u00e2\\u20ac\\u2122Guasso Njiro River, S\\u00c2\\u00a0\"], [\"Kenya: N\\u00e2\\u20ac\\u2122Guasso Njiro River, S\\u00c2\\u00a0\"], [\"Kenya: N\\u00e2\\u20ac\\u2122Guasso Njiro River, S\\u00c2\\u00a0\"], [\"Kenya: N\\u00e2\\u20ac\\u2122Guasso Njiro River, S\\u00c2\\u00a0\"], [\"Kenya: N\\u00e2\\u20ac\\u2122Guasso Njiro River, S\\u00c2\\u00a0\"], [\"Kenya: N\\u00e2\\u20ac\\u2122Guasso Njiro River, S\\u00c2\\u00a0\"], [\"Kenya: N\\u00e2\\u20ac\\u2122Guasso Njiro River, S\\u00c2\\u00a0\"], [\"Kenya: N\\u00e2\\u20ac\\u2122Guasso Njiro River, S\\u00c2\\u00a0\"], [\"Kenya: N\\u00e2\\u20ac\\u2122Guasso Njiro River, S\\u00c2\\u00a0\"], [\"Kenya: N\\u00e2\\u20ac\\u2122Guasso Njiro River, S\\u00c2\\u00a0\"], [\"Kenya: N\\u00e2\\u20ac\\u2122Guasso Njiro River, S\\u00c2\\u00a0\"], [\"Kenya: N\\u00e2\\u20ac\\u2122Guasso Njiro River, S\\u00c2\\u00a0\"], [\"Kenya: N\\u00e2\\u20ac\\u2122Guasso Njiro River, S\\u00c2\\u00a0\"], [\"Kenya: N\\u00e2\\u20ac\\u2122Guasso Njiro River, S\\u00c2\\u00a0\"], [\"Kenya: N\\u00e2\\u20ac\\u2122Guasso Njiro River, S\\u00c2\\u00a0\"], [\"Kenya: N\\u00e2\\u20ac\\u2122Guasso Njiro River, S\\u00c2\\u00a0\"], [\"Kenya: N\\u00e2\\u20ac\\u2122Guasso Njiro River, S\\u00c2\\u00a0\"], [\"Kenya: N\\u00e2\\u20ac\\u2122Guasso Njiro River, S\\u00c2\\u00a0\"], [\"Kenya: N\\u00e2\\u20ac\\u2122Guasso Njiro River, S\\u00c2\\u00a0\"], [\"Kenya: N\\u00e2\\u20ac\\u2122Guasso Njiro River, S\\u00c2\\u00a0\"], [\"Kenya: N\\u00e2\\u20ac\\u2122Guasso Njiro River, S\\u00c2\\u00a0\"], [\"Kenya: N\\u00e2\\u20ac\\u2122Guasso Njiro River, S\\u00c2\\u00a0\"], [\"Kenya: N\\u00e2\\u20ac\\u2122Guasso Njiro River, S\\u00c2\\u00a0\"], [\"Kenya: N\\u00e2\\u20ac\\u2122Guasso Njiro River, S\\u00c2\\u00a0\"], [\"Kenya: N\\u00e2\\u20ac\\u2122Guasso Njiro River, S\\u00c2\\u00a0\"], [\"Kenya: N\\u00e2\\u20ac\\u2122Guasso Njiro River, S\\u00c2\\u00a0\"], [\"Kenya: N\\u00e2\\u20ac\\u2122Guasso Njiro River, S\\u00c2\\u00a0\"], [\"Kenya: N\\u00e2\\u20ac\\u2122Guasso Njiro River, S\\u00c2\\u00a0\"], [\"Kenya: N\\u00e2\\u20ac\\u2122Guasso Njiro River, S\\u00c2\\u00a0\"], [\"Kenya: N\\u00e2\\u20ac\\u2122Guasso Njiro River, S\\u00c2\\u00a0\"], [\"Kenya: N\\u00e2\\u20ac\\u2122Guasso Njiro River, S\\u00c2\\u00a0\"], [\"Kenya: N\\u00e2\\u20ac\\u2122Guasso Njiro River, S\\u00c2\\u00a0\"], [\"Kenya: N\\u00e2\\u20ac\\u2122Guasso Njiro River, S\\u00c2\\u00a0\"], [\"Kenya: N\\u00e2\\u20ac\\u2122Guasso Njiro River, S\\u00c2\\u00a0\"], [\"Kenya: N\\u00e2\\u20ac\\u2122Guasso Njiro River, S\\u00c2\\u00a0\"], [\"Kenya: N\\u00e2\\u20ac\\u2122Guasso Njiro River, S\\u00c2\\u00a0\"], [\"Kenya: N\\u00e2\\u20ac\\u2122Guasso Njiro River, S\\u00c2\\u00a0\"], [\"Kenya: N\\u00e2\\u20ac\\u2122Guasso Njiro River, S\\u00c2\\u00a0\"], [\"Kenya: N\\u00e2\\u20ac\\u2122Guasso Njiro River, S\\u00c2\\u00a0\"], [\"Kenya: N\\u00e2\\u20ac\\u2122Guasso Njiro River, S\\u00c2\\u00a0\"], [\"Kenya: N\\u00e2\\u20ac\\u2122Guasso Njiro River, S\\u00c2\\u00a0\"], [\"Kenya: N\\u00e2\\u20ac\\u2122Guasso Njiro River, S\\u00c2\\u00a0\"], [\"Kenya: N\\u00e2\\u20ac\\u2122Guasso Njiro River, S\\u00c2\\u00a0\"], [\"Kenya: N\\u00e2\\u20ac\\u2122Guasso Njiro River, S\\u00c2\\u00a0\"], [\"Kenya: N\\u00e2\\u20ac\\u2122Guasso Njiro River, S\\u00c2\\u00a0\"], [\"Kenya: N\\u00e2\\u20ac\\u2122Guasso Njiro River, S\\u00c2\\u00a0\"], [\"Kenya: N\\u00e2\\u20ac\\u2122Guasso Njiro River, S\\u00c2\\u00a0\"], [\"Kenya: N\\u00e2\\u20ac\\u2122Guasso Njiro River, S\\u00c2\\u00a0\"], [\"Kenya: N\\u00e2\\u20ac\\u2122Guasso Njiro River, S\\u00c2\\u00a0\"], [\"Kenya: N\\u00e2\\u20ac\\u2122Guasso Njiro River, S\\u00c2\\u00a0\"], [\"Kenya: N\\u00e2\\u20ac\\u2122Guasso Njiro River, S\\u00c2\\u00a0\"], [\"Kenya: N\\u00e2\\u20ac\\u2122Guasso Njiro River, S\\u00c2\\u00a0\"], [\"Kenya: N\\u00e2\\u20ac\\u2122Guasso Njiro River, S\\u00c2\\u00a0\"], [\"Kenya: N\\u00e2\\u20ac\\u2122Guasso Njiro River, S\\u00c2\\u00a0\"], [\"Kenya: N\\u00e2\\u20ac\\u2122Guasso Njiro River, S\\u00c2\\u00a0\"], [\"Kenya: N\\u00e2\\u20ac\\u2122Guasso Njiro River, S\\u00c2\\u00a0\"], [\"Kenya: N\\u00e2\\u20ac\\u2122Guasso Njiro River, S\\u00c2\\u00a0\"], [\"Kenya: N\\u00e2\\u20ac\\u2122Guasso Njiro River, S\\u00c2\\u00a0\"], [\"Kenya: N\\u00e2\\u20ac\\u2122Guasso Njiro River, S\\u00c2\\u00a0\"], [\"Kenya: N\\u00e2\\u20ac\\u2122Guasso Njiro River, S\\u00c2\\u00a0\"], [\"Kenya: N\\u00e2\\u20ac\\u2122Guasso Njiro River, S\\u00c2\\u00a0\"], [\"Indonesia: Celebes Island, Gimpoe\\u00c2\\u00a0\"], [\"Indonesia: Celebes Island, Gimpoe\\u00c2\\u00a0\"], [\"Indonesia: Celebes Island, Gimpoe\\u00c2\\u00a0\"], [\"Indonesia: Celebes Island, Gimpoe\\u00c2\\u00a0\"], [\"Indonesia: Celebes Island, Gimpoe\\u00c2\\u00a0\"], [\"Indonesia: Celebes Island, Gimpoe\\u00c2\\u00a0\"], [\"Indonesia: Celebes Island, Gimpoe\\u00c2\\u00a0\"], [\"Indonesia: Celebes Island, Gimpoe\\u00c2\\u00a0\"], [\"Indonesia: Celebes Island, Gimpoe\\u00c2\\u00a0\"], [\"Indonesia: Celebes Island, Gimpoe\\u00c2\\u00a0\"], [\"Indonesia: Celebes Island, Gimpoe\\u00c2\\u00a0\"], [\"Indonesia: Celebes Island, Gimpoe\\u00c2\\u00a0\"], [\"Indonesia: Celebes Island, Gimpoe\\u00c2\\u00a0\"], [\"Indonesia: Celebes Island, Gimpoe\\u00c2\\u00a0\"], [\"Indonesia: Celebes Island, Gimpoe\\u00c2\\u00a0\"], [\"Indonesia: Celebes Island, Gimpoe\\u00c2\\u00a0\"], [\"Indonesia: Celebes Island, Gimpoe\\u00c2\\u00a0\"], [\"Indonesia: Celebes Island, Gimpoe\\u00c2\\u00a0\"], [\"Indonesia: Celebes Island, Gimpoe\\u00c2\\u00a0\"], [\"Indonesia: Celebes Island, Gimpoe\\u00c2\\u00a0\"], [\"Indonesia: Celebes Island, Gimpoe\\u00c2\\u00a0\"], [\"Indonesia: Celebes Island, Gimpoe\\u00c2\\u00a0\"], [\"Indonesia: Celebes Island, Gimpoe\\u00c2\\u00a0\"], [\"Indonesia: Celebes Island, Gimpoe\\u00c2\\u00a0\"], [\"Indonesia: Celebes Island, Gimpoe\\u00c2\\u00a0\"], [\"Indonesia: Celebes Island, Gimpoe\\u00c2\\u00a0\"], [\"Indonesia: Celebes Island, Gimpoe\\u00c2\\u00a0\"], [\"Indonesia: Celebes Island, Gimpoe\\u00c2\\u00a0\"], [\"Indonesia: Celebes Island, Gimpoe\\u00c2\\u00a0\"], [\"Indonesia: Celebes Island, Gimpoe\\u00c2\\u00a0\"], [\"Indonesia: Celebes Island, Gimpoe\\u00c2\\u00a0\"], [\"Indonesia: Celebes Island, Gimpoe\\u00c2\\u00a0\"], [\"Indonesia: Celebes Island, Gimpoe\\u00c2\\u00a0\"], [\"Indonesia: Celebes Island, Gimpoe\\u00c2\\u00a0\"], [\"Indonesia: Celebes Island, Gimpoe\\u00c2\\u00a0\"], [\"Indonesia: Celebes Island, Gimpoe\\u00c2\\u00a0\"], [\"Indonesia: Celebes Island, Gimpoe\\u00c2\\u00a0\"], [\"Indonesia: Celebes Island, Gimpoe\\u00c2\\u00a0\"], [\"Indonesia: Celebes Island, Gimpoe\\u00c2\\u00a0\"], [\"Indonesia: Celebes Island, Gimpoe\\u00c2\\u00a0\"], [\"Indonesia: Celebes Island, Gimpoe\\u00c2\\u00a0\"], [\"Indonesia: Celebes Island, Gimpoe\\u00c2\\u00a0\"], [\"Indonesia: Celebes Island, Gimpoe\\u00c2\\u00a0\"], [\"Indonesia: Celebes Island, Gimpoe\\u00c2\\u00a0\"], [\"Indonesia: Celebes Island, Gimpoe\\u00c2\\u00a0\"], [\"Indonesia: Celebes Island, Gimpoe\\u00c2\\u00a0\"], [\"Indonesia: Celebes Island, Gimpoe\\u00c2\\u00a0\"], [\"Indonesia: Celebes Island, Gimpoe\\u00c2\\u00a0\"], [\"Indonesia: Celebes Island, Gimpoe\\u00c2\\u00a0\"], [\"Indonesia: Celebes Island, Gimpoe\\u00c2\\u00a0\"], [\"Indonesia: Celebes Island, Gimpoe\\u00c2\\u00a0\"], [\"Indonesia: Celebes Island, Gimpoe\\u00c2\\u00a0\"], [\"Indonesia: Celebes Island, Gimpoe\\u00c2\\u00a0\"], [\"Indonesia: Celebes Island, Gimpoe\\u00c2\\u00a0\"], [\"Indonesia: Celebes Island, Gimpoe\\u00c2\\u00a0\"], [\"Indonesia: Celebes Island, Gimpoe\\u00c2\\u00a0\"], [\"Indonesia: Celebes Island, Gimpoe\\u00c2\\u00a0\"], [\"Indonesia: Celebes Island, Gimpoe\\u00c2\\u00a0\"], [\"Indonesia: Celebes Island, Gimpoe\\u00c2\\u00a0\"], [\"Indonesia: Celebes Island, Gimpoe\\u00c2\\u00a0\"], [\"Indonesia: Celebes Island, Gimpoe\\u00c2\\u00a0\"], [\"Indonesia: Celebes Island, Gimpoe\\u00c2\\u00a0\"], [\"Indonesia: Celebes Island, Gimpoe\\u00c2\\u00a0\"], [\"Indonesia: Celebes Island, Gimpoe\\u00c2\\u00a0\"], [\"Teposcolula Yucundaa\"], [\"Teposcolula Yucundaa\"], [\"Teposcolula Yucundaa\"], [\"Teposcolula Yucundaa\"], [\"Teposcolula Yucundaa\"], [\"Teposcolula Yucundaa\"], [\"Teposcolula Yucundaa\"], [\"Teposcolula Yucundaa\"], [\"Teposcolula Yucundaa\"], [\"Teposcolula Yucundaa\"], [\"Teposcolula Yucundaa\"], [\"Teposcolula Yucundaa\"], [\"Teposcolula Yucundaa\"], [\"Teposcolula Yucundaa\"], [\"Teposcolula Yucundaa\"], [\"Teposcolula Yucundaa\"], [\"Upper Providence, Delaware County, Pennsylvania\"], [\"Upper Providence, Delaware County, Pennsylvania\"], [\"Swarthmore, Delaware County, Pennsylvania\"], [\"Swarthmore, Delaware County, Pennsylvania\"], [\"Lansdowne, Delaware County, Pennsylvania\"], [\"Lansdowne, Delaware County, Pennsylvania\"], [\"West Philadelphia, Philadelphia\"], [\"West Philadelphia, Philadelphia\"], [\"West Philadelphia, Philadelphia\"], [\"Easton, Philadelphia\"], [\"Easton, Philadelphia\"], [\"Iowa City, Iowa\"], [\"Iowa City, Iowa\"], [\"Iowa City, Iowa\"], [\"Ames, Iowa\"], [\"Ames, Iowa\"], [\"Ames, Iowa\"], [\"Des Moines, Iowa\"], [\"Des Moines, Iowa\"], [\"Ames, Iowa\"], [\"Ames, Iowa\"], [\"Ames, Iowa\"], [\"Ames, Iowa\"], [\"Ames, Iowa\"], [\"Connecticut (in Ohio State University)\"], [\"Ohio (in Ohio State University)\"], [\"Ohio (in Ohio State University)\"], [\"Ohio (in Ohio State University)\"], [\"Ohio (in Ohio State University)\"], [\"Ohio (in Ohio State University)\"], [\"Ohio (in Ohio State University)\"], [\"Ohio (in Ohio State University)\"], [\"Ohio (in Ohio State University)\"], [\"Ohio (in Ohio State University)\"], [\"Ohio (in University of Connecticut Herbarium)\"], [\"Ohio (in University of Connecticut Herbarium)\"], [\"Ohio (in University of Connecticut Herbarium)\"], [\"New Jersey (in University of Connecticut Herbarium)\"], [\"Connecticut (in University of Connecticut Herbarium)\"], [\"Connecticut (in University of Connecticut Herbarium)\"], [\"Connecticut (in University of Connecticut Herbarium)\"], [\"Ohio (in Chicago Field Museum)\"], [\"Indiana (in Chicago Field Museum)\"], [\"New Jersey (in Chicago Field Museum)\"], [\"Utah (In New York Botanical Garden)\"], [\"New York (In New York Botanical Garden)\"], [\"Tennessee (In New York Botanical Garden)\"], [\"Georgia (in New York Botanical Garden)\"], [\"District of Columbia (in New York Botanical Garden)\"], [\"New York (In New York Botanical Garden)\"], [\"New Jersey (in New York Botanical Garden)\"], [\"New Jersey (in New York Botanical Garden)\"], [\"New York (In New York Botanical Garden)\"], [\"District of Columbia (in New York Botanical Garden)\"], [\"North Carolina (in New York Botanical Garden)\"], [\"District of Columbia (in New York Botanical Garden)\"], [\"Delaware (in New York Botanical Garden)\"], [\"Utah (In New York Botanical Garden)\"], [\"CA-SCL-919, Santa Clara County\"], [\"CA-SCL-919, Santa Clara County\"], [\"CA-SCL-919, Santa Clara County\"], [\"CA-SCL-919, Santa Clara County\"], [\"Porticus Octaviae (Rome)\"], [\"Porticus Octaviae (Rome)\"], [\"Porticus Octaviae (Rome)\"], [\"Place d'Armes, Namur\"], [\"Tokyo\"], [\"Tokyo\"], [\"Tokyo\"], [\"Tokyo\"], [\"Ebishima\"], [\"Miyano\"], [\"Miyano\"], [\"Ikawazu\"], [\"Tokyo\"], [\"Tokyo\"], [\"Tokyo\"], [\"Tokyo\"], [\"Tokyo\"], [\"Tokyo\"], [\"Miyano\"], [\"Chan Chich\"], [\"Chan Chich\"], [\"Chan Chich\"], [\"Chan Chich\"], [\"Chan Chich\"], [\"Chan\"], [\"Chan\"], [\"Perdalba (Sardara)\"], [\"Perdalba (Sardara)\"], [\"Perdalba (Sardara)\"], [\"Capo Pecora (Arbus)\"], [\"Capo Pecora (Arbus)\"], [\"Capo Pecora (Arbus)\"], [\"Capo Pecora (Arbus)\"], [\"Lu Maccioni (Alghero)\"], [\"Lu Maccioni (Alghero)\"], [\"Lu Maccioni (Alghero)\"], [\"Lu Maccioni (Alghero)\"], [\"Riga\"], [\"Riga\"], [\"Riga\"], [\"Riga\"], [\"Jerusalem\"], [\"Jerusalem\"], [\"Jerusalem\"], [\"Jerusalem\"], [\"Medical Collection, American Museum of Natural History (New York)\"], [\"Kodiak Island Collection, National Museum of Natural History (Washington D.C.)\"], [\"Gniezno\"], [\"Gniezno\"], [\"Kowalewko\"], [\"Kowalewko\"], [\"Kowalewko\"], [\"Kowalewko\"], [\"Kowalewko\"], [\"Kowalewko\"], [\"Kowalewko\"], [\"Kowalewko\"], [\"Kowalewko\"], [\"Kowalewko\"], [\"Kowalewko\"], [\"Kowalewko\"], [\"Kowalewko\"], [\"Kowalewko\"], [\"Kowalewko\"], [\"Kowalewko\"], [\"Kowalewko\"], [\"Kowalewko\"], [\"Kowalewko\"], [\"Kowalewko\"], [\"Kowalewko\"], [\"Kowalewko\"], [\"Kowalewko\"], [\"Kowalewko\"], [\"Kowalewko\"], [\"Kowalewko\"], [\"Kowalewko\"], [\"Kowalewko\"], [\"Kowalewko\"], [\"Kowalewko\"], [\"Kowalewko\"], [\"Kowalewko\"], [\"Kowalewko\"], [\"Kowalewko\"], [\"Kowalewko\"], [\"Kowalewko\"], [\"Kowalewko\"], [\"Kowalewko\"], [\"Kowalewko\"], [\"Kowalewko\"], [\"Kowalewko\"], [\"Kowalewko\"], [\"Kowalewko\"], [\"Kowalewko\"], [\"Kowalewko\"], [\"Kowalewko\"], [\"Kowalewko\"], [\"Kowalewko\"], [\"Kowalewko\"], [\"Kowalewko\"], [\"Kowalewko\"], [\"Kowalewko\"], [\"Kowalewko\"], [\"Kowalewko\"], [\"Kowalewko\"], [\"Kowalewko\"], [\"Kowalewko\"], [\"Kowalewko\"], [\"Kowalewko\"], [\"Kowalewko\"], [\"Kowalewko\"], [\"\\u00c5<81>\\u00c4\\u2122gowo\"], [\"\\u00c5<81>\\u00c4\\u2122gowo\"], [\"\\u00c5<81>\\u00c4\\u2122gowo\"], [\"\\u00c5<81>\\u00c4\\u2122gowo\"], [\"\\u00c5<81>\\u00c4\\u2122gowo\"], [\"\\u00c5<81>\\u00c4\\u2122gowo\"], [\"\\u00c5<81>\\u00c4\\u2122gowo\"], [\"\\u00c5<81>\\u00c4\\u2122gowo\"], [\"\\u00c5<81>\\u00c4\\u2122gowo\"], [\"Markowice\"], [\"Markowice\"], [\"Markowice\"], [\"Markowice\"], [\"Markowice\"], [\"Markowice\"], [\"Markowice\"], [\"Markowice\"], [\"Mas\\u00c5\\u201aom\\u00c4\\u2122cz\"], [\"Mas\\u00c5\\u201aom\\u00c4\\u2122cz\"], [\"Mas\\u00c5\\u201aom\\u00c4\\u2122cz\"], [\"Mas\\u00c5\\u201aom\\u00c4\\u2122cz\"], [\"Mas\\u00c5\\u201aom\\u00c4\\u2122cz\"], [\"Mas\\u00c5\\u201aom\\u00c4\\u2122cz\"], [\"Mas\\u00c5\\u201aom\\u00c4\\u2122cz\"], [\"Mas\\u00c5\\u201aom\\u00c4\\u2122cz\"], [\"Mas\\u00c5\\u201aom\\u00c4\\u2122cz\"], [\"Mas\\u00c5\\u201aom\\u00c4\\u2122cz\"], [\"Mas\\u00c5\\u201aom\\u00c4\\u2122cz\"], [\"Mas\\u00c5\\u201aom\\u00c4\\u2122cz\"], [\"Mas\\u00c5\\u201aom\\u00c4\\u2122cz\"], [\"Mas\\u00c5\\u201aom\\u00c4\\u2122cz\"], [\"Mas\\u00c5\\u201aom\\u00c4\\u2122cz\"], [\"Mas\\u00c5\\u201aom\\u00c4\\u2122cz\"], [\"Mas\\u00c5\\u201aom\\u00c4\\u2122cz\"], [\"Mas\\u00c5\\u201aom\\u00c4\\u2122cz\"], [\"Mas\\u00c5\\u201aom\\u00c4\\u2122cz\"], [\"Mas\\u00c5\\u201aom\\u00c4\\u2122cz\"], [\"Mas\\u00c5\\u201aom\\u00c4\\u2122cz\"], [\"Mas\\u00c5\\u201aom\\u00c4\\u2122cz\"], [\"Mas\\u00c5\\u201aom\\u00c4\\u2122cz\"], [\"Mas\\u00c5\\u201aom\\u00c4\\u2122cz\"], [\"Mas\\u00c5\\u201aom\\u00c4\\u2122cz\"], [\"Mas\\u00c5\\u201aom\\u00c4\\u2122cz\"], [\"Mas\\u00c5\\u201aom\\u00c4\\u2122cz\"], [\"Niemcza\"], [\"Niemcza\"], [\"Niemcza\"], [\"Niemcza\"], [\"Niemcza\"], [\"Niemcza\"], [\"Niemcza\"], [\"Niemcza\"], [\"Niemcza\"], [\"Niemcza\"], [\"Niemcza\"], [\"Niemcza\"], [\"Niemcza\"], [\"Niemcza\"], [\"Niemcza\"], [\"Niemcza\"], [\"Niemcza\"], [\"Niemcza\"], [\"Niemcza\"], [\"Niemcza\"], [\"Niemcza\"], [\"Niemcza\"], [\"Niemcza\"], [\"Niemcza\"], [\"Niemcza\"], [\"Niemcza\"], [\"Niemcza\"], [\"Niemcza\"], [\"Niemcza\"], [\"Niemcza\"], [\"Niemcza\"], [\"Niemcza\"], [\"Niemcza\"], [\"Niemcza\"], [\"Niemcza\"], [\"Niemcza\"], [\"Niemcza\"], [\"Sowinki\"], [\"Sowinki\"], [\"Sowinki\"], [\"Sowinki\"], [\"Sowinki\"], [\"Sowinki\"], [\"Sowinki\"], [\"Sowinki\"], [\"Sowinki\"], [\"Sowinki\"], [\"Sowinki\"], [\"Sowinki\"], [\"Sowinki\"], [\"Sowinki\"], [\"Sowinki\"], [\"Sowinki\"], [\"Sowinki\"], [\"Sowinki\"], [\"Sowinki\"], [\"Sowinki\"], [\"Sowinki\"]], \"hovertemplate\": \"<b>%{hovertext}</b><br><br>latitude=%{lat}<br>longitude=%{lon}<br>site_name=%{customdata[0]}<extra></extra>\", \"hovertext\": [\"Germany\", \"Germany\", \"Germany\", \"Germany\", \"Germany\", \"Germany\", \"Germany\", \"Germany\", \"Germany\", \"Spain\", \"Spain\", \"Guadeloupe\", \"Guadeloupe\", \"Mongolia\", \"Mongolia\", \"Ireland\", \"Ireland\", \"Ireland\", \"Ireland\", \"Ireland\", \"Ireland\", \"Ireland\", \"Ireland\", \"Ireland\", \"Ireland\", \"Ireland\", \"Ireland\", \"Ireland\", \"Ireland\", \"Ireland\", \"Ireland\", \"Ireland\", \"Ireland\", \"Ireland\", \"Ireland\", \"Ireland\", \"Ireland\", \"Ireland\", \"Ireland\", \"Ireland\", \"Ireland\", \"Ireland\", \"Ireland\", \"Ireland\", \"Ireland\", \"Ireland\", \"Ireland\", \"Ireland\", \"Ireland\", \"Ireland\", \"Ireland\", \"Ireland\", \"Ireland\", \"Ireland\", \"Ireland\", \"Ireland\", \"Ireland\", \"Ireland\", \"Ireland\", \"Ireland\", \"Ireland\", \"Ireland\", \"Ireland\", \"Ireland\", \"Ireland\", \"USA\", \"USA\", \"Netherlands\", \"Nepal\", \"Nepal\", \"Netherlands\", \"Spain\", \"Spain\", \"Guadeloupe\", \"Guadeloupe\", \"Mongolia\", \"Mongolia\", \"Ireland\", \"Ireland\", \"Ireland\", \"Ireland\", \"Ireland\", \"Ireland\", \"Ireland\", \"Ireland\", \"Ireland\", \"Ireland\", \"Ireland\", \"Ireland\", \"Ireland\", \"Ireland\", \"Ireland\", \"Ireland\", \"Ireland\", \"Ireland\", \"Ireland\", \"Ireland\", \"Ireland\", \"Ireland\", \"Ireland\", \"Ireland\", \"Ireland\", \"Ireland\", \"Ireland\", \"Ireland\", \"Ireland\", \"Ireland\", \"Ireland\", \"Ireland\", \"Ireland\", \"Ireland\", \"Ireland\", \"Ireland\", \"Ireland\", \"Ireland\", \"Ireland\", \"Ireland\", \"Ireland\", \"Ireland\", \"Ireland\", \"Ireland\", \"Ireland\", \"Ireland\", \"Ireland\", \"Ireland\", \"USA\", \"USA\", \"Netherlands\", \"Nepal\", \"Nepal\", \"Netherlands\", \"Tanzania\", \"Tanzania\", \"Tanzania\", \"Tanzania\", \"Tanzania\", \"Tanzania\", \"Tanzania\", \"Tanzania\", \"Tanzania\", \"Tanzania\", \"Tanzania\", \"Tanzania\", \"Tanzania\", \"Tanzania\", \"Tanzania\", \"Tanzania\", \"Tanzania\", \"Tanzania\", \"Tanzania\", \"France\", \"France\", \"France\", \"France\", \"France\", \"France\", \"France\", \"France\", \"France\", \"USA\", \"USA\", \"USA\", \"USA\", \"USA\", \"Russia\", \"Russia\", \"Russia\", \"Russia\", \"Russia\", \"Russia\", \"Russia\", \"Russia\", \"Russia\", \"Russia\", \"Russia\", \"Russia\", \"Russia\", \"Russia\", \"Russia\", \"Russia\", \"Peru\", \"Peru\", \"Peru\", \"Peru\", \"Peru\", \"Peru\", \"Peru\", \"Peru\", \"Peru\", \"Peru\", \"Peru\", \"Peru\", \"Peru\", \"Peru\", \"Peru\", \"Peru\", \"Peru\", \"Peru\", \"Peru\", \"Peru\", \"Peru\", \"Peru\", \"Peru\", \"Peru\", \"Peru\", \"Peru\", \"Peru\", \"Peru\", \"Peru\", \"Peru\", \"Peru\", \"Peru\", \"Peru\", \"Peru\", \"Peru\", \"Peru\", \"Peru\", \"Peru\", \"Peru\", \"Peru\", \"Peru\", \"Peru\", \"Peru\", \"Peru\", \"Peru\", \"Peru\", \"Peru\", \"Peru\", \"Peru\", \"Peru\", \"Peru\", \"Peru\", \"Peru\", \"Peru\", \"Peru\", \"Peru\", \"Peru\", \"Peru\", \"Peru\", \"Peru\", \"Peru\", \"Peru\", \"Peru\", \"Peru\", \"Kenya\", \"Kenya\", \"Kenya\", \"Kenya\", \"Kenya\", \"Kenya\", \"Kenya\", \"Kenya\", \"Kenya\", \"Kenya\", \"Kenya\", \"Kenya\", \"Kenya\", \"Kenya\", \"Kenya\", \"Kenya\", \"Kenya\", \"Kenya\", \"Kenya\", \"Kenya\", \"Kenya\", \"Kenya\", \"Kenya\", \"Kenya\", \"Kenya\", \"Kenya\", \"Kenya\", \"Kenya\", \"Kenya\", \"Kenya\", \"Kenya\", \"Kenya\", \"Kenya\", \"Kenya\", \"Kenya\", \"Kenya\", \"Kenya\", \"Kenya\", \"Kenya\", \"Kenya\", \"Kenya\", \"Kenya\", \"Kenya\", \"Kenya\", \"Kenya\", \"Kenya\", \"Kenya\", \"Kenya\", \"Kenya\", \"Kenya\", \"Kenya\", \"Kenya\", \"Kenya\", \"Kenya\", \"Kenya\", \"Kenya\", \"Kenya\", \"Kenya\", \"Kenya\", \"Kenya\", \"Kenya\", \"Kenya\", \"Kenya\", \"Kenya\", \"Indonesia\", \"Indonesia\", \"Indonesia\", \"Indonesia\", \"Indonesia\", \"Indonesia\", \"Indonesia\", \"Indonesia\", \"Indonesia\", \"Indonesia\", \"Indonesia\", \"Indonesia\", \"Indonesia\", \"Indonesia\", \"Indonesia\", \"Indonesia\", \"Indonesia\", \"Indonesia\", \"Indonesia\", \"Indonesia\", \"Indonesia\", \"Indonesia\", \"Indonesia\", \"Indonesia\", \"Indonesia\", \"Indonesia\", \"Indonesia\", \"Indonesia\", \"Indonesia\", \"Indonesia\", \"Indonesia\", \"Indonesia\", \"Indonesia\", \"Indonesia\", \"Indonesia\", \"Indonesia\", \"Indonesia\", \"Indonesia\", \"Indonesia\", \"Indonesia\", \"Indonesia\", \"Indonesia\", \"Indonesia\", \"Indonesia\", \"Indonesia\", \"Indonesia\", \"Indonesia\", \"Indonesia\", \"Indonesia\", \"Indonesia\", \"Indonesia\", \"Indonesia\", \"Indonesia\", \"Indonesia\", \"Indonesia\", \"Indonesia\", \"Indonesia\", \"Indonesia\", \"Indonesia\", \"Indonesia\", \"Indonesia\", \"Indonesia\", \"Indonesia\", \"Indonesia\", \"Mexico\", \"Mexico\", \"Mexico\", \"Mexico\", \"Mexico\", \"Mexico\", \"Mexico\", \"Mexico\", \"Mexico\", \"Mexico\", \"Mexico\", \"Mexico\", \"Mexico\", \"Mexico\", \"Mexico\", \"Mexico\", \"USA\", \"USA\", \"USA\", \"USA\", \"USA\", \"USA\", \"USA\", \"USA\", \"USA\", \"USA\", \"USA\", \"USA\", \"USA\", \"USA\", \"USA\", \"USA\", \"USA\", \"USA\", \"USA\", \"USA\", \"USA\", \"USA\", \"USA\", \"USA\", \"USA\", \"USA\", \"USA\", \"USA\", \"USA\", \"USA\", \"USA\", \"USA\", \"USA\", \"USA\", \"USA\", \"USA\", \"USA\", \"USA\", \"USA\", \"USA\", \"USA\", \"USA\", \"USA\", \"USA\", \"USA\", \"USA\", \"USA\", \"USA\", \"USA\", \"USA\", \"USA\", \"USA\", \"USA\", \"USA\", \"USA\", \"USA\", \"USA\", \"USA\", \"USA\", \"USA\", \"USA\", \"USA\", \"Italy\", \"Italy\", \"Italy\", \"Belgium\", \"Japan\", \"Japan\", \"Japan\", \"Japan\", \"Japan\", \"Japan\", \"Japan\", \"Japan\", \"Japan\", \"Japan\", \"Japan\", \"Japan\", \"Japan\", \"Japan\", \"Japan\", \"Belize\", \"Belize\", \"Belize\", \"Belize\", \"Belize\", \"Belize\", \"Belize\", \"Italy\", \"Italy\", \"Italy\", \"Italy\", \"Italy\", \"Italy\", \"Italy\", \"Italy\", \"Italy\", \"Italy\", \"Italy\", \"Latvia\", \"Latvia\", \"Latvia\", \"Latvia\", \"West Bank\", \"West Bank\", \"West Bank\", \"West Bank\", \"USA\", \"USA\", \"Poland\", \"Poland\", \"Poland\", \"Poland\", \"Poland\", \"Poland\", \"Poland\", \"Poland\", \"Poland\", \"Poland\", \"Poland\", \"Poland\", \"Poland\", \"Poland\", \"Poland\", \"Poland\", \"Poland\", \"Poland\", \"Poland\", \"Poland\", \"Poland\", \"Poland\", \"Poland\", \"Poland\", \"Poland\", \"Poland\", \"Poland\", \"Poland\", \"Poland\", \"Poland\", \"Poland\", \"Poland\", \"Poland\", \"Poland\", \"Poland\", \"Poland\", \"Poland\", \"Poland\", \"Poland\", \"Poland\", \"Poland\", \"Poland\", \"Poland\", \"Poland\", \"Poland\", \"Poland\", \"Poland\", \"Poland\", \"Poland\", \"Poland\", \"Poland\", \"Poland\", \"Poland\", \"Poland\", \"Poland\", \"Poland\", \"Poland\", \"Poland\", \"Poland\", \"Poland\", \"Poland\", \"Poland\", \"Poland\", \"Poland\", \"Poland\", \"Poland\", \"Poland\", \"Poland\", \"Poland\", \"Poland\", \"Poland\", \"Poland\", \"Poland\", \"Poland\", \"Poland\", \"Poland\", \"Poland\", \"Poland\", \"Poland\", \"Poland\", \"Poland\", \"Poland\", \"Poland\", \"Poland\", \"Poland\", \"Poland\", \"Poland\", \"Poland\", \"Poland\", \"Poland\", \"Poland\", \"Poland\", \"Poland\", \"Poland\", \"Poland\", \"Poland\", \"Poland\", \"Poland\", \"Poland\", \"Poland\", \"Poland\", \"Poland\", \"Poland\", \"Poland\", \"Poland\", \"Poland\", \"Poland\", \"Poland\", \"Poland\", \"Poland\", \"Poland\", \"Poland\", \"Poland\", \"Poland\", \"Poland\", \"Poland\", \"Poland\", \"Poland\", \"Poland\", \"Poland\", \"Poland\", \"Poland\", \"Poland\", \"Poland\", \"Poland\", \"Poland\", \"Poland\", \"Poland\", \"Poland\", \"Poland\", \"Poland\", \"Poland\", \"Poland\", \"Poland\", \"Poland\", \"Poland\", \"Poland\", \"Poland\", \"Poland\", \"Poland\", \"Poland\", \"Poland\", \"Poland\", \"Poland\", \"Poland\", \"Poland\", \"Poland\", \"Poland\", \"Poland\", \"Poland\", \"Poland\", \"Poland\", \"Poland\", \"Poland\", \"Poland\", \"Poland\", \"Poland\", \"Poland\", \"Poland\", \"Poland\", \"Poland\", \"Poland\", \"Poland\", \"Poland\", \"Poland\"], \"lat\": [51.565, 51.565, 51.565, 51.565, 51.565, 51.565, 51.565, 51.565, 51.565, 38.102, 38.102, 16.254, 16.254, 49.66, 49.66, 54.005, 54.005, 54.005, 54.005, 54.005, 54.005, 54.005, 54.005, 54.005, 54.005, 54.005, 54.005, 54.005, 54.005, 54.005, 54.005, 54.005, 54.005, 54.005, 54.005, 54.005, 54.005, 54.005, 54.005, 54.005, 54.005, 54.005, 54.005, 54.005, 54.005, 54.005, 54.005, 54.005, 54.005, 54.005, 54.005, 54.005, 54.005, 54.005, 54.005, 54.005, 54.005, 54.005, 54.005, 54.005, 54.005, 54.005, 54.005, 54.005, 54.005, 40.23, 40.23, 52.548, 29.27, 29.27, 52.548, 38.102, 38.102, 16.254, 16.254, 49.66, 49.66, 54.005, 54.005, 54.005, 54.005, 54.005, 54.005, 54.005, 54.005, 54.005, 54.005, 54.005, 54.005, 54.005, 54.005, 54.005, 54.005, 54.005, 54.005, 54.005, 54.005, 54.005, 54.005, 54.005, 54.005, 54.005, 54.005, 54.005, 54.005, 54.005, 54.005, 54.005, 54.005, 54.005, 54.005, 54.005, 54.005, 54.005, 54.005, 54.005, 54.005, 54.005, 54.005, 54.005, 54.005, 54.005, 54.005, 54.005, 54.005, 40.23, 40.23, 52.548, 29.27, 29.27, 52.548, -4.69, -4.69, -4.69, -4.69, -4.69, -4.69, -4.69, -4.69, -4.69, -4.69, -4.69, -4.69, -4.69, -4.69, -4.69, -4.69, -4.69, -4.69, -4.69, 48.006, 48.006, 48.006, 48.006, 48.006, 48.006, 48.006, 48.006, 48.006, 40.23, 40.23, 40.23, 40.23, 18.41, 68.633, 68.633, 68.633, 68.633, 68.633, 68.633, 68.633, 68.633, 68.633, 68.633, 68.633, 68.633, 68.633, 68.633, 68.633, 68.633, -13.47, -13.47, -13.47, -13.47, -13.47, -13.47, -13.47, -13.47, -13.47, -13.47, -13.47, -13.47, -13.47, -13.47, -13.47, -13.47, -13.47, -13.47, -13.47, -13.47, -13.47, -13.47, -13.47, -13.47, -13.47, -13.47, -13.47, -13.47, -13.47, -13.47, -13.47, -13.47, -13.47, -13.47, -13.47, -13.47, -13.47, -13.47, -13.47, -13.47, -13.47, -13.47, -13.47, -13.47, -13.47, -13.47, -13.47, -13.47, -13.47, -13.47, -13.47, -13.47, -13.47, -13.47, -13.47, -13.47, -13.47, -13.47, -13.47, -13.47, -13.47, -13.47, -13.47, -13.47, 1.0, 1.0, 1.0, 1.0, 1.0, 1.0, 1.0, 1.0, 1.0, 1.0, 1.0, 1.0, 1.0, 1.0, 1.0, 1.0, 1.0, 1.0, 1.0, 1.0, 1.0, 1.0, 1.0, 1.0, 1.0, 1.0, 1.0, 1.0, 1.0, 1.0, 1.0, 1.0, 1.0, 1.0, 1.0, 1.0, 1.0, 1.0, 1.0, 1.0, 1.0, 1.0, 1.0, 1.0, 1.0, 1.0, 1.0, 1.0, 1.0, 1.0, 1.0, 1.0, 1.0, 1.0, 1.0, 1.0, 1.0, 1.0, 1.0, 1.0, 1.0, 1.0, 1.0, 1.0, -2.06, -2.06, -2.06, -2.06, -2.06, -2.06, -2.06, -2.06, -2.06, -2.06, -2.06, -2.06, -2.06, -2.06, -2.06, -2.06, -2.06, -2.06, -2.06, -2.06, -2.06, -2.06, -2.06, -2.06, -2.06, -2.06, -2.06, -2.06, -2.06, -2.06, -2.06, -2.06, -2.06, -2.06, -2.06, -2.06, -2.06, -2.06, -2.06, -2.06, -2.06, -2.06, -2.06, -2.06, -2.06, -2.06, -2.06, -2.06, -2.06, -2.06, -2.06, -2.06, -2.06, -2.06, -2.06, -2.06, -2.06, -2.06, -2.06, -2.06, -2.06, -2.06, -2.06, -2.06, 17.49, 17.49, 17.49, 17.49, 17.49, 17.49, 17.49, 17.49, 17.49, 17.49, 17.49, 17.49, 17.49, 17.49, 17.49, 17.49, 40.1, 40.1, 39.9, 39.9, 39.9, 39.9, 39.9, 39.9, 39.9, 40.0, 40.0, 41.6, 41.6, 41.6, 42.0, 42.0, 42.0, 41.5, 41.5, 42.0, 42.0, 42.0, 42.0, 42.0, 41.0, 39.688, 41.721, 39.956, 41.102, 39.956, 41.137, 39.5, 40.0, 41.867, 40.0, 40.0, 40.0, 39.856, 41.224, 41.666, 41.509, 41.48, 41.482, 39.856, 40.643, 41.15, 35.99, 32.0, 38.906, 43.192, 40.924, 41.122, 39.97, 38.906, 35.0, 38.906, 38.715, 40.643, 37.3, 37.3, 37.3, 37.3, 41.892, 41.892, 41.892, 50.46, 35.71, 35.71, 35.71, 35.71, 38.83, 39.12, 39.12, 34.64, 35.71, 35.71, 35.71, 35.71, 35.71, 35.713, 39.12, 17.53, 17.53, 17.53, 17.53, 17.53, 17.53, 17.53, 39.58, 39.58, 39.58, 39.448, 39.448, 39.448, 39.448, 40.544, 40.544, 40.544, 40.544, 56.94, 56.94, 56.94, 56.94, 31.77, 31.77, 31.77, 31.77, 40.781, 38.891, 52.538, 52.538, 52.699, 52.699, 52.699, 52.699, 52.699, 52.699, 52.699, 52.699, 52.699, 52.699, 52.699, 52.699, 52.699, 52.699, 52.699, 52.699, 52.699, 52.699, 52.699, 52.699, 52.699, 52.699, 52.699, 52.699, 52.699, 52.699, 52.699, 52.699, 52.699, 52.699, 52.699, 52.699, 52.699, 52.699, 52.699, 52.699, 52.699, 52.699, 52.699, 52.699, 52.699, 52.699, 52.699, 52.699, 52.699, 52.699, 52.699, 52.699, 52.699, 52.699, 52.699, 52.699, 52.699, 52.699, 52.699, 52.699, 52.699, 52.699, 52.699, 52.699, 52.699, 54.226, 54.226, 54.226, 54.226, 54.226, 54.226, 54.226, 54.226, 54.226, 52.313, 52.313, 52.313, 52.313, 52.313, 52.313, 52.313, 52.313, 50.722, 50.722, 50.722, 50.722, 50.722, 50.722, 50.722, 50.722, 50.722, 50.722, 50.722, 50.722, 50.722, 50.722, 50.722, 50.722, 50.722, 50.722, 50.722, 50.722, 50.722, 50.722, 50.722, 50.722, 50.722, 50.722, 50.722, 50.719, 50.719, 50.719, 50.719, 50.719, 50.719, 50.719, 50.719, 50.719, 50.719, 50.719, 50.719, 50.719, 50.719, 50.719, 50.719, 50.719, 50.719, 50.719, 50.719, 50.719, 50.719, 50.719, 50.719, 50.719, 50.719, 50.719, 50.719, 50.719, 50.719, 50.719, 50.719, 50.719, 50.719, 50.719, 50.719, 50.719, 52.211, 52.211, 52.211, 52.211, 52.211, 52.211, 52.211, 52.211, 52.211, 52.211, 52.211, 52.211, 52.211, 52.211, 52.211, 52.211, 52.211, 52.211, 52.211, 52.211, 52.211], \"legendgroup\": \"\", \"lon\": [8.84, 8.84, 8.84, 8.84, 8.84, 8.84, 8.84, 8.84, 8.84, -1.865, -1.865, -61.203, -61.203, 99.61, 99.61, -8.201, -8.201, -8.201, -8.201, -8.201, -8.201, -8.201, -8.201, -8.201, -8.201, -8.201, -8.201, -8.201, -8.201, -8.201, -8.201, -8.201, -8.201, -8.201, -8.201, -8.201, -8.201, -8.201, -8.201, -8.201, -8.201, -8.201, -8.201, -8.201, -8.201, -8.201, -8.201, -8.201, -8.201, -8.201, -8.201, -8.201, -8.201, -8.201, -8.201, -8.201, -8.201, -8.201, -8.201, -8.201, -8.201, -8.201, -8.201, -8.201, -8.201, -90.143, -90.143, 4.912, 84.03, 84.03, 4.912, -1.865, -1.865, -61.203, -61.203, 99.61, 99.61, -8.201, -8.201, -8.201, -8.201, -8.201, -8.201, -8.201, -8.201, -8.201, -8.201, -8.201, -8.201, -8.201, -8.201, -8.201, -8.201, -8.201, -8.201, -8.201, -8.201, -8.201, -8.201, -8.201, -8.201, -8.201, -8.201, -8.201, -8.201, -8.201, -8.201, -8.201, -8.201, -8.201, -8.201, -8.201, -8.201, -8.201, -8.201, -8.201, -8.201, -8.201, -8.201, -8.201, -8.201, -8.201, -8.201, -8.201, -8.201, -90.143, -90.143, 4.912, 84.03, 84.03, 4.912, 29.62, 29.62, 29.62, 29.62, 29.62, 29.62, 29.62, 29.62, 29.62, 29.62, 29.62, 29.62, 29.62, 29.62, 29.62, 29.62, 29.62, 29.62, 29.62, 0.199, 0.199, 0.199, 0.199, 0.199, 0.199, 0.199, 0.199, 0.199, -90.143, -90.143, -90.143, -90.143, -66.33, 71.666, 71.666, 71.666, 71.666, 71.666, 71.666, 71.666, 71.666, 71.666, 71.666, 71.666, 71.666, 71.666, 71.666, 71.666, 71.666, -73.56, -73.56, -73.56, -73.56, -73.56, -73.56, -73.56, -73.56, -73.56, -73.56, -73.56, -73.56, -73.56, -73.56, -73.56, -73.56, -73.56, -73.56, -73.56, -73.56, -73.56, -73.56, -73.56, -73.56, -73.56, -73.56, -73.56, -73.56, -73.56, -73.56, -73.56, -73.56, -73.56, -73.56, -73.56, -73.56, -73.56, -73.56, -73.56, -73.56, -73.56, -73.56, -73.56, -73.56, -73.56, -73.56, -73.56, -73.56, -73.56, -73.56, -73.56, -73.56, -73.56, -73.56, -73.56, -73.56, -73.56, -73.56, -73.56, -73.56, -73.56, -73.56, -73.56, -73.56, 37.0, 37.0, 37.0, 37.0, 37.0, 37.0, 37.0, 37.0, 37.0, 37.0, 37.0, 37.0, 37.0, 37.0, 37.0, 37.0, 37.0, 37.0, 37.0, 37.0, 37.0, 37.0, 37.0, 37.0, 37.0, 37.0, 37.0, 37.0, 37.0, 37.0, 37.0, 37.0, 37.0, 37.0, 37.0, 37.0, 37.0, 37.0, 37.0, 37.0, 37.0, 37.0, 37.0, 37.0, 37.0, 37.0, 37.0, 37.0, 37.0, 37.0, 37.0, 37.0, 37.0, 37.0, 37.0, 37.0, 37.0, 37.0, 37.0, 37.0, 37.0, 37.0, 37.0, 37.0, 120.37, 120.37, 120.37, 120.37, 120.37, 120.37, 120.37, 120.37, 120.37, 120.37, 120.37, 120.37, 120.37, 120.37, 120.37, 120.37, 120.37, 120.37, 120.37, 120.37, 120.37, 120.37, 120.37, 120.37, 120.37, 120.37, 120.37, 120.37, 120.37, 120.37, 120.37, 120.37, 120.37, 120.37, 120.37, 120.37, 120.37, 120.37, 120.37, 120.37, 120.37, 120.37, 120.37, 120.37, 120.37, 120.37, 120.37, 120.37, 120.37, 120.37, 120.37, 120.37, 120.37, 120.37, 120.37, 120.37, 120.37, 120.37, 120.37, 120.37, 120.37, 120.37, 120.37, 120.37, -97.46, -97.46, -97.46, -97.46, -97.46, -97.46, -97.46, -97.46, -97.46, -97.46, -97.46, -97.46, -97.46, -97.46, -97.46, -97.46, -75.4, -75.4, -75.3, -75.3, -75.2, -75.2, -75.2, -75.2, -75.2, -75.1, -75.1, -91.5, -91.5, -91.5, -93.6, -93.6, -93.6, -93.6, -93.6, -93.6, -93.6, -93.6, -93.6, -93.6, -72.0, -82.993, -81.243, -81.953, -81.56, -81.953, -81.863, -82.472, -82.0, -80.789, -82.0, -82.0, -82.0, -74.686, -73.06, -73.508, -72.543, -86.82, -86.822, -74.686, -111.951, -73.766, -83.94, -83.0, -77.036, -77.01, -74.075, -74.356, -83.01, -77.037, -79.0, -77.037, -75.631, -111.967, -121.8, -121.8, -121.8, -121.8, 12.478, 12.478, 12.478, 4.86, 139.78, 139.78, 139.78, 139.78, 141.18, 141.81, 141.81, 137.14, 139.78, 139.78, 139.78, 139.78, 139.78, 139.767, 141.81, -89.11, -89.11, -89.11, -89.11, -89.11, -89.11, -89.11, 8.85, 8.85, 8.85, 8.391, 8.391, 8.391, 8.391, 8.321, 8.321, 8.321, 8.321, 24.11, 24.11, 24.11, 24.11, 35.22, 35.22, 35.22, 35.22, -73.974, -77.026, 17.597, 17.597, 17.605, 17.605, 17.605, 17.605, 17.605, 17.605, 17.605, 17.605, 17.605, 17.605, 17.605, 17.605, 17.605, 17.605, 17.605, 17.605, 17.605, 17.605, 17.605, 17.605, 17.605, 17.605, 17.605, 17.605, 17.605, 17.605, 17.605, 17.605, 17.605, 17.605, 17.605, 17.605, 17.605, 17.605, 17.605, 17.605, 17.605, 17.605, 17.605, 17.605, 17.605, 17.605, 17.605, 17.605, 17.605, 17.605, 17.605, 17.605, 17.605, 17.605, 17.605, 17.605, 17.605, 17.605, 17.605, 17.605, 17.605, 17.605, 17.605, 17.605, 17.605, 18.642, 18.642, 18.642, 18.642, 18.642, 18.642, 18.642, 18.642, 18.642, 17.215, 17.215, 17.215, 17.215, 17.215, 17.215, 17.215, 17.215, 23.892, 23.892, 23.892, 23.892, 23.892, 23.892, 23.892, 23.892, 23.892, 23.892, 23.892, 23.892, 23.892, 23.892, 23.892, 23.892, 23.892, 23.892, 23.892, 23.892, 23.892, 23.892, 23.892, 23.892, 23.892, 23.892, 23.892, 16.835, 16.835, 16.835, 16.835, 16.835, 16.835, 16.835, 16.835, 16.835, 16.835, 16.835, 16.835, 16.835, 16.835, 16.835, 16.835, 16.835, 16.835, 16.835, 16.835, 16.835, 16.835, 16.835, 16.835, 16.835, 16.835, 16.835, 16.835, 16.835, 16.835, 16.835, 16.835, 16.835, 16.835, 16.835, 16.835, 16.835, 16.893, 16.893, 16.893, 16.893, 16.893, 16.893, 16.893, 16.893, 16.893, 16.893, 16.893, 16.893, 16.893, 16.893, 16.893, 16.893, 16.893, 16.893, 16.893, 16.893, 16.893], \"marker\": {\"color\": \"red\"}, \"mode\": \"markers\", \"name\": \"\", \"showlegend\": false, \"subplot\": \"mapbox\", \"type\": \"scattermapbox\"}],                        {\"height\": 300, \"legend\": {\"tracegroupgap\": 0}, \"mapbox\": {\"center\": {\"lat\": 30.833081570997077, \"lon\": 5.9850030211480325}, \"domain\": {\"x\": [0.0, 1.0], \"y\": [0.0, 1.0]}, \"style\": \"open-street-map\", \"zoom\": 2}, \"margin\": {\"b\": 0, \"l\": 0, \"r\": 0, \"t\": 0}, \"template\": {\"data\": {\"bar\": [{\"error_x\": {\"color\": \"#2a3f5f\"}, \"error_y\": {\"color\": \"#2a3f5f\"}, \"marker\": {\"line\": {\"color\": \"#E5ECF6\", \"width\": 0.5}}, \"type\": \"bar\"}], \"barpolar\": [{\"marker\": {\"line\": {\"color\": \"#E5ECF6\", \"width\": 0.5}}, \"type\": \"barpolar\"}], \"carpet\": [{\"aaxis\": {\"endlinecolor\": \"#2a3f5f\", \"gridcolor\": \"white\", \"linecolor\": \"white\", \"minorgridcolor\": \"white\", \"startlinecolor\": \"#2a3f5f\"}, \"baxis\": {\"endlinecolor\": \"#2a3f5f\", \"gridcolor\": \"white\", \"linecolor\": \"white\", \"minorgridcolor\": \"white\", \"startlinecolor\": \"#2a3f5f\"}, \"type\": \"carpet\"}], \"choropleth\": [{\"colorbar\": {\"outlinewidth\": 0, \"ticks\": \"\"}, \"type\": \"choropleth\"}], \"contour\": [{\"colorbar\": {\"outlinewidth\": 0, \"ticks\": \"\"}, \"colorscale\": [[0.0, \"#0d0887\"], [0.1111111111111111, \"#46039f\"], [0.2222222222222222, \"#7201a8\"], [0.3333333333333333, \"#9c179e\"], [0.4444444444444444, \"#bd3786\"], [0.5555555555555556, \"#d8576b\"], [0.6666666666666666, \"#ed7953\"], [0.7777777777777778, \"#fb9f3a\"], [0.8888888888888888, \"#fdca26\"], [1.0, \"#f0f921\"]], \"type\": \"contour\"}], \"contourcarpet\": [{\"colorbar\": {\"outlinewidth\": 0, \"ticks\": \"\"}, \"type\": \"contourcarpet\"}], \"heatmap\": [{\"colorbar\": {\"outlinewidth\": 0, \"ticks\": \"\"}, \"colorscale\": [[0.0, \"#0d0887\"], [0.1111111111111111, \"#46039f\"], [0.2222222222222222, \"#7201a8\"], [0.3333333333333333, \"#9c179e\"], [0.4444444444444444, \"#bd3786\"], [0.5555555555555556, \"#d8576b\"], [0.6666666666666666, \"#ed7953\"], [0.7777777777777778, \"#fb9f3a\"], [0.8888888888888888, \"#fdca26\"], [1.0, \"#f0f921\"]], \"type\": \"heatmap\"}], \"heatmapgl\": [{\"colorbar\": {\"outlinewidth\": 0, \"ticks\": \"\"}, \"colorscale\": [[0.0, \"#0d0887\"], [0.1111111111111111, \"#46039f\"], [0.2222222222222222, \"#7201a8\"], [0.3333333333333333, \"#9c179e\"], [0.4444444444444444, \"#bd3786\"], [0.5555555555555556, \"#d8576b\"], [0.6666666666666666, \"#ed7953\"], [0.7777777777777778, \"#fb9f3a\"], [0.8888888888888888, \"#fdca26\"], [1.0, \"#f0f921\"]], \"type\": \"heatmapgl\"}], \"histogram\": [{\"marker\": {\"colorbar\": {\"outlinewidth\": 0, \"ticks\": \"\"}}, \"type\": \"histogram\"}], \"histogram2d\": [{\"colorbar\": {\"outlinewidth\": 0, \"ticks\": \"\"}, \"colorscale\": [[0.0, \"#0d0887\"], [0.1111111111111111, \"#46039f\"], [0.2222222222222222, \"#7201a8\"], [0.3333333333333333, \"#9c179e\"], [0.4444444444444444, \"#bd3786\"], [0.5555555555555556, \"#d8576b\"], [0.6666666666666666, \"#ed7953\"], [0.7777777777777778, \"#fb9f3a\"], [0.8888888888888888, \"#fdca26\"], [1.0, \"#f0f921\"]], \"type\": \"histogram2d\"}], \"histogram2dcontour\": [{\"colorbar\": {\"outlinewidth\": 0, \"ticks\": \"\"}, \"colorscale\": [[0.0, \"#0d0887\"], [0.1111111111111111, \"#46039f\"], [0.2222222222222222, \"#7201a8\"], [0.3333333333333333, \"#9c179e\"], [0.4444444444444444, \"#bd3786\"], [0.5555555555555556, \"#d8576b\"], [0.6666666666666666, \"#ed7953\"], [0.7777777777777778, \"#fb9f3a\"], [0.8888888888888888, \"#fdca26\"], [1.0, \"#f0f921\"]], \"type\": \"histogram2dcontour\"}], \"mesh3d\": [{\"colorbar\": {\"outlinewidth\": 0, \"ticks\": \"\"}, \"type\": \"mesh3d\"}], \"parcoords\": [{\"line\": {\"colorbar\": {\"outlinewidth\": 0, \"ticks\": \"\"}}, \"type\": \"parcoords\"}], \"pie\": [{\"automargin\": true, \"type\": \"pie\"}], \"scatter\": [{\"marker\": {\"colorbar\": {\"outlinewidth\": 0, \"ticks\": \"\"}}, \"type\": \"scatter\"}], \"scatter3d\": [{\"line\": {\"colorbar\": {\"outlinewidth\": 0, \"ticks\": \"\"}}, \"marker\": {\"colorbar\": {\"outlinewidth\": 0, \"ticks\": \"\"}}, \"type\": \"scatter3d\"}], \"scattercarpet\": [{\"marker\": {\"colorbar\": {\"outlinewidth\": 0, \"ticks\": \"\"}}, \"type\": \"scattercarpet\"}], \"scattergeo\": [{\"marker\": {\"colorbar\": {\"outlinewidth\": 0, \"ticks\": \"\"}}, \"type\": \"scattergeo\"}], \"scattergl\": [{\"marker\": {\"colorbar\": {\"outlinewidth\": 0, \"ticks\": \"\"}}, \"type\": \"scattergl\"}], \"scattermapbox\": [{\"marker\": {\"colorbar\": {\"outlinewidth\": 0, \"ticks\": \"\"}}, \"type\": \"scattermapbox\"}], \"scatterpolar\": [{\"marker\": {\"colorbar\": {\"outlinewidth\": 0, \"ticks\": \"\"}}, \"type\": \"scatterpolar\"}], \"scatterpolargl\": [{\"marker\": {\"colorbar\": {\"outlinewidth\": 0, \"ticks\": \"\"}}, \"type\": \"scatterpolargl\"}], \"scatterternary\": [{\"marker\": {\"colorbar\": {\"outlinewidth\": 0, \"ticks\": \"\"}}, \"type\": \"scatterternary\"}], \"surface\": [{\"colorbar\": {\"outlinewidth\": 0, \"ticks\": \"\"}, \"colorscale\": [[0.0, \"#0d0887\"], [0.1111111111111111, \"#46039f\"], [0.2222222222222222, \"#7201a8\"], [0.3333333333333333, \"#9c179e\"], [0.4444444444444444, \"#bd3786\"], [0.5555555555555556, \"#d8576b\"], [0.6666666666666666, \"#ed7953\"], [0.7777777777777778, \"#fb9f3a\"], [0.8888888888888888, \"#fdca26\"], [1.0, \"#f0f921\"]], \"type\": \"surface\"}], \"table\": [{\"cells\": {\"fill\": {\"color\": \"#EBF0F8\"}, \"line\": {\"color\": \"white\"}}, \"header\": {\"fill\": {\"color\": \"#C8D4E3\"}, \"line\": {\"color\": \"white\"}}, \"type\": \"table\"}]}, \"layout\": {\"annotationdefaults\": {\"arrowcolor\": \"#2a3f5f\", \"arrowhead\": 0, \"arrowwidth\": 1}, \"autotypenumbers\": \"strict\", \"coloraxis\": {\"colorbar\": {\"outlinewidth\": 0, \"ticks\": \"\"}}, \"colorscale\": {\"diverging\": [[0, \"#8e0152\"], [0.1, \"#c51b7d\"], [0.2, \"#de77ae\"], [0.3, \"#f1b6da\"], [0.4, \"#fde0ef\"], [0.5, \"#f7f7f7\"], [0.6, \"#e6f5d0\"], [0.7, \"#b8e186\"], [0.8, \"#7fbc41\"], [0.9, \"#4d9221\"], [1, \"#276419\"]], \"sequential\": [[0.0, \"#0d0887\"], [0.1111111111111111, \"#46039f\"], [0.2222222222222222, \"#7201a8\"], [0.3333333333333333, \"#9c179e\"], [0.4444444444444444, \"#bd3786\"], [0.5555555555555556, \"#d8576b\"], [0.6666666666666666, \"#ed7953\"], [0.7777777777777778, \"#fb9f3a\"], [0.8888888888888888, \"#fdca26\"], [1.0, \"#f0f921\"]], \"sequentialminus\": [[0.0, \"#0d0887\"], [0.1111111111111111, \"#46039f\"], [0.2222222222222222, \"#7201a8\"], [0.3333333333333333, \"#9c179e\"], [0.4444444444444444, \"#bd3786\"], [0.5555555555555556, \"#d8576b\"], [0.6666666666666666, \"#ed7953\"], [0.7777777777777778, \"#fb9f3a\"], [0.8888888888888888, \"#fdca26\"], [1.0, \"#f0f921\"]]}, \"colorway\": [\"#636efa\", \"#EF553B\", \"#00cc96\", \"#ab63fa\", \"#FFA15A\", \"#19d3f3\", \"#FF6692\", \"#B6E880\", \"#FF97FF\", \"#FECB52\"], \"font\": {\"color\": \"#2a3f5f\"}, \"geo\": {\"bgcolor\": \"white\", \"lakecolor\": \"white\", \"landcolor\": \"#E5ECF6\", \"showlakes\": true, \"showland\": true, \"subunitcolor\": \"white\"}, \"hoverlabel\": {\"align\": \"left\"}, \"hovermode\": \"closest\", \"mapbox\": {\"style\": \"light\"}, \"paper_bgcolor\": \"white\", \"plot_bgcolor\": \"#E5ECF6\", \"polar\": {\"angularaxis\": {\"gridcolor\": \"white\", \"linecolor\": \"white\", \"ticks\": \"\"}, \"bgcolor\": \"#E5ECF6\", \"radialaxis\": {\"gridcolor\": \"white\", \"linecolor\": \"white\", \"ticks\": \"\"}}, \"scene\": {\"xaxis\": {\"backgroundcolor\": \"#E5ECF6\", \"gridcolor\": \"white\", \"gridwidth\": 2, \"linecolor\": \"white\", \"showbackground\": true, \"ticks\": \"\", \"zerolinecolor\": \"white\"}, \"yaxis\": {\"backgroundcolor\": \"#E5ECF6\", \"gridcolor\": \"white\", \"gridwidth\": 2, \"linecolor\": \"white\", \"showbackground\": true, \"ticks\": \"\", \"zerolinecolor\": \"white\"}, \"zaxis\": {\"backgroundcolor\": \"#E5ECF6\", \"gridcolor\": \"white\", \"gridwidth\": 2, \"linecolor\": \"white\", \"showbackground\": true, \"ticks\": \"\", \"zerolinecolor\": \"white\"}}, \"shapedefaults\": {\"line\": {\"color\": \"#2a3f5f\"}}, \"ternary\": {\"aaxis\": {\"gridcolor\": \"white\", \"linecolor\": \"white\", \"ticks\": \"\"}, \"baxis\": {\"gridcolor\": \"white\", \"linecolor\": \"white\", \"ticks\": \"\"}, \"bgcolor\": \"#E5ECF6\", \"caxis\": {\"gridcolor\": \"white\", \"linecolor\": \"white\", \"ticks\": \"\"}}, \"title\": {\"x\": 0.05}, \"xaxis\": {\"automargin\": true, \"gridcolor\": \"white\", \"linecolor\": \"white\", \"ticks\": \"\", \"title\": {\"standoff\": 15}, \"zerolinecolor\": \"white\", \"zerolinewidth\": 2}, \"yaxis\": {\"automargin\": true, \"gridcolor\": \"white\", \"linecolor\": \"white\", \"ticks\": \"\", \"title\": {\"standoff\": 15}, \"zerolinecolor\": \"white\", \"zerolinewidth\": 2}}}},                        {\"responsive\": true}                    ).then(function(){\n",
       "                            \n",
       "var gd = document.getElementById('db580632-691c-4a9f-acb6-36b382706bc2');\n",
       "var x = new MutationObserver(function (mutations, observer) {{\n",
       "        var display = window.getComputedStyle(gd).display;\n",
       "        if (!display || display === 'none') {{\n",
       "            console.log([gd, 'removed!']);\n",
       "            Plotly.purge(gd);\n",
       "            observer.disconnect();\n",
       "        }}\n",
       "}});\n",
       "\n",
       "// Listen for the removal of the full notebook cells\n",
       "var notebookContainer = gd.closest('#notebook-container');\n",
       "if (notebookContainer) {{\n",
       "    x.observe(notebookContainer, {childList: true});\n",
       "}}\n",
       "\n",
       "// Listen for the clearing of the current output cell\n",
       "var outputEl = gd.closest('.output');\n",
       "if (outputEl) {{\n",
       "    x.observe(outputEl, {childList: true});\n",
       "}}\n",
       "\n",
       "                        })                };                });            </script>        </div>"
      ]
     },
     "metadata": {},
     "output_type": "display_data"
    }
   ],
   "source": [
    "fig = px.scatter_mapbox(aMetagenomes_metadata, lat=\"latitude\", lon=\"longitude\", hover_name=\"geo_loc_name\",\n",
    "                        hover_data=['site_name'],\n",
    "                        color_discrete_sequence=[\"red\"], zoom=2, height=300)\n",
    "fig.update_layout(mapbox_style=\"open-street-map\")\n",
    "fig.update_layout(margin={\"r\":0,\"t\":0,\"l\":0,\"b\":0})\n",
    "fig.show()"
   ]
  },
  {
   "cell_type": "markdown",
   "metadata": {},
   "source": [
    "# PySPARK"
   ]
  },
  {
   "cell_type": "code",
   "execution_count": 102,
   "metadata": {},
   "outputs": [],
   "source": [
    "# Define session\n",
    "#The following line should be run if the last session was not closed\n",
    "sc.stop()\n",
    "conf = SparkConf().setAll([(\"spark.executors\", \"5\"),(\"spark.executors.memory\",\"90g\"),\\\n",
    "(\"spark.executor.cores\",\"5\"),(\"spark.driver.memory\",\"8000g\"),(\"spark.local.dir\",\"/pasteur/sonic/scratch/public/cduitama/RascovanProject/tmp/\")])\n",
    "sc = SparkContext(conf=conf)\n",
    "spark = SQLContext(sc)"
   ]
  },
  {
   "cell_type": "code",
   "execution_count": 104,
   "metadata": {},
   "outputs": [
    {
     "name": "stdout",
     "output_type": "stream",
     "text": [
      "Spark version is 3.1.1\n"
     ]
    }
   ],
   "source": [
    "print(\"Spark version is \"+ sc.version)"
   ]
  },
  {
   "cell_type": "code",
   "execution_count": 105,
   "metadata": {},
   "outputs": [
    {
     "data": {
      "text/plain": [
       "[('spark.executors.memory', '90g'),\n",
       " ('spark.executor.cores', '5'),\n",
       " ('spark.driver.host', 'maestro-2499.maestro.pasteur.fr'),\n",
       " ('spark.executors', '5'),\n",
       " ('spark.executor.id', 'driver'),\n",
       " ('spark.app.name', 'pyspark-shell'),\n",
       " ('spark.local.dir',\n",
       "  '/pasteur/sonic/scratch/public/cduitama/RascovanProject/tmp/'),\n",
       " ('spark.rdd.compress', 'True'),\n",
       " ('spark.driver.memory', '8000g'),\n",
       " ('spark.serializer.objectStreamReset', '100'),\n",
       " ('spark.master', 'local[*]'),\n",
       " ('spark.submit.pyFiles', ''),\n",
       " ('spark.driver.port', '44285'),\n",
       " ('spark.submit.deployMode', 'client'),\n",
       " ('spark.app.startTime', '1614776631746'),\n",
       " ('spark.app.id', 'local-1614776631809'),\n",
       " ('spark.ui.showConsoleProgress', 'true')]"
      ]
     },
     "execution_count": 105,
     "metadata": {},
     "output_type": "execute_result"
    }
   ],
   "source": [
    "#What is the actual configuration of the session\n",
    "sc.getConf().getAll()"
   ]
  },
  {
   "cell_type": "code",
   "execution_count": 106,
   "metadata": {},
   "outputs": [],
   "source": [
    "schema = StructType([ \\\n",
    "    StructField(\"Kmer\",StringType(),True)])\n",
    "for each in list(SRR_aMetagenomes.SRR_accession):\n",
    "    schema.add(each,IntegerType(),True)"
   ]
  },
  {
   "cell_type": "code",
   "execution_count": 107,
   "metadata": {},
   "outputs": [],
   "source": [
    "aMetagenomes=spark.read.csv(\"kmMatrices/aMetagenomes/whole_aMetagenomes_kmMatrix.txt\",header=False, sep=\" \",schema=schema)"
   ]
  },
  {
   "cell_type": "code",
   "execution_count": 108,
   "metadata": {},
   "outputs": [],
   "source": [
    "aMetagenomes.createTempView(\"aMetagenomes\")"
   ]
  },
  {
   "cell_type": "code",
   "execution_count": 109,
   "metadata": {},
   "outputs": [
    {
     "data": {
      "text/plain": [
       "['SRR957738',\n",
       " 'SRR957739',\n",
       " 'SRR957740',\n",
       " 'SRR957741',\n",
       " 'SRR957742',\n",
       " 'SRR957743',\n",
       " 'SRR957744',\n",
       " 'SRR957745',\n",
       " 'SRR957746']"
      ]
     },
     "execution_count": 109,
     "metadata": {},
     "output_type": "execute_result"
    }
   ],
   "source": [
    "aMetagenomes.columns[1:10]"
   ]
  },
  {
   "cell_type": "code",
   "execution_count": 110,
   "metadata": {},
   "outputs": [],
   "source": [
    "colnames=[\"Kmer\"]+list(SRR_aMetagenomes.SRR_accession)"
   ]
  },
  {
   "cell_type": "code",
   "execution_count": 111,
   "metadata": {},
   "outputs": [
    {
     "data": {
      "text/plain": [
       "['SRR957738',\n",
       " 'SRR957739',\n",
       " 'SRR957740',\n",
       " 'SRR957741',\n",
       " 'SRR957742',\n",
       " 'SRR957743',\n",
       " 'SRR957744',\n",
       " 'SRR957745',\n",
       " 'SRR957746']"
      ]
     },
     "execution_count": 111,
     "metadata": {},
     "output_type": "execute_result"
    }
   ],
   "source": [
    "aMetagenomes=aMetagenomes.toDF(*colnames)\n",
    "aMetagenomes.columns[1:10]"
   ]
  },
  {
   "cell_type": "code",
   "execution_count": 112,
   "metadata": {},
   "outputs": [
    {
     "data": {
      "text/html": [
       "<div>\n",
       "<style scoped>\n",
       "    .dataframe tbody tr th:only-of-type {\n",
       "        vertical-align: middle;\n",
       "    }\n",
       "\n",
       "    .dataframe tbody tr th {\n",
       "        vertical-align: top;\n",
       "    }\n",
       "\n",
       "    .dataframe thead th {\n",
       "        text-align: right;\n",
       "    }\n",
       "</style>\n",
       "<table border=\"1\" class=\"dataframe\">\n",
       "  <thead>\n",
       "    <tr style=\"text-align: right;\">\n",
       "      <th></th>\n",
       "      <th>Kmer</th>\n",
       "      <th>SRR957738</th>\n",
       "      <th>SRR957739</th>\n",
       "      <th>SRR957740</th>\n",
       "      <th>SRR957741</th>\n",
       "      <th>SRR957742</th>\n",
       "      <th>SRR957743</th>\n",
       "      <th>SRR957744</th>\n",
       "      <th>SRR957745</th>\n",
       "      <th>SRR957746</th>\n",
       "      <th>...</th>\n",
       "      <th>SRR5047099</th>\n",
       "      <th>SRR5047084</th>\n",
       "      <th>SRR5047171</th>\n",
       "      <th>SRR5047158</th>\n",
       "      <th>SRR5047135</th>\n",
       "      <th>SRR5047202</th>\n",
       "      <th>SRR5047105</th>\n",
       "      <th>SRR5047103</th>\n",
       "      <th>SRR5047142</th>\n",
       "      <th>SRR5047064</th>\n",
       "    </tr>\n",
       "  </thead>\n",
       "  <tbody>\n",
       "    <tr>\n",
       "      <th>0</th>\n",
       "      <td>AAAAAAAAAAAAGAGCACAC</td>\n",
       "      <td>0</td>\n",
       "      <td>0</td>\n",
       "      <td>0</td>\n",
       "      <td>0</td>\n",
       "      <td>0</td>\n",
       "      <td>0</td>\n",
       "      <td>0</td>\n",
       "      <td>0</td>\n",
       "      <td>0</td>\n",
       "      <td>...</td>\n",
       "      <td>0</td>\n",
       "      <td>0</td>\n",
       "      <td>0</td>\n",
       "      <td>0</td>\n",
       "      <td>0</td>\n",
       "      <td>0</td>\n",
       "      <td>0</td>\n",
       "      <td>0</td>\n",
       "      <td>0</td>\n",
       "      <td>0</td>\n",
       "    </tr>\n",
       "    <tr>\n",
       "      <th>1</th>\n",
       "      <td>AAAAAAAAAAAGAGCACACA</td>\n",
       "      <td>0</td>\n",
       "      <td>0</td>\n",
       "      <td>0</td>\n",
       "      <td>0</td>\n",
       "      <td>0</td>\n",
       "      <td>0</td>\n",
       "      <td>0</td>\n",
       "      <td>0</td>\n",
       "      <td>0</td>\n",
       "      <td>...</td>\n",
       "      <td>0</td>\n",
       "      <td>0</td>\n",
       "      <td>0</td>\n",
       "      <td>0</td>\n",
       "      <td>0</td>\n",
       "      <td>0</td>\n",
       "      <td>0</td>\n",
       "      <td>0</td>\n",
       "      <td>0</td>\n",
       "      <td>0</td>\n",
       "    </tr>\n",
       "    <tr>\n",
       "      <th>2</th>\n",
       "      <td>AAAAAAAAAAAGAGCACACC</td>\n",
       "      <td>0</td>\n",
       "      <td>0</td>\n",
       "      <td>0</td>\n",
       "      <td>0</td>\n",
       "      <td>0</td>\n",
       "      <td>0</td>\n",
       "      <td>0</td>\n",
       "      <td>0</td>\n",
       "      <td>0</td>\n",
       "      <td>...</td>\n",
       "      <td>0</td>\n",
       "      <td>0</td>\n",
       "      <td>0</td>\n",
       "      <td>0</td>\n",
       "      <td>0</td>\n",
       "      <td>0</td>\n",
       "      <td>0</td>\n",
       "      <td>0</td>\n",
       "      <td>0</td>\n",
       "      <td>0</td>\n",
       "    </tr>\n",
       "    <tr>\n",
       "      <th>3</th>\n",
       "      <td>AAAAAAAAAAAGAGCACACT</td>\n",
       "      <td>0</td>\n",
       "      <td>0</td>\n",
       "      <td>0</td>\n",
       "      <td>0</td>\n",
       "      <td>0</td>\n",
       "      <td>0</td>\n",
       "      <td>0</td>\n",
       "      <td>0</td>\n",
       "      <td>0</td>\n",
       "      <td>...</td>\n",
       "      <td>0</td>\n",
       "      <td>0</td>\n",
       "      <td>0</td>\n",
       "      <td>0</td>\n",
       "      <td>0</td>\n",
       "      <td>0</td>\n",
       "      <td>0</td>\n",
       "      <td>0</td>\n",
       "      <td>0</td>\n",
       "      <td>0</td>\n",
       "    </tr>\n",
       "    <tr>\n",
       "      <th>4</th>\n",
       "      <td>AAAAAAAAAAAGAGCACACG</td>\n",
       "      <td>0</td>\n",
       "      <td>0</td>\n",
       "      <td>0</td>\n",
       "      <td>0</td>\n",
       "      <td>0</td>\n",
       "      <td>0</td>\n",
       "      <td>0</td>\n",
       "      <td>0</td>\n",
       "      <td>0</td>\n",
       "      <td>...</td>\n",
       "      <td>0</td>\n",
       "      <td>0</td>\n",
       "      <td>0</td>\n",
       "      <td>0</td>\n",
       "      <td>0</td>\n",
       "      <td>0</td>\n",
       "      <td>0</td>\n",
       "      <td>0</td>\n",
       "      <td>0</td>\n",
       "      <td>0</td>\n",
       "    </tr>\n",
       "  </tbody>\n",
       "</table>\n",
       "<p>5 rows × 448 columns</p>\n",
       "</div>"
      ],
      "text/plain": [
       "                   Kmer  SRR957738  SRR957739  SRR957740  SRR957741  \\\n",
       "0  AAAAAAAAAAAAGAGCACAC          0          0          0          0   \n",
       "1  AAAAAAAAAAAGAGCACACA          0          0          0          0   \n",
       "2  AAAAAAAAAAAGAGCACACC          0          0          0          0   \n",
       "3  AAAAAAAAAAAGAGCACACT          0          0          0          0   \n",
       "4  AAAAAAAAAAAGAGCACACG          0          0          0          0   \n",
       "\n",
       "   SRR957742  SRR957743  SRR957744  SRR957745  SRR957746  ...  SRR5047099  \\\n",
       "0          0          0          0          0          0  ...           0   \n",
       "1          0          0          0          0          0  ...           0   \n",
       "2          0          0          0          0          0  ...           0   \n",
       "3          0          0          0          0          0  ...           0   \n",
       "4          0          0          0          0          0  ...           0   \n",
       "\n",
       "   SRR5047084  SRR5047171  SRR5047158  SRR5047135  SRR5047202  SRR5047105  \\\n",
       "0           0           0           0           0           0           0   \n",
       "1           0           0           0           0           0           0   \n",
       "2           0           0           0           0           0           0   \n",
       "3           0           0           0           0           0           0   \n",
       "4           0           0           0           0           0           0   \n",
       "\n",
       "   SRR5047103  SRR5047142  SRR5047064  \n",
       "0           0           0           0  \n",
       "1           0           0           0  \n",
       "2           0           0           0  \n",
       "3           0           0           0  \n",
       "4           0           0           0  \n",
       "\n",
       "[5 rows x 448 columns]"
      ]
     },
     "execution_count": 112,
     "metadata": {},
     "output_type": "execute_result"
    }
   ],
   "source": [
    "aMetagenomes.limit(5).toPandas()\n"
   ]
  },
  {
   "cell_type": "code",
   "execution_count": 113,
   "metadata": {},
   "outputs": [
    {
     "data": {
      "text/plain": [
       "'AAAAAAAAAAAGAGCACACA'"
      ]
     },
     "execution_count": 113,
     "metadata": {},
     "output_type": "execute_result"
    }
   ],
   "source": [
    "aMetagenomes.limit(5).toPandas()[\"Kmer\"][1]"
   ]
  },
  {
   "cell_type": "code",
   "execution_count": 114,
   "metadata": {},
   "outputs": [],
   "source": [
    "#Here I am selecting only the Oral samples from Homo sapiens"
   ]
  },
  {
   "cell_type": "code",
   "execution_count": 115,
   "metadata": {},
   "outputs": [],
   "source": [
    "HS_Oral=aMetagenomes_metadata[(aMetagenomes_metadata[\"sample_host\"]==\"Homo sapiens\")\\\n",
    "                                  & (aMetagenomes_metadata[\"community_type\"]==\"oral\")]"
   ]
  },
  {
   "cell_type": "code",
   "execution_count": 116,
   "metadata": {},
   "outputs": [],
   "source": [
    "SRR_HS_Oral=[\"Kmer\"]+list(HS_Oral[\"SRR_accession\"])"
   ]
  },
  {
   "cell_type": "code",
   "execution_count": 117,
   "metadata": {},
   "outputs": [],
   "source": [
    "HS_Oral_kmMatrix=aMetagenomes.select(*SRR_HS_Oral).cache()"
   ]
  },
  {
   "cell_type": "code",
   "execution_count": 118,
   "metadata": {},
   "outputs": [],
   "source": [
    "HS_Oral_kmMatrix.createTempView(\"HS_Oral_kmMatrix\")"
   ]
  },
  {
   "cell_type": "code",
   "execution_count": 119,
   "metadata": {},
   "outputs": [
    {
     "data": {
      "text/html": [
       "<div>\n",
       "<style scoped>\n",
       "    .dataframe tbody tr th:only-of-type {\n",
       "        vertical-align: middle;\n",
       "    }\n",
       "\n",
       "    .dataframe tbody tr th {\n",
       "        vertical-align: top;\n",
       "    }\n",
       "\n",
       "    .dataframe thead th {\n",
       "        text-align: right;\n",
       "    }\n",
       "</style>\n",
       "<table border=\"1\" class=\"dataframe\">\n",
       "  <thead>\n",
       "    <tr style=\"text-align: right;\">\n",
       "      <th></th>\n",
       "      <th>Kmer</th>\n",
       "      <th>SRR957738</th>\n",
       "      <th>SRR957739</th>\n",
       "      <th>SRR957740</th>\n",
       "      <th>SRR957741</th>\n",
       "      <th>SRR957742</th>\n",
       "      <th>SRR957743</th>\n",
       "      <th>SRR957744</th>\n",
       "      <th>SRR957745</th>\n",
       "      <th>SRR957746</th>\n",
       "      <th>...</th>\n",
       "      <th>SRR5047099</th>\n",
       "      <th>SRR5047084</th>\n",
       "      <th>SRR5047171</th>\n",
       "      <th>SRR5047158</th>\n",
       "      <th>SRR5047135</th>\n",
       "      <th>SRR5047202</th>\n",
       "      <th>SRR5047105</th>\n",
       "      <th>SRR5047103</th>\n",
       "      <th>SRR5047142</th>\n",
       "      <th>SRR5047064</th>\n",
       "    </tr>\n",
       "  </thead>\n",
       "  <tbody>\n",
       "    <tr>\n",
       "      <th>0</th>\n",
       "      <td>AAAAAAAAAAAAGAGCACAC</td>\n",
       "      <td>0</td>\n",
       "      <td>0</td>\n",
       "      <td>0</td>\n",
       "      <td>0</td>\n",
       "      <td>0</td>\n",
       "      <td>0</td>\n",
       "      <td>0</td>\n",
       "      <td>0</td>\n",
       "      <td>0</td>\n",
       "      <td>...</td>\n",
       "      <td>0</td>\n",
       "      <td>0</td>\n",
       "      <td>0</td>\n",
       "      <td>0</td>\n",
       "      <td>0</td>\n",
       "      <td>0</td>\n",
       "      <td>0</td>\n",
       "      <td>0</td>\n",
       "      <td>0</td>\n",
       "      <td>0</td>\n",
       "    </tr>\n",
       "    <tr>\n",
       "      <th>1</th>\n",
       "      <td>AAAAAAAAAAAGAGCACACA</td>\n",
       "      <td>0</td>\n",
       "      <td>0</td>\n",
       "      <td>0</td>\n",
       "      <td>0</td>\n",
       "      <td>0</td>\n",
       "      <td>0</td>\n",
       "      <td>0</td>\n",
       "      <td>0</td>\n",
       "      <td>0</td>\n",
       "      <td>...</td>\n",
       "      <td>0</td>\n",
       "      <td>0</td>\n",
       "      <td>0</td>\n",
       "      <td>0</td>\n",
       "      <td>0</td>\n",
       "      <td>0</td>\n",
       "      <td>0</td>\n",
       "      <td>0</td>\n",
       "      <td>0</td>\n",
       "      <td>0</td>\n",
       "    </tr>\n",
       "    <tr>\n",
       "      <th>2</th>\n",
       "      <td>AAAAAAAAAAAGAGCACACC</td>\n",
       "      <td>0</td>\n",
       "      <td>0</td>\n",
       "      <td>0</td>\n",
       "      <td>0</td>\n",
       "      <td>0</td>\n",
       "      <td>0</td>\n",
       "      <td>0</td>\n",
       "      <td>0</td>\n",
       "      <td>0</td>\n",
       "      <td>...</td>\n",
       "      <td>0</td>\n",
       "      <td>0</td>\n",
       "      <td>0</td>\n",
       "      <td>0</td>\n",
       "      <td>0</td>\n",
       "      <td>0</td>\n",
       "      <td>0</td>\n",
       "      <td>0</td>\n",
       "      <td>0</td>\n",
       "      <td>0</td>\n",
       "    </tr>\n",
       "    <tr>\n",
       "      <th>3</th>\n",
       "      <td>AAAAAAAAAAAGAGCACACT</td>\n",
       "      <td>0</td>\n",
       "      <td>0</td>\n",
       "      <td>0</td>\n",
       "      <td>0</td>\n",
       "      <td>0</td>\n",
       "      <td>0</td>\n",
       "      <td>0</td>\n",
       "      <td>0</td>\n",
       "      <td>0</td>\n",
       "      <td>...</td>\n",
       "      <td>0</td>\n",
       "      <td>0</td>\n",
       "      <td>0</td>\n",
       "      <td>0</td>\n",
       "      <td>0</td>\n",
       "      <td>0</td>\n",
       "      <td>0</td>\n",
       "      <td>0</td>\n",
       "      <td>0</td>\n",
       "      <td>0</td>\n",
       "    </tr>\n",
       "    <tr>\n",
       "      <th>4</th>\n",
       "      <td>AAAAAAAAAAAGAGCACACG</td>\n",
       "      <td>0</td>\n",
       "      <td>0</td>\n",
       "      <td>0</td>\n",
       "      <td>0</td>\n",
       "      <td>0</td>\n",
       "      <td>0</td>\n",
       "      <td>0</td>\n",
       "      <td>0</td>\n",
       "      <td>0</td>\n",
       "      <td>...</td>\n",
       "      <td>0</td>\n",
       "      <td>0</td>\n",
       "      <td>0</td>\n",
       "      <td>0</td>\n",
       "      <td>0</td>\n",
       "      <td>0</td>\n",
       "      <td>0</td>\n",
       "      <td>0</td>\n",
       "      <td>0</td>\n",
       "      <td>0</td>\n",
       "    </tr>\n",
       "  </tbody>\n",
       "</table>\n",
       "<p>5 rows × 282 columns</p>\n",
       "</div>"
      ],
      "text/plain": [
       "                   Kmer  SRR957738  SRR957739  SRR957740  SRR957741  \\\n",
       "0  AAAAAAAAAAAAGAGCACAC          0          0          0          0   \n",
       "1  AAAAAAAAAAAGAGCACACA          0          0          0          0   \n",
       "2  AAAAAAAAAAAGAGCACACC          0          0          0          0   \n",
       "3  AAAAAAAAAAAGAGCACACT          0          0          0          0   \n",
       "4  AAAAAAAAAAAGAGCACACG          0          0          0          0   \n",
       "\n",
       "   SRR957742  SRR957743  SRR957744  SRR957745  SRR957746  ...  SRR5047099  \\\n",
       "0          0          0          0          0          0  ...           0   \n",
       "1          0          0          0          0          0  ...           0   \n",
       "2          0          0          0          0          0  ...           0   \n",
       "3          0          0          0          0          0  ...           0   \n",
       "4          0          0          0          0          0  ...           0   \n",
       "\n",
       "   SRR5047084  SRR5047171  SRR5047158  SRR5047135  SRR5047202  SRR5047105  \\\n",
       "0           0           0           0           0           0           0   \n",
       "1           0           0           0           0           0           0   \n",
       "2           0           0           0           0           0           0   \n",
       "3           0           0           0           0           0           0   \n",
       "4           0           0           0           0           0           0   \n",
       "\n",
       "   SRR5047103  SRR5047142  SRR5047064  \n",
       "0           0           0           0  \n",
       "1           0           0           0  \n",
       "2           0           0           0  \n",
       "3           0           0           0  \n",
       "4           0           0           0  \n",
       "\n",
       "[5 rows x 282 columns]"
      ]
     },
     "execution_count": 119,
     "metadata": {},
     "output_type": "execute_result"
    }
   ],
   "source": [
    "#This is how the matrix of oral human samples looks like, we are left with 282 samples\n",
    "HS_Oral_kmMatrix.limit(5).toPandas()"
   ]
  },
  {
   "cell_type": "code",
   "execution_count": 120,
   "metadata": {},
   "outputs": [],
   "source": [
    "condition=str()\n",
    "for each in list(HS_Oral.SRR_accession):\n",
    "    condition=condition+ each +\" != 0 and \"\n",
    "condition=condition[:-4]"
   ]
  },
  {
   "cell_type": "code",
   "execution_count": 121,
   "metadata": {},
   "outputs": [],
   "source": [
    "#Create a dummie DF to try the commands before running them\n",
    "dummie=HS_Oral_kmMatrix.limit(100).cache()\n",
    "dummie.createOrReplaceTempView(\"dummie\")\n",
    "df2 = spark.sql(\"SELECT * FROM dummie WHERE \"+condition).cache()\n"
   ]
  },
  {
   "cell_type": "code",
   "execution_count": 122,
   "metadata": {},
   "outputs": [],
   "source": [
    "#This line is supposed to filter the rows of the human oral dataset where every entry is zero\n",
    "HS_Oral_nozeroes = spark.sql(\"SELECT * FROM HS_Oral_kmMatrix WHERE \"+condition).cache()"
   ]
  },
  {
   "cell_type": "code",
   "execution_count": 123,
   "metadata": {},
   "outputs": [],
   "source": [
    "HS_Oral_nozeroes.createOrReplaceTempView(\"HS_Oral_nozeroes\")"
   ]
  },
  {
   "cell_type": "code",
   "execution_count": 124,
   "metadata": {},
   "outputs": [
    {
     "name": "stdout",
     "output_type": "stream",
     "text": [
      "+--------------------+\n",
      "|                Kmer|\n",
      "+--------------------+\n",
      "|AAAAAAAAAAAAGAGCACAC|\n",
      "|AAAAAAAAAAAGAGCACACA|\n",
      "|AAAAAAAAAAAGAGCACACC|\n",
      "|AAAAAAAAAAAGAGCACACT|\n",
      "|AAAAAAAAAAAGAGCACACG|\n",
      "|AAAAAAAAAAGAGCACACAA|\n",
      "|AAAAAAAAAAGAGCACACAC|\n",
      "|AAAAAAAAAAGAGCACACAT|\n",
      "|AAAAAAAAAAGAGCACACAG|\n",
      "|AAAAAAAAAAGAGCACACCA|\n",
      "+--------------------+\n",
      "only showing top 10 rows\n",
      "\n"
     ]
    }
   ],
   "source": [
    "HS_Oral_kmMatrix.select(HS_Oral_kmMatrix['Kmer']).show(10)"
   ]
  },
  {
   "cell_type": "markdown",
   "metadata": {},
   "source": [
    "## Prepare feature matrix for MLlib"
   ]
  },
  {
   "cell_type": "code",
   "execution_count": 96,
   "metadata": {},
   "outputs": [],
   "source": [
    "aMetagenomes.unpersist();\n",
    "HS_Oral_kmMatrix.unpersist();"
   ]
  },
  {
   "cell_type": "code",
   "execution_count": null,
   "metadata": {},
   "outputs": [],
   "source": [
    "ML_input="
   ]
  },
  {
   "cell_type": "code",
   "execution_count": 125,
   "metadata": {},
   "outputs": [],
   "source": [
    "df = spark.createDataFrame([(Vectors.dense([6.0, 7.0, 0.0, 7.0, 6.0, 0.0]),),\\\n",
    "                            (Vectors.dense([0.0, 9.0, 6.0, 0.0, 5.0, 9.0]),),\\\n",
    "                            (Vectors.dense([0.0, 9.0, 3.0, 0.0, 5.0, 5.0]),),\\\n",
    "                            (Vectors.dense([0.0, 9.0, 8.0, 5.0, 6.0, 4.0]),),\\\n",
    "                            (Vectors.dense([8.0, 9.0, 6.0, 5.0, 4.0, 4.0]),),\\\n",
    "                            (Vectors.dense([8.0, 9.0, 6.0, 0.0, 0.0, 0.0]),)],\\\n",
    "                           [\"features\"])"
   ]
  },
  {
   "cell_type": "code",
   "execution_count": 129,
   "metadata": {},
   "outputs": [
    {
     "data": {
      "text/html": [
       "<div>\n",
       "<style scoped>\n",
       "    .dataframe tbody tr th:only-of-type {\n",
       "        vertical-align: middle;\n",
       "    }\n",
       "\n",
       "    .dataframe tbody tr th {\n",
       "        vertical-align: top;\n",
       "    }\n",
       "\n",
       "    .dataframe thead th {\n",
       "        text-align: right;\n",
       "    }\n",
       "</style>\n",
       "<table border=\"1\" class=\"dataframe\">\n",
       "  <thead>\n",
       "    <tr style=\"text-align: right;\">\n",
       "      <th></th>\n",
       "      <th>features</th>\n",
       "    </tr>\n",
       "  </thead>\n",
       "  <tbody>\n",
       "    <tr>\n",
       "      <th>0</th>\n",
       "      <td>[6.0, 7.0, 0.0, 7.0, 6.0, 0.0]</td>\n",
       "    </tr>\n",
       "    <tr>\n",
       "      <th>1</th>\n",
       "      <td>[0.0, 9.0, 6.0, 0.0, 5.0, 9.0]</td>\n",
       "    </tr>\n",
       "    <tr>\n",
       "      <th>2</th>\n",
       "      <td>[0.0, 9.0, 3.0, 0.0, 5.0, 5.0]</td>\n",
       "    </tr>\n",
       "    <tr>\n",
       "      <th>3</th>\n",
       "      <td>[0.0, 9.0, 8.0, 5.0, 6.0, 4.0]</td>\n",
       "    </tr>\n",
       "    <tr>\n",
       "      <th>4</th>\n",
       "      <td>[8.0, 9.0, 6.0, 5.0, 4.0, 4.0]</td>\n",
       "    </tr>\n",
       "    <tr>\n",
       "      <th>5</th>\n",
       "      <td>[8.0, 9.0, 6.0, 0.0, 0.0, 0.0]</td>\n",
       "    </tr>\n",
       "  </tbody>\n",
       "</table>\n",
       "</div>"
      ],
      "text/plain": [
       "                         features\n",
       "0  [6.0, 7.0, 0.0, 7.0, 6.0, 0.0]\n",
       "1  [0.0, 9.0, 6.0, 0.0, 5.0, 9.0]\n",
       "2  [0.0, 9.0, 3.0, 0.0, 5.0, 5.0]\n",
       "3  [0.0, 9.0, 8.0, 5.0, 6.0, 4.0]\n",
       "4  [8.0, 9.0, 6.0, 5.0, 4.0, 4.0]\n",
       "5  [8.0, 9.0, 6.0, 0.0, 0.0, 0.0]"
      ]
     },
     "execution_count": 129,
     "metadata": {},
     "output_type": "execute_result"
    }
   ],
   "source": [
    "df.toPandas()"
   ]
  },
  {
   "cell_type": "code",
   "execution_count": 126,
   "metadata": {},
   "outputs": [
    {
     "name": "stdout",
     "output_type": "stream",
     "text": [
      "Output: Features with variance lower than 8.000000 are removed.\n",
      "+--------------------+-----------------+\n",
      "|            features| selectedFeatures|\n",
      "+--------------------+-----------------+\n",
      "|[6.0,7.0,0.0,7.0,...|[6.0,0.0,7.0,0.0]|\n",
      "|[0.0,9.0,6.0,0.0,...|[0.0,6.0,0.0,9.0]|\n",
      "|[0.0,9.0,3.0,0.0,...|[0.0,3.0,0.0,5.0]|\n",
      "|[0.0,9.0,8.0,5.0,...|[0.0,8.0,5.0,4.0]|\n",
      "|[8.0,9.0,6.0,5.0,...|[8.0,6.0,5.0,4.0]|\n",
      "|[8.0,9.0,6.0,0.0,...|[8.0,6.0,0.0,0.0]|\n",
      "+--------------------+-----------------+\n",
      "\n"
     ]
    }
   ],
   "source": [
    "#Try variance threshold feature selection (k-mers with variance below a certain threshold are eliminated)\n",
    "\n",
    "\n",
    "selector = VarianceThresholdSelector(varianceThreshold=8.0, outputCol=\"selectedFeatures\")\n",
    "\n",
    "result = selector.fit(df).transform(df)\n",
    "\n",
    "print(\"Output: Features with variance lower than %f are removed.\" %\n",
    "      selector.getVarianceThreshold())\n",
    "result.show()\n"
   ]
  },
  {
   "cell_type": "markdown",
   "metadata": {},
   "source": [
    "## Export output as html"
   ]
  },
  {
   "cell_type": "code",
   "execution_count": null,
   "metadata": {},
   "outputs": [],
   "source": [
    "import os\n",
    "\n",
    "os.system('jupyter nbconvert --to html Preprocessing.ipynb')"
   ]
  }
 ],
 "metadata": {
  "kernelspec": {
   "display_name": "Python 3",
   "language": "python",
   "name": "python3"
  },
  "language_info": {
   "codemirror_mode": {
    "name": "ipython",
    "version": 3
   },
   "file_extension": ".py",
   "mimetype": "text/x-python",
   "name": "python",
   "nbconvert_exporter": "python",
   "pygments_lexer": "ipython3",
   "version": "3.8.5"
  }
 },
 "nbformat": 4,
 "nbformat_minor": 4
}
