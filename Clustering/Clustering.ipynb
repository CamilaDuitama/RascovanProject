version https://git-lfs.github.com/spec/v1
oid sha256:99659d487561e529b81b80169f86ebc72d0090a742caca936f7905dc898ef0e6
size 14668707
